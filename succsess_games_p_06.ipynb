{
 "cells": [
  {
   "cell_type": "markdown",
   "metadata": {},
   "source": [
    "# Проект: определение факторов успешности компьютерных игр.\n",
    "\n",
    "Вы работаете в интернет-магазине «Стримчик», который продаёт по всему миру компьютерные игры. Из открытых источников доступны исторические данные о продажах игр, оценки пользователей и экспертов, жанры и платформы (например, Xbox или PlayStation). Вам нужно выявить определяющие успешность игры закономерности. Это позволит сделать ставку на потенциально популярный продукт и спланировать рекламные кампании. Перед вами данные до 2016 года. "
   ]
  },
  {
   "cell_type": "markdown",
   "metadata": {},
   "source": [
    "Перед вами данные до 2016 года. Представим, что сейчас декабрь 2016 г., и вы планируете кампанию на 2017-й. Нужно отработать принцип работы с данными. Неважно, прогнозируете ли вы продажи на 2017 год по данным 2016-го или же 2027-й — по данным 2026 года.\n",
    "В наборе данных попадается аббревиатура ESRB (Entertainment Software Rating Board) — это ассоциация, определяющая возрастной рейтинг компьютерных игр. ESRB оценивает игровой контент и присваивает ему подходящую возрастную категорию, например, «Для взрослых», «Для детей младшего возраста» или «Для подростков». Данные за 2016 год могут быть неполными."
   ]
  },
  {
   "cell_type": "markdown",
   "metadata": {},
   "source": [
    "# Описание данных\n",
    "\n",
    "Данные находятся в файле '/datasets/games.csv'."
   ]
  },
  {
   "cell_type": "markdown",
   "metadata": {},
   "source": [
    "Признаки:\n",
    "- Name — название игры\n",
    "- Platform — платформа\n",
    "- Year_of_Release — год выпуска\n",
    "- Genre — жанр игры\n",
    "- NA_sales — продажи в Северной Америке (миллионы проданных копий)\n",
    "- EU_sales — продажи в Европе (миллионы проданных копий)\n",
    "- JP_sales — продажи в Японии (миллионы проданных копий)\n",
    "- Other_sales — продажи в других странах (миллионы проданных копий)\n",
    "- Critic_Score — оценка критиков (максимум 100)\n",
    "- User_Score — оценка пользователей (максимум 10)\n",
    "- Rating — рейтинг от организации ESRB (англ. Entertainment Software Rating Board). Эта ассоциация определяет рейтинг компьютерных игр и присваивает им подходящую возрастную категорию.\n",
    "\n",
    "\n",
    "- важно: данные за 2016 год могут быть неполными."
   ]
  },
  {
   "cell_type": "markdown",
   "metadata": {},
   "source": [
    "# План работы\n",
    "\n",
    "- Загрузить, изучить и подготовить данные для анализа\n",
    "- Провести исследовательский анализ данных\n",
    "- Составить портрет пользователя каждого региона\n",
    "- Проверить две гипеотезы\n",
    "- Сформировать промежуточные и общий выводы"
   ]
  },
  {
   "cell_type": "markdown",
   "metadata": {},
   "source": [
    "## Изучение данных"
   ]
  },
  {
   "cell_type": "code",
   "execution_count": 1,
   "metadata": {},
   "outputs": [],
   "source": [
    "#импортируем необходимые модули для работы\n",
    "import pandas as pd\n",
    "from scipy import stats as st\n",
    "import numpy as np\n",
    "import matplotlib.pyplot as plt\n",
    "import seaborn as sns\n",
    "import warnings\n",
    "\n",
    "# отключаем предупреждения, так как они не влияют на работу, а отвлекают\n",
    "warnings.filterwarnings('ignore')"
   ]
  },
  {
   "cell_type": "code",
   "execution_count": null,
   "metadata": {},
   "outputs": [],
   "source": [
    "# загружаем данные либо с локального диска, либо с сервера\n",
    "try:\n",
    "    df = pd.read_csv('С://Users//HOMMANDER//Documents//games.csv')  # Локальный путь\n",
    "except:\n",
    "    df = pd.read_csv('/datasets/games.csv')  # Серверный путь"
   ]
  },
  {
   "cell_type": "code",
   "execution_count": null,
   "metadata": {},
   "outputs": [],
   "source": [
    "display(games.info())"
   ]
  },
  {
   "cell_type": "markdown",
   "metadata": {},
   "source": [
    "### Вывод \n",
    "1. Присутствует два пропуска в полях Name и Genre, скорее всего в одних и тех же строках. Их проще удалить.\n",
    "2. 250 пропусков в колонке Year_of_Release как вариант вытащить дату из названия игры, либо загрузить из интернет, остальное удалить. Любая расчетная замена сильно исказит данные, оставить пустоты нельзя, та как на данных этой колонки завязаны многие расчты, поэтом в крайнем случае придется удалить. У этой колонки также необходимо изменить тип даных на целочисленный.\n",
    "3. Critic_Score большой количество пропусков по неизвестной причине. Возможно в ранние годы статистика не собиралась, возможно у источника информации не было достоверных сведений по этому показателю, так как рейтинг не является ни обязательным, ни централизованным неудивительно, что многие игры такого рейтинга не имеют. В базовом датафрейме лучше оставить как есть. При необходимости нужно выделить срез с присутствующими данными и работать с ним отдельно.\n",
    "4. User_Score в колонке также большое количество пропусков, работаем с ним аналогично предыдущему, кроме того присутствует такой показатель как tbd - To Be Determined, то есть \"Будет определено\". Обозначающий неясность, не определенность в настоящий момент. Таких строк всего 12. Я предполагаю как и обычные пропуски не включать строки с tbd в срез для анализа, а данные из колонки перевести в формат float, предварительно удалив оттуда tbd. \n",
    "5. Rating - ESRB колонка имеет также большое число пропусков. Причин несколько а) Часть игр вышла до начала использования этого рейтинга б) Рейтинг не является обязательным в)Рейтинг изначально развивался в США и Канаде поэтому игры распространяеме в других регионах его не используют. Рейтинг качественный, не числовой и само отсутствие рейтинга также информация для анализа, поэтому пропуски лучше заполнить, например строкой 'not_rating'.\n",
    "6. Наименования колонок меняем на такие же со строчными символами.\n",
    "7. Необходимо проверить значения колонок с качественными значениями на неявные дубликаты."
   ]
  },
  {
   "cell_type": "markdown",
   "metadata": {},
   "source": [
    "## Предобработка данных"
   ]
  },
  {
   "cell_type": "code",
   "execution_count": 2,
   "metadata": {},
   "outputs": [],
   "source": [
    "# наименования колонки делаем с маленькой буквы\n",
    "games = games.rename(columns={'Name':'name','Platform':'platform','Year_of_Release':'year_of_release','Genre':'genre',\n",
    "                             'NA_sales':'na_sales', 'EU_sales':'eu_sales', 'JP_sales':'jp_sales', 'Other_sales':'other_sales',\n",
    "                             'Critic_Score':'critic_score', 'User_Score':'user_score', 'Rating':'rating'})"
   ]
  },
  {
   "cell_type": "markdown",
   "metadata": {},
   "source": [
    "**Комментарий** Неявных дубликатов в наименованиях платформ не увидел"
   ]
  },
  {
   "cell_type": "code",
   "execution_count": 3,
   "metadata": {},
   "outputs": [
    {
     "data": {
      "text/plain": [
       "array(['Wii', 'NES', 'GB', 'DS', 'X360', 'PS3', 'PS2', 'SNES', 'GBA',\n",
       "       'PS4', '3DS', 'N64', 'PS', 'XB', 'PC', '2600', 'PSP', 'XOne',\n",
       "       'WiiU', 'GC', 'GEN', 'DC', 'PSV', 'SAT', 'SCD', 'WS', 'NG', 'TG16',\n",
       "       '3DO', 'GG', 'PCFX'], dtype=object)"
      ]
     },
     "metadata": {},
     "output_type": "display_data"
    }
   ],
   "source": [
    "display(games['platform'].unique())"
   ]
  },
  {
   "cell_type": "markdown",
   "metadata": {},
   "source": [
    "**Комментарий** Неявных дубликатов в жанре также нет "
   ]
  },
  {
   "cell_type": "code",
   "execution_count": 4,
   "metadata": {},
   "outputs": [
    {
     "data": {
      "text/plain": [
       "array(['Sports', 'Platform', 'Racing', 'Role-Playing', 'Puzzle', 'Misc',\n",
       "       'Shooter', 'Simulation', 'Action', 'Fighting', 'Adventure',\n",
       "       'Strategy', nan], dtype=object)"
      ]
     },
     "metadata": {},
     "output_type": "display_data"
    }
   ],
   "source": [
    "display(games['genre'].unique())"
   ]
  },
  {
   "cell_type": "markdown",
   "metadata": {},
   "source": [
    "**Комментарий** Смотрим что за два пропуска в колонках с жанром и названием игр. Несущественные данные, мизерные продажи - удаляем."
   ]
  },
  {
   "cell_type": "code",
   "execution_count": 5,
   "metadata": {},
   "outputs": [
    {
     "data": {
      "text/html": [
       "<div>\n",
       "<style scoped>\n",
       "    .dataframe tbody tr th:only-of-type {\n",
       "        vertical-align: middle;\n",
       "    }\n",
       "\n",
       "    .dataframe tbody tr th {\n",
       "        vertical-align: top;\n",
       "    }\n",
       "\n",
       "    .dataframe thead th {\n",
       "        text-align: right;\n",
       "    }\n",
       "</style>\n",
       "<table border=\"1\" class=\"dataframe\">\n",
       "  <thead>\n",
       "    <tr style=\"text-align: right;\">\n",
       "      <th></th>\n",
       "      <th>name</th>\n",
       "      <th>platform</th>\n",
       "      <th>year_of_release</th>\n",
       "      <th>genre</th>\n",
       "      <th>na_sales</th>\n",
       "      <th>eu_sales</th>\n",
       "      <th>jp_sales</th>\n",
       "      <th>other_sales</th>\n",
       "      <th>critic_score</th>\n",
       "      <th>user_score</th>\n",
       "      <th>rating</th>\n",
       "    </tr>\n",
       "  </thead>\n",
       "  <tbody>\n",
       "    <tr>\n",
       "      <td>659</td>\n",
       "      <td>NaN</td>\n",
       "      <td>GEN</td>\n",
       "      <td>1993.0</td>\n",
       "      <td>NaN</td>\n",
       "      <td>1.78</td>\n",
       "      <td>0.53</td>\n",
       "      <td>0.00</td>\n",
       "      <td>0.08</td>\n",
       "      <td>NaN</td>\n",
       "      <td>NaN</td>\n",
       "      <td>NaN</td>\n",
       "    </tr>\n",
       "    <tr>\n",
       "      <td>14244</td>\n",
       "      <td>NaN</td>\n",
       "      <td>GEN</td>\n",
       "      <td>1993.0</td>\n",
       "      <td>NaN</td>\n",
       "      <td>0.00</td>\n",
       "      <td>0.00</td>\n",
       "      <td>0.03</td>\n",
       "      <td>0.00</td>\n",
       "      <td>NaN</td>\n",
       "      <td>NaN</td>\n",
       "      <td>NaN</td>\n",
       "    </tr>\n",
       "  </tbody>\n",
       "</table>\n",
       "</div>"
      ],
      "text/plain": [
       "      name platform  year_of_release genre  na_sales  eu_sales  jp_sales  \\\n",
       "659    NaN      GEN           1993.0   NaN      1.78      0.53      0.00   \n",
       "14244  NaN      GEN           1993.0   NaN      0.00      0.00      0.03   \n",
       "\n",
       "       other_sales  critic_score user_score rating  \n",
       "659           0.08           NaN        NaN    NaN  \n",
       "14244         0.00           NaN        NaN    NaN  "
      ]
     },
     "metadata": {},
     "output_type": "display_data"
    }
   ],
   "source": [
    "display(games[games['genre'].isna()])"
   ]
  },
  {
   "cell_type": "code",
   "execution_count": 6,
   "metadata": {},
   "outputs": [],
   "source": [
    "# Всего две строки с отсутствующим именем игры, жанром и с мизерными продажами. Удаляем \n",
    "games = games.dropna(subset = ['name'])"
   ]
  },
  {
   "cell_type": "code",
   "execution_count": 7,
   "metadata": {},
   "outputs": [],
   "source": [
    "# создаем столбец 'cumul_sales' с общими продажами\n",
    "games['cumul_sales'] = games[['na_sales','eu_sales','jp_sales','other_sales']].sum(axis=1)"
   ]
  },
  {
   "cell_type": "code",
   "execution_count": 8,
   "metadata": {},
   "outputs": [
    {
     "data": {
      "text/plain": [
       "array(['8', nan, '8.3', '8.5', '6.6', '8.4', '8.6', '7.7', '6.3', '7.4',\n",
       "       '8.2', '9', '7.9', '8.1', '8.7', '7.1', '3.4', '5.3', '4.8', '3.2',\n",
       "       '8.9', '6.4', '7.8', '7.5', '2.6', '7.2', '9.2', '7', '7.3', '4.3',\n",
       "       '7.6', '5.7', '5', '9.1', '6.5', 'tbd', '8.8', '6.9', '9.4', '6.8',\n",
       "       '6.1', '6.7', '5.4', '4', '4.9', '4.5', '9.3', '6.2', '4.2', '6',\n",
       "       '3.7', '4.1', '5.8', '5.6', '5.5', '4.4', '4.6', '5.9', '3.9',\n",
       "       '3.1', '2.9', '5.2', '3.3', '4.7', '5.1', '3.5', '2.5', '1.9', '3',\n",
       "       '2.7', '2.2', '2', '9.5', '2.1', '3.6', '2.8', '1.8', '3.8', '0',\n",
       "       '1.6', '9.6', '2.4', '1.7', '1.1', '0.3', '1.5', '0.7', '1.2',\n",
       "       '2.3', '0.5', '1.3', '0.2', '0.6', '1.4', '0.9', '1', '9.7'],\n",
       "      dtype=object)"
      ]
     },
     "metadata": {},
     "output_type": "display_data"
    }
   ],
   "source": [
    "display(games['user_score'].unique())"
   ]
  },
  {
   "cell_type": "markdown",
   "metadata": {},
   "source": [
    "**Комментарий** tbd рейтинг, рейтинг еще не определен, или будет определен после выхода игры. Полагаю, что его также как и NaN нет необходимости учитывать при анализе зависимости продаж от величины рейтинга. Но удалять строки из базового датафрейма как и с NaN сейчас не будем, так как это более чем на 50% сократит информативность полученных данных, просто сделаем два локальных датафрейма-среза df_usecore и df_criticore с вырезанными NaN и tbd. Будем использовать их в тех случаях, когда нам понадобятся данные из этих колонок."
   ]
  },
  {
   "cell_type": "code",
   "execution_count": 9,
   "metadata": {},
   "outputs": [],
   "source": [
    "#df_usecore: датасет-срез по данным с оценками пользователей без tbd\n",
    "df_usecore = games[games['user_score']!='tbd'].dropna(subset = ['user_score'])\n",
    "df_usecore['user_score'] = df_usecore['user_score'].astype('float')\n",
    "\n",
    "#df_criticore: датасет-срез по дпнным с оценками критиков \n",
    "df_criticore = games.dropna(subset = ['critic_score'])\n",
    "\n",
    "#в колонке 'rating' заменяем пропуски на 'not_rating'\n",
    "games['rating'] = games['rating'].fillna('not_rating')"
   ]
  },
  {
   "cell_type": "markdown",
   "metadata": {},
   "source": [
    "**Комментарий** в колонке 'year_of_release' заменяем часть пропусков данными из названия. Для этого используем функцию replace_year, применяем ее с помощью applay к датасету. Остальные строки с пропусками удаляем. (Хороший вариант с подгрузкой данных из интернета и последующей заменой,  идея оказалась рабочей (проверил на нескольких заменах), но ресурсоемкой и на нее просто не хватило времени)"
   ]
  },
  {
   "cell_type": "code",
   "execution_count": 10,
   "metadata": {},
   "outputs": [
    {
     "data": {
      "text/plain": [
       "array([2006., 1985., 2008., 2009., 1996., 1989., 1984., 2005., 1999.,\n",
       "       2007., 2010., 2013., 2004., 1990., 1988., 2002., 2001., 2011.,\n",
       "       1998., 2015., 2012., 2014., 1992., 1997., 1993., 1994., 1982.,\n",
       "       2016., 2003., 1986., 2000.,   nan, 1995., 1991., 1981., 1987.,\n",
       "       1980., 1983.])"
      ]
     },
     "metadata": {},
     "output_type": "display_data"
    }
   ],
   "source": [
    "display(games['year_of_release'].unique())"
   ]
  },
  {
   "cell_type": "code",
   "execution_count": 11,
   "metadata": {},
   "outputs": [],
   "source": [
    "# Заменяем часть пропусков на год из названия игры, если оно его содержит.\n",
    "def replace_year(row):\n",
    "    years = {\n",
    "            '1994':1994, '1998':1998, '1999':1999, '2000':2000, '1997':1997, '1995':1995,\n",
    "            '2001':2001, '2002':2002, '2003':2003, '2004':2004, '2005':2005, '2006':2006,\n",
    "            '2007':2007, '2008':2008, '2009':2009, '2010':2010, '2011':2011, '2012':2012,\n",
    "            '2013':2013, '2014':2014, '2015':2015, '2016':2016, '2017':2017, '2018':2018\n",
    "            }\n",
    "    for yr in years:\n",
    "        if yr in row['name']:\n",
    "            return years.get(yr)\n",
    "            \n",
    "games['year_of_release'] = games['year_of_release'].fillna(games.apply(replace_year, axis=1))\n",
    "\n",
    "# Удаляем все NaN в колонках с годом реализации. В далнейшем подгрузим их из интернет\n",
    "games = games.dropna(subset = ['year_of_release'])\n",
    "games['year_of_release'] = games['year_of_release'].astype('int')"
   ]
  },
  {
   "cell_type": "markdown",
   "metadata": {},
   "source": [
    "**Комментарий** Проверяем на дубликаты. Дубликатов нет"
   ]
  },
  {
   "cell_type": "code",
   "execution_count": 13,
   "metadata": {},
   "outputs": [
    {
     "name": "stdout",
     "output_type": "stream",
     "text": [
      "0\n"
     ]
    }
   ],
   "source": [
    "print(games.duplicated().sum())"
   ]
  },
  {
   "cell_type": "code",
   "execution_count": 14,
   "metadata": {},
   "outputs": [],
   "source": [
    "# избавляемся от tbd\n",
    "games = games[games['user_score']!='tbd']\n",
    "\n",
    "# изменяем формат данных c оценками пользователей на float\n",
    "games['user_score'] = pd.to_numeric(games['user_score'], errors = 'ignore')"
   ]
  },
  {
   "cell_type": "code",
   "execution_count": 15,
   "metadata": {},
   "outputs": [
    {
     "name": "stdout",
     "output_type": "stream",
     "text": [
      "<class 'pandas.core.frame.DataFrame'>\n",
      "Int64Index: 14083 entries, 0 to 16714\n",
      "Data columns (total 12 columns):\n",
      "name               14083 non-null object\n",
      "platform           14083 non-null object\n",
      "year_of_release    14083 non-null int64\n",
      "genre              14083 non-null object\n",
      "na_sales           14083 non-null float64\n",
      "eu_sales           14083 non-null float64\n",
      "jp_sales           14083 non-null float64\n",
      "other_sales        14083 non-null float64\n",
      "critic_score       6937 non-null float64\n",
      "user_score         7473 non-null float64\n",
      "rating             14083 non-null object\n",
      "cumul_sales        14083 non-null float64\n",
      "dtypes: float64(7), int64(1), object(4)\n",
      "memory usage: 1.4+ MB\n"
     ]
    },
    {
     "data": {
      "text/plain": [
       "None"
      ]
     },
     "metadata": {},
     "output_type": "display_data"
    }
   ],
   "source": [
    "display(games.info())"
   ]
  },
  {
   "cell_type": "markdown",
   "metadata": {},
   "source": [
    "### Вывод \n",
    "\n",
    "1. Изменены наименования колонок на строчные символы.\n",
    "2. Проведена проверка в колонках 'platform' и 'genre' на неявные дубликаты, таких не найдено.\n",
    "3. Проанализированы пропуски в колонке 'year_of_release'. Произведена частичная замена на данные из названия, остальные удалены. Тип данных изменен на int. \n",
    "4. В колонке 'rating' пропуски заменены на 'not_rating' \n",
    "5. Дубликатов в таблице нет \n",
    "6. Создан столбец 'cumul_sales' c общими продажами игр.\n",
    "7. Созданы два датафрейма-среза df_usecore и df_criticore со строками содержащими оценки пользователей и критиков без пропусков и tbd."
   ]
  },
  {
   "cell_type": "markdown",
   "metadata": {},
   "source": [
    "## Исследовательский анализ данных"
   ]
  },
  {
   "cell_type": "markdown",
   "metadata": {},
   "source": [
    "**Комментарий** Оцениваем количество выпускаемых игр по годам, с помощью сводной таблицы."
   ]
  },
  {
   "cell_type": "code",
   "execution_count": 16,
   "metadata": {},
   "outputs": [
    {
     "data": {
      "image/png": "[encoded data removed]",
      "text/plain": [
       "<Figure size 1080x504 with 1 Axes>"
      ]
     },
     "metadata": {
      "needs_background": "light"
     },
     "output_type": "display_data"
    }
   ],
   "source": [
    "(\n",
    "    games.pivot_table(index = 'year_of_release', values = 'name', aggfunc = 'count').\n",
    "    plot(grid=True,figsize=(15,7), kind = 'bar', title='Общее количество выпущенных компьютерных игр по годам')\n",
    ");"
   ]
  },
  {
   "cell_type": "markdown",
   "metadata": {},
   "source": [
    "### Вывод \n",
    "Технически,  для анализа и прогноза текущей ситуации по продажам и выпускам игр, данными до 1990 года можно пренебречь. Но точне об этом можно сказать, после изучения истории \"жизни\" конкретных платформ и игровых жанров.\n",
    "Для работы делаем рабочий датафрем немного укороченный по годам. Начинаем его с 1991 года. В этой связи интересно посмотреть, что стало с пустотами в колонках с оценками пользователей, критиков и рейтингами."
   ]
  },
  {
   "cell_type": "code",
   "execution_count": 17,
   "metadata": {},
   "outputs": [
    {
     "name": "stdout",
     "output_type": "stream",
     "text": [
      "<class 'pandas.core.frame.DataFrame'>\n",
      "Int64Index: 13862 entries, 0 to 16714\n",
      "Data columns (total 12 columns):\n",
      "name               13862 non-null object\n",
      "platform           13862 non-null object\n",
      "year_of_release    13862 non-null int64\n",
      "genre              13862 non-null object\n",
      "na_sales           13862 non-null float64\n",
      "eu_sales           13862 non-null float64\n",
      "jp_sales           13862 non-null float64\n",
      "other_sales        13862 non-null float64\n",
      "critic_score       6935 non-null float64\n",
      "user_score         7471 non-null float64\n",
      "rating             13862 non-null object\n",
      "cumul_sales        13862 non-null float64\n",
      "dtypes: float64(7), int64(1), object(4)\n",
      "memory usage: 1.4+ MB\n"
     ]
    }
   ],
   "source": [
    "df = games[games['year_of_release'] > 1990]\n",
    "df.info()"
   ]
  },
  {
   "cell_type": "code",
   "execution_count": 18,
   "metadata": {},
   "outputs": [
    {
     "data": {
      "image/png": "[encoded data removed]",
      "text/plain": [
       "<Figure size 1080x504 with 1 Axes>"
      ]
     },
     "metadata": {
      "needs_background": "light"
     },
     "output_type": "display_data"
    }
   ],
   "source": [
    "(\n",
    "    df.pivot_table(index = 'year_of_release', values = 'rating',  aggfunc = 'count').\n",
    "    plot(grid=True,figsize=(15,7), kind = 'bar', title='Общее количество выпущенных игр с рейтингом ESRB по годам')\n",
    ");"
   ]
  },
  {
   "cell_type": "markdown",
   "metadata": {},
   "source": [
    "**Комментарий** количество колонок с оценками практически не изменилось !!!!! Рейтинги появились в существенном количестве только с 1996 года (не удивительно, организация придумавшая всё это была основана в 1994 году). Рейтинги полноценно использовались только с начала двухтысячных годов. Соответственно бессмысленно анализировать рейтинги игр и их зависимости на продажи до этого периода. Этот факт также подтверждает предположение о том, что отчасти пропуски в данных с оценками эксертов и пользователей связаны с тем, что таких данных в то время не существовалао в природе."
   ]
  },
  {
   "cell_type": "markdown",
   "metadata": {},
   "source": [
    "**Комментарий** Смотрим, как менялись продажи по платформам, с помощью сводной таблице. Сразу видно, лидеров. Но это данные с 1991 года."
   ]
  },
  {
   "cell_type": "code",
   "execution_count": 19,
   "metadata": {},
   "outputs": [
    {
     "data": {
      "image/png": "[encoded data removed]",
      "text/plain": [
       "<Figure size 1080x504 with 1 Axes>"
      ]
     },
     "metadata": {
      "needs_background": "light"
     },
     "output_type": "display_data"
    }
   ],
   "source": [
    "(\n",
    "    df.pivot_table(index = 'platform', values = 'cumul_sales', aggfunc = 'sum').\n",
    "    sort_values(by = 'cumul_sales',ascending = False).\n",
    "    plot(grid=True,figsize=(15,7), kind = 'bar',title='Общее количество проданных игр млн копий с 1991 года по платформам')\n",
    ");"
   ]
  },
  {
   "cell_type": "markdown",
   "metadata": {},
   "source": [
    "**Комментарий** Смотрим общее количество проданных игр по ТОП6 платформ за весь период жизни платформы. 6 платформ выбрано для наглядной визуализации на экране. Графики строим в цикле по списку платформ. Для каждой из платформ внутри строится сводная таблица из которой берутся координаты для графика"
   ]
  },
  {
   "cell_type": "code",
   "execution_count": 20,
   "metadata": {},
   "outputs": [
    {
     "data": {
      "image/png": "[encoded data removed]",
      "text/plain": [
       "<Figure size 1296x1440 with 6 Axes>"
      ]
     },
     "metadata": {
      "needs_background": "light"
     },
     "output_type": "display_data"
    }
   ],
   "source": [
    "# формируем top6 series с помощью сводной таблицы и сортировки из датафрейма DF\n",
    "top6 =df.groupby('platform')['cumul_sales'].sum().sort_values(ascending = False).iloc[:6]\n",
    "\n",
    "f, axs = plt.subplots(3, 2, figsize=(18, 20))\n",
    "\n",
    "#индексы для построения и перебора массива экранов для вывода графиков\n",
    "index, subplt, subscr = 0, 0, 0\n",
    "for platforma in top6.index:\n",
    "# xy - сводная таблица для каждой платформы. данные по платформе фильтруются с помощью query\n",
    "# индексы этой таблицы, год - координата х, а координата y - сумма продаж по выбранной платформе за этот год\n",
    "    xy = df.query('platform == @platforma').pivot_table(index='year_of_release', values='cumul_sales', aggfunc='sum')\n",
    "    axs[subplt,subscr].bar(xy.index, xy['cumul_sales'], linewidth=0.7)\n",
    "    axs[subplt,subscr].set_title(platforma)\n",
    "    axs[subplt,subscr].set_xlabel('год релиза игр платформы ')\n",
    "    axs[subplt,subscr].set_ylabel('количество продаж млн.копий')\n",
    "    index += 1\n",
    "    subscr = index%2\n",
    "    subplt = index//2\n",
    "plt.show; "
   ]
  },
  {
   "cell_type": "markdown",
   "metadata": {},
   "source": [
    "### Вывод  \n",
    "Цикл жизни игровой платформы 9 - 11 лет. За это время платформа появляется, растет, затем падает и исчезает.При этом 4-5 лет рост, затем 1-2 года пик продаж и 4 - 5 лет падение. Можно предсказать на каком этапе жизненного цикла сейчас находится игровая платформа если есть полные данные о количестве проданных копий за последние 4-5 лет. Поэтому актуальный период принимаем за 5 лет, и формируем новый рабочий датафрейм df_actuel за период 2012 - 2016 годы. "
   ]
  },
  {
   "cell_type": "markdown",
   "metadata": {},
   "source": [
    "Для выбора потенциально прибыльной игровой платформы смотрим на продажи за последние пять лет. Строим график сводной таблицы по годам реализации."
   ]
  },
  {
   "cell_type": "code",
   "execution_count": 21,
   "metadata": {},
   "outputs": [
    {
     "data": {
      "image/png": "[encoded data removed]",
      "text/plain": [
       "<Figure size 1080x504 with 1 Axes>"
      ]
     },
     "metadata": {
      "needs_background": "light"
     },
     "output_type": "display_data"
    }
   ],
   "source": [
    "# df_actuel - датафрейм с данными за 2012 - 2016 годы\n",
    "df_actuel = games[games['year_of_release']>2011].copy()\n",
    "\n",
    "(\n",
    "    df_actuel.pivot_table(index = 'platform', values = 'cumul_sales', aggfunc = 'sum').\n",
    "    sort_values(by = 'cumul_sales',ascending = False).\n",
    "    plot(grid=True,figsize=(15,7), kind = 'bar', title='Общее количество проданных игр млн.копий за 2012-2016гг по платформам')\n",
    ");"
   ]
  },
  {
   "cell_type": "markdown",
   "metadata": {},
   "source": [
    "**Комментарий** Всего 11 платформ на рынке в этот период. Потенциальными могут быть все, в зависимости на каком этапе соей жизни они находятся. Выберем несколько растущих платформ и рассмотрим подробнее. "
   ]
  },
  {
   "cell_type": "code",
   "execution_count": 22,
   "metadata": {},
   "outputs": [
    {
     "data": {
      "image/png": "[encoded data removed]",
      "text/plain": [
       "<Figure size 1080x1008 with 9 Axes>"
      ]
     },
     "metadata": {
      "needs_background": "light"
     },
     "output_type": "display_data"
    }
   ],
   "source": [
    "# top9 список платформ. 9 - для наглядного отображения на экране.\n",
    "top9 =df_actuel.groupby('platform')['cumul_sales'].sum().sort_values(ascending = False).iloc[:9]\n",
    "\n",
    "\n",
    "f, axs = plt.subplots(3, 3, figsize=(15, 14))\n",
    "index, subplt, subscr = 0, 0, 0\n",
    "#['PS4','WiiU','PS3','X360','3DS','XOne','PC','PSV','Wii']\n",
    "for platforma in top9.index:\n",
    "    xy = df_actuel.query('platform == @platforma').pivot_table(index='year_of_release', values='cumul_sales', aggfunc='sum')\n",
    "    axs[subplt,subscr].bar(xy.index, xy['cumul_sales'], linewidth=0.7)\n",
    "    axs[subplt,subscr].set_title(platforma)\n",
    "    #axs[subplt,subscr].set_xlabel('год релиза игр платформы ')\n",
    "    axs[subplt,subscr].set_ylabel('количество продаж млн.копий')\n",
    "    index += 1\n",
    "    subscr = index%3\n",
    "    subplt = index//3\n",
    "plt.show;    "
   ]
  },
  {
   "cell_type": "markdown",
   "metadata": {},
   "source": [
    "### Вывод \n",
    "С учетом того, что данные за 2016 год не полные, можно сделать вывод, что в этот период растут продажи по платформам игр PS4 и XOne, соответственно их и будем считать потенциальными для инвестициях в 2017 году, и рассматривать в дальнейшем."
   ]
  },
  {
   "cell_type": "markdown",
   "metadata": {},
   "source": [
    "Строим  «ящики с усами» по глобальным продажам игр по платформам PS4 и XOne, для сравления пристраиваем \"старую\" платформу PC и PS2."
   ]
  },
  {
   "cell_type": "code",
   "execution_count": 23,
   "metadata": {},
   "outputs": [
    {
     "data": {
      "image/png": "[encoded data removed]",
      "text/plain": [
       "<Figure size 1152x864 with 1 Axes>"
      ]
     },
     "metadata": {
      "needs_background": "light"
     },
     "output_type": "display_data"
    }
   ],
   "source": [
    "# df_slice - срез с данными по перспективным платформам PS3, XOne и \"старичкам\" PC, PS2\n",
    "df_slice = df.query('(platform == \"PS4\") or (platform ==\"XOne\") or (platform == \"PC\") or (platform == \"PS2\")')\n",
    "plt.figure(figsize=(16,12))\n",
    "plt.grid()\n",
    "\n",
    "#Используем boxplot из библиотеки seaborn, так как он легко отрабатывает данные разной длины\n",
    "sns.boxplot(data = df_slice, x= 'platform', y= 'cumul_sales');"
   ]
  },
  {
   "cell_type": "markdown",
   "metadata": {},
   "source": [
    "**Комментарий** Конечно это не выбросы, не случайные величины. Это ТОП из ТОПов игр. Тем не менее основная масса продаж игр находятся в интервале до 2 млн штук, и  если мы хотим проанализировать зависимость продаж игр этих платформ от рейтингов, нужно хвосты срезать, иначе все сольется на графике. А рейтинги звезд априори можно считать максимальными и не факт, что их продажи зависили от рейтингов, скорее наоборот. \n",
    "\n",
    "Интересно, что у \"старых\" платформ (PS2, PC) размер ящика уменьшился, зато \"хвост\" даже больше, чем у новых. Т.есть основная часть игр имеет короткий жизненный цикл, зато есть \"звезды\" продолжают продаваться весь цикл существования платформы, наверное до тех порт, пока существует техническая поддержка аппаратной части платформ. Из этого можно сделать вывод о том, что даже если количество продаваемых и выпускаемых игр игровой платформы падает и она находится на завершающем этапе жизни, некоторое время можно вкладываться в ТОПовые игры. "
   ]
  },
  {
   "cell_type": "code",
   "execution_count": 24,
   "metadata": {},
   "outputs": [
    {
     "data": {
      "text/plain": [
       "count    386.000000\n",
       "mean       0.813472\n",
       "std        1.618992\n",
       "min        0.010000\n",
       "25%        0.060000\n",
       "50%        0.200000\n",
       "75%        0.730000\n",
       "max       14.630000\n",
       "Name: cumul_sales, dtype: float64"
      ]
     },
     "execution_count": 24,
     "metadata": {},
     "output_type": "execute_result"
    }
   ],
   "source": [
    "# статистика для игровой платформы PS4\n",
    "df_actuel[df_actuel['platform']=='PS4']['cumul_sales'].describe()"
   ]
  },
  {
   "cell_type": "code",
   "execution_count": 25,
   "metadata": {},
   "outputs": [
    {
     "data": {
      "text/html": [
       "<div>\n",
       "<style scoped>\n",
       "    .dataframe tbody tr th:only-of-type {\n",
       "        vertical-align: middle;\n",
       "    }\n",
       "\n",
       "    .dataframe tbody tr th {\n",
       "        vertical-align: top;\n",
       "    }\n",
       "\n",
       "    .dataframe thead th {\n",
       "        text-align: right;\n",
       "    }\n",
       "</style>\n",
       "<table border=\"1\" class=\"dataframe\">\n",
       "  <thead>\n",
       "    <tr style=\"text-align: right;\">\n",
       "      <th></th>\n",
       "      <th>name</th>\n",
       "      <th>platform</th>\n",
       "      <th>year_of_release</th>\n",
       "      <th>genre</th>\n",
       "      <th>na_sales</th>\n",
       "      <th>eu_sales</th>\n",
       "      <th>jp_sales</th>\n",
       "      <th>other_sales</th>\n",
       "      <th>critic_score</th>\n",
       "      <th>user_score</th>\n",
       "      <th>rating</th>\n",
       "      <th>cumul_sales</th>\n",
       "    </tr>\n",
       "  </thead>\n",
       "  <tbody>\n",
       "    <tr>\n",
       "      <td>31</td>\n",
       "      <td>Call of Duty: Black Ops 3</td>\n",
       "      <td>PS4</td>\n",
       "      <td>2015</td>\n",
       "      <td>Shooter</td>\n",
       "      <td>6.03</td>\n",
       "      <td>5.86</td>\n",
       "      <td>0.36</td>\n",
       "      <td>2.38</td>\n",
       "      <td>NaN</td>\n",
       "      <td>NaN</td>\n",
       "      <td>not_rating</td>\n",
       "      <td>14.63</td>\n",
       "    </tr>\n",
       "    <tr>\n",
       "      <td>42</td>\n",
       "      <td>Grand Theft Auto V</td>\n",
       "      <td>PS4</td>\n",
       "      <td>2014</td>\n",
       "      <td>Action</td>\n",
       "      <td>3.96</td>\n",
       "      <td>6.31</td>\n",
       "      <td>0.38</td>\n",
       "      <td>1.97</td>\n",
       "      <td>97.0</td>\n",
       "      <td>8.3</td>\n",
       "      <td>M</td>\n",
       "      <td>12.62</td>\n",
       "    </tr>\n",
       "  </tbody>\n",
       "</table>\n",
       "</div>"
      ],
      "text/plain": [
       "                         name platform  year_of_release    genre  na_sales  \\\n",
       "31  Call of Duty: Black Ops 3      PS4             2015  Shooter      6.03   \n",
       "42         Grand Theft Auto V      PS4             2014   Action      3.96   \n",
       "\n",
       "    eu_sales  jp_sales  other_sales  critic_score  user_score      rating  \\\n",
       "31      5.86      0.36         2.38           NaN         NaN  not_rating   \n",
       "42      6.31      0.38         1.97          97.0         8.3           M   \n",
       "\n",
       "    cumul_sales  \n",
       "31        14.63  \n",
       "42        12.62  "
      ]
     },
     "metadata": {},
     "output_type": "display_data"
    }
   ],
   "source": [
    "#хвост кометы, звезды продаж, ТОП-ТОП игровой платформы PS4\n",
    "display(df_actuel[(df_actuel['cumul_sales']>10)&(df_actuel['platform']=='PS4')])"
   ]
  },
  {
   "cell_type": "code",
   "execution_count": 26,
   "metadata": {},
   "outputs": [
    {
     "data": {
      "text/plain": [
       "count    236.000000\n",
       "mean       0.672754\n",
       "std        1.051848\n",
       "min        0.010000\n",
       "25%        0.067500\n",
       "50%        0.240000\n",
       "75%        0.750000\n",
       "max        7.390000\n",
       "Name: cumul_sales, dtype: float64"
      ]
     },
     "execution_count": 26,
     "metadata": {},
     "output_type": "execute_result"
    }
   ],
   "source": [
    "# статистика для игровой платформы XOne\n",
    "df_actuel[df_actuel['platform']=='XOne']['cumul_sales'].describe()"
   ]
  },
  {
   "cell_type": "code",
   "execution_count": 27,
   "metadata": {},
   "outputs": [
    {
     "data": {
      "text/html": [
       "<div>\n",
       "<style scoped>\n",
       "    .dataframe tbody tr th:only-of-type {\n",
       "        vertical-align: middle;\n",
       "    }\n",
       "\n",
       "    .dataframe tbody tr th {\n",
       "        vertical-align: top;\n",
       "    }\n",
       "\n",
       "    .dataframe thead th {\n",
       "        text-align: right;\n",
       "    }\n",
       "</style>\n",
       "<table border=\"1\" class=\"dataframe\">\n",
       "  <thead>\n",
       "    <tr style=\"text-align: right;\">\n",
       "      <th></th>\n",
       "      <th>name</th>\n",
       "      <th>platform</th>\n",
       "      <th>year_of_release</th>\n",
       "      <th>genre</th>\n",
       "      <th>na_sales</th>\n",
       "      <th>eu_sales</th>\n",
       "      <th>jp_sales</th>\n",
       "      <th>other_sales</th>\n",
       "      <th>critic_score</th>\n",
       "      <th>user_score</th>\n",
       "      <th>rating</th>\n",
       "      <th>cumul_sales</th>\n",
       "    </tr>\n",
       "  </thead>\n",
       "  <tbody>\n",
       "    <tr>\n",
       "      <td>99</td>\n",
       "      <td>Call of Duty: Black Ops 3</td>\n",
       "      <td>XOne</td>\n",
       "      <td>2015</td>\n",
       "      <td>Shooter</td>\n",
       "      <td>4.59</td>\n",
       "      <td>2.11</td>\n",
       "      <td>0.01</td>\n",
       "      <td>0.68</td>\n",
       "      <td>NaN</td>\n",
       "      <td>NaN</td>\n",
       "      <td>not_rating</td>\n",
       "      <td>7.39</td>\n",
       "    </tr>\n",
       "    <tr>\n",
       "      <td>165</td>\n",
       "      <td>Grand Theft Auto V</td>\n",
       "      <td>XOne</td>\n",
       "      <td>2014</td>\n",
       "      <td>Action</td>\n",
       "      <td>2.81</td>\n",
       "      <td>2.19</td>\n",
       "      <td>0.00</td>\n",
       "      <td>0.47</td>\n",
       "      <td>97.0</td>\n",
       "      <td>7.9</td>\n",
       "      <td>M</td>\n",
       "      <td>5.47</td>\n",
       "    </tr>\n",
       "    <tr>\n",
       "      <td>179</td>\n",
       "      <td>Call of Duty: Advanced Warfare</td>\n",
       "      <td>XOne</td>\n",
       "      <td>2014</td>\n",
       "      <td>Shooter</td>\n",
       "      <td>3.22</td>\n",
       "      <td>1.55</td>\n",
       "      <td>0.01</td>\n",
       "      <td>0.48</td>\n",
       "      <td>81.0</td>\n",
       "      <td>5.4</td>\n",
       "      <td>M</td>\n",
       "      <td>5.26</td>\n",
       "    </tr>\n",
       "  </tbody>\n",
       "</table>\n",
       "</div>"
      ],
      "text/plain": [
       "                               name platform  year_of_release    genre  \\\n",
       "99        Call of Duty: Black Ops 3     XOne             2015  Shooter   \n",
       "165              Grand Theft Auto V     XOne             2014   Action   \n",
       "179  Call of Duty: Advanced Warfare     XOne             2014  Shooter   \n",
       "\n",
       "     na_sales  eu_sales  jp_sales  other_sales  critic_score  user_score  \\\n",
       "99       4.59      2.11      0.01         0.68           NaN         NaN   \n",
       "165      2.81      2.19      0.00         0.47          97.0         7.9   \n",
       "179      3.22      1.55      0.01         0.48          81.0         5.4   \n",
       "\n",
       "         rating  cumul_sales  \n",
       "99   not_rating         7.39  \n",
       "165           M         5.47  \n",
       "179           M         5.26  "
      ]
     },
     "metadata": {},
     "output_type": "display_data"
    }
   ],
   "source": [
    "##хвост кометы, звезды продаж, ТОП-ТОП игровой платформы XOne\n",
    "display(df_actuel[(df_actuel['cumul_sales']>5)&(df_actuel['platform']=='XOne')])"
   ]
  },
  {
   "cell_type": "markdown",
   "metadata": {},
   "source": [
    "### Вывод \n",
    "В игровой платформе PS4 заправляют звёзды. Медиана в пять раз меньше средней величины. За 5 лет выпущено 392 игры, разброс продаж от 10 тыс копий до 14 млн, половина игр имеют продажи до 200 тыс копий. В платформе XOne всё немного скромнее, гораздо больший вклад несут середняки. Тем не менее тенденция такая же, звезды правят медиана от среднего отличается в два раза. Всего игр выпущено 247 и половина из них продалась в количестве от 10 тыс до 220 тыс штук. Примечательно, что топовая игра одна и та же адаптированная для обоих платформ."
   ]
  },
  {
   "cell_type": "markdown",
   "metadata": {},
   "source": [
    "**комментарий** Оцениваем влияние количества проданных игр от наличия оценок критиков или пользователей, используя ранее созданные датафремы с колонками оценок без пропусков. Для сравнения оцениваем не только наши выбранные платформы PS4 и XOne, но и более \"старые\" которые уже отработали свое PS2, а также действующую и по ныне PC/"
   ]
  },
  {
   "cell_type": "code",
   "execution_count": 28,
   "metadata": {},
   "outputs": [
    {
     "data": {
      "image/png": "[encoded data removed]",
      "text/plain": [
       "<Figure size 1008x2016 with 8 Axes>"
      ]
     },
     "metadata": {
      "needs_background": "light"
     },
     "output_type": "display_data"
    }
   ],
   "source": [
    "f, axs = plt.subplots(4, 2, figsize=(14, 28))\n",
    "subplt = 0\n",
    "\n",
    "#['PS4','WiiU','PS3','X360','3DS','XOne','PC','PSV','Wii']\n",
    "for platforma in ['PS4','XOne','PS2','PC']:\n",
    "# в цикле выбираем патформу и отрезаем все продажи выше 2 млн копий для нагладности     \n",
    "    x= df_usecore[(df_usecore['platform']==platforma)&(df_usecore['cumul_sales']<2)]['user_score']\n",
    "    y= df_usecore[(df_usecore['platform']==platforma)&(df_usecore['cumul_sales']<2)]['cumul_sales']\n",
    "    axs[subplt,0].scatter(x,y, alpha=0.5)\n",
    "    axs[subplt,0].set_xlabel('максимум 10 баллов')\n",
    "    axs[subplt,0].set_ylabel('количество продаж млн.копий')\n",
    "    axs[subplt,0].set_title('Платформа '+platforma+' оценка пользователей', fontsize=15)\n",
    "    x= df_criticore[(df_criticore['platform']==platforma)&(df_criticore['cumul_sales']<2)]['critic_score']\n",
    "    y= df_criticore[(df_criticore['platform']==platforma)&(df_criticore['cumul_sales']<2)]['cumul_sales']\n",
    "    axs[subplt,1].scatter(x, y, alpha=0.5)\n",
    "    axs[subplt,1].set_xlabel('максимум 100 баллов')\n",
    "    axs[subplt,1].set_ylabel('количество продаж млн.копий');\n",
    "    axs[subplt,1].set_title('оценка критиков', fontsize=15)\n",
    "    subplt += 1\n",
    "    \n",
    "plt.show;  "
   ]
  },
  {
   "cell_type": "code",
   "execution_count": 29,
   "metadata": {},
   "outputs": [
    {
     "name": "stdout",
     "output_type": "stream",
     "text": [
      "Коэффициенты корреляции между оценками пользователей и критиков и количеством проданных игр различных платформ:\n",
      "PS4  -  По оценке пользователей :-0.03 по оценке критиков: 0.41\n",
      "XOne  -  По оценке пользователей :-0.07 по оценке критиков: 0.42\n",
      "PS2  -  По оценке пользователей :0.17 по оценке критиков: 0.40\n",
      "PC  -  По оценке пользователей :0.01 по оценке критиков: 0.26\n"
     ]
    }
   ],
   "source": [
    "print('Коэффициенты корреляции между оценками пользователей и критиков и количеством проданных игр различных платформ:')\n",
    "for platforma in ['PS4','XOne','PS2','PC']:\n",
    "    print(platforma,' -  По оценке пользователей :{:.2f} по оценке критиков: {:.2f}'.\n",
    "          format(df_usecore[df_usecore['platform']==platforma]['user_score'].corr(df_usecore[df_usecore['platform']==platforma]['cumul_sales']),\n",
    "                 df_criticore[df_criticore['platform']==platforma]['critic_score'].corr(df_criticore[df_criticore['platform']==platforma]['cumul_sales']))                                                                )\n",
    "                "
   ]
  },
  {
   "cell_type": "markdown",
   "metadata": {},
   "source": [
    "### Вывод \n",
    "Видим слабые и очень слабые разнознаковые корреляции, которые говорят о том, что прямой, линейной корреляции нет, особенно в части пользовательских оценок. Но связь явно есть, если посмотреть на графики scatter то распределение точек чем то напоминает степенную функцию, типа 'x = a + к в степени y'. Видно, что более высокие рейтинги имеют более продаваемые игры, и наоборот, лушие продажи игр при более высоких рейтингах.\n",
    "\n",
    "Примечательно то, что коэффициент корреляции пользовательски оценок растущих платформ, хоть и близок к нулю, всё же отрицательный, а \"старых\" платформ наоборот. Можно предположить, что оценки пользователей субъективны и на них оказывает влияние а) Отрицание нового б) Игры платформы еще не распробованы на начальном этапе. в)Положительная оценка зависит от продаж (разкрученности), т.есть, - \"игра крута, потому что она крута\".   Коэффициент корреляции оценок критиков слабый, но всё же положительный и близок к критической границе 0.5, значит сами оценки менее субъективны, и всё таки имеют какое то прямое влияние на продажи."
   ]
  },
  {
   "cell_type": "markdown",
   "metadata": {},
   "source": [
    "**Комментарий** Смотрим наиболее и наименее продаваемые игровые жанры. "
   ]
  },
  {
   "cell_type": "code",
   "execution_count": 30,
   "metadata": {},
   "outputs": [
    {
     "data": {
      "image/png": "[encoded data removed]",
      "text/plain": [
       "<Figure size 1080x504 with 1 Axes>"
      ]
     },
     "metadata": {
      "needs_background": "light"
     },
     "output_type": "display_data"
    }
   ],
   "source": [
    "(\n",
    "    df_actuel.pivot_table(index = 'genre', values = 'cumul_sales', aggfunc = 'sum').\n",
    "    sort_values(by = 'cumul_sales',ascending = False).\n",
    "    plot(grid=True,figsize=(15,7), kind = 'bar', title='Общее количество проданных игр млн.копий за 2012-2016гг по жанрам')\n",
    ");"
   ]
  },
  {
   "cell_type": "markdown",
   "metadata": {},
   "source": [
    "### Вывод \n",
    "Наибольшее количество проданных копий в жанрах Action, Sports, Shooter и Role-Playing. Самое малое количество проданных копий в жанре Puzzle . Разница между лидером более чем в 10 раз. Причем эта разница выросла за последние 10 лет. Сказывается увеличение аппартных мощностей."
   ]
  },
  {
   "cell_type": "markdown",
   "metadata": {},
   "source": [
    "## Анализ пользовательских предпочтений разных регионов"
   ]
  },
  {
   "cell_type": "markdown",
   "metadata": {},
   "source": [
    "**Комментарий** Определяем приоритетные игровые платформы для трех представленных регионов: Японии, Европы и Северной Америки.\n",
    "Формируем сводную таблицу и выводим ее на экран."
   ]
  },
  {
   "cell_type": "code",
   "execution_count": 31,
   "metadata": {},
   "outputs": [
    {
     "name": "stdout",
     "output_type": "stream",
     "text": [
      "\n"
     ]
    },
    {
     "data": {
      "text/plain": [
       "'            ТОП  5  самых продаваемых игровых платформ за 2011 - 2016гг:'"
      ]
     },
     "metadata": {},
     "output_type": "display_data"
    },
    {
     "data": {
      "text/html": [
       "<div>\n",
       "<style scoped>\n",
       "    .dataframe tbody tr th:only-of-type {\n",
       "        vertical-align: middle;\n",
       "    }\n",
       "\n",
       "    .dataframe tbody tr th {\n",
       "        vertical-align: top;\n",
       "    }\n",
       "\n",
       "    .dataframe thead th {\n",
       "        text-align: right;\n",
       "    }\n",
       "</style>\n",
       "<table border=\"1\" class=\"dataframe\">\n",
       "  <thead>\n",
       "    <tr style=\"text-align: right;\">\n",
       "      <th></th>\n",
       "      <th>top5_Europa</th>\n",
       "      <th>eu_sales</th>\n",
       "      <th>eu_ratio</th>\n",
       "      <th>top5_North_America</th>\n",
       "      <th>na_sales</th>\n",
       "      <th>na_ratio</th>\n",
       "      <th>top5_Japan</th>\n",
       "      <th>jp_sales</th>\n",
       "      <th>jp_ratio</th>\n",
       "    </tr>\n",
       "  </thead>\n",
       "  <tbody>\n",
       "    <tr>\n",
       "      <td>0</td>\n",
       "      <td>PS4</td>\n",
       "      <td>141.09</td>\n",
       "      <td>0.28</td>\n",
       "      <td>X360</td>\n",
       "      <td>139.16</td>\n",
       "      <td>0.24</td>\n",
       "      <td>3DS</td>\n",
       "      <td>87.68</td>\n",
       "      <td>0.46</td>\n",
       "    </tr>\n",
       "    <tr>\n",
       "      <td>1</td>\n",
       "      <td>PS3</td>\n",
       "      <td>106.26</td>\n",
       "      <td>0.21</td>\n",
       "      <td>PS4</td>\n",
       "      <td>108.62</td>\n",
       "      <td>0.19</td>\n",
       "      <td>PS3</td>\n",
       "      <td>34.92</td>\n",
       "      <td>0.18</td>\n",
       "    </tr>\n",
       "    <tr>\n",
       "      <td>2</td>\n",
       "      <td>X360</td>\n",
       "      <td>74.02</td>\n",
       "      <td>0.15</td>\n",
       "      <td>PS3</td>\n",
       "      <td>103.10</td>\n",
       "      <td>0.18</td>\n",
       "      <td>PSV</td>\n",
       "      <td>20.93</td>\n",
       "      <td>0.11</td>\n",
       "    </tr>\n",
       "    <tr>\n",
       "      <td>3</td>\n",
       "      <td>XOne</td>\n",
       "      <td>51.43</td>\n",
       "      <td>0.10</td>\n",
       "      <td>XOne</td>\n",
       "      <td>92.77</td>\n",
       "      <td>0.16</td>\n",
       "      <td>PS4</td>\n",
       "      <td>15.96</td>\n",
       "      <td>0.08</td>\n",
       "    </tr>\n",
       "    <tr>\n",
       "      <td>4</td>\n",
       "      <td>3DS</td>\n",
       "      <td>41.64</td>\n",
       "      <td>0.08</td>\n",
       "      <td>3DS</td>\n",
       "      <td>54.65</td>\n",
       "      <td>0.09</td>\n",
       "      <td>WiiU</td>\n",
       "      <td>13.01</td>\n",
       "      <td>0.07</td>\n",
       "    </tr>\n",
       "  </tbody>\n",
       "</table>\n",
       "</div>"
      ],
      "text/plain": [
       "  top5_Europa  eu_sales  eu_ratio top5_North_America  na_sales  na_ratio  \\\n",
       "0         PS4    141.09      0.28               X360    139.16      0.24   \n",
       "1         PS3    106.26      0.21                PS4    108.62      0.19   \n",
       "2        X360     74.02      0.15                PS3    103.10      0.18   \n",
       "3        XOne     51.43      0.10               XOne     92.77      0.16   \n",
       "4         3DS     41.64      0.08                3DS     54.65      0.09   \n",
       "\n",
       "  top5_Japan  jp_sales  jp_ratio  \n",
       "0        3DS     87.68      0.46  \n",
       "1        PS3     34.92      0.18  \n",
       "2        PSV     20.93      0.11  \n",
       "3        PS4     15.96      0.08  \n",
       "4       WiiU     13.01      0.07  "
      ]
     },
     "metadata": {},
     "output_type": "display_data"
    },
    {
     "name": "stdout",
     "output_type": "stream",
     "text": [
      "\n"
     ]
    }
   ],
   "source": [
    "# делаем сводную таблицу по игровым платформам и продажам Японии. Европы и Северной Америки\n",
    "df_platform = df_actuel.pivot_table(index = 'platform', values =['na_sales','eu_sales','jp_sales'], aggfunc='sum')\n",
    "\n",
    "# считаем доли продаж по регионам и округляем их до 2-х знаков, для внешней привлекательности\n",
    "df_platform['na_ratio'] = round(df_platform['na_sales']/df_platform['na_sales'].sum(),2)\n",
    "df_platform['eu_ratio'] = round(df_platform['eu_sales']/df_platform['eu_sales'].sum(),2)\n",
    "df_platform['jp_ratio'] = round(df_platform['jp_sales']/df_platform['jp_sales'].sum(),2)\n",
    "\n",
    "# сосбственно самый нужный столбец с названиями платформ, возвращаем из индексов в данные\n",
    "df_platform['platform'] = df_platform.index\n",
    "\n",
    "# Выделяем необходимые нам данные в отдельные, отсортированные по доле продаж небольшие датафреймы-срезы из 5-ти строк\n",
    "df_eu = df_platform[['platform','eu_sales','eu_ratio']].sort_values(by='eu_ratio', ascending=False).iloc[0:5]\n",
    "df_na = df_platform[['platform','na_sales','na_ratio']].sort_values(by='na_ratio', ascending=False).iloc[0:5]\n",
    "df_jp = df_platform[['platform','jp_sales','jp_ratio']].sort_values(by='jp_ratio', ascending=False).iloc[0:5]\n",
    "\n",
    "# Приводим в порядок индексы перед слиянием в общую таблицу\n",
    "df_eu.reset_index(inplace = True, drop = True)\n",
    "df_na.reset_index(inplace = True, drop = True)\n",
    "df_jp.reset_index(inplace = True, drop = True)\n",
    "\n",
    "# Собираем срезы в одну общую таблицу для наглядности\n",
    "df_region = pd.concat([df_eu,df_na,df_jp],sort=False,axis=1)\n",
    "\n",
    "# Приводим в порядок наименования столбцов\n",
    "df_region.columns = ['top5_Europa','eu_sales','eu_ratio','top5_North_America','na_sales','na_ratio','top5_Japan','jp_sales','jp_ratio']\n",
    "\n",
    "print()\n",
    "display('            ТОП  5  самых продаваемых игровых платформ за 2011 - 2016гг:')\n",
    "display(df_region)\n",
    "print()"
   ]
  },
  {
   "cell_type": "markdown",
   "metadata": {},
   "source": [
    "### Вывод \n",
    "Предпочтения европейских пользователей почти равномерно распределены между игровыми платформами PS4 и PS3, в Северной Америке фаворитом является XBox360 с небольшим отрывом от PS3 и PS4.В Японии колоссальное преимущество у 3DS, этим она заметно отличается от двух других регионов, кроме того на 3м месте такая платформа как PSV (PS Vita - портативная игровая приставка), которая не входи в топ ни в Америке ни в Европе. Портативные игровые приставки в Японии имеют огромное преимущество перед стационарами. Возможно Японцы не любят сидеть на месте и играют в пути ???"
   ]
  },
  {
   "cell_type": "markdown",
   "metadata": {},
   "source": [
    "Определяем приоритетные игровые жанры для трех регионов, также с помощью сводной таблицы выводимой на экран:"
   ]
  },
  {
   "cell_type": "code",
   "execution_count": 32,
   "metadata": {},
   "outputs": [
    {
     "name": "stdout",
     "output_type": "stream",
     "text": [
      "\n"
     ]
    },
    {
     "data": {
      "text/plain": [
       "'           ТОП  5  самых продаваемых игровых жанров за 2011 - 2016гг :'"
      ]
     },
     "metadata": {},
     "output_type": "display_data"
    },
    {
     "data": {
      "text/html": [
       "<div>\n",
       "<style scoped>\n",
       "    .dataframe tbody tr th:only-of-type {\n",
       "        vertical-align: middle;\n",
       "    }\n",
       "\n",
       "    .dataframe tbody tr th {\n",
       "        vertical-align: top;\n",
       "    }\n",
       "\n",
       "    .dataframe thead th {\n",
       "        text-align: right;\n",
       "    }\n",
       "</style>\n",
       "<table border=\"1\" class=\"dataframe\">\n",
       "  <thead>\n",
       "    <tr style=\"text-align: right;\">\n",
       "      <th></th>\n",
       "      <th>top5_Europa</th>\n",
       "      <th>eu_sales</th>\n",
       "      <th>eu_ratio</th>\n",
       "      <th>top5_North_America</th>\n",
       "      <th>na_sales</th>\n",
       "      <th>na_ratio</th>\n",
       "      <th>top5_Japan</th>\n",
       "      <th>jp_sales</th>\n",
       "      <th>jp_ratio</th>\n",
       "    </tr>\n",
       "  </thead>\n",
       "  <tbody>\n",
       "    <tr>\n",
       "      <td>0</td>\n",
       "      <td>Action</td>\n",
       "      <td>157.76</td>\n",
       "      <td>0.31</td>\n",
       "      <td>Action</td>\n",
       "      <td>176.45</td>\n",
       "      <td>0.30</td>\n",
       "      <td>Role-Playing</td>\n",
       "      <td>65.44</td>\n",
       "      <td>0.34</td>\n",
       "    </tr>\n",
       "    <tr>\n",
       "      <td>1</td>\n",
       "      <td>Shooter</td>\n",
       "      <td>113.33</td>\n",
       "      <td>0.23</td>\n",
       "      <td>Shooter</td>\n",
       "      <td>144.64</td>\n",
       "      <td>0.25</td>\n",
       "      <td>Action</td>\n",
       "      <td>52.33</td>\n",
       "      <td>0.27</td>\n",
       "    </tr>\n",
       "    <tr>\n",
       "      <td>2</td>\n",
       "      <td>Sports</td>\n",
       "      <td>68.69</td>\n",
       "      <td>0.14</td>\n",
       "      <td>Sports</td>\n",
       "      <td>81.13</td>\n",
       "      <td>0.14</td>\n",
       "      <td>Misc</td>\n",
       "      <td>12.86</td>\n",
       "      <td>0.07</td>\n",
       "    </tr>\n",
       "    <tr>\n",
       "      <td>3</td>\n",
       "      <td>Role-Playing</td>\n",
       "      <td>48.53</td>\n",
       "      <td>0.10</td>\n",
       "      <td>Role-Playing</td>\n",
       "      <td>64.00</td>\n",
       "      <td>0.11</td>\n",
       "      <td>Fighting</td>\n",
       "      <td>9.41</td>\n",
       "      <td>0.05</td>\n",
       "    </tr>\n",
       "    <tr>\n",
       "      <td>4</td>\n",
       "      <td>Misc</td>\n",
       "      <td>24.84</td>\n",
       "      <td>0.05</td>\n",
       "      <td>Misc</td>\n",
       "      <td>36.90</td>\n",
       "      <td>0.06</td>\n",
       "      <td>Platform</td>\n",
       "      <td>8.63</td>\n",
       "      <td>0.05</td>\n",
       "    </tr>\n",
       "  </tbody>\n",
       "</table>\n",
       "</div>"
      ],
      "text/plain": [
       "    top5_Europa  eu_sales  eu_ratio top5_North_America  na_sales  na_ratio  \\\n",
       "0        Action    157.76      0.31             Action    176.45      0.30   \n",
       "1       Shooter    113.33      0.23            Shooter    144.64      0.25   \n",
       "2        Sports     68.69      0.14             Sports     81.13      0.14   \n",
       "3  Role-Playing     48.53      0.10       Role-Playing     64.00      0.11   \n",
       "4          Misc     24.84      0.05               Misc     36.90      0.06   \n",
       "\n",
       "     top5_Japan  jp_sales  jp_ratio  \n",
       "0  Role-Playing     65.44      0.34  \n",
       "1        Action     52.33      0.27  \n",
       "2          Misc     12.86      0.07  \n",
       "3      Fighting      9.41      0.05  \n",
       "4      Platform      8.63      0.05  "
      ]
     },
     "metadata": {},
     "output_type": "display_data"
    },
    {
     "name": "stdout",
     "output_type": "stream",
     "text": [
      "\n"
     ]
    }
   ],
   "source": [
    "# делаем сводную таблицу по игровым жанрам и продажам Японии. Европы и Северной Америки\n",
    "df_genre = df_actuel.pivot_table(index = 'genre', values =['na_sales','eu_sales','jp_sales'], aggfunc='sum')\n",
    "\n",
    "# считаем доли продаж по регионам и округляем их до 2-х знаков, для внешней привлекательности\n",
    "df_genre['na_ratio'] = round(df_genre['na_sales']/df_genre['na_sales'].sum(),2)\n",
    "df_genre['eu_ratio'] = round(df_genre['eu_sales']/df_genre['eu_sales'].sum(),2)\n",
    "df_genre['jp_ratio'] = round(df_genre['jp_sales']/df_genre['jp_sales'].sum(),2)\n",
    "\n",
    "# сосбственно самый нужный столбец с жанрами, возвращаем из индексов в данные\n",
    "df_genre['genre'] = df_genre.index\n",
    "\n",
    "# Выделяем необходимые нам данные в отдельные, отсортированные по доле продаж небольшие датафреймы-срезы из 5-ти строк\n",
    "df_eu = df_genre[['genre','eu_sales','eu_ratio']].sort_values(by='eu_ratio', ascending=False).iloc[0:5]\n",
    "df_na = df_genre[['genre','na_sales','na_ratio']].sort_values(by='na_ratio', ascending=False).iloc[0:5]\n",
    "df_jp = df_genre[['genre','jp_sales','jp_ratio']].sort_values(by='jp_ratio', ascending=False).iloc[0:5]\n",
    "\n",
    "# Приводим в порядок индексы перед слиянием срезов в общую таблицу\n",
    "df_eu.reset_index(inplace = True, drop = True)\n",
    "df_na.reset_index(inplace = True, drop = True)\n",
    "df_jp.reset_index(inplace = True, drop = True)\n",
    "\n",
    "# Собираем срезы в одну общую таблицу для наглядности\n",
    "df_region = pd.concat([df_eu,df_na,df_jp],sort=False,axis=1)\n",
    "\n",
    "# Приводим в порядок наименования столбцов для вывода на экран\n",
    "df_region.columns = ['top5_Europa','eu_sales','eu_ratio','top5_North_America','na_sales','na_ratio','top5_Japan','jp_sales','jp_ratio']\n",
    "print()\n",
    "display('           ТОП  5  самых продаваемых игровых жанров за 2011 - 2016гг :')\n",
    "display(df_region)\n",
    "print()"
   ]
  },
  {
   "cell_type": "markdown",
   "metadata": {},
   "source": [
    "### Вывод \n",
    "Предпочтения европейских и Американских потребителей отданы играм в стиле Экшн и Шутерам, а в Японии колоссальное преимущество у Ролевых игр, хотя Экшены также пользуются хорошим спросом. А вот шутеры, не очень. Кроме того, у Японцев в ТОП5 отсутствуют спортивные компьютерные игры, которые у Европейцев с Американцами занимают более 10% продаж."
   ]
  },
  {
   "cell_type": "markdown",
   "metadata": {},
   "source": [
    "**Комментарий** Анализируем зависимость продаж игр от рейтинга ESRB. Для оценки берем данные по актуальному периоду 2012-2016 год из датафрейма df_actuel"
   ]
  },
  {
   "cell_type": "code",
   "execution_count": 33,
   "metadata": {},
   "outputs": [
    {
     "data": {
      "text/html": [
       "<div>\n",
       "<style scoped>\n",
       "    .dataframe tbody tr th:only-of-type {\n",
       "        vertical-align: middle;\n",
       "    }\n",
       "\n",
       "    .dataframe tbody tr th {\n",
       "        vertical-align: top;\n",
       "    }\n",
       "\n",
       "    .dataframe thead th {\n",
       "        text-align: right;\n",
       "    }\n",
       "</style>\n",
       "<table border=\"1\" class=\"dataframe\">\n",
       "  <thead>\n",
       "    <tr style=\"text-align: right;\">\n",
       "      <th></th>\n",
       "      <th>count</th>\n",
       "      <th>sum</th>\n",
       "      <th>ratio</th>\n",
       "    </tr>\n",
       "    <tr>\n",
       "      <th>rating</th>\n",
       "      <th></th>\n",
       "      <th></th>\n",
       "      <th></th>\n",
       "    </tr>\n",
       "  </thead>\n",
       "  <tbody>\n",
       "    <tr>\n",
       "      <td>not_rating</td>\n",
       "      <td>1259</td>\n",
       "      <td>108.84</td>\n",
       "      <td>0.09</td>\n",
       "    </tr>\n",
       "    <tr>\n",
       "      <td>E</td>\n",
       "      <td>340</td>\n",
       "      <td>28.09</td>\n",
       "      <td>0.08</td>\n",
       "    </tr>\n",
       "    <tr>\n",
       "      <td>T</td>\n",
       "      <td>394</td>\n",
       "      <td>25.55</td>\n",
       "      <td>0.06</td>\n",
       "    </tr>\n",
       "    <tr>\n",
       "      <td>M</td>\n",
       "      <td>494</td>\n",
       "      <td>21.20</td>\n",
       "      <td>0.04</td>\n",
       "    </tr>\n",
       "    <tr>\n",
       "      <td>E10+</td>\n",
       "      <td>268</td>\n",
       "      <td>8.06</td>\n",
       "      <td>0.03</td>\n",
       "    </tr>\n",
       "  </tbody>\n",
       "</table>\n",
       "</div>"
      ],
      "text/plain": [
       "            count     sum  ratio\n",
       "rating                          \n",
       "not_rating   1259  108.84   0.09\n",
       "E             340   28.09   0.08\n",
       "T             394   25.55   0.06\n",
       "M             494   21.20   0.04\n",
       "E10+          268    8.06   0.03"
      ]
     },
     "metadata": {},
     "output_type": "display_data"
    }
   ],
   "source": [
    "#строим сводную таблицу по Японии\n",
    "rating_jp = df_actuel.pivot_table(index = 'rating', values = 'jp_sales', aggfunc=('sum','count'))\n",
    "\n",
    "#считаем колонку 'ratio' с долей проданных игр в зависимости от типа рейтинга и без него\n",
    "rating_jp['ratio'] = round(rating_jp['sum']/rating_jp['count'],2)\n",
    "\n",
    "#сортируем по доле\n",
    "rating_jp = rating_jp.sort_values(by = 'ratio', ascending = False)\n",
    "display(rating_jp)"
   ]
  },
  {
   "cell_type": "code",
   "execution_count": 34,
   "metadata": {},
   "outputs": [
    {
     "data": {
      "text/html": [
       "<div>\n",
       "<style scoped>\n",
       "    .dataframe tbody tr th:only-of-type {\n",
       "        vertical-align: middle;\n",
       "    }\n",
       "\n",
       "    .dataframe tbody tr th {\n",
       "        vertical-align: top;\n",
       "    }\n",
       "\n",
       "    .dataframe thead th {\n",
       "        text-align: right;\n",
       "    }\n",
       "</style>\n",
       "<table border=\"1\" class=\"dataframe\">\n",
       "  <thead>\n",
       "    <tr style=\"text-align: right;\">\n",
       "      <th></th>\n",
       "      <th>count</th>\n",
       "      <th>sum</th>\n",
       "      <th>ratio</th>\n",
       "    </tr>\n",
       "    <tr>\n",
       "      <th>rating</th>\n",
       "      <th></th>\n",
       "      <th></th>\n",
       "      <th></th>\n",
       "    </tr>\n",
       "  </thead>\n",
       "  <tbody>\n",
       "    <tr>\n",
       "      <td>M</td>\n",
       "      <td>494</td>\n",
       "      <td>231.53</td>\n",
       "      <td>0.47</td>\n",
       "    </tr>\n",
       "    <tr>\n",
       "      <td>E</td>\n",
       "      <td>340</td>\n",
       "      <td>112.92</td>\n",
       "      <td>0.33</td>\n",
       "    </tr>\n",
       "    <tr>\n",
       "      <td>E10+</td>\n",
       "      <td>268</td>\n",
       "      <td>73.29</td>\n",
       "      <td>0.27</td>\n",
       "    </tr>\n",
       "    <tr>\n",
       "      <td>T</td>\n",
       "      <td>394</td>\n",
       "      <td>65.80</td>\n",
       "      <td>0.17</td>\n",
       "    </tr>\n",
       "    <tr>\n",
       "      <td>not_rating</td>\n",
       "      <td>1259</td>\n",
       "      <td>103.27</td>\n",
       "      <td>0.08</td>\n",
       "    </tr>\n",
       "  </tbody>\n",
       "</table>\n",
       "</div>"
      ],
      "text/plain": [
       "            count     sum  ratio\n",
       "rating                          \n",
       "M             494  231.53   0.47\n",
       "E             340  112.92   0.33\n",
       "E10+          268   73.29   0.27\n",
       "T             394   65.80   0.17\n",
       "not_rating   1259  103.27   0.08"
      ]
     },
     "metadata": {},
     "output_type": "display_data"
    }
   ],
   "source": [
    "#строим и выводим сводную таблицу по Северной Америке\n",
    "rating_na = df_actuel.pivot_table(index = 'rating', values = 'na_sales', aggfunc=('sum','count'))\n",
    "\n",
    "#считаем колонку 'ratio' с долей проданных игр \n",
    "rating_na['ratio'] = round(rating_na['sum']/rating_na['count'],2)\n",
    "\n",
    "#сортируем по доле\n",
    "rating_na = rating_na.sort_values(by = 'ratio', ascending = False)\n",
    "display(rating_na)"
   ]
  },
  {
   "cell_type": "code",
   "execution_count": 35,
   "metadata": {},
   "outputs": [
    {
     "data": {
      "text/html": [
       "<div>\n",
       "<style scoped>\n",
       "    .dataframe tbody tr th:only-of-type {\n",
       "        vertical-align: middle;\n",
       "    }\n",
       "\n",
       "    .dataframe tbody tr th {\n",
       "        vertical-align: top;\n",
       "    }\n",
       "\n",
       "    .dataframe thead th {\n",
       "        text-align: right;\n",
       "    }\n",
       "</style>\n",
       "<table border=\"1\" class=\"dataframe\">\n",
       "  <thead>\n",
       "    <tr style=\"text-align: right;\">\n",
       "      <th></th>\n",
       "      <th>count</th>\n",
       "      <th>sum</th>\n",
       "      <th>ratio</th>\n",
       "    </tr>\n",
       "    <tr>\n",
       "      <th>rating</th>\n",
       "      <th></th>\n",
       "      <th></th>\n",
       "      <th></th>\n",
       "    </tr>\n",
       "  </thead>\n",
       "  <tbody>\n",
       "    <tr>\n",
       "      <td>M</td>\n",
       "      <td>494</td>\n",
       "      <td>194.19</td>\n",
       "      <td>0.39</td>\n",
       "    </tr>\n",
       "    <tr>\n",
       "      <td>E</td>\n",
       "      <td>340</td>\n",
       "      <td>110.95</td>\n",
       "      <td>0.33</td>\n",
       "    </tr>\n",
       "    <tr>\n",
       "      <td>E10+</td>\n",
       "      <td>268</td>\n",
       "      <td>52.48</td>\n",
       "      <td>0.20</td>\n",
       "    </tr>\n",
       "    <tr>\n",
       "      <td>T</td>\n",
       "      <td>394</td>\n",
       "      <td>52.82</td>\n",
       "      <td>0.13</td>\n",
       "    </tr>\n",
       "    <tr>\n",
       "      <td>not_rating</td>\n",
       "      <td>1259</td>\n",
       "      <td>91.24</td>\n",
       "      <td>0.07</td>\n",
       "    </tr>\n",
       "  </tbody>\n",
       "</table>\n",
       "</div>"
      ],
      "text/plain": [
       "            count     sum  ratio\n",
       "rating                          \n",
       "M             494  194.19   0.39\n",
       "E             340  110.95   0.33\n",
       "E10+          268   52.48   0.20\n",
       "T             394   52.82   0.13\n",
       "not_rating   1259   91.24   0.07"
      ]
     },
     "metadata": {},
     "output_type": "display_data"
    }
   ],
   "source": [
    "#строим и выводим сводную таблицу по Европе\n",
    "rating_eu = df_actuel.pivot_table(index = 'rating', values = 'eu_sales', aggfunc=('sum','count'))\n",
    "\n",
    "#считаем колонку 'ratio' с долей проданных игр \n",
    "rating_eu['ratio'] = round(rating_eu['sum']/rating_eu['count'],2)\n",
    "\n",
    "#сортируем по доле и выводим результат\n",
    "rating_eu = rating_eu.sort_values(by = 'ratio', ascending = False)\n",
    "display(rating_eu)"
   ]
  },
  {
   "cell_type": "markdown",
   "metadata": {},
   "source": [
    "**Рейтинги ESRB**\n",
    "\n",
    "Е - для всех\n",
    "Е10+ - для всех от 10 лет и старше\n",
    "Т - подросткам от 13 лет\n",
    "М - для взрослых от 17 лет\n",
    "\n",
    "Стандарт необязательно, но активно внедряемый. Был принят в США и Канаде, где он и известен больше всего. Видимо оттуда распространился в Европу. "
   ]
  },
  {
   "cell_type": "markdown",
   "metadata": {},
   "source": [
    "### Вывод \n",
    "\n",
    "Как видно из таблиц, в Японии рейтинги не работают. Возможно это связано с определенным менталитетом, возможно с тем, что в Японии другие возрастные границы и понимание того, что к этим граница относится, а скорее всего потому, что рейтинги ESRB это чисто Северо-Американское \"изобретение\" предназначенное для игр распространяемых на этой и зависимых от этого рынка территориях, как например в Европе. Предполагаю, что в Японии есть свои критерии и рейтинги для оценки выпускаемых игр, но их нет в этой базе. "
   ]
  },
  {
   "cell_type": "markdown",
   "metadata": {},
   "source": [
    "## Проверка гипотез"
   ]
  },
  {
   "cell_type": "markdown",
   "metadata": {},
   "source": [
    "**5.1** Формулируем гипотезу\n",
    "H0: Cредние пользовательские рейтинги для платформ Xbox One и PC равны\n",
    "H1: Cредние пользовательские рейтинги для платформ Xbox One и PC не равны "
   ]
  },
  {
   "cell_type": "code",
   "execution_count": 36,
   "metadata": {},
   "outputs": [
    {
     "name": "stdout",
     "output_type": "stream",
     "text": [
      "дисперсии выборок: для Xbox One 1.90 для PC 2.34\n",
      "p-значение: 4.935072360183565e-06\n",
      "вероятность получить ожидаемый результат низка, отвергаем нулевую гипотезу\n"
     ]
    }
   ],
   "source": [
    "# df_xbox, df_pc, df_action, df_sports  датафреймы-срезы  по соответствующим платформам и жанрам\n",
    " \n",
    "df_xone = df_usecore[df_usecore['platform']=='XOne']\n",
    "df_pc = df_usecore[df_usecore['platform']=='PC']\n",
    "df_action = df_usecore[df_usecore['genre']=='Action']\n",
    "df_sports = df_usecore[df_usecore['genre']=='Sports']\n",
    " \n",
    "alpha = 0.05  \n",
    "# уточнение дисперсий\n",
    "print('дисперсии выборок: для Xbox One {:.2f} для PC {:.2f}'.format(np.var(df_xone['user_score']), np.var(df_pc['user_score'])))\n",
    "\n",
    "# дисперсии близки, поэтому параметр  equal_var не используем \n",
    "results = st.ttest_ind(df_xone['user_score'], df_pc['user_score'], equal_var = False)\n",
    "\n",
    "print('p-значение:', results.pvalue)\n",
    "\n",
    "if results.pvalue < alpha:\n",
    "    print('вероятность получить ожидаемый результат низка, отвергаем нулевую гипотезу')\n",
    "else:\n",
    "    print('вероятность получить ожидаемый результат высока, не получилось отвергнуть нулевую гипотезу') \n",
    "\n"
   ]
  },
  {
   "cell_type": "markdown",
   "metadata": {},
   "source": [
    "**5.2** Формулируем гипотезу\n",
    "H0: Средние пользовательские рейтинги для жанров Action и Sport равны  \n",
    "H1: Средние польховательские рейтинги для жанров Action и Sport не равны (отличаются, разные)"
   ]
  },
  {
   "cell_type": "code",
   "execution_count": 37,
   "metadata": {},
   "outputs": [
    {
     "name": "stdout",
     "output_type": "stream",
     "text": [
      "дисперсии выборок: для Action 2.03 для Sport 2.59\n",
      "p-значение: 0.11483818791498286\n",
      "вероятность получить ожидаемый результат высока, не получилось отвергнуть нулевую гипотезу\n"
     ]
    }
   ],
   "source": [
    "alpha = 0.05  \n",
    "# уточнение дисперсий\n",
    "print('дисперсии выборок: для Action {:.2f} для Sport {:.2f}'.format(np.var(df_action['user_score']), np.var(df_sports['user_score'])))\n",
    "\n",
    "# дисперсии отличаются  \n",
    "results = st.ttest_ind(df_action['user_score'], df_sports['user_score'], equal_var = False)\n",
    "\n",
    "print('p-значение:', results.pvalue)\n",
    "\n",
    "if results.pvalue < alpha:\n",
    "    print('вероятность получить ожидаемый результат низка, отвергаем нулевую гипотезу')\n",
    "else:\n",
    "    print('вероятность получить ожидаемый результат высока, не получилось отвергнуть нулевую гипотезу') \n",
    "\n"
   ]
  },
  {
   "cell_type": "markdown",
   "metadata": {},
   "source": [
    "### Вывод\n",
    "1. Считаем что генеральные совокупности, а значит и предложенные нами выборки данных с выручкой независимыми.\n",
    "2. Количество значений в каждой из наших выборок больше двухсот, и в соответствии с ЦПТ можно считать, что выборочные средние рапределены нормально.\n",
    "3. Нулевые гипотезы в обоих примерах формулируем о равенстве средних.\n",
    "4. Пороговое значение alpha выбрано 0.05\n",
    "5. С учетом п.1 и п.2, для проверки гипотезы о равенсиве среднего двух генеральных совокупностей по их выборкам используем метод st.ttest_ind. В обоих случаях метод используем с учетом неравенства дисперсий.\n",
    "6. Гипотеза о равенстве cредних пользовательских рейтингов для платформ Xbox One и PC была отвергнута.\n",
    "7. Гипотеза о равенстве средних пользовательских рейтингов для жанров Action и Sport не отвергнута."
   ]
  },
  {
   "cell_type": "markdown",
   "metadata": {},
   "source": [
    "## Общий вывод"
   ]
  },
  {
   "cell_type": "markdown",
   "metadata": {},
   "source": [
    "Проведен предварительный анализ анализ данных, намечены пути обработки колонок таблиц и их дальнейшего использования. Проведена предварительная подготовка данных в таблицах - проведены проверки на выявление дубликатов, исправлены названия колонок, удалены пропуски в колонке name, заменены пропуски в колонках year_of_release и rating. Изменены форматы данных в колонках user_score и year_of_release. Создана колонка cumul_sales с общим количеством реализованных игр всех регионов.\n",
    "\n",
    "Cозданы рабочие датафреймы df (1992 - 2016гг) df_actuel (2012-2016), df_usecore и df_criticore с пользовательскими и критическими рейтингами игр. Эти таблицы в дальнейшем использовались для анализа данных. \n",
    "\n",
    "Анализировались следующие показатели:\n",
    "\n",
    "Анализ количество выпускаемых игр по годам выявил незначительные выпуски игр для игровых платформ в период до 1991 года. Результатом данных этого периода можно пренебречь. Выяснилось также, что в период до 1994 года не велась статистика по рейтингам всех видов, это стало одним из следствий большого количества пустот в колонках critic_score, user_score, rating\n",
    "\n",
    "Цикл жизни игровой платформы. Составляет 9 - 11 лет. За это время платформа появляется, растет, затем падает и исчезает.При этом 4-5 лет рост, затем 1-2 года пик продаж и 4 - 5 лет падение. Можно предсказать на каком этапе жизненного цикла сейчас находится игровая платформа если есть полные данные о количестве проданных копий за последние 4-5 лет. Поэтому актуальный\n",
    "период принимаем за 5 лет\n",
    "\n",
    "Анализируя актуальный период, определены перспективные игровые платформы на 2017 год PS4 и XOne. \n",
    "Статистика продаж перспективных игровых платформ очень обширна, от 10 тыс копий до 14 млн. При этом большое значение имеют звезды, уровень продаж которых исчисляется миллионами. У обоих топовых платформ среднее количество проданных игр отличается от медианы в несколько раз у PS4 в 4 раза, у XOne в 2 раза. Общее количество выпущенных игр за 5 лет около 300 у каждой платформы и если рассматривать цикл жизни, то до конца их существования ожидается примерно столько же. Обе платформе приближаются к своему пику.\n",
    "\n",
    "Анализируя boxplot \"старых\" платформ (PS2, PC) можно сделать вывод, что основная часть игр имеет короткий жизненный цикл, зато есть \"звезды\" продолжают продаваться весь цикл существования платформы, наверное до тех пор, пока существует техническая поддержка аппаратной части платформ. Из этого можно сделать вывод о том, что даже если количество продаваемых и выпускаемых игр игровой платформы падает и она находится на завершающем этапе жизни, некоторое время можно вкладываться в ТОПовые игры. \n",
    "\n",
    "Существует зависимость между количеством проданных копий игр и рейтингами критиков и пользователей. \n",
    "Cлабые и очень слабые разнознаковые коэффициенты корреляции, которые говорят о том, что прямой, линейной корреляции нет, особенно в части пользовательских оценок, корреляция близка к нулю. Но связь явно есть. Видно, что более высокие рейтинги имеют более продаваемые игры, и наоборот, лушие продажи игр при более высоких рейтингах. Примечательно то, что коэффициент корреляции пользовательски оценок растущих платформ, хоть и близок к нулю, всё же отрицательный, а \"старых\" платформ наоборот. Можно предположить, что оценки пользователей субъективны и зависят времени. Коэффициент корреляции оценок критиков также слабый, но всё же положительный и близок к критической границе 0.5, значит сами оценки менее субъективны, и всё таки имеют не нулевое линейное влияние на продажи.\n",
    "\n",
    "Прямой корреляции нет, темне менее чем выше рейтинг, тем большее количество копий игр продается.\n",
    "\n",
    "Самыми продаваемыми игровыми жанрами в период 2012-2016 год были  Action, Sports, Shooter и Role-Playing. Самое малое количество проданных копий в жанре Puzzle и Strategy. Разница между лидером более чем в 10 раз. Причем эта разница выросла за последние 10 лет. Сказывается увеличение аппартных мощностей.\n",
    "\n",
    "Предпочтения европейских пользователей почти равномерно распределены между игровыми платформами PS4 и PS3, в Северной Америке фаворитом является XBox360 с небольшим отрывом от PS3 и PS4.В Японии же колоссальное преимущество у мобильных платформ 3DS и PSV больше половины всех продаваемых игр в Японии были для этих игровых приставок.Возможно Японцы не любят сидеть на месте и играют в пути ???\n",
    "\n",
    "В игровых жанрах Японцы также сильно отличаются, они отдают предпочтения ролевым играм, на втором месте Action, в Европе и Америке наоборот Action бесспорный лидер, а ролевые только на 4м месте.\n",
    "\n",
    "Американо-Канадский рейтинг ESRB никак не влияет на продажи в Японии, зато развит и используется в Европе и Северной Америке. Без рейтинга там продается всего 7-8 % игр, большая часть продаваемых игр из категории М (игры для взрослых от 17лет)\n",
    "\n",
    "Гипотеза о том что: Средние пользовательские рейтинги платформ XBox One и PC равны отвергнута. Не отвергнута альтернативная гипотеза о том, что Средние пользовательские рейтинги платформа XBox One и PC не равны.\n",
    "\n",
    "Гипотеза о том, что: Средние пользовательские рейтинги для жанров Action и Sports равны  не отвергнута. Отвергнута альтернативная нипотеза о том, что Средние пользовательские рейтинги для жанров Action и Sports не равны."
   ]
  },
  {
   "cell_type": "code",
   "execution_count": null,
   "metadata": {},
   "outputs": [],
   "source": []
  }
 ],
 "metadata": {
  "ExecuteTimeLog": [
   {
    "duration": 1099,
    "start_time": "2022-01-11T07:36:04.461Z"
   },
   {
    "duration": 10,
    "start_time": "2022-01-11T07:39:50.588Z"
   },
   {
    "duration": 525,
    "start_time": "2022-01-11T07:43:39.132Z"
   },
   {
    "duration": 299,
    "start_time": "2022-01-11T07:45:22.664Z"
   },
   {
    "duration": 282,
    "start_time": "2022-01-11T07:49:11.103Z"
   },
   {
    "duration": 201,
    "start_time": "2022-01-11T07:52:33.124Z"
   },
   {
    "duration": 227,
    "start_time": "2022-01-11T07:53:04.283Z"
   },
   {
    "duration": 229,
    "start_time": "2022-01-11T07:54:11.267Z"
   },
   {
    "duration": 44,
    "start_time": "2022-01-11T07:54:23.047Z"
   },
   {
    "duration": 10,
    "start_time": "2022-01-11T07:54:24.331Z"
   },
   {
    "duration": 212,
    "start_time": "2022-01-11T07:54:26.403Z"
   },
   {
    "duration": 275,
    "start_time": "2022-01-11T07:55:24.555Z"
   },
   {
    "duration": 360,
    "start_time": "2022-01-11T07:57:47.039Z"
   },
   {
    "duration": 42,
    "start_time": "2022-01-11T08:01:56.002Z"
   },
   {
    "duration": 11,
    "start_time": "2022-01-11T08:01:56.774Z"
   },
   {
    "duration": 203,
    "start_time": "2022-01-11T08:01:57.414Z"
   },
   {
    "duration": 297,
    "start_time": "2022-01-11T08:02:20.166Z"
   },
   {
    "duration": 9,
    "start_time": "2022-01-11T08:02:20.819Z"
   },
   {
    "duration": 3787,
    "start_time": "2022-01-11T08:17:47.188Z"
   },
   {
    "duration": 1640,
    "start_time": "2022-01-11T08:18:11.248Z"
   },
   {
    "duration": 782,
    "start_time": "2022-01-11T08:18:42.816Z"
   },
   {
    "duration": 3417,
    "start_time": "2022-01-11T08:19:01.284Z"
   },
   {
    "duration": 1774,
    "start_time": "2022-01-11T08:21:21.193Z"
   },
   {
    "duration": 2249,
    "start_time": "2022-01-11T08:21:47.944Z"
   },
   {
    "duration": 45,
    "start_time": "2022-01-11T08:26:34.275Z"
   },
   {
    "duration": 11,
    "start_time": "2022-01-11T09:13:07.164Z"
   },
   {
    "duration": 43,
    "start_time": "2022-01-11T09:14:06.051Z"
   },
   {
    "duration": 4,
    "start_time": "2022-01-11T09:14:08.387Z"
   },
   {
    "duration": 2,
    "start_time": "2022-01-11T10:34:21.369Z"
   },
   {
    "duration": 46,
    "start_time": "2022-01-11T10:34:41.194Z"
   },
   {
    "duration": 5,
    "start_time": "2022-01-11T10:34:42.106Z"
   },
   {
    "duration": 19,
    "start_time": "2022-01-11T10:34:43.297Z"
   },
   {
    "duration": 20,
    "start_time": "2022-01-11T10:34:57.569Z"
   },
   {
    "duration": 214,
    "start_time": "2022-01-11T10:36:06.686Z"
   },
   {
    "duration": 197,
    "start_time": "2022-01-11T10:36:36.485Z"
   },
   {
    "duration": 9,
    "start_time": "2022-01-11T10:37:38.965Z"
   },
   {
    "duration": 12,
    "start_time": "2022-01-11T10:38:06.309Z"
   },
   {
    "duration": 15,
    "start_time": "2022-01-11T10:39:39.981Z"
   },
   {
    "duration": 16,
    "start_time": "2022-01-11T10:39:49.177Z"
   },
   {
    "duration": 88,
    "start_time": "2022-01-11T11:08:28.030Z"
   },
   {
    "duration": 563,
    "start_time": "2022-01-11T11:08:48.470Z"
   },
   {
    "duration": 42,
    "start_time": "2022-01-11T11:15:21.718Z"
   },
   {
    "duration": 5,
    "start_time": "2022-01-11T11:15:22.613Z"
   },
   {
    "duration": 15,
    "start_time": "2022-01-11T11:15:23.574Z"
   },
   {
    "duration": 6694,
    "start_time": "2022-01-11T11:24:26.145Z"
   },
   {
    "duration": 5070,
    "start_time": "2022-01-11T11:24:39.449Z"
   },
   {
    "duration": 50,
    "start_time": "2022-01-11T11:25:43.852Z"
   },
   {
    "duration": 5645,
    "start_time": "2022-01-11T11:25:45.021Z"
   },
   {
    "duration": 8,
    "start_time": "2022-01-11T11:26:35.432Z"
   },
   {
    "duration": 15,
    "start_time": "2022-01-11T11:26:54.848Z"
   },
   {
    "duration": 43,
    "start_time": "2022-01-11T11:27:44.525Z"
   },
   {
    "duration": 7,
    "start_time": "2022-01-11T11:27:45.321Z"
   },
   {
    "duration": 15,
    "start_time": "2022-01-11T11:27:50.148Z"
   },
   {
    "duration": 549,
    "start_time": "2022-01-11T11:28:34.472Z"
   },
   {
    "duration": 25,
    "start_time": "2022-01-11T11:30:12.004Z"
   },
   {
    "duration": 2138,
    "start_time": "2022-01-11T11:31:28.043Z"
   },
   {
    "duration": 11,
    "start_time": "2022-01-11T11:31:52.274Z"
   },
   {
    "duration": 201,
    "start_time": "2022-01-11T11:36:15.736Z"
   },
   {
    "duration": 4538,
    "start_time": "2022-01-11T11:37:05.410Z"
   },
   {
    "duration": 9220,
    "start_time": "2022-01-11T11:37:34.836Z"
   },
   {
    "duration": 66,
    "start_time": "2022-01-11T11:38:57.004Z"
   },
   {
    "duration": 19,
    "start_time": "2022-01-11T11:39:06.332Z"
   },
   {
    "duration": 9,
    "start_time": "2022-01-11T11:39:21.975Z"
   },
   {
    "duration": 67,
    "start_time": "2022-01-11T11:51:35.762Z"
   },
   {
    "duration": 19,
    "start_time": "2022-01-11T11:51:41.562Z"
   },
   {
    "duration": 484,
    "start_time": "2022-01-11T11:53:39.218Z"
   },
   {
    "duration": 69,
    "start_time": "2022-01-11T11:58:03.962Z"
   },
   {
    "duration": 7,
    "start_time": "2022-01-11T12:01:06.037Z"
   },
   {
    "duration": 46,
    "start_time": "2022-01-11T12:04:15.694Z"
   },
   {
    "duration": 9,
    "start_time": "2022-01-11T12:04:16.575Z"
   },
   {
    "duration": 22,
    "start_time": "2022-01-11T12:04:19.124Z"
   },
   {
    "duration": 70,
    "start_time": "2022-01-11T12:04:20.065Z"
   },
   {
    "duration": 487,
    "start_time": "2022-01-11T12:16:17.116Z"
   },
   {
    "duration": 99,
    "start_time": "2022-01-11T12:17:57.148Z"
   },
   {
    "duration": 83,
    "start_time": "2022-01-11T12:19:17.440Z"
   },
   {
    "duration": 29,
    "start_time": "2022-01-11T12:19:57.728Z"
   },
   {
    "duration": 3,
    "start_time": "2022-01-11T12:54:29.625Z"
   },
   {
    "duration": 2,
    "start_time": "2022-01-11T12:54:36.601Z"
   },
   {
    "duration": 1060,
    "start_time": "2022-01-15T13:57:55.299Z"
   },
   {
    "duration": 9,
    "start_time": "2022-01-15T13:57:56.361Z"
   },
   {
    "duration": 32,
    "start_time": "2022-01-15T13:57:56.372Z"
   },
   {
    "duration": 2,
    "start_time": "2022-01-15T13:57:56.406Z"
   },
   {
    "duration": 2424,
    "start_time": "2022-01-15T13:57:56.410Z"
   },
   {
    "duration": 12,
    "start_time": "2022-01-15T13:57:58.836Z"
   },
   {
    "duration": 11,
    "start_time": "2022-01-15T13:58:46.528Z"
   },
   {
    "duration": 23,
    "start_time": "2022-01-15T14:01:11.591Z"
   },
   {
    "duration": 8,
    "start_time": "2022-01-15T14:01:52.535Z"
   },
   {
    "duration": 23,
    "start_time": "2022-01-15T14:05:03.823Z"
   },
   {
    "duration": 346,
    "start_time": "2022-01-15T14:06:09.699Z"
   },
   {
    "duration": 262,
    "start_time": "2022-01-15T14:10:49.923Z"
   },
   {
    "duration": 276,
    "start_time": "2022-01-15T14:12:05.274Z"
   },
   {
    "duration": 432,
    "start_time": "2022-01-15T14:12:23.530Z"
   },
   {
    "duration": 406,
    "start_time": "2022-01-15T14:12:58.410Z"
   },
   {
    "duration": 376,
    "start_time": "2022-01-15T14:15:24.402Z"
   },
   {
    "duration": 348,
    "start_time": "2022-01-15T14:16:06.162Z"
   },
   {
    "duration": 507,
    "start_time": "2022-01-15T14:16:26.454Z"
   },
   {
    "duration": 347,
    "start_time": "2022-01-15T14:16:41.850Z"
   },
   {
    "duration": 356,
    "start_time": "2022-01-15T14:17:03.074Z"
   },
   {
    "duration": 66,
    "start_time": "2022-01-15T14:17:31.182Z"
   },
   {
    "duration": 74,
    "start_time": "2022-01-15T14:18:35.579Z"
   },
   {
    "duration": 69,
    "start_time": "2022-01-15T14:18:45.182Z"
   },
   {
    "duration": 371,
    "start_time": "2022-01-15T14:18:58.342Z"
   },
   {
    "duration": 363,
    "start_time": "2022-01-15T14:19:41.006Z"
   },
   {
    "duration": 3895,
    "start_time": "2022-01-15T14:21:55.054Z"
   },
   {
    "duration": 17,
    "start_time": "2022-01-15T14:21:58.952Z"
   },
   {
    "duration": 2524,
    "start_time": "2022-01-15T14:25:35.950Z"
   },
   {
    "duration": 1064,
    "start_time": "2022-01-15T14:25:46.386Z"
   },
   {
    "duration": 8,
    "start_time": "2022-01-15T14:25:47.452Z"
   },
   {
    "duration": 24,
    "start_time": "2022-01-15T14:25:47.463Z"
   },
   {
    "duration": 2,
    "start_time": "2022-01-15T14:25:47.489Z"
   },
   {
    "duration": 2587,
    "start_time": "2022-01-15T14:25:47.492Z"
   },
   {
    "duration": 1674,
    "start_time": "2022-01-15T14:25:48.407Z"
   },
   {
    "duration": 1673,
    "start_time": "2022-01-15T14:25:48.409Z"
   },
   {
    "duration": 1673,
    "start_time": "2022-01-15T14:25:48.410Z"
   },
   {
    "duration": 2645,
    "start_time": "2022-01-15T14:26:20.373Z"
   },
   {
    "duration": 2690,
    "start_time": "2022-01-15T14:27:07.613Z"
   },
   {
    "duration": 2274,
    "start_time": "2022-01-15T14:27:45.605Z"
   },
   {
    "duration": 11,
    "start_time": "2022-01-15T14:27:58.777Z"
   },
   {
    "duration": 454,
    "start_time": "2022-01-15T14:28:05.561Z"
   },
   {
    "duration": 393,
    "start_time": "2022-01-15T14:28:06.465Z"
   },
   {
    "duration": 2135,
    "start_time": "2022-01-15T14:28:49.629Z"
   },
   {
    "duration": 1122,
    "start_time": "2022-01-15T14:30:11.321Z"
   },
   {
    "duration": 9,
    "start_time": "2022-01-15T14:30:12.444Z"
   },
   {
    "duration": 22,
    "start_time": "2022-01-15T14:30:12.455Z"
   },
   {
    "duration": 2,
    "start_time": "2022-01-15T14:30:12.479Z"
   },
   {
    "duration": 2211,
    "start_time": "2022-01-15T14:30:12.483Z"
   },
   {
    "duration": 13,
    "start_time": "2022-01-15T14:30:14.696Z"
   },
   {
    "duration": 472,
    "start_time": "2022-01-15T14:30:14.711Z"
   },
   {
    "duration": 407,
    "start_time": "2022-01-15T14:30:15.186Z"
   },
   {
    "duration": 387,
    "start_time": "2022-01-15T14:32:24.660Z"
   },
   {
    "duration": 374,
    "start_time": "2022-01-15T14:33:20.156Z"
   },
   {
    "duration": 279,
    "start_time": "2022-01-15T14:35:58.140Z"
   },
   {
    "duration": 200,
    "start_time": "2022-01-15T14:36:28.588Z"
   },
   {
    "duration": 272,
    "start_time": "2022-01-15T14:37:36.344Z"
   },
   {
    "duration": 342,
    "start_time": "2022-01-15T14:38:10.304Z"
   },
   {
    "duration": 281,
    "start_time": "2022-01-15T14:40:44.823Z"
   },
   {
    "duration": 1134,
    "start_time": "2022-01-15T14:42:35.209Z"
   },
   {
    "duration": 10,
    "start_time": "2022-01-15T14:42:36.345Z"
   },
   {
    "duration": 32,
    "start_time": "2022-01-15T14:42:36.360Z"
   },
   {
    "duration": 2,
    "start_time": "2022-01-15T14:42:36.393Z"
   },
   {
    "duration": 2249,
    "start_time": "2022-01-15T14:42:36.397Z"
   },
   {
    "duration": 11,
    "start_time": "2022-01-15T14:42:38.648Z"
   },
   {
    "duration": 432,
    "start_time": "2022-01-15T14:42:38.662Z"
   },
   {
    "duration": 391,
    "start_time": "2022-01-15T14:42:39.096Z"
   },
   {
    "duration": 295,
    "start_time": "2022-01-15T14:42:39.489Z"
   },
   {
    "duration": 298,
    "start_time": "2022-01-15T14:42:39.786Z"
   },
   {
    "duration": 1138,
    "start_time": "2022-01-15T15:28:19.124Z"
   },
   {
    "duration": 10,
    "start_time": "2022-01-15T15:28:20.264Z"
   },
   {
    "duration": 28,
    "start_time": "2022-01-15T15:28:20.276Z"
   },
   {
    "duration": 2,
    "start_time": "2022-01-15T15:28:20.307Z"
   },
   {
    "duration": 2290,
    "start_time": "2022-01-15T15:28:20.311Z"
   },
   {
    "duration": 12,
    "start_time": "2022-01-15T15:28:22.603Z"
   },
   {
    "duration": 467,
    "start_time": "2022-01-15T15:28:22.616Z"
   },
   {
    "duration": 410,
    "start_time": "2022-01-15T15:28:23.085Z"
   },
   {
    "duration": 303,
    "start_time": "2022-01-15T15:28:23.497Z"
   },
   {
    "duration": 315,
    "start_time": "2022-01-15T15:28:23.802Z"
   },
   {
    "duration": 297,
    "start_time": "2022-01-15T15:28:24.119Z"
   },
   {
    "duration": 296,
    "start_time": "2022-01-15T15:28:24.417Z"
   },
   {
    "duration": 288,
    "start_time": "2022-01-15T15:33:54.034Z"
   },
   {
    "duration": 370,
    "start_time": "2022-01-15T15:33:57.639Z"
   },
   {
    "duration": 550,
    "start_time": "2022-01-15T15:39:33.867Z"
   },
   {
    "duration": 450,
    "start_time": "2022-01-15T15:40:10.739Z"
   },
   {
    "duration": 449,
    "start_time": "2022-01-15T15:40:39.594Z"
   },
   {
    "duration": 453,
    "start_time": "2022-01-15T15:41:22.462Z"
   },
   {
    "duration": 415,
    "start_time": "2022-01-15T15:41:32.590Z"
   },
   {
    "duration": 351,
    "start_time": "2022-01-15T15:43:24.461Z"
   },
   {
    "duration": 37,
    "start_time": "2022-01-15T15:53:30.126Z"
   },
   {
    "duration": 74,
    "start_time": "2022-01-15T15:54:43.226Z"
   },
   {
    "duration": 5208,
    "start_time": "2022-01-15T15:56:33.118Z"
   },
   {
    "duration": 348,
    "start_time": "2022-01-15T15:57:07.305Z"
   },
   {
    "duration": 3,
    "start_time": "2022-01-15T15:58:04.077Z"
   },
   {
    "duration": 1085,
    "start_time": "2022-01-15T16:07:51.507Z"
   },
   {
    "duration": 8,
    "start_time": "2022-01-15T16:07:52.593Z"
   },
   {
    "duration": 39,
    "start_time": "2022-01-15T16:07:52.603Z"
   },
   {
    "duration": 12,
    "start_time": "2022-01-15T16:07:52.644Z"
   },
   {
    "duration": 2211,
    "start_time": "2022-01-15T16:07:52.657Z"
   },
   {
    "duration": 13,
    "start_time": "2022-01-15T16:07:54.870Z"
   },
   {
    "duration": 429,
    "start_time": "2022-01-15T16:07:54.885Z"
   },
   {
    "duration": 399,
    "start_time": "2022-01-15T16:07:55.317Z"
   },
   {
    "duration": 9,
    "start_time": "2022-01-15T16:07:55.718Z"
   },
   {
    "duration": 275,
    "start_time": "2022-01-15T16:07:55.729Z"
   },
   {
    "duration": 273,
    "start_time": "2022-01-15T16:07:56.006Z"
   },
   {
    "duration": 281,
    "start_time": "2022-01-15T16:07:56.280Z"
   },
   {
    "duration": 281,
    "start_time": "2022-01-15T16:07:56.562Z"
   },
   {
    "duration": 290,
    "start_time": "2022-01-15T16:07:56.844Z"
   },
   {
    "duration": 371,
    "start_time": "2022-01-15T16:07:57.141Z"
   },
   {
    "duration": 3,
    "start_time": "2022-01-15T16:07:57.514Z"
   },
   {
    "duration": 373,
    "start_time": "2022-01-15T16:09:22.456Z"
   },
   {
    "duration": 277,
    "start_time": "2022-01-15T16:10:51.712Z"
   },
   {
    "duration": 1076,
    "start_time": "2022-01-15T16:12:40.171Z"
   },
   {
    "duration": 8,
    "start_time": "2022-01-15T16:12:41.249Z"
   },
   {
    "duration": 47,
    "start_time": "2022-01-15T16:12:41.259Z"
   },
   {
    "duration": 22,
    "start_time": "2022-01-15T16:12:41.307Z"
   },
   {
    "duration": 2510,
    "start_time": "2022-01-15T16:12:41.331Z"
   },
   {
    "duration": 11,
    "start_time": "2022-01-15T16:12:43.842Z"
   },
   {
    "duration": 516,
    "start_time": "2022-01-15T16:12:43.854Z"
   },
   {
    "duration": 477,
    "start_time": "2022-01-15T16:12:44.372Z"
   },
   {
    "duration": 384,
    "start_time": "2022-01-15T16:12:44.851Z"
   },
   {
    "duration": 264,
    "start_time": "2022-01-15T16:12:45.240Z"
   },
   {
    "duration": 281,
    "start_time": "2022-01-15T16:12:45.505Z"
   },
   {
    "duration": 273,
    "start_time": "2022-01-15T16:12:45.787Z"
   },
   {
    "duration": 335,
    "start_time": "2022-01-15T16:12:46.062Z"
   },
   {
    "duration": 285,
    "start_time": "2022-01-15T16:12:46.399Z"
   },
   {
    "duration": 273,
    "start_time": "2022-01-15T16:12:46.686Z"
   },
   {
    "duration": 3,
    "start_time": "2022-01-15T16:12:46.961Z"
   },
   {
    "duration": 271,
    "start_time": "2022-01-15T16:14:15.059Z"
   },
   {
    "duration": 78,
    "start_time": "2022-01-15T16:31:57.022Z"
   },
   {
    "duration": 312,
    "start_time": "2022-01-15T16:45:26.110Z"
   },
   {
    "duration": 417,
    "start_time": "2022-01-15T16:45:33.913Z"
   },
   {
    "duration": 353,
    "start_time": "2022-01-15T16:58:15.082Z"
   },
   {
    "duration": 366,
    "start_time": "2022-01-15T16:58:19.334Z"
   },
   {
    "duration": 283,
    "start_time": "2022-01-15T17:00:20.434Z"
   },
   {
    "duration": 378,
    "start_time": "2022-01-15T17:00:25.654Z"
   },
   {
    "duration": 277,
    "start_time": "2022-01-15T17:00:29.438Z"
   },
   {
    "duration": 11,
    "start_time": "2022-01-15T17:02:57.642Z"
   },
   {
    "duration": 222,
    "start_time": "2022-01-15T17:03:37.253Z"
   },
   {
    "duration": 7,
    "start_time": "2022-01-15T17:04:28.113Z"
   },
   {
    "duration": 249,
    "start_time": "2022-01-15T17:04:48.278Z"
   },
   {
    "duration": 192,
    "start_time": "2022-01-15T17:04:57.270Z"
   },
   {
    "duration": 8,
    "start_time": "2022-01-15T17:06:32.250Z"
   },
   {
    "duration": 7,
    "start_time": "2022-01-15T17:06:43.806Z"
   },
   {
    "duration": 6,
    "start_time": "2022-01-15T17:07:19.519Z"
   },
   {
    "duration": 81,
    "start_time": "2022-01-15T17:08:45.689Z"
   },
   {
    "duration": 19,
    "start_time": "2022-01-15T17:08:50.506Z"
   },
   {
    "duration": 20,
    "start_time": "2022-01-15T17:09:32.837Z"
   },
   {
    "duration": 19,
    "start_time": "2022-01-15T17:09:45.181Z"
   },
   {
    "duration": 207,
    "start_time": "2022-01-15T17:10:27.857Z"
   },
   {
    "duration": 19,
    "start_time": "2022-01-15T17:10:47.209Z"
   },
   {
    "duration": 205,
    "start_time": "2022-01-15T17:11:23.841Z"
   },
   {
    "duration": 19,
    "start_time": "2022-01-15T17:11:34.309Z"
   },
   {
    "duration": 20,
    "start_time": "2022-01-15T17:12:08.485Z"
   },
   {
    "duration": 19,
    "start_time": "2022-01-15T17:15:28.973Z"
   },
   {
    "duration": 15,
    "start_time": "2022-01-15T17:20:59.672Z"
   },
   {
    "duration": 24,
    "start_time": "2022-01-15T17:24:05.088Z"
   },
   {
    "duration": 21,
    "start_time": "2022-01-15T17:24:59.524Z"
   },
   {
    "duration": 21,
    "start_time": "2022-01-15T17:25:59.884Z"
   },
   {
    "duration": 21,
    "start_time": "2022-01-15T17:28:10.308Z"
   },
   {
    "duration": 21,
    "start_time": "2022-01-15T17:28:42.475Z"
   },
   {
    "duration": 68,
    "start_time": "2022-01-15T17:30:09.651Z"
   },
   {
    "duration": 20,
    "start_time": "2022-01-15T17:30:17.211Z"
   },
   {
    "duration": 24,
    "start_time": "2022-01-15T17:30:54.551Z"
   },
   {
    "duration": 5,
    "start_time": "2022-01-15T17:32:44.787Z"
   },
   {
    "duration": 29,
    "start_time": "2022-01-15T17:33:48.483Z"
   },
   {
    "duration": 263,
    "start_time": "2022-01-15T17:35:08.927Z"
   },
   {
    "duration": 283,
    "start_time": "2022-01-15T17:35:12.782Z"
   },
   {
    "duration": 271,
    "start_time": "2022-01-15T17:35:16.007Z"
   },
   {
    "duration": 1029,
    "start_time": "2022-01-15T17:35:30.002Z"
   },
   {
    "duration": 9,
    "start_time": "2022-01-15T17:35:31.033Z"
   },
   {
    "duration": 44,
    "start_time": "2022-01-15T17:35:31.044Z"
   },
   {
    "duration": 9,
    "start_time": "2022-01-15T17:35:31.090Z"
   },
   {
    "duration": 9,
    "start_time": "2022-01-15T17:35:31.101Z"
   },
   {
    "duration": 2273,
    "start_time": "2022-01-15T17:35:31.111Z"
   },
   {
    "duration": 11,
    "start_time": "2022-01-15T17:35:33.385Z"
   },
   {
    "duration": 442,
    "start_time": "2022-01-15T17:35:33.399Z"
   },
   {
    "duration": 378,
    "start_time": "2022-01-15T17:35:33.843Z"
   },
   {
    "duration": 384,
    "start_time": "2022-01-15T17:35:34.222Z"
   },
   {
    "duration": 280,
    "start_time": "2022-01-15T17:35:34.607Z"
   },
   {
    "duration": 281,
    "start_time": "2022-01-15T17:35:34.889Z"
   },
   {
    "duration": 272,
    "start_time": "2022-01-15T17:35:35.172Z"
   },
   {
    "duration": 346,
    "start_time": "2022-01-15T17:35:35.445Z"
   },
   {
    "duration": 276,
    "start_time": "2022-01-15T17:35:35.793Z"
   },
   {
    "duration": 259,
    "start_time": "2022-01-15T17:35:36.071Z"
   },
   {
    "duration": 9,
    "start_time": "2022-01-15T17:35:36.332Z"
   },
   {
    "duration": 64,
    "start_time": "2022-01-15T17:35:36.342Z"
   },
   {
    "duration": 2166,
    "start_time": "2022-01-15T17:35:34.242Z"
   },
   {
    "duration": 2163,
    "start_time": "2022-01-15T17:35:34.246Z"
   },
   {
    "duration": 2162,
    "start_time": "2022-01-15T17:35:34.248Z"
   },
   {
    "duration": 2161,
    "start_time": "2022-01-15T17:35:34.250Z"
   },
   {
    "duration": 2159,
    "start_time": "2022-01-15T17:35:34.253Z"
   },
   {
    "duration": 2158,
    "start_time": "2022-01-15T17:35:34.255Z"
   },
   {
    "duration": 2156,
    "start_time": "2022-01-15T17:35:34.258Z"
   },
   {
    "duration": 3,
    "start_time": "2022-01-15T17:36:08.442Z"
   },
   {
    "duration": 366,
    "start_time": "2022-01-15T17:36:10.342Z"
   },
   {
    "duration": 363,
    "start_time": "2022-01-15T17:36:12.978Z"
   },
   {
    "duration": 358,
    "start_time": "2022-01-15T17:36:14.214Z"
   },
   {
    "duration": 275,
    "start_time": "2022-01-15T17:36:15.506Z"
   },
   {
    "duration": 29,
    "start_time": "2022-01-15T17:36:16.703Z"
   },
   {
    "duration": 286,
    "start_time": "2022-01-15T17:36:18.123Z"
   },
   {
    "duration": 278,
    "start_time": "2022-01-15T17:36:19.298Z"
   },
   {
    "duration": 290,
    "start_time": "2022-01-15T17:46:06.413Z"
   },
   {
    "duration": 18,
    "start_time": "2022-01-15T17:46:27.441Z"
   },
   {
    "duration": 1142,
    "start_time": "2022-01-15T17:46:51.711Z"
   },
   {
    "duration": 9,
    "start_time": "2022-01-15T17:46:52.855Z"
   },
   {
    "duration": 35,
    "start_time": "2022-01-15T17:46:52.866Z"
   },
   {
    "duration": 2,
    "start_time": "2022-01-15T17:46:52.903Z"
   },
   {
    "duration": 10,
    "start_time": "2022-01-15T17:46:52.907Z"
   },
   {
    "duration": 2374,
    "start_time": "2022-01-15T17:46:52.919Z"
   },
   {
    "duration": 11,
    "start_time": "2022-01-15T17:46:55.295Z"
   },
   {
    "duration": 449,
    "start_time": "2022-01-15T17:46:55.309Z"
   },
   {
    "duration": 654,
    "start_time": "2022-01-15T17:46:55.761Z"
   },
   {
    "duration": 428,
    "start_time": "2022-01-15T17:46:56.417Z"
   },
   {
    "duration": 285,
    "start_time": "2022-01-15T17:46:56.847Z"
   },
   {
    "duration": 287,
    "start_time": "2022-01-15T17:46:57.134Z"
   },
   {
    "duration": 293,
    "start_time": "2022-01-15T17:46:57.423Z"
   },
   {
    "duration": 366,
    "start_time": "2022-01-15T17:46:57.717Z"
   },
   {
    "duration": 300,
    "start_time": "2022-01-15T17:46:58.085Z"
   },
   {
    "duration": 385,
    "start_time": "2022-01-15T17:46:58.387Z"
   },
   {
    "duration": 2,
    "start_time": "2022-01-15T17:46:58.774Z"
   },
   {
    "duration": 31,
    "start_time": "2022-01-15T17:46:58.778Z"
   },
   {
    "duration": 37,
    "start_time": "2022-01-15T17:46:58.811Z"
   },
   {
    "duration": 393,
    "start_time": "2022-01-15T17:46:58.850Z"
   },
   {
    "duration": 385,
    "start_time": "2022-01-15T17:46:59.244Z"
   },
   {
    "duration": 388,
    "start_time": "2022-01-15T17:46:59.631Z"
   },
   {
    "duration": 299,
    "start_time": "2022-01-15T17:47:00.022Z"
   },
   {
    "duration": 39,
    "start_time": "2022-01-15T17:47:00.322Z"
   },
   {
    "duration": 307,
    "start_time": "2022-01-15T17:47:00.363Z"
   },
   {
    "duration": 388,
    "start_time": "2022-01-15T17:47:00.672Z"
   },
   {
    "duration": 17,
    "start_time": "2022-01-15T17:47:53.198Z"
   },
   {
    "duration": 21,
    "start_time": "2022-01-15T17:48:36.178Z"
   },
   {
    "duration": 21,
    "start_time": "2022-01-15T17:48:55.946Z"
   },
   {
    "duration": 48,
    "start_time": "2022-01-15T17:49:31.027Z"
   },
   {
    "duration": 22,
    "start_time": "2022-01-15T17:50:44.226Z"
   },
   {
    "duration": 25,
    "start_time": "2022-01-15T17:54:53.942Z"
   },
   {
    "duration": 318,
    "start_time": "2022-01-15T17:57:34.398Z"
   },
   {
    "duration": 1046,
    "start_time": "2022-01-15T17:58:14.189Z"
   },
   {
    "duration": 9,
    "start_time": "2022-01-15T17:58:15.237Z"
   },
   {
    "duration": 37,
    "start_time": "2022-01-15T17:58:15.249Z"
   },
   {
    "duration": 1,
    "start_time": "2022-01-15T17:58:15.288Z"
   },
   {
    "duration": 7,
    "start_time": "2022-01-15T17:58:15.291Z"
   },
   {
    "duration": 2200,
    "start_time": "2022-01-15T17:58:15.300Z"
   },
   {
    "duration": 11,
    "start_time": "2022-01-15T17:58:17.502Z"
   },
   {
    "duration": 420,
    "start_time": "2022-01-15T17:58:17.515Z"
   },
   {
    "duration": 390,
    "start_time": "2022-01-15T17:58:17.937Z"
   },
   {
    "duration": 366,
    "start_time": "2022-01-15T17:58:18.329Z"
   },
   {
    "duration": 256,
    "start_time": "2022-01-15T17:58:18.697Z"
   },
   {
    "duration": 278,
    "start_time": "2022-01-15T17:58:18.955Z"
   },
   {
    "duration": 277,
    "start_time": "2022-01-15T17:58:19.234Z"
   },
   {
    "duration": 337,
    "start_time": "2022-01-15T17:58:19.513Z"
   },
   {
    "duration": 280,
    "start_time": "2022-01-15T17:58:19.851Z"
   },
   {
    "duration": 269,
    "start_time": "2022-01-15T17:58:20.133Z"
   },
   {
    "duration": 2,
    "start_time": "2022-01-15T17:58:20.404Z"
   },
   {
    "duration": 6,
    "start_time": "2022-01-15T17:58:20.407Z"
   },
   {
    "duration": 30,
    "start_time": "2022-01-15T17:58:20.415Z"
   },
   {
    "duration": 2,
    "start_time": "2022-01-15T17:58:20.446Z"
   },
   {
    "duration": 369,
    "start_time": "2022-01-15T17:58:20.450Z"
   },
   {
    "duration": 366,
    "start_time": "2022-01-15T17:58:20.822Z"
   },
   {
    "duration": 365,
    "start_time": "2022-01-15T17:58:21.190Z"
   },
   {
    "duration": 278,
    "start_time": "2022-01-15T17:58:21.557Z"
   },
   {
    "duration": 30,
    "start_time": "2022-01-15T17:58:21.841Z"
   },
   {
    "duration": 305,
    "start_time": "2022-01-15T17:58:21.873Z"
   },
   {
    "duration": 367,
    "start_time": "2022-01-15T17:58:22.179Z"
   },
   {
    "duration": 21,
    "start_time": "2022-01-15T17:58:43.006Z"
   },
   {
    "duration": 21,
    "start_time": "2022-01-15T17:59:48.293Z"
   },
   {
    "duration": 316,
    "start_time": "2022-01-15T18:00:19.253Z"
   },
   {
    "duration": 36,
    "start_time": "2022-01-15T18:00:29.865Z"
   },
   {
    "duration": 5,
    "start_time": "2022-01-15T18:05:16.761Z"
   },
   {
    "duration": 223,
    "start_time": "2022-01-15T18:10:53.117Z"
   },
   {
    "duration": 205,
    "start_time": "2022-01-15T18:12:20.084Z"
   },
   {
    "duration": 43,
    "start_time": "2022-01-15T18:12:33.432Z"
   },
   {
    "duration": 42,
    "start_time": "2022-01-15T18:13:04.616Z"
   },
   {
    "duration": 43,
    "start_time": "2022-01-15T18:21:52.903Z"
   },
   {
    "duration": 33,
    "start_time": "2022-01-15T18:23:25.159Z"
   },
   {
    "duration": 33,
    "start_time": "2022-01-15T18:23:41.067Z"
   },
   {
    "duration": 199,
    "start_time": "2022-01-15T18:25:49.639Z"
   },
   {
    "duration": 203,
    "start_time": "2022-01-15T18:26:50.527Z"
   },
   {
    "duration": 808,
    "start_time": "2022-01-15T18:28:32.359Z"
   },
   {
    "duration": 200,
    "start_time": "2022-01-15T18:29:37.378Z"
   },
   {
    "duration": 400,
    "start_time": "2022-01-15T18:30:55.930Z"
   },
   {
    "duration": 1045,
    "start_time": "2022-01-15T18:31:12.877Z"
   },
   {
    "duration": 8,
    "start_time": "2022-01-15T18:31:13.924Z"
   },
   {
    "duration": 42,
    "start_time": "2022-01-15T18:31:13.934Z"
   },
   {
    "duration": 2,
    "start_time": "2022-01-15T18:31:13.978Z"
   },
   {
    "duration": 10,
    "start_time": "2022-01-15T18:31:13.981Z"
   },
   {
    "duration": 16,
    "start_time": "2022-01-15T18:31:13.992Z"
   },
   {
    "duration": 2116,
    "start_time": "2022-01-15T18:31:14.009Z"
   },
   {
    "duration": 14,
    "start_time": "2022-01-15T18:31:16.128Z"
   },
   {
    "duration": 412,
    "start_time": "2022-01-15T18:31:16.144Z"
   },
   {
    "duration": 369,
    "start_time": "2022-01-15T18:31:16.558Z"
   },
   {
    "duration": 367,
    "start_time": "2022-01-15T18:31:16.929Z"
   },
   {
    "duration": 270,
    "start_time": "2022-01-15T18:31:17.298Z"
   },
   {
    "duration": 280,
    "start_time": "2022-01-15T18:31:17.570Z"
   },
   {
    "duration": 274,
    "start_time": "2022-01-15T18:31:17.852Z"
   },
   {
    "duration": 339,
    "start_time": "2022-01-15T18:31:18.128Z"
   },
   {
    "duration": 279,
    "start_time": "2022-01-15T18:31:18.468Z"
   },
   {
    "duration": 312,
    "start_time": "2022-01-15T18:31:18.749Z"
   },
   {
    "duration": 2,
    "start_time": "2022-01-15T18:31:19.063Z"
   },
   {
    "duration": 6,
    "start_time": "2022-01-15T18:31:19.066Z"
   },
   {
    "duration": 235,
    "start_time": "2022-01-15T18:31:19.073Z"
   },
   {
    "duration": 265,
    "start_time": "2022-01-15T18:31:19.310Z"
   },
   {
    "duration": 2069,
    "start_time": "2022-01-15T18:31:17.508Z"
   },
   {
    "duration": 2067,
    "start_time": "2022-01-15T18:31:17.511Z"
   },
   {
    "duration": 2066,
    "start_time": "2022-01-15T18:31:17.513Z"
   },
   {
    "duration": 2063,
    "start_time": "2022-01-15T18:31:17.517Z"
   },
   {
    "duration": 2061,
    "start_time": "2022-01-15T18:31:17.520Z"
   },
   {
    "duration": 2060,
    "start_time": "2022-01-15T18:31:17.522Z"
   },
   {
    "duration": 2041,
    "start_time": "2022-01-15T18:31:17.541Z"
   },
   {
    "duration": 2040,
    "start_time": "2022-01-15T18:31:17.544Z"
   },
   {
    "duration": 2038,
    "start_time": "2022-01-15T18:31:17.547Z"
   },
   {
    "duration": 199,
    "start_time": "2022-01-15T18:31:33.594Z"
   },
   {
    "duration": 34,
    "start_time": "2022-01-15T18:31:57.701Z"
   },
   {
    "duration": 31,
    "start_time": "2022-01-15T18:32:16.673Z"
   },
   {
    "duration": 33,
    "start_time": "2022-01-15T18:32:56.881Z"
   },
   {
    "duration": 36,
    "start_time": "2022-01-15T18:33:26.069Z"
   },
   {
    "duration": 33,
    "start_time": "2022-01-15T18:33:53.638Z"
   },
   {
    "duration": 220,
    "start_time": "2022-01-15T18:34:00.337Z"
   },
   {
    "duration": 236,
    "start_time": "2022-01-15T18:36:53.781Z"
   },
   {
    "duration": 40,
    "start_time": "2022-01-15T18:37:05.577Z"
   },
   {
    "duration": 37,
    "start_time": "2022-01-15T18:37:22.469Z"
   },
   {
    "duration": 256,
    "start_time": "2022-01-15T18:37:25.489Z"
   },
   {
    "duration": 212,
    "start_time": "2022-01-15T18:38:16.680Z"
   },
   {
    "duration": 39,
    "start_time": "2022-01-15T18:40:54.356Z"
   },
   {
    "duration": 1075,
    "start_time": "2022-01-15T18:41:27.069Z"
   },
   {
    "duration": 8,
    "start_time": "2022-01-15T18:41:28.146Z"
   },
   {
    "duration": 25,
    "start_time": "2022-01-15T18:41:28.158Z"
   },
   {
    "duration": 2,
    "start_time": "2022-01-15T18:41:28.185Z"
   },
   {
    "duration": 8,
    "start_time": "2022-01-15T18:41:28.188Z"
   },
   {
    "duration": 6,
    "start_time": "2022-01-15T18:41:28.197Z"
   },
   {
    "duration": 2271,
    "start_time": "2022-01-15T18:41:28.205Z"
   },
   {
    "duration": 11,
    "start_time": "2022-01-15T18:41:30.478Z"
   },
   {
    "duration": 424,
    "start_time": "2022-01-15T18:41:30.490Z"
   },
   {
    "duration": 388,
    "start_time": "2022-01-15T18:41:30.915Z"
   },
   {
    "duration": 393,
    "start_time": "2022-01-15T18:41:31.305Z"
   },
   {
    "duration": 266,
    "start_time": "2022-01-15T18:41:31.700Z"
   },
   {
    "duration": 275,
    "start_time": "2022-01-15T18:41:31.968Z"
   },
   {
    "duration": 277,
    "start_time": "2022-01-15T18:41:32.245Z"
   },
   {
    "duration": 331,
    "start_time": "2022-01-15T18:41:32.524Z"
   },
   {
    "duration": 286,
    "start_time": "2022-01-15T18:41:32.857Z"
   },
   {
    "duration": 298,
    "start_time": "2022-01-15T18:41:33.145Z"
   },
   {
    "duration": 3,
    "start_time": "2022-01-15T18:41:33.445Z"
   },
   {
    "duration": 5,
    "start_time": "2022-01-15T18:41:33.450Z"
   },
   {
    "duration": 46,
    "start_time": "2022-01-15T18:41:33.457Z"
   },
   {
    "duration": 326,
    "start_time": "2022-01-15T18:41:33.505Z"
   },
   {
    "duration": 2042,
    "start_time": "2022-01-15T18:41:31.792Z"
   },
   {
    "duration": 2041,
    "start_time": "2022-01-15T18:41:31.794Z"
   },
   {
    "duration": 2039,
    "start_time": "2022-01-15T18:41:31.797Z"
   },
   {
    "duration": 2038,
    "start_time": "2022-01-15T18:41:31.799Z"
   },
   {
    "duration": 2036,
    "start_time": "2022-01-15T18:41:31.801Z"
   },
   {
    "duration": 2035,
    "start_time": "2022-01-15T18:41:31.803Z"
   },
   {
    "duration": 2034,
    "start_time": "2022-01-15T18:41:31.805Z"
   },
   {
    "duration": 2033,
    "start_time": "2022-01-15T18:41:31.807Z"
   },
   {
    "duration": 2032,
    "start_time": "2022-01-15T18:41:31.809Z"
   },
   {
    "duration": 37,
    "start_time": "2022-01-15T18:42:07.340Z"
   },
   {
    "duration": 285,
    "start_time": "2022-01-15T18:42:11.509Z"
   },
   {
    "duration": 277,
    "start_time": "2022-01-15T18:42:38.749Z"
   },
   {
    "duration": 254,
    "start_time": "2022-01-15T18:43:56.380Z"
   },
   {
    "duration": 33,
    "start_time": "2022-01-15T18:44:06.688Z"
   },
   {
    "duration": 13,
    "start_time": "2022-01-15T18:44:38.460Z"
   },
   {
    "duration": 273,
    "start_time": "2022-01-15T18:45:40.992Z"
   },
   {
    "duration": 388,
    "start_time": "2022-01-15T18:46:03.640Z"
   },
   {
    "duration": 381,
    "start_time": "2022-01-15T18:46:04.832Z"
   },
   {
    "duration": 446,
    "start_time": "2022-01-15T18:46:05.524Z"
   },
   {
    "duration": 267,
    "start_time": "2022-01-15T18:46:06.536Z"
   },
   {
    "duration": 32,
    "start_time": "2022-01-15T18:46:07.420Z"
   },
   {
    "duration": 271,
    "start_time": "2022-01-15T18:46:08.412Z"
   },
   {
    "duration": 33,
    "start_time": "2022-01-15T18:46:51.460Z"
   },
   {
    "duration": 16,
    "start_time": "2022-01-15T18:47:30.548Z"
   },
   {
    "duration": 309,
    "start_time": "2022-01-15T18:47:33.624Z"
   },
   {
    "duration": 6,
    "start_time": "2022-01-15T18:48:13.556Z"
   },
   {
    "duration": 464,
    "start_time": "2022-01-15T18:49:18.898Z"
   },
   {
    "duration": 14,
    "start_time": "2022-01-15T18:49:30.984Z"
   },
   {
    "duration": 599,
    "start_time": "2022-01-15T18:49:32.824Z"
   },
   {
    "duration": 635,
    "start_time": "2022-01-15T18:55:13.384Z"
   },
   {
    "duration": 627,
    "start_time": "2022-01-15T18:55:39.856Z"
   },
   {
    "duration": 565,
    "start_time": "2022-01-15T18:56:03.128Z"
   },
   {
    "duration": 553,
    "start_time": "2022-01-15T18:56:23.047Z"
   },
   {
    "duration": 551,
    "start_time": "2022-01-15T18:56:38.635Z"
   },
   {
    "duration": 3,
    "start_time": "2022-01-15T18:56:57.443Z"
   },
   {
    "duration": 628,
    "start_time": "2022-01-15T18:57:40.431Z"
   },
   {
    "duration": 553,
    "start_time": "2022-01-15T18:59:28.231Z"
   },
   {
    "duration": 543,
    "start_time": "2022-01-15T19:00:13.216Z"
   },
   {
    "duration": 1790,
    "start_time": "2022-01-15T19:04:28.487Z"
   },
   {
    "duration": 581,
    "start_time": "2022-01-15T19:05:06.291Z"
   },
   {
    "duration": 651,
    "start_time": "2022-01-15T19:05:19.257Z"
   },
   {
    "duration": 552,
    "start_time": "2022-01-15T19:06:57.795Z"
   },
   {
    "duration": 2312,
    "start_time": "2022-01-15T19:07:18.995Z"
   },
   {
    "duration": 507,
    "start_time": "2022-01-15T19:07:40.359Z"
   },
   {
    "duration": 17,
    "start_time": "2022-01-15T19:10:31.043Z"
   },
   {
    "duration": 1104,
    "start_time": "2022-01-15T19:10:41.023Z"
   },
   {
    "duration": 8,
    "start_time": "2022-01-15T19:10:42.129Z"
   },
   {
    "duration": 22,
    "start_time": "2022-01-15T19:10:42.139Z"
   },
   {
    "duration": 2,
    "start_time": "2022-01-15T19:10:42.163Z"
   },
   {
    "duration": 6,
    "start_time": "2022-01-15T19:10:42.166Z"
   },
   {
    "duration": 10,
    "start_time": "2022-01-15T19:10:42.173Z"
   },
   {
    "duration": 2146,
    "start_time": "2022-01-15T19:10:42.184Z"
   },
   {
    "duration": 14,
    "start_time": "2022-01-15T19:10:44.333Z"
   },
   {
    "duration": 405,
    "start_time": "2022-01-15T19:10:44.349Z"
   },
   {
    "duration": 427,
    "start_time": "2022-01-15T19:10:44.756Z"
   },
   {
    "duration": 381,
    "start_time": "2022-01-15T19:10:45.185Z"
   },
   {
    "duration": 276,
    "start_time": "2022-01-15T19:10:45.567Z"
   },
   {
    "duration": 264,
    "start_time": "2022-01-15T19:10:45.844Z"
   },
   {
    "duration": 275,
    "start_time": "2022-01-15T19:10:46.109Z"
   },
   {
    "duration": 336,
    "start_time": "2022-01-15T19:10:46.385Z"
   },
   {
    "duration": 343,
    "start_time": "2022-01-15T19:10:46.723Z"
   },
   {
    "duration": 302,
    "start_time": "2022-01-15T19:10:47.068Z"
   },
   {
    "duration": 3,
    "start_time": "2022-01-15T19:10:47.371Z"
   },
   {
    "duration": 6,
    "start_time": "2022-01-15T19:10:47.375Z"
   },
   {
    "duration": 19,
    "start_time": "2022-01-15T19:10:47.383Z"
   },
   {
    "duration": 680,
    "start_time": "2022-01-15T19:10:47.404Z"
   },
   {
    "duration": 1972,
    "start_time": "2022-01-15T19:10:46.114Z"
   },
   {
    "duration": 1970,
    "start_time": "2022-01-15T19:10:46.117Z"
   },
   {
    "duration": 1963,
    "start_time": "2022-01-15T19:10:46.124Z"
   },
   {
    "duration": 1961,
    "start_time": "2022-01-15T19:10:46.127Z"
   },
   {
    "duration": 1960,
    "start_time": "2022-01-15T19:10:46.129Z"
   },
   {
    "duration": 1959,
    "start_time": "2022-01-15T19:10:46.131Z"
   },
   {
    "duration": 1957,
    "start_time": "2022-01-15T19:10:46.134Z"
   },
   {
    "duration": 15,
    "start_time": "2022-01-15T19:11:51.711Z"
   },
   {
    "duration": 14,
    "start_time": "2022-01-15T19:12:12.432Z"
   },
   {
    "duration": 9,
    "start_time": "2022-01-15T19:12:39.836Z"
   },
   {
    "duration": 14,
    "start_time": "2022-01-15T19:13:18.928Z"
   },
   {
    "duration": 16,
    "start_time": "2022-01-15T19:13:27.643Z"
   },
   {
    "duration": 648,
    "start_time": "2022-01-15T19:13:30.295Z"
   },
   {
    "duration": 10,
    "start_time": "2022-01-15T19:14:18.655Z"
   },
   {
    "duration": 8,
    "start_time": "2022-01-15T19:15:03.871Z"
   },
   {
    "duration": 573,
    "start_time": "2022-01-15T19:15:17.695Z"
   },
   {
    "duration": 10,
    "start_time": "2022-01-15T19:17:26.079Z"
   },
   {
    "duration": 572,
    "start_time": "2022-01-15T19:17:28.091Z"
   },
   {
    "duration": 500,
    "start_time": "2022-01-15T19:18:11.459Z"
   },
   {
    "duration": 449,
    "start_time": "2022-01-15T19:19:10.147Z"
   },
   {
    "duration": 15,
    "start_time": "2022-01-15T19:19:16.223Z"
   },
   {
    "duration": 469,
    "start_time": "2022-01-15T19:19:17.719Z"
   },
   {
    "duration": 1043,
    "start_time": "2022-01-15T19:25:06.578Z"
   },
   {
    "duration": 9,
    "start_time": "2022-01-15T19:25:07.623Z"
   },
   {
    "duration": 29,
    "start_time": "2022-01-15T19:25:07.634Z"
   },
   {
    "duration": 12,
    "start_time": "2022-01-15T19:25:07.665Z"
   },
   {
    "duration": 27,
    "start_time": "2022-01-15T19:25:07.679Z"
   },
   {
    "duration": 14,
    "start_time": "2022-01-15T19:25:07.707Z"
   },
   {
    "duration": 2118,
    "start_time": "2022-01-15T19:25:07.723Z"
   },
   {
    "duration": 10,
    "start_time": "2022-01-15T19:25:09.843Z"
   },
   {
    "duration": 413,
    "start_time": "2022-01-15T19:25:09.854Z"
   },
   {
    "duration": 373,
    "start_time": "2022-01-15T19:25:10.269Z"
   },
   {
    "duration": 373,
    "start_time": "2022-01-15T19:25:10.644Z"
   },
   {
    "duration": 266,
    "start_time": "2022-01-15T19:25:11.018Z"
   },
   {
    "duration": 265,
    "start_time": "2022-01-15T19:25:11.286Z"
   },
   {
    "duration": 277,
    "start_time": "2022-01-15T19:25:11.552Z"
   },
   {
    "duration": 431,
    "start_time": "2022-01-15T19:25:11.830Z"
   },
   {
    "duration": 282,
    "start_time": "2022-01-15T19:25:12.262Z"
   },
   {
    "duration": 267,
    "start_time": "2022-01-15T19:25:12.546Z"
   },
   {
    "duration": 2,
    "start_time": "2022-01-15T19:25:12.814Z"
   },
   {
    "duration": 9,
    "start_time": "2022-01-15T19:25:12.818Z"
   },
   {
    "duration": 18,
    "start_time": "2022-01-15T19:25:12.829Z"
   },
   {
    "duration": 437,
    "start_time": "2022-01-15T19:25:12.848Z"
   },
   {
    "duration": 378,
    "start_time": "2022-01-15T19:25:13.287Z"
   },
   {
    "duration": 588,
    "start_time": "2022-01-15T19:25:13.668Z"
   },
   {
    "duration": 595,
    "start_time": "2022-01-15T19:25:14.258Z"
   },
   {
    "duration": 442,
    "start_time": "2022-01-15T19:25:14.855Z"
   },
   {
    "duration": 158,
    "start_time": "2022-01-15T19:25:15.298Z"
   },
   {
    "duration": 311,
    "start_time": "2022-01-15T19:25:15.458Z"
   },
   {
    "duration": 295,
    "start_time": "2022-01-15T19:25:15.772Z"
   },
   {
    "duration": 286,
    "start_time": "2022-01-15T19:27:24.291Z"
   },
   {
    "duration": 271,
    "start_time": "2022-01-15T19:28:09.498Z"
   },
   {
    "duration": 277,
    "start_time": "2022-01-15T19:28:17.778Z"
   },
   {
    "duration": 404,
    "start_time": "2022-01-15T19:30:18.882Z"
   },
   {
    "duration": 438,
    "start_time": "2022-01-15T19:30:22.253Z"
   },
   {
    "duration": 1102,
    "start_time": "2022-01-15T19:31:19.813Z"
   },
   {
    "duration": 7,
    "start_time": "2022-01-15T19:31:20.917Z"
   },
   {
    "duration": 27,
    "start_time": "2022-01-15T19:31:20.926Z"
   },
   {
    "duration": 2,
    "start_time": "2022-01-15T19:31:20.954Z"
   },
   {
    "duration": 10,
    "start_time": "2022-01-15T19:31:20.957Z"
   },
   {
    "duration": 8,
    "start_time": "2022-01-15T19:31:20.968Z"
   },
   {
    "duration": 2273,
    "start_time": "2022-01-15T19:31:20.977Z"
   },
   {
    "duration": 10,
    "start_time": "2022-01-15T19:31:23.252Z"
   },
   {
    "duration": 417,
    "start_time": "2022-01-15T19:31:23.264Z"
   },
   {
    "duration": 377,
    "start_time": "2022-01-15T19:31:23.683Z"
   },
   {
    "duration": 361,
    "start_time": "2022-01-15T19:31:24.062Z"
   },
   {
    "duration": 319,
    "start_time": "2022-01-15T19:31:24.425Z"
   },
   {
    "duration": 263,
    "start_time": "2022-01-15T19:31:24.745Z"
   },
   {
    "duration": 266,
    "start_time": "2022-01-15T19:31:25.010Z"
   },
   {
    "duration": 324,
    "start_time": "2022-01-15T19:31:25.277Z"
   },
   {
    "duration": 304,
    "start_time": "2022-01-15T19:31:25.603Z"
   },
   {
    "duration": 289,
    "start_time": "2022-01-15T19:31:25.909Z"
   },
   {
    "duration": 2,
    "start_time": "2022-01-15T19:31:26.200Z"
   },
   {
    "duration": 4,
    "start_time": "2022-01-15T19:31:26.204Z"
   },
   {
    "duration": 20,
    "start_time": "2022-01-15T19:31:26.210Z"
   },
   {
    "duration": 485,
    "start_time": "2022-01-15T19:31:26.242Z"
   },
   {
    "duration": 479,
    "start_time": "2022-01-15T19:31:26.729Z"
   },
   {
    "duration": 512,
    "start_time": "2022-01-15T19:31:27.211Z"
   },
   {
    "duration": 297,
    "start_time": "2022-01-15T19:31:27.725Z"
   },
   {
    "duration": 479,
    "start_time": "2022-01-15T19:31:28.023Z"
   },
   {
    "duration": 389,
    "start_time": "2022-01-15T19:31:28.504Z"
   },
   {
    "duration": 455,
    "start_time": "2022-01-15T19:31:28.895Z"
   },
   {
    "duration": 284,
    "start_time": "2022-01-15T19:31:29.352Z"
   },
   {
    "duration": 28,
    "start_time": "2022-01-15T19:31:29.637Z"
   },
   {
    "duration": 290,
    "start_time": "2022-01-15T19:31:29.667Z"
   },
   {
    "duration": 294,
    "start_time": "2022-01-15T19:31:29.959Z"
   },
   {
    "duration": 1441,
    "start_time": "2022-01-17T07:16:27.015Z"
   },
   {
    "duration": 11,
    "start_time": "2022-01-17T07:16:28.459Z"
   },
   {
    "duration": 55,
    "start_time": "2022-01-17T07:16:28.473Z"
   },
   {
    "duration": 3,
    "start_time": "2022-01-17T07:16:28.530Z"
   },
   {
    "duration": 8,
    "start_time": "2022-01-17T07:16:28.535Z"
   },
   {
    "duration": 8,
    "start_time": "2022-01-17T07:16:28.545Z"
   },
   {
    "duration": 436,
    "start_time": "2022-01-17T07:16:28.555Z"
   },
   {
    "duration": 312,
    "start_time": "2022-01-17T07:16:28.682Z"
   },
   {
    "duration": 311,
    "start_time": "2022-01-17T07:16:28.685Z"
   },
   {
    "duration": 310,
    "start_time": "2022-01-17T07:16:28.687Z"
   },
   {
    "duration": 308,
    "start_time": "2022-01-17T07:16:28.691Z"
   },
   {
    "duration": 306,
    "start_time": "2022-01-17T07:16:28.694Z"
   },
   {
    "duration": 305,
    "start_time": "2022-01-17T07:16:28.697Z"
   },
   {
    "duration": 299,
    "start_time": "2022-01-17T07:16:28.704Z"
   },
   {
    "duration": 297,
    "start_time": "2022-01-17T07:16:28.707Z"
   },
   {
    "duration": 296,
    "start_time": "2022-01-17T07:16:28.710Z"
   },
   {
    "duration": 295,
    "start_time": "2022-01-17T07:16:28.712Z"
   },
   {
    "duration": 292,
    "start_time": "2022-01-17T07:16:28.716Z"
   },
   {
    "duration": 292,
    "start_time": "2022-01-17T07:16:28.718Z"
   },
   {
    "duration": 291,
    "start_time": "2022-01-17T07:16:28.720Z"
   },
   {
    "duration": 290,
    "start_time": "2022-01-17T07:16:28.722Z"
   },
   {
    "duration": 289,
    "start_time": "2022-01-17T07:16:28.725Z"
   },
   {
    "duration": 289,
    "start_time": "2022-01-17T07:16:28.726Z"
   },
   {
    "duration": 287,
    "start_time": "2022-01-17T07:16:28.729Z"
   },
   {
    "duration": 287,
    "start_time": "2022-01-17T07:16:28.731Z"
   },
   {
    "duration": 286,
    "start_time": "2022-01-17T07:16:28.733Z"
   },
   {
    "duration": 285,
    "start_time": "2022-01-17T07:16:28.735Z"
   },
   {
    "duration": 284,
    "start_time": "2022-01-17T07:16:28.737Z"
   },
   {
    "duration": 284,
    "start_time": "2022-01-17T07:16:28.739Z"
   },
   {
    "duration": 283,
    "start_time": "2022-01-17T07:16:28.741Z"
   },
   {
    "duration": 276,
    "start_time": "2022-01-17T07:16:28.749Z"
   },
   {
    "duration": 275,
    "start_time": "2022-01-17T07:16:28.751Z"
   },
   {
    "duration": 18,
    "start_time": "2022-01-17T07:17:20.088Z"
   },
   {
    "duration": 1419,
    "start_time": "2022-01-17T07:17:56.222Z"
   },
   {
    "duration": 15,
    "start_time": "2022-01-17T07:17:57.644Z"
   },
   {
    "duration": 65,
    "start_time": "2022-01-17T07:17:57.663Z"
   },
   {
    "duration": 3,
    "start_time": "2022-01-17T07:17:57.731Z"
   },
   {
    "duration": 17,
    "start_time": "2022-01-17T07:17:57.738Z"
   },
   {
    "duration": 9,
    "start_time": "2022-01-17T07:17:57.758Z"
   },
   {
    "duration": 59,
    "start_time": "2022-01-17T07:17:57.770Z"
   },
   {
    "duration": 5175,
    "start_time": "2022-01-17T07:17:57.833Z"
   },
   {
    "duration": 22,
    "start_time": "2022-01-17T07:18:03.011Z"
   },
   {
    "duration": 774,
    "start_time": "2022-01-17T07:18:03.035Z"
   },
   {
    "duration": 694,
    "start_time": "2022-01-17T07:18:03.813Z"
   },
   {
    "duration": 836,
    "start_time": "2022-01-17T07:18:04.510Z"
   },
   {
    "duration": 461,
    "start_time": "2022-01-17T07:18:05.348Z"
   },
   {
    "duration": 461,
    "start_time": "2022-01-17T07:18:05.811Z"
   },
   {
    "duration": 481,
    "start_time": "2022-01-17T07:18:06.275Z"
   },
   {
    "duration": 545,
    "start_time": "2022-01-17T07:18:06.759Z"
   },
   {
    "duration": 474,
    "start_time": "2022-01-17T07:18:07.307Z"
   },
   {
    "duration": 451,
    "start_time": "2022-01-17T07:18:07.784Z"
   },
   {
    "duration": 3,
    "start_time": "2022-01-17T07:18:08.237Z"
   },
   {
    "duration": 5,
    "start_time": "2022-01-17T07:18:08.243Z"
   },
   {
    "duration": 9995,
    "start_time": "2022-01-17T07:18:08.251Z"
   },
   {
    "duration": 299,
    "start_time": "2022-01-17T07:18:17.951Z"
   },
   {
    "duration": 297,
    "start_time": "2022-01-17T07:18:17.954Z"
   },
   {
    "duration": 297,
    "start_time": "2022-01-17T07:18:17.956Z"
   },
   {
    "duration": 295,
    "start_time": "2022-01-17T07:18:17.959Z"
   },
   {
    "duration": 294,
    "start_time": "2022-01-17T07:18:17.962Z"
   },
   {
    "duration": 293,
    "start_time": "2022-01-17T07:18:17.964Z"
   },
   {
    "duration": 292,
    "start_time": "2022-01-17T07:18:17.967Z"
   },
   {
    "duration": 290,
    "start_time": "2022-01-17T07:18:17.970Z"
   },
   {
    "duration": 290,
    "start_time": "2022-01-17T07:18:17.972Z"
   },
   {
    "duration": 287,
    "start_time": "2022-01-17T07:18:17.976Z"
   },
   {
    "duration": 286,
    "start_time": "2022-01-17T07:18:17.979Z"
   },
   {
    "duration": 1443,
    "start_time": "2022-01-17T07:25:54.796Z"
   },
   {
    "duration": 12,
    "start_time": "2022-01-17T07:25:56.241Z"
   },
   {
    "duration": 5,
    "start_time": "2022-01-17T07:25:56.256Z"
   },
   {
    "duration": 3,
    "start_time": "2022-01-17T07:25:56.264Z"
   },
   {
    "duration": 8,
    "start_time": "2022-01-17T07:25:56.269Z"
   },
   {
    "duration": 44,
    "start_time": "2022-01-17T07:25:56.279Z"
   },
   {
    "duration": 9,
    "start_time": "2022-01-17T07:25:56.326Z"
   },
   {
    "duration": 10,
    "start_time": "2022-01-17T07:25:56.339Z"
   },
   {
    "duration": 18,
    "start_time": "2022-01-17T07:25:56.352Z"
   },
   {
    "duration": 3817,
    "start_time": "2022-01-17T07:25:56.373Z"
   },
   {
    "duration": 17,
    "start_time": "2022-01-17T07:26:00.192Z"
   },
   {
    "duration": 725,
    "start_time": "2022-01-17T07:26:00.223Z"
   },
   {
    "duration": 708,
    "start_time": "2022-01-17T07:26:00.951Z"
   },
   {
    "duration": 645,
    "start_time": "2022-01-17T07:26:01.661Z"
   },
   {
    "duration": 450,
    "start_time": "2022-01-17T07:26:02.309Z"
   },
   {
    "duration": 489,
    "start_time": "2022-01-17T07:26:02.761Z"
   },
   {
    "duration": 476,
    "start_time": "2022-01-17T07:26:03.253Z"
   },
   {
    "duration": 582,
    "start_time": "2022-01-17T07:26:03.732Z"
   },
   {
    "duration": 510,
    "start_time": "2022-01-17T07:26:04.323Z"
   },
   {
    "duration": 490,
    "start_time": "2022-01-17T07:26:04.836Z"
   },
   {
    "duration": 3,
    "start_time": "2022-01-17T07:26:05.328Z"
   },
   {
    "duration": 8,
    "start_time": "2022-01-17T07:26:05.334Z"
   },
   {
    "duration": 739,
    "start_time": "2022-01-17T07:26:05.347Z"
   },
   {
    "duration": 651,
    "start_time": "2022-01-17T07:26:06.088Z"
   },
   {
    "duration": 738,
    "start_time": "2022-01-17T07:26:06.742Z"
   },
   {
    "duration": 491,
    "start_time": "2022-01-17T07:26:07.482Z"
   },
   {
    "duration": 638,
    "start_time": "2022-01-17T07:26:07.976Z"
   },
   {
    "duration": 628,
    "start_time": "2022-01-17T07:26:08.624Z"
   },
   {
    "duration": 720,
    "start_time": "2022-01-17T07:26:09.255Z"
   },
   {
    "duration": 472,
    "start_time": "2022-01-17T07:26:09.977Z"
   },
   {
    "duration": 44,
    "start_time": "2022-01-17T07:26:10.452Z"
   },
   {
    "duration": 504,
    "start_time": "2022-01-17T07:26:10.498Z"
   },
   {
    "duration": 497,
    "start_time": "2022-01-17T07:26:11.004Z"
   },
   {
    "duration": 26,
    "start_time": "2022-01-17T07:26:11.503Z"
   },
   {
    "duration": 462,
    "start_time": "2022-01-17T07:28:19.244Z"
   },
   {
    "duration": 17,
    "start_time": "2022-01-17T07:35:45.648Z"
   },
   {
    "duration": 19,
    "start_time": "2022-01-17T07:35:59.647Z"
   },
   {
    "duration": 37,
    "start_time": "2022-01-17T07:36:15.168Z"
   },
   {
    "duration": 17,
    "start_time": "2022-01-17T07:36:46.976Z"
   },
   {
    "duration": 10,
    "start_time": "2022-01-17T07:43:11.011Z"
   },
   {
    "duration": 9,
    "start_time": "2022-01-17T07:44:04.163Z"
   },
   {
    "duration": 9,
    "start_time": "2022-01-17T07:44:31.163Z"
   },
   {
    "duration": 21,
    "start_time": "2022-01-17T07:45:19.674Z"
   },
   {
    "duration": 10,
    "start_time": "2022-01-17T07:45:21.450Z"
   },
   {
    "duration": 116,
    "start_time": "2022-01-17T07:48:08.134Z"
   },
   {
    "duration": 11,
    "start_time": "2022-01-17T08:12:48.181Z"
   },
   {
    "duration": 1356,
    "start_time": "2022-01-17T08:13:01.577Z"
   },
   {
    "duration": 12,
    "start_time": "2022-01-17T08:13:02.936Z"
   },
   {
    "duration": 6,
    "start_time": "2022-01-17T08:13:02.951Z"
   },
   {
    "duration": 2,
    "start_time": "2022-01-17T08:13:02.960Z"
   },
   {
    "duration": 6,
    "start_time": "2022-01-17T08:13:02.965Z"
   },
   {
    "duration": 5,
    "start_time": "2022-01-17T08:13:02.974Z"
   },
   {
    "duration": 10,
    "start_time": "2022-01-17T08:13:03.023Z"
   },
   {
    "duration": 7,
    "start_time": "2022-01-17T08:13:03.037Z"
   },
   {
    "duration": 18,
    "start_time": "2022-01-17T08:13:03.047Z"
   },
   {
    "duration": 3961,
    "start_time": "2022-01-17T08:13:03.067Z"
   },
   {
    "duration": 16,
    "start_time": "2022-01-17T08:13:07.031Z"
   },
   {
    "duration": 735,
    "start_time": "2022-01-17T08:13:07.049Z"
   },
   {
    "duration": 653,
    "start_time": "2022-01-17T08:13:07.787Z"
   },
   {
    "duration": 635,
    "start_time": "2022-01-17T08:13:08.443Z"
   },
   {
    "duration": 460,
    "start_time": "2022-01-17T08:13:09.082Z"
   },
   {
    "duration": 478,
    "start_time": "2022-01-17T08:13:09.545Z"
   },
   {
    "duration": 475,
    "start_time": "2022-01-17T08:13:10.026Z"
   },
   {
    "duration": 543,
    "start_time": "2022-01-17T08:13:10.505Z"
   },
   {
    "duration": 486,
    "start_time": "2022-01-17T08:13:11.051Z"
   },
   {
    "duration": 460,
    "start_time": "2022-01-17T08:13:11.540Z"
   },
   {
    "duration": 3,
    "start_time": "2022-01-17T08:13:12.002Z"
   },
   {
    "duration": 16,
    "start_time": "2022-01-17T08:13:12.007Z"
   },
   {
    "duration": 707,
    "start_time": "2022-01-17T08:13:12.028Z"
   },
   {
    "duration": 703,
    "start_time": "2022-01-17T08:13:12.737Z"
   },
   {
    "duration": 685,
    "start_time": "2022-01-17T08:13:13.442Z"
   },
   {
    "duration": 493,
    "start_time": "2022-01-17T08:13:14.130Z"
   },
   {
    "duration": 649,
    "start_time": "2022-01-17T08:13:14.626Z"
   },
   {
    "duration": 664,
    "start_time": "2022-01-17T08:13:15.278Z"
   },
   {
    "duration": 761,
    "start_time": "2022-01-17T08:13:15.945Z"
   },
   {
    "duration": 498,
    "start_time": "2022-01-17T08:13:16.709Z"
   },
   {
    "duration": 53,
    "start_time": "2022-01-17T08:13:17.210Z"
   },
   {
    "duration": 504,
    "start_time": "2022-01-17T08:13:17.266Z"
   },
   {
    "duration": 557,
    "start_time": "2022-01-17T08:13:17.772Z"
   },
   {
    "duration": 19,
    "start_time": "2022-01-17T08:13:18.331Z"
   },
   {
    "duration": 9,
    "start_time": "2022-01-17T08:13:18.352Z"
   },
   {
    "duration": 22,
    "start_time": "2022-01-17T08:17:25.177Z"
   },
   {
    "duration": 9369,
    "start_time": "2022-01-17T08:19:39.132Z"
   },
   {
    "duration": 49,
    "start_time": "2022-01-17T08:19:58.860Z"
   },
   {
    "duration": 34,
    "start_time": "2022-01-17T08:22:37.985Z"
   },
   {
    "duration": 1357,
    "start_time": "2022-01-17T08:24:06.407Z"
   },
   {
    "duration": 12,
    "start_time": "2022-01-17T08:24:07.766Z"
   },
   {
    "duration": 6,
    "start_time": "2022-01-17T08:24:07.781Z"
   },
   {
    "duration": 3,
    "start_time": "2022-01-17T08:24:07.789Z"
   },
   {
    "duration": 6,
    "start_time": "2022-01-17T08:24:07.824Z"
   },
   {
    "duration": 26,
    "start_time": "2022-01-17T08:24:07.832Z"
   },
   {
    "duration": 6,
    "start_time": "2022-01-17T08:24:07.860Z"
   },
   {
    "duration": 5,
    "start_time": "2022-01-17T08:24:07.870Z"
   },
   {
    "duration": 61,
    "start_time": "2022-01-17T08:24:07.878Z"
   },
   {
    "duration": 3842,
    "start_time": "2022-01-17T08:24:07.942Z"
   },
   {
    "duration": 17,
    "start_time": "2022-01-17T08:24:11.786Z"
   },
   {
    "duration": 803,
    "start_time": "2022-01-17T08:24:11.805Z"
   },
   {
    "duration": 688,
    "start_time": "2022-01-17T08:24:12.611Z"
   },
   {
    "duration": 665,
    "start_time": "2022-01-17T08:24:13.302Z"
   },
   {
    "duration": 476,
    "start_time": "2022-01-17T08:24:13.970Z"
   },
   {
    "duration": 469,
    "start_time": "2022-01-17T08:24:14.449Z"
   },
   {
    "duration": 472,
    "start_time": "2022-01-17T08:24:14.924Z"
   },
   {
    "duration": 533,
    "start_time": "2022-01-17T08:24:15.399Z"
   },
   {
    "duration": 493,
    "start_time": "2022-01-17T08:24:15.935Z"
   },
   {
    "duration": 476,
    "start_time": "2022-01-17T08:24:16.431Z"
   },
   {
    "duration": 13,
    "start_time": "2022-01-17T08:24:16.910Z"
   },
   {
    "duration": 3,
    "start_time": "2022-01-17T08:24:16.925Z"
   },
   {
    "duration": 738,
    "start_time": "2022-01-17T08:24:16.934Z"
   },
   {
    "duration": 699,
    "start_time": "2022-01-17T08:24:17.675Z"
   },
   {
    "duration": 753,
    "start_time": "2022-01-17T08:24:18.377Z"
   },
   {
    "duration": 495,
    "start_time": "2022-01-17T08:24:19.132Z"
   },
   {
    "duration": 649,
    "start_time": "2022-01-17T08:24:19.629Z"
   },
   {
    "duration": 649,
    "start_time": "2022-01-17T08:24:20.281Z"
   },
   {
    "duration": 815,
    "start_time": "2022-01-17T08:24:20.933Z"
   },
   {
    "duration": 484,
    "start_time": "2022-01-17T08:24:21.751Z"
   },
   {
    "duration": 46,
    "start_time": "2022-01-17T08:24:22.239Z"
   },
   {
    "duration": 501,
    "start_time": "2022-01-17T08:24:22.287Z"
   },
   {
    "duration": 510,
    "start_time": "2022-01-17T08:24:22.790Z"
   },
   {
    "duration": 30,
    "start_time": "2022-01-17T08:24:23.302Z"
   },
   {
    "duration": 8,
    "start_time": "2022-01-17T08:24:23.335Z"
   },
   {
    "duration": 7,
    "start_time": "2022-01-17T08:33:32.383Z"
   },
   {
    "duration": 1348,
    "start_time": "2022-01-17T08:33:39.531Z"
   },
   {
    "duration": 12,
    "start_time": "2022-01-17T08:33:40.882Z"
   },
   {
    "duration": 6,
    "start_time": "2022-01-17T08:33:40.898Z"
   },
   {
    "duration": 3,
    "start_time": "2022-01-17T08:33:40.924Z"
   },
   {
    "duration": 9,
    "start_time": "2022-01-17T08:33:40.930Z"
   },
   {
    "duration": 23,
    "start_time": "2022-01-17T08:33:40.941Z"
   },
   {
    "duration": 11,
    "start_time": "2022-01-17T08:33:40.967Z"
   },
   {
    "duration": 8,
    "start_time": "2022-01-17T08:33:41.024Z"
   },
   {
    "duration": 7,
    "start_time": "2022-01-17T08:33:41.036Z"
   },
   {
    "duration": 20,
    "start_time": "2022-01-17T08:33:41.046Z"
   },
   {
    "duration": 3948,
    "start_time": "2022-01-17T08:33:41.069Z"
   },
   {
    "duration": 16,
    "start_time": "2022-01-17T08:33:45.019Z"
   },
   {
    "duration": 717,
    "start_time": "2022-01-17T08:33:45.037Z"
   },
   {
    "duration": 657,
    "start_time": "2022-01-17T08:33:45.756Z"
   },
   {
    "duration": 635,
    "start_time": "2022-01-17T08:33:46.416Z"
   },
   {
    "duration": 458,
    "start_time": "2022-01-17T08:33:47.053Z"
   },
   {
    "duration": 476,
    "start_time": "2022-01-17T08:33:47.514Z"
   },
   {
    "duration": 496,
    "start_time": "2022-01-17T08:33:47.993Z"
   },
   {
    "duration": 534,
    "start_time": "2022-01-17T08:33:48.492Z"
   },
   {
    "duration": 490,
    "start_time": "2022-01-17T08:33:49.028Z"
   },
   {
    "duration": 461,
    "start_time": "2022-01-17T08:33:49.524Z"
   },
   {
    "duration": 3,
    "start_time": "2022-01-17T08:33:49.987Z"
   },
   {
    "duration": 5,
    "start_time": "2022-01-17T08:33:49.995Z"
   },
   {
    "duration": 690,
    "start_time": "2022-01-17T08:33:50.003Z"
   },
   {
    "duration": 654,
    "start_time": "2022-01-17T08:33:50.695Z"
   },
   {
    "duration": 732,
    "start_time": "2022-01-17T08:33:51.351Z"
   },
   {
    "duration": 479,
    "start_time": "2022-01-17T08:33:52.085Z"
   },
   {
    "duration": 630,
    "start_time": "2022-01-17T08:33:52.566Z"
   },
   {
    "duration": 646,
    "start_time": "2022-01-17T08:33:53.199Z"
   },
   {
    "duration": 726,
    "start_time": "2022-01-17T08:33:53.848Z"
   },
   {
    "duration": 474,
    "start_time": "2022-01-17T08:33:54.576Z"
   },
   {
    "duration": 43,
    "start_time": "2022-01-17T08:33:55.052Z"
   },
   {
    "duration": 496,
    "start_time": "2022-01-17T08:33:55.097Z"
   },
   {
    "duration": 489,
    "start_time": "2022-01-17T08:33:55.595Z"
   },
   {
    "duration": 18,
    "start_time": "2022-01-17T08:33:56.087Z"
   },
   {
    "duration": 21,
    "start_time": "2022-01-17T08:33:56.107Z"
   },
   {
    "duration": 447,
    "start_time": "2022-01-17T08:46:53.894Z"
   },
   {
    "duration": 413,
    "start_time": "2022-01-17T08:49:25.122Z"
   },
   {
    "duration": 2291,
    "start_time": "2022-01-17T08:53:01.762Z"
   },
   {
    "duration": 3414,
    "start_time": "2022-01-17T08:53:22.441Z"
   },
   {
    "duration": 3247,
    "start_time": "2022-01-17T08:54:02.785Z"
   },
   {
    "duration": 3256,
    "start_time": "2022-01-17T08:58:25.591Z"
   },
   {
    "duration": 1379,
    "start_time": "2022-01-17T08:58:51.645Z"
   },
   {
    "duration": 12,
    "start_time": "2022-01-17T08:58:53.027Z"
   },
   {
    "duration": 7,
    "start_time": "2022-01-17T08:58:53.042Z"
   },
   {
    "duration": 3,
    "start_time": "2022-01-17T08:58:53.052Z"
   },
   {
    "duration": 9,
    "start_time": "2022-01-17T08:58:53.057Z"
   },
   {
    "duration": 58,
    "start_time": "2022-01-17T08:58:53.068Z"
   },
   {
    "duration": 11,
    "start_time": "2022-01-17T08:58:53.128Z"
   },
   {
    "duration": 8,
    "start_time": "2022-01-17T08:58:53.143Z"
   },
   {
    "duration": 8,
    "start_time": "2022-01-17T08:58:53.155Z"
   },
   {
    "duration": 64,
    "start_time": "2022-01-17T08:58:53.166Z"
   },
   {
    "duration": 3823,
    "start_time": "2022-01-17T08:58:53.233Z"
   },
   {
    "duration": 16,
    "start_time": "2022-01-17T08:58:57.059Z"
   },
   {
    "duration": 725,
    "start_time": "2022-01-17T08:58:57.077Z"
   },
   {
    "duration": 653,
    "start_time": "2022-01-17T08:58:57.804Z"
   },
   {
    "duration": 633,
    "start_time": "2022-01-17T08:58:58.460Z"
   },
   {
    "duration": 464,
    "start_time": "2022-01-17T08:58:59.096Z"
   },
   {
    "duration": 471,
    "start_time": "2022-01-17T08:58:59.562Z"
   },
   {
    "duration": 480,
    "start_time": "2022-01-17T08:59:00.035Z"
   },
   {
    "duration": 547,
    "start_time": "2022-01-17T08:59:00.517Z"
   },
   {
    "duration": 513,
    "start_time": "2022-01-17T08:59:01.066Z"
   },
   {
    "duration": 472,
    "start_time": "2022-01-17T08:59:01.581Z"
   },
   {
    "duration": 470,
    "start_time": "2022-01-17T08:59:02.056Z"
   },
   {
    "duration": 415,
    "start_time": "2022-01-17T08:59:02.530Z"
   },
   {
    "duration": 3086,
    "start_time": "2022-01-17T08:59:02.948Z"
   },
   {
    "duration": 4,
    "start_time": "2022-01-17T08:59:06.037Z"
   },
   {
    "duration": 8,
    "start_time": "2022-01-17T08:59:06.044Z"
   },
   {
    "duration": 724,
    "start_time": "2022-01-17T08:59:06.054Z"
   },
   {
    "duration": 670,
    "start_time": "2022-01-17T08:59:06.780Z"
   },
   {
    "duration": 919,
    "start_time": "2022-01-17T08:59:07.452Z"
   },
   {
    "duration": 493,
    "start_time": "2022-01-17T08:59:08.373Z"
   },
   {
    "duration": 664,
    "start_time": "2022-01-17T08:59:08.869Z"
   },
   {
    "duration": 776,
    "start_time": "2022-01-17T08:59:09.535Z"
   },
   {
    "duration": 644,
    "start_time": "2022-01-17T08:59:10.314Z"
   },
   {
    "duration": 470,
    "start_time": "2022-01-17T08:59:10.960Z"
   },
   {
    "duration": 47,
    "start_time": "2022-01-17T08:59:11.432Z"
   },
   {
    "duration": 501,
    "start_time": "2022-01-17T08:59:11.482Z"
   },
   {
    "duration": 489,
    "start_time": "2022-01-17T08:59:11.986Z"
   },
   {
    "duration": 21,
    "start_time": "2022-01-17T08:59:12.477Z"
   },
   {
    "duration": 30,
    "start_time": "2022-01-17T08:59:12.500Z"
   },
   {
    "duration": 450,
    "start_time": "2022-01-17T08:59:56.776Z"
   },
   {
    "duration": 466,
    "start_time": "2022-01-17T09:00:01.837Z"
   },
   {
    "duration": 3,
    "start_time": "2022-01-17T09:00:03.618Z"
   },
   {
    "duration": 3066,
    "start_time": "2022-01-17T09:00:04.834Z"
   },
   {
    "duration": 3107,
    "start_time": "2022-01-17T09:01:52.506Z"
   },
   {
    "duration": 381,
    "start_time": "2022-01-17T09:02:43.749Z"
   },
   {
    "duration": 3275,
    "start_time": "2022-01-17T09:03:26.786Z"
   },
   {
    "duration": 432,
    "start_time": "2022-01-17T09:04:54.395Z"
   },
   {
    "duration": 3319,
    "start_time": "2022-01-17T09:05:17.618Z"
   },
   {
    "duration": 3141,
    "start_time": "2022-01-17T09:07:41.892Z"
   },
   {
    "duration": 111,
    "start_time": "2022-01-17T09:12:07.587Z"
   },
   {
    "duration": 327,
    "start_time": "2022-01-17T09:13:46.135Z"
   },
   {
    "duration": 1940,
    "start_time": "2022-01-17T09:14:03.036Z"
   },
   {
    "duration": 521,
    "start_time": "2022-01-17T09:17:02.348Z"
   },
   {
    "duration": 542,
    "start_time": "2022-01-17T09:17:43.532Z"
   },
   {
    "duration": 557,
    "start_time": "2022-01-17T09:18:19.780Z"
   },
   {
    "duration": 1417,
    "start_time": "2022-01-17T09:18:41.919Z"
   },
   {
    "duration": 12,
    "start_time": "2022-01-17T09:18:43.339Z"
   },
   {
    "duration": 11,
    "start_time": "2022-01-17T09:18:43.353Z"
   },
   {
    "duration": 3,
    "start_time": "2022-01-17T09:18:43.367Z"
   },
   {
    "duration": 8,
    "start_time": "2022-01-17T09:18:43.372Z"
   },
   {
    "duration": 55,
    "start_time": "2022-01-17T09:18:43.382Z"
   },
   {
    "duration": 10,
    "start_time": "2022-01-17T09:18:43.440Z"
   },
   {
    "duration": 7,
    "start_time": "2022-01-17T09:18:43.453Z"
   },
   {
    "duration": 7,
    "start_time": "2022-01-17T09:18:43.462Z"
   },
   {
    "duration": 56,
    "start_time": "2022-01-17T09:18:43.471Z"
   },
   {
    "duration": 3721,
    "start_time": "2022-01-17T09:18:43.530Z"
   },
   {
    "duration": 16,
    "start_time": "2022-01-17T09:18:47.253Z"
   },
   {
    "duration": 730,
    "start_time": "2022-01-17T09:18:47.272Z"
   },
   {
    "duration": 659,
    "start_time": "2022-01-17T09:18:48.005Z"
   },
   {
    "duration": 634,
    "start_time": "2022-01-17T09:18:48.666Z"
   },
   {
    "duration": 487,
    "start_time": "2022-01-17T09:18:49.303Z"
   },
   {
    "duration": 480,
    "start_time": "2022-01-17T09:18:49.793Z"
   },
   {
    "duration": 478,
    "start_time": "2022-01-17T09:18:50.276Z"
   },
   {
    "duration": 524,
    "start_time": "2022-01-17T09:18:50.756Z"
   },
   {
    "duration": 466,
    "start_time": "2022-01-17T09:18:51.283Z"
   },
   {
    "duration": 471,
    "start_time": "2022-01-17T09:18:51.752Z"
   },
   {
    "duration": 473,
    "start_time": "2022-01-17T09:18:52.226Z"
   },
   {
    "duration": 412,
    "start_time": "2022-01-17T09:18:52.706Z"
   },
   {
    "duration": 584,
    "start_time": "2022-01-17T09:18:53.123Z"
   },
   {
    "duration": 3,
    "start_time": "2022-01-17T09:18:53.710Z"
   },
   {
    "duration": 4,
    "start_time": "2022-01-17T09:18:53.723Z"
   },
   {
    "duration": 758,
    "start_time": "2022-01-17T09:18:53.729Z"
   },
   {
    "duration": 687,
    "start_time": "2022-01-17T09:18:54.489Z"
   },
   {
    "duration": 729,
    "start_time": "2022-01-17T09:18:55.178Z"
   },
   {
    "duration": 605,
    "start_time": "2022-01-17T09:18:55.910Z"
   },
   {
    "duration": 652,
    "start_time": "2022-01-17T09:18:56.522Z"
   },
   {
    "duration": 772,
    "start_time": "2022-01-17T09:18:57.177Z"
   },
   {
    "duration": 657,
    "start_time": "2022-01-17T09:18:57.951Z"
   },
   {
    "duration": 476,
    "start_time": "2022-01-17T09:18:58.611Z"
   },
   {
    "duration": 62,
    "start_time": "2022-01-17T09:18:59.091Z"
   },
   {
    "duration": 468,
    "start_time": "2022-01-17T09:18:59.156Z"
   },
   {
    "duration": 492,
    "start_time": "2022-01-17T09:18:59.627Z"
   },
   {
    "duration": 18,
    "start_time": "2022-01-17T09:19:00.124Z"
   },
   {
    "duration": 15,
    "start_time": "2022-01-17T09:19:00.144Z"
   },
   {
    "duration": 3,
    "start_time": "2022-01-17T09:24:54.811Z"
   },
   {
    "duration": 1513,
    "start_time": "2022-01-17T09:25:47.075Z"
   },
   {
    "duration": 1765,
    "start_time": "2022-01-17T09:27:54.118Z"
   },
   {
    "duration": 771,
    "start_time": "2022-01-17T09:32:52.544Z"
   },
   {
    "duration": 812,
    "start_time": "2022-01-17T09:33:31.616Z"
   },
   {
    "duration": 659,
    "start_time": "2022-01-17T09:33:46.328Z"
   },
   {
    "duration": 752,
    "start_time": "2022-01-17T09:34:48.871Z"
   },
   {
    "duration": 693,
    "start_time": "2022-01-17T09:34:51.183Z"
   },
   {
    "duration": 1880,
    "start_time": "2022-01-17T09:36:27.778Z"
   },
   {
    "duration": 1998,
    "start_time": "2022-01-17T09:36:43.686Z"
   },
   {
    "duration": 2529,
    "start_time": "2022-01-17T09:41:04.205Z"
   },
   {
    "duration": 2648,
    "start_time": "2022-01-17T09:41:22.041Z"
   },
   {
    "duration": 3014,
    "start_time": "2022-01-17T09:41:35.940Z"
   },
   {
    "duration": 2871,
    "start_time": "2022-01-17T09:42:46.516Z"
   },
   {
    "duration": 2803,
    "start_time": "2022-01-17T09:42:55.908Z"
   },
   {
    "duration": 2337,
    "start_time": "2022-01-17T09:43:10.704Z"
   },
   {
    "duration": 456,
    "start_time": "2022-01-17T09:45:24.700Z"
   },
   {
    "duration": 498,
    "start_time": "2022-01-17T09:45:48.063Z"
   },
   {
    "duration": 560,
    "start_time": "2022-01-17T09:55:06.498Z"
   },
   {
    "duration": 574,
    "start_time": "2022-01-17T09:55:37.274Z"
   },
   {
    "duration": 574,
    "start_time": "2022-01-17T10:01:04.989Z"
   },
   {
    "duration": 577,
    "start_time": "2022-01-17T10:01:32.853Z"
   },
   {
    "duration": 1519,
    "start_time": "2022-01-17T10:03:11.493Z"
   },
   {
    "duration": 371,
    "start_time": "2022-01-17T10:03:39.997Z"
   },
   {
    "duration": 589,
    "start_time": "2022-01-17T10:03:49.717Z"
   },
   {
    "duration": 421,
    "start_time": "2022-01-17T10:12:43.536Z"
   },
   {
    "duration": 3,
    "start_time": "2022-01-17T10:13:04.204Z"
   },
   {
    "duration": 814,
    "start_time": "2022-01-17T10:15:33.412Z"
   },
   {
    "duration": 1037,
    "start_time": "2022-01-17T10:15:53.775Z"
   },
   {
    "duration": 1114,
    "start_time": "2022-01-17T10:16:41.079Z"
   },
   {
    "duration": 758,
    "start_time": "2022-01-17T10:18:04.884Z"
   },
   {
    "duration": 843,
    "start_time": "2022-01-17T10:18:18.675Z"
   },
   {
    "duration": 719,
    "start_time": "2022-01-17T10:18:31.227Z"
   },
   {
    "duration": 1585,
    "start_time": "2022-01-17T10:20:15.890Z"
   },
   {
    "duration": 11,
    "start_time": "2022-01-17T10:20:17.477Z"
   },
   {
    "duration": 6,
    "start_time": "2022-01-17T10:20:17.492Z"
   },
   {
    "duration": 22,
    "start_time": "2022-01-17T10:20:17.501Z"
   },
   {
    "duration": 8,
    "start_time": "2022-01-17T10:20:17.525Z"
   },
   {
    "duration": 23,
    "start_time": "2022-01-17T10:20:17.535Z"
   },
   {
    "duration": 14,
    "start_time": "2022-01-17T10:20:17.561Z"
   },
   {
    "duration": 42,
    "start_time": "2022-01-17T10:20:17.581Z"
   },
   {
    "duration": 14,
    "start_time": "2022-01-17T10:20:17.627Z"
   },
   {
    "duration": 23,
    "start_time": "2022-01-17T10:20:17.644Z"
   },
   {
    "duration": 3989,
    "start_time": "2022-01-17T10:20:17.669Z"
   },
   {
    "duration": 15,
    "start_time": "2022-01-17T10:20:21.660Z"
   },
   {
    "duration": 686,
    "start_time": "2022-01-17T10:20:21.677Z"
   },
   {
    "duration": 706,
    "start_time": "2022-01-17T10:20:22.366Z"
   },
   {
    "duration": 612,
    "start_time": "2022-01-17T10:20:23.075Z"
   },
   {
    "duration": 448,
    "start_time": "2022-01-17T10:20:23.690Z"
   },
   {
    "duration": 450,
    "start_time": "2022-01-17T10:20:24.141Z"
   },
   {
    "duration": 451,
    "start_time": "2022-01-17T10:20:24.593Z"
   },
   {
    "duration": 534,
    "start_time": "2022-01-17T10:20:25.047Z"
   },
   {
    "duration": 482,
    "start_time": "2022-01-17T10:20:25.583Z"
   },
   {
    "duration": 460,
    "start_time": "2022-01-17T10:20:26.067Z"
   },
   {
    "duration": 448,
    "start_time": "2022-01-17T10:20:26.529Z"
   },
   {
    "duration": 3,
    "start_time": "2022-01-17T10:20:26.982Z"
   },
   {
    "duration": 2008,
    "start_time": "2022-01-17T10:20:26.988Z"
   },
   {
    "duration": 423,
    "start_time": "2022-01-17T10:20:29.000Z"
   },
   {
    "duration": 909,
    "start_time": "2022-01-17T10:20:29.425Z"
   },
   {
    "duration": 3,
    "start_time": "2022-01-17T10:20:30.337Z"
   },
   {
    "duration": 702,
    "start_time": "2022-01-17T10:20:30.343Z"
   },
   {
    "duration": 662,
    "start_time": "2022-01-17T10:20:31.049Z"
   },
   {
    "duration": 683,
    "start_time": "2022-01-17T10:20:31.713Z"
   },
   {
    "duration": 480,
    "start_time": "2022-01-17T10:20:32.398Z"
   },
   {
    "duration": 623,
    "start_time": "2022-01-17T10:20:32.881Z"
   },
   {
    "duration": 614,
    "start_time": "2022-01-17T10:20:33.506Z"
   },
   {
    "duration": 612,
    "start_time": "2022-01-17T10:20:34.122Z"
   },
   {
    "duration": 575,
    "start_time": "2022-01-17T10:20:34.738Z"
   },
   {
    "duration": 50,
    "start_time": "2022-01-17T10:20:35.316Z"
   },
   {
    "duration": 690,
    "start_time": "2022-01-17T10:20:35.368Z"
   },
   {
    "duration": 556,
    "start_time": "2022-01-17T10:20:36.060Z"
   },
   {
    "duration": 17,
    "start_time": "2022-01-17T10:20:36.619Z"
   },
   {
    "duration": 19,
    "start_time": "2022-01-17T10:20:36.639Z"
   },
   {
    "duration": 526,
    "start_time": "2022-01-17T10:21:33.054Z"
   },
   {
    "duration": 556,
    "start_time": "2022-01-17T10:25:04.102Z"
   },
   {
    "duration": 1538,
    "start_time": "2022-01-17T10:25:13.697Z"
   },
   {
    "duration": 11,
    "start_time": "2022-01-17T10:25:15.238Z"
   },
   {
    "duration": 6,
    "start_time": "2022-01-17T10:25:15.253Z"
   },
   {
    "duration": 3,
    "start_time": "2022-01-17T10:25:15.262Z"
   },
   {
    "duration": 13,
    "start_time": "2022-01-17T10:25:15.268Z"
   },
   {
    "duration": 61,
    "start_time": "2022-01-17T10:25:15.284Z"
   },
   {
    "duration": 11,
    "start_time": "2022-01-17T10:25:15.348Z"
   },
   {
    "duration": 6,
    "start_time": "2022-01-17T10:25:15.363Z"
   },
   {
    "duration": 6,
    "start_time": "2022-01-17T10:25:15.373Z"
   },
   {
    "duration": 58,
    "start_time": "2022-01-17T10:25:15.382Z"
   },
   {
    "duration": 3977,
    "start_time": "2022-01-17T10:25:15.442Z"
   },
   {
    "duration": 21,
    "start_time": "2022-01-17T10:25:19.423Z"
   },
   {
    "duration": 704,
    "start_time": "2022-01-17T10:25:19.447Z"
   },
   {
    "duration": 645,
    "start_time": "2022-01-17T10:25:20.153Z"
   },
   {
    "duration": 623,
    "start_time": "2022-01-17T10:25:20.800Z"
   },
   {
    "duration": 455,
    "start_time": "2022-01-17T10:25:21.425Z"
   },
   {
    "duration": 527,
    "start_time": "2022-01-17T10:25:21.882Z"
   },
   {
    "duration": 483,
    "start_time": "2022-01-17T10:25:22.412Z"
   },
   {
    "duration": 495,
    "start_time": "2022-01-17T10:25:22.898Z"
   },
   {
    "duration": 481,
    "start_time": "2022-01-17T10:25:23.396Z"
   },
   {
    "duration": 482,
    "start_time": "2022-01-17T10:25:23.879Z"
   },
   {
    "duration": 462,
    "start_time": "2022-01-17T10:25:24.364Z"
   },
   {
    "duration": 3,
    "start_time": "2022-01-17T10:25:24.830Z"
   },
   {
    "duration": 2110,
    "start_time": "2022-01-17T10:25:24.837Z"
   },
   {
    "duration": 538,
    "start_time": "2022-01-17T10:25:26.950Z"
   },
   {
    "duration": 233,
    "start_time": "2022-01-17T10:25:27.490Z"
   },
   {
    "duration": 767,
    "start_time": "2022-01-17T10:25:27.725Z"
   },
   {
    "duration": 3,
    "start_time": "2022-01-17T10:25:28.495Z"
   },
   {
    "duration": 687,
    "start_time": "2022-01-17T10:25:28.501Z"
   },
   {
    "duration": 673,
    "start_time": "2022-01-17T10:25:29.191Z"
   },
   {
    "duration": 730,
    "start_time": "2022-01-17T10:25:29.866Z"
   },
   {
    "duration": 502,
    "start_time": "2022-01-17T10:25:30.598Z"
   },
   {
    "duration": 629,
    "start_time": "2022-01-17T10:25:31.102Z"
   },
   {
    "duration": 799,
    "start_time": "2022-01-17T10:25:31.733Z"
   },
   {
    "duration": 923,
    "start_time": "2022-01-17T10:25:32.535Z"
   },
   {
    "duration": 511,
    "start_time": "2022-01-17T10:25:33.460Z"
   },
   {
    "duration": 65,
    "start_time": "2022-01-17T10:25:33.975Z"
   },
   {
    "duration": 494,
    "start_time": "2022-01-17T10:25:34.043Z"
   },
   {
    "duration": 488,
    "start_time": "2022-01-17T10:25:34.540Z"
   },
   {
    "duration": 21,
    "start_time": "2022-01-17T10:25:35.031Z"
   },
   {
    "duration": 11,
    "start_time": "2022-01-17T10:25:35.054Z"
   },
   {
    "duration": 219,
    "start_time": "2022-01-17T10:25:47.621Z"
   },
   {
    "duration": 934,
    "start_time": "2022-01-17T10:31:17.897Z"
   },
   {
    "duration": 454,
    "start_time": "2022-01-17T10:31:22.769Z"
   },
   {
    "duration": 4,
    "start_time": "2022-01-17T10:31:25.633Z"
   },
   {
    "duration": 13,
    "start_time": "2022-01-17T10:33:47.160Z"
   },
   {
    "duration": 12,
    "start_time": "2022-01-17T10:34:34.888Z"
   },
   {
    "duration": 28,
    "start_time": "2022-01-17T10:38:07.429Z"
   },
   {
    "duration": 138,
    "start_time": "2022-01-17T10:39:19.052Z"
   },
   {
    "duration": 27,
    "start_time": "2022-01-17T10:39:43.928Z"
   },
   {
    "duration": 28,
    "start_time": "2022-01-17T10:40:21.624Z"
   },
   {
    "duration": 27,
    "start_time": "2022-01-17T10:46:23.063Z"
   },
   {
    "duration": 27,
    "start_time": "2022-01-17T10:46:31.071Z"
   },
   {
    "duration": 1421,
    "start_time": "2022-01-17T11:10:04.132Z"
   },
   {
    "duration": 1217,
    "start_time": "2022-01-17T11:10:54.308Z"
   },
   {
    "duration": 838,
    "start_time": "2022-01-17T11:14:40.264Z"
   },
   {
    "duration": -94,
    "start_time": "2022-01-17T11:16:17.220Z"
   },
   {
    "duration": 828,
    "start_time": "2022-01-17T11:16:31.168Z"
   },
   {
    "duration": 1104,
    "start_time": "2022-01-17T11:16:56.760Z"
   },
   {
    "duration": 1437,
    "start_time": "2022-01-17T11:18:00.960Z"
   },
   {
    "duration": 1123,
    "start_time": "2022-01-17T11:18:24.000Z"
   },
   {
    "duration": 1230,
    "start_time": "2022-01-17T11:20:08.519Z"
   },
   {
    "duration": 1000,
    "start_time": "2022-01-17T11:22:48.132Z"
   },
   {
    "duration": 1030,
    "start_time": "2022-01-17T11:23:32.732Z"
   },
   {
    "duration": 1004,
    "start_time": "2022-01-17T11:23:54.691Z"
   },
   {
    "duration": 2300,
    "start_time": "2022-01-17T11:45:34.137Z"
   },
   {
    "duration": 2374,
    "start_time": "2022-01-17T11:48:47.073Z"
   },
   {
    "duration": 2537,
    "start_time": "2022-01-17T11:49:26.616Z"
   },
   {
    "duration": 2362,
    "start_time": "2022-01-17T11:49:37.824Z"
   },
   {
    "duration": 2523,
    "start_time": "2022-01-17T11:50:29.477Z"
   },
   {
    "duration": 2165,
    "start_time": "2022-01-17T11:51:44.469Z"
   },
   {
    "duration": 2614,
    "start_time": "2022-01-17T11:52:00.084Z"
   },
   {
    "duration": 7,
    "start_time": "2022-01-17T12:03:06.331Z"
   },
   {
    "duration": 8,
    "start_time": "2022-01-17T12:04:50.560Z"
   },
   {
    "duration": 11,
    "start_time": "2022-01-17T12:06:51.223Z"
   },
   {
    "duration": 9,
    "start_time": "2022-01-17T12:07:47.399Z"
   },
   {
    "duration": 9,
    "start_time": "2022-01-17T12:08:07.395Z"
   },
   {
    "duration": 12,
    "start_time": "2022-01-17T12:08:44.583Z"
   },
   {
    "duration": 10,
    "start_time": "2022-01-17T12:09:35.632Z"
   },
   {
    "duration": 12,
    "start_time": "2022-01-17T12:09:47.459Z"
   },
   {
    "duration": 2205,
    "start_time": "2022-01-17T12:11:09.031Z"
   },
   {
    "duration": 1367,
    "start_time": "2022-01-17T12:12:15.463Z"
   },
   {
    "duration": 14,
    "start_time": "2022-01-17T12:12:16.834Z"
   },
   {
    "duration": 9,
    "start_time": "2022-01-17T12:12:16.851Z"
   },
   {
    "duration": 9,
    "start_time": "2022-01-17T12:12:16.863Z"
   },
   {
    "duration": 9,
    "start_time": "2022-01-17T12:12:16.874Z"
   },
   {
    "duration": 54,
    "start_time": "2022-01-17T12:12:16.885Z"
   },
   {
    "duration": 10,
    "start_time": "2022-01-17T12:12:16.941Z"
   },
   {
    "duration": 7,
    "start_time": "2022-01-17T12:12:16.955Z"
   },
   {
    "duration": 7,
    "start_time": "2022-01-17T12:12:16.965Z"
   },
   {
    "duration": 55,
    "start_time": "2022-01-17T12:12:16.974Z"
   },
   {
    "duration": 4026,
    "start_time": "2022-01-17T12:12:17.031Z"
   },
   {
    "duration": 17,
    "start_time": "2022-01-17T12:12:21.059Z"
   },
   {
    "duration": 755,
    "start_time": "2022-01-17T12:12:21.078Z"
   },
   {
    "duration": 688,
    "start_time": "2022-01-17T12:12:21.836Z"
   },
   {
    "duration": 666,
    "start_time": "2022-01-17T12:12:22.527Z"
   },
   {
    "duration": 517,
    "start_time": "2022-01-17T12:12:23.196Z"
   },
   {
    "duration": 468,
    "start_time": "2022-01-17T12:12:23.724Z"
   },
   {
    "duration": 582,
    "start_time": "2022-01-17T12:12:24.194Z"
   },
   {
    "duration": 539,
    "start_time": "2022-01-17T12:12:24.778Z"
   },
   {
    "duration": 468,
    "start_time": "2022-01-17T12:12:25.324Z"
   },
   {
    "duration": 478,
    "start_time": "2022-01-17T12:12:25.794Z"
   },
   {
    "duration": 476,
    "start_time": "2022-01-17T12:12:26.275Z"
   },
   {
    "duration": 3,
    "start_time": "2022-01-17T12:12:26.758Z"
   },
   {
    "duration": 2179,
    "start_time": "2022-01-17T12:12:26.764Z"
   },
   {
    "duration": 2378,
    "start_time": "2022-01-17T12:12:28.945Z"
   },
   {
    "duration": 451,
    "start_time": "2022-01-17T12:12:31.325Z"
   },
   {
    "duration": 789,
    "start_time": "2022-01-17T12:12:31.779Z"
   },
   {
    "duration": 28,
    "start_time": "2022-01-17T12:12:32.571Z"
   },
   {
    "duration": 52,
    "start_time": "2022-01-17T12:12:32.601Z"
   },
   {
    "duration": 802,
    "start_time": "2022-01-17T12:12:32.656Z"
   },
   {
    "duration": 746,
    "start_time": "2022-01-17T12:12:33.461Z"
   },
   {
    "duration": 815,
    "start_time": "2022-01-17T12:12:34.210Z"
   },
   {
    "duration": 505,
    "start_time": "2022-01-17T12:12:35.027Z"
   },
   {
    "duration": 757,
    "start_time": "2022-01-17T12:12:35.535Z"
   },
   {
    "duration": 657,
    "start_time": "2022-01-17T12:12:36.294Z"
   },
   {
    "duration": 640,
    "start_time": "2022-01-17T12:12:36.954Z"
   },
   {
    "duration": 484,
    "start_time": "2022-01-17T12:12:37.596Z"
   },
   {
    "duration": 68,
    "start_time": "2022-01-17T12:12:38.084Z"
   },
   {
    "duration": 501,
    "start_time": "2022-01-17T12:12:38.155Z"
   },
   {
    "duration": 509,
    "start_time": "2022-01-17T12:12:38.658Z"
   },
   {
    "duration": 19,
    "start_time": "2022-01-17T12:12:39.170Z"
   },
   {
    "duration": 9,
    "start_time": "2022-01-17T12:12:39.192Z"
   },
   {
    "duration": 2203,
    "start_time": "2022-01-17T12:13:20.132Z"
   },
   {
    "duration": 2091,
    "start_time": "2022-01-17T12:15:09.234Z"
   },
   {
    "duration": 448,
    "start_time": "2022-01-17T12:24:26.430Z"
   },
   {
    "duration": 11067,
    "start_time": "2022-01-17T12:26:34.658Z"
   },
   {
    "duration": 10522,
    "start_time": "2022-01-17T12:27:04.247Z"
   },
   {
    "duration": 12464,
    "start_time": "2022-01-17T12:28:15.978Z"
   },
   {
    "duration": 108,
    "start_time": "2022-01-17T12:29:12.398Z"
   },
   {
    "duration": 101,
    "start_time": "2022-01-17T12:29:26.482Z"
   },
   {
    "duration": 106,
    "start_time": "2022-01-17T12:29:43.245Z"
   },
   {
    "duration": 12500,
    "start_time": "2022-01-17T12:30:04.290Z"
   },
   {
    "duration": 11220,
    "start_time": "2022-01-17T12:30:35.478Z"
   },
   {
    "duration": 2569,
    "start_time": "2022-01-17T12:31:40.034Z"
   },
   {
    "duration": 3192,
    "start_time": "2022-01-17T12:31:55.605Z"
   },
   {
    "duration": 106,
    "start_time": "2022-01-17T12:33:54.945Z"
   },
   {
    "duration": 2765,
    "start_time": "2022-01-17T12:34:09.977Z"
   },
   {
    "duration": 2130,
    "start_time": "2022-01-17T12:34:43.981Z"
   },
   {
    "duration": 6,
    "start_time": "2022-01-17T12:38:54.309Z"
   },
   {
    "duration": 341,
    "start_time": "2022-01-17T12:39:18.389Z"
   },
   {
    "duration": 404,
    "start_time": "2022-01-17T12:39:27.864Z"
   },
   {
    "duration": 6,
    "start_time": "2022-01-17T12:40:03.453Z"
   },
   {
    "duration": 7,
    "start_time": "2022-01-17T12:40:17.124Z"
   },
   {
    "duration": 2453,
    "start_time": "2022-01-17T12:42:52.544Z"
   },
   {
    "duration": 10,
    "start_time": "2022-01-17T12:43:40.432Z"
   },
   {
    "duration": 14,
    "start_time": "2022-01-17T12:47:31.056Z"
   },
   {
    "duration": 2293,
    "start_time": "2022-01-17T12:47:34.592Z"
   },
   {
    "duration": 343,
    "start_time": "2022-01-17T12:49:10.080Z"
   },
   {
    "duration": 331,
    "start_time": "2022-01-17T12:49:19.055Z"
   },
   {
    "duration": 412,
    "start_time": "2022-01-17T12:49:43.760Z"
   },
   {
    "duration": 19,
    "start_time": "2022-01-17T12:51:26.479Z"
   },
   {
    "duration": 689,
    "start_time": "2022-01-17T12:52:45.867Z"
   },
   {
    "duration": 446,
    "start_time": "2022-01-17T12:56:53.763Z"
   },
   {
    "duration": 5,
    "start_time": "2022-01-17T12:57:14.115Z"
   },
   {
    "duration": 427,
    "start_time": "2022-01-17T12:59:39.510Z"
   },
   {
    "duration": 479,
    "start_time": "2022-01-17T13:02:27.198Z"
   },
   {
    "duration": 16,
    "start_time": "2022-01-17T13:02:35.406Z"
   },
   {
    "duration": 851,
    "start_time": "2022-01-17T13:03:02.934Z"
   },
   {
    "duration": 837,
    "start_time": "2022-01-17T13:03:14.374Z"
   },
   {
    "duration": 452,
    "start_time": "2022-01-17T13:03:38.374Z"
   },
   {
    "duration": 7,
    "start_time": "2022-01-17T13:03:43.414Z"
   },
   {
    "duration": 1574,
    "start_time": "2022-01-17T13:04:52.494Z"
   },
   {
    "duration": 13,
    "start_time": "2022-01-17T13:04:54.071Z"
   },
   {
    "duration": 10,
    "start_time": "2022-01-17T13:04:54.087Z"
   },
   {
    "duration": 25,
    "start_time": "2022-01-17T13:04:54.099Z"
   },
   {
    "duration": 19,
    "start_time": "2022-01-17T13:04:54.128Z"
   },
   {
    "duration": 25,
    "start_time": "2022-01-17T13:04:54.150Z"
   },
   {
    "duration": 12,
    "start_time": "2022-01-17T13:04:54.178Z"
   },
   {
    "duration": 11,
    "start_time": "2022-01-17T13:04:54.222Z"
   },
   {
    "duration": 15,
    "start_time": "2022-01-17T13:04:54.238Z"
   },
   {
    "duration": 28,
    "start_time": "2022-01-17T13:04:54.257Z"
   },
   {
    "duration": 4911,
    "start_time": "2022-01-17T13:04:54.288Z"
   },
   {
    "duration": 25,
    "start_time": "2022-01-17T13:04:59.202Z"
   },
   {
    "duration": 826,
    "start_time": "2022-01-17T13:04:59.230Z"
   },
   {
    "duration": 723,
    "start_time": "2022-01-17T13:05:00.059Z"
   },
   {
    "duration": 743,
    "start_time": "2022-01-17T13:05:00.784Z"
   },
   {
    "duration": 670,
    "start_time": "2022-01-17T13:05:01.530Z"
   },
   {
    "duration": 694,
    "start_time": "2022-01-17T13:05:02.203Z"
   },
   {
    "duration": 727,
    "start_time": "2022-01-17T13:05:02.900Z"
   },
   {
    "duration": 775,
    "start_time": "2022-01-17T13:05:03.631Z"
   },
   {
    "duration": 559,
    "start_time": "2022-01-17T13:05:04.408Z"
   },
   {
    "duration": 562,
    "start_time": "2022-01-17T13:05:04.970Z"
   },
   {
    "duration": 588,
    "start_time": "2022-01-17T13:05:05.535Z"
   },
   {
    "duration": 2833,
    "start_time": "2022-01-17T13:05:06.129Z"
   },
   {
    "duration": 544,
    "start_time": "2022-01-17T13:05:08.966Z"
   },
   {
    "duration": 1032,
    "start_time": "2022-01-17T13:05:09.512Z"
   },
   {
    "duration": 31,
    "start_time": "2022-01-17T13:05:10.547Z"
   },
   {
    "duration": 57,
    "start_time": "2022-01-17T13:05:10.580Z"
   },
   {
    "duration": 953,
    "start_time": "2022-01-17T13:05:10.639Z"
   },
   {
    "duration": 815,
    "start_time": "2022-01-17T13:05:11.595Z"
   },
   {
    "duration": 888,
    "start_time": "2022-01-17T13:05:12.412Z"
   },
   {
    "duration": 547,
    "start_time": "2022-01-17T13:05:13.302Z"
   },
   {
    "duration": 761,
    "start_time": "2022-01-17T13:05:13.851Z"
   },
   {
    "duration": 724,
    "start_time": "2022-01-17T13:05:14.623Z"
   },
   {
    "duration": 761,
    "start_time": "2022-01-17T13:05:15.349Z"
   },
   {
    "duration": 677,
    "start_time": "2022-01-17T13:05:16.113Z"
   },
   {
    "duration": 62,
    "start_time": "2022-01-17T13:05:16.792Z"
   },
   {
    "duration": 535,
    "start_time": "2022-01-17T13:05:16.858Z"
   },
   {
    "duration": 583,
    "start_time": "2022-01-17T13:05:17.396Z"
   },
   {
    "duration": 19,
    "start_time": "2022-01-17T13:05:17.982Z"
   },
   {
    "duration": 10,
    "start_time": "2022-01-17T13:05:18.023Z"
   },
   {
    "duration": 2357,
    "start_time": "2022-01-17T13:10:43.425Z"
   },
   {
    "duration": 2286,
    "start_time": "2022-01-17T13:11:36.089Z"
   },
   {
    "duration": 14,
    "start_time": "2022-01-17T13:13:24.093Z"
   },
   {
    "duration": 16,
    "start_time": "2022-01-17T13:14:25.330Z"
   },
   {
    "duration": 12,
    "start_time": "2022-01-17T13:14:40.317Z"
   },
   {
    "duration": 2341,
    "start_time": "2022-01-17T13:15:51.305Z"
   },
   {
    "duration": 2077,
    "start_time": "2022-01-17T13:16:58.197Z"
   },
   {
    "duration": 634,
    "start_time": "2022-01-17T13:18:58.401Z"
   },
   {
    "duration": 3384,
    "start_time": "2022-01-17T13:20:01.381Z"
   },
   {
    "duration": 627,
    "start_time": "2022-01-17T13:21:24.785Z"
   },
   {
    "duration": 1389,
    "start_time": "2022-01-17T13:28:18.555Z"
   },
   {
    "duration": 12,
    "start_time": "2022-01-17T13:28:19.946Z"
   },
   {
    "duration": 6,
    "start_time": "2022-01-17T13:28:19.961Z"
   },
   {
    "duration": 3,
    "start_time": "2022-01-17T13:28:19.970Z"
   },
   {
    "duration": 10,
    "start_time": "2022-01-17T13:28:19.976Z"
   },
   {
    "duration": 25,
    "start_time": "2022-01-17T13:28:20.024Z"
   },
   {
    "duration": 10,
    "start_time": "2022-01-17T13:28:20.051Z"
   },
   {
    "duration": 13,
    "start_time": "2022-01-17T13:28:20.065Z"
   },
   {
    "duration": 9,
    "start_time": "2022-01-17T13:28:20.081Z"
   },
   {
    "duration": 18,
    "start_time": "2022-01-17T13:28:20.124Z"
   },
   {
    "duration": 3941,
    "start_time": "2022-01-17T13:28:20.144Z"
   },
   {
    "duration": 16,
    "start_time": "2022-01-17T13:28:24.088Z"
   },
   {
    "duration": 734,
    "start_time": "2022-01-17T13:28:24.106Z"
   },
   {
    "duration": 668,
    "start_time": "2022-01-17T13:28:24.842Z"
   },
   {
    "duration": 3023,
    "start_time": "2022-01-17T13:28:25.512Z"
   },
   {
    "duration": 470,
    "start_time": "2022-01-17T13:28:28.537Z"
   },
   {
    "duration": 2226,
    "start_time": "2022-01-17T13:28:29.010Z"
   },
   {
    "duration": 477,
    "start_time": "2022-01-17T13:28:31.239Z"
   },
   {
    "duration": 810,
    "start_time": "2022-01-17T13:28:31.719Z"
   },
   {
    "duration": 26,
    "start_time": "2022-01-17T13:28:32.532Z"
   },
   {
    "duration": 29,
    "start_time": "2022-01-17T13:28:32.561Z"
   },
   {
    "duration": 798,
    "start_time": "2022-01-17T13:28:32.593Z"
   },
   {
    "duration": 771,
    "start_time": "2022-01-17T13:28:33.396Z"
   },
   {
    "duration": 855,
    "start_time": "2022-01-17T13:28:34.170Z"
   },
   {
    "duration": 505,
    "start_time": "2022-01-17T13:28:35.027Z"
   },
   {
    "duration": 652,
    "start_time": "2022-01-17T13:28:35.534Z"
   },
   {
    "duration": 672,
    "start_time": "2022-01-17T13:28:36.188Z"
   },
   {
    "duration": 670,
    "start_time": "2022-01-17T13:28:36.863Z"
   },
   {
    "duration": 488,
    "start_time": "2022-01-17T13:28:37.536Z"
   },
   {
    "duration": 205,
    "start_time": "2022-01-17T13:28:38.027Z"
   },
   {
    "duration": 608,
    "start_time": "2022-01-17T13:28:38.234Z"
   },
   {
    "duration": 518,
    "start_time": "2022-01-17T13:28:38.845Z"
   },
   {
    "duration": 16,
    "start_time": "2022-01-17T13:28:39.366Z"
   },
   {
    "duration": 11,
    "start_time": "2022-01-17T13:28:39.385Z"
   },
   {
    "duration": 21,
    "start_time": "2022-01-17T13:30:35.123Z"
   },
   {
    "duration": 636,
    "start_time": "2022-01-17T13:33:46.851Z"
   },
   {
    "duration": 3001,
    "start_time": "2022-01-17T13:33:55.383Z"
   },
   {
    "duration": 1441,
    "start_time": "2022-01-17T13:34:10.591Z"
   },
   {
    "duration": 13,
    "start_time": "2022-01-17T13:34:12.034Z"
   },
   {
    "duration": 18,
    "start_time": "2022-01-17T13:34:12.050Z"
   },
   {
    "duration": 12,
    "start_time": "2022-01-17T13:34:12.071Z"
   },
   {
    "duration": 9,
    "start_time": "2022-01-17T13:34:12.085Z"
   },
   {
    "duration": 41,
    "start_time": "2022-01-17T13:34:12.097Z"
   },
   {
    "duration": 10,
    "start_time": "2022-01-17T13:34:12.140Z"
   },
   {
    "duration": 15,
    "start_time": "2022-01-17T13:34:12.153Z"
   },
   {
    "duration": 28,
    "start_time": "2022-01-17T13:34:12.170Z"
   },
   {
    "duration": 27,
    "start_time": "2022-01-17T13:34:12.201Z"
   },
   {
    "duration": 3842,
    "start_time": "2022-01-17T13:34:12.231Z"
   },
   {
    "duration": 16,
    "start_time": "2022-01-17T13:34:16.076Z"
   },
   {
    "duration": 755,
    "start_time": "2022-01-17T13:34:16.094Z"
   },
   {
    "duration": 646,
    "start_time": "2022-01-17T13:34:16.852Z"
   },
   {
    "duration": 3181,
    "start_time": "2022-01-17T13:34:17.501Z"
   },
   {
    "duration": 14,
    "start_time": "2022-01-17T13:34:20.684Z"
   },
   {
    "duration": 468,
    "start_time": "2022-01-17T13:34:20.701Z"
   },
   {
    "duration": 2019,
    "start_time": "2022-01-17T13:34:21.171Z"
   },
   {
    "duration": 455,
    "start_time": "2022-01-17T13:34:23.193Z"
   },
   {
    "duration": 766,
    "start_time": "2022-01-17T13:34:23.651Z"
   },
   {
    "duration": 27,
    "start_time": "2022-01-17T13:34:24.424Z"
   },
   {
    "duration": 28,
    "start_time": "2022-01-17T13:34:24.454Z"
   },
   {
    "duration": 814,
    "start_time": "2022-01-17T13:34:24.489Z"
   },
   {
    "duration": 771,
    "start_time": "2022-01-17T13:34:25.306Z"
   },
   {
    "duration": 748,
    "start_time": "2022-01-17T13:34:26.079Z"
   },
   {
    "duration": 517,
    "start_time": "2022-01-17T13:34:26.829Z"
   },
   {
    "duration": 626,
    "start_time": "2022-01-17T13:34:27.349Z"
   },
   {
    "duration": 657,
    "start_time": "2022-01-17T13:34:27.977Z"
   },
   {
    "duration": 643,
    "start_time": "2022-01-17T13:34:28.637Z"
   },
   {
    "duration": 487,
    "start_time": "2022-01-17T13:34:29.283Z"
   },
   {
    "duration": 136,
    "start_time": "2022-01-17T13:34:29.773Z"
   },
   {
    "duration": 475,
    "start_time": "2022-01-17T13:34:29.911Z"
   },
   {
    "duration": 481,
    "start_time": "2022-01-17T13:34:30.389Z"
   },
   {
    "duration": 18,
    "start_time": "2022-01-17T13:34:30.873Z"
   },
   {
    "duration": 35,
    "start_time": "2022-01-17T13:34:30.894Z"
   },
   {
    "duration": 1902,
    "start_time": "2022-01-17T13:36:52.828Z"
   },
   {
    "duration": 678,
    "start_time": "2022-01-17T13:40:58.523Z"
   },
   {
    "duration": 675,
    "start_time": "2022-01-17T13:41:58.678Z"
   },
   {
    "duration": 2674,
    "start_time": "2022-01-17T13:55:09.597Z"
   },
   {
    "duration": 2689,
    "start_time": "2022-01-17T14:00:13.977Z"
   },
   {
    "duration": 2751,
    "start_time": "2022-01-17T14:03:01.637Z"
   },
   {
    "duration": 2978,
    "start_time": "2022-01-17T14:03:22.945Z"
   },
   {
    "duration": 2630,
    "start_time": "2022-01-17T14:05:19.813Z"
   },
   {
    "duration": 2761,
    "start_time": "2022-01-17T14:06:10.157Z"
   },
   {
    "duration": 2921,
    "start_time": "2022-01-17T14:06:45.677Z"
   },
   {
    "duration": 3098,
    "start_time": "2022-01-17T14:10:36.253Z"
   },
   {
    "duration": 3053,
    "start_time": "2022-01-17T14:10:48.816Z"
   },
   {
    "duration": 2550,
    "start_time": "2022-01-17T14:11:43.688Z"
   },
   {
    "duration": 2788,
    "start_time": "2022-01-17T14:11:59.180Z"
   },
   {
    "duration": 2802,
    "start_time": "2022-01-17T14:16:25.455Z"
   },
   {
    "duration": 2652,
    "start_time": "2022-01-17T14:16:46.299Z"
   },
   {
    "duration": 2932,
    "start_time": "2022-01-17T14:17:06.659Z"
   },
   {
    "duration": 556,
    "start_time": "2022-01-17T14:21:04.771Z"
   },
   {
    "duration": 499,
    "start_time": "2022-01-17T14:21:19.095Z"
   },
   {
    "duration": 432,
    "start_time": "2022-01-17T14:23:12.043Z"
   },
   {
    "duration": 405,
    "start_time": "2022-01-17T14:23:16.918Z"
   },
   {
    "duration": 26,
    "start_time": "2022-01-17T14:27:00.251Z"
   },
   {
    "duration": 35,
    "start_time": "2022-01-17T14:27:20.222Z"
   },
   {
    "duration": 125,
    "start_time": "2022-01-17T14:28:42.955Z"
   },
   {
    "duration": 48,
    "start_time": "2022-01-17T14:28:59.342Z"
   },
   {
    "duration": 29,
    "start_time": "2022-01-17T14:29:34.226Z"
   },
   {
    "duration": 420,
    "start_time": "2022-01-17T14:32:06.990Z"
   },
   {
    "duration": 424,
    "start_time": "2022-01-17T14:33:09.486Z"
   },
   {
    "duration": 466,
    "start_time": "2022-01-17T14:37:00.747Z"
   },
   {
    "duration": 35,
    "start_time": "2022-01-17T14:37:08.062Z"
   },
   {
    "duration": 31,
    "start_time": "2022-01-17T14:38:48.673Z"
   },
   {
    "duration": 17,
    "start_time": "2022-01-17T14:40:40.569Z"
   },
   {
    "duration": 568,
    "start_time": "2022-01-17T14:43:40.009Z"
   },
   {
    "duration": 211,
    "start_time": "2022-01-17T16:17:35.886Z"
   },
   {
    "duration": 1433,
    "start_time": "2022-01-17T16:18:08.866Z"
   },
   {
    "duration": 7,
    "start_time": "2022-01-17T16:18:10.301Z"
   },
   {
    "duration": 13,
    "start_time": "2022-01-17T16:18:10.310Z"
   },
   {
    "duration": 16,
    "start_time": "2022-01-17T16:18:10.324Z"
   },
   {
    "duration": 16,
    "start_time": "2022-01-17T16:18:10.342Z"
   },
   {
    "duration": 16,
    "start_time": "2022-01-17T16:18:10.360Z"
   },
   {
    "duration": 7,
    "start_time": "2022-01-17T16:18:10.377Z"
   },
   {
    "duration": 11,
    "start_time": "2022-01-17T16:18:10.386Z"
   },
   {
    "duration": 5,
    "start_time": "2022-01-17T16:18:10.399Z"
   },
   {
    "duration": 16,
    "start_time": "2022-01-17T16:18:10.406Z"
   },
   {
    "duration": 2169,
    "start_time": "2022-01-17T16:18:10.423Z"
   },
   {
    "duration": 10,
    "start_time": "2022-01-17T16:18:12.594Z"
   },
   {
    "duration": 409,
    "start_time": "2022-01-17T16:18:12.605Z"
   },
   {
    "duration": 11,
    "start_time": "2022-01-17T16:18:13.015Z"
   },
   {
    "duration": 333,
    "start_time": "2022-01-17T16:18:13.028Z"
   },
   {
    "duration": 346,
    "start_time": "2022-01-17T16:18:13.363Z"
   },
   {
    "duration": 1069,
    "start_time": "2022-01-17T16:18:13.711Z"
   },
   {
    "duration": 325,
    "start_time": "2022-01-17T16:18:14.781Z"
   },
   {
    "duration": 1204,
    "start_time": "2022-01-17T16:18:15.108Z"
   },
   {
    "duration": 258,
    "start_time": "2022-01-17T16:18:16.314Z"
   },
   {
    "duration": 438,
    "start_time": "2022-01-17T16:18:16.574Z"
   },
   {
    "duration": 16,
    "start_time": "2022-01-17T16:18:17.014Z"
   },
   {
    "duration": 16,
    "start_time": "2022-01-17T16:18:17.043Z"
   },
   {
    "duration": 1751,
    "start_time": "2022-01-17T16:18:17.060Z"
   },
   {
    "duration": 292,
    "start_time": "2022-01-17T16:18:18.812Z"
   },
   {
    "duration": 235,
    "start_time": "2022-01-17T16:18:19.106Z"
   },
   {
    "duration": 225,
    "start_time": "2022-01-17T16:18:19.342Z"
   },
   {
    "duration": 235,
    "start_time": "2022-01-17T16:18:19.569Z"
   },
   {
    "duration": 282,
    "start_time": "2022-01-17T16:18:19.806Z"
   },
   {
    "duration": 333,
    "start_time": "2022-01-17T16:18:20.090Z"
   },
   {
    "duration": 293,
    "start_time": "2022-01-17T16:18:20.132Z"
   },
   {
    "duration": 287,
    "start_time": "2022-01-17T16:18:20.140Z"
   },
   {
    "duration": 281,
    "start_time": "2022-01-17T16:18:20.147Z"
   },
   {
    "duration": 275,
    "start_time": "2022-01-17T16:18:20.154Z"
   },
   {
    "duration": 269,
    "start_time": "2022-01-17T16:18:20.162Z"
   },
   {
    "duration": 264,
    "start_time": "2022-01-17T16:18:20.168Z"
   },
   {
    "duration": 204,
    "start_time": "2022-01-17T16:24:02.322Z"
   },
   {
    "duration": 189,
    "start_time": "2022-01-17T16:28:10.962Z"
   },
   {
    "duration": 27,
    "start_time": "2022-01-17T16:33:37.336Z"
   },
   {
    "duration": 64,
    "start_time": "2022-01-17T16:35:27.009Z"
   },
   {
    "duration": 61,
    "start_time": "2022-01-17T16:36:43.596Z"
   },
   {
    "duration": 206,
    "start_time": "2022-01-17T16:37:04.344Z"
   },
   {
    "duration": 30,
    "start_time": "2022-01-17T16:41:39.068Z"
   },
   {
    "duration": 30,
    "start_time": "2022-01-17T16:42:23.420Z"
   },
   {
    "duration": 295,
    "start_time": "2022-01-17T16:43:03.624Z"
   },
   {
    "duration": 27,
    "start_time": "2022-01-17T16:43:16.796Z"
   },
   {
    "duration": 30,
    "start_time": "2022-01-17T17:00:03.684Z"
   },
   {
    "duration": 223,
    "start_time": "2022-01-17T17:01:30.778Z"
   },
   {
    "duration": 419,
    "start_time": "2022-01-17T17:02:20.510Z"
   },
   {
    "duration": 31,
    "start_time": "2022-01-17T17:03:45.726Z"
   },
   {
    "duration": 30,
    "start_time": "2022-01-17T17:06:15.958Z"
   },
   {
    "duration": 25,
    "start_time": "2022-01-17T17:08:04.813Z"
   },
   {
    "duration": 21,
    "start_time": "2022-01-17T17:08:47.901Z"
   },
   {
    "duration": 23,
    "start_time": "2022-01-17T17:12:34.781Z"
   },
   {
    "duration": 28,
    "start_time": "2022-01-17T17:12:52.660Z"
   },
   {
    "duration": 28,
    "start_time": "2022-01-17T17:14:58.872Z"
   },
   {
    "duration": 27,
    "start_time": "2022-01-17T17:15:11.216Z"
   },
   {
    "duration": 35,
    "start_time": "2022-01-17T17:19:37.365Z"
   },
   {
    "duration": 268,
    "start_time": "2022-01-17T17:20:00.948Z"
   },
   {
    "duration": 264,
    "start_time": "2022-01-17T17:21:03.428Z"
   },
   {
    "duration": 327,
    "start_time": "2022-01-17T17:21:07.900Z"
   },
   {
    "duration": 189,
    "start_time": "2022-01-17T17:29:29.511Z"
   },
   {
    "duration": 111,
    "start_time": "2022-01-17T17:29:42.439Z"
   },
   {
    "duration": 31,
    "start_time": "2022-01-17T17:30:15.075Z"
   },
   {
    "duration": 32,
    "start_time": "2022-01-17T17:30:31.539Z"
   },
   {
    "duration": 34,
    "start_time": "2022-01-17T17:30:37.615Z"
   },
   {
    "duration": 35,
    "start_time": "2022-01-17T17:31:25.207Z"
   },
   {
    "duration": 33,
    "start_time": "2022-01-17T17:32:18.103Z"
   },
   {
    "duration": 30,
    "start_time": "2022-01-17T17:32:45.283Z"
   },
   {
    "duration": 33,
    "start_time": "2022-01-17T17:33:15.627Z"
   },
   {
    "duration": 34,
    "start_time": "2022-01-17T17:33:32.395Z"
   },
   {
    "duration": 31,
    "start_time": "2022-01-17T17:33:52.471Z"
   },
   {
    "duration": 29,
    "start_time": "2022-01-17T17:46:24.957Z"
   },
   {
    "duration": 18,
    "start_time": "2022-01-17T17:56:46.544Z"
   },
   {
    "duration": 16,
    "start_time": "2022-01-17T17:58:14.509Z"
   },
   {
    "duration": 310,
    "start_time": "2022-01-17T17:58:34.172Z"
   },
   {
    "duration": 11,
    "start_time": "2022-01-17T17:59:42.548Z"
   },
   {
    "duration": 322,
    "start_time": "2022-01-17T17:59:47.417Z"
   },
   {
    "duration": 1117,
    "start_time": "2022-01-17T18:05:00.810Z"
   },
   {
    "duration": 9,
    "start_time": "2022-01-17T18:05:01.929Z"
   },
   {
    "duration": 4,
    "start_time": "2022-01-17T18:05:01.943Z"
   },
   {
    "duration": 5,
    "start_time": "2022-01-17T18:05:01.949Z"
   },
   {
    "duration": 7,
    "start_time": "2022-01-17T18:05:01.956Z"
   },
   {
    "duration": 25,
    "start_time": "2022-01-17T18:05:01.965Z"
   },
   {
    "duration": 8,
    "start_time": "2022-01-17T18:05:01.992Z"
   },
   {
    "duration": 15,
    "start_time": "2022-01-17T18:05:02.002Z"
   },
   {
    "duration": 12,
    "start_time": "2022-01-17T18:05:02.018Z"
   },
   {
    "duration": 21,
    "start_time": "2022-01-17T18:05:02.032Z"
   },
   {
    "duration": 2289,
    "start_time": "2022-01-17T18:05:02.055Z"
   },
   {
    "duration": 10,
    "start_time": "2022-01-17T18:05:04.345Z"
   },
   {
    "duration": 422,
    "start_time": "2022-01-17T18:05:04.356Z"
   },
   {
    "duration": 12,
    "start_time": "2022-01-17T18:05:04.780Z"
   },
   {
    "duration": 365,
    "start_time": "2022-01-17T18:05:04.794Z"
   },
   {
    "duration": 382,
    "start_time": "2022-01-17T18:05:05.160Z"
   },
   {
    "duration": 1111,
    "start_time": "2022-01-17T18:05:05.544Z"
   },
   {
    "duration": 335,
    "start_time": "2022-01-17T18:05:06.657Z"
   },
   {
    "duration": 1299,
    "start_time": "2022-01-17T18:05:06.994Z"
   },
   {
    "duration": 277,
    "start_time": "2022-01-17T18:05:08.295Z"
   },
   {
    "duration": 456,
    "start_time": "2022-01-17T18:05:08.573Z"
   },
   {
    "duration": 21,
    "start_time": "2022-01-17T18:05:09.032Z"
   },
   {
    "duration": 22,
    "start_time": "2022-01-17T18:05:09.054Z"
   },
   {
    "duration": 1643,
    "start_time": "2022-01-17T18:05:09.077Z"
   },
   {
    "duration": 289,
    "start_time": "2022-01-17T18:05:10.721Z"
   },
   {
    "duration": 33,
    "start_time": "2022-01-17T18:05:11.012Z"
   },
   {
    "duration": 36,
    "start_time": "2022-01-17T18:05:11.046Z"
   },
   {
    "duration": 267,
    "start_time": "2022-01-17T18:05:11.084Z"
   },
   {
    "duration": 108,
    "start_time": "2022-01-17T18:05:11.245Z"
   },
   {
    "duration": 104,
    "start_time": "2022-01-17T18:05:11.250Z"
   },
   {
    "duration": 101,
    "start_time": "2022-01-17T18:05:11.254Z"
   },
   {
    "duration": 178,
    "start_time": "2022-01-17T18:05:36.417Z"
   },
   {
    "duration": 213,
    "start_time": "2022-01-17T18:05:50.182Z"
   },
   {
    "duration": 20,
    "start_time": "2022-01-17T18:06:17.578Z"
   },
   {
    "duration": 1041,
    "start_time": "2022-01-17T18:10:05.896Z"
   },
   {
    "duration": 8,
    "start_time": "2022-01-17T18:10:06.939Z"
   },
   {
    "duration": 13,
    "start_time": "2022-01-17T18:10:06.948Z"
   },
   {
    "duration": 10,
    "start_time": "2022-01-17T18:10:06.963Z"
   },
   {
    "duration": 13,
    "start_time": "2022-01-17T18:10:06.974Z"
   },
   {
    "duration": 27,
    "start_time": "2022-01-17T18:10:06.989Z"
   },
   {
    "duration": 11,
    "start_time": "2022-01-17T18:10:07.018Z"
   },
   {
    "duration": 21,
    "start_time": "2022-01-17T18:10:07.031Z"
   },
   {
    "duration": 20,
    "start_time": "2022-01-17T18:10:07.054Z"
   },
   {
    "duration": 19,
    "start_time": "2022-01-17T18:10:07.075Z"
   },
   {
    "duration": 2289,
    "start_time": "2022-01-17T18:10:07.096Z"
   },
   {
    "duration": 11,
    "start_time": "2022-01-17T18:10:09.387Z"
   },
   {
    "duration": 443,
    "start_time": "2022-01-17T18:10:09.400Z"
   },
   {
    "duration": 13,
    "start_time": "2022-01-17T18:10:09.845Z"
   },
   {
    "duration": 374,
    "start_time": "2022-01-17T18:10:09.859Z"
   },
   {
    "duration": 376,
    "start_time": "2022-01-17T18:10:10.235Z"
   },
   {
    "duration": 1150,
    "start_time": "2022-01-17T18:10:10.613Z"
   },
   {
    "duration": 358,
    "start_time": "2022-01-17T18:10:11.765Z"
   },
   {
    "duration": 1195,
    "start_time": "2022-01-17T18:10:12.125Z"
   },
   {
    "duration": 273,
    "start_time": "2022-01-17T18:10:13.322Z"
   },
   {
    "duration": 457,
    "start_time": "2022-01-17T18:10:13.597Z"
   },
   {
    "duration": 19,
    "start_time": "2022-01-17T18:10:14.056Z"
   },
   {
    "duration": 29,
    "start_time": "2022-01-17T18:10:14.078Z"
   },
   {
    "duration": 1822,
    "start_time": "2022-01-17T18:10:14.109Z"
   },
   {
    "duration": 295,
    "start_time": "2022-01-17T18:10:15.941Z"
   },
   {
    "duration": 33,
    "start_time": "2022-01-17T18:10:16.241Z"
   },
   {
    "duration": 52,
    "start_time": "2022-01-17T18:10:16.276Z"
   },
   {
    "duration": 255,
    "start_time": "2022-01-17T18:10:16.330Z"
   },
   {
    "duration": 19,
    "start_time": "2022-01-17T18:10:16.587Z"
   },
   {
    "duration": 22,
    "start_time": "2022-01-17T18:10:16.607Z"
   },
   {
    "duration": 8,
    "start_time": "2022-01-17T18:10:16.641Z"
   },
   {
    "duration": 292,
    "start_time": "2022-01-17T18:12:41.036Z"
   },
   {
    "duration": 228,
    "start_time": "2022-01-17T18:12:53.776Z"
   },
   {
    "duration": 194,
    "start_time": "2022-01-17T18:15:07.420Z"
   },
   {
    "duration": 16,
    "start_time": "2022-01-17T18:16:17.896Z"
   },
   {
    "duration": 21,
    "start_time": "2022-01-17T18:16:41.184Z"
   },
   {
    "duration": 20,
    "start_time": "2022-01-17T18:16:55.091Z"
   },
   {
    "duration": 21,
    "start_time": "2022-01-17T18:25:03.238Z"
   },
   {
    "duration": 22,
    "start_time": "2022-01-17T18:25:34.202Z"
   },
   {
    "duration": 22,
    "start_time": "2022-01-17T18:25:41.362Z"
   },
   {
    "duration": 21,
    "start_time": "2022-01-17T18:27:39.110Z"
   },
   {
    "duration": 6,
    "start_time": "2022-01-17T18:57:22.718Z"
   },
   {
    "duration": 10,
    "start_time": "2022-01-17T19:02:24.014Z"
   },
   {
    "duration": 1132,
    "start_time": "2022-01-17T19:02:31.727Z"
   },
   {
    "duration": 7,
    "start_time": "2022-01-17T19:02:32.861Z"
   },
   {
    "duration": 13,
    "start_time": "2022-01-17T19:02:32.870Z"
   },
   {
    "duration": 20,
    "start_time": "2022-01-17T19:02:32.885Z"
   },
   {
    "duration": 22,
    "start_time": "2022-01-17T19:02:32.907Z"
   },
   {
    "duration": 8,
    "start_time": "2022-01-17T19:02:32.931Z"
   },
   {
    "duration": 9,
    "start_time": "2022-01-17T19:02:32.941Z"
   },
   {
    "duration": 7,
    "start_time": "2022-01-17T19:02:32.953Z"
   },
   {
    "duration": 18,
    "start_time": "2022-01-17T19:02:32.963Z"
   },
   {
    "duration": 6,
    "start_time": "2022-01-17T19:02:32.983Z"
   },
   {
    "duration": 2377,
    "start_time": "2022-01-17T19:02:32.990Z"
   },
   {
    "duration": 12,
    "start_time": "2022-01-17T19:02:35.369Z"
   },
   {
    "duration": 452,
    "start_time": "2022-01-17T19:02:35.382Z"
   },
   {
    "duration": 17,
    "start_time": "2022-01-17T19:02:35.836Z"
   },
   {
    "duration": 363,
    "start_time": "2022-01-17T19:02:35.855Z"
   },
   {
    "duration": 372,
    "start_time": "2022-01-17T19:02:36.220Z"
   },
   {
    "duration": 1126,
    "start_time": "2022-01-17T19:02:36.594Z"
   },
   {
    "duration": 358,
    "start_time": "2022-01-17T19:02:37.722Z"
   },
   {
    "duration": 1188,
    "start_time": "2022-01-17T19:02:38.082Z"
   },
   {
    "duration": 262,
    "start_time": "2022-01-17T19:02:39.272Z"
   },
   {
    "duration": 446,
    "start_time": "2022-01-17T19:02:39.536Z"
   },
   {
    "duration": 17,
    "start_time": "2022-01-17T19:02:39.983Z"
   },
   {
    "duration": 25,
    "start_time": "2022-01-17T19:02:40.003Z"
   },
   {
    "duration": 1856,
    "start_time": "2022-01-17T19:02:40.041Z"
   },
   {
    "duration": 306,
    "start_time": "2022-01-17T19:02:41.899Z"
   },
   {
    "duration": 41,
    "start_time": "2022-01-17T19:02:42.206Z"
   },
   {
    "duration": 30,
    "start_time": "2022-01-17T19:02:42.249Z"
   },
   {
    "duration": 20,
    "start_time": "2022-01-17T19:02:42.281Z"
   },
   {
    "duration": 50,
    "start_time": "2022-01-17T19:02:42.303Z"
   },
   {
    "duration": 18,
    "start_time": "2022-01-17T19:02:42.355Z"
   },
   {
    "duration": 12,
    "start_time": "2022-01-17T19:02:42.374Z"
   },
   {
    "duration": 6,
    "start_time": "2022-01-17T19:02:42.387Z"
   },
   {
    "duration": 64,
    "start_time": "2022-01-17T19:14:59.410Z"
   },
   {
    "duration": 15,
    "start_time": "2022-01-17T19:15:04.974Z"
   },
   {
    "duration": 404,
    "start_time": "2022-01-17T19:25:44.573Z"
   },
   {
    "duration": 450,
    "start_time": "2022-01-17T19:32:05.061Z"
   },
   {
    "duration": 435,
    "start_time": "2022-01-17T19:33:32.557Z"
   },
   {
    "duration": 371,
    "start_time": "2022-01-17T19:46:21.512Z"
   },
   {
    "duration": 441,
    "start_time": "2022-01-17T19:48:21.460Z"
   },
   {
    "duration": 430,
    "start_time": "2022-01-17T19:48:43.279Z"
   },
   {
    "duration": 1106,
    "start_time": "2022-01-17T20:01:42.542Z"
   },
   {
    "duration": 1121,
    "start_time": "2022-01-17T20:02:13.982Z"
   },
   {
    "duration": 386,
    "start_time": "2022-01-17T20:15:08.564Z"
   },
   {
    "duration": 456,
    "start_time": "2022-01-17T20:17:29.460Z"
   },
   {
    "duration": 67,
    "start_time": "2022-01-17T20:22:14.477Z"
   },
   {
    "duration": 1358,
    "start_time": "2022-01-17T20:22:24.152Z"
   },
   {
    "duration": 1219,
    "start_time": "2022-01-17T20:22:44.604Z"
   },
   {
    "duration": 1402,
    "start_time": "2022-01-17T20:23:01.596Z"
   },
   {
    "duration": 10,
    "start_time": "2022-01-17T20:27:22.624Z"
   },
   {
    "duration": 13,
    "start_time": "2022-01-17T20:27:25.976Z"
   },
   {
    "duration": 9,
    "start_time": "2022-01-17T20:27:27.048Z"
   },
   {
    "duration": 14,
    "start_time": "2022-01-17T20:27:28.036Z"
   },
   {
    "duration": 2095,
    "start_time": "2022-01-17T20:43:22.487Z"
   },
   {
    "duration": 2771,
    "start_time": "2022-01-17T20:44:56.191Z"
   },
   {
    "duration": 1383,
    "start_time": "2022-01-17T20:54:26.345Z"
   },
   {
    "duration": 1344,
    "start_time": "2022-01-17T20:55:08.949Z"
   },
   {
    "duration": 2186,
    "start_time": "2022-01-17T20:56:22.492Z"
   },
   {
    "duration": 276,
    "start_time": "2022-01-17T21:08:53.516Z"
   },
   {
    "duration": 6,
    "start_time": "2022-01-17T21:51:03.380Z"
   },
   {
    "duration": 17,
    "start_time": "2022-01-17T21:53:39.440Z"
   },
   {
    "duration": 278,
    "start_time": "2022-01-17T22:40:26.967Z"
   },
   {
    "duration": 8,
    "start_time": "2022-01-17T22:40:51.488Z"
   },
   {
    "duration": 13,
    "start_time": "2022-01-17T22:40:52.624Z"
   },
   {
    "duration": 9,
    "start_time": "2022-01-17T22:40:53.488Z"
   },
   {
    "duration": 12,
    "start_time": "2022-01-17T22:41:06.544Z"
   },
   {
    "duration": 11,
    "start_time": "2022-01-17T22:41:21.152Z"
   },
   {
    "duration": 1054,
    "start_time": "2022-01-17T23:12:13.322Z"
   },
   {
    "duration": 6,
    "start_time": "2022-01-17T23:12:14.378Z"
   },
   {
    "duration": 20,
    "start_time": "2022-01-17T23:12:14.386Z"
   },
   {
    "duration": 21,
    "start_time": "2022-01-17T23:12:14.408Z"
   },
   {
    "duration": 26,
    "start_time": "2022-01-17T23:12:14.431Z"
   },
   {
    "duration": 23,
    "start_time": "2022-01-17T23:12:14.459Z"
   },
   {
    "duration": 34,
    "start_time": "2022-01-17T23:12:14.483Z"
   },
   {
    "duration": 18,
    "start_time": "2022-01-17T23:12:14.519Z"
   },
   {
    "duration": 37,
    "start_time": "2022-01-17T23:12:14.539Z"
   },
   {
    "duration": 4,
    "start_time": "2022-01-17T23:12:14.577Z"
   },
   {
    "duration": 2147,
    "start_time": "2022-01-17T23:12:14.583Z"
   },
   {
    "duration": 18,
    "start_time": "2022-01-17T23:12:16.732Z"
   },
   {
    "duration": 10,
    "start_time": "2022-01-17T23:12:16.751Z"
   },
   {
    "duration": 424,
    "start_time": "2022-01-17T23:12:16.763Z"
   },
   {
    "duration": 13,
    "start_time": "2022-01-17T23:12:17.189Z"
   },
   {
    "duration": 463,
    "start_time": "2022-01-17T23:12:17.204Z"
   },
   {
    "duration": 474,
    "start_time": "2022-01-17T23:12:17.669Z"
   },
   {
    "duration": 1148,
    "start_time": "2022-01-17T23:12:18.145Z"
   },
   {
    "duration": 362,
    "start_time": "2022-01-17T23:12:19.295Z"
   },
   {
    "duration": 1245,
    "start_time": "2022-01-17T23:12:19.659Z"
   },
   {
    "duration": 272,
    "start_time": "2022-01-17T23:12:20.906Z"
   },
   {
    "duration": 9,
    "start_time": "2022-01-17T23:12:21.179Z"
   },
   {
    "duration": 12,
    "start_time": "2022-01-17T23:12:21.190Z"
   },
   {
    "duration": 10,
    "start_time": "2022-01-17T23:12:21.203Z"
   },
   {
    "duration": 36,
    "start_time": "2022-01-17T23:12:21.214Z"
   },
   {
    "duration": 1658,
    "start_time": "2022-01-17T23:12:21.251Z"
   },
   {
    "duration": 381,
    "start_time": "2022-01-17T23:12:22.910Z"
   },
   {
    "duration": 30,
    "start_time": "2022-01-17T23:12:23.292Z"
   },
   {
    "duration": 40,
    "start_time": "2022-01-17T23:12:23.324Z"
   },
   {
    "duration": 19,
    "start_time": "2022-01-17T23:12:23.366Z"
   },
   {
    "duration": 18,
    "start_time": "2022-01-17T23:12:23.386Z"
   },
   {
    "duration": 52,
    "start_time": "2022-01-17T23:12:23.405Z"
   },
   {
    "duration": 274,
    "start_time": "2022-01-17T23:12:23.459Z"
   },
   {
    "duration": -448,
    "start_time": "2022-01-17T23:12:24.183Z"
   },
   {
    "duration": 14,
    "start_time": "2022-01-17T23:13:00.818Z"
   },
   {
    "duration": 1083,
    "start_time": "2022-01-17T23:14:28.358Z"
   },
   {
    "duration": 6,
    "start_time": "2022-01-17T23:14:29.443Z"
   },
   {
    "duration": 4,
    "start_time": "2022-01-17T23:14:29.452Z"
   },
   {
    "duration": 10,
    "start_time": "2022-01-17T23:14:29.458Z"
   },
   {
    "duration": 19,
    "start_time": "2022-01-17T23:14:29.469Z"
   },
   {
    "duration": 7,
    "start_time": "2022-01-17T23:14:29.490Z"
   },
   {
    "duration": 11,
    "start_time": "2022-01-17T23:14:29.499Z"
   },
   {
    "duration": 10,
    "start_time": "2022-01-17T23:14:29.512Z"
   },
   {
    "duration": 29,
    "start_time": "2022-01-17T23:14:29.524Z"
   },
   {
    "duration": 4,
    "start_time": "2022-01-17T23:14:29.555Z"
   },
   {
    "duration": 2380,
    "start_time": "2022-01-17T23:14:29.561Z"
   },
   {
    "duration": 14,
    "start_time": "2022-01-17T23:14:31.943Z"
   },
   {
    "duration": 19,
    "start_time": "2022-01-17T23:14:31.958Z"
   },
   {
    "duration": 430,
    "start_time": "2022-01-17T23:14:31.978Z"
   },
   {
    "duration": 13,
    "start_time": "2022-01-17T23:14:32.410Z"
   },
   {
    "duration": 395,
    "start_time": "2022-01-17T23:14:32.425Z"
   },
   {
    "duration": 390,
    "start_time": "2022-01-17T23:14:32.822Z"
   },
   {
    "duration": 1240,
    "start_time": "2022-01-17T23:14:33.214Z"
   },
   {
    "duration": 354,
    "start_time": "2022-01-17T23:14:34.456Z"
   },
   {
    "duration": 1223,
    "start_time": "2022-01-17T23:14:34.812Z"
   },
   {
    "duration": 267,
    "start_time": "2022-01-17T23:14:36.036Z"
   },
   {
    "duration": 9,
    "start_time": "2022-01-17T23:14:36.306Z"
   },
   {
    "duration": 25,
    "start_time": "2022-01-17T23:14:36.319Z"
   },
   {
    "duration": 8,
    "start_time": "2022-01-17T23:14:36.346Z"
   },
   {
    "duration": 12,
    "start_time": "2022-01-17T23:14:36.356Z"
   },
   {
    "duration": 1672,
    "start_time": "2022-01-17T23:14:36.370Z"
   },
   {
    "duration": 378,
    "start_time": "2022-01-17T23:14:38.043Z"
   },
   {
    "duration": 38,
    "start_time": "2022-01-17T23:14:38.422Z"
   },
   {
    "duration": 28,
    "start_time": "2022-01-17T23:14:38.462Z"
   },
   {
    "duration": 18,
    "start_time": "2022-01-17T23:14:38.491Z"
   },
   {
    "duration": 48,
    "start_time": "2022-01-17T23:14:38.511Z"
   },
   {
    "duration": 20,
    "start_time": "2022-01-17T23:14:38.561Z"
   },
   {
    "duration": 11,
    "start_time": "2022-01-17T23:14:38.583Z"
   },
   {
    "duration": 8,
    "start_time": "2022-01-17T23:14:38.595Z"
   },
   {
    "duration": 1027,
    "start_time": "2022-01-17T23:16:06.702Z"
   },
   {
    "duration": 6,
    "start_time": "2022-01-17T23:16:07.731Z"
   },
   {
    "duration": 5,
    "start_time": "2022-01-17T23:16:07.739Z"
   },
   {
    "duration": 4,
    "start_time": "2022-01-17T23:16:07.745Z"
   },
   {
    "duration": 17,
    "start_time": "2022-01-17T23:16:07.751Z"
   },
   {
    "duration": 7,
    "start_time": "2022-01-17T23:16:07.769Z"
   },
   {
    "duration": 6,
    "start_time": "2022-01-17T23:16:07.777Z"
   },
   {
    "duration": 5,
    "start_time": "2022-01-17T23:16:07.785Z"
   },
   {
    "duration": 16,
    "start_time": "2022-01-17T23:16:07.792Z"
   },
   {
    "duration": 4,
    "start_time": "2022-01-17T23:16:07.810Z"
   },
   {
    "duration": 2283,
    "start_time": "2022-01-17T23:16:07.841Z"
   },
   {
    "duration": 17,
    "start_time": "2022-01-17T23:16:10.126Z"
   },
   {
    "duration": 9,
    "start_time": "2022-01-17T23:16:10.145Z"
   },
   {
    "duration": 430,
    "start_time": "2022-01-17T23:16:10.155Z"
   },
   {
    "duration": 14,
    "start_time": "2022-01-17T23:16:10.586Z"
   },
   {
    "duration": 373,
    "start_time": "2022-01-17T23:16:10.602Z"
   },
   {
    "duration": 368,
    "start_time": "2022-01-17T23:16:10.976Z"
   },
   {
    "duration": 1144,
    "start_time": "2022-01-17T23:16:11.346Z"
   },
   {
    "duration": 347,
    "start_time": "2022-01-17T23:16:12.491Z"
   },
   {
    "duration": 1218,
    "start_time": "2022-01-17T23:16:12.841Z"
   },
   {
    "duration": 260,
    "start_time": "2022-01-17T23:16:14.061Z"
   },
   {
    "duration": 21,
    "start_time": "2022-01-17T23:16:14.323Z"
   },
   {
    "duration": 26,
    "start_time": "2022-01-17T23:16:14.346Z"
   },
   {
    "duration": 30,
    "start_time": "2022-01-17T23:16:14.374Z"
   },
   {
    "duration": 22,
    "start_time": "2022-01-17T23:16:14.406Z"
   },
   {
    "duration": 1616,
    "start_time": "2022-01-17T23:16:14.430Z"
   },
   {
    "duration": 378,
    "start_time": "2022-01-17T23:16:16.048Z"
   },
   {
    "duration": 39,
    "start_time": "2022-01-17T23:16:16.428Z"
   },
   {
    "duration": 31,
    "start_time": "2022-01-17T23:16:16.469Z"
   },
   {
    "duration": 44,
    "start_time": "2022-01-17T23:16:16.502Z"
   },
   {
    "duration": 20,
    "start_time": "2022-01-17T23:16:16.548Z"
   },
   {
    "duration": 18,
    "start_time": "2022-01-17T23:16:16.569Z"
   },
   {
    "duration": 11,
    "start_time": "2022-01-17T23:16:16.588Z"
   },
   {
    "duration": 8,
    "start_time": "2022-01-17T23:16:16.601Z"
   },
   {
    "duration": 1470,
    "start_time": "2022-01-21T07:53:53.933Z"
   },
   {
    "duration": 9,
    "start_time": "2022-01-21T07:53:56.110Z"
   },
   {
    "duration": 7,
    "start_time": "2022-01-21T07:53:56.538Z"
   },
   {
    "duration": 7,
    "start_time": "2022-01-21T07:53:57.322Z"
   },
   {
    "duration": 21,
    "start_time": "2022-01-21T07:53:57.659Z"
   },
   {
    "duration": 11,
    "start_time": "2022-01-21T07:53:58.026Z"
   },
   {
    "duration": 8,
    "start_time": "2022-01-21T07:53:58.317Z"
   },
   {
    "duration": 7,
    "start_time": "2022-01-21T07:53:58.666Z"
   },
   {
    "duration": 22,
    "start_time": "2022-01-21T07:53:59.050Z"
   },
   {
    "duration": 6,
    "start_time": "2022-01-21T07:53:59.626Z"
   },
   {
    "duration": 4253,
    "start_time": "2022-01-21T07:53:59.891Z"
   },
   {
    "duration": 605,
    "start_time": "2022-01-21T08:00:27.120Z"
   },
   {
    "duration": 6,
    "start_time": "2022-01-21T08:00:38.142Z"
   },
   {
    "duration": 378,
    "start_time": "2022-01-21T08:02:21.080Z"
   },
   {
    "duration": 361,
    "start_time": "2022-01-21T08:02:30.545Z"
   },
   {
    "duration": 6,
    "start_time": "2022-01-21T08:02:39.984Z"
   },
   {
    "duration": 7,
    "start_time": "2022-01-21T08:03:18.012Z"
   },
   {
    "duration": 7,
    "start_time": "2022-01-21T08:03:35.584Z"
   },
   {
    "duration": 1068,
    "start_time": "2022-01-21T08:33:04.607Z"
   },
   {
    "duration": 6,
    "start_time": "2022-01-21T08:33:05.677Z"
   },
   {
    "duration": 5,
    "start_time": "2022-01-21T08:33:05.687Z"
   },
   {
    "duration": 5,
    "start_time": "2022-01-21T08:33:05.693Z"
   },
   {
    "duration": 17,
    "start_time": "2022-01-21T08:33:05.700Z"
   },
   {
    "duration": 7,
    "start_time": "2022-01-21T08:33:05.719Z"
   },
   {
    "duration": 8,
    "start_time": "2022-01-21T08:33:05.728Z"
   },
   {
    "duration": 8,
    "start_time": "2022-01-21T08:33:05.738Z"
   },
   {
    "duration": 13,
    "start_time": "2022-01-21T08:33:05.772Z"
   },
   {
    "duration": 4,
    "start_time": "2022-01-21T08:33:05.787Z"
   },
   {
    "duration": 2365,
    "start_time": "2022-01-21T08:33:05.792Z"
   },
   {
    "duration": 4,
    "start_time": "2022-01-21T08:33:08.158Z"
   },
   {
    "duration": 14,
    "start_time": "2022-01-21T08:33:08.172Z"
   },
   {
    "duration": 10,
    "start_time": "2022-01-21T08:33:08.187Z"
   },
   {
    "duration": 423,
    "start_time": "2022-01-21T08:33:08.198Z"
   },
   {
    "duration": 10,
    "start_time": "2022-01-21T08:33:08.623Z"
   },
   {
    "duration": 367,
    "start_time": "2022-01-21T08:33:08.635Z"
   },
   {
    "duration": 380,
    "start_time": "2022-01-21T08:33:09.004Z"
   },
   {
    "duration": 1169,
    "start_time": "2022-01-21T08:33:09.386Z"
   },
   {
    "duration": 340,
    "start_time": "2022-01-21T08:33:10.557Z"
   },
   {
    "duration": 1275,
    "start_time": "2022-01-21T08:33:10.899Z"
   },
   {
    "duration": 268,
    "start_time": "2022-01-21T08:33:12.178Z"
   },
   {
    "duration": 9,
    "start_time": "2022-01-21T08:33:12.447Z"
   },
   {
    "duration": 22,
    "start_time": "2022-01-21T08:33:12.457Z"
   },
   {
    "duration": 7,
    "start_time": "2022-01-21T08:33:12.481Z"
   },
   {
    "duration": 13,
    "start_time": "2022-01-21T08:33:12.490Z"
   },
   {
    "duration": 2039,
    "start_time": "2022-01-21T08:33:12.504Z"
   },
   {
    "duration": 395,
    "start_time": "2022-01-21T08:33:14.545Z"
   },
   {
    "duration": 42,
    "start_time": "2022-01-21T08:33:14.942Z"
   },
   {
    "duration": 42,
    "start_time": "2022-01-21T08:33:14.986Z"
   },
   {
    "duration": 59,
    "start_time": "2022-01-21T08:33:15.030Z"
   },
   {
    "duration": 26,
    "start_time": "2022-01-21T08:33:15.092Z"
   },
   {
    "duration": 20,
    "start_time": "2022-01-21T08:33:15.119Z"
   },
   {
    "duration": 32,
    "start_time": "2022-01-21T08:33:15.141Z"
   },
   {
    "duration": 8,
    "start_time": "2022-01-21T08:33:15.176Z"
   },
   {
    "duration": 415,
    "start_time": "2022-01-21T08:42:04.839Z"
   },
   {
    "duration": 263,
    "start_time": "2022-01-21T08:42:14.966Z"
   },
   {
    "duration": 1036,
    "start_time": "2022-01-21T08:43:08.794Z"
   },
   {
    "duration": 252,
    "start_time": "2022-01-21T08:43:26.594Z"
   },
   {
    "duration": 261,
    "start_time": "2022-01-21T08:43:34.114Z"
   },
   {
    "duration": 254,
    "start_time": "2022-01-21T08:43:44.990Z"
   },
   {
    "duration": 11,
    "start_time": "2022-01-21T08:53:03.609Z"
   },
   {
    "duration": 549,
    "start_time": "2022-01-21T08:59:43.893Z"
   },
   {
    "duration": 469,
    "start_time": "2022-01-21T09:00:23.548Z"
   },
   {
    "duration": 282,
    "start_time": "2022-01-21T09:00:50.784Z"
   },
   {
    "duration": 87,
    "start_time": "2022-01-21T09:04:03.212Z"
   },
   {
    "duration": 100,
    "start_time": "2022-01-21T09:04:43.208Z"
   },
   {
    "duration": 97,
    "start_time": "2022-01-21T09:04:56.463Z"
   },
   {
    "duration": 255,
    "start_time": "2022-01-21T09:05:13.476Z"
   },
   {
    "duration": 254,
    "start_time": "2022-01-21T09:07:07.940Z"
   },
   {
    "duration": 1991,
    "start_time": "2022-01-21T09:07:29.868Z"
   },
   {
    "duration": 261,
    "start_time": "2022-01-21T09:08:20.060Z"
   },
   {
    "duration": 8,
    "start_time": "2022-01-21T09:08:45.464Z"
   },
   {
    "duration": 184,
    "start_time": "2022-01-21T09:09:21.484Z"
   },
   {
    "duration": 1219,
    "start_time": "2022-01-21T09:10:42.141Z"
   },
   {
    "duration": 5,
    "start_time": "2022-01-21T09:10:43.362Z"
   },
   {
    "duration": 5,
    "start_time": "2022-01-21T09:10:43.369Z"
   },
   {
    "duration": 4,
    "start_time": "2022-01-21T09:10:43.376Z"
   },
   {
    "duration": 15,
    "start_time": "2022-01-21T09:10:43.382Z"
   },
   {
    "duration": 8,
    "start_time": "2022-01-21T09:10:43.399Z"
   },
   {
    "duration": 5,
    "start_time": "2022-01-21T09:10:43.408Z"
   },
   {
    "duration": 6,
    "start_time": "2022-01-21T09:10:43.415Z"
   },
   {
    "duration": 18,
    "start_time": "2022-01-21T09:10:43.423Z"
   },
   {
    "duration": 5,
    "start_time": "2022-01-21T09:10:43.472Z"
   },
   {
    "duration": 2266,
    "start_time": "2022-01-21T09:10:43.478Z"
   },
   {
    "duration": 5,
    "start_time": "2022-01-21T09:10:45.745Z"
   },
   {
    "duration": 24,
    "start_time": "2022-01-21T09:10:45.751Z"
   },
   {
    "duration": 542,
    "start_time": "2022-01-21T09:10:45.776Z"
   },
   {
    "duration": 467,
    "start_time": "2022-01-21T09:10:45.854Z"
   },
   {
    "duration": 463,
    "start_time": "2022-01-21T09:10:45.859Z"
   },
   {
    "duration": 460,
    "start_time": "2022-01-21T09:10:45.863Z"
   },
   {
    "duration": 457,
    "start_time": "2022-01-21T09:10:45.867Z"
   },
   {
    "duration": 454,
    "start_time": "2022-01-21T09:10:45.871Z"
   },
   {
    "duration": 451,
    "start_time": "2022-01-21T09:10:45.875Z"
   },
   {
    "duration": 443,
    "start_time": "2022-01-21T09:10:45.884Z"
   },
   {
    "duration": 440,
    "start_time": "2022-01-21T09:10:45.888Z"
   },
   {
    "duration": 438,
    "start_time": "2022-01-21T09:10:45.891Z"
   },
   {
    "duration": 436,
    "start_time": "2022-01-21T09:10:45.894Z"
   },
   {
    "duration": 433,
    "start_time": "2022-01-21T09:10:45.898Z"
   },
   {
    "duration": 431,
    "start_time": "2022-01-21T09:10:45.901Z"
   },
   {
    "duration": 428,
    "start_time": "2022-01-21T09:10:45.905Z"
   },
   {
    "duration": 425,
    "start_time": "2022-01-21T09:10:45.909Z"
   },
   {
    "duration": 422,
    "start_time": "2022-01-21T09:10:45.913Z"
   },
   {
    "duration": 420,
    "start_time": "2022-01-21T09:10:45.916Z"
   },
   {
    "duration": 416,
    "start_time": "2022-01-21T09:10:45.920Z"
   },
   {
    "duration": 415,
    "start_time": "2022-01-21T09:10:45.923Z"
   },
   {
    "duration": 412,
    "start_time": "2022-01-21T09:10:45.926Z"
   },
   {
    "duration": 411,
    "start_time": "2022-01-21T09:10:45.929Z"
   },
   {
    "duration": 408,
    "start_time": "2022-01-21T09:10:45.933Z"
   },
   {
    "duration": 405,
    "start_time": "2022-01-21T09:10:45.936Z"
   },
   {
    "duration": 403,
    "start_time": "2022-01-21T09:10:45.939Z"
   },
   {
    "duration": 4,
    "start_time": "2022-01-21T09:11:32.193Z"
   },
   {
    "duration": 11,
    "start_time": "2022-01-21T09:11:34.673Z"
   },
   {
    "duration": 1251,
    "start_time": "2022-01-21T09:11:48.699Z"
   },
   {
    "duration": 6,
    "start_time": "2022-01-21T09:11:49.952Z"
   },
   {
    "duration": 5,
    "start_time": "2022-01-21T09:11:49.962Z"
   },
   {
    "duration": 5,
    "start_time": "2022-01-21T09:11:49.972Z"
   },
   {
    "duration": 15,
    "start_time": "2022-01-21T09:11:49.978Z"
   },
   {
    "duration": 8,
    "start_time": "2022-01-21T09:11:49.995Z"
   },
   {
    "duration": 6,
    "start_time": "2022-01-21T09:11:50.006Z"
   },
   {
    "duration": 5,
    "start_time": "2022-01-21T09:11:50.014Z"
   },
   {
    "duration": 52,
    "start_time": "2022-01-21T09:11:50.021Z"
   },
   {
    "duration": 6,
    "start_time": "2022-01-21T09:11:50.075Z"
   },
   {
    "duration": 2164,
    "start_time": "2022-01-21T09:11:50.083Z"
   },
   {
    "duration": 4,
    "start_time": "2022-01-21T09:11:52.249Z"
   },
   {
    "duration": 28,
    "start_time": "2022-01-21T09:11:52.254Z"
   },
   {
    "duration": 3,
    "start_time": "2022-01-21T09:11:52.284Z"
   },
   {
    "duration": 13,
    "start_time": "2022-01-21T09:11:52.288Z"
   },
   {
    "duration": 447,
    "start_time": "2022-01-21T09:11:52.302Z"
   },
   {
    "duration": 11,
    "start_time": "2022-01-21T09:11:52.751Z"
   },
   {
    "duration": 354,
    "start_time": "2022-01-21T09:11:52.763Z"
   },
   {
    "duration": 374,
    "start_time": "2022-01-21T09:11:53.119Z"
   },
   {
    "duration": 1291,
    "start_time": "2022-01-21T09:11:53.495Z"
   },
   {
    "duration": 351,
    "start_time": "2022-01-21T09:11:54.787Z"
   },
   {
    "duration": 1264,
    "start_time": "2022-01-21T09:11:55.142Z"
   },
   {
    "duration": 179,
    "start_time": "2022-01-21T09:11:56.408Z"
   },
   {
    "duration": 2,
    "start_time": "2022-01-21T09:11:56.588Z"
   },
   {
    "duration": 14,
    "start_time": "2022-01-21T09:11:56.592Z"
   },
   {
    "duration": 13,
    "start_time": "2022-01-21T09:11:56.607Z"
   },
   {
    "duration": 6,
    "start_time": "2022-01-21T09:11:56.622Z"
   },
   {
    "duration": 11,
    "start_time": "2022-01-21T09:11:56.630Z"
   },
   {
    "duration": 1697,
    "start_time": "2022-01-21T09:11:56.643Z"
   },
   {
    "duration": 369,
    "start_time": "2022-01-21T09:11:58.342Z"
   },
   {
    "duration": 29,
    "start_time": "2022-01-21T09:11:58.713Z"
   },
   {
    "duration": 47,
    "start_time": "2022-01-21T09:11:58.744Z"
   },
   {
    "duration": 20,
    "start_time": "2022-01-21T09:11:58.793Z"
   },
   {
    "duration": 19,
    "start_time": "2022-01-21T09:11:58.815Z"
   },
   {
    "duration": 52,
    "start_time": "2022-01-21T09:11:58.836Z"
   },
   {
    "duration": 13,
    "start_time": "2022-01-21T09:11:58.891Z"
   },
   {
    "duration": 6,
    "start_time": "2022-01-21T09:11:58.906Z"
   },
   {
    "duration": 14,
    "start_time": "2022-01-21T09:12:31.547Z"
   },
   {
    "duration": 323,
    "start_time": "2022-01-21T09:15:23.326Z"
   },
   {
    "duration": 275,
    "start_time": "2022-01-21T09:16:01.746Z"
   },
   {
    "duration": 1328,
    "start_time": "2022-01-22T08:20:16.876Z"
   },
   {
    "duration": 6,
    "start_time": "2022-01-22T08:20:18.206Z"
   },
   {
    "duration": 12,
    "start_time": "2022-01-22T08:20:18.214Z"
   },
   {
    "duration": 31,
    "start_time": "2022-01-22T08:20:18.228Z"
   },
   {
    "duration": 27,
    "start_time": "2022-01-22T08:20:18.261Z"
   },
   {
    "duration": 20,
    "start_time": "2022-01-22T08:20:18.290Z"
   },
   {
    "duration": 24,
    "start_time": "2022-01-22T08:20:18.312Z"
   },
   {
    "duration": 12,
    "start_time": "2022-01-22T08:20:18.338Z"
   },
   {
    "duration": 24,
    "start_time": "2022-01-22T08:20:18.352Z"
   },
   {
    "duration": 7,
    "start_time": "2022-01-22T08:20:18.378Z"
   },
   {
    "duration": 2276,
    "start_time": "2022-01-22T08:20:18.386Z"
   },
   {
    "duration": 5,
    "start_time": "2022-01-22T08:20:20.664Z"
   },
   {
    "duration": 41,
    "start_time": "2022-01-22T08:20:20.670Z"
   },
   {
    "duration": 3,
    "start_time": "2022-01-22T08:20:20.713Z"
   },
   {
    "duration": 32,
    "start_time": "2022-01-22T08:20:20.718Z"
   },
   {
    "duration": 487,
    "start_time": "2022-01-22T08:20:20.751Z"
   },
   {
    "duration": 12,
    "start_time": "2022-01-22T08:20:21.240Z"
   },
   {
    "duration": 421,
    "start_time": "2022-01-22T08:20:21.254Z"
   },
   {
    "duration": 439,
    "start_time": "2022-01-22T08:20:21.677Z"
   },
   {
    "duration": 1374,
    "start_time": "2022-01-22T08:20:22.118Z"
   },
   {
    "duration": 373,
    "start_time": "2022-01-22T08:20:23.498Z"
   },
   {
    "duration": 1431,
    "start_time": "2022-01-22T08:20:23.873Z"
   },
   {
    "duration": 3,
    "start_time": "2022-01-22T08:20:25.307Z"
   },
   {
    "duration": 5,
    "start_time": "2022-01-22T08:20:25.312Z"
   },
   {
    "duration": 15,
    "start_time": "2022-01-22T08:20:25.319Z"
   },
   {
    "duration": 16,
    "start_time": "2022-01-22T08:20:25.336Z"
   },
   {
    "duration": 10,
    "start_time": "2022-01-22T08:20:25.354Z"
   },
   {
    "duration": 36,
    "start_time": "2022-01-22T08:20:25.366Z"
   },
   {
    "duration": 1871,
    "start_time": "2022-01-22T08:20:25.404Z"
   },
   {
    "duration": 325,
    "start_time": "2022-01-22T08:20:27.277Z"
   },
   {
    "duration": 120,
    "start_time": "2022-01-22T08:20:27.603Z"
   },
   {
    "duration": 31,
    "start_time": "2022-01-22T08:20:27.725Z"
   },
   {
    "duration": 46,
    "start_time": "2022-01-22T08:20:27.758Z"
   },
   {
    "duration": 20,
    "start_time": "2022-01-22T08:20:27.805Z"
   },
   {
    "duration": 20,
    "start_time": "2022-01-22T08:20:27.827Z"
   },
   {
    "duration": 12,
    "start_time": "2022-01-22T08:20:27.848Z"
   },
   {
    "duration": 41,
    "start_time": "2022-01-22T08:20:27.861Z"
   },
   {
    "duration": 314,
    "start_time": "2022-01-22T08:23:02.667Z"
   },
   {
    "duration": 210,
    "start_time": "2022-01-22T08:24:28.447Z"
   },
   {
    "duration": 1081,
    "start_time": "2022-01-22T08:25:05.231Z"
   },
   {
    "duration": 7,
    "start_time": "2022-01-22T08:25:06.314Z"
   },
   {
    "duration": 4,
    "start_time": "2022-01-22T08:25:06.323Z"
   },
   {
    "duration": 5,
    "start_time": "2022-01-22T08:25:06.329Z"
   },
   {
    "duration": 19,
    "start_time": "2022-01-22T08:25:06.336Z"
   },
   {
    "duration": 12,
    "start_time": "2022-01-22T08:25:06.357Z"
   },
   {
    "duration": 6,
    "start_time": "2022-01-22T08:25:06.370Z"
   },
   {
    "duration": 26,
    "start_time": "2022-01-22T08:25:06.379Z"
   },
   {
    "duration": 15,
    "start_time": "2022-01-22T08:25:06.408Z"
   },
   {
    "duration": 4,
    "start_time": "2022-01-22T08:25:06.425Z"
   },
   {
    "duration": 2389,
    "start_time": "2022-01-22T08:25:06.431Z"
   },
   {
    "duration": 4,
    "start_time": "2022-01-22T08:25:08.822Z"
   },
   {
    "duration": 20,
    "start_time": "2022-01-22T08:25:08.827Z"
   },
   {
    "duration": 9,
    "start_time": "2022-01-22T08:25:08.848Z"
   },
   {
    "duration": 32,
    "start_time": "2022-01-22T08:25:08.858Z"
   },
   {
    "duration": 468,
    "start_time": "2022-01-22T08:25:08.892Z"
   },
   {
    "duration": 12,
    "start_time": "2022-01-22T08:25:09.362Z"
   },
   {
    "duration": 411,
    "start_time": "2022-01-22T08:25:09.376Z"
   },
   {
    "duration": 437,
    "start_time": "2022-01-22T08:25:09.789Z"
   },
   {
    "duration": 1323,
    "start_time": "2022-01-22T08:25:10.228Z"
   },
   {
    "duration": 378,
    "start_time": "2022-01-22T08:25:11.553Z"
   },
   {
    "duration": 1458,
    "start_time": "2022-01-22T08:25:11.933Z"
   },
   {
    "duration": 455,
    "start_time": "2022-01-22T08:25:13.399Z"
   },
   {
    "duration": 241,
    "start_time": "2022-01-22T08:25:13.615Z"
   },
   {
    "duration": 239,
    "start_time": "2022-01-22T08:25:13.618Z"
   },
   {
    "duration": 235,
    "start_time": "2022-01-22T08:25:13.622Z"
   },
   {
    "duration": 232,
    "start_time": "2022-01-22T08:25:13.626Z"
   },
   {
    "duration": 230,
    "start_time": "2022-01-22T08:25:13.629Z"
   },
   {
    "duration": 227,
    "start_time": "2022-01-22T08:25:13.633Z"
   },
   {
    "duration": 225,
    "start_time": "2022-01-22T08:25:13.636Z"
   },
   {
    "duration": 223,
    "start_time": "2022-01-22T08:25:13.639Z"
   },
   {
    "duration": 220,
    "start_time": "2022-01-22T08:25:13.643Z"
   },
   {
    "duration": 217,
    "start_time": "2022-01-22T08:25:13.646Z"
   },
   {
    "duration": 215,
    "start_time": "2022-01-22T08:25:13.649Z"
   },
   {
    "duration": 212,
    "start_time": "2022-01-22T08:25:13.653Z"
   },
   {
    "duration": 210,
    "start_time": "2022-01-22T08:25:13.656Z"
   },
   {
    "duration": 208,
    "start_time": "2022-01-22T08:25:13.659Z"
   },
   {
    "duration": 494,
    "start_time": "2022-01-22T08:25:32.983Z"
   },
   {
    "duration": 219,
    "start_time": "2022-01-22T08:26:04.919Z"
   },
   {
    "duration": 389,
    "start_time": "2022-01-22T08:26:54.199Z"
   },
   {
    "duration": 220,
    "start_time": "2022-01-22T08:28:44.891Z"
   },
   {
    "duration": 221,
    "start_time": "2022-01-22T08:29:40.435Z"
   },
   {
    "duration": 1720,
    "start_time": "2022-01-22T08:36:13.335Z"
   },
   {
    "duration": 356,
    "start_time": "2022-01-22T08:36:27.238Z"
   },
   {
    "duration": 205,
    "start_time": "2022-01-22T08:40:31.166Z"
   },
   {
    "duration": 1231,
    "start_time": "2022-01-22T08:40:57.663Z"
   },
   {
    "duration": 6,
    "start_time": "2022-01-22T08:40:58.896Z"
   },
   {
    "duration": 17,
    "start_time": "2022-01-22T08:40:58.904Z"
   },
   {
    "duration": 18,
    "start_time": "2022-01-22T08:40:58.923Z"
   },
   {
    "duration": 21,
    "start_time": "2022-01-22T08:40:58.942Z"
   },
   {
    "duration": 7,
    "start_time": "2022-01-22T08:40:58.965Z"
   },
   {
    "duration": 5,
    "start_time": "2022-01-22T08:40:58.974Z"
   },
   {
    "duration": 5,
    "start_time": "2022-01-22T08:40:58.982Z"
   },
   {
    "duration": 21,
    "start_time": "2022-01-22T08:40:58.990Z"
   },
   {
    "duration": 5,
    "start_time": "2022-01-22T08:40:59.013Z"
   },
   {
    "duration": 2344,
    "start_time": "2022-01-22T08:40:59.019Z"
   },
   {
    "duration": 4,
    "start_time": "2022-01-22T08:41:01.365Z"
   },
   {
    "duration": 28,
    "start_time": "2022-01-22T08:41:01.371Z"
   },
   {
    "duration": 4,
    "start_time": "2022-01-22T08:41:01.400Z"
   },
   {
    "duration": 19,
    "start_time": "2022-01-22T08:41:01.406Z"
   },
   {
    "duration": 510,
    "start_time": "2022-01-22T08:41:01.427Z"
   },
   {
    "duration": 13,
    "start_time": "2022-01-22T08:41:01.939Z"
   },
   {
    "duration": 438,
    "start_time": "2022-01-22T08:41:01.954Z"
   },
   {
    "duration": 429,
    "start_time": "2022-01-22T08:41:02.394Z"
   },
   {
    "duration": 1373,
    "start_time": "2022-01-22T08:41:02.825Z"
   },
   {
    "duration": 382,
    "start_time": "2022-01-22T08:41:04.200Z"
   },
   {
    "duration": 1446,
    "start_time": "2022-01-22T08:41:04.585Z"
   },
   {
    "duration": 210,
    "start_time": "2022-01-22T08:41:06.035Z"
   },
   {
    "duration": 3,
    "start_time": "2022-01-22T08:41:06.247Z"
   },
   {
    "duration": 17,
    "start_time": "2022-01-22T08:41:06.251Z"
   },
   {
    "duration": 33,
    "start_time": "2022-01-22T08:41:06.270Z"
   },
   {
    "duration": 14,
    "start_time": "2022-01-22T08:41:06.305Z"
   },
   {
    "duration": 26,
    "start_time": "2022-01-22T08:41:06.321Z"
   },
   {
    "duration": 1875,
    "start_time": "2022-01-22T08:41:06.349Z"
   },
   {
    "duration": 406,
    "start_time": "2022-01-22T08:41:08.226Z"
   },
   {
    "duration": 32,
    "start_time": "2022-01-22T08:41:08.634Z"
   },
   {
    "duration": 53,
    "start_time": "2022-01-22T08:41:08.668Z"
   },
   {
    "duration": 21,
    "start_time": "2022-01-22T08:41:08.724Z"
   },
   {
    "duration": 19,
    "start_time": "2022-01-22T08:41:08.746Z"
   },
   {
    "duration": 50,
    "start_time": "2022-01-22T08:41:08.767Z"
   },
   {
    "duration": 12,
    "start_time": "2022-01-22T08:41:08.818Z"
   },
   {
    "duration": 7,
    "start_time": "2022-01-22T08:41:08.831Z"
   },
   {
    "duration": 242,
    "start_time": "2022-01-22T08:41:40.826Z"
   },
   {
    "duration": 301,
    "start_time": "2022-01-22T08:52:55.993Z"
   },
   {
    "duration": 1193,
    "start_time": "2022-01-22T08:53:04.508Z"
   },
   {
    "duration": 6,
    "start_time": "2022-01-22T08:53:05.703Z"
   },
   {
    "duration": 6,
    "start_time": "2022-01-22T08:53:05.711Z"
   },
   {
    "duration": 10,
    "start_time": "2022-01-22T08:53:05.719Z"
   },
   {
    "duration": 19,
    "start_time": "2022-01-22T08:53:05.731Z"
   },
   {
    "duration": 8,
    "start_time": "2022-01-22T08:53:05.751Z"
   },
   {
    "duration": 37,
    "start_time": "2022-01-22T08:53:05.761Z"
   },
   {
    "duration": 5,
    "start_time": "2022-01-22T08:53:05.801Z"
   },
   {
    "duration": 18,
    "start_time": "2022-01-22T08:53:05.809Z"
   },
   {
    "duration": 5,
    "start_time": "2022-01-22T08:53:05.829Z"
   },
   {
    "duration": 2479,
    "start_time": "2022-01-22T08:53:05.835Z"
   },
   {
    "duration": 5,
    "start_time": "2022-01-22T08:53:08.316Z"
   },
   {
    "duration": 43,
    "start_time": "2022-01-22T08:53:08.323Z"
   },
   {
    "duration": 4,
    "start_time": "2022-01-22T08:53:08.368Z"
   },
   {
    "duration": 38,
    "start_time": "2022-01-22T08:53:08.374Z"
   },
   {
    "duration": 484,
    "start_time": "2022-01-22T08:53:08.414Z"
   },
   {
    "duration": 12,
    "start_time": "2022-01-22T08:53:08.899Z"
   },
   {
    "duration": 420,
    "start_time": "2022-01-22T08:53:08.912Z"
   },
   {
    "duration": 439,
    "start_time": "2022-01-22T08:53:09.334Z"
   },
   {
    "duration": 1402,
    "start_time": "2022-01-22T08:53:09.775Z"
   },
   {
    "duration": 313,
    "start_time": "2022-01-22T08:53:11.178Z"
   },
   {
    "duration": 1452,
    "start_time": "2022-01-22T08:53:11.497Z"
   },
   {
    "duration": 291,
    "start_time": "2022-01-22T08:53:12.953Z"
   },
   {
    "duration": 900,
    "start_time": "2022-01-22T08:53:13.245Z"
   },
   {
    "duration": 193,
    "start_time": "2022-01-22T08:53:13.954Z"
   },
   {
    "duration": 190,
    "start_time": "2022-01-22T08:53:13.958Z"
   },
   {
    "duration": 185,
    "start_time": "2022-01-22T08:53:13.964Z"
   },
   {
    "duration": 182,
    "start_time": "2022-01-22T08:53:13.968Z"
   },
   {
    "duration": 179,
    "start_time": "2022-01-22T08:53:13.972Z"
   },
   {
    "duration": 161,
    "start_time": "2022-01-22T08:53:13.991Z"
   },
   {
    "duration": 158,
    "start_time": "2022-01-22T08:53:13.995Z"
   },
   {
    "duration": 156,
    "start_time": "2022-01-22T08:53:13.998Z"
   },
   {
    "duration": 154,
    "start_time": "2022-01-22T08:53:14.001Z"
   },
   {
    "duration": 151,
    "start_time": "2022-01-22T08:53:14.005Z"
   },
   {
    "duration": 149,
    "start_time": "2022-01-22T08:53:14.008Z"
   },
   {
    "duration": 147,
    "start_time": "2022-01-22T08:53:14.011Z"
   },
   {
    "duration": 145,
    "start_time": "2022-01-22T08:53:14.014Z"
   },
   {
    "duration": 143,
    "start_time": "2022-01-22T08:53:14.017Z"
   },
   {
    "duration": 226,
    "start_time": "2022-01-22T08:59:33.576Z"
   },
   {
    "duration": 208,
    "start_time": "2022-01-22T09:00:10.132Z"
   },
   {
    "duration": 249,
    "start_time": "2022-01-22T09:00:39.124Z"
   },
   {
    "duration": 327,
    "start_time": "2022-01-22T09:02:32.800Z"
   },
   {
    "duration": 405,
    "start_time": "2022-01-22T09:03:32.416Z"
   },
   {
    "duration": 1221,
    "start_time": "2022-01-22T09:31:48.341Z"
   },
   {
    "duration": 5,
    "start_time": "2022-01-22T09:31:49.564Z"
   },
   {
    "duration": 12,
    "start_time": "2022-01-22T09:31:49.571Z"
   },
   {
    "duration": 7,
    "start_time": "2022-01-22T09:31:49.585Z"
   },
   {
    "duration": 15,
    "start_time": "2022-01-22T09:31:49.593Z"
   },
   {
    "duration": 7,
    "start_time": "2022-01-22T09:31:49.610Z"
   },
   {
    "duration": 5,
    "start_time": "2022-01-22T09:31:49.619Z"
   },
   {
    "duration": 6,
    "start_time": "2022-01-22T09:31:49.627Z"
   },
   {
    "duration": 17,
    "start_time": "2022-01-22T09:31:49.635Z"
   },
   {
    "duration": 4,
    "start_time": "2022-01-22T09:31:49.653Z"
   },
   {
    "duration": 2265,
    "start_time": "2022-01-22T09:31:49.659Z"
   },
   {
    "duration": 4,
    "start_time": "2022-01-22T09:31:51.926Z"
   },
   {
    "duration": 18,
    "start_time": "2022-01-22T09:31:51.931Z"
   },
   {
    "duration": 3,
    "start_time": "2022-01-22T09:31:51.951Z"
   },
   {
    "duration": 14,
    "start_time": "2022-01-22T09:31:51.955Z"
   },
   {
    "duration": 497,
    "start_time": "2022-01-22T09:31:51.971Z"
   },
   {
    "duration": 11,
    "start_time": "2022-01-22T09:31:52.470Z"
   },
   {
    "duration": 434,
    "start_time": "2022-01-22T09:31:52.483Z"
   },
   {
    "duration": 431,
    "start_time": "2022-01-22T09:31:52.919Z"
   },
   {
    "duration": 1405,
    "start_time": "2022-01-22T09:31:53.352Z"
   },
   {
    "duration": 318,
    "start_time": "2022-01-22T09:31:54.759Z"
   },
   {
    "duration": 1431,
    "start_time": "2022-01-22T09:31:55.079Z"
   },
   {
    "duration": 420,
    "start_time": "2022-01-22T09:31:56.513Z"
   },
   {
    "duration": 301,
    "start_time": "2022-01-22T09:31:56.935Z"
   },
   {
    "duration": 838,
    "start_time": "2022-01-22T09:31:56.400Z"
   },
   {
    "duration": 829,
    "start_time": "2022-01-22T09:31:56.410Z"
   },
   {
    "duration": 825,
    "start_time": "2022-01-22T09:31:56.415Z"
   },
   {
    "duration": 823,
    "start_time": "2022-01-22T09:31:56.418Z"
   },
   {
    "duration": 820,
    "start_time": "2022-01-22T09:31:56.422Z"
   },
   {
    "duration": 818,
    "start_time": "2022-01-22T09:31:56.425Z"
   },
   {
    "duration": 815,
    "start_time": "2022-01-22T09:31:56.429Z"
   },
   {
    "duration": 813,
    "start_time": "2022-01-22T09:31:56.432Z"
   },
   {
    "duration": 811,
    "start_time": "2022-01-22T09:31:56.435Z"
   },
   {
    "duration": 808,
    "start_time": "2022-01-22T09:31:56.439Z"
   },
   {
    "duration": 806,
    "start_time": "2022-01-22T09:31:56.442Z"
   },
   {
    "duration": 804,
    "start_time": "2022-01-22T09:31:56.445Z"
   },
   {
    "duration": 801,
    "start_time": "2022-01-22T09:31:56.449Z"
   },
   {
    "duration": 800,
    "start_time": "2022-01-22T09:31:56.452Z"
   },
   {
    "duration": 221,
    "start_time": "2022-01-22T09:32:29.069Z"
   },
   {
    "duration": 224,
    "start_time": "2022-01-22T09:32:46.625Z"
   },
   {
    "duration": 399,
    "start_time": "2022-01-22T09:36:19.881Z"
   },
   {
    "duration": 64,
    "start_time": "2022-01-22T09:37:17.952Z"
   },
   {
    "duration": 9,
    "start_time": "2022-01-22T09:37:28.456Z"
   },
   {
    "duration": 192,
    "start_time": "2022-01-22T09:37:30.953Z"
   },
   {
    "duration": 371,
    "start_time": "2022-01-22T09:37:57.816Z"
   },
   {
    "duration": 191,
    "start_time": "2022-01-22T09:41:05.120Z"
   },
   {
    "duration": 222,
    "start_time": "2022-01-22T09:45:46.151Z"
   },
   {
    "duration": 222,
    "start_time": "2022-01-22T09:45:54.983Z"
   },
   {
    "duration": 416,
    "start_time": "2022-01-22T09:46:06.676Z"
   },
   {
    "duration": 479,
    "start_time": "2022-01-22T09:46:16.103Z"
   },
   {
    "duration": 222,
    "start_time": "2022-01-22T09:46:35.191Z"
   },
   {
    "duration": 232,
    "start_time": "2022-01-22T09:46:43.072Z"
   },
   {
    "duration": 301,
    "start_time": "2022-01-22T09:46:49.559Z"
   },
   {
    "duration": 370,
    "start_time": "2022-01-22T09:47:08.799Z"
   },
   {
    "duration": 477,
    "start_time": "2022-01-22T09:47:14.455Z"
   },
   {
    "duration": 253,
    "start_time": "2022-01-22T09:47:21.315Z"
   },
   {
    "duration": 469,
    "start_time": "2022-01-22T09:47:27.427Z"
   },
   {
    "duration": 1195,
    "start_time": "2022-01-22T09:49:21.999Z"
   },
   {
    "duration": 7,
    "start_time": "2022-01-22T09:49:23.196Z"
   },
   {
    "duration": 6,
    "start_time": "2022-01-22T09:49:23.208Z"
   },
   {
    "duration": 6,
    "start_time": "2022-01-22T09:49:23.216Z"
   },
   {
    "duration": 17,
    "start_time": "2022-01-22T09:49:23.224Z"
   },
   {
    "duration": 9,
    "start_time": "2022-01-22T09:49:23.243Z"
   },
   {
    "duration": 6,
    "start_time": "2022-01-22T09:49:23.254Z"
   },
   {
    "duration": 38,
    "start_time": "2022-01-22T09:49:23.262Z"
   },
   {
    "duration": 19,
    "start_time": "2022-01-22T09:49:23.302Z"
   },
   {
    "duration": 7,
    "start_time": "2022-01-22T09:49:23.323Z"
   },
   {
    "duration": 2476,
    "start_time": "2022-01-22T09:49:23.332Z"
   },
   {
    "duration": 5,
    "start_time": "2022-01-22T09:49:25.809Z"
   },
   {
    "duration": 22,
    "start_time": "2022-01-22T09:49:25.816Z"
   },
   {
    "duration": 4,
    "start_time": "2022-01-22T09:49:25.840Z"
   },
   {
    "duration": 17,
    "start_time": "2022-01-22T09:49:25.846Z"
   },
   {
    "duration": 548,
    "start_time": "2022-01-22T09:49:25.865Z"
   },
   {
    "duration": 13,
    "start_time": "2022-01-22T09:49:26.414Z"
   },
   {
    "duration": 524,
    "start_time": "2022-01-22T09:49:26.429Z"
   },
   {
    "duration": 456,
    "start_time": "2022-01-22T09:49:26.954Z"
   },
   {
    "duration": 1488,
    "start_time": "2022-01-22T09:49:27.412Z"
   },
   {
    "duration": 320,
    "start_time": "2022-01-22T09:49:28.902Z"
   },
   {
    "duration": 1549,
    "start_time": "2022-01-22T09:49:29.225Z"
   },
   {
    "duration": 10,
    "start_time": "2022-01-22T09:49:30.776Z"
   },
   {
    "duration": 543,
    "start_time": "2022-01-22T09:49:30.787Z"
   },
   {
    "duration": 3,
    "start_time": "2022-01-22T09:49:31.332Z"
   },
   {
    "duration": 14,
    "start_time": "2022-01-22T09:49:31.337Z"
   },
   {
    "duration": 16,
    "start_time": "2022-01-22T09:49:31.353Z"
   },
   {
    "duration": 29,
    "start_time": "2022-01-22T09:49:31.370Z"
   },
   {
    "duration": 20,
    "start_time": "2022-01-22T09:49:31.401Z"
   },
   {
    "duration": 2148,
    "start_time": "2022-01-22T09:49:31.423Z"
   },
   {
    "duration": 336,
    "start_time": "2022-01-22T09:49:33.573Z"
   },
   {
    "duration": 34,
    "start_time": "2022-01-22T09:49:33.910Z"
   },
   {
    "duration": 61,
    "start_time": "2022-01-22T09:49:33.946Z"
   },
   {
    "duration": 22,
    "start_time": "2022-01-22T09:49:34.009Z"
   },
   {
    "duration": 22,
    "start_time": "2022-01-22T09:49:34.033Z"
   },
   {
    "duration": 47,
    "start_time": "2022-01-22T09:49:34.057Z"
   },
   {
    "duration": 14,
    "start_time": "2022-01-22T09:49:34.105Z"
   },
   {
    "duration": 6,
    "start_time": "2022-01-22T09:49:34.121Z"
   },
   {
    "duration": 701,
    "start_time": "2022-01-22T09:52:52.490Z"
   },
   {
    "duration": 282,
    "start_time": "2022-01-22T09:53:03.563Z"
   },
   {
    "duration": 269,
    "start_time": "2022-01-22T09:53:10.594Z"
   },
   {
    "duration": 317,
    "start_time": "2022-01-22T09:53:19.910Z"
   },
   {
    "duration": 297,
    "start_time": "2022-01-22T09:53:39.430Z"
   },
   {
    "duration": 310,
    "start_time": "2022-01-22T09:55:06.326Z"
   },
   {
    "duration": 368,
    "start_time": "2022-01-22T09:55:32.334Z"
   },
   {
    "duration": 439,
    "start_time": "2022-01-22T10:18:13.431Z"
   },
   {
    "duration": 298,
    "start_time": "2022-01-22T10:26:47.512Z"
   },
   {
    "duration": 220,
    "start_time": "2022-01-22T10:27:58.059Z"
   },
   {
    "duration": 52,
    "start_time": "2022-01-22T10:29:26.484Z"
   },
   {
    "duration": 233,
    "start_time": "2022-01-22T10:31:45.236Z"
   },
   {
    "duration": 56,
    "start_time": "2022-01-22T10:32:31.980Z"
   },
   {
    "duration": 1218,
    "start_time": "2022-01-22T11:24:15.888Z"
   },
   {
    "duration": 7,
    "start_time": "2022-01-22T11:24:17.108Z"
   },
   {
    "duration": 8,
    "start_time": "2022-01-22T11:24:17.118Z"
   },
   {
    "duration": 4,
    "start_time": "2022-01-22T11:24:17.128Z"
   },
   {
    "duration": 15,
    "start_time": "2022-01-22T11:24:17.134Z"
   },
   {
    "duration": 9,
    "start_time": "2022-01-22T11:24:17.151Z"
   },
   {
    "duration": 9,
    "start_time": "2022-01-22T11:24:17.161Z"
   },
   {
    "duration": 28,
    "start_time": "2022-01-22T11:24:17.172Z"
   },
   {
    "duration": 20,
    "start_time": "2022-01-22T11:24:17.203Z"
   },
   {
    "duration": 5,
    "start_time": "2022-01-22T11:24:17.225Z"
   },
   {
    "duration": 2499,
    "start_time": "2022-01-22T11:24:17.232Z"
   },
   {
    "duration": 5,
    "start_time": "2022-01-22T11:24:19.733Z"
   },
   {
    "duration": 20,
    "start_time": "2022-01-22T11:24:19.740Z"
   },
   {
    "duration": 3,
    "start_time": "2022-01-22T11:24:19.762Z"
   },
   {
    "duration": 32,
    "start_time": "2022-01-22T11:24:19.767Z"
   },
   {
    "duration": 503,
    "start_time": "2022-01-22T11:24:19.801Z"
   },
   {
    "duration": 12,
    "start_time": "2022-01-22T11:24:20.306Z"
   },
   {
    "duration": 437,
    "start_time": "2022-01-22T11:24:20.320Z"
   },
   {
    "duration": 453,
    "start_time": "2022-01-22T11:24:20.758Z"
   },
   {
    "duration": 1514,
    "start_time": "2022-01-22T11:24:21.213Z"
   },
   {
    "duration": 351,
    "start_time": "2022-01-22T11:24:22.730Z"
   },
   {
    "duration": 1566,
    "start_time": "2022-01-22T11:24:23.083Z"
   },
   {
    "duration": 384,
    "start_time": "2022-01-22T11:24:24.652Z"
   },
   {
    "duration": 3,
    "start_time": "2022-01-22T11:24:25.038Z"
   },
   {
    "duration": 15,
    "start_time": "2022-01-22T11:24:25.043Z"
   },
   {
    "duration": 20,
    "start_time": "2022-01-22T11:24:25.060Z"
   },
   {
    "duration": 22,
    "start_time": "2022-01-22T11:24:25.082Z"
   },
   {
    "duration": 21,
    "start_time": "2022-01-22T11:24:25.106Z"
   },
   {
    "duration": 2140,
    "start_time": "2022-01-22T11:24:25.128Z"
   },
   {
    "duration": 307,
    "start_time": "2022-01-22T11:24:27.270Z"
   },
   {
    "duration": 1679,
    "start_time": "2022-01-22T11:24:25.900Z"
   },
   {
    "duration": 1677,
    "start_time": "2022-01-22T11:24:25.904Z"
   },
   {
    "duration": 1675,
    "start_time": "2022-01-22T11:24:25.907Z"
   },
   {
    "duration": 1674,
    "start_time": "2022-01-22T11:24:25.910Z"
   },
   {
    "duration": 1672,
    "start_time": "2022-01-22T11:24:25.913Z"
   },
   {
    "duration": 1669,
    "start_time": "2022-01-22T11:24:25.917Z"
   },
   {
    "duration": 1666,
    "start_time": "2022-01-22T11:24:25.921Z"
   },
   {
    "duration": 1664,
    "start_time": "2022-01-22T11:24:25.924Z"
   },
   {
    "duration": 1685,
    "start_time": "2022-01-22T11:26:36.078Z"
   },
   {
    "duration": 346,
    "start_time": "2022-01-22T11:27:01.611Z"
   },
   {
    "duration": 5466,
    "start_time": "2022-01-22T11:28:24.094Z"
   },
   {
    "duration": 8,
    "start_time": "2022-01-22T11:29:15.423Z"
   },
   {
    "duration": 10,
    "start_time": "2022-01-22T11:30:06.014Z"
   },
   {
    "duration": 11,
    "start_time": "2022-01-22T11:30:37.717Z"
   },
   {
    "duration": 8,
    "start_time": "2022-01-22T11:30:45.598Z"
   },
   {
    "duration": 66,
    "start_time": "2022-01-22T11:32:38.285Z"
   },
   {
    "duration": 23,
    "start_time": "2022-01-22T11:33:13.737Z"
   },
   {
    "duration": 1085,
    "start_time": "2022-01-22T11:39:16.836Z"
   },
   {
    "duration": 41,
    "start_time": "2022-01-22T11:39:41.723Z"
   },
   {
    "duration": 45,
    "start_time": "2022-01-22T11:41:21.331Z"
   },
   {
    "duration": 68,
    "start_time": "2022-01-22T11:41:32.203Z"
   },
   {
    "duration": 34,
    "start_time": "2022-01-22T11:41:38.819Z"
   },
   {
    "duration": 239,
    "start_time": "2022-01-22T11:47:51.554Z"
   },
   {
    "duration": 208,
    "start_time": "2022-01-22T11:48:39.378Z"
   },
   {
    "duration": 220,
    "start_time": "2022-01-22T11:49:58.626Z"
   },
   {
    "duration": 225,
    "start_time": "2022-01-22T11:52:30.057Z"
   },
   {
    "duration": 248,
    "start_time": "2022-01-22T11:52:45.457Z"
   },
   {
    "duration": 255,
    "start_time": "2022-01-22T11:53:14.097Z"
   },
   {
    "duration": 246,
    "start_time": "2022-01-22T11:54:18.537Z"
   },
   {
    "duration": 23,
    "start_time": "2022-01-22T11:54:31.417Z"
   },
   {
    "duration": 31,
    "start_time": "2022-01-22T12:25:02.395Z"
   },
   {
    "duration": 35,
    "start_time": "2022-01-22T12:25:07.686Z"
   },
   {
    "duration": 28,
    "start_time": "2022-01-22T12:26:11.907Z"
   },
   {
    "duration": 70,
    "start_time": "2022-01-22T12:39:53.190Z"
   },
   {
    "duration": 6,
    "start_time": "2022-01-22T12:40:09.226Z"
   },
   {
    "duration": 208,
    "start_time": "2022-01-22T12:44:55.186Z"
   },
   {
    "duration": 234,
    "start_time": "2022-01-22T12:45:29.741Z"
   },
   {
    "duration": 235,
    "start_time": "2022-01-22T12:46:29.426Z"
   },
   {
    "duration": 230,
    "start_time": "2022-01-22T12:46:44.134Z"
   },
   {
    "duration": 1153,
    "start_time": "2022-01-22T12:47:02.357Z"
   },
   {
    "duration": 6,
    "start_time": "2022-01-22T12:47:03.512Z"
   },
   {
    "duration": 5,
    "start_time": "2022-01-22T12:47:03.520Z"
   },
   {
    "duration": 6,
    "start_time": "2022-01-22T12:47:03.526Z"
   },
   {
    "duration": 15,
    "start_time": "2022-01-22T12:47:03.533Z"
   },
   {
    "duration": 8,
    "start_time": "2022-01-22T12:47:03.550Z"
   },
   {
    "duration": 8,
    "start_time": "2022-01-22T12:47:03.559Z"
   },
   {
    "duration": 5,
    "start_time": "2022-01-22T12:47:03.600Z"
   },
   {
    "duration": 18,
    "start_time": "2022-01-22T12:47:03.607Z"
   },
   {
    "duration": 5,
    "start_time": "2022-01-22T12:47:03.626Z"
   },
   {
    "duration": 2318,
    "start_time": "2022-01-22T12:47:03.633Z"
   },
   {
    "duration": 4,
    "start_time": "2022-01-22T12:47:05.953Z"
   },
   {
    "duration": 24,
    "start_time": "2022-01-22T12:47:05.959Z"
   },
   {
    "duration": 339,
    "start_time": "2022-01-22T12:47:05.985Z"
   },
   {
    "duration": 1549,
    "start_time": "2022-01-22T12:47:04.777Z"
   },
   {
    "duration": 1545,
    "start_time": "2022-01-22T12:47:04.782Z"
   },
   {
    "duration": 1543,
    "start_time": "2022-01-22T12:47:04.785Z"
   },
   {
    "duration": 1539,
    "start_time": "2022-01-22T12:47:04.790Z"
   },
   {
    "duration": 1536,
    "start_time": "2022-01-22T12:47:04.794Z"
   },
   {
    "duration": 1534,
    "start_time": "2022-01-22T12:47:04.797Z"
   },
   {
    "duration": 1532,
    "start_time": "2022-01-22T12:47:04.801Z"
   },
   {
    "duration": 1529,
    "start_time": "2022-01-22T12:47:04.804Z"
   },
   {
    "duration": 1527,
    "start_time": "2022-01-22T12:47:04.808Z"
   },
   {
    "duration": 1524,
    "start_time": "2022-01-22T12:47:04.812Z"
   },
   {
    "duration": 1516,
    "start_time": "2022-01-22T12:47:04.821Z"
   },
   {
    "duration": 1514,
    "start_time": "2022-01-22T12:47:04.824Z"
   },
   {
    "duration": 1512,
    "start_time": "2022-01-22T12:47:04.828Z"
   },
   {
    "duration": 1508,
    "start_time": "2022-01-22T12:47:04.832Z"
   },
   {
    "duration": 1506,
    "start_time": "2022-01-22T12:47:04.835Z"
   },
   {
    "duration": 1503,
    "start_time": "2022-01-22T12:47:04.839Z"
   },
   {
    "duration": 1501,
    "start_time": "2022-01-22T12:47:04.842Z"
   },
   {
    "duration": 1498,
    "start_time": "2022-01-22T12:47:04.846Z"
   },
   {
    "duration": 1495,
    "start_time": "2022-01-22T12:47:04.850Z"
   },
   {
    "duration": 1492,
    "start_time": "2022-01-22T12:47:04.854Z"
   },
   {
    "duration": 1491,
    "start_time": "2022-01-22T12:47:04.857Z"
   },
   {
    "duration": 1487,
    "start_time": "2022-01-22T12:47:04.861Z"
   },
   {
    "duration": 1485,
    "start_time": "2022-01-22T12:47:04.865Z"
   },
   {
    "duration": 1482,
    "start_time": "2022-01-22T12:47:04.868Z"
   },
   {
    "duration": 7,
    "start_time": "2022-01-22T12:49:52.593Z"
   },
   {
    "duration": 4,
    "start_time": "2022-01-22T12:50:06.420Z"
   },
   {
    "duration": 13,
    "start_time": "2022-01-22T12:50:07.832Z"
   },
   {
    "duration": 6,
    "start_time": "2022-01-22T12:50:44.741Z"
   },
   {
    "duration": 6,
    "start_time": "2022-01-22T12:51:09.652Z"
   },
   {
    "duration": 7,
    "start_time": "2022-01-22T12:51:10.388Z"
   },
   {
    "duration": 39,
    "start_time": "2022-01-22T12:52:38.192Z"
   },
   {
    "duration": 54,
    "start_time": "2022-01-22T12:52:57.925Z"
   },
   {
    "duration": 573,
    "start_time": "2022-01-22T12:56:45.029Z"
   },
   {
    "duration": 240,
    "start_time": "2022-01-22T13:00:11.788Z"
   },
   {
    "duration": 32,
    "start_time": "2022-01-22T13:00:27.844Z"
   },
   {
    "duration": 10,
    "start_time": "2022-01-22T13:00:38.704Z"
   },
   {
    "duration": 11,
    "start_time": "2022-01-22T13:00:51.916Z"
   },
   {
    "duration": 1233,
    "start_time": "2022-01-22T13:01:42.910Z"
   },
   {
    "duration": 7,
    "start_time": "2022-01-22T13:01:44.148Z"
   },
   {
    "duration": 17,
    "start_time": "2022-01-22T13:01:44.157Z"
   },
   {
    "duration": 16,
    "start_time": "2022-01-22T13:01:44.176Z"
   },
   {
    "duration": 37,
    "start_time": "2022-01-22T13:01:44.193Z"
   },
   {
    "duration": 14,
    "start_time": "2022-01-22T13:01:44.232Z"
   },
   {
    "duration": 26,
    "start_time": "2022-01-22T13:01:44.249Z"
   },
   {
    "duration": 18,
    "start_time": "2022-01-22T13:01:44.278Z"
   },
   {
    "duration": 19,
    "start_time": "2022-01-22T13:01:44.298Z"
   },
   {
    "duration": 5,
    "start_time": "2022-01-22T13:01:44.319Z"
   },
   {
    "duration": 2428,
    "start_time": "2022-01-22T13:01:44.326Z"
   },
   {
    "duration": 5,
    "start_time": "2022-01-22T13:01:46.756Z"
   },
   {
    "duration": 18,
    "start_time": "2022-01-22T13:01:46.762Z"
   },
   {
    "duration": 22,
    "start_time": "2022-01-22T13:01:46.782Z"
   },
   {
    "duration": 11,
    "start_time": "2022-01-22T13:01:46.806Z"
   },
   {
    "duration": 507,
    "start_time": "2022-01-22T13:01:46.819Z"
   },
   {
    "duration": 11,
    "start_time": "2022-01-22T13:01:47.328Z"
   },
   {
    "duration": 426,
    "start_time": "2022-01-22T13:01:47.340Z"
   },
   {
    "duration": 443,
    "start_time": "2022-01-22T13:01:47.768Z"
   },
   {
    "duration": 1522,
    "start_time": "2022-01-22T13:01:48.212Z"
   },
   {
    "duration": 348,
    "start_time": "2022-01-22T13:01:49.736Z"
   },
   {
    "duration": 1591,
    "start_time": "2022-01-22T13:01:50.088Z"
   },
   {
    "duration": 382,
    "start_time": "2022-01-22T13:01:51.681Z"
   },
   {
    "duration": 9,
    "start_time": "2022-01-22T13:01:52.065Z"
   },
   {
    "duration": 29,
    "start_time": "2022-01-22T13:01:52.076Z"
   },
   {
    "duration": 16,
    "start_time": "2022-01-22T13:01:52.107Z"
   },
   {
    "duration": 15,
    "start_time": "2022-01-22T13:01:52.124Z"
   },
   {
    "duration": 2260,
    "start_time": "2022-01-22T13:01:52.140Z"
   },
   {
    "duration": 29,
    "start_time": "2022-01-22T13:01:54.402Z"
   },
   {
    "duration": 352,
    "start_time": "2022-01-22T13:01:54.433Z"
   },
   {
    "duration": 41,
    "start_time": "2022-01-22T13:01:54.786Z"
   },
   {
    "duration": 33,
    "start_time": "2022-01-22T13:01:54.829Z"
   },
   {
    "duration": 45,
    "start_time": "2022-01-22T13:01:54.863Z"
   },
   {
    "duration": 22,
    "start_time": "2022-01-22T13:01:54.910Z"
   },
   {
    "duration": 21,
    "start_time": "2022-01-22T13:01:54.934Z"
   },
   {
    "duration": 45,
    "start_time": "2022-01-22T13:01:54.957Z"
   },
   {
    "duration": 8,
    "start_time": "2022-01-22T13:01:55.004Z"
   },
   {
    "duration": 7,
    "start_time": "2022-01-22T13:33:28.922Z"
   },
   {
    "duration": 1547,
    "start_time": "2022-01-22T13:33:51.388Z"
   },
   {
    "duration": 7,
    "start_time": "2022-01-22T13:33:52.937Z"
   },
   {
    "duration": 21,
    "start_time": "2022-01-22T13:33:52.948Z"
   },
   {
    "duration": 22,
    "start_time": "2022-01-22T13:33:52.970Z"
   },
   {
    "duration": 33,
    "start_time": "2022-01-22T13:33:52.993Z"
   },
   {
    "duration": 17,
    "start_time": "2022-01-22T13:33:53.028Z"
   },
   {
    "duration": 22,
    "start_time": "2022-01-22T13:33:53.047Z"
   },
   {
    "duration": 16,
    "start_time": "2022-01-22T13:33:53.071Z"
   },
   {
    "duration": 39,
    "start_time": "2022-01-22T13:33:53.089Z"
   },
   {
    "duration": 16,
    "start_time": "2022-01-22T13:33:53.130Z"
   },
   {
    "duration": 2522,
    "start_time": "2022-01-22T13:33:53.147Z"
   },
   {
    "duration": 5,
    "start_time": "2022-01-22T13:33:55.671Z"
   },
   {
    "duration": 25,
    "start_time": "2022-01-22T13:33:55.677Z"
   },
   {
    "duration": 14,
    "start_time": "2022-01-22T13:33:55.704Z"
   },
   {
    "duration": 38,
    "start_time": "2022-01-22T13:33:55.719Z"
   },
   {
    "duration": 534,
    "start_time": "2022-01-22T13:33:55.759Z"
   },
   {
    "duration": 19,
    "start_time": "2022-01-22T13:33:56.295Z"
   },
   {
    "duration": 454,
    "start_time": "2022-01-22T13:33:56.316Z"
   },
   {
    "duration": 460,
    "start_time": "2022-01-22T13:33:56.772Z"
   },
   {
    "duration": 1556,
    "start_time": "2022-01-22T13:33:57.234Z"
   },
   {
    "duration": 341,
    "start_time": "2022-01-22T13:33:58.791Z"
   },
   {
    "duration": 1696,
    "start_time": "2022-01-22T13:33:59.135Z"
   },
   {
    "duration": 400,
    "start_time": "2022-01-22T13:34:00.834Z"
   },
   {
    "duration": 9,
    "start_time": "2022-01-22T13:34:01.236Z"
   },
   {
    "duration": 33,
    "start_time": "2022-01-22T13:34:01.247Z"
   },
   {
    "duration": 13,
    "start_time": "2022-01-22T13:34:01.282Z"
   },
   {
    "duration": 24,
    "start_time": "2022-01-22T13:34:01.297Z"
   },
   {
    "duration": 2251,
    "start_time": "2022-01-22T13:34:01.323Z"
   },
   {
    "duration": 42,
    "start_time": "2022-01-22T13:34:03.576Z"
   },
   {
    "duration": 367,
    "start_time": "2022-01-22T13:34:03.620Z"
   },
   {
    "duration": 43,
    "start_time": "2022-01-22T13:34:03.989Z"
   },
   {
    "duration": 32,
    "start_time": "2022-01-22T13:34:04.034Z"
   },
   {
    "duration": 53,
    "start_time": "2022-01-22T13:34:04.068Z"
   },
   {
    "duration": 20,
    "start_time": "2022-01-22T13:34:04.123Z"
   },
   {
    "duration": 20,
    "start_time": "2022-01-22T13:34:04.145Z"
   },
   {
    "duration": 40,
    "start_time": "2022-01-22T13:34:04.167Z"
   },
   {
    "duration": 12,
    "start_time": "2022-01-22T13:34:04.210Z"
   },
   {
    "duration": 1139,
    "start_time": "2022-01-22T13:37:18.139Z"
   },
   {
    "duration": 6,
    "start_time": "2022-01-22T13:37:19.280Z"
   },
   {
    "duration": 7,
    "start_time": "2022-01-22T13:37:19.288Z"
   },
   {
    "duration": 5,
    "start_time": "2022-01-22T13:37:19.297Z"
   },
   {
    "duration": 16,
    "start_time": "2022-01-22T13:37:19.303Z"
   },
   {
    "duration": 7,
    "start_time": "2022-01-22T13:37:19.320Z"
   },
   {
    "duration": 5,
    "start_time": "2022-01-22T13:37:19.329Z"
   },
   {
    "duration": 5,
    "start_time": "2022-01-22T13:37:19.337Z"
   },
   {
    "duration": 19,
    "start_time": "2022-01-22T13:37:19.343Z"
   },
   {
    "duration": 4,
    "start_time": "2022-01-22T13:37:19.363Z"
   },
   {
    "duration": 2315,
    "start_time": "2022-01-22T13:37:19.369Z"
   },
   {
    "duration": 4,
    "start_time": "2022-01-22T13:37:21.686Z"
   },
   {
    "duration": 41,
    "start_time": "2022-01-22T13:37:21.691Z"
   },
   {
    "duration": 11,
    "start_time": "2022-01-22T13:37:21.734Z"
   },
   {
    "duration": 23,
    "start_time": "2022-01-22T13:37:21.747Z"
   },
   {
    "duration": 491,
    "start_time": "2022-01-22T13:37:21.771Z"
   },
   {
    "duration": 12,
    "start_time": "2022-01-22T13:37:22.264Z"
   },
   {
    "duration": 427,
    "start_time": "2022-01-22T13:37:22.278Z"
   },
   {
    "duration": 467,
    "start_time": "2022-01-22T13:37:22.708Z"
   },
   {
    "duration": 1393,
    "start_time": "2022-01-22T13:37:23.177Z"
   },
   {
    "duration": 311,
    "start_time": "2022-01-22T13:37:24.572Z"
   },
   {
    "duration": 1548,
    "start_time": "2022-01-22T13:37:24.885Z"
   },
   {
    "duration": 383,
    "start_time": "2022-01-22T13:37:26.437Z"
   },
   {
    "duration": 9,
    "start_time": "2022-01-22T13:37:26.822Z"
   },
   {
    "duration": 17,
    "start_time": "2022-01-22T13:37:26.833Z"
   },
   {
    "duration": 13,
    "start_time": "2022-01-22T13:37:26.851Z"
   },
   {
    "duration": 14,
    "start_time": "2022-01-22T13:37:26.866Z"
   },
   {
    "duration": 2024,
    "start_time": "2022-01-22T13:37:26.881Z"
   },
   {
    "duration": 28,
    "start_time": "2022-01-22T13:37:28.907Z"
   },
   {
    "duration": 336,
    "start_time": "2022-01-22T13:37:28.937Z"
   },
   {
    "duration": 43,
    "start_time": "2022-01-22T13:37:29.275Z"
   },
   {
    "duration": 32,
    "start_time": "2022-01-22T13:37:29.320Z"
   },
   {
    "duration": 45,
    "start_time": "2022-01-22T13:37:29.354Z"
   },
   {
    "duration": 21,
    "start_time": "2022-01-22T13:37:29.401Z"
   },
   {
    "duration": 23,
    "start_time": "2022-01-22T13:37:29.424Z"
   },
   {
    "duration": 13,
    "start_time": "2022-01-22T13:37:29.448Z"
   },
   {
    "duration": 37,
    "start_time": "2022-01-22T13:37:29.463Z"
   },
   {
    "duration": 1465,
    "start_time": "2022-04-16T10:12:05.498Z"
   }
  ],
  "kernelspec": {
   "display_name": "Python 3 (ipykernel)",
   "language": "python",
   "name": "python3"
  },
  "language_info": {
   "codemirror_mode": {
    "name": "ipython",
    "version": 3
   },
   "file_extension": ".py",
   "mimetype": "text/x-python",
   "name": "python",
   "nbconvert_exporter": "python",
   "pygments_lexer": "ipython3",
   "version": "3.9.5"
  },
  "toc": {
   "base_numbering": 1,
   "nav_menu": {},
   "number_sections": true,
   "sideBar": true,
   "skip_h1_title": true,
   "title_cell": "Table of Contents",
   "title_sidebar": "Contents",
   "toc_cell": false,
   "toc_position": {},
   "toc_section_display": true,
   "toc_window_display": false
  }
 },
 "nbformat": 4,
 "nbformat_minor": 2
}
