{
 "cells": [
  {
   "cell_type": "markdown",
   "metadata": {
    "toc": true
   },
   "source": [
    "<h1>Содержание<span class=\"tocSkip\"></span></h1>\n",
    "<div class=\"toc\"><ul class=\"toc-item\"><li><span><a href=\"#Подготовка-данных\" data-toc-modified-id=\"Подготовка-данных-1\"><span class=\"toc-item-num\">1&nbsp;&nbsp;</span>Подготовка данных</a></span></li><li><span><a href=\"#Исследование-задачи\" data-toc-modified-id=\"Исследование-задачи-2\"><span class=\"toc-item-num\">2&nbsp;&nbsp;</span>Исследование задачи</a></span></li><li><span><a href=\"#Борьба-с-дисбалансом\" data-toc-modified-id=\"Борьба-с-дисбалансом-3\"><span class=\"toc-item-num\">3&nbsp;&nbsp;</span>Борьба с дисбалансом</a></span></li><li><span><a href=\"#Тестирование-моделей\" data-toc-modified-id=\"Тестирование-моделей-4\"><span class=\"toc-item-num\">4&nbsp;&nbsp;</span>Тестирование моделей</a></span></li><li><span><a href=\"#Общий-вывод\" data-toc-modified-id=\"Общий-вывод-5\"><span class=\"toc-item-num\">5&nbsp;&nbsp;</span>Общий вывод</a></span></li><li><span><a href=\"#Чек-лист-готовности-проекта\" data-toc-modified-id=\"Чек-лист-готовности-проекта-6\"><span class=\"toc-item-num\">6&nbsp;&nbsp;</span>Чек-лист готовности проекта</a></span></li></ul></div>"
   ]
  },
  {
   "cell_type": "markdown",
   "metadata": {},
   "source": [
    "# Проект: отток клиентов"
   ]
  },
  {
   "cell_type": "markdown",
   "metadata": {},
   "source": [
    "Из «Бета-Банка» стали уходить клиенты. Каждый месяц. Немного, но заметно. Банковские маркетологи посчитали: сохранять текущих клиентов дешевле, чем привлекать новых.\n",
    "\n",
    "Нужно спрогнозировать, уйдёт клиент из банка в ближайшее время или нет. Вам предоставлены исторические данные о поведении клиентов и расторжении договоров с банком. \n",
    "\n",
    "Постройте модель с предельно большим значением *F1*-меры. Чтобы сдать проект успешно, нужно довести метрику до 0.59. Проверьте *F1*-меру на тестовой выборке самостоятельно.\n",
    "\n",
    "Дополнительно измеряйте *AUC-ROC*, сравнивайте её значение с *F1*-мерой.\n",
    "\n",
    "Источник данных: [https://www.kaggle.com/barelydedicated/bank-customer-churn-modeling](https://www.kaggle.com/barelydedicated/bank-customer-churn-modeling)"
   ]
  },
  {
   "cell_type": "markdown",
   "metadata": {},
   "source": [
    "# Данные\n",
    "\n",
    "Данные находятся в файле /datasets/Churn.csv"
   ]
  },
  {
   "cell_type": "markdown",
   "metadata": {},
   "source": [
    "Признаки:\n",
    "- RowNumber — индекс строки в данных\n",
    "- CustomerId — уникальный идентификатор клиента\n",
    "- Surname — фамилия\n",
    "- CreditScore — кредитный рейтинг\n",
    "- Geography — страна проживания\n",
    "- Gender — пол\n",
    "- Age — возраст\n",
    "- Tenure — сколько лет человек является клиентом банка\n",
    "- Balance — баланс на счёте\n",
    "- NumOfProducts — количество продуктов банка, используемых клиентом\n",
    "- HasCrCard — наличие кредитной карты\n",
    "- IsActiveMember — активность клиента\n",
    "- EstimatedSalary — предполагаемая зарплата\n",
    "\n",
    "\n",
    "Целевой признак\n",
    "- Exited — факт ухода клиента"
   ]
  },
  {
   "cell_type": "markdown",
   "metadata": {},
   "source": [
    "## Подготовка данных"
   ]
  },
  {
   "cell_type": "markdown",
   "metadata": {},
   "source": [
    "Задача классификации, используем соответствующие алгоритмы"
   ]
  },
  {
   "cell_type": "code",
   "execution_count": 1,
   "metadata": {},
   "outputs": [],
   "source": [
    "import pandas as pd\n",
    "import numpy as np\n",
    "import warnings\n",
    "import matplotlib.pyplot as plt\n",
    "from sklearn.preprocessing import StandardScaler\n",
    "from sklearn.tree import DecisionTreeClassifier\n",
    "from sklearn.linear_model import LogisticRegression\n",
    "from sklearn.ensemble import RandomForestClassifier\n",
    "from sklearn.model_selection import train_test_split\n",
    "from sklearn.metrics import f1_score\n",
    "from sklearn.metrics import roc_curve\n",
    "from sklearn.metrics import precision_score, recall_score\n",
    "from sklearn.metrics import roc_auc_score\n",
    "from sklearn.metrics import accuracy_score\n",
    "from sklearn.utils import shuffle\n",
    "from sklearn.preprocessing import OrdinalEncoder"
   ]
  },
  {
   "cell_type": "code",
   "execution_count": 2,
   "metadata": {},
   "outputs": [
    {
     "name": "stdout",
     "output_type": "stream",
     "text": [
      "<class 'pandas.core.frame.DataFrame'>\n",
      "RangeIndex: 10000 entries, 0 to 9999\n",
      "Data columns (total 14 columns):\n",
      "RowNumber          10000 non-null int64\n",
      "CustomerId         10000 non-null int64\n",
      "Surname            10000 non-null object\n",
      "CreditScore        10000 non-null int64\n",
      "Geography          10000 non-null object\n",
      "Gender             10000 non-null object\n",
      "Age                10000 non-null int64\n",
      "Tenure             9091 non-null float64\n",
      "Balance            10000 non-null float64\n",
      "NumOfProducts      10000 non-null int64\n",
      "HasCrCard          10000 non-null int64\n",
      "IsActiveMember     10000 non-null int64\n",
      "EstimatedSalary    10000 non-null float64\n",
      "Exited             10000 non-null int64\n",
      "dtypes: float64(3), int64(8), object(3)\n",
      "memory usage: 1.1+ MB\n"
     ]
    },
    {
     "data": {
      "text/html": [
       "<div>\n",
       "<style scoped>\n",
       "    .dataframe tbody tr th:only-of-type {\n",
       "        vertical-align: middle;\n",
       "    }\n",
       "\n",
       "    .dataframe tbody tr th {\n",
       "        vertical-align: top;\n",
       "    }\n",
       "\n",
       "    .dataframe thead th {\n",
       "        text-align: right;\n",
       "    }\n",
       "</style>\n",
       "<table border=\"1\" class=\"dataframe\">\n",
       "  <thead>\n",
       "    <tr style=\"text-align: right;\">\n",
       "      <th></th>\n",
       "      <th>RowNumber</th>\n",
       "      <th>CustomerId</th>\n",
       "      <th>Surname</th>\n",
       "      <th>CreditScore</th>\n",
       "      <th>Geography</th>\n",
       "      <th>Gender</th>\n",
       "      <th>Age</th>\n",
       "      <th>Tenure</th>\n",
       "      <th>Balance</th>\n",
       "      <th>NumOfProducts</th>\n",
       "      <th>HasCrCard</th>\n",
       "      <th>IsActiveMember</th>\n",
       "      <th>EstimatedSalary</th>\n",
       "      <th>Exited</th>\n",
       "    </tr>\n",
       "  </thead>\n",
       "  <tbody>\n",
       "    <tr>\n",
       "      <td>0</td>\n",
       "      <td>1</td>\n",
       "      <td>15634602</td>\n",
       "      <td>Hargrave</td>\n",
       "      <td>619</td>\n",
       "      <td>France</td>\n",
       "      <td>Female</td>\n",
       "      <td>42</td>\n",
       "      <td>2.0</td>\n",
       "      <td>0.00</td>\n",
       "      <td>1</td>\n",
       "      <td>1</td>\n",
       "      <td>1</td>\n",
       "      <td>101348.88</td>\n",
       "      <td>1</td>\n",
       "    </tr>\n",
       "    <tr>\n",
       "      <td>1</td>\n",
       "      <td>2</td>\n",
       "      <td>15647311</td>\n",
       "      <td>Hill</td>\n",
       "      <td>608</td>\n",
       "      <td>Spain</td>\n",
       "      <td>Female</td>\n",
       "      <td>41</td>\n",
       "      <td>1.0</td>\n",
       "      <td>83807.86</td>\n",
       "      <td>1</td>\n",
       "      <td>0</td>\n",
       "      <td>1</td>\n",
       "      <td>112542.58</td>\n",
       "      <td>0</td>\n",
       "    </tr>\n",
       "    <tr>\n",
       "      <td>2</td>\n",
       "      <td>3</td>\n",
       "      <td>15619304</td>\n",
       "      <td>Onio</td>\n",
       "      <td>502</td>\n",
       "      <td>France</td>\n",
       "      <td>Female</td>\n",
       "      <td>42</td>\n",
       "      <td>8.0</td>\n",
       "      <td>159660.80</td>\n",
       "      <td>3</td>\n",
       "      <td>1</td>\n",
       "      <td>0</td>\n",
       "      <td>113931.57</td>\n",
       "      <td>1</td>\n",
       "    </tr>\n",
       "    <tr>\n",
       "      <td>3</td>\n",
       "      <td>4</td>\n",
       "      <td>15701354</td>\n",
       "      <td>Boni</td>\n",
       "      <td>699</td>\n",
       "      <td>France</td>\n",
       "      <td>Female</td>\n",
       "      <td>39</td>\n",
       "      <td>1.0</td>\n",
       "      <td>0.00</td>\n",
       "      <td>2</td>\n",
       "      <td>0</td>\n",
       "      <td>0</td>\n",
       "      <td>93826.63</td>\n",
       "      <td>0</td>\n",
       "    </tr>\n",
       "    <tr>\n",
       "      <td>4</td>\n",
       "      <td>5</td>\n",
       "      <td>15737888</td>\n",
       "      <td>Mitchell</td>\n",
       "      <td>850</td>\n",
       "      <td>Spain</td>\n",
       "      <td>Female</td>\n",
       "      <td>43</td>\n",
       "      <td>2.0</td>\n",
       "      <td>125510.82</td>\n",
       "      <td>1</td>\n",
       "      <td>1</td>\n",
       "      <td>1</td>\n",
       "      <td>79084.10</td>\n",
       "      <td>0</td>\n",
       "    </tr>\n",
       "    <tr>\n",
       "      <td>5</td>\n",
       "      <td>6</td>\n",
       "      <td>15574012</td>\n",
       "      <td>Chu</td>\n",
       "      <td>645</td>\n",
       "      <td>Spain</td>\n",
       "      <td>Male</td>\n",
       "      <td>44</td>\n",
       "      <td>8.0</td>\n",
       "      <td>113755.78</td>\n",
       "      <td>2</td>\n",
       "      <td>1</td>\n",
       "      <td>0</td>\n",
       "      <td>149756.71</td>\n",
       "      <td>1</td>\n",
       "    </tr>\n",
       "    <tr>\n",
       "      <td>6</td>\n",
       "      <td>7</td>\n",
       "      <td>15592531</td>\n",
       "      <td>Bartlett</td>\n",
       "      <td>822</td>\n",
       "      <td>France</td>\n",
       "      <td>Male</td>\n",
       "      <td>50</td>\n",
       "      <td>7.0</td>\n",
       "      <td>0.00</td>\n",
       "      <td>2</td>\n",
       "      <td>1</td>\n",
       "      <td>1</td>\n",
       "      <td>10062.80</td>\n",
       "      <td>0</td>\n",
       "    </tr>\n",
       "    <tr>\n",
       "      <td>7</td>\n",
       "      <td>8</td>\n",
       "      <td>15656148</td>\n",
       "      <td>Obinna</td>\n",
       "      <td>376</td>\n",
       "      <td>Germany</td>\n",
       "      <td>Female</td>\n",
       "      <td>29</td>\n",
       "      <td>4.0</td>\n",
       "      <td>115046.74</td>\n",
       "      <td>4</td>\n",
       "      <td>1</td>\n",
       "      <td>0</td>\n",
       "      <td>119346.88</td>\n",
       "      <td>1</td>\n",
       "    </tr>\n",
       "    <tr>\n",
       "      <td>8</td>\n",
       "      <td>9</td>\n",
       "      <td>15792365</td>\n",
       "      <td>He</td>\n",
       "      <td>501</td>\n",
       "      <td>France</td>\n",
       "      <td>Male</td>\n",
       "      <td>44</td>\n",
       "      <td>4.0</td>\n",
       "      <td>142051.07</td>\n",
       "      <td>2</td>\n",
       "      <td>0</td>\n",
       "      <td>1</td>\n",
       "      <td>74940.50</td>\n",
       "      <td>0</td>\n",
       "    </tr>\n",
       "    <tr>\n",
       "      <td>9</td>\n",
       "      <td>10</td>\n",
       "      <td>15592389</td>\n",
       "      <td>H?</td>\n",
       "      <td>684</td>\n",
       "      <td>France</td>\n",
       "      <td>Male</td>\n",
       "      <td>27</td>\n",
       "      <td>2.0</td>\n",
       "      <td>134603.88</td>\n",
       "      <td>1</td>\n",
       "      <td>1</td>\n",
       "      <td>1</td>\n",
       "      <td>71725.73</td>\n",
       "      <td>0</td>\n",
       "    </tr>\n",
       "  </tbody>\n",
       "</table>\n",
       "</div>"
      ],
      "text/plain": [
       "   RowNumber  CustomerId   Surname  CreditScore Geography  Gender  Age  \\\n",
       "0          1    15634602  Hargrave          619    France  Female   42   \n",
       "1          2    15647311      Hill          608     Spain  Female   41   \n",
       "2          3    15619304      Onio          502    France  Female   42   \n",
       "3          4    15701354      Boni          699    France  Female   39   \n",
       "4          5    15737888  Mitchell          850     Spain  Female   43   \n",
       "5          6    15574012       Chu          645     Spain    Male   44   \n",
       "6          7    15592531  Bartlett          822    France    Male   50   \n",
       "7          8    15656148    Obinna          376   Germany  Female   29   \n",
       "8          9    15792365        He          501    France    Male   44   \n",
       "9         10    15592389        H?          684    France    Male   27   \n",
       "\n",
       "   Tenure    Balance  NumOfProducts  HasCrCard  IsActiveMember  \\\n",
       "0     2.0       0.00              1          1               1   \n",
       "1     1.0   83807.86              1          0               1   \n",
       "2     8.0  159660.80              3          1               0   \n",
       "3     1.0       0.00              2          0               0   \n",
       "4     2.0  125510.82              1          1               1   \n",
       "5     8.0  113755.78              2          1               0   \n",
       "6     7.0       0.00              2          1               1   \n",
       "7     4.0  115046.74              4          1               0   \n",
       "8     4.0  142051.07              2          0               1   \n",
       "9     2.0  134603.88              1          1               1   \n",
       "\n",
       "   EstimatedSalary  Exited  \n",
       "0        101348.88       1  \n",
       "1        112542.58       0  \n",
       "2        113931.57       1  \n",
       "3         93826.63       0  \n",
       "4         79084.10       0  \n",
       "5        149756.71       1  \n",
       "6         10062.80       0  \n",
       "7        119346.88       1  \n",
       "8         74940.50       0  \n",
       "9         71725.73       0  "
      ]
     },
     "metadata": {},
     "output_type": "display_data"
    }
   ],
   "source": [
    "data = pd.read_csv('/datasets/Churn.csv')\n",
    "warnings.filterwarnings('ignore')\n",
    "data.info()\n",
    "display(data.head(10))"
   ]
  },
  {
   "cell_type": "markdown",
   "metadata": {},
   "source": [
    "**Предварительные выводы**\n",
    "1. Неудобные заголовки, требуют замены на маленькие буквы с подчеркиванием между слов.\n",
    "2. Признак \"Tenure\", содержит 809 пропусков. Их необходимо либо удалить, либо заполнить.\n",
    "3. Есть признаки, без которых на первый взгляд таблица станет лучше, так как они никак не влияют на результат - RowNumber, Surname - оба эти признака вполне может заменить один СustomerId. Тем не менее необходимо попробовать обучить модели как с ними так и без них.\n",
    "4. Текстовые категорийные признаки Gender, Geografhy необходимо перевести в цифровой формат. Попробовать разные методы.\n",
    "6. Balance и EstimatedSalary имеют очень широкий диапазон значений и требуют масштабирования.\n",
    "7. Между количественными значениями вероятно нет корреляции, необходим контроль."
   ]
  },
  {
   "cell_type": "code",
   "execution_count": 3,
   "metadata": {
    "scrolled": true
   },
   "outputs": [
    {
     "data": {
      "text/html": [
       "<div>\n",
       "<style scoped>\n",
       "    .dataframe tbody tr th:only-of-type {\n",
       "        vertical-align: middle;\n",
       "    }\n",
       "\n",
       "    .dataframe tbody tr th {\n",
       "        vertical-align: top;\n",
       "    }\n",
       "\n",
       "    .dataframe thead th {\n",
       "        text-align: right;\n",
       "    }\n",
       "</style>\n",
       "<table border=\"1\" class=\"dataframe\">\n",
       "  <thead>\n",
       "    <tr style=\"text-align: right;\">\n",
       "      <th></th>\n",
       "      <th>row_number</th>\n",
       "      <th>customer_id</th>\n",
       "      <th>surname</th>\n",
       "      <th>credit_score</th>\n",
       "      <th>geography</th>\n",
       "      <th>gender</th>\n",
       "      <th>age</th>\n",
       "      <th>tenure</th>\n",
       "      <th>balance</th>\n",
       "      <th>num_of_products</th>\n",
       "      <th>has_cr_card</th>\n",
       "      <th>is_active_member</th>\n",
       "      <th>estimated_salary</th>\n",
       "      <th>exited</th>\n",
       "    </tr>\n",
       "  </thead>\n",
       "  <tbody>\n",
       "    <tr>\n",
       "      <td>0</td>\n",
       "      <td>1</td>\n",
       "      <td>15634602</td>\n",
       "      <td>Hargrave</td>\n",
       "      <td>619</td>\n",
       "      <td>France</td>\n",
       "      <td>Female</td>\n",
       "      <td>42</td>\n",
       "      <td>2.0</td>\n",
       "      <td>0.0</td>\n",
       "      <td>1</td>\n",
       "      <td>1</td>\n",
       "      <td>1</td>\n",
       "      <td>101348.88</td>\n",
       "      <td>1</td>\n",
       "    </tr>\n",
       "  </tbody>\n",
       "</table>\n",
       "</div>"
      ],
      "text/plain": [
       "   row_number  customer_id   surname  credit_score geography  gender  age  \\\n",
       "0           1     15634602  Hargrave           619    France  Female   42   \n",
       "\n",
       "   tenure  balance  num_of_products  has_cr_card  is_active_member  \\\n",
       "0     2.0      0.0                1            1                 1   \n",
       "\n",
       "   estimated_salary  exited  \n",
       "0         101348.88       1  "
      ]
     },
     "metadata": {},
     "output_type": "display_data"
    }
   ],
   "source": [
    "# меняем заголовки\n",
    "data = data.rename(columns={'CreditScore':'credit_score', 'Geography':'geography', 'Gender':'gender',\n",
    "                           'Age':'age', 'Tenure':'tenure', 'Balance':'balance', 'NumOfProducts':'num_of_products',\n",
    "                            'HasCrCard':'has_cr_card','IsActiveMember':'is_active_member', 'EstimatedSalary':'estimated_salary',\n",
    "                            'Exited':'exited','RowNumber':'row_number','CustomerId':'customer_id','Surname':'surname'})\n",
    "\n",
    "display(data.head(1))"
   ]
  },
  {
   "cell_type": "markdown",
   "metadata": {},
   "source": [
    "**Комментарий** При удалении строк с пропусками в Tenure, метрики ухудшаются, и вообще при любом простом уменьшении количества объектов в обучаемой модели метрики ухудшаются. Например, если предложеные данные разделить только на обучающую и валидирующие выборки, то с первой попытки при неглубоких гиперпараметрах получается метрика F1 больше 0.59, но стоит отделить \"кусочек\" для тестирования, эта метрика, на меньших количества обучающих объектов резко ухудшается. \n",
    "Поэтому Tenure заменяем. Первый вариант замены был основан на том, что клиенты в банке заводились последоватедльно, а значит customer_id им присваливался по очереди их регистрации в банке, а значить пропущенный tenure можно было легко установить по ближайшим customer_id, к сожалению это оказалось не так. Более грубый вариант, основан на предположении, что более возрастной клиент имеет соответственно и дольшую историю в банке и люди одного возраста будут иметь сходную по длительности историю в банке. Поэтому можно установить пропущенные значения как среднее значение tenure в возрастной группе, или медиану. Это решение и реализовано."
   ]
  },
  {
   "cell_type": "code",
   "execution_count": 4,
   "metadata": {},
   "outputs": [
    {
     "name": "stdout",
     "output_type": "stream",
     "text": [
      "<class 'pandas.core.frame.DataFrame'>\n",
      "RangeIndex: 10000 entries, 0 to 9999\n",
      "Data columns (total 14 columns):\n",
      "row_number          10000 non-null int64\n",
      "customer_id         10000 non-null int64\n",
      "surname             10000 non-null object\n",
      "credit_score        10000 non-null int64\n",
      "geography           10000 non-null object\n",
      "gender              10000 non-null object\n",
      "age                 10000 non-null int64\n",
      "tenure              10000 non-null float64\n",
      "balance             10000 non-null float64\n",
      "num_of_products     10000 non-null int64\n",
      "has_cr_card         10000 non-null int64\n",
      "is_active_member    10000 non-null int64\n",
      "estimated_salary    10000 non-null float64\n",
      "exited              10000 non-null int64\n",
      "dtypes: float64(3), int64(8), object(3)\n",
      "memory usage: 1.1+ MB\n"
     ]
    }
   ],
   "source": [
    "# избавляемся от пропусков tenure\n",
    "# формируем словарь dic_tenure средних tenure по возрасту \n",
    "dic_tenure = data.groupby('age')['tenure'].mean()\n",
    "#dic_tenure = data.groupby('age')['tenure'].median()\n",
    "\n",
    "# функция возвращает среднюю величину tenure из словаря dic_tenure, кторый виден для нее как глобальная переменная\n",
    "def mean_tenure(row):\n",
    "    return dic_tenure[row['age']]\n",
    "\n",
    "#заменяем  nan на среднее по возрасту\n",
    "data['tenure'] = data['tenure'].fillna(data.apply(mean_tenure, axis=1))\n",
    "data.info()"
   ]
  },
  {
   "cell_type": "markdown",
   "metadata": {},
   "source": [
    "**Комментарий** Перевод текстовых признаков в численные методом прямого кодирования OHE  хорошо отработает только в колонке gender и geography (так как было всего три страны). Признак surname имеет большое количество значений и этот метод очень сильно увеличивает количество столбцов и значительно замедляет работу. Забегая вперед, отмечу, что получаемые метрики с ним оказались плохими при таком методе кодирования. Возможно хорошим был бы результат, когда gender кодируется прямым методом, а surname порядковым. Поэтому при использовании OHE - признак surname удаляем."
   ]
  },
  {
   "cell_type": "code",
   "execution_count": 5,
   "metadata": {},
   "outputs": [
    {
     "data": {
      "text/html": [
       "<div>\n",
       "<style scoped>\n",
       "    .dataframe tbody tr th:only-of-type {\n",
       "        vertical-align: middle;\n",
       "    }\n",
       "\n",
       "    .dataframe tbody tr th {\n",
       "        vertical-align: top;\n",
       "    }\n",
       "\n",
       "    .dataframe thead th {\n",
       "        text-align: right;\n",
       "    }\n",
       "</style>\n",
       "<table border=\"1\" class=\"dataframe\">\n",
       "  <thead>\n",
       "    <tr style=\"text-align: right;\">\n",
       "      <th></th>\n",
       "      <th>row_number</th>\n",
       "      <th>customer_id</th>\n",
       "      <th>credit_score</th>\n",
       "      <th>age</th>\n",
       "      <th>tenure</th>\n",
       "      <th>balance</th>\n",
       "      <th>num_of_products</th>\n",
       "      <th>has_cr_card</th>\n",
       "      <th>is_active_member</th>\n",
       "      <th>estimated_salary</th>\n",
       "      <th>exited</th>\n",
       "      <th>geography_Germany</th>\n",
       "      <th>geography_Spain</th>\n",
       "      <th>gender_Male</th>\n",
       "    </tr>\n",
       "  </thead>\n",
       "  <tbody>\n",
       "    <tr>\n",
       "      <td>0</td>\n",
       "      <td>1</td>\n",
       "      <td>15634602</td>\n",
       "      <td>619</td>\n",
       "      <td>42</td>\n",
       "      <td>2.0</td>\n",
       "      <td>0.00</td>\n",
       "      <td>1</td>\n",
       "      <td>1</td>\n",
       "      <td>1</td>\n",
       "      <td>101348.88</td>\n",
       "      <td>1</td>\n",
       "      <td>0</td>\n",
       "      <td>0</td>\n",
       "      <td>0</td>\n",
       "    </tr>\n",
       "    <tr>\n",
       "      <td>1</td>\n",
       "      <td>2</td>\n",
       "      <td>15647311</td>\n",
       "      <td>608</td>\n",
       "      <td>41</td>\n",
       "      <td>1.0</td>\n",
       "      <td>83807.86</td>\n",
       "      <td>1</td>\n",
       "      <td>0</td>\n",
       "      <td>1</td>\n",
       "      <td>112542.58</td>\n",
       "      <td>0</td>\n",
       "      <td>0</td>\n",
       "      <td>1</td>\n",
       "      <td>0</td>\n",
       "    </tr>\n",
       "    <tr>\n",
       "      <td>2</td>\n",
       "      <td>3</td>\n",
       "      <td>15619304</td>\n",
       "      <td>502</td>\n",
       "      <td>42</td>\n",
       "      <td>8.0</td>\n",
       "      <td>159660.80</td>\n",
       "      <td>3</td>\n",
       "      <td>1</td>\n",
       "      <td>0</td>\n",
       "      <td>113931.57</td>\n",
       "      <td>1</td>\n",
       "      <td>0</td>\n",
       "      <td>0</td>\n",
       "      <td>0</td>\n",
       "    </tr>\n",
       "    <tr>\n",
       "      <td>3</td>\n",
       "      <td>4</td>\n",
       "      <td>15701354</td>\n",
       "      <td>699</td>\n",
       "      <td>39</td>\n",
       "      <td>1.0</td>\n",
       "      <td>0.00</td>\n",
       "      <td>2</td>\n",
       "      <td>0</td>\n",
       "      <td>0</td>\n",
       "      <td>93826.63</td>\n",
       "      <td>0</td>\n",
       "      <td>0</td>\n",
       "      <td>0</td>\n",
       "      <td>0</td>\n",
       "    </tr>\n",
       "    <tr>\n",
       "      <td>4</td>\n",
       "      <td>5</td>\n",
       "      <td>15737888</td>\n",
       "      <td>850</td>\n",
       "      <td>43</td>\n",
       "      <td>2.0</td>\n",
       "      <td>125510.82</td>\n",
       "      <td>1</td>\n",
       "      <td>1</td>\n",
       "      <td>1</td>\n",
       "      <td>79084.10</td>\n",
       "      <td>0</td>\n",
       "      <td>0</td>\n",
       "      <td>1</td>\n",
       "      <td>0</td>\n",
       "    </tr>\n",
       "  </tbody>\n",
       "</table>\n",
       "</div>"
      ],
      "text/plain": [
       "   row_number  customer_id  credit_score  age  tenure    balance  \\\n",
       "0           1     15634602           619   42     2.0       0.00   \n",
       "1           2     15647311           608   41     1.0   83807.86   \n",
       "2           3     15619304           502   42     8.0  159660.80   \n",
       "3           4     15701354           699   39     1.0       0.00   \n",
       "4           5     15737888           850   43     2.0  125510.82   \n",
       "\n",
       "   num_of_products  has_cr_card  is_active_member  estimated_salary  exited  \\\n",
       "0                1            1                 1         101348.88       1   \n",
       "1                1            0                 1         112542.58       0   \n",
       "2                3            1                 0         113931.57       1   \n",
       "3                2            0                 0          93826.63       0   \n",
       "4                1            1                 1          79084.10       0   \n",
       "\n",
       "   geography_Germany  geography_Spain  gender_Male  \n",
       "0                  0                0            0  \n",
       "1                  0                1            0  \n",
       "2                  0                0            0  \n",
       "3                  0                0            0  \n",
       "4                  0                1            0  "
      ]
     },
     "metadata": {},
     "output_type": "display_data"
    }
   ],
   "source": [
    "# переводим категориальные данные в индексы с удалением зависимых колонок метод OHE\n",
    "# предварительно удалим колонку surname иначе она сильно замедлит процесс обучения и дает неадекватный результат.\n",
    "# data = data.drop(['surname','row_number','customer_id'], axis=1) # вариант с удаление не значащих параметров\n",
    "data = data.drop('surname', axis=1)\n",
    "df = pd.get_dummies(data, drop_first=True)\n",
    "display(df.head(5))"
   ]
  },
  {
   "cell_type": "markdown",
   "metadata": {},
   "source": [
    "**Комментарии** Порядковое кодирование категориальных параметров также дает хороший результат для алгоритмов решающего дерева и случайного леса, при этом столбец surname лучше не удалять, это дает большие значения метрики F1. Но что бы не раздувать проект, оставимся на одном способе. Тем не менее код я не удалял, а только закомментировал, что бы обозначить возможность и отличительные особенности."
   ]
  },
  {
   "cell_type": "markdown",
   "metadata": {},
   "source": [
    "**Комментарий** Линейных корреляций не обнаружено, предполагаем отсутствие мультиколлинеарности."
   ]
  },
  {
   "cell_type": "code",
   "execution_count": 7,
   "metadata": {},
   "outputs": [
    {
     "data": {
      "text/html": [
       "<div>\n",
       "<style scoped>\n",
       "    .dataframe tbody tr th:only-of-type {\n",
       "        vertical-align: middle;\n",
       "    }\n",
       "\n",
       "    .dataframe tbody tr th {\n",
       "        vertical-align: top;\n",
       "    }\n",
       "\n",
       "    .dataframe thead th {\n",
       "        text-align: right;\n",
       "    }\n",
       "</style>\n",
       "<table border=\"1\" class=\"dataframe\">\n",
       "  <thead>\n",
       "    <tr style=\"text-align: right;\">\n",
       "      <th></th>\n",
       "      <th>row_number</th>\n",
       "      <th>customer_id</th>\n",
       "      <th>credit_score</th>\n",
       "      <th>age</th>\n",
       "      <th>tenure</th>\n",
       "      <th>balance</th>\n",
       "      <th>num_of_products</th>\n",
       "      <th>has_cr_card</th>\n",
       "      <th>is_active_member</th>\n",
       "      <th>estimated_salary</th>\n",
       "      <th>exited</th>\n",
       "      <th>geography_Germany</th>\n",
       "      <th>geography_Spain</th>\n",
       "      <th>gender_Male</th>\n",
       "    </tr>\n",
       "  </thead>\n",
       "  <tbody>\n",
       "    <tr>\n",
       "      <td>row_number</td>\n",
       "      <td>1.000000</td>\n",
       "      <td>0.004202</td>\n",
       "      <td>0.005840</td>\n",
       "      <td>0.000783</td>\n",
       "      <td>-0.006435</td>\n",
       "      <td>-0.009067</td>\n",
       "      <td>0.007246</td>\n",
       "      <td>0.000599</td>\n",
       "      <td>0.012044</td>\n",
       "      <td>-0.005988</td>\n",
       "      <td>-0.016571</td>\n",
       "      <td>-0.000044</td>\n",
       "      <td>-0.009905</td>\n",
       "      <td>0.018196</td>\n",
       "    </tr>\n",
       "    <tr>\n",
       "      <td>customer_id</td>\n",
       "      <td>0.004202</td>\n",
       "      <td>1.000000</td>\n",
       "      <td>0.005308</td>\n",
       "      <td>0.009497</td>\n",
       "      <td>-0.020562</td>\n",
       "      <td>-0.012419</td>\n",
       "      <td>0.016972</td>\n",
       "      <td>-0.014025</td>\n",
       "      <td>0.001665</td>\n",
       "      <td>0.015271</td>\n",
       "      <td>-0.006248</td>\n",
       "      <td>-0.003097</td>\n",
       "      <td>0.007800</td>\n",
       "      <td>-0.002641</td>\n",
       "    </tr>\n",
       "    <tr>\n",
       "      <td>credit_score</td>\n",
       "      <td>0.005840</td>\n",
       "      <td>0.005308</td>\n",
       "      <td>1.000000</td>\n",
       "      <td>-0.003965</td>\n",
       "      <td>-0.000370</td>\n",
       "      <td>0.006268</td>\n",
       "      <td>0.012238</td>\n",
       "      <td>-0.005458</td>\n",
       "      <td>0.025651</td>\n",
       "      <td>-0.001384</td>\n",
       "      <td>-0.027094</td>\n",
       "      <td>0.005538</td>\n",
       "      <td>0.004780</td>\n",
       "      <td>-0.002857</td>\n",
       "    </tr>\n",
       "    <tr>\n",
       "      <td>age</td>\n",
       "      <td>0.000783</td>\n",
       "      <td>0.009497</td>\n",
       "      <td>-0.003965</td>\n",
       "      <td>1.000000</td>\n",
       "      <td>-0.014779</td>\n",
       "      <td>0.028308</td>\n",
       "      <td>-0.030680</td>\n",
       "      <td>-0.011721</td>\n",
       "      <td>0.085472</td>\n",
       "      <td>-0.007201</td>\n",
       "      <td>0.285323</td>\n",
       "      <td>0.046897</td>\n",
       "      <td>-0.001685</td>\n",
       "      <td>-0.027544</td>\n",
       "    </tr>\n",
       "    <tr>\n",
       "      <td>tenure</td>\n",
       "      <td>-0.006435</td>\n",
       "      <td>-0.020562</td>\n",
       "      <td>-0.000370</td>\n",
       "      <td>-0.014779</td>\n",
       "      <td>1.000000</td>\n",
       "      <td>-0.007584</td>\n",
       "      <td>0.011474</td>\n",
       "      <td>0.026221</td>\n",
       "      <td>-0.031111</td>\n",
       "      <td>0.009750</td>\n",
       "      <td>-0.015964</td>\n",
       "      <td>-0.003149</td>\n",
       "      <td>0.000664</td>\n",
       "      <td>0.012290</td>\n",
       "    </tr>\n",
       "    <tr>\n",
       "      <td>balance</td>\n",
       "      <td>-0.009067</td>\n",
       "      <td>-0.012419</td>\n",
       "      <td>0.006268</td>\n",
       "      <td>0.028308</td>\n",
       "      <td>-0.007584</td>\n",
       "      <td>1.000000</td>\n",
       "      <td>-0.304180</td>\n",
       "      <td>-0.014858</td>\n",
       "      <td>-0.010084</td>\n",
       "      <td>0.012797</td>\n",
       "      <td>0.118533</td>\n",
       "      <td>0.401110</td>\n",
       "      <td>-0.134892</td>\n",
       "      <td>0.012087</td>\n",
       "    </tr>\n",
       "    <tr>\n",
       "      <td>num_of_products</td>\n",
       "      <td>0.007246</td>\n",
       "      <td>0.016972</td>\n",
       "      <td>0.012238</td>\n",
       "      <td>-0.030680</td>\n",
       "      <td>0.011474</td>\n",
       "      <td>-0.304180</td>\n",
       "      <td>1.000000</td>\n",
       "      <td>0.003183</td>\n",
       "      <td>0.009612</td>\n",
       "      <td>0.014204</td>\n",
       "      <td>-0.047820</td>\n",
       "      <td>-0.010419</td>\n",
       "      <td>0.009039</td>\n",
       "      <td>-0.021859</td>\n",
       "    </tr>\n",
       "    <tr>\n",
       "      <td>has_cr_card</td>\n",
       "      <td>0.000599</td>\n",
       "      <td>-0.014025</td>\n",
       "      <td>-0.005458</td>\n",
       "      <td>-0.011721</td>\n",
       "      <td>0.026221</td>\n",
       "      <td>-0.014858</td>\n",
       "      <td>0.003183</td>\n",
       "      <td>1.000000</td>\n",
       "      <td>-0.011866</td>\n",
       "      <td>-0.009933</td>\n",
       "      <td>-0.007138</td>\n",
       "      <td>0.010577</td>\n",
       "      <td>-0.013480</td>\n",
       "      <td>0.005766</td>\n",
       "    </tr>\n",
       "    <tr>\n",
       "      <td>is_active_member</td>\n",
       "      <td>0.012044</td>\n",
       "      <td>0.001665</td>\n",
       "      <td>0.025651</td>\n",
       "      <td>0.085472</td>\n",
       "      <td>-0.031111</td>\n",
       "      <td>-0.010084</td>\n",
       "      <td>0.009612</td>\n",
       "      <td>-0.011866</td>\n",
       "      <td>1.000000</td>\n",
       "      <td>-0.011421</td>\n",
       "      <td>-0.156128</td>\n",
       "      <td>-0.020486</td>\n",
       "      <td>0.016732</td>\n",
       "      <td>0.022544</td>\n",
       "    </tr>\n",
       "    <tr>\n",
       "      <td>estimated_salary</td>\n",
       "      <td>-0.005988</td>\n",
       "      <td>0.015271</td>\n",
       "      <td>-0.001384</td>\n",
       "      <td>-0.007201</td>\n",
       "      <td>0.009750</td>\n",
       "      <td>0.012797</td>\n",
       "      <td>0.014204</td>\n",
       "      <td>-0.009933</td>\n",
       "      <td>-0.011421</td>\n",
       "      <td>1.000000</td>\n",
       "      <td>0.012097</td>\n",
       "      <td>0.010297</td>\n",
       "      <td>-0.006482</td>\n",
       "      <td>-0.008112</td>\n",
       "    </tr>\n",
       "    <tr>\n",
       "      <td>exited</td>\n",
       "      <td>-0.016571</td>\n",
       "      <td>-0.006248</td>\n",
       "      <td>-0.027094</td>\n",
       "      <td>0.285323</td>\n",
       "      <td>-0.015964</td>\n",
       "      <td>0.118533</td>\n",
       "      <td>-0.047820</td>\n",
       "      <td>-0.007138</td>\n",
       "      <td>-0.156128</td>\n",
       "      <td>0.012097</td>\n",
       "      <td>1.000000</td>\n",
       "      <td>0.173488</td>\n",
       "      <td>-0.052667</td>\n",
       "      <td>-0.106512</td>\n",
       "    </tr>\n",
       "    <tr>\n",
       "      <td>geography_Germany</td>\n",
       "      <td>-0.000044</td>\n",
       "      <td>-0.003097</td>\n",
       "      <td>0.005538</td>\n",
       "      <td>0.046897</td>\n",
       "      <td>-0.003149</td>\n",
       "      <td>0.401110</td>\n",
       "      <td>-0.010419</td>\n",
       "      <td>0.010577</td>\n",
       "      <td>-0.020486</td>\n",
       "      <td>0.010297</td>\n",
       "      <td>0.173488</td>\n",
       "      <td>1.000000</td>\n",
       "      <td>-0.332084</td>\n",
       "      <td>-0.024628</td>\n",
       "    </tr>\n",
       "    <tr>\n",
       "      <td>geography_Spain</td>\n",
       "      <td>-0.009905</td>\n",
       "      <td>0.007800</td>\n",
       "      <td>0.004780</td>\n",
       "      <td>-0.001685</td>\n",
       "      <td>0.000664</td>\n",
       "      <td>-0.134892</td>\n",
       "      <td>0.009039</td>\n",
       "      <td>-0.013480</td>\n",
       "      <td>0.016732</td>\n",
       "      <td>-0.006482</td>\n",
       "      <td>-0.052667</td>\n",
       "      <td>-0.332084</td>\n",
       "      <td>1.000000</td>\n",
       "      <td>0.016889</td>\n",
       "    </tr>\n",
       "    <tr>\n",
       "      <td>gender_Male</td>\n",
       "      <td>0.018196</td>\n",
       "      <td>-0.002641</td>\n",
       "      <td>-0.002857</td>\n",
       "      <td>-0.027544</td>\n",
       "      <td>0.012290</td>\n",
       "      <td>0.012087</td>\n",
       "      <td>-0.021859</td>\n",
       "      <td>0.005766</td>\n",
       "      <td>0.022544</td>\n",
       "      <td>-0.008112</td>\n",
       "      <td>-0.106512</td>\n",
       "      <td>-0.024628</td>\n",
       "      <td>0.016889</td>\n",
       "      <td>1.000000</td>\n",
       "    </tr>\n",
       "  </tbody>\n",
       "</table>\n",
       "</div>"
      ],
      "text/plain": [
       "                   row_number  customer_id  credit_score       age    tenure  \\\n",
       "row_number           1.000000     0.004202      0.005840  0.000783 -0.006435   \n",
       "customer_id          0.004202     1.000000      0.005308  0.009497 -0.020562   \n",
       "credit_score         0.005840     0.005308      1.000000 -0.003965 -0.000370   \n",
       "age                  0.000783     0.009497     -0.003965  1.000000 -0.014779   \n",
       "tenure              -0.006435    -0.020562     -0.000370 -0.014779  1.000000   \n",
       "balance             -0.009067    -0.012419      0.006268  0.028308 -0.007584   \n",
       "num_of_products      0.007246     0.016972      0.012238 -0.030680  0.011474   \n",
       "has_cr_card          0.000599    -0.014025     -0.005458 -0.011721  0.026221   \n",
       "is_active_member     0.012044     0.001665      0.025651  0.085472 -0.031111   \n",
       "estimated_salary    -0.005988     0.015271     -0.001384 -0.007201  0.009750   \n",
       "exited              -0.016571    -0.006248     -0.027094  0.285323 -0.015964   \n",
       "geography_Germany   -0.000044    -0.003097      0.005538  0.046897 -0.003149   \n",
       "geography_Spain     -0.009905     0.007800      0.004780 -0.001685  0.000664   \n",
       "gender_Male          0.018196    -0.002641     -0.002857 -0.027544  0.012290   \n",
       "\n",
       "                    balance  num_of_products  has_cr_card  is_active_member  \\\n",
       "row_number        -0.009067         0.007246     0.000599          0.012044   \n",
       "customer_id       -0.012419         0.016972    -0.014025          0.001665   \n",
       "credit_score       0.006268         0.012238    -0.005458          0.025651   \n",
       "age                0.028308        -0.030680    -0.011721          0.085472   \n",
       "tenure            -0.007584         0.011474     0.026221         -0.031111   \n",
       "balance            1.000000        -0.304180    -0.014858         -0.010084   \n",
       "num_of_products   -0.304180         1.000000     0.003183          0.009612   \n",
       "has_cr_card       -0.014858         0.003183     1.000000         -0.011866   \n",
       "is_active_member  -0.010084         0.009612    -0.011866          1.000000   \n",
       "estimated_salary   0.012797         0.014204    -0.009933         -0.011421   \n",
       "exited             0.118533        -0.047820    -0.007138         -0.156128   \n",
       "geography_Germany  0.401110        -0.010419     0.010577         -0.020486   \n",
       "geography_Spain   -0.134892         0.009039    -0.013480          0.016732   \n",
       "gender_Male        0.012087        -0.021859     0.005766          0.022544   \n",
       "\n",
       "                   estimated_salary    exited  geography_Germany  \\\n",
       "row_number                -0.005988 -0.016571          -0.000044   \n",
       "customer_id                0.015271 -0.006248          -0.003097   \n",
       "credit_score              -0.001384 -0.027094           0.005538   \n",
       "age                       -0.007201  0.285323           0.046897   \n",
       "tenure                     0.009750 -0.015964          -0.003149   \n",
       "balance                    0.012797  0.118533           0.401110   \n",
       "num_of_products            0.014204 -0.047820          -0.010419   \n",
       "has_cr_card               -0.009933 -0.007138           0.010577   \n",
       "is_active_member          -0.011421 -0.156128          -0.020486   \n",
       "estimated_salary           1.000000  0.012097           0.010297   \n",
       "exited                     0.012097  1.000000           0.173488   \n",
       "geography_Germany          0.010297  0.173488           1.000000   \n",
       "geography_Spain           -0.006482 -0.052667          -0.332084   \n",
       "gender_Male               -0.008112 -0.106512          -0.024628   \n",
       "\n",
       "                   geography_Spain  gender_Male  \n",
       "row_number               -0.009905     0.018196  \n",
       "customer_id               0.007800    -0.002641  \n",
       "credit_score              0.004780    -0.002857  \n",
       "age                      -0.001685    -0.027544  \n",
       "tenure                    0.000664     0.012290  \n",
       "balance                  -0.134892     0.012087  \n",
       "num_of_products           0.009039    -0.021859  \n",
       "has_cr_card              -0.013480     0.005766  \n",
       "is_active_member          0.016732     0.022544  \n",
       "estimated_salary         -0.006482    -0.008112  \n",
       "exited                   -0.052667    -0.106512  \n",
       "geography_Germany        -0.332084    -0.024628  \n",
       "geography_Spain           1.000000     0.016889  \n",
       "gender_Male               0.016889     1.000000  "
      ]
     },
     "metadata": {},
     "output_type": "display_data"
    }
   ],
   "source": [
    "display(df.corr())"
   ]
  },
  {
   "cell_type": "markdown",
   "metadata": {},
   "source": [
    "**Комментарий** В списке numeric сразу определяем признаки для масштабирования. "
   ]
  },
  {
   "cell_type": "code",
   "execution_count": 8,
   "metadata": {},
   "outputs": [],
   "source": [
    "# с методом OHE применяем такой список для масштабирования дал лучший результат в финале\n",
    "#numeric = ['balance', 'credit_score', 'estimated_salary','age','tenure'] # урезанный список, если удалять колонки row_number и customer_id\n",
    "numeric = ['row_number','balance', 'credit_score', 'estimated_salary', 'customer_id','age','tenure']"
   ]
  },
  {
   "cell_type": "markdown",
   "metadata": {},
   "source": [
    "**Комментарий** Разбиваем выборки на учебную, валидационную и тестовую 60-20-20 . Как оказалось порядок разбития сильно влияет на полученные метрики. Возможно это особенность гиперпараметра random_state. При 12345 и test_size 0.2 и 0.25 соответственно, я ни при каком балансировании, и изменении глубин методов не смог приблизиться к величине F1=0.59, зато стоило мне изменить очередность разбития базового датафрейма и указать теst_size 0.2 и 0.75, как сразу получил нужный результат. Шаманство какое то. Ведь суть не меняется, разбитие данных по выборкам всё равно остается 60-20-20 !!! Получается, что оно делается не случаным образом ....."
   ]
  },
  {
   "cell_type": "code",
   "execution_count": 9,
   "metadata": {},
   "outputs": [
    {
     "name": "stdout",
     "output_type": "stream",
     "text": [
      "размер обучающей выборки : (6000, 13)  целевых признаков: (6000,)\n",
      "размер валидационной выборки : (2000, 13)  целевых признаков: (2000,)\n",
      "размер тестовой выборки : (2000, 13)  целевых признаков: (2000,)\n"
     ]
    }
   ],
   "source": [
    "## Отделяем признаки от целевого \n",
    "target = df['exited']\n",
    "features = df.drop('exited', axis=1)\n",
    "\n",
    "#Разделяем объекты на 3 части 60% (6000 объектов) обучающий набор данных и по 20% (2000 объекта) валидационный и тестовый\n",
    "features_train, features_valid, target_train, target_valid = train_test_split(features, target, test_size=0.2, random_state=12345)\n",
    "features_test, features_train, target_test, target_train = train_test_split(features_train, target_train, test_size=0.75, random_state=12345) \n",
    "\n",
    "print('размер обучающей выборки :', features_train.shape,' целевых признаков:', target_train.shape)\n",
    "print('размер валидационной выборки :', features_valid.shape,' целевых признаков:', target_valid.shape)\n",
    "print('размер тестовой выборки :', features_test.shape,' целевых признаков:', target_test.shape)"
   ]
  },
  {
   "cell_type": "markdown",
   "metadata": {},
   "source": [
    "**Комментарий** Масштабирование выделиляем в отдельную функцию, так как приходится много раз ее \"включать\" и выключать в процессе подбора параметров моделей."
   ]
  },
  {
   "cell_type": "code",
   "execution_count": 10,
   "metadata": {},
   "outputs": [
    {
     "data": {
      "text/html": [
       "<div>\n",
       "<style scoped>\n",
       "    .dataframe tbody tr th:only-of-type {\n",
       "        vertical-align: middle;\n",
       "    }\n",
       "\n",
       "    .dataframe tbody tr th {\n",
       "        vertical-align: top;\n",
       "    }\n",
       "\n",
       "    .dataframe thead th {\n",
       "        text-align: right;\n",
       "    }\n",
       "</style>\n",
       "<table border=\"1\" class=\"dataframe\">\n",
       "  <thead>\n",
       "    <tr style=\"text-align: right;\">\n",
       "      <th></th>\n",
       "      <th>row_number</th>\n",
       "      <th>customer_id</th>\n",
       "      <th>credit_score</th>\n",
       "      <th>age</th>\n",
       "      <th>tenure</th>\n",
       "      <th>balance</th>\n",
       "      <th>num_of_products</th>\n",
       "      <th>has_cr_card</th>\n",
       "      <th>is_active_member</th>\n",
       "      <th>estimated_salary</th>\n",
       "      <th>geography_Germany</th>\n",
       "      <th>geography_Spain</th>\n",
       "      <th>gender_Male</th>\n",
       "    </tr>\n",
       "  </thead>\n",
       "  <tbody>\n",
       "    <tr>\n",
       "      <td>2358</td>\n",
       "      <td>-0.907816</td>\n",
       "      <td>-0.362539</td>\n",
       "      <td>0.192115</td>\n",
       "      <td>0.379225</td>\n",
       "      <td>-1.452796</td>\n",
       "      <td>1.395338</td>\n",
       "      <td>1</td>\n",
       "      <td>0</td>\n",
       "      <td>1</td>\n",
       "      <td>-1.469589</td>\n",
       "      <td>0</td>\n",
       "      <td>0</td>\n",
       "      <td>1</td>\n",
       "    </tr>\n",
       "    <tr>\n",
       "      <td>8463</td>\n",
       "      <td>1.201789</td>\n",
       "      <td>-0.422088</td>\n",
       "      <td>-1.293791</td>\n",
       "      <td>0.946739</td>\n",
       "      <td>-1.089830</td>\n",
       "      <td>-1.220081</td>\n",
       "      <td>1</td>\n",
       "      <td>1</td>\n",
       "      <td>0</td>\n",
       "      <td>0.243225</td>\n",
       "      <td>0</td>\n",
       "      <td>1</td>\n",
       "      <td>1</td>\n",
       "    </tr>\n",
       "    <tr>\n",
       "      <td>163</td>\n",
       "      <td>-1.666306</td>\n",
       "      <td>-0.148993</td>\n",
       "      <td>0.732444</td>\n",
       "      <td>-0.282874</td>\n",
       "      <td>-1.089830</td>\n",
       "      <td>-1.220081</td>\n",
       "      <td>2</td>\n",
       "      <td>1</td>\n",
       "      <td>1</td>\n",
       "      <td>0.112313</td>\n",
       "      <td>0</td>\n",
       "      <td>1</td>\n",
       "      <td>0</td>\n",
       "    </tr>\n",
       "  </tbody>\n",
       "</table>\n",
       "</div>"
      ],
      "text/plain": [
       "      row_number  customer_id  credit_score       age    tenure   balance  \\\n",
       "2358   -0.907816    -0.362539      0.192115  0.379225 -1.452796  1.395338   \n",
       "8463    1.201789    -0.422088     -1.293791  0.946739 -1.089830 -1.220081   \n",
       "163    -1.666306    -0.148993      0.732444 -0.282874 -1.089830 -1.220081   \n",
       "\n",
       "      num_of_products  has_cr_card  is_active_member  estimated_salary  \\\n",
       "2358                1            0                 1         -1.469589   \n",
       "8463                1            1                 0          0.243225   \n",
       "163                 2            1                 1          0.112313   \n",
       "\n",
       "      geography_Germany  geography_Spain  gender_Male  \n",
       "2358                  0                0            1  \n",
       "8463                  0                1            1  \n",
       "163                   0                1            0  "
      ]
     },
     "metadata": {},
     "output_type": "display_data"
    }
   ],
   "source": [
    "# масштабируем числовые колонки из ранее определенного списка numeric.\n",
    "\n",
    "def scaler_on(column):\n",
    "    scaler = StandardScaler()\n",
    "    scaler.fit(features_train[column]) \n",
    "    pd.options.mode.chained_assignment = None\n",
    "    features_train[column] = scaler.transform(features_train[column])\n",
    "    features_valid[column] = scaler.transform(features_valid[column])\n",
    "    features_test[column] = scaler.transform(features_test[column])\n",
    "    \n",
    "scaler_on(numeric)\n",
    "display(features_train.head(3))"
   ]
  },
  {
   "cell_type": "markdown",
   "metadata": {},
   "source": [
    "**ВЫВОД** Данные подготовлены для работы"
   ]
  },
  {
   "cell_type": "markdown",
   "metadata": {},
   "source": [
    "## Исследование задачи"
   ]
  },
  {
   "cell_type": "markdown",
   "metadata": {},
   "source": [
    "**Комментарий** Дисбаланс в сторону отрицательного класса 4 к 1"
   ]
  },
  {
   "cell_type": "code",
   "execution_count": 11,
   "metadata": {},
   "outputs": [
    {
     "name": "stdout",
     "output_type": "stream",
     "text": [
      "класс 0 доля:  0.80  класс 1 доля:  0.20 \n"
     ]
    }
   ],
   "source": [
    "# баланс класов у целевого признака exited\n",
    "print('класс 0 доля:  {:.2f}  класс 1 доля:  {:.2f} '.format(target_train[target_train==0].count()/len(target_train),target_train[target_train==1].count()/len(target_train)))"
   ]
  },
  {
   "cell_type": "markdown",
   "metadata": {},
   "source": [
    "**Комментарий** Выносим в отдельную функцию расчет и печать метрик. Это сильно сократит код а двльнейшем."
   ]
  },
  {
   "cell_type": "code",
   "execution_count": 12,
   "metadata": {},
   "outputs": [],
   "source": [
    "# создаем отдельную функцию print_score для печати метрик\n",
    "# model - аргумент, обученная модель\n",
    "# is_valid - параметр, переключает расчет на валидационную и тестовую выборки, по умолчанию True\n",
    "# auc_roc_on - параметр, включает/выключает расчет и печать соответствующей метрики, по умолчанию False\n",
    "# функция считает и печатает метрики F1, Accuracy, Recall, Precision\n",
    "\n",
    "def print_score(model, is_valid = True, auc_roc_on = False):\n",
    "    if  is_valid: # переключаем выборки\n",
    "        features = features_valid\n",
    "        target = target_valid\n",
    "    else:\n",
    "        features = features_test\n",
    "        target = target_test\n",
    "        \n",
    "    predicted = model.predict(features)\n",
    "    \n",
    "    f1 = f1_score(target, predicted)\n",
    "    accuracy = accuracy_score(target, predicted)\n",
    "    recall = recall_score(target, predicted)\n",
    "    precision = precision_score(target, predicted)\n",
    "    \n",
    "    print('F1     = {:.2f}   Accuracy = {:.2f}'.format(f1,accuracy))\n",
    "    print('Recall = {:.2f}   Precision= {:.2f}'.format(recall, precision))\n",
    "    \n",
    "    \n",
    "    if auc_roc_on: # включается расчет одноименной метрики\n",
    "        probabilities_test = model.predict_proba(features)\n",
    "        probabilities_one_test = probabilities_test[:, 1]\n",
    "        auc_roc = roc_auc_score(target, probabilities_one_test)\n",
    "        print('AUC-ROC= {:.2f} '.format(auc_roc))\n",
    "    \n",
    "    if f1 > 0.59:\n",
    "        print('УСПЕХ !!!') # Печатаем, если достигнута поставленная цель, F1 мера выше 0.59\n",
    "    print()"
   ]
  },
  {
   "cell_type": "markdown",
   "metadata": {},
   "source": [
    "**Комментарий** Обучаем модель в лоб, без балансировки и без изменения гиперпараметров. "
   ]
  },
  {
   "cell_type": "code",
   "execution_count": 13,
   "metadata": {},
   "outputs": [
    {
     "name": "stdout",
     "output_type": "stream",
     "text": [
      "Логистическая регрессия:\n",
      "F1     = 0.28   Accuracy = 0.80\n",
      "Recall = 0.19   Precision= 0.59\n",
      "\n",
      "Дерево решений:\n",
      "F1     = 0.50   Accuracy = 0.79\n",
      "Recall = 0.50   Precision= 0.50\n",
      "\n",
      "Случайный лес:\n",
      "F1     = 0.52   Accuracy = 0.85\n",
      "Recall = 0.39   Precision= 0.80\n",
      "\n"
     ]
    }
   ],
   "source": [
    "model = LogisticRegression(random_state=12345, solver='liblinear')\n",
    "model.fit(features_train, target_train)\n",
    "print(\"Логистическая регрессия:\")\n",
    "print_score(model)\n",
    "\n",
    "model = DecisionTreeClassifier(random_state=12345)\n",
    "model.fit(features_train, target_train)\n",
    "print(\"Дерево решений:\")\n",
    "print_score(model)\n",
    "\n",
    "model = RandomForestClassifier(random_state=12345,) \n",
    "model.fit(features_train, target_train)\n",
    "print(\"Случайный лес:\")\n",
    "print_score(model)"
   ]
  },
  {
   "cell_type": "markdown",
   "metadata": {},
   "source": [
    "**Комментарий** Худший результат у логистической регрессии.  Ни один из методов не достигает цели, пробуем изменять ветви дерева решений и количество деревьев в случайном лесе:"
   ]
  },
  {
   "cell_type": "code",
   "execution_count": 14,
   "metadata": {},
   "outputs": [
    {
     "name": "stdout",
     "output_type": "stream",
     "text": [
      "Глубина дерева решений: 5\n",
      "F1     = 0.58   Accuracy = 0.85\n",
      "Recall = 0.48   Precision= 0.73\n",
      "\n"
     ]
    }
   ],
   "source": [
    "# пробуем увеличить количество ветвей дерева решений\n",
    "depth_max =25 # выносим для ручной регулировки\n",
    "best_model = None\n",
    "best_result = 0\n",
    "best_depth = 0\n",
    "for depth in range(1, depth_max):\n",
    "    model = DecisionTreeClassifier(random_state=12345, max_depth = depth) \n",
    "    model.fit(features_train, target_train)\n",
    "    predictions_valid = model.predict(features_valid) \n",
    "    result = f1_score(target_valid, predictions_valid)\n",
    "    if result > best_result:\n",
    "        best_model = model  # наилучшая модель\n",
    "        best_result = result # наилучшее значение метрики f1 на валидационных данных\n",
    "        best_depth = depth    # лучший гиперпараметр....далее не нужен, просто интересно\n",
    "     \n",
    "\n",
    "print('Глубина дерева решений:', best_depth)\n",
    "print_score(best_model)"
   ]
  },
  {
   "cell_type": "code",
   "execution_count": 15,
   "metadata": {},
   "outputs": [
    {
     "name": "stdout",
     "output_type": "stream",
     "text": [
      "Число деревьев = 9\n",
      "F1     = 0.55   Accuracy = 0.85\n",
      "Recall = 0.44   Precision= 0.74\n",
      "\n"
     ]
    }
   ],
   "source": [
    "# Пробуем улучшить гиперпараметры случайного леса\n",
    "max_est = 15  # выносим отдельно для удобства ручной регулировки\n",
    "best_model = None\n",
    "best_result = 0\n",
    "best_nest = 0\n",
    "for est in range(1, max_est):\n",
    "    # обучаем модель с различным гиперпараметром от 1 до 15 (максимум был выбран экспериментально)\n",
    "    model = RandomForestClassifier(random_state=12345, n_estimators=est) \n",
    "    model.fit(features_train, target_train)\n",
    "    predictions_valid = model.predict(features_valid)\n",
    "    result = f1_score(target_valid, predictions_valid)\n",
    "    if result > best_result:        \n",
    "        best_model = model  # наилучшая модель\n",
    "        best_result = result  # наилучшее значение метрики f1 на валидационных данных\n",
    "        best_nest = est    # лучший гиперпараметр....далее не нужен, просто интересно\n",
    "\n",
    "print(\"Число деревьев =\", best_nest)\n",
    "print_score(best_model)"
   ]
  },
  {
   "cell_type": "markdown",
   "metadata": {},
   "source": [
    "**Вывод**  Результат стал лучше, у дерева решений очень близок к цели. Но полнота маловата у обоих методов. Дальше работаем с балансом целевого параметра."
   ]
  },
  {
   "cell_type": "markdown",
   "metadata": {},
   "source": [
    "## Борьба с дисбалансом"
   ]
  },
  {
   "cell_type": "markdown",
   "metadata": {},
   "source": [
    "**Комментарий** Используем встроенные методы, установив параметр class_weight='balanced', а гиперпараметры глубины ветвления и количества деревьев возьмем из предыдущих расчетов с максимальной метрикой."
   ]
  },
  {
   "cell_type": "code",
   "execution_count": 16,
   "metadata": {},
   "outputs": [
    {
     "name": "stdout",
     "output_type": "stream",
     "text": [
      "Логистическая регрессия с балансированными весами:\n",
      "F1     = 0.51   Accuracy = 0.71\n",
      "Recall = 0.70   Precision= 0.40\n",
      "\n",
      "Дерево решений с балансированными весами:\n",
      "F1     = 0.59   Accuracy = 0.78\n",
      "Recall = 0.74   Precision= 0.49\n",
      "УСПЕХ !!!\n",
      "\n",
      "Случайный лес с балансированными весами:\n",
      "F1     = 0.54   Accuracy = 0.85\n",
      "Recall = 0.43   Precision= 0.74\n",
      "\n"
     ]
    }
   ],
   "source": [
    "model = LogisticRegression(random_state=12345, solver='liblinear', class_weight='balanced')\n",
    "model.fit(features_train, target_train)\n",
    "print(\"Логистическая регрессия с балансированными весами:\")\n",
    "print_score(model)\n",
    "\n",
    "model = DecisionTreeClassifier(random_state=12345, max_depth = 7, class_weight='balanced')\n",
    "model.fit(features_train, target_train)\n",
    "print(\"Дерево решений с балансированными весами:\")\n",
    "print_score(model)\n",
    "\n",
    "model = RandomForestClassifier(random_state=12345, n_estimators = 11, class_weight='balanced') \n",
    "model.fit(features_train, target_train)\n",
    "print(\"Случайный лес с балансированными весами:\")\n",
    "print_score(model)"
   ]
  },
  {
   "cell_type": "markdown",
   "metadata": {},
   "source": [
    "**Вывод** Метрика f1 у дерева решений уже попала в заданный диапазон, но точность хуже чем у случайной модели, ниже 50% .... выпадет или не выпадет 50/50. Зато в случайном лесе хорошая точность, но полнота ниже 50%. Итог - модели необходимо дорабатывать."
   ]
  },
  {
   "cell_type": "markdown",
   "metadata": {},
   "source": [
    "**Комментарий** Балансируем учебную выборку \"вручную\" методами Up и Down sampling. Для отработке используем метод решаеющего дерева, как показавший лучший результат без балансировки. Готовим две выборки для обоих способов балансировки, и далее везде будем их использовать. "
   ]
  },
  {
   "cell_type": "code",
   "execution_count": 17,
   "metadata": {},
   "outputs": [
    {
     "name": "stdout",
     "output_type": "stream",
     "text": [
      "Множитель:  3  число объектов:  (8396,)\n",
      "доля класса 0:  0.57  доля класса 1:  0.43 \n",
      "F1     = 0.60   Accuracy = 0.81\n",
      "Recall = 0.67   Precision= 0.55\n",
      "УСПЕХ !!!\n",
      "\n"
     ]
    }
   ],
   "source": [
    "# UPSAMPLING\n",
    "#множитель увеличения положительного класса\n",
    "repiter = 3 \n",
    "\n",
    "#процедура увеличивает положительный класс в выборке на величину множителя\n",
    "def upsample(features, target, repeat):\n",
    "    features_zeros = features[target == 0]\n",
    "    features_ones = features[target == 1]\n",
    "    target_zeros = target[target == 0]\n",
    "    target_ones = target[target == 1]\n",
    "\n",
    "    features_upsampled = pd.concat([features_zeros] + [features_ones] * repeat)\n",
    "    target_upsampled = pd.concat([target_zeros] + [target_ones] * repeat)\n",
    "    \n",
    "    features_upsampled, target_upsampled = shuffle(features_upsampled, target_upsampled, random_state=12345)\n",
    "    \n",
    "    return features_upsampled, target_upsampled\n",
    "\n",
    "# выбираем метод для обучения \n",
    "model = DecisionTreeClassifier(random_state=12345, max_depth = 7)\n",
    "\n",
    "# Применяем метод upsampling получаем увеличенные выборки с постфиксами _ups \n",
    "features_ups, target_ups = upsample(features_train, target_train, repiter)\n",
    "\n",
    "#обучаем модель на увеличенных выборках\n",
    "model.fit(features_ups, target_ups)\n",
    "\n",
    "# считаем и печатаем метрики модели\n",
    "print('Множитель: ', repiter, ' число объектов: ', target_ups.shape)\n",
    "print('доля класса 0:  {:.2f}  доля класса 1:  {:.2f} '.format(target_ups[target_ups==0].count()/len(target_ups),target_ups[target_ups==1].count()/len(target_ups)))\n",
    "print_score(model)"
   ]
  },
  {
   "cell_type": "code",
   "execution_count": 18,
   "metadata": {},
   "outputs": [
    {
     "name": "stdout",
     "output_type": "stream",
     "text": [
      "Коэффициент:  0.6  число объектов:  (4079,)\n",
      "доля класса 0:  0.71  доля класса 1:  0.29 \n",
      "F1     = 0.60   Accuracy = 0.85\n",
      "Recall = 0.53   Precision= 0.68\n",
      "УСПЕХ !!!\n",
      "\n"
     ]
    }
   ],
   "source": [
    "# DOWNSAMPLING\n",
    "# кратность уменьшения отрицательного класса\n",
    "ratio = 0.6 \n",
    "\n",
    "#процедура уменьшает отрицательный класс в выборке на величину кратности\n",
    "def downsample(features, target, fraction):\n",
    "    features_zeros = features[target == 0]\n",
    "    features_ones = features[target == 1]\n",
    "    target_zeros = target[target == 0]\n",
    "    target_ones = target[target == 1]\n",
    "\n",
    "    features_downsampled = pd.concat([features_zeros.sample(frac=fraction, random_state=12345)] + [features_ones])\n",
    "    target_downsampled = pd.concat([target_zeros.sample(frac=fraction, random_state=12345)] + [target_ones])\n",
    "    \n",
    "    features_downsampled, target_downsampled = shuffle(features_downsampled, target_downsampled, random_state=12345)\n",
    "    \n",
    "    return features_downsampled, target_downsampled\n",
    "\n",
    "# выбираем метод для обучения \n",
    "model = DecisionTreeClassifier(random_state=12345, max_depth =7)\n",
    "\n",
    "# Применяем метод downsampling получаем увеличенные выборки с постфиксами _down\n",
    "features_down, target_down = downsample(features_train, target_train, ratio)\n",
    "\n",
    "#обучаем модель на уменьшеных выборках\n",
    "model.fit(features_down, target_down)\n",
    "  \n",
    "# считаем и печатаем метрики модели\n",
    "print('Коэффициент: ',ratio, ' число объектов: ', target_down.shape)\n",
    "print('доля класса 0:  {:.2f}  доля класса 1:  {:.2f} '.format(target_down[target_down==0].count()/len(target_down),target_down[target_down==1].count()/len(target_down)))\n",
    "print_score(model)"
   ]
  },
  {
   "cell_type": "markdown",
   "metadata": {},
   "source": [
    "**Вывод** Оба метода балансировки применимы и будут рассмотрены в дальнейшем. Для метода upsampling лучшим множителем оказался 3, для downsampling лучшая кратность 0.6 (что бы не загромождать и так уже раздутый код, делалось ручным перебором)"
   ]
  },
  {
   "cell_type": "markdown",
   "metadata": {},
   "source": [
    "**комментарий** Еще раз перебираем гиперпараметры для всех моделей с уже отбалансированными расширенной и сокращенной тренировочными выборками  "
   ]
  },
  {
   "cell_type": "code",
   "execution_count": 19,
   "metadata": {},
   "outputs": [
    {
     "name": "stdout",
     "output_type": "stream",
     "text": [
      "Глубина дерева решений для upsampling: 6\n",
      "F1     = 0.61   Accuracy = 0.80\n",
      "Recall = 0.73   Precision= 0.52\n",
      "AUC-ROC= 0.84 \n",
      "УСПЕХ !!!\n",
      "\n",
      "Глубина дерева решений для downsampling: 7\n",
      "F1     = 0.60   Accuracy = 0.85\n",
      "Recall = 0.53   Precision= 0.68\n",
      "AUC-ROC= 0.82 \n",
      "УСПЕХ !!!\n",
      "\n"
     ]
    }
   ],
   "source": [
    "# обучаем модели дерева решений с различной глубиной ветвления\n",
    "# глубину дерева depth перебираем в цикле до уровня 25\n",
    "max_depth =25\n",
    "\n",
    "# оформляем расчет в виде отдельной функции, так как ее приходится вызывать несколько раз, для разных выборок\n",
    "# функция перебирает в цикле обучение модели с различным гиперпараметром max_depth и возвращает обученную модель дающую\n",
    "# наибольшую метрику F1\n",
    "def tree_model(features, target, dep):\n",
    "    best_model = None\n",
    "    best_result = 0\n",
    "    best_depth = 0\n",
    "    for depth in range(1, dep):\n",
    "        model = DecisionTreeClassifier(random_state=12345, max_depth = depth) \n",
    "        model.fit(features, target)\n",
    "        predictions_valid = model.predict(features_valid) \n",
    "        result = f1_score(target_valid, predictions_valid)\n",
    "        if result > best_result:\n",
    "            best_model = model  # наилучшая модель\n",
    "            best_result = result  # наилучшее значение метрики f1 на валидационных данных\n",
    "            best_depth = depth    # лучший гиперпараметр....далее не нужен, просто интересно\n",
    "    return best_model, best_result, best_depth       \n",
    "\n",
    "# _ups  _down - upsampling и downsampling соответственно\n",
    "tree_model_ups, f1_ups, depth_ups = tree_model(features_ups, target_ups, max_depth)\n",
    "tree_model_down, f1_down, depth_down = tree_model(features_down, target_down, max_depth)\n",
    "\n",
    "# считаем и печатаем метрики\n",
    "# параметр auc_roc_on=True для вывода метрики AUC-ROC\n",
    "print('Глубина дерева решений для upsampling:', depth_ups)\n",
    "print_score(tree_model_ups, auc_roc_on=True)\n",
    "\n",
    "print('Глубина дерева решений для downsampling:', depth_down)\n",
    "print_score(tree_model_down, auc_roc_on=True)"
   ]
  },
  {
   "cell_type": "code",
   "execution_count": 20,
   "metadata": {},
   "outputs": [
    {
     "name": "stdout",
     "output_type": "stream",
     "text": [
      "Количество деревьев случайного леса upsampling: 19\n",
      "F1     = 0.60   Accuracy = 0.85\n",
      "Recall = 0.52   Precision= 0.71\n",
      "AUC-ROC= 0.85 \n",
      "УСПЕХ !!!\n",
      "\n",
      "Количество деревьев случайного леса для downsampling: 19\n",
      "F1     = 0.60   Accuracy = 0.84\n",
      "Recall = 0.56   Precision= 0.64\n",
      "AUC-ROC= 0.84 \n",
      "УСПЕХ !!!\n",
      "\n"
     ]
    }
   ],
   "source": [
    "# обучаем модели случайного леса с различным количеством \"деревьев\"\n",
    "# максимальное количество деревьев леса 25 перебираем в цикле для пущей уверенности с запасом\n",
    "max_est = 25\n",
    "\n",
    "# оформляем расчет в виде отдельной функции, так как ее приходится вызывать несколько раз, для разных выборок\n",
    "# функция перебирает в цикле обучение модели с различным гиперпараметром n_estimators и возвращает обученную модель дающую\n",
    "# наибольшую метрику F1\n",
    "def forest_model(features, target, est):\n",
    "    best_model = None\n",
    "    best_result = 0\n",
    "    best_nest = 0\n",
    "    for est in range(1, est):\n",
    "        model = RandomForestClassifier(random_state=12345, n_estimators=est) \n",
    "        model.fit(features, target)\n",
    "        predictions_valid = model.predict(features_valid)\n",
    "        result = f1_score(target_valid, predictions_valid)\n",
    "        if result > best_result:\n",
    "            best_model = model  # наилучшая модель\n",
    "            best_result = result  # наилучшее значение метрики accuracy на валидационных данных\n",
    "            best_nest = est       # лучший гиперпараметр....далее не нужен, просто интересно\n",
    "    return best_model, best_result, best_nest\n",
    "\n",
    "# _ups  _down upsampling и downsampling соответственно\n",
    "forest_model_ups, f1_ups, est_ups = forest_model(features_ups, target_ups, max_est)\n",
    "forest_model_down, f1_down, est_down = forest_model(features_down, target_down, max_est)\n",
    "\n",
    "# считаем и печатаем метрики\n",
    "# параметр auc_roc_on=True для вывода метрики AUC-ROC\n",
    "print('Количество деревьев случайного леса upsampling:',est_ups)\n",
    "print_score(forest_model_ups, auc_roc_on=True)\n",
    "\n",
    "print('Количество деревьев случайного леса для downsampling:', est_down)\n",
    "print_score(forest_model_down, auc_roc_on=True)"
   ]
  },
  {
   "cell_type": "markdown",
   "metadata": {},
   "source": [
    "**Комментарий** исследуем модель логистической регрессии"
   ]
  },
  {
   "cell_type": "code",
   "execution_count": 21,
   "metadata": {},
   "outputs": [
    {
     "name": "stdout",
     "output_type": "stream",
     "text": [
      "Метрики логистической регрессии для метода upsampling:\n",
      "F1     = 0.50   Accuracy = 0.75\n",
      "Recall = 0.59   Precision= 0.44\n",
      "AUC-ROC= 0.76 \n",
      "\n",
      "Метрики логистической регрессии для метода downsampling:\n",
      "F1     = 0.42   Accuracy = 0.79\n",
      "Recall = 0.35   Precision= 0.52\n",
      "AUC-ROC= 0.76 \n",
      "\n",
      "Порог оценки для лучшей метрики 0.32\n",
      "F1     = 0.50   Accuracy = 0.73\n",
      "Recall = 0.65   Precision= 0.41\n",
      "AUC-ROC= 0.70 \n"
     ]
    }
   ],
   "source": [
    "# обучаем модели на сбалансированных выборках методами up и downsampling\n",
    "lr_model_ups = LogisticRegression(random_state=12345, solver='liblinear')\n",
    "lr_model_ups.fit(features_ups, target_ups)\n",
    "lr_model_down = LogisticRegression(random_state=12345, solver='liblinear')\n",
    "lr_model_down.fit(features_down, target_down)\n",
    "\n",
    "# считаем и печатаем метрики\n",
    "# параметр auc_roc_on=True для вывода метрики AUC-ROC\n",
    "print('Метрики логистической регрессии для метода upsampling:')\n",
    "print_score(lr_model_ups, auc_roc_on=True)\n",
    "\n",
    "print('Метрики логистической регрессии для метода downsampling:')\n",
    "print_score(lr_model_down, auc_roc_on=True)\n",
    "\n",
    "# Попробуем смещать границы порога оценки вероятности и выбрать максимальный f1\n",
    "# Используем выборки обученную модель навыборках downsampling\n",
    "# upsampling результаты хуже\n",
    "\n",
    "probabilities_valid = lr_model_down.predict_proba(features_valid)\n",
    "probabilities_one_valid = probabilities_valid[:, 1]\n",
    "\n",
    "best_tresh = 0\n",
    "best_f1 =0\n",
    "predicted_valid = None\n",
    "for threshold in np.arange(0.2, 0.4, 0.02):\n",
    "    predict = probabilities_one_valid > threshold \n",
    "    f1 = f1_score(target_valid, predict)\n",
    "    if f1 > best_f1:\n",
    "        best_f1 = f1\n",
    "        best_tresh = threshold\n",
    "        predicted_valid = predict # предсказанный результат со смещением границы оценки с максимумом метрики f1\n",
    "\n",
    "# расчитываем метрики для предсказанного результата со смещенной границей оценки вероятности        \n",
    "accuracy = accuracy_score(target_valid, predicted_valid)\n",
    "recall = recall_score(target_valid, predicted_valid)\n",
    "precision = precision_score(target_valid, predicted_valid)\n",
    "auc_roc = roc_auc_score(target_valid, predicted_valid)\n",
    "\n",
    "print('Порог оценки для лучшей метрики', round(best_tresh,2))\n",
    "print('F1     = {:.2f}   Accuracy = {:.2f}'.format(best_f1,accuracy))\n",
    "print('Recall = {:.2f}   Precision= {:.2f}'.format(recall, precision))\n",
    "print('AUC-ROC= {:.2f} '.format(auc_roc))"
   ]
  },
  {
   "cell_type": "markdown",
   "metadata": {},
   "source": [
    "**Комментарий** Лучший результат метода логистической регресси у метрики F1 = 0.5  для балансировки upsampling, и для выборки downsampling со смещенной границей порога до 0.3 - 0.36. Для upsampling любое смещение границы ухудшает результат. Метрика AUC-ROC у этого алгоритма худшая из трех рассматриваемых методов."
   ]
  },
  {
   "cell_type": "markdown",
   "metadata": {},
   "source": [
    "**Выводы** Лучшие результаты обучения моделей у алгоритмов случайного леса и дерева решений, обе модели дают удовлетворительные результаты и выполняют поставленные цели. Их можно использовать для практического применения. Модель логистической регрессии на данных объектах получила худший результат, не помогает даже смешение границы порога. В случае применения порядкового кодирования текстовых категорий, метод вообще не работает и  F1 данного метода ниже 0.3  "
   ]
  },
  {
   "cell_type": "markdown",
   "metadata": {},
   "source": [
    "## Тестирование моделей"
   ]
  },
  {
   "cell_type": "markdown",
   "metadata": {},
   "source": [
    "**Комментарий** Линейную регрессию исключаем из тестирования, так как нужного результата добиться не удалось. Рассмотрим метрики на тестовой выборке и построим  ROC кривые полученных моделей:"
   ]
  },
  {
   "cell_type": "code",
   "execution_count": 22,
   "metadata": {},
   "outputs": [
    {
     "name": "stdout",
     "output_type": "stream",
     "text": [
      "Метрики модели дерева решений на тестовой выборке:\n",
      "F1     = 0.60   Accuracy = 0.80\n",
      "Recall = 0.73   Precision= 0.50\n",
      "AUC-ROC= 0.84 \n",
      "УСПЕХ !!!\n",
      "\n"
     ]
    },
    {
     "data": {
      "image/png": "[encoded data removed]",
      "text/plain": [
       "<Figure size 432x288 with 1 Axes>"
      ]
     },
     "metadata": {
      "needs_background": "light"
     },
     "output_type": "display_data"
    }
   ],
   "source": [
    "# параметр is_valid = False, значит, что используем для расчета метрик тестовую выборку вместо валидационной\n",
    "print(\"Метрики модели дерева решений на тестовой выборке:\")\n",
    "print_score(tree_model_ups, is_valid=False, auc_roc_on=True)\n",
    "\n",
    "probabilities_test = tree_model_ups.predict_proba(features_test)\n",
    "probabilities_one_test = probabilities_test[:, 1]\n",
    "\n",
    "fpr, tpr, thresholds = roc_curve(target_test, probabilities_one_test)\n",
    "\n",
    "plt.figure()\n",
    "plt.plot(fpr, tpr)\n",
    "# ROC-кривая случайной модели (выглядит как прямая)\n",
    "plt.plot([0, 1], [0, 1], linestyle='--')\n",
    "#   устанавливаем границы осей от 0 до 1 \n",
    "plt.xlim([0.0, 1.0])\n",
    "plt.ylim([0.0, 1.0])\n",
    "#   подписываем оси \n",
    "plt.xlabel('False Positive Rate')\n",
    "plt.ylabel('True Positive Rate')\n",
    "#  добавляем к графику заголовок \n",
    "plt.title('ROC-кривая модели дерева решений')\n",
    "plt.show()"
   ]
  },
  {
   "cell_type": "code",
   "execution_count": 23,
   "metadata": {},
   "outputs": [
    {
     "name": "stdout",
     "output_type": "stream",
     "text": [
      "Метрики модели случайного леса на тестовой выборке:\n",
      "F1     = 0.61   Accuracy = 0.86\n",
      "Recall = 0.54   Precision= 0.70\n",
      "AUC-ROC= 0.84 \n",
      "УСПЕХ !!!\n",
      "\n"
     ]
    },
    {
     "data": {
      "image/png": "[encoded data removed]",
      "text/plain": [
       "<Figure size 432x288 with 1 Axes>"
      ]
     },
     "metadata": {
      "needs_background": "light"
     },
     "output_type": "display_data"
    }
   ],
   "source": [
    "print(\"Метрики модели случайного леса на тестовой выборке:\")\n",
    "print_score(forest_model_down, is_valid=False, auc_roc_on=True)\n",
    "\n",
    "probabilities_test = forest_model_down.predict_proba(features_test)\n",
    "probabilities_one_test = probabilities_test[:, 1]\n",
    "\n",
    "fpr, tpr, thresholds = roc_curve(target_test, probabilities_one_test)\n",
    "\n",
    "plt.figure()\n",
    "plt.plot(fpr, tpr)\n",
    "# ROC-кривая случайной модели (выглядит как прямая)\n",
    "plt.plot([0, 1], [0, 1], linestyle='--')\n",
    "#   устанавливаем границы осей от 0 до 1 >\n",
    "plt.xlim([0.0, 1.0])\n",
    "plt.ylim([0.0, 1.0])\n",
    "#   подписываем оси\n",
    "plt.xlabel('False Positive Rate')\n",
    "plt.ylabel('True Positive Rate')\n",
    "#  добавляем к графику заголовок \n",
    "plt.title('ROC-кривая модели обученной модели случайного леса')\n",
    "plt.show()"
   ]
  },
  {
   "cell_type": "markdown",
   "metadata": {},
   "source": [
    "**Вывод** Поставленные цели достигнуты. Все метрики заметно лучше уровня случайной модели. Полученные модели могут быть использованы для предсказаний результата на практике."
   ]
  },
  {
   "cell_type": "markdown",
   "metadata": {},
   "source": [
    "## Общий вывод\n",
    "\n",
    "1. Получен файл из 10000 подготовленных объектов с 14-ю признаками, в числе которых целевой бинарный признак для всех имеющихся объектов, а также категорийные тестовые признаки, и численные с большим диапазоном значений. В столбце Tenure присутствовали пропуски. Данные были подготовлены - изменены заголовки, заменены пропуски на средние значение по клиентскому возрасту, текстовые категорийные признаки переведены в числовые прямым кодированием, параметр Surname удален, так как с одной стороны он напрямую зависит от параметра CustomerId, с другой при переводе в числовой формат прямым кодированием резко увеличивал размер предоставленных данных, что ухудшало метрики и скорость расчета на порядок. Впрочем, при использовании порядкового метода кодировки его присутствие не ухудшало результат (код с порядковым кодированием закомментирован и оставлен в проекте).\n",
    "2. Численные параметры были масштабированы. Для масштабирования были выбраны колонки 'row_number','balance', 'credit_score', 'estimated_salary', 'customer_id','age','tenure'. Это дало максимальный результат в финальных метриках.\n",
    "3. При таких данных используются методы обучения с учителем. Для обучения выбраны следующие методы: \"дерево решений\", \"случайный лес\" и \"логистическая регресия\". Все объекты разделены на три части - обучающую 60%, валидационную и тестовую по 20%. Разделение происходило случайным образом c фиксированным параметром random_state =12345. Между численными параметрами корреляции не обнаружено.\n",
    "4. В целевом признаке обнаружен дисбаланс в пользу отрицательного класса в соотношении 80/20\n",
    "5. Исследованы модели обучения на несбалансированной выборке. Лучший результат f1-меры показал метод дерево решений при глубине ветвлений = 7, была практически достигнута цель 0.59, но с низким уровнем точности предсказаний.\n",
    "6. Исследована модели обучения на несбалансированной выборке, но с гиперпараметром class_weight='balanced, лучший результат метрики f1 также получился у модели  дерева решений с гиперпараметром max_depth = 7, была достигнута цель 0.59, но также с никим уровнем точности предсказаний равным случайной модели.\n",
    "7. Были сбалансированы учебные выборки методами up и down sampling c множителем 3 и коэффициентом 0.6 подготовлены две выборки для моделирования.\n",
    "8. Исследована все модели на сбалансированных выборках. Лучшие результаты f1 меры были достигнуты в моделях решающего дерева и случайного леса при всех сбалансированных выборках. Максимальные достигнутые метрики, на мой взгляд были достигнуты при обучении выборки upsampling методом случайного леса с количеством деревьев 19 и это: f1 - 0.6 Accuracy - 0.85, полнота - 0.52, точность - 0.71, AUC-ROC - 0.85. Впрочем на тестовой выборке акценты сместились к содели дерева решений.....модели капризны.\n",
    "9. Отмечу, что метрика AUC-ROC не имеет прямой зависимости от f1, последняя очень чувствительна от параметров обучения, AUC-ROC более стабильна.\n",
    "10. Полученные успешные модели проверены на тестовой выборке. Результат подтверждены. Построены тестовые roc-кривые, на которых видно что  полученные модели заметно отличаются от случайной модели и могут быть использованы для практических применений. "
   ]
  },
  {
   "cell_type": "markdown",
   "metadata": {},
   "source": [
    "## Чек-лист готовности проекта"
   ]
  },
  {
   "cell_type": "markdown",
   "metadata": {},
   "source": [
    "Поставьте 'x' в выполненных пунктах. Далее нажмите Shift+Enter."
   ]
  },
  {
   "cell_type": "markdown",
   "metadata": {},
   "source": [
    "- [x]  Jupyter Notebook открыт\n",
    "- [x]  Весь код выполняется без ошибок\n",
    "- [x]  Ячейки с кодом расположены в порядке исполнения\n",
    "- [x]  Выполнен шаг 1: данные подготовлены\n",
    "- [x]  Выполнен шаг 2: задача исследована\n",
    "    - [x]  Исследован баланс классов\n",
    "    - [x]  Изучены модели без учёта дисбаланса\n",
    "    - [x]  Написаны выводы по результатам исследования\n",
    "- [x]  Выполнен шаг 3: учтён дисбаланс\n",
    "    - [x]  Применено несколько способов борьбы с дисбалансом\n",
    "    - [x]  Написаны выводы по результатам исследования\n",
    "- [x]  Выполнен шаг 4: проведено тестирование\n",
    "- [x]  Удалось достичь *F1*-меры не менее 0.59\n",
    "- [x]  Исследована метрика *AUC-ROC*"
   ]
  },
  {
   "cell_type": "code",
   "execution_count": null,
   "metadata": {},
   "outputs": [],
   "source": []
  }
 ],
 "metadata": {
  "ExecuteTimeLog": [
   {
    "duration": 1015,
    "start_time": "2022-02-14T02:47:43.918Z"
   },
   {
    "duration": 41,
    "start_time": "2022-02-14T02:50:05.597Z"
   },
   {
    "duration": 238,
    "start_time": "2022-02-14T02:55:23.548Z"
   },
   {
    "duration": 36,
    "start_time": "2022-02-14T02:55:35.997Z"
   },
   {
    "duration": 158,
    "start_time": "2022-02-14T03:03:27.789Z"
   },
   {
    "duration": 167,
    "start_time": "2022-02-14T03:04:40.421Z"
   },
   {
    "duration": 39,
    "start_time": "2022-02-14T03:04:54.120Z"
   },
   {
    "duration": 39,
    "start_time": "2022-02-14T03:05:19.800Z"
   },
   {
    "duration": 44,
    "start_time": "2022-02-14T03:09:52.045Z"
   },
   {
    "duration": 43,
    "start_time": "2022-02-14T03:10:11.221Z"
   },
   {
    "duration": 45,
    "start_time": "2022-02-14T03:13:09.016Z"
   },
   {
    "duration": 47,
    "start_time": "2022-02-14T03:26:26.763Z"
   },
   {
    "duration": 19,
    "start_time": "2022-02-14T03:26:48.015Z"
   },
   {
    "duration": 155,
    "start_time": "2022-02-14T03:40:20.798Z"
   },
   {
    "duration": 44,
    "start_time": "2022-02-14T03:41:14.369Z"
   },
   {
    "duration": 18,
    "start_time": "2022-02-14T03:41:26.681Z"
   },
   {
    "duration": 20,
    "start_time": "2022-02-14T03:41:30.817Z"
   },
   {
    "duration": 20,
    "start_time": "2022-02-14T03:41:54.961Z"
   },
   {
    "duration": 3851,
    "start_time": "2022-02-14T03:54:42.943Z"
   },
   {
    "duration": 82,
    "start_time": "2022-02-14T03:54:46.713Z"
   },
   {
    "duration": 8,
    "start_time": "2022-02-14T03:55:22.035Z"
   },
   {
    "duration": 165,
    "start_time": "2022-02-14T03:55:23.203Z"
   },
   {
    "duration": 45,
    "start_time": "2022-02-14T03:55:38.003Z"
   },
   {
    "duration": 19,
    "start_time": "2022-02-14T03:55:40.704Z"
   },
   {
    "duration": 21,
    "start_time": "2022-02-14T03:55:42.012Z"
   },
   {
    "duration": 8,
    "start_time": "2022-02-14T03:55:47.496Z"
   },
   {
    "duration": 136,
    "start_time": "2022-02-14T03:55:48.656Z"
   },
   {
    "duration": 8,
    "start_time": "2022-02-14T03:56:31.507Z"
   },
   {
    "duration": 133,
    "start_time": "2022-02-14T03:56:33.012Z"
   },
   {
    "duration": 37,
    "start_time": "2022-02-14T04:03:31.647Z"
   },
   {
    "duration": 16,
    "start_time": "2022-02-14T04:03:35.611Z"
   },
   {
    "duration": 20,
    "start_time": "2022-02-14T04:03:41.071Z"
   },
   {
    "duration": 8,
    "start_time": "2022-02-14T04:03:47.735Z"
   },
   {
    "duration": 21,
    "start_time": "2022-02-14T04:03:48.811Z"
   },
   {
    "duration": 41,
    "start_time": "2022-02-14T04:04:39.671Z"
   },
   {
    "duration": 1056,
    "start_time": "2022-02-14T04:06:24.330Z"
   },
   {
    "duration": 17,
    "start_time": "2022-02-14T04:06:25.388Z"
   },
   {
    "duration": 27,
    "start_time": "2022-02-14T04:06:25.408Z"
   },
   {
    "duration": 8,
    "start_time": "2022-02-14T04:06:25.437Z"
   },
   {
    "duration": 2,
    "start_time": "2022-02-14T04:06:25.446Z"
   },
   {
    "duration": 38,
    "start_time": "2022-02-14T04:06:25.450Z"
   },
   {
    "duration": 1626,
    "start_time": "2022-02-14T04:23:40.062Z"
   },
   {
    "duration": 308,
    "start_time": "2022-02-14T04:24:42.346Z"
   },
   {
    "duration": 6,
    "start_time": "2022-02-14T04:25:25.145Z"
   },
   {
    "duration": 6,
    "start_time": "2022-02-14T04:26:16.222Z"
   },
   {
    "duration": 6,
    "start_time": "2022-02-14T04:26:19.758Z"
   },
   {
    "duration": 6,
    "start_time": "2022-02-14T04:26:25.333Z"
   },
   {
    "duration": 47,
    "start_time": "2022-02-14T04:27:12.257Z"
   },
   {
    "duration": 6,
    "start_time": "2022-02-14T04:27:28.937Z"
   },
   {
    "duration": 6,
    "start_time": "2022-02-14T04:27:43.718Z"
   },
   {
    "duration": 127,
    "start_time": "2022-02-14T04:30:11.425Z"
   },
   {
    "duration": 994,
    "start_time": "2022-02-14T04:31:55.865Z"
   },
   {
    "duration": 17,
    "start_time": "2022-02-14T04:31:56.861Z"
   },
   {
    "duration": 19,
    "start_time": "2022-02-14T04:31:56.880Z"
   },
   {
    "duration": 29,
    "start_time": "2022-02-14T04:31:56.901Z"
   },
   {
    "duration": 2,
    "start_time": "2022-02-14T04:31:56.932Z"
   },
   {
    "duration": 6,
    "start_time": "2022-02-14T04:31:56.936Z"
   },
   {
    "duration": 432,
    "start_time": "2022-02-14T04:31:56.944Z"
   },
   {
    "duration": 454,
    "start_time": "2022-02-14T04:34:38.630Z"
   },
   {
    "duration": 1060,
    "start_time": "2022-02-14T04:40:25.464Z"
   },
   {
    "duration": 17,
    "start_time": "2022-02-14T04:40:26.526Z"
   },
   {
    "duration": 19,
    "start_time": "2022-02-14T04:40:26.547Z"
   },
   {
    "duration": 8,
    "start_time": "2022-02-14T04:40:26.567Z"
   },
   {
    "duration": 3,
    "start_time": "2022-02-14T04:40:26.576Z"
   },
   {
    "duration": 8,
    "start_time": "2022-02-14T04:40:26.580Z"
   },
   {
    "duration": 520,
    "start_time": "2022-02-14T04:40:26.591Z"
   },
   {
    "duration": 68,
    "start_time": "2022-02-14T04:40:27.113Z"
   },
   {
    "duration": 60,
    "start_time": "2022-02-14T04:40:40.819Z"
   },
   {
    "duration": 56,
    "start_time": "2022-02-14T04:40:48.161Z"
   },
   {
    "duration": 53,
    "start_time": "2022-02-14T04:40:54.352Z"
   },
   {
    "duration": 49,
    "start_time": "2022-02-14T04:41:02.233Z"
   },
   {
    "duration": 55,
    "start_time": "2022-02-14T04:41:08.520Z"
   },
   {
    "duration": 31,
    "start_time": "2022-02-14T04:44:24.907Z"
   },
   {
    "duration": 34,
    "start_time": "2022-02-14T04:44:33.643Z"
   },
   {
    "duration": 31,
    "start_time": "2022-02-14T04:44:39.500Z"
   },
   {
    "duration": 39,
    "start_time": "2022-02-14T04:44:46.091Z"
   },
   {
    "duration": 31,
    "start_time": "2022-02-14T04:44:51.971Z"
   },
   {
    "duration": 54,
    "start_time": "2022-02-14T04:47:34.691Z"
   },
   {
    "duration": 56,
    "start_time": "2022-02-14T04:47:44.639Z"
   },
   {
    "duration": 107,
    "start_time": "2022-02-14T04:47:52.226Z"
   },
   {
    "duration": 56,
    "start_time": "2022-02-14T04:48:00.083Z"
   },
   {
    "duration": 111,
    "start_time": "2022-02-14T04:48:04.919Z"
   },
   {
    "duration": 1069,
    "start_time": "2022-02-14T04:48:47.610Z"
   },
   {
    "duration": 19,
    "start_time": "2022-02-14T04:48:48.681Z"
   },
   {
    "duration": 32,
    "start_time": "2022-02-14T04:48:48.704Z"
   },
   {
    "duration": 8,
    "start_time": "2022-02-14T04:48:48.737Z"
   },
   {
    "duration": 2,
    "start_time": "2022-02-14T04:48:48.747Z"
   },
   {
    "duration": 7,
    "start_time": "2022-02-14T04:48:48.750Z"
   },
   {
    "duration": 422,
    "start_time": "2022-02-14T04:48:48.759Z"
   },
   {
    "duration": 71,
    "start_time": "2022-02-14T04:48:49.183Z"
   },
   {
    "duration": 29,
    "start_time": "2022-02-14T04:48:49.256Z"
   },
   {
    "duration": 29,
    "start_time": "2022-02-14T04:49:24.138Z"
   },
   {
    "duration": 35,
    "start_time": "2022-02-14T04:49:30.126Z"
   },
   {
    "duration": 1056,
    "start_time": "2022-02-14T04:56:28.741Z"
   },
   {
    "duration": 18,
    "start_time": "2022-02-14T04:56:29.799Z"
   },
   {
    "duration": 30,
    "start_time": "2022-02-14T04:56:29.820Z"
   },
   {
    "duration": 9,
    "start_time": "2022-02-14T04:56:29.852Z"
   },
   {
    "duration": 3,
    "start_time": "2022-02-14T04:56:29.862Z"
   },
   {
    "duration": 6,
    "start_time": "2022-02-14T04:56:29.867Z"
   },
   {
    "duration": 511,
    "start_time": "2022-02-14T04:56:29.874Z"
   },
   {
    "duration": 77,
    "start_time": "2022-02-14T04:56:30.388Z"
   },
   {
    "duration": 33,
    "start_time": "2022-02-14T04:56:30.467Z"
   },
   {
    "duration": 255,
    "start_time": "2022-02-14T04:56:30.502Z"
   },
   {
    "duration": 263,
    "start_time": "2022-02-14T04:57:07.026Z"
   },
   {
    "duration": 217,
    "start_time": "2022-02-14T04:58:49.061Z"
   },
   {
    "duration": 235,
    "start_time": "2022-02-14T04:59:21.750Z"
   },
   {
    "duration": 98,
    "start_time": "2022-02-14T05:00:23.441Z"
   },
   {
    "duration": 85,
    "start_time": "2022-02-14T05:01:17.245Z"
   },
   {
    "duration": 1072,
    "start_time": "2022-02-14T05:02:19.227Z"
   },
   {
    "duration": 18,
    "start_time": "2022-02-14T05:02:20.301Z"
   },
   {
    "duration": 27,
    "start_time": "2022-02-14T05:02:20.322Z"
   },
   {
    "duration": 8,
    "start_time": "2022-02-14T05:02:20.352Z"
   },
   {
    "duration": 3,
    "start_time": "2022-02-14T05:02:20.362Z"
   },
   {
    "duration": 7,
    "start_time": "2022-02-14T05:02:20.366Z"
   },
   {
    "duration": 512,
    "start_time": "2022-02-14T05:02:20.374Z"
   },
   {
    "duration": 71,
    "start_time": "2022-02-14T05:02:20.889Z"
   },
   {
    "duration": 33,
    "start_time": "2022-02-14T05:02:20.962Z"
   },
   {
    "duration": 104,
    "start_time": "2022-02-14T05:02:20.996Z"
   },
   {
    "duration": 273,
    "start_time": "2022-02-14T05:02:38.631Z"
   },
   {
    "duration": 202,
    "start_time": "2022-02-14T05:03:19.679Z"
   },
   {
    "duration": 212,
    "start_time": "2022-02-14T05:08:52.831Z"
   },
   {
    "duration": 1041,
    "start_time": "2022-02-14T05:09:00.361Z"
   },
   {
    "duration": 18,
    "start_time": "2022-02-14T05:09:01.404Z"
   },
   {
    "duration": 26,
    "start_time": "2022-02-14T05:09:01.423Z"
   },
   {
    "duration": 8,
    "start_time": "2022-02-14T05:09:01.451Z"
   },
   {
    "duration": 5,
    "start_time": "2022-02-14T05:09:01.460Z"
   },
   {
    "duration": 9,
    "start_time": "2022-02-14T05:09:01.467Z"
   },
   {
    "duration": 411,
    "start_time": "2022-02-14T05:09:01.478Z"
   },
   {
    "duration": 73,
    "start_time": "2022-02-14T05:09:01.891Z"
   },
   {
    "duration": 32,
    "start_time": "2022-02-14T05:09:01.966Z"
   },
   {
    "duration": 283,
    "start_time": "2022-02-14T05:09:02.000Z"
   },
   {
    "duration": 289,
    "start_time": "2022-02-14T05:09:02.284Z"
   },
   {
    "duration": 146,
    "start_time": "2022-02-14T05:23:20.920Z"
   },
   {
    "duration": 34,
    "start_time": "2022-02-14T05:27:34.644Z"
   },
   {
    "duration": 102,
    "start_time": "2022-02-14T05:27:54.816Z"
   },
   {
    "duration": 1099,
    "start_time": "2022-02-14T05:37:20.244Z"
   },
   {
    "duration": 18,
    "start_time": "2022-02-14T05:37:21.344Z"
   },
   {
    "duration": 21,
    "start_time": "2022-02-14T05:37:21.364Z"
   },
   {
    "duration": 7,
    "start_time": "2022-02-14T05:37:21.387Z"
   },
   {
    "duration": 2,
    "start_time": "2022-02-14T05:37:21.396Z"
   },
   {
    "duration": 36,
    "start_time": "2022-02-14T05:37:21.400Z"
   },
   {
    "duration": 211,
    "start_time": "2022-02-14T05:37:21.438Z"
   },
   {
    "duration": 168,
    "start_time": "2022-02-14T05:37:21.651Z"
   },
   {
    "duration": 270,
    "start_time": "2022-02-14T05:37:21.821Z"
   },
   {
    "duration": 82,
    "start_time": "2022-02-14T05:37:22.093Z"
   },
   {
    "duration": 57,
    "start_time": "2022-02-14T05:37:22.177Z"
   },
   {
    "duration": 296,
    "start_time": "2022-02-14T05:37:22.236Z"
   },
   {
    "duration": 118,
    "start_time": "2022-02-14T05:37:22.534Z"
   },
   {
    "duration": 227,
    "start_time": "2022-02-14T05:40:08.989Z"
   },
   {
    "duration": 152,
    "start_time": "2022-02-14T05:41:57.880Z"
   },
   {
    "duration": 1031,
    "start_time": "2022-02-14T05:46:08.269Z"
   },
   {
    "duration": 19,
    "start_time": "2022-02-14T05:46:09.302Z"
   },
   {
    "duration": 25,
    "start_time": "2022-02-14T05:46:09.323Z"
   },
   {
    "duration": 9,
    "start_time": "2022-02-14T05:46:09.350Z"
   },
   {
    "duration": 2,
    "start_time": "2022-02-14T05:46:09.361Z"
   },
   {
    "duration": 11,
    "start_time": "2022-02-14T05:46:09.365Z"
   },
   {
    "duration": 275,
    "start_time": "2022-02-14T05:46:09.377Z"
   },
   {
    "duration": 163,
    "start_time": "2022-02-14T05:46:09.654Z"
   },
   {
    "duration": 251,
    "start_time": "2022-02-14T05:46:09.819Z"
   },
   {
    "duration": 60,
    "start_time": "2022-02-14T05:46:10.072Z"
   },
   {
    "duration": 35,
    "start_time": "2022-02-14T05:46:10.135Z"
   },
   {
    "duration": 212,
    "start_time": "2022-02-14T05:46:10.172Z"
   },
   {
    "duration": 129,
    "start_time": "2022-02-14T05:46:10.386Z"
   },
   {
    "duration": 211,
    "start_time": "2022-02-14T05:57:57.916Z"
   },
   {
    "duration": 1027,
    "start_time": "2022-02-14T05:58:47.968Z"
   },
   {
    "duration": 17,
    "start_time": "2022-02-14T05:58:48.997Z"
   },
   {
    "duration": 26,
    "start_time": "2022-02-14T05:58:49.015Z"
   },
   {
    "duration": 6,
    "start_time": "2022-02-14T05:58:49.043Z"
   },
   {
    "duration": 2,
    "start_time": "2022-02-14T05:58:49.051Z"
   },
   {
    "duration": 8,
    "start_time": "2022-02-14T05:58:49.054Z"
   },
   {
    "duration": 191,
    "start_time": "2022-02-14T05:58:49.064Z"
   },
   {
    "duration": 174,
    "start_time": "2022-02-14T05:58:49.257Z"
   },
   {
    "duration": 223,
    "start_time": "2022-02-14T05:58:49.432Z"
   },
   {
    "duration": -77,
    "start_time": "2022-02-14T05:58:49.734Z"
   },
   {
    "duration": -78,
    "start_time": "2022-02-14T05:58:49.736Z"
   },
   {
    "duration": -83,
    "start_time": "2022-02-14T05:58:49.741Z"
   },
   {
    "duration": -84,
    "start_time": "2022-02-14T05:58:49.743Z"
   },
   {
    "duration": -85,
    "start_time": "2022-02-14T05:58:49.745Z"
   },
   {
    "duration": 44,
    "start_time": "2022-02-14T06:00:06.348Z"
   },
   {
    "duration": 43,
    "start_time": "2022-02-14T06:02:01.100Z"
   },
   {
    "duration": 897,
    "start_time": "2022-02-14T06:02:16.184Z"
   },
   {
    "duration": 457,
    "start_time": "2022-02-14T06:03:13.556Z"
   },
   {
    "duration": 250,
    "start_time": "2022-02-14T06:03:35.224Z"
   },
   {
    "duration": 343,
    "start_time": "2022-02-14T06:04:39.552Z"
   },
   {
    "duration": 252,
    "start_time": "2022-02-14T06:05:03.927Z"
   },
   {
    "duration": 56,
    "start_time": "2022-02-14T06:06:03.444Z"
   },
   {
    "duration": 33,
    "start_time": "2022-02-14T06:06:05.588Z"
   },
   {
    "duration": 209,
    "start_time": "2022-02-14T06:07:31.775Z"
   },
   {
    "duration": 105,
    "start_time": "2022-02-14T06:07:37.596Z"
   },
   {
    "duration": 281,
    "start_time": "2022-02-14T06:08:16.051Z"
   },
   {
    "duration": 598,
    "start_time": "2022-02-14T06:08:35.339Z"
   },
   {
    "duration": 1598,
    "start_time": "2022-02-14T06:08:46.900Z"
   },
   {
    "duration": 2278,
    "start_time": "2022-02-14T06:09:25.611Z"
   },
   {
    "duration": 386,
    "start_time": "2022-02-14T06:09:40.404Z"
   },
   {
    "duration": 1595,
    "start_time": "2022-02-14T06:23:50.002Z"
   },
   {
    "duration": 96,
    "start_time": "2022-02-14T06:27:53.282Z"
   },
   {
    "duration": 185,
    "start_time": "2022-02-14T06:28:20.142Z"
   },
   {
    "duration": 378,
    "start_time": "2022-02-14T06:28:33.554Z"
   },
   {
    "duration": 379,
    "start_time": "2022-02-14T06:29:19.357Z"
   },
   {
    "duration": 98,
    "start_time": "2022-02-14T06:29:27.382Z"
   },
   {
    "duration": 1569,
    "start_time": "2022-02-14T06:29:29.309Z"
   },
   {
    "duration": 1024,
    "start_time": "2022-02-14T06:33:34.978Z"
   },
   {
    "duration": 18,
    "start_time": "2022-02-14T06:33:36.005Z"
   },
   {
    "duration": 20,
    "start_time": "2022-02-14T06:33:36.031Z"
   },
   {
    "duration": 10,
    "start_time": "2022-02-14T06:33:36.053Z"
   },
   {
    "duration": 2,
    "start_time": "2022-02-14T06:33:36.064Z"
   },
   {
    "duration": 10,
    "start_time": "2022-02-14T06:33:36.068Z"
   },
   {
    "duration": 263,
    "start_time": "2022-02-14T06:33:36.080Z"
   },
   {
    "duration": 139,
    "start_time": "2022-02-14T06:33:36.346Z"
   },
   {
    "duration": 322,
    "start_time": "2022-02-14T06:33:36.487Z"
   },
   {
    "duration": 256,
    "start_time": "2022-02-14T06:33:36.810Z"
   },
   {
    "duration": 62,
    "start_time": "2022-02-14T06:33:37.068Z"
   },
   {
    "duration": 28,
    "start_time": "2022-02-14T06:33:37.132Z"
   },
   {
    "duration": 221,
    "start_time": "2022-02-14T06:33:37.162Z"
   },
   {
    "duration": 100,
    "start_time": "2022-02-14T06:33:37.385Z"
   },
   {
    "duration": 1266,
    "start_time": "2022-02-14T06:33:37.487Z"
   },
   {
    "duration": 51,
    "start_time": "2022-02-14T06:33:38.755Z"
   },
   {
    "duration": 16,
    "start_time": "2022-02-14T06:33:56.638Z"
   },
   {
    "duration": 15,
    "start_time": "2022-02-14T06:34:22.810Z"
   },
   {
    "duration": 240,
    "start_time": "2022-02-14T06:36:45.306Z"
   },
   {
    "duration": 260,
    "start_time": "2022-02-14T06:37:08.438Z"
   },
   {
    "duration": 678,
    "start_time": "2022-02-14T06:37:34.790Z"
   },
   {
    "duration": 62,
    "start_time": "2022-02-14T06:37:52.667Z"
   },
   {
    "duration": 26,
    "start_time": "2022-02-14T06:38:01.086Z"
   },
   {
    "duration": 30,
    "start_time": "2022-02-14T06:38:09.586Z"
   },
   {
    "duration": 32,
    "start_time": "2022-02-14T06:38:46.346Z"
   },
   {
    "duration": 35,
    "start_time": "2022-02-14T06:38:52.646Z"
   },
   {
    "duration": 37,
    "start_time": "2022-02-14T06:38:58.210Z"
   },
   {
    "duration": 36,
    "start_time": "2022-02-14T06:39:03.234Z"
   },
   {
    "duration": 42,
    "start_time": "2022-02-14T06:39:18.074Z"
   },
   {
    "duration": 42,
    "start_time": "2022-02-14T06:39:24.658Z"
   },
   {
    "duration": 309,
    "start_time": "2022-02-14T06:39:32.994Z"
   },
   {
    "duration": 40,
    "start_time": "2022-02-14T06:39:42.338Z"
   },
   {
    "duration": 307,
    "start_time": "2022-02-14T06:41:43.126Z"
   },
   {
    "duration": 37,
    "start_time": "2022-02-14T06:42:06.426Z"
   },
   {
    "duration": 5,
    "start_time": "2022-02-14T06:42:31.910Z"
   },
   {
    "duration": 41,
    "start_time": "2022-02-14T06:43:18.117Z"
   },
   {
    "duration": 42,
    "start_time": "2022-02-14T06:43:23.437Z"
   },
   {
    "duration": 46,
    "start_time": "2022-02-14T06:43:28.541Z"
   },
   {
    "duration": 48,
    "start_time": "2022-02-14T06:43:34.209Z"
   },
   {
    "duration": 54,
    "start_time": "2022-02-14T06:43:41.373Z"
   },
   {
    "duration": 50,
    "start_time": "2022-02-14T06:43:46.301Z"
   },
   {
    "duration": 33,
    "start_time": "2022-02-14T06:44:02.157Z"
   },
   {
    "duration": 272,
    "start_time": "2022-02-14T06:44:03.401Z"
   },
   {
    "duration": 101,
    "start_time": "2022-02-14T06:44:10.681Z"
   },
   {
    "duration": 1641,
    "start_time": "2022-02-14T06:44:44.774Z"
   },
   {
    "duration": 16,
    "start_time": "2022-02-14T06:45:35.137Z"
   },
   {
    "duration": 2712,
    "start_time": "2022-02-14T06:46:14.365Z"
   },
   {
    "duration": 1604,
    "start_time": "2022-02-14T06:46:36.662Z"
   },
   {
    "duration": 239,
    "start_time": "2022-02-14T07:10:54.183Z"
   },
   {
    "duration": 1075,
    "start_time": "2022-02-14T07:11:27.242Z"
   },
   {
    "duration": 22,
    "start_time": "2022-02-14T07:11:28.319Z"
   },
   {
    "duration": 26,
    "start_time": "2022-02-14T07:11:28.346Z"
   },
   {
    "duration": 11,
    "start_time": "2022-02-14T07:11:28.374Z"
   },
   {
    "duration": 2,
    "start_time": "2022-02-14T07:11:28.387Z"
   },
   {
    "duration": 6,
    "start_time": "2022-02-14T07:11:28.391Z"
   },
   {
    "duration": 246,
    "start_time": "2022-02-14T07:11:28.400Z"
   },
   {
    "duration": 270,
    "start_time": "2022-02-14T07:11:28.648Z"
   },
   {
    "duration": 711,
    "start_time": "2022-02-14T07:11:28.931Z"
   },
   {
    "duration": 273,
    "start_time": "2022-02-14T07:11:29.643Z"
   },
   {
    "duration": 50,
    "start_time": "2022-02-14T07:11:29.931Z"
   },
   {
    "duration": 51,
    "start_time": "2022-02-14T07:11:29.983Z"
   },
   {
    "duration": 243,
    "start_time": "2022-02-14T07:11:30.036Z"
   },
   {
    "duration": 124,
    "start_time": "2022-02-14T07:11:30.280Z"
   },
   {
    "duration": 1597,
    "start_time": "2022-02-14T07:11:30.406Z"
   },
   {
    "duration": 13,
    "start_time": "2022-02-14T07:11:32.005Z"
   },
   {
    "duration": 1590,
    "start_time": "2022-02-14T07:12:01.298Z"
   },
   {
    "duration": 52,
    "start_time": "2022-02-14T07:18:33.905Z"
   },
   {
    "duration": 53,
    "start_time": "2022-02-14T07:18:44.573Z"
   },
   {
    "duration": 35,
    "start_time": "2022-02-14T07:19:12.313Z"
   },
   {
    "duration": 26,
    "start_time": "2022-02-14T07:19:45.213Z"
   },
   {
    "duration": 40,
    "start_time": "2022-02-14T07:19:55.965Z"
   },
   {
    "duration": 40,
    "start_time": "2022-02-14T07:20:02.821Z"
   },
   {
    "duration": 11,
    "start_time": "2022-02-14T07:28:15.416Z"
   },
   {
    "duration": 40,
    "start_time": "2022-02-14T07:31:26.628Z"
   },
   {
    "duration": 36,
    "start_time": "2022-02-14T07:32:39.536Z"
   },
   {
    "duration": 108,
    "start_time": "2022-02-14T07:32:54.331Z"
   },
   {
    "duration": 1381,
    "start_time": "2022-02-14T07:34:35.286Z"
   },
   {
    "duration": 18,
    "start_time": "2022-02-14T07:34:36.669Z"
   },
   {
    "duration": 20,
    "start_time": "2022-02-14T07:34:36.689Z"
   },
   {
    "duration": 8,
    "start_time": "2022-02-14T07:34:36.731Z"
   },
   {
    "duration": 7,
    "start_time": "2022-02-14T07:34:36.741Z"
   },
   {
    "duration": 7,
    "start_time": "2022-02-14T07:34:36.749Z"
   },
   {
    "duration": 192,
    "start_time": "2022-02-14T07:34:36.758Z"
   },
   {
    "duration": 323,
    "start_time": "2022-02-14T07:34:36.953Z"
   },
   {
    "duration": 907,
    "start_time": "2022-02-14T07:34:37.278Z"
   },
   {
    "duration": 406,
    "start_time": "2022-02-14T07:34:38.187Z"
   },
   {
    "duration": 100,
    "start_time": "2022-02-14T07:34:38.595Z"
   },
   {
    "duration": 66,
    "start_time": "2022-02-14T07:34:38.698Z"
   },
   {
    "duration": 198,
    "start_time": "2022-02-14T07:34:38.766Z"
   },
   {
    "duration": 2074,
    "start_time": "2022-02-14T07:34:38.966Z"
   },
   {
    "duration": 223,
    "start_time": "2022-02-14T07:34:41.042Z"
   },
   {
    "duration": 1097,
    "start_time": "2022-02-14T07:37:52.808Z"
   },
   {
    "duration": 24,
    "start_time": "2022-02-14T07:37:53.907Z"
   },
   {
    "duration": 30,
    "start_time": "2022-02-14T07:37:53.933Z"
   },
   {
    "duration": 11,
    "start_time": "2022-02-14T07:37:53.965Z"
   },
   {
    "duration": 3,
    "start_time": "2022-02-14T07:37:53.978Z"
   },
   {
    "duration": 8,
    "start_time": "2022-02-14T07:37:53.983Z"
   },
   {
    "duration": 247,
    "start_time": "2022-02-14T07:37:53.993Z"
   },
   {
    "duration": 256,
    "start_time": "2022-02-14T07:37:54.242Z"
   },
   {
    "duration": 705,
    "start_time": "2022-02-14T07:37:54.500Z"
   },
   {
    "duration": 308,
    "start_time": "2022-02-14T07:37:55.207Z"
   },
   {
    "duration": 65,
    "start_time": "2022-02-14T07:37:55.516Z"
   },
   {
    "duration": 48,
    "start_time": "2022-02-14T07:37:55.583Z"
   },
   {
    "duration": 135,
    "start_time": "2022-02-14T07:37:55.632Z"
   },
   {
    "duration": 1650,
    "start_time": "2022-02-14T07:37:55.768Z"
   },
   {
    "duration": 22,
    "start_time": "2022-02-14T07:37:57.419Z"
   },
   {
    "duration": 1079,
    "start_time": "2022-02-14T07:38:51.726Z"
   },
   {
    "duration": 23,
    "start_time": "2022-02-14T07:38:52.808Z"
   },
   {
    "duration": 20,
    "start_time": "2022-02-14T07:38:52.833Z"
   },
   {
    "duration": 10,
    "start_time": "2022-02-14T07:38:52.855Z"
   },
   {
    "duration": 46,
    "start_time": "2022-02-14T07:38:52.866Z"
   },
   {
    "duration": -224,
    "start_time": "2022-02-14T07:38:53.138Z"
   },
   {
    "duration": -225,
    "start_time": "2022-02-14T07:38:53.140Z"
   },
   {
    "duration": -226,
    "start_time": "2022-02-14T07:38:53.142Z"
   },
   {
    "duration": -227,
    "start_time": "2022-02-14T07:38:53.144Z"
   },
   {
    "duration": -227,
    "start_time": "2022-02-14T07:38:53.145Z"
   },
   {
    "duration": -231,
    "start_time": "2022-02-14T07:38:53.150Z"
   },
   {
    "duration": -232,
    "start_time": "2022-02-14T07:38:53.152Z"
   },
   {
    "duration": -233,
    "start_time": "2022-02-14T07:38:53.154Z"
   },
   {
    "duration": -234,
    "start_time": "2022-02-14T07:38:53.156Z"
   },
   {
    "duration": -235,
    "start_time": "2022-02-14T07:38:53.158Z"
   },
   {
    "duration": 1040,
    "start_time": "2022-02-14T07:39:44.259Z"
   },
   {
    "duration": 17,
    "start_time": "2022-02-14T07:39:45.301Z"
   },
   {
    "duration": 27,
    "start_time": "2022-02-14T07:39:45.320Z"
   },
   {
    "duration": 10,
    "start_time": "2022-02-14T07:39:45.349Z"
   },
   {
    "duration": 17,
    "start_time": "2022-02-14T07:39:45.361Z"
   },
   {
    "duration": 5,
    "start_time": "2022-02-14T07:39:45.380Z"
   },
   {
    "duration": 161,
    "start_time": "2022-02-14T07:39:45.387Z"
   },
   {
    "duration": 306,
    "start_time": "2022-02-14T07:39:45.551Z"
   },
   {
    "duration": 713,
    "start_time": "2022-02-14T07:39:45.859Z"
   },
   {
    "duration": 257,
    "start_time": "2022-02-14T07:39:46.574Z"
   },
   {
    "duration": 50,
    "start_time": "2022-02-14T07:39:46.832Z"
   },
   {
    "duration": 47,
    "start_time": "2022-02-14T07:39:46.884Z"
   },
   {
    "duration": 119,
    "start_time": "2022-02-14T07:39:46.933Z"
   },
   {
    "duration": 1593,
    "start_time": "2022-02-14T07:39:47.054Z"
   },
   {
    "duration": 13,
    "start_time": "2022-02-14T07:39:48.648Z"
   },
   {
    "duration": 41,
    "start_time": "2022-02-14T07:43:25.179Z"
   },
   {
    "duration": 140,
    "start_time": "2022-02-14T07:44:03.851Z"
   },
   {
    "duration": 2126,
    "start_time": "2022-02-14T07:44:44.472Z"
   },
   {
    "duration": 3042,
    "start_time": "2022-02-14T07:45:00.259Z"
   },
   {
    "duration": 3530,
    "start_time": "2022-02-14T07:45:49.935Z"
   },
   {
    "duration": 145,
    "start_time": "2022-02-14T07:46:15.759Z"
   },
   {
    "duration": 58,
    "start_time": "2022-02-14T07:47:48.875Z"
   },
   {
    "duration": 42,
    "start_time": "2022-02-14T07:48:15.115Z"
   },
   {
    "duration": 34,
    "start_time": "2022-02-14T07:48:19.935Z"
   },
   {
    "duration": 163,
    "start_time": "2022-02-14T07:48:22.867Z"
   },
   {
    "duration": 3390,
    "start_time": "2022-02-14T07:48:27.391Z"
   },
   {
    "duration": 53,
    "start_time": "2022-02-14T07:48:30.783Z"
   },
   {
    "duration": 45,
    "start_time": "2022-02-14T07:48:41.847Z"
   },
   {
    "duration": 35,
    "start_time": "2022-02-14T07:48:43.711Z"
   },
   {
    "duration": 176,
    "start_time": "2022-02-14T07:48:48.039Z"
   },
   {
    "duration": 3772,
    "start_time": "2022-02-14T07:48:51.209Z"
   },
   {
    "duration": 54,
    "start_time": "2022-02-14T07:48:54.983Z"
   },
   {
    "duration": 50,
    "start_time": "2022-02-14T07:49:05.999Z"
   },
   {
    "duration": 37,
    "start_time": "2022-02-14T07:49:07.915Z"
   },
   {
    "duration": 182,
    "start_time": "2022-02-14T07:49:11.387Z"
   },
   {
    "duration": 5452,
    "start_time": "2022-02-14T07:49:24.203Z"
   },
   {
    "duration": 7116,
    "start_time": "2022-02-14T07:49:42.447Z"
   },
   {
    "duration": 41,
    "start_time": "2022-02-14T07:49:53.591Z"
   },
   {
    "duration": 51,
    "start_time": "2022-02-14T07:50:04.594Z"
   },
   {
    "duration": 34,
    "start_time": "2022-02-14T07:50:06.355Z"
   },
   {
    "duration": 203,
    "start_time": "2022-02-14T07:50:14.130Z"
   },
   {
    "duration": 8135,
    "start_time": "2022-02-14T07:50:17.723Z"
   },
   {
    "duration": 72,
    "start_time": "2022-02-14T07:50:35.559Z"
   },
   {
    "duration": 17,
    "start_time": "2022-02-14T07:50:41.735Z"
   },
   {
    "duration": 47,
    "start_time": "2022-02-14T07:51:21.359Z"
   },
   {
    "duration": 35,
    "start_time": "2022-02-14T07:51:24.222Z"
   },
   {
    "duration": 232,
    "start_time": "2022-02-14T07:51:28.586Z"
   },
   {
    "duration": 7074,
    "start_time": "2022-02-14T07:51:32.615Z"
   },
   {
    "duration": 47,
    "start_time": "2022-02-14T07:51:44.087Z"
   },
   {
    "duration": 16,
    "start_time": "2022-02-14T07:51:49.858Z"
   },
   {
    "duration": 454,
    "start_time": "2022-02-14T07:52:48.306Z"
   },
   {
    "duration": 32,
    "start_time": "2022-02-14T07:52:53.710Z"
   },
   {
    "duration": 12,
    "start_time": "2022-02-14T07:52:55.423Z"
   },
   {
    "duration": 1192,
    "start_time": "2022-02-14T07:54:03.250Z"
   },
   {
    "duration": 17,
    "start_time": "2022-02-14T07:54:04.444Z"
   },
   {
    "duration": 19,
    "start_time": "2022-02-14T07:54:04.463Z"
   },
   {
    "duration": 10,
    "start_time": "2022-02-14T07:54:04.484Z"
   },
   {
    "duration": 2,
    "start_time": "2022-02-14T07:54:04.496Z"
   },
   {
    "duration": 5,
    "start_time": "2022-02-14T07:54:04.531Z"
   },
   {
    "duration": 205,
    "start_time": "2022-02-14T07:54:04.538Z"
   },
   {
    "duration": 257,
    "start_time": "2022-02-14T07:54:04.745Z"
   },
   {
    "duration": 708,
    "start_time": "2022-02-14T07:54:05.004Z"
   },
   {
    "duration": 299,
    "start_time": "2022-02-14T07:54:05.714Z"
   },
   {
    "duration": 66,
    "start_time": "2022-02-14T07:54:06.015Z"
   },
   {
    "duration": 47,
    "start_time": "2022-02-14T07:54:06.083Z"
   },
   {
    "duration": 176,
    "start_time": "2022-02-14T07:54:06.132Z"
   },
   {
    "duration": 454,
    "start_time": "2022-02-14T07:54:06.310Z"
   },
   {
    "duration": 69,
    "start_time": "2022-02-14T07:54:06.766Z"
   },
   {
    "duration": 192,
    "start_time": "2022-02-14T07:54:06.838Z"
   },
   {
    "duration": 73,
    "start_time": "2022-02-14T07:54:25.359Z"
   },
   {
    "duration": 54,
    "start_time": "2022-02-14T07:54:26.015Z"
   },
   {
    "duration": 180,
    "start_time": "2022-02-14T07:54:29.307Z"
   },
   {
    "duration": 492,
    "start_time": "2022-02-14T07:54:32.079Z"
   },
   {
    "duration": 97,
    "start_time": "2022-02-14T07:54:34.643Z"
   },
   {
    "duration": 15,
    "start_time": "2022-02-14T07:54:36.107Z"
   },
   {
    "duration": 1008,
    "start_time": "2022-02-14T07:55:26.191Z"
   },
   {
    "duration": 78,
    "start_time": "2022-02-14T07:55:31.059Z"
   },
   {
    "duration": 14,
    "start_time": "2022-02-14T07:55:33.278Z"
   },
   {
    "duration": 4186,
    "start_time": "2022-02-14T07:55:52.995Z"
   },
   {
    "duration": 131,
    "start_time": "2022-02-14T07:56:02.899Z"
   },
   {
    "duration": 18,
    "start_time": "2022-02-14T07:56:04.442Z"
   },
   {
    "duration": 714,
    "start_time": "2022-02-14T07:56:16.758Z"
   },
   {
    "duration": 81,
    "start_time": "2022-02-14T07:56:46.550Z"
   },
   {
    "duration": 18,
    "start_time": "2022-02-14T07:57:00.445Z"
   },
   {
    "duration": 28,
    "start_time": "2022-02-14T07:59:35.706Z"
   },
   {
    "duration": 34,
    "start_time": "2022-02-14T08:00:56.758Z"
   },
   {
    "duration": 288,
    "start_time": "2022-02-14T08:04:07.342Z"
   },
   {
    "duration": 2662,
    "start_time": "2022-02-14T08:04:22.806Z"
   },
   {
    "duration": 21,
    "start_time": "2022-02-14T08:04:25.469Z"
   },
   {
    "duration": 38,
    "start_time": "2022-02-14T08:04:25.493Z"
   },
   {
    "duration": 11,
    "start_time": "2022-02-14T08:04:25.534Z"
   },
   {
    "duration": 2,
    "start_time": "2022-02-14T08:04:25.547Z"
   },
   {
    "duration": 9,
    "start_time": "2022-02-14T08:04:25.551Z"
   },
   {
    "duration": 188,
    "start_time": "2022-02-14T08:04:25.562Z"
   },
   {
    "duration": 280,
    "start_time": "2022-02-14T08:04:25.752Z"
   },
   {
    "duration": 762,
    "start_time": "2022-02-14T08:04:26.034Z"
   },
   {
    "duration": 334,
    "start_time": "2022-02-14T08:04:26.798Z"
   },
   {
    "duration": 57,
    "start_time": "2022-02-14T08:04:27.134Z"
   },
   {
    "duration": 54,
    "start_time": "2022-02-14T08:04:27.193Z"
   },
   {
    "duration": 731,
    "start_time": "2022-02-14T08:04:27.249Z"
   },
   {
    "duration": 4600,
    "start_time": "2022-02-14T08:04:27.982Z"
   },
   {
    "duration": 72,
    "start_time": "2022-02-14T08:04:32.584Z"
   },
   {
    "duration": 110,
    "start_time": "2022-02-14T08:04:32.732Z"
   },
   {
    "duration": 40,
    "start_time": "2022-02-14T08:06:50.100Z"
   },
   {
    "duration": 23,
    "start_time": "2022-02-14T08:06:53.272Z"
   },
   {
    "duration": 26,
    "start_time": "2022-02-14T08:06:59.996Z"
   },
   {
    "duration": 11,
    "start_time": "2022-02-14T08:07:01.904Z"
   },
   {
    "duration": 3,
    "start_time": "2022-02-14T08:07:03.164Z"
   },
   {
    "duration": 5,
    "start_time": "2022-02-14T08:07:04.484Z"
   },
   {
    "duration": 256,
    "start_time": "2022-02-14T08:07:08.004Z"
   },
   {
    "duration": 380,
    "start_time": "2022-02-14T08:07:12.796Z"
   },
   {
    "duration": 926,
    "start_time": "2022-02-14T08:07:19.904Z"
   },
   {
    "duration": 342,
    "start_time": "2022-02-14T08:07:25.672Z"
   },
   {
    "duration": 71,
    "start_time": "2022-02-14T08:07:28.176Z"
   },
   {
    "duration": 47,
    "start_time": "2022-02-14T08:07:33.277Z"
   },
   {
    "duration": 1045,
    "start_time": "2022-02-14T08:07:35.092Z"
   },
   {
    "duration": 5663,
    "start_time": "2022-02-14T08:07:36.292Z"
   },
   {
    "duration": 77,
    "start_time": "2022-02-14T08:07:41.956Z"
   },
   {
    "duration": 18,
    "start_time": "2022-02-14T08:07:45.089Z"
   },
   {
    "duration": 68,
    "start_time": "2022-02-14T08:08:14.400Z"
   },
   {
    "duration": 66,
    "start_time": "2022-02-14T08:08:22.604Z"
   },
   {
    "duration": 68,
    "start_time": "2022-02-14T08:08:28.049Z"
   },
   {
    "duration": 46,
    "start_time": "2022-02-14T08:08:39.324Z"
   },
   {
    "duration": 57,
    "start_time": "2022-02-14T08:09:20.440Z"
   },
   {
    "duration": 61,
    "start_time": "2022-02-14T08:09:43.656Z"
   },
   {
    "duration": 64,
    "start_time": "2022-02-14T08:09:50.748Z"
   },
   {
    "duration": 60,
    "start_time": "2022-02-14T08:09:56.688Z"
   },
   {
    "duration": 62,
    "start_time": "2022-02-14T08:10:05.252Z"
   },
   {
    "duration": 69,
    "start_time": "2022-02-14T08:10:09.876Z"
   },
   {
    "duration": 72,
    "start_time": "2022-02-14T08:10:15.280Z"
   },
   {
    "duration": 63,
    "start_time": "2022-02-14T08:10:20.860Z"
   },
   {
    "duration": 45,
    "start_time": "2022-02-14T08:10:24.476Z"
   },
   {
    "duration": 928,
    "start_time": "2022-02-14T08:10:25.658Z"
   },
   {
    "duration": 5676,
    "start_time": "2022-02-14T08:10:32.340Z"
   },
   {
    "duration": 76,
    "start_time": "2022-02-14T08:10:41.256Z"
   },
   {
    "duration": 18,
    "start_time": "2022-02-14T08:10:49.376Z"
   },
   {
    "duration": 1089,
    "start_time": "2022-02-14T08:12:02.413Z"
   },
   {
    "duration": 26,
    "start_time": "2022-02-14T08:12:03.504Z"
   },
   {
    "duration": 21,
    "start_time": "2022-02-14T08:12:03.534Z"
   },
   {
    "duration": 11,
    "start_time": "2022-02-14T08:12:03.557Z"
   },
   {
    "duration": 2,
    "start_time": "2022-02-14T08:12:03.570Z"
   },
   {
    "duration": 12,
    "start_time": "2022-02-14T08:12:03.573Z"
   },
   {
    "duration": 179,
    "start_time": "2022-02-14T08:12:03.587Z"
   },
   {
    "duration": 417,
    "start_time": "2022-02-14T08:12:03.767Z"
   },
   {
    "duration": 1019,
    "start_time": "2022-02-14T08:12:04.186Z"
   },
   {
    "duration": 357,
    "start_time": "2022-02-14T08:12:05.207Z"
   },
   {
    "duration": 78,
    "start_time": "2022-02-14T08:12:05.566Z"
   },
   {
    "duration": 47,
    "start_time": "2022-02-14T08:12:05.646Z"
   },
   {
    "duration": 606,
    "start_time": "2022-02-14T08:12:05.695Z"
   },
   {
    "duration": 2994,
    "start_time": "2022-02-14T08:12:06.303Z"
   },
   {
    "duration": 40,
    "start_time": "2022-02-14T08:12:09.299Z"
   },
   {
    "duration": 202,
    "start_time": "2022-02-14T08:12:09.340Z"
   },
   {
    "duration": 1036,
    "start_time": "2022-02-14T08:14:08.262Z"
   },
   {
    "duration": 18,
    "start_time": "2022-02-14T08:14:09.300Z"
   },
   {
    "duration": 24,
    "start_time": "2022-02-14T08:14:09.320Z"
   },
   {
    "duration": 10,
    "start_time": "2022-02-14T08:14:09.346Z"
   },
   {
    "duration": 2,
    "start_time": "2022-02-14T08:14:09.357Z"
   },
   {
    "duration": 6,
    "start_time": "2022-02-14T08:14:09.361Z"
   },
   {
    "duration": 189,
    "start_time": "2022-02-14T08:14:09.369Z"
   },
   {
    "duration": 362,
    "start_time": "2022-02-14T08:14:09.560Z"
   },
   {
    "duration": 822,
    "start_time": "2022-02-14T08:14:09.930Z"
   },
   {
    "duration": 386,
    "start_time": "2022-02-14T08:14:10.753Z"
   },
   {
    "duration": 61,
    "start_time": "2022-02-14T08:14:11.141Z"
   },
   {
    "duration": 58,
    "start_time": "2022-02-14T08:14:11.203Z"
   },
   {
    "duration": 534,
    "start_time": "2022-02-14T08:14:11.263Z"
   },
   {
    "duration": 2501,
    "start_time": "2022-02-14T08:14:11.799Z"
   },
   {
    "duration": 38,
    "start_time": "2022-02-14T08:14:14.302Z"
   },
   {
    "duration": 108,
    "start_time": "2022-02-14T08:14:14.432Z"
   },
   {
    "duration": 1085,
    "start_time": "2022-02-14T08:16:24.579Z"
   },
   {
    "duration": 1142,
    "start_time": "2022-02-14T08:16:37.759Z"
   },
   {
    "duration": 28,
    "start_time": "2022-02-14T08:16:38.903Z"
   },
   {
    "duration": 34,
    "start_time": "2022-02-14T08:16:38.933Z"
   },
   {
    "duration": 10,
    "start_time": "2022-02-14T08:16:38.970Z"
   },
   {
    "duration": 2,
    "start_time": "2022-02-14T08:16:38.982Z"
   },
   {
    "duration": 10,
    "start_time": "2022-02-14T08:16:38.985Z"
   },
   {
    "duration": 272,
    "start_time": "2022-02-14T08:16:38.996Z"
   },
   {
    "duration": 397,
    "start_time": "2022-02-14T08:16:39.270Z"
   },
   {
    "duration": 887,
    "start_time": "2022-02-14T08:16:39.669Z"
   },
   {
    "duration": 308,
    "start_time": "2022-02-14T08:16:40.558Z"
   },
   {
    "duration": 74,
    "start_time": "2022-02-14T08:16:40.868Z"
   },
   {
    "duration": 47,
    "start_time": "2022-02-14T08:16:40.944Z"
   },
   {
    "duration": 624,
    "start_time": "2022-02-14T08:16:40.992Z"
   },
   {
    "duration": 2761,
    "start_time": "2022-02-14T08:16:41.618Z"
   },
   {
    "duration": 56,
    "start_time": "2022-02-14T08:16:44.381Z"
   },
   {
    "duration": 109,
    "start_time": "2022-02-14T08:16:44.439Z"
   },
   {
    "duration": 45,
    "start_time": "2022-02-14T08:17:47.559Z"
   },
   {
    "duration": 50,
    "start_time": "2022-02-14T08:18:00.368Z"
   },
   {
    "duration": 46,
    "start_time": "2022-02-14T08:18:09.367Z"
   },
   {
    "duration": 1124,
    "start_time": "2022-02-15T15:04:04.624Z"
   },
   {
    "duration": 13,
    "start_time": "2022-02-15T15:04:05.750Z"
   },
   {
    "duration": 18,
    "start_time": "2022-02-15T15:04:05.765Z"
   },
   {
    "duration": 10,
    "start_time": "2022-02-15T15:04:05.784Z"
   },
   {
    "duration": 359,
    "start_time": "2022-02-15T15:04:05.795Z"
   },
   {
    "duration": -277,
    "start_time": "2022-02-15T15:04:06.433Z"
   },
   {
    "duration": -278,
    "start_time": "2022-02-15T15:04:06.435Z"
   },
   {
    "duration": -280,
    "start_time": "2022-02-15T15:04:06.437Z"
   },
   {
    "duration": -281,
    "start_time": "2022-02-15T15:04:06.439Z"
   },
   {
    "duration": -282,
    "start_time": "2022-02-15T15:04:06.441Z"
   },
   {
    "duration": -287,
    "start_time": "2022-02-15T15:04:06.447Z"
   },
   {
    "duration": -289,
    "start_time": "2022-02-15T15:04:06.450Z"
   },
   {
    "duration": -290,
    "start_time": "2022-02-15T15:04:06.452Z"
   },
   {
    "duration": -291,
    "start_time": "2022-02-15T15:04:06.454Z"
   },
   {
    "duration": -292,
    "start_time": "2022-02-15T15:04:06.456Z"
   },
   {
    "duration": -293,
    "start_time": "2022-02-15T15:04:06.458Z"
   },
   {
    "duration": 348,
    "start_time": "2022-02-15T15:05:56.035Z"
   },
   {
    "duration": 21,
    "start_time": "2022-02-15T15:05:58.983Z"
   },
   {
    "duration": 1114,
    "start_time": "2022-02-15T15:06:39.846Z"
   },
   {
    "duration": 14,
    "start_time": "2022-02-15T15:06:40.961Z"
   },
   {
    "duration": 18,
    "start_time": "2022-02-15T15:06:40.977Z"
   },
   {
    "duration": 10,
    "start_time": "2022-02-15T15:06:40.996Z"
   },
   {
    "duration": 43,
    "start_time": "2022-02-15T15:06:41.007Z"
   },
   {
    "duration": 4,
    "start_time": "2022-02-15T15:06:41.052Z"
   },
   {
    "duration": 202,
    "start_time": "2022-02-15T15:06:41.058Z"
   },
   {
    "duration": 380,
    "start_time": "2022-02-15T15:06:41.262Z"
   },
   {
    "duration": 863,
    "start_time": "2022-02-15T15:06:41.644Z"
   },
   {
    "duration": 337,
    "start_time": "2022-02-15T15:06:42.508Z"
   },
   {
    "duration": 60,
    "start_time": "2022-02-15T15:06:42.846Z"
   },
   {
    "duration": 55,
    "start_time": "2022-02-15T15:06:42.907Z"
   },
   {
    "duration": 559,
    "start_time": "2022-02-15T15:06:42.963Z"
   },
   {
    "duration": 2617,
    "start_time": "2022-02-15T15:06:43.524Z"
   },
   {
    "duration": 90,
    "start_time": "2022-02-15T15:06:46.142Z"
   },
   {
    "duration": 102,
    "start_time": "2022-02-15T15:06:46.235Z"
   },
   {
    "duration": 2,
    "start_time": "2022-02-15T15:08:51.302Z"
   },
   {
    "duration": 193,
    "start_time": "2022-02-15T15:09:25.567Z"
   },
   {
    "duration": 2,
    "start_time": "2022-02-15T15:09:27.242Z"
   },
   {
    "duration": 823,
    "start_time": "2022-02-15T15:09:27.774Z"
   },
   {
    "duration": 297,
    "start_time": "2022-02-15T15:10:50.751Z"
   },
   {
    "duration": 561,
    "start_time": "2022-02-15T15:11:11.782Z"
   },
   {
    "duration": 313,
    "start_time": "2022-02-15T15:12:45.938Z"
   },
   {
    "duration": 327,
    "start_time": "2022-02-15T15:16:26.434Z"
   },
   {
    "duration": 299,
    "start_time": "2022-02-15T15:17:54.485Z"
   },
   {
    "duration": 5,
    "start_time": "2022-02-15T15:18:03.301Z"
   },
   {
    "duration": 862,
    "start_time": "2022-02-15T15:20:04.442Z"
   },
   {
    "duration": 335,
    "start_time": "2022-02-15T15:21:12.112Z"
   },
   {
    "duration": 5,
    "start_time": "2022-02-15T15:22:32.680Z"
   },
   {
    "duration": 6194,
    "start_time": "2022-02-15T15:22:59.659Z"
   },
   {
    "duration": 310,
    "start_time": "2022-02-15T15:23:55.397Z"
   },
   {
    "duration": 319,
    "start_time": "2022-02-15T15:24:10.673Z"
   },
   {
    "duration": 328,
    "start_time": "2022-02-15T15:28:57.096Z"
   },
   {
    "duration": 336,
    "start_time": "2022-02-15T15:29:20.232Z"
   },
   {
    "duration": 298,
    "start_time": "2022-02-15T15:29:43.284Z"
   },
   {
    "duration": 13,
    "start_time": "2022-02-15T15:30:13.440Z"
   },
   {
    "duration": 301,
    "start_time": "2022-02-15T15:30:54.956Z"
   },
   {
    "duration": 12,
    "start_time": "2022-02-15T15:32:29.544Z"
   },
   {
    "duration": 9,
    "start_time": "2022-02-15T15:33:12.652Z"
   },
   {
    "duration": 11,
    "start_time": "2022-02-15T15:34:11.336Z"
   },
   {
    "duration": 133,
    "start_time": "2022-02-15T15:37:19.623Z"
   },
   {
    "duration": 172,
    "start_time": "2022-02-15T15:37:27.072Z"
   },
   {
    "duration": 156,
    "start_time": "2022-02-15T15:45:09.195Z"
   },
   {
    "duration": 1079,
    "start_time": "2022-02-15T15:48:50.277Z"
   },
   {
    "duration": 16,
    "start_time": "2022-02-15T15:48:51.358Z"
   },
   {
    "duration": 174,
    "start_time": "2022-02-15T15:48:51.376Z"
   },
   {
    "duration": 211,
    "start_time": "2022-02-15T15:48:51.552Z"
   },
   {
    "duration": 338,
    "start_time": "2022-02-15T15:48:51.765Z"
   },
   {
    "duration": 31,
    "start_time": "2022-02-15T15:48:52.105Z"
   },
   {
    "duration": 6,
    "start_time": "2022-02-15T15:48:52.137Z"
   },
   {
    "duration": 2171,
    "start_time": "2022-02-15T15:48:52.145Z"
   },
   {
    "duration": 3,
    "start_time": "2022-02-15T15:48:54.318Z"
   },
   {
    "duration": 8629,
    "start_time": "2022-02-15T15:48:54.322Z"
   },
   {
    "duration": 1764,
    "start_time": "2022-02-15T15:49:02.953Z"
   },
   {
    "duration": 1074,
    "start_time": "2022-02-15T15:49:04.718Z"
   },
   {
    "duration": 673,
    "start_time": "2022-02-15T15:49:05.794Z"
   },
   {
    "duration": 6781,
    "start_time": "2022-02-15T15:49:06.468Z"
   },
   {
    "duration": 24915,
    "start_time": "2022-02-15T15:49:13.250Z"
   },
   {
    "duration": 471,
    "start_time": "2022-02-15T15:49:38.167Z"
   },
   {
    "duration": 220,
    "start_time": "2022-02-15T15:49:38.640Z"
   },
   {
    "duration": 4,
    "start_time": "2022-02-15T15:56:17.937Z"
   },
   {
    "duration": 20,
    "start_time": "2022-02-15T15:56:19.761Z"
   },
   {
    "duration": 1026,
    "start_time": "2022-02-15T15:56:28.274Z"
   },
   {
    "duration": 13,
    "start_time": "2022-02-15T15:56:29.301Z"
   },
   {
    "duration": 174,
    "start_time": "2022-02-15T15:56:29.316Z"
   },
   {
    "duration": 4,
    "start_time": "2022-02-15T15:56:29.492Z"
   },
   {
    "duration": 39,
    "start_time": "2022-02-15T15:56:29.497Z"
   },
   {
    "duration": 15,
    "start_time": "2022-02-15T15:56:29.537Z"
   },
   {
    "duration": 26,
    "start_time": "2022-02-15T15:56:29.553Z"
   },
   {
    "duration": 12,
    "start_time": "2022-02-15T15:56:29.581Z"
   },
   {
    "duration": 354,
    "start_time": "2022-02-15T15:56:29.595Z"
   },
   {
    "duration": 3,
    "start_time": "2022-02-15T15:56:29.950Z"
   },
   {
    "duration": 870,
    "start_time": "2022-02-15T15:56:29.954Z"
   },
   {
    "duration": 335,
    "start_time": "2022-02-15T15:56:30.826Z"
   },
   {
    "duration": 72,
    "start_time": "2022-02-15T15:56:31.163Z"
   },
   {
    "duration": 47,
    "start_time": "2022-02-15T15:56:31.236Z"
   },
   {
    "duration": 597,
    "start_time": "2022-02-15T15:56:31.284Z"
   },
   {
    "duration": 2766,
    "start_time": "2022-02-15T15:56:31.883Z"
   },
   {
    "duration": 80,
    "start_time": "2022-02-15T15:56:34.652Z"
   },
   {
    "duration": 105,
    "start_time": "2022-02-15T15:56:34.734Z"
   },
   {
    "duration": 58,
    "start_time": "2022-02-15T15:57:16.210Z"
   },
   {
    "duration": 56,
    "start_time": "2022-02-15T15:57:23.449Z"
   },
   {
    "duration": 65,
    "start_time": "2022-02-15T15:57:32.386Z"
   },
   {
    "duration": 68,
    "start_time": "2022-02-15T15:57:40.265Z"
   },
   {
    "duration": 46,
    "start_time": "2022-02-15T15:57:58.058Z"
   },
   {
    "duration": 44,
    "start_time": "2022-02-15T15:58:04.402Z"
   },
   {
    "duration": 40,
    "start_time": "2022-02-15T15:58:09.353Z"
   },
   {
    "duration": 46,
    "start_time": "2022-02-15T15:58:15.290Z"
   },
   {
    "duration": 44,
    "start_time": "2022-02-15T15:58:20.313Z"
   },
   {
    "duration": 1107,
    "start_time": "2022-02-15T15:59:54.101Z"
   },
   {
    "duration": 14,
    "start_time": "2022-02-15T15:59:55.209Z"
   },
   {
    "duration": 172,
    "start_time": "2022-02-15T15:59:55.225Z"
   },
   {
    "duration": 4,
    "start_time": "2022-02-15T15:59:55.398Z"
   },
   {
    "duration": 33,
    "start_time": "2022-02-15T15:59:55.404Z"
   },
   {
    "duration": 11,
    "start_time": "2022-02-15T15:59:55.438Z"
   },
   {
    "duration": 397,
    "start_time": "2022-02-15T15:59:55.450Z"
   },
   {
    "duration": -348,
    "start_time": "2022-02-15T15:59:56.197Z"
   },
   {
    "duration": -350,
    "start_time": "2022-02-15T15:59:56.200Z"
   },
   {
    "duration": -351,
    "start_time": "2022-02-15T15:59:56.202Z"
   },
   {
    "duration": -353,
    "start_time": "2022-02-15T15:59:56.204Z"
   },
   {
    "duration": -354,
    "start_time": "2022-02-15T15:59:56.206Z"
   },
   {
    "duration": -355,
    "start_time": "2022-02-15T15:59:56.208Z"
   },
   {
    "duration": -356,
    "start_time": "2022-02-15T15:59:56.210Z"
   },
   {
    "duration": -357,
    "start_time": "2022-02-15T15:59:56.212Z"
   },
   {
    "duration": -358,
    "start_time": "2022-02-15T15:59:56.214Z"
   },
   {
    "duration": -359,
    "start_time": "2022-02-15T15:59:56.216Z"
   },
   {
    "duration": -360,
    "start_time": "2022-02-15T15:59:56.218Z"
   },
   {
    "duration": 1053,
    "start_time": "2022-02-15T16:00:51.331Z"
   },
   {
    "duration": 13,
    "start_time": "2022-02-15T16:00:52.386Z"
   },
   {
    "duration": 162,
    "start_time": "2022-02-15T16:00:52.400Z"
   },
   {
    "duration": 4,
    "start_time": "2022-02-15T16:00:52.564Z"
   },
   {
    "duration": 21,
    "start_time": "2022-02-15T16:00:52.569Z"
   },
   {
    "duration": 10,
    "start_time": "2022-02-15T16:00:52.592Z"
   },
   {
    "duration": 40,
    "start_time": "2022-02-15T16:00:52.603Z"
   },
   {
    "duration": 5,
    "start_time": "2022-02-15T16:00:52.645Z"
   },
   {
    "duration": 270,
    "start_time": "2022-02-15T16:00:52.651Z"
   },
   {
    "duration": 3,
    "start_time": "2022-02-15T16:00:52.932Z"
   },
   {
    "duration": 824,
    "start_time": "2022-02-15T16:00:52.936Z"
   },
   {
    "duration": 284,
    "start_time": "2022-02-15T16:00:53.762Z"
   },
   {
    "duration": 54,
    "start_time": "2022-02-15T16:00:54.048Z"
   },
   {
    "duration": 51,
    "start_time": "2022-02-15T16:00:54.104Z"
   },
   {
    "duration": 519,
    "start_time": "2022-02-15T16:00:54.156Z"
   },
   {
    "duration": 2574,
    "start_time": "2022-02-15T16:00:54.676Z"
   },
   {
    "duration": 82,
    "start_time": "2022-02-15T16:00:57.252Z"
   },
   {
    "duration": 114,
    "start_time": "2022-02-15T16:00:57.338Z"
   },
   {
    "duration": 1033,
    "start_time": "2022-02-15T16:03:08.351Z"
   },
   {
    "duration": 13,
    "start_time": "2022-02-15T16:03:09.385Z"
   },
   {
    "duration": 178,
    "start_time": "2022-02-15T16:03:09.401Z"
   },
   {
    "duration": 3,
    "start_time": "2022-02-15T16:03:09.581Z"
   },
   {
    "duration": 222,
    "start_time": "2022-02-15T16:03:09.586Z"
   },
   {
    "duration": 343,
    "start_time": "2022-02-15T16:03:09.810Z"
   },
   {
    "duration": 19,
    "start_time": "2022-02-15T16:03:10.155Z"
   },
   {
    "duration": 25,
    "start_time": "2022-02-15T16:03:10.177Z"
   },
   {
    "duration": 2178,
    "start_time": "2022-02-15T16:03:10.204Z"
   },
   {
    "duration": 2,
    "start_time": "2022-02-15T16:03:12.383Z"
   },
   {
    "duration": 8870,
    "start_time": "2022-02-15T16:03:12.387Z"
   },
   {
    "duration": 1820,
    "start_time": "2022-02-15T16:03:21.259Z"
   },
   {
    "duration": 1204,
    "start_time": "2022-02-15T16:03:23.081Z"
   },
   {
    "duration": 672,
    "start_time": "2022-02-15T16:03:24.287Z"
   },
   {
    "duration": 6784,
    "start_time": "2022-02-15T16:03:24.960Z"
   },
   {
    "duration": 24325,
    "start_time": "2022-02-15T16:03:31.746Z"
   },
   {
    "duration": 368,
    "start_time": "2022-02-15T16:03:56.073Z"
   },
   {
    "duration": 168,
    "start_time": "2022-02-15T16:03:56.531Z"
   },
   {
    "duration": 994,
    "start_time": "2022-02-15T16:05:21.389Z"
   },
   {
    "duration": 12,
    "start_time": "2022-02-15T16:05:22.384Z"
   },
   {
    "duration": 161,
    "start_time": "2022-02-15T16:05:22.398Z"
   },
   {
    "duration": 5,
    "start_time": "2022-02-15T16:05:22.560Z"
   },
   {
    "duration": 21,
    "start_time": "2022-02-15T16:05:22.566Z"
   },
   {
    "duration": 9,
    "start_time": "2022-02-15T16:05:22.588Z"
   },
   {
    "duration": 38,
    "start_time": "2022-02-15T16:05:22.598Z"
   },
   {
    "duration": 5,
    "start_time": "2022-02-15T16:05:22.638Z"
   },
   {
    "duration": 269,
    "start_time": "2022-02-15T16:05:22.645Z"
   },
   {
    "duration": 2,
    "start_time": "2022-02-15T16:05:22.931Z"
   },
   {
    "duration": 755,
    "start_time": "2022-02-15T16:05:22.935Z"
   },
   {
    "duration": 319,
    "start_time": "2022-02-15T16:05:23.691Z"
   },
   {
    "duration": 55,
    "start_time": "2022-02-15T16:05:24.011Z"
   },
   {
    "duration": 33,
    "start_time": "2022-02-15T16:05:24.068Z"
   },
   {
    "duration": 428,
    "start_time": "2022-02-15T16:05:24.103Z"
   },
   {
    "duration": 2308,
    "start_time": "2022-02-15T16:05:24.533Z"
   },
   {
    "duration": 98,
    "start_time": "2022-02-15T16:05:26.842Z"
   },
   {
    "duration": 100,
    "start_time": "2022-02-15T16:05:26.943Z"
   },
   {
    "duration": 1071,
    "start_time": "2022-02-15T16:06:07.127Z"
   },
   {
    "duration": 15,
    "start_time": "2022-02-15T16:06:08.200Z"
   },
   {
    "duration": 209,
    "start_time": "2022-02-15T16:06:08.217Z"
   },
   {
    "duration": 5,
    "start_time": "2022-02-15T16:06:08.428Z"
   },
   {
    "duration": 22,
    "start_time": "2022-02-15T16:06:08.435Z"
   },
   {
    "duration": 10,
    "start_time": "2022-02-15T16:06:08.458Z"
   },
   {
    "duration": 2,
    "start_time": "2022-02-15T16:06:08.470Z"
   },
   {
    "duration": 6,
    "start_time": "2022-02-15T16:06:08.475Z"
   },
   {
    "duration": 333,
    "start_time": "2022-02-15T16:06:08.482Z"
   },
   {
    "duration": 15,
    "start_time": "2022-02-15T16:06:08.817Z"
   },
   {
    "duration": 796,
    "start_time": "2022-02-15T16:06:08.833Z"
   },
   {
    "duration": 269,
    "start_time": "2022-02-15T16:06:09.632Z"
   },
   {
    "duration": 60,
    "start_time": "2022-02-15T16:06:09.903Z"
   },
   {
    "duration": 32,
    "start_time": "2022-02-15T16:06:09.964Z"
   },
   {
    "duration": 400,
    "start_time": "2022-02-15T16:06:09.998Z"
   },
   {
    "duration": 2293,
    "start_time": "2022-02-15T16:06:10.400Z"
   },
   {
    "duration": 62,
    "start_time": "2022-02-15T16:06:12.695Z"
   },
   {
    "duration": 104,
    "start_time": "2022-02-15T16:06:12.833Z"
   },
   {
    "duration": 161,
    "start_time": "2022-02-15T16:07:45.864Z"
   },
   {
    "duration": 1066,
    "start_time": "2022-02-15T16:11:11.730Z"
   },
   {
    "duration": 14,
    "start_time": "2022-02-15T16:11:12.798Z"
   },
   {
    "duration": 202,
    "start_time": "2022-02-15T16:11:12.814Z"
   },
   {
    "duration": 5,
    "start_time": "2022-02-15T16:11:13.018Z"
   },
   {
    "duration": 26,
    "start_time": "2022-02-15T16:11:13.031Z"
   },
   {
    "duration": 13,
    "start_time": "2022-02-15T16:11:13.059Z"
   },
   {
    "duration": 18,
    "start_time": "2022-02-15T16:11:13.073Z"
   },
   {
    "duration": 6,
    "start_time": "2022-02-15T16:11:13.093Z"
   },
   {
    "duration": 313,
    "start_time": "2022-02-15T16:11:13.100Z"
   },
   {
    "duration": 2,
    "start_time": "2022-02-15T16:11:13.414Z"
   },
   {
    "duration": 759,
    "start_time": "2022-02-15T16:11:13.418Z"
   },
   {
    "duration": 285,
    "start_time": "2022-02-15T16:11:14.179Z"
   },
   {
    "duration": 52,
    "start_time": "2022-02-15T16:11:14.466Z"
   },
   {
    "duration": 47,
    "start_time": "2022-02-15T16:11:14.520Z"
   },
   {
    "duration": 479,
    "start_time": "2022-02-15T16:11:14.569Z"
   },
   {
    "duration": 2333,
    "start_time": "2022-02-15T16:11:15.050Z"
   },
   {
    "duration": 53,
    "start_time": "2022-02-15T16:11:17.384Z"
   },
   {
    "duration": 194,
    "start_time": "2022-02-15T16:11:17.439Z"
   },
   {
    "duration": 109,
    "start_time": "2022-02-15T16:15:06.703Z"
   },
   {
    "duration": 710,
    "start_time": "2022-02-15T16:15:19.862Z"
   },
   {
    "duration": 724,
    "start_time": "2022-02-15T16:15:39.966Z"
   },
   {
    "duration": 722,
    "start_time": "2022-02-15T16:32:41.793Z"
   },
   {
    "duration": 894,
    "start_time": "2022-02-15T16:32:59.353Z"
   },
   {
    "duration": 515,
    "start_time": "2022-02-15T16:33:13.361Z"
   },
   {
    "duration": 496,
    "start_time": "2022-02-15T16:34:56.865Z"
   },
   {
    "duration": 2543,
    "start_time": "2022-02-15T16:40:20.486Z"
   },
   {
    "duration": 106,
    "start_time": "2022-02-15T16:40:23.928Z"
   },
   {
    "duration": 3524,
    "start_time": "2022-02-15T16:40:29.949Z"
   },
   {
    "duration": 17,
    "start_time": "2022-02-15T16:42:04.780Z"
   },
   {
    "duration": 4534,
    "start_time": "2022-02-15T16:50:00.780Z"
   },
   {
    "duration": 1166,
    "start_time": "2022-02-15T16:51:49.135Z"
   },
   {
    "duration": 1687,
    "start_time": "2022-02-15T16:53:49.315Z"
   },
   {
    "duration": 1014,
    "start_time": "2022-02-15T16:57:41.472Z"
   },
   {
    "duration": 12,
    "start_time": "2022-02-15T16:57:42.488Z"
   },
   {
    "duration": 164,
    "start_time": "2022-02-15T16:57:42.502Z"
   },
   {
    "duration": 4,
    "start_time": "2022-02-15T16:57:42.667Z"
   },
   {
    "duration": 22,
    "start_time": "2022-02-15T16:57:42.673Z"
   },
   {
    "duration": 10,
    "start_time": "2022-02-15T16:57:42.696Z"
   },
   {
    "duration": 31,
    "start_time": "2022-02-15T16:57:42.707Z"
   },
   {
    "duration": 5,
    "start_time": "2022-02-15T16:57:42.741Z"
   },
   {
    "duration": 265,
    "start_time": "2022-02-15T16:57:42.748Z"
   },
   {
    "duration": 17,
    "start_time": "2022-02-15T16:57:43.015Z"
   },
   {
    "duration": 715,
    "start_time": "2022-02-15T16:57:43.033Z"
   },
   {
    "duration": 284,
    "start_time": "2022-02-15T16:57:43.749Z"
   },
   {
    "duration": 49,
    "start_time": "2022-02-15T16:57:44.034Z"
   },
   {
    "duration": 50,
    "start_time": "2022-02-15T16:57:44.084Z"
   },
   {
    "duration": 520,
    "start_time": "2022-02-15T16:57:44.136Z"
   },
   {
    "duration": 1575,
    "start_time": "2022-02-15T16:57:44.658Z"
   },
   {
    "duration": 100,
    "start_time": "2022-02-15T16:57:46.234Z"
   },
   {
    "duration": 478,
    "start_time": "2022-02-15T16:57:46.336Z"
   },
   {
    "duration": 19,
    "start_time": "2022-02-15T16:58:17.792Z"
   },
   {
    "duration": 21,
    "start_time": "2022-02-15T17:00:57.732Z"
   },
   {
    "duration": 1022,
    "start_time": "2022-02-15T17:02:22.974Z"
   },
   {
    "duration": 13,
    "start_time": "2022-02-15T17:02:23.998Z"
   },
   {
    "duration": 172,
    "start_time": "2022-02-15T17:02:24.016Z"
   },
   {
    "duration": 5,
    "start_time": "2022-02-15T17:02:24.190Z"
   },
   {
    "duration": 35,
    "start_time": "2022-02-15T17:02:24.197Z"
   },
   {
    "duration": 10,
    "start_time": "2022-02-15T17:02:24.234Z"
   },
   {
    "duration": 22,
    "start_time": "2022-02-15T17:02:24.247Z"
   },
   {
    "duration": 4,
    "start_time": "2022-02-15T17:02:24.271Z"
   },
   {
    "duration": 332,
    "start_time": "2022-02-15T17:02:24.277Z"
   },
   {
    "duration": 2,
    "start_time": "2022-02-15T17:02:24.611Z"
   },
   {
    "duration": 819,
    "start_time": "2022-02-15T17:02:24.615Z"
   },
   {
    "duration": 320,
    "start_time": "2022-02-15T17:02:25.435Z"
   },
   {
    "duration": 55,
    "start_time": "2022-02-15T17:02:25.756Z"
   },
   {
    "duration": 51,
    "start_time": "2022-02-15T17:02:25.812Z"
   },
   {
    "duration": 619,
    "start_time": "2022-02-15T17:02:25.865Z"
   },
   {
    "duration": 1813,
    "start_time": "2022-02-15T17:02:26.486Z"
   },
   {
    "duration": 39,
    "start_time": "2022-02-15T17:02:28.301Z"
   },
   {
    "duration": 201,
    "start_time": "2022-02-15T17:02:28.342Z"
   },
   {
    "duration": 40,
    "start_time": "2022-02-15T17:04:04.462Z"
   },
   {
    "duration": 56,
    "start_time": "2022-02-15T17:04:45.186Z"
   },
   {
    "duration": 46,
    "start_time": "2022-02-15T17:06:09.382Z"
   },
   {
    "duration": 1151,
    "start_time": "2022-02-15T17:06:34.499Z"
   },
   {
    "duration": 15,
    "start_time": "2022-02-15T17:06:35.652Z"
   },
   {
    "duration": 223,
    "start_time": "2022-02-15T17:06:35.669Z"
   },
   {
    "duration": 4,
    "start_time": "2022-02-15T17:06:35.894Z"
   },
   {
    "duration": 33,
    "start_time": "2022-02-15T17:06:35.900Z"
   },
   {
    "duration": 10,
    "start_time": "2022-02-15T17:06:35.934Z"
   },
   {
    "duration": 24,
    "start_time": "2022-02-15T17:06:35.946Z"
   },
   {
    "duration": 6,
    "start_time": "2022-02-15T17:06:35.973Z"
   },
   {
    "duration": 356,
    "start_time": "2022-02-15T17:06:35.981Z"
   },
   {
    "duration": 2,
    "start_time": "2022-02-15T17:06:36.338Z"
   },
   {
    "duration": 790,
    "start_time": "2022-02-15T17:06:36.342Z"
   },
   {
    "duration": 324,
    "start_time": "2022-02-15T17:06:37.133Z"
   },
   {
    "duration": 57,
    "start_time": "2022-02-15T17:06:37.459Z"
   },
   {
    "duration": 74,
    "start_time": "2022-02-15T17:06:37.518Z"
   },
   {
    "duration": 698,
    "start_time": "2022-02-15T17:06:37.594Z"
   },
   {
    "duration": 1885,
    "start_time": "2022-02-15T17:06:38.294Z"
   },
   {
    "duration": 56,
    "start_time": "2022-02-15T17:06:40.180Z"
   },
   {
    "duration": 200,
    "start_time": "2022-02-15T17:06:40.238Z"
   },
   {
    "duration": 1014,
    "start_time": "2022-02-15T17:07:54.982Z"
   },
   {
    "duration": 13,
    "start_time": "2022-02-15T17:07:55.997Z"
   },
   {
    "duration": 183,
    "start_time": "2022-02-15T17:07:56.012Z"
   },
   {
    "duration": 4,
    "start_time": "2022-02-15T17:07:56.197Z"
   },
   {
    "duration": 245,
    "start_time": "2022-02-15T17:07:56.203Z"
   },
   {
    "duration": 10,
    "start_time": "2022-02-15T17:07:56.450Z"
   },
   {
    "duration": 10,
    "start_time": "2022-02-15T17:07:56.461Z"
   },
   {
    "duration": 8,
    "start_time": "2022-02-15T17:07:56.473Z"
   },
   {
    "duration": 356,
    "start_time": "2022-02-15T17:07:56.483Z"
   },
   {
    "duration": 3,
    "start_time": "2022-02-15T17:07:56.841Z"
   },
   {
    "duration": 1029,
    "start_time": "2022-02-15T17:07:56.846Z"
   },
   {
    "duration": 387,
    "start_time": "2022-02-15T17:07:57.876Z"
   },
   {
    "duration": 47,
    "start_time": "2022-02-15T17:07:58.264Z"
   },
   {
    "duration": 50,
    "start_time": "2022-02-15T17:07:58.312Z"
   },
   {
    "duration": 556,
    "start_time": "2022-02-15T17:07:58.363Z"
   },
   {
    "duration": 1711,
    "start_time": "2022-02-15T17:07:58.932Z"
   },
   {
    "duration": 97,
    "start_time": "2022-02-15T17:08:00.644Z"
   },
   {
    "duration": 199,
    "start_time": "2022-02-15T17:08:00.743Z"
   },
   {
    "duration": 1042,
    "start_time": "2022-02-15T17:08:45.846Z"
   },
   {
    "duration": 12,
    "start_time": "2022-02-15T17:08:46.889Z"
   },
   {
    "duration": 172,
    "start_time": "2022-02-15T17:08:46.903Z"
   },
   {
    "duration": 4,
    "start_time": "2022-02-15T17:08:47.077Z"
   },
   {
    "duration": 19,
    "start_time": "2022-02-15T17:08:47.082Z"
   },
   {
    "duration": 9,
    "start_time": "2022-02-15T17:08:47.102Z"
   },
   {
    "duration": 26,
    "start_time": "2022-02-15T17:08:47.112Z"
   },
   {
    "duration": 5,
    "start_time": "2022-02-15T17:08:47.140Z"
   },
   {
    "duration": 269,
    "start_time": "2022-02-15T17:08:47.147Z"
   },
   {
    "duration": 15,
    "start_time": "2022-02-15T17:08:47.417Z"
   },
   {
    "duration": 707,
    "start_time": "2022-02-15T17:08:47.434Z"
   },
   {
    "duration": 289,
    "start_time": "2022-02-15T17:08:48.142Z"
   },
   {
    "duration": 51,
    "start_time": "2022-02-15T17:08:48.433Z"
   },
   {
    "duration": 57,
    "start_time": "2022-02-15T17:08:48.486Z"
   },
   {
    "duration": 1137,
    "start_time": "2022-02-15T17:08:48.545Z"
   },
   {
    "duration": 6552,
    "start_time": "2022-02-15T17:08:49.684Z"
   },
   {
    "duration": 36,
    "start_time": "2022-02-15T17:08:56.238Z"
   },
   {
    "duration": 108,
    "start_time": "2022-02-15T17:08:56.333Z"
   },
   {
    "duration": 965,
    "start_time": "2022-02-15T17:20:26.125Z"
   },
   {
    "duration": 1140,
    "start_time": "2022-02-15T17:20:52.501Z"
   },
   {
    "duration": 14,
    "start_time": "2022-02-15T17:20:53.643Z"
   },
   {
    "duration": 184,
    "start_time": "2022-02-15T17:20:53.659Z"
   },
   {
    "duration": 4,
    "start_time": "2022-02-15T17:20:53.844Z"
   },
   {
    "duration": 18,
    "start_time": "2022-02-15T17:20:53.850Z"
   },
   {
    "duration": 9,
    "start_time": "2022-02-15T17:20:53.870Z"
   },
   {
    "duration": 9,
    "start_time": "2022-02-15T17:20:53.880Z"
   },
   {
    "duration": 4,
    "start_time": "2022-02-15T17:20:53.892Z"
   },
   {
    "duration": 335,
    "start_time": "2022-02-15T17:20:53.898Z"
   },
   {
    "duration": 2,
    "start_time": "2022-02-15T17:20:54.234Z"
   },
   {
    "duration": 785,
    "start_time": "2022-02-15T17:20:54.238Z"
   },
   {
    "duration": 323,
    "start_time": "2022-02-15T17:20:55.025Z"
   },
   {
    "duration": 52,
    "start_time": "2022-02-15T17:20:55.350Z"
   },
   {
    "duration": 53,
    "start_time": "2022-02-15T17:20:55.404Z"
   },
   {
    "duration": 1108,
    "start_time": "2022-02-15T17:20:55.459Z"
   },
   {
    "duration": 7116,
    "start_time": "2022-02-15T17:20:56.569Z"
   },
   {
    "duration": 52,
    "start_time": "2022-02-15T17:21:03.686Z"
   },
   {
    "duration": 202,
    "start_time": "2022-02-15T17:21:03.740Z"
   },
   {
    "duration": 1030,
    "start_time": "2022-02-15T17:22:53.260Z"
   },
   {
    "duration": 14,
    "start_time": "2022-02-15T17:22:54.294Z"
   },
   {
    "duration": 175,
    "start_time": "2022-02-15T17:22:54.310Z"
   },
   {
    "duration": 4,
    "start_time": "2022-02-15T17:22:54.486Z"
   },
   {
    "duration": 17,
    "start_time": "2022-02-15T17:22:54.492Z"
   },
   {
    "duration": 26,
    "start_time": "2022-02-15T17:22:54.511Z"
   },
   {
    "duration": 591,
    "start_time": "2022-02-15T17:22:54.538Z"
   },
   {
    "duration": -477,
    "start_time": "2022-02-15T17:22:55.608Z"
   },
   {
    "duration": -478,
    "start_time": "2022-02-15T17:22:55.610Z"
   },
   {
    "duration": -479,
    "start_time": "2022-02-15T17:22:55.612Z"
   },
   {
    "duration": -480,
    "start_time": "2022-02-15T17:22:55.614Z"
   },
   {
    "duration": -481,
    "start_time": "2022-02-15T17:22:55.616Z"
   },
   {
    "duration": -482,
    "start_time": "2022-02-15T17:22:55.618Z"
   },
   {
    "duration": -484,
    "start_time": "2022-02-15T17:22:55.620Z"
   },
   {
    "duration": -485,
    "start_time": "2022-02-15T17:22:55.623Z"
   },
   {
    "duration": -486,
    "start_time": "2022-02-15T17:22:55.625Z"
   },
   {
    "duration": -487,
    "start_time": "2022-02-15T17:22:55.627Z"
   },
   {
    "duration": -487,
    "start_time": "2022-02-15T17:22:55.628Z"
   },
   {
    "duration": 1075,
    "start_time": "2022-02-15T17:23:58.812Z"
   },
   {
    "duration": 13,
    "start_time": "2022-02-15T17:23:59.889Z"
   },
   {
    "duration": 176,
    "start_time": "2022-02-15T17:23:59.904Z"
   },
   {
    "duration": 5,
    "start_time": "2022-02-15T17:24:00.083Z"
   },
   {
    "duration": 24,
    "start_time": "2022-02-15T17:24:00.090Z"
   },
   {
    "duration": 26,
    "start_time": "2022-02-15T17:24:00.116Z"
   },
   {
    "duration": 25,
    "start_time": "2022-02-15T17:24:00.144Z"
   },
   {
    "duration": 5,
    "start_time": "2022-02-15T17:24:00.172Z"
   },
   {
    "duration": 356,
    "start_time": "2022-02-15T17:24:00.179Z"
   },
   {
    "duration": 3,
    "start_time": "2022-02-15T17:24:00.536Z"
   },
   {
    "duration": 837,
    "start_time": "2022-02-15T17:24:00.540Z"
   },
   {
    "duration": 304,
    "start_time": "2022-02-15T17:24:01.379Z"
   },
   {
    "duration": 68,
    "start_time": "2022-02-15T17:24:01.684Z"
   },
   {
    "duration": 47,
    "start_time": "2022-02-15T17:24:01.753Z"
   },
   {
    "duration": 1348,
    "start_time": "2022-02-15T17:24:01.801Z"
   },
   {
    "duration": 7741,
    "start_time": "2022-02-15T17:24:03.150Z"
   },
   {
    "duration": 143,
    "start_time": "2022-02-15T17:24:10.892Z"
   },
   {
    "duration": 109,
    "start_time": "2022-02-15T17:24:11.038Z"
   },
   {
    "duration": 40,
    "start_time": "2022-02-15T17:24:24.825Z"
   },
   {
    "duration": 37,
    "start_time": "2022-02-15T17:24:33.680Z"
   },
   {
    "duration": 34,
    "start_time": "2022-02-15T17:24:43.353Z"
   },
   {
    "duration": 44,
    "start_time": "2022-02-15T17:24:48.481Z"
   },
   {
    "duration": 40,
    "start_time": "2022-02-15T17:24:59.473Z"
   },
   {
    "duration": 50,
    "start_time": "2022-02-15T17:25:11.585Z"
   },
   {
    "duration": 68,
    "start_time": "2022-02-15T17:25:16.240Z"
   },
   {
    "duration": 56,
    "start_time": "2022-02-15T17:25:22.355Z"
   },
   {
    "duration": 60,
    "start_time": "2022-02-15T17:25:27.385Z"
   },
   {
    "duration": 56,
    "start_time": "2022-02-15T17:25:32.273Z"
   },
   {
    "duration": 1366,
    "start_time": "2022-02-15T17:27:56.443Z"
   },
   {
    "duration": 14,
    "start_time": "2022-02-15T17:27:57.811Z"
   },
   {
    "duration": 182,
    "start_time": "2022-02-15T17:27:57.827Z"
   },
   {
    "duration": 5,
    "start_time": "2022-02-15T17:27:58.010Z"
   },
   {
    "duration": 27,
    "start_time": "2022-02-15T17:27:58.016Z"
   },
   {
    "duration": 11,
    "start_time": "2022-02-15T17:27:58.044Z"
   },
   {
    "duration": 25,
    "start_time": "2022-02-15T17:27:58.057Z"
   },
   {
    "duration": 5,
    "start_time": "2022-02-15T17:27:58.084Z"
   },
   {
    "duration": 329,
    "start_time": "2022-02-15T17:27:58.090Z"
   },
   {
    "duration": 2,
    "start_time": "2022-02-15T17:27:58.421Z"
   },
   {
    "duration": 851,
    "start_time": "2022-02-15T17:27:58.432Z"
   },
   {
    "duration": 289,
    "start_time": "2022-02-15T17:27:59.284Z"
   },
   {
    "duration": 60,
    "start_time": "2022-02-15T17:27:59.575Z"
   },
   {
    "duration": 44,
    "start_time": "2022-02-15T17:27:59.637Z"
   },
   {
    "duration": 1377,
    "start_time": "2022-02-15T17:27:59.682Z"
   },
   {
    "duration": 7751,
    "start_time": "2022-02-15T17:28:01.060Z"
   },
   {
    "duration": 34,
    "start_time": "2022-02-15T17:28:08.812Z"
   },
   {
    "duration": 191,
    "start_time": "2022-02-15T17:28:08.848Z"
   },
   {
    "duration": 46,
    "start_time": "2022-02-15T17:28:25.613Z"
   },
   {
    "duration": 43,
    "start_time": "2022-02-15T17:28:33.452Z"
   },
   {
    "duration": 47,
    "start_time": "2022-02-15T17:28:40.284Z"
   },
   {
    "duration": 1491,
    "start_time": "2022-02-15T17:28:46.699Z"
   },
   {
    "duration": 52,
    "start_time": "2022-02-15T17:28:57.379Z"
   },
   {
    "duration": 44,
    "start_time": "2022-02-15T17:32:08.994Z"
   },
   {
    "duration": 35,
    "start_time": "2022-02-15T17:32:53.650Z"
   },
   {
    "duration": 34,
    "start_time": "2022-02-15T17:33:19.487Z"
   },
   {
    "duration": 39,
    "start_time": "2022-02-15T17:33:29.747Z"
   },
   {
    "duration": 39,
    "start_time": "2022-02-15T17:34:52.307Z"
   },
   {
    "duration": 38,
    "start_time": "2022-02-15T17:35:12.559Z"
   },
   {
    "duration": 1320,
    "start_time": "2022-02-15T17:35:32.212Z"
   },
   {
    "duration": 19,
    "start_time": "2022-02-15T17:35:33.535Z"
   },
   {
    "duration": 226,
    "start_time": "2022-02-15T17:35:33.556Z"
   },
   {
    "duration": 5,
    "start_time": "2022-02-15T17:35:33.784Z"
   },
   {
    "duration": 22,
    "start_time": "2022-02-15T17:35:33.790Z"
   },
   {
    "duration": 22,
    "start_time": "2022-02-15T17:35:33.813Z"
   },
   {
    "duration": 25,
    "start_time": "2022-02-15T17:35:33.837Z"
   },
   {
    "duration": 5,
    "start_time": "2022-02-15T17:35:33.865Z"
   },
   {
    "duration": 279,
    "start_time": "2022-02-15T17:35:33.872Z"
   },
   {
    "duration": 3,
    "start_time": "2022-02-15T17:35:34.153Z"
   },
   {
    "duration": 843,
    "start_time": "2022-02-15T17:35:34.158Z"
   },
   {
    "duration": 342,
    "start_time": "2022-02-15T17:35:35.003Z"
   },
   {
    "duration": 55,
    "start_time": "2022-02-15T17:35:35.346Z"
   },
   {
    "duration": 43,
    "start_time": "2022-02-15T17:35:35.403Z"
   },
   {
    "duration": 1302,
    "start_time": "2022-02-15T17:35:35.447Z"
   },
   {
    "duration": 6775,
    "start_time": "2022-02-15T17:35:36.750Z"
   },
   {
    "duration": 19,
    "start_time": "2022-02-15T17:35:43.532Z"
   },
   {
    "duration": 194,
    "start_time": "2022-02-15T17:35:43.553Z"
   },
   {
    "duration": 88,
    "start_time": "2022-02-15T17:37:00.914Z"
   },
   {
    "duration": 59,
    "start_time": "2022-02-15T17:37:34.508Z"
   },
   {
    "duration": 1166,
    "start_time": "2022-02-15T17:40:44.329Z"
   },
   {
    "duration": 13,
    "start_time": "2022-02-15T17:40:45.496Z"
   },
   {
    "duration": 171,
    "start_time": "2022-02-15T17:40:45.511Z"
   },
   {
    "duration": 5,
    "start_time": "2022-02-15T17:40:45.683Z"
   },
   {
    "duration": 20,
    "start_time": "2022-02-15T17:40:45.689Z"
   },
   {
    "duration": 21,
    "start_time": "2022-02-15T17:40:45.710Z"
   },
   {
    "duration": 24,
    "start_time": "2022-02-15T17:40:45.733Z"
   },
   {
    "duration": 4,
    "start_time": "2022-02-15T17:40:45.759Z"
   },
   {
    "duration": 290,
    "start_time": "2022-02-15T17:40:45.765Z"
   },
   {
    "duration": 2,
    "start_time": "2022-02-15T17:40:46.057Z"
   },
   {
    "duration": 869,
    "start_time": "2022-02-15T17:40:46.060Z"
   },
   {
    "duration": 312,
    "start_time": "2022-02-15T17:40:46.932Z"
   },
   {
    "duration": 62,
    "start_time": "2022-02-15T17:40:47.245Z"
   },
   {
    "duration": 48,
    "start_time": "2022-02-15T17:40:47.309Z"
   },
   {
    "duration": 1194,
    "start_time": "2022-02-15T17:40:47.359Z"
   },
   {
    "duration": 6953,
    "start_time": "2022-02-15T17:40:48.554Z"
   },
   {
    "duration": 124,
    "start_time": "2022-02-15T17:40:55.508Z"
   },
   {
    "duration": 108,
    "start_time": "2022-02-15T17:40:55.634Z"
   },
   {
    "duration": 60,
    "start_time": "2022-02-15T17:41:24.585Z"
   },
   {
    "duration": 51,
    "start_time": "2022-02-15T17:41:40.473Z"
   },
   {
    "duration": 65,
    "start_time": "2022-02-15T17:41:53.997Z"
   },
   {
    "duration": 49,
    "start_time": "2022-02-15T17:42:18.453Z"
   },
   {
    "duration": 58,
    "start_time": "2022-02-15T17:42:26.877Z"
   },
   {
    "duration": 59,
    "start_time": "2022-02-15T17:42:34.685Z"
   },
   {
    "duration": 65,
    "start_time": "2022-02-15T17:42:40.349Z"
   },
   {
    "duration": 48,
    "start_time": "2022-02-15T17:43:08.045Z"
   },
   {
    "duration": 1017,
    "start_time": "2022-02-15T17:43:15.688Z"
   },
   {
    "duration": 14,
    "start_time": "2022-02-15T17:43:16.706Z"
   },
   {
    "duration": 180,
    "start_time": "2022-02-15T17:43:16.722Z"
   },
   {
    "duration": 5,
    "start_time": "2022-02-15T17:43:16.904Z"
   },
   {
    "duration": 25,
    "start_time": "2022-02-15T17:43:16.910Z"
   },
   {
    "duration": 9,
    "start_time": "2022-02-15T17:43:16.936Z"
   },
   {
    "duration": 23,
    "start_time": "2022-02-15T17:43:16.947Z"
   },
   {
    "duration": 5,
    "start_time": "2022-02-15T17:43:16.972Z"
   },
   {
    "duration": 269,
    "start_time": "2022-02-15T17:43:16.978Z"
   },
   {
    "duration": 2,
    "start_time": "2022-02-15T17:43:17.248Z"
   },
   {
    "duration": 840,
    "start_time": "2022-02-15T17:43:17.252Z"
   },
   {
    "duration": 338,
    "start_time": "2022-02-15T17:43:18.093Z"
   },
   {
    "duration": 50,
    "start_time": "2022-02-15T17:43:18.433Z"
   },
   {
    "duration": 48,
    "start_time": "2022-02-15T17:43:18.484Z"
   },
   {
    "duration": 1030,
    "start_time": "2022-02-15T17:43:18.534Z"
   },
   {
    "duration": 5511,
    "start_time": "2022-02-15T17:43:19.566Z"
   },
   {
    "duration": 62,
    "start_time": "2022-02-15T17:43:25.078Z"
   },
   {
    "duration": 205,
    "start_time": "2022-02-15T17:43:25.142Z"
   },
   {
    "duration": 7894,
    "start_time": "2022-02-15T17:44:46.032Z"
   },
   {
    "duration": 52,
    "start_time": "2022-02-15T17:45:01.405Z"
   },
   {
    "duration": 15,
    "start_time": "2022-02-15T17:45:03.816Z"
   },
   {
    "duration": 164,
    "start_time": "2022-02-15T17:45:06.076Z"
   },
   {
    "duration": 7,
    "start_time": "2022-02-15T17:45:07.880Z"
   },
   {
    "duration": 1053,
    "start_time": "2022-02-15T17:56:17.151Z"
   },
   {
    "duration": 14,
    "start_time": "2022-02-15T17:56:18.206Z"
   },
   {
    "duration": 185,
    "start_time": "2022-02-15T17:56:18.222Z"
   },
   {
    "duration": 3,
    "start_time": "2022-02-15T17:56:18.409Z"
   },
   {
    "duration": 219,
    "start_time": "2022-02-15T17:56:18.413Z"
   },
   {
    "duration": 344,
    "start_time": "2022-02-15T17:56:18.634Z"
   },
   {
    "duration": 32,
    "start_time": "2022-02-15T17:56:18.980Z"
   },
   {
    "duration": 5,
    "start_time": "2022-02-15T17:56:19.014Z"
   },
   {
    "duration": 2217,
    "start_time": "2022-02-15T17:56:19.032Z"
   },
   {
    "duration": 2,
    "start_time": "2022-02-15T17:56:21.251Z"
   },
   {
    "duration": 8877,
    "start_time": "2022-02-15T17:56:21.255Z"
   },
   {
    "duration": 1889,
    "start_time": "2022-02-15T17:56:30.133Z"
   },
   {
    "duration": 1178,
    "start_time": "2022-02-15T17:56:32.024Z"
   },
   {
    "duration": 498,
    "start_time": "2022-02-15T17:56:33.204Z"
   },
   {
    "duration": 14859,
    "start_time": "2022-02-15T17:56:33.704Z"
   },
   {
    "duration": 51825,
    "start_time": "2022-02-15T17:56:48.565Z"
   },
   {
    "duration": 353,
    "start_time": "2022-02-15T17:57:40.392Z"
   },
   {
    "duration": 287,
    "start_time": "2022-02-15T17:57:40.746Z"
   },
   {
    "duration": 943,
    "start_time": "2022-02-15T17:59:58.515Z"
   },
   {
    "duration": 958,
    "start_time": "2022-02-15T18:00:08.823Z"
   },
   {
    "duration": 1064,
    "start_time": "2022-02-15T18:00:16.815Z"
   },
   {
    "duration": 1225,
    "start_time": "2022-02-15T18:00:23.611Z"
   },
   {
    "duration": 404,
    "start_time": "2022-02-15T18:06:55.644Z"
   },
   {
    "duration": 683,
    "start_time": "2022-02-15T18:07:05.485Z"
   },
   {
    "duration": 1091,
    "start_time": "2022-02-15T18:07:51.377Z"
   },
   {
    "duration": 814,
    "start_time": "2022-02-15T18:08:06.444Z"
   },
   {
    "duration": 628,
    "start_time": "2022-02-15T18:08:13.414Z"
   },
   {
    "duration": 645,
    "start_time": "2022-02-15T18:08:19.805Z"
   },
   {
    "duration": 1070,
    "start_time": "2022-02-15T18:09:15.632Z"
   },
   {
    "duration": 12,
    "start_time": "2022-02-15T18:09:16.704Z"
   },
   {
    "duration": 164,
    "start_time": "2022-02-15T18:09:16.718Z"
   },
   {
    "duration": 2,
    "start_time": "2022-02-15T18:09:16.884Z"
   },
   {
    "duration": 204,
    "start_time": "2022-02-15T18:09:16.888Z"
   },
   {
    "duration": 333,
    "start_time": "2022-02-15T18:09:17.094Z"
   },
   {
    "duration": 33,
    "start_time": "2022-02-15T18:09:17.431Z"
   },
   {
    "duration": 5,
    "start_time": "2022-02-15T18:09:17.466Z"
   },
   {
    "duration": 2142,
    "start_time": "2022-02-15T18:09:17.473Z"
   },
   {
    "duration": 2,
    "start_time": "2022-02-15T18:09:19.617Z"
   },
   {
    "duration": 8796,
    "start_time": "2022-02-15T18:09:19.621Z"
   },
   {
    "duration": 1898,
    "start_time": "2022-02-15T18:09:28.419Z"
   },
   {
    "duration": 1171,
    "start_time": "2022-02-15T18:09:30.319Z"
   },
   {
    "duration": 681,
    "start_time": "2022-02-15T18:09:31.491Z"
   },
   {
    "duration": 21203,
    "start_time": "2022-02-15T18:09:32.174Z"
   },
   {
    "duration": 79106,
    "start_time": "2022-02-15T18:09:53.379Z"
   },
   {
    "duration": 451,
    "start_time": "2022-02-15T18:11:12.487Z"
   },
   {
    "duration": 292,
    "start_time": "2022-02-15T18:11:12.940Z"
   },
   {
    "duration": 37,
    "start_time": "2022-02-15T18:15:33.569Z"
   },
   {
    "duration": 12,
    "start_time": "2022-02-15T18:15:37.913Z"
   },
   {
    "duration": 163,
    "start_time": "2022-02-15T18:15:39.129Z"
   },
   {
    "duration": 3,
    "start_time": "2022-02-15T18:15:45.025Z"
   },
   {
    "duration": 2,
    "start_time": "2022-02-15T18:15:47.061Z"
   },
   {
    "duration": 42,
    "start_time": "2022-02-15T18:15:48.109Z"
   },
   {
    "duration": 1084,
    "start_time": "2022-02-15T18:18:00.619Z"
   },
   {
    "duration": 13,
    "start_time": "2022-02-15T18:18:01.705Z"
   },
   {
    "duration": 162,
    "start_time": "2022-02-15T18:18:01.720Z"
   },
   {
    "duration": 2,
    "start_time": "2022-02-15T18:18:01.884Z"
   },
   {
    "duration": 5,
    "start_time": "2022-02-15T18:18:01.888Z"
   },
   {
    "duration": 51,
    "start_time": "2022-02-15T18:18:01.894Z"
   },
   {
    "duration": 9,
    "start_time": "2022-02-15T18:18:01.947Z"
   },
   {
    "duration": 23,
    "start_time": "2022-02-15T18:18:01.958Z"
   },
   {
    "duration": 6,
    "start_time": "2022-02-15T18:18:01.982Z"
   },
   {
    "duration": 380,
    "start_time": "2022-02-15T18:18:01.989Z"
   },
   {
    "duration": 2,
    "start_time": "2022-02-15T18:18:02.370Z"
   },
   {
    "duration": 917,
    "start_time": "2022-02-15T18:18:02.374Z"
   },
   {
    "duration": 374,
    "start_time": "2022-02-15T18:18:03.292Z"
   },
   {
    "duration": 86,
    "start_time": "2022-02-15T18:18:03.667Z"
   },
   {
    "duration": 49,
    "start_time": "2022-02-15T18:18:03.755Z"
   },
   {
    "duration": 1760,
    "start_time": "2022-02-15T18:18:03.805Z"
   },
   {
    "duration": 7953,
    "start_time": "2022-02-15T18:18:05.566Z"
   },
   {
    "duration": 111,
    "start_time": "2022-02-15T18:18:13.521Z"
   },
   {
    "duration": 114,
    "start_time": "2022-02-15T18:18:13.634Z"
   },
   {
    "duration": 66,
    "start_time": "2022-02-15T18:18:46.760Z"
   },
   {
    "duration": 101,
    "start_time": "2022-02-15T18:18:53.432Z"
   },
   {
    "duration": 79,
    "start_time": "2022-02-15T18:18:59.972Z"
   },
   {
    "duration": 85,
    "start_time": "2022-02-15T18:19:06.139Z"
   },
   {
    "duration": 80,
    "start_time": "2022-02-15T18:19:12.680Z"
   },
   {
    "duration": 84,
    "start_time": "2022-02-15T18:19:17.648Z"
   },
   {
    "duration": 77,
    "start_time": "2022-02-15T18:19:23.072Z"
   },
   {
    "duration": 54,
    "start_time": "2022-02-15T18:19:30.416Z"
   },
   {
    "duration": 45,
    "start_time": "2022-02-15T18:19:36.732Z"
   },
   {
    "duration": 52,
    "start_time": "2022-02-15T18:19:43.040Z"
   },
   {
    "duration": 49,
    "start_time": "2022-02-15T18:19:49.264Z"
   },
   {
    "duration": 48,
    "start_time": "2022-02-15T18:19:56.904Z"
   },
   {
    "duration": 1751,
    "start_time": "2022-02-15T18:20:01.308Z"
   },
   {
    "duration": 7954,
    "start_time": "2022-02-15T18:20:09.844Z"
   },
   {
    "duration": 26,
    "start_time": "2022-02-15T18:20:24.204Z"
   },
   {
    "duration": 26,
    "start_time": "2022-02-15T18:20:25.324Z"
   },
   {
    "duration": 1124,
    "start_time": "2022-02-15T18:24:42.166Z"
   },
   {
    "duration": 14,
    "start_time": "2022-02-15T18:24:43.292Z"
   },
   {
    "duration": 186,
    "start_time": "2022-02-15T18:24:43.308Z"
   },
   {
    "duration": 3,
    "start_time": "2022-02-15T18:24:43.496Z"
   },
   {
    "duration": 5,
    "start_time": "2022-02-15T18:24:43.500Z"
   },
   {
    "duration": 50,
    "start_time": "2022-02-15T18:24:43.506Z"
   },
   {
    "duration": 9,
    "start_time": "2022-02-15T18:24:43.557Z"
   },
   {
    "duration": 20,
    "start_time": "2022-02-15T18:24:43.569Z"
   },
   {
    "duration": 6,
    "start_time": "2022-02-15T18:24:43.591Z"
   },
   {
    "duration": 363,
    "start_time": "2022-02-15T18:24:43.598Z"
   },
   {
    "duration": 2,
    "start_time": "2022-02-15T18:24:43.963Z"
   },
   {
    "duration": 1116,
    "start_time": "2022-02-15T18:24:43.967Z"
   },
   {
    "duration": 384,
    "start_time": "2022-02-15T18:24:45.085Z"
   },
   {
    "duration": 88,
    "start_time": "2022-02-15T18:24:45.471Z"
   },
   {
    "duration": 46,
    "start_time": "2022-02-15T18:24:45.560Z"
   },
   {
    "duration": 1925,
    "start_time": "2022-02-15T18:24:45.608Z"
   },
   {
    "duration": 8169,
    "start_time": "2022-02-15T18:24:47.535Z"
   },
   {
    "duration": 32,
    "start_time": "2022-02-15T18:24:55.706Z"
   },
   {
    "duration": 203,
    "start_time": "2022-02-15T18:24:55.740Z"
   },
   {
    "duration": 1202,
    "start_time": "2022-02-15T18:27:42.827Z"
   },
   {
    "duration": 13,
    "start_time": "2022-02-15T18:27:44.031Z"
   },
   {
    "duration": 174,
    "start_time": "2022-02-15T18:27:44.048Z"
   },
   {
    "duration": 2,
    "start_time": "2022-02-15T18:27:44.224Z"
   },
   {
    "duration": 1,
    "start_time": "2022-02-15T18:27:44.232Z"
   },
   {
    "duration": 41,
    "start_time": "2022-02-15T18:27:44.235Z"
   },
   {
    "duration": 8,
    "start_time": "2022-02-15T18:27:44.279Z"
   },
   {
    "duration": 22,
    "start_time": "2022-02-15T18:27:44.289Z"
   },
   {
    "duration": 22,
    "start_time": "2022-02-15T18:27:44.312Z"
   },
   {
    "duration": 325,
    "start_time": "2022-02-15T18:27:44.336Z"
   },
   {
    "duration": 3,
    "start_time": "2022-02-15T18:27:44.662Z"
   },
   {
    "duration": 925,
    "start_time": "2022-02-15T18:27:44.666Z"
   },
   {
    "duration": 371,
    "start_time": "2022-02-15T18:27:45.593Z"
   },
   {
    "duration": 85,
    "start_time": "2022-02-15T18:27:45.966Z"
   },
   {
    "duration": 46,
    "start_time": "2022-02-15T18:27:46.052Z"
   },
   {
    "duration": 1739,
    "start_time": "2022-02-15T18:27:46.100Z"
   },
   {
    "duration": 7878,
    "start_time": "2022-02-15T18:27:47.840Z"
   },
   {
    "duration": 29,
    "start_time": "2022-02-15T18:27:55.720Z"
   },
   {
    "duration": 194,
    "start_time": "2022-02-15T18:27:55.751Z"
   },
   {
    "duration": 1025,
    "start_time": "2022-02-15T18:29:15.073Z"
   },
   {
    "duration": 13,
    "start_time": "2022-02-15T18:29:16.100Z"
   },
   {
    "duration": 174,
    "start_time": "2022-02-15T18:29:16.115Z"
   },
   {
    "duration": 2,
    "start_time": "2022-02-15T18:29:16.291Z"
   },
   {
    "duration": 204,
    "start_time": "2022-02-15T18:29:16.294Z"
   },
   {
    "duration": 2,
    "start_time": "2022-02-15T18:29:16.501Z"
   },
   {
    "duration": 348,
    "start_time": "2022-02-15T18:29:16.505Z"
   },
   {
    "duration": 631,
    "start_time": "2022-02-15T18:29:16.855Z"
   },
   {
    "duration": -615,
    "start_time": "2022-02-15T18:29:18.103Z"
   },
   {
    "duration": -617,
    "start_time": "2022-02-15T18:29:18.106Z"
   },
   {
    "duration": -618,
    "start_time": "2022-02-15T18:29:18.108Z"
   },
   {
    "duration": -619,
    "start_time": "2022-02-15T18:29:18.110Z"
   },
   {
    "duration": -620,
    "start_time": "2022-02-15T18:29:18.112Z"
   },
   {
    "duration": -621,
    "start_time": "2022-02-15T18:29:18.114Z"
   },
   {
    "duration": -627,
    "start_time": "2022-02-15T18:29:18.121Z"
   },
   {
    "duration": -628,
    "start_time": "2022-02-15T18:29:18.123Z"
   },
   {
    "duration": -629,
    "start_time": "2022-02-15T18:29:18.125Z"
   },
   {
    "duration": -630,
    "start_time": "2022-02-15T18:29:18.127Z"
   },
   {
    "duration": -631,
    "start_time": "2022-02-15T18:29:18.129Z"
   },
   {
    "duration": 1069,
    "start_time": "2022-02-15T18:30:01.922Z"
   },
   {
    "duration": 13,
    "start_time": "2022-02-15T18:30:02.993Z"
   },
   {
    "duration": 172,
    "start_time": "2022-02-15T18:30:03.008Z"
   },
   {
    "duration": 3,
    "start_time": "2022-02-15T18:30:03.181Z"
   },
   {
    "duration": 204,
    "start_time": "2022-02-15T18:30:03.185Z"
   },
   {
    "duration": 2,
    "start_time": "2022-02-15T18:30:03.390Z"
   },
   {
    "duration": 345,
    "start_time": "2022-02-15T18:30:03.394Z"
   },
   {
    "duration": 33,
    "start_time": "2022-02-15T18:30:03.741Z"
   },
   {
    "duration": 5,
    "start_time": "2022-02-15T18:30:03.776Z"
   },
   {
    "duration": 1932,
    "start_time": "2022-02-15T18:30:03.782Z"
   },
   {
    "duration": 2,
    "start_time": "2022-02-15T18:30:05.716Z"
   },
   {
    "duration": 8948,
    "start_time": "2022-02-15T18:30:05.720Z"
   },
   {
    "duration": 1895,
    "start_time": "2022-02-15T18:30:14.670Z"
   },
   {
    "duration": 1054,
    "start_time": "2022-02-15T18:30:16.567Z"
   },
   {
    "duration": 515,
    "start_time": "2022-02-15T18:30:17.623Z"
   },
   {
    "duration": 21301,
    "start_time": "2022-02-15T18:30:18.140Z"
   },
   {
    "duration": 80107,
    "start_time": "2022-02-15T18:30:39.443Z"
   },
   {
    "duration": 393,
    "start_time": "2022-02-15T18:31:59.552Z"
   },
   {
    "duration": 292,
    "start_time": "2022-02-15T18:31:59.947Z"
   },
   {
    "duration": 590,
    "start_time": "2022-02-15T18:32:56.146Z"
   },
   {
    "duration": 405,
    "start_time": "2022-02-15T18:33:03.042Z"
   },
   {
    "duration": 526,
    "start_time": "2022-02-15T18:33:10.810Z"
   },
   {
    "duration": 20395,
    "start_time": "2022-02-15T18:34:22.205Z"
   },
   {
    "duration": 82331,
    "start_time": "2022-02-15T18:34:42.601Z"
   },
   {
    "duration": 1022,
    "start_time": "2022-02-15T18:36:09.870Z"
   },
   {
    "duration": 13,
    "start_time": "2022-02-15T18:36:10.894Z"
   },
   {
    "duration": 173,
    "start_time": "2022-02-15T18:36:10.908Z"
   },
   {
    "duration": 2,
    "start_time": "2022-02-15T18:36:11.083Z"
   },
   {
    "duration": 6,
    "start_time": "2022-02-15T18:36:11.087Z"
   },
   {
    "duration": 635,
    "start_time": "2022-02-15T18:36:11.094Z"
   },
   {
    "duration": -592,
    "start_time": "2022-02-15T18:36:12.323Z"
   },
   {
    "duration": -595,
    "start_time": "2022-02-15T18:36:12.327Z"
   },
   {
    "duration": -596,
    "start_time": "2022-02-15T18:36:12.329Z"
   },
   {
    "duration": -598,
    "start_time": "2022-02-15T18:36:12.332Z"
   },
   {
    "duration": -600,
    "start_time": "2022-02-15T18:36:12.335Z"
   },
   {
    "duration": -602,
    "start_time": "2022-02-15T18:36:12.337Z"
   },
   {
    "duration": -604,
    "start_time": "2022-02-15T18:36:12.340Z"
   },
   {
    "duration": -605,
    "start_time": "2022-02-15T18:36:12.342Z"
   },
   {
    "duration": -606,
    "start_time": "2022-02-15T18:36:12.344Z"
   },
   {
    "duration": -607,
    "start_time": "2022-02-15T18:36:12.346Z"
   },
   {
    "duration": -613,
    "start_time": "2022-02-15T18:36:12.353Z"
   },
   {
    "duration": -613,
    "start_time": "2022-02-15T18:36:12.355Z"
   },
   {
    "duration": -614,
    "start_time": "2022-02-15T18:36:12.357Z"
   },
   {
    "duration": 1252,
    "start_time": "2022-02-15T18:36:37.734Z"
   },
   {
    "duration": 13,
    "start_time": "2022-02-15T18:36:38.987Z"
   },
   {
    "duration": 171,
    "start_time": "2022-02-15T18:36:39.002Z"
   },
   {
    "duration": 2,
    "start_time": "2022-02-15T18:36:39.175Z"
   },
   {
    "duration": 18,
    "start_time": "2022-02-15T18:36:39.178Z"
   },
   {
    "duration": 59,
    "start_time": "2022-02-15T18:36:39.197Z"
   },
   {
    "duration": 8,
    "start_time": "2022-02-15T18:36:39.258Z"
   },
   {
    "duration": 35,
    "start_time": "2022-02-15T18:36:39.269Z"
   },
   {
    "duration": 6,
    "start_time": "2022-02-15T18:36:39.306Z"
   },
   {
    "duration": 342,
    "start_time": "2022-02-15T18:36:39.314Z"
   },
   {
    "duration": 2,
    "start_time": "2022-02-15T18:36:39.658Z"
   },
   {
    "duration": 912,
    "start_time": "2022-02-15T18:36:39.662Z"
   },
   {
    "duration": 339,
    "start_time": "2022-02-15T18:36:40.576Z"
   },
   {
    "duration": 90,
    "start_time": "2022-02-15T18:36:40.918Z"
   },
   {
    "duration": 59,
    "start_time": "2022-02-15T18:36:41.010Z"
   },
   {
    "duration": 1650,
    "start_time": "2022-02-15T18:36:41.071Z"
   },
   {
    "duration": 7919,
    "start_time": "2022-02-15T18:36:42.723Z"
   },
   {
    "duration": 90,
    "start_time": "2022-02-15T18:36:50.644Z"
   },
   {
    "duration": 114,
    "start_time": "2022-02-15T18:36:50.736Z"
   },
   {
    "duration": 1197,
    "start_time": "2022-02-16T16:59:39.639Z"
   },
   {
    "duration": 15,
    "start_time": "2022-02-16T16:59:40.838Z"
   },
   {
    "duration": 216,
    "start_time": "2022-02-16T16:59:40.855Z"
   },
   {
    "duration": 3,
    "start_time": "2022-02-16T16:59:41.074Z"
   },
   {
    "duration": 15,
    "start_time": "2022-02-16T16:59:41.080Z"
   },
   {
    "duration": 59,
    "start_time": "2022-02-16T16:59:41.097Z"
   },
   {
    "duration": 4,
    "start_time": "2022-02-16T16:59:41.157Z"
   },
   {
    "duration": 43,
    "start_time": "2022-02-16T16:59:41.163Z"
   },
   {
    "duration": 30,
    "start_time": "2022-02-16T16:59:41.209Z"
   },
   {
    "duration": 6,
    "start_time": "2022-02-16T16:59:41.241Z"
   },
   {
    "duration": 361,
    "start_time": "2022-02-16T16:59:41.248Z"
   },
   {
    "duration": 2,
    "start_time": "2022-02-16T16:59:41.611Z"
   },
   {
    "duration": 1180,
    "start_time": "2022-02-16T16:59:41.615Z"
   },
   {
    "duration": 409,
    "start_time": "2022-02-16T16:59:42.798Z"
   },
   {
    "duration": 104,
    "start_time": "2022-02-16T16:59:43.209Z"
   },
   {
    "duration": 54,
    "start_time": "2022-02-16T16:59:43.315Z"
   },
   {
    "duration": 2026,
    "start_time": "2022-02-16T16:59:43.371Z"
   },
   {
    "duration": 9710,
    "start_time": "2022-02-16T16:59:45.399Z"
   },
   {
    "duration": 97,
    "start_time": "2022-02-16T16:59:55.111Z"
   },
   {
    "duration": 123,
    "start_time": "2022-02-16T16:59:55.211Z"
   },
   {
    "duration": 367,
    "start_time": "2022-02-16T17:34:57.756Z"
   },
   {
    "duration": 361,
    "start_time": "2022-02-16T17:36:19.272Z"
   },
   {
    "duration": 350,
    "start_time": "2022-02-16T17:38:11.636Z"
   },
   {
    "duration": 359,
    "start_time": "2022-02-16T17:38:47.139Z"
   },
   {
    "duration": 350,
    "start_time": "2022-02-16T17:39:07.932Z"
   },
   {
    "duration": 357,
    "start_time": "2022-02-16T17:39:59.092Z"
   },
   {
    "duration": 356,
    "start_time": "2022-02-16T17:41:10.195Z"
   },
   {
    "duration": 300,
    "start_time": "2022-02-16T17:48:19.863Z"
   },
   {
    "duration": 275,
    "start_time": "2022-02-16T17:48:53.579Z"
   },
   {
    "duration": 244,
    "start_time": "2022-02-16T17:50:23.307Z"
   },
   {
    "duration": 253,
    "start_time": "2022-02-16T17:52:30.011Z"
   },
   {
    "duration": 1182,
    "start_time": "2022-02-16T17:52:50.049Z"
   },
   {
    "duration": 18,
    "start_time": "2022-02-16T17:52:51.234Z"
   },
   {
    "duration": 247,
    "start_time": "2022-02-16T17:52:51.254Z"
   },
   {
    "duration": 3,
    "start_time": "2022-02-16T17:52:51.509Z"
   },
   {
    "duration": 10,
    "start_time": "2022-02-16T17:52:51.514Z"
   },
   {
    "duration": 58,
    "start_time": "2022-02-16T17:52:51.526Z"
   },
   {
    "duration": 3,
    "start_time": "2022-02-16T17:52:51.587Z"
   },
   {
    "duration": 13,
    "start_time": "2022-02-16T17:52:51.609Z"
   },
   {
    "duration": 37,
    "start_time": "2022-02-16T17:52:51.624Z"
   },
   {
    "duration": 58,
    "start_time": "2022-02-16T17:52:51.664Z"
   },
   {
    "duration": 385,
    "start_time": "2022-02-16T17:52:51.724Z"
   },
   {
    "duration": 3,
    "start_time": "2022-02-16T17:52:52.110Z"
   },
   {
    "duration": 1188,
    "start_time": "2022-02-16T17:52:52.115Z"
   },
   {
    "duration": 392,
    "start_time": "2022-02-16T17:52:53.308Z"
   },
   {
    "duration": 413,
    "start_time": "2022-02-16T17:52:53.706Z"
   },
   {
    "duration": 254,
    "start_time": "2022-02-16T17:52:54.122Z"
   },
   {
    "duration": 1946,
    "start_time": "2022-02-16T17:52:54.378Z"
   },
   {
    "duration": 9618,
    "start_time": "2022-02-16T17:52:56.326Z"
   },
   {
    "duration": 69,
    "start_time": "2022-02-16T17:53:05.947Z"
   },
   {
    "duration": 193,
    "start_time": "2022-02-16T17:53:06.019Z"
   },
   {
    "duration": 1166,
    "start_time": "2022-02-16T18:51:31.752Z"
   },
   {
    "duration": 16,
    "start_time": "2022-02-16T18:51:32.920Z"
   },
   {
    "duration": 219,
    "start_time": "2022-02-16T18:51:32.938Z"
   },
   {
    "duration": 3,
    "start_time": "2022-02-16T18:51:33.159Z"
   },
   {
    "duration": 8,
    "start_time": "2022-02-16T18:51:33.165Z"
   },
   {
    "duration": 61,
    "start_time": "2022-02-16T18:51:33.175Z"
   },
   {
    "duration": 4,
    "start_time": "2022-02-16T18:51:33.237Z"
   },
   {
    "duration": 21,
    "start_time": "2022-02-16T18:51:33.243Z"
   },
   {
    "duration": 40,
    "start_time": "2022-02-16T18:51:33.266Z"
   },
   {
    "duration": 6,
    "start_time": "2022-02-16T18:51:33.309Z"
   },
   {
    "duration": 359,
    "start_time": "2022-02-16T18:51:33.317Z"
   },
   {
    "duration": 3,
    "start_time": "2022-02-16T18:51:33.678Z"
   },
   {
    "duration": 1135,
    "start_time": "2022-02-16T18:51:33.683Z"
   },
   {
    "duration": 376,
    "start_time": "2022-02-16T18:51:34.820Z"
   },
   {
    "duration": 363,
    "start_time": "2022-02-16T18:51:35.199Z"
   },
   {
    "duration": 258,
    "start_time": "2022-02-16T18:51:35.564Z"
   },
   {
    "duration": 2170,
    "start_time": "2022-02-16T18:51:35.824Z"
   },
   {
    "duration": 9333,
    "start_time": "2022-02-16T18:51:37.996Z"
   },
   {
    "duration": 82,
    "start_time": "2022-02-16T18:51:47.331Z"
   },
   {
    "duration": 118,
    "start_time": "2022-02-16T18:51:47.415Z"
   },
   {
    "duration": 466,
    "start_time": "2022-02-16T18:51:47.535Z"
   },
   {
    "duration": 1330,
    "start_time": "2022-02-16T18:52:13.188Z"
   },
   {
    "duration": 16,
    "start_time": "2022-02-16T18:52:14.520Z"
   },
   {
    "duration": 218,
    "start_time": "2022-02-16T18:52:14.538Z"
   },
   {
    "duration": 2,
    "start_time": "2022-02-16T18:52:14.758Z"
   },
   {
    "duration": 36,
    "start_time": "2022-02-16T18:52:14.762Z"
   },
   {
    "duration": 56,
    "start_time": "2022-02-16T18:52:14.800Z"
   },
   {
    "duration": 3,
    "start_time": "2022-02-16T18:52:14.858Z"
   },
   {
    "duration": 19,
    "start_time": "2022-02-16T18:52:14.864Z"
   },
   {
    "duration": 34,
    "start_time": "2022-02-16T18:52:14.886Z"
   },
   {
    "duration": 6,
    "start_time": "2022-02-16T18:52:14.922Z"
   },
   {
    "duration": 344,
    "start_time": "2022-02-16T18:52:14.930Z"
   },
   {
    "duration": 3,
    "start_time": "2022-02-16T18:52:15.276Z"
   },
   {
    "duration": 1272,
    "start_time": "2022-02-16T18:52:15.281Z"
   },
   {
    "duration": 433,
    "start_time": "2022-02-16T18:52:16.556Z"
   },
   {
    "duration": 359,
    "start_time": "2022-02-16T18:52:16.991Z"
   },
   {
    "duration": 252,
    "start_time": "2022-02-16T18:52:17.352Z"
   },
   {
    "duration": 1963,
    "start_time": "2022-02-16T18:52:17.607Z"
   },
   {
    "duration": 9661,
    "start_time": "2022-02-16T18:52:19.572Z"
   },
   {
    "duration": 78,
    "start_time": "2022-02-16T18:52:29.235Z"
   },
   {
    "duration": 203,
    "start_time": "2022-02-16T18:52:29.316Z"
   },
   {
    "duration": 362,
    "start_time": "2022-02-16T18:52:29.520Z"
   },
   {
    "duration": 177,
    "start_time": "2022-02-16T18:53:15.096Z"
   },
   {
    "duration": 193,
    "start_time": "2022-02-16T18:54:38.703Z"
   },
   {
    "duration": 1246,
    "start_time": "2022-02-16T19:00:24.272Z"
   },
   {
    "duration": 17,
    "start_time": "2022-02-16T19:00:25.520Z"
   },
   {
    "duration": 227,
    "start_time": "2022-02-16T19:00:25.540Z"
   },
   {
    "duration": 3,
    "start_time": "2022-02-16T19:00:25.770Z"
   },
   {
    "duration": 10,
    "start_time": "2022-02-16T19:00:25.775Z"
   },
   {
    "duration": 67,
    "start_time": "2022-02-16T19:00:25.786Z"
   },
   {
    "duration": 3,
    "start_time": "2022-02-16T19:00:25.855Z"
   },
   {
    "duration": 17,
    "start_time": "2022-02-16T19:00:25.861Z"
   },
   {
    "duration": 40,
    "start_time": "2022-02-16T19:00:25.880Z"
   },
   {
    "duration": 6,
    "start_time": "2022-02-16T19:00:25.922Z"
   },
   {
    "duration": 337,
    "start_time": "2022-02-16T19:00:25.930Z"
   },
   {
    "duration": 2,
    "start_time": "2022-02-16T19:00:26.270Z"
   },
   {
    "duration": 1160,
    "start_time": "2022-02-16T19:00:26.274Z"
   },
   {
    "duration": 362,
    "start_time": "2022-02-16T19:00:27.435Z"
   },
   {
    "duration": 382,
    "start_time": "2022-02-16T19:00:27.799Z"
   },
   {
    "duration": 266,
    "start_time": "2022-02-16T19:00:28.183Z"
   },
   {
    "duration": 2170,
    "start_time": "2022-02-16T19:00:28.452Z"
   },
   {
    "duration": 10101,
    "start_time": "2022-02-16T19:00:30.624Z"
   },
   {
    "duration": 89,
    "start_time": "2022-02-16T19:00:40.727Z"
   },
   {
    "duration": 119,
    "start_time": "2022-02-16T19:00:40.909Z"
   },
   {
    "duration": 330,
    "start_time": "2022-02-16T19:00:41.108Z"
   },
   {
    "duration": 1258,
    "start_time": "2022-02-16T19:03:07.855Z"
   },
   {
    "duration": 15,
    "start_time": "2022-02-16T19:03:09.115Z"
   },
   {
    "duration": 249,
    "start_time": "2022-02-16T19:03:09.132Z"
   },
   {
    "duration": 3,
    "start_time": "2022-02-16T19:03:09.383Z"
   },
   {
    "duration": 14,
    "start_time": "2022-02-16T19:03:09.388Z"
   },
   {
    "duration": 79,
    "start_time": "2022-02-16T19:03:09.405Z"
   },
   {
    "duration": 3,
    "start_time": "2022-02-16T19:03:09.486Z"
   },
   {
    "duration": 21,
    "start_time": "2022-02-16T19:03:09.492Z"
   },
   {
    "duration": 30,
    "start_time": "2022-02-16T19:03:09.515Z"
   },
   {
    "duration": 10,
    "start_time": "2022-02-16T19:03:09.547Z"
   },
   {
    "duration": 411,
    "start_time": "2022-02-16T19:03:09.559Z"
   },
   {
    "duration": 3,
    "start_time": "2022-02-16T19:03:09.972Z"
   },
   {
    "duration": 1306,
    "start_time": "2022-02-16T19:03:09.977Z"
   },
   {
    "duration": 406,
    "start_time": "2022-02-16T19:03:11.284Z"
   },
   {
    "duration": 362,
    "start_time": "2022-02-16T19:03:11.692Z"
   },
   {
    "duration": 263,
    "start_time": "2022-02-16T19:03:12.056Z"
   },
   {
    "duration": 1909,
    "start_time": "2022-02-16T19:03:12.321Z"
   },
   {
    "duration": 8849,
    "start_time": "2022-02-16T19:03:14.232Z"
   },
   {
    "duration": 41,
    "start_time": "2022-02-16T19:03:23.083Z"
   },
   {
    "duration": 122,
    "start_time": "2022-02-16T19:03:23.208Z"
   },
   {
    "duration": 302,
    "start_time": "2022-02-16T19:03:23.423Z"
   },
   {
    "duration": 720,
    "start_time": "2022-02-16T19:06:29.087Z"
   },
   {
    "duration": 638,
    "start_time": "2022-02-16T19:07:17.578Z"
   },
   {
    "duration": 1206,
    "start_time": "2022-02-16T19:07:47.002Z"
   },
   {
    "duration": 15,
    "start_time": "2022-02-16T19:07:48.210Z"
   },
   {
    "duration": 224,
    "start_time": "2022-02-16T19:07:48.228Z"
   },
   {
    "duration": 3,
    "start_time": "2022-02-16T19:07:48.454Z"
   },
   {
    "duration": 10,
    "start_time": "2022-02-16T19:07:48.459Z"
   },
   {
    "duration": 61,
    "start_time": "2022-02-16T19:07:48.471Z"
   },
   {
    "duration": 3,
    "start_time": "2022-02-16T19:07:48.534Z"
   },
   {
    "duration": 13,
    "start_time": "2022-02-16T19:07:48.540Z"
   },
   {
    "duration": 27,
    "start_time": "2022-02-16T19:07:48.555Z"
   },
   {
    "duration": 6,
    "start_time": "2022-02-16T19:07:48.608Z"
   },
   {
    "duration": 362,
    "start_time": "2022-02-16T19:07:48.616Z"
   },
   {
    "duration": 2,
    "start_time": "2022-02-16T19:07:48.980Z"
   },
   {
    "duration": 1167,
    "start_time": "2022-02-16T19:07:48.984Z"
   },
   {
    "duration": 423,
    "start_time": "2022-02-16T19:07:50.154Z"
   },
   {
    "duration": 718,
    "start_time": "2022-02-16T19:07:50.579Z"
   },
   {
    "duration": 497,
    "start_time": "2022-02-16T19:07:51.307Z"
   },
   {
    "duration": 1746,
    "start_time": "2022-02-16T19:07:51.807Z"
   },
   {
    "duration": 8746,
    "start_time": "2022-02-16T19:07:53.555Z"
   },
   {
    "duration": 104,
    "start_time": "2022-02-16T19:08:02.308Z"
   },
   {
    "duration": 207,
    "start_time": "2022-02-16T19:08:02.414Z"
   },
   {
    "duration": 391,
    "start_time": "2022-02-16T19:08:02.624Z"
   },
   {
    "duration": 1337,
    "start_time": "2022-02-16T19:09:07.743Z"
   },
   {
    "duration": 26,
    "start_time": "2022-02-16T19:09:09.083Z"
   },
   {
    "duration": 349,
    "start_time": "2022-02-16T19:09:09.112Z"
   },
   {
    "duration": 3,
    "start_time": "2022-02-16T19:09:09.464Z"
   },
   {
    "duration": 19,
    "start_time": "2022-02-16T19:09:09.469Z"
   },
   {
    "duration": 99,
    "start_time": "2022-02-16T19:09:09.491Z"
   },
   {
    "duration": 4,
    "start_time": "2022-02-16T19:09:09.592Z"
   },
   {
    "duration": 35,
    "start_time": "2022-02-16T19:09:09.599Z"
   },
   {
    "duration": 38,
    "start_time": "2022-02-16T19:09:09.637Z"
   },
   {
    "duration": 8,
    "start_time": "2022-02-16T19:09:09.677Z"
   },
   {
    "duration": 399,
    "start_time": "2022-02-16T19:09:09.687Z"
   },
   {
    "duration": 4,
    "start_time": "2022-02-16T19:09:10.088Z"
   },
   {
    "duration": 1645,
    "start_time": "2022-02-16T19:09:10.107Z"
   },
   {
    "duration": 433,
    "start_time": "2022-02-16T19:09:11.754Z"
   },
   {
    "duration": 713,
    "start_time": "2022-02-16T19:09:12.189Z"
   },
   {
    "duration": 548,
    "start_time": "2022-02-16T19:09:12.908Z"
   },
   {
    "duration": 1757,
    "start_time": "2022-02-16T19:09:13.458Z"
   },
   {
    "duration": 8350,
    "start_time": "2022-02-16T19:09:15.216Z"
   },
   {
    "duration": 50,
    "start_time": "2022-02-16T19:09:23.568Z"
   },
   {
    "duration": 121,
    "start_time": "2022-02-16T19:09:23.707Z"
   },
   {
    "duration": 373,
    "start_time": "2022-02-16T19:09:23.831Z"
   },
   {
    "duration": 1308,
    "start_time": "2022-02-16T19:09:50.490Z"
   },
   {
    "duration": 19,
    "start_time": "2022-02-16T19:09:51.800Z"
   },
   {
    "duration": 222,
    "start_time": "2022-02-16T19:09:51.822Z"
   },
   {
    "duration": 2,
    "start_time": "2022-02-16T19:09:52.047Z"
   },
   {
    "duration": 7,
    "start_time": "2022-02-16T19:09:52.051Z"
   },
   {
    "duration": 66,
    "start_time": "2022-02-16T19:09:52.059Z"
   },
   {
    "duration": 3,
    "start_time": "2022-02-16T19:09:52.127Z"
   },
   {
    "duration": 21,
    "start_time": "2022-02-16T19:09:52.133Z"
   },
   {
    "duration": 39,
    "start_time": "2022-02-16T19:09:52.156Z"
   },
   {
    "duration": 28,
    "start_time": "2022-02-16T19:09:52.197Z"
   },
   {
    "duration": 396,
    "start_time": "2022-02-16T19:09:52.227Z"
   },
   {
    "duration": 3,
    "start_time": "2022-02-16T19:09:52.625Z"
   },
   {
    "duration": 1160,
    "start_time": "2022-02-16T19:09:52.629Z"
   },
   {
    "duration": 401,
    "start_time": "2022-02-16T19:09:53.791Z"
   },
   {
    "duration": 737,
    "start_time": "2022-02-16T19:09:54.194Z"
   },
   {
    "duration": 512,
    "start_time": "2022-02-16T19:09:54.934Z"
   },
   {
    "duration": 1821,
    "start_time": "2022-02-16T19:09:55.448Z"
   },
   {
    "duration": 8172,
    "start_time": "2022-02-16T19:09:57.271Z"
   },
   {
    "duration": 64,
    "start_time": "2022-02-16T19:10:05.445Z"
   },
   {
    "duration": 116,
    "start_time": "2022-02-16T19:10:05.511Z"
   },
   {
    "duration": 393,
    "start_time": "2022-02-16T19:10:05.631Z"
   },
   {
    "duration": 39,
    "start_time": "2022-02-16T19:11:47.626Z"
   },
   {
    "duration": 31,
    "start_time": "2022-02-16T19:12:46.986Z"
   },
   {
    "duration": 1283,
    "start_time": "2022-02-16T19:14:46.130Z"
   },
   {
    "duration": 17,
    "start_time": "2022-02-16T19:14:47.416Z"
   },
   {
    "duration": 233,
    "start_time": "2022-02-16T19:14:47.436Z"
   },
   {
    "duration": 5,
    "start_time": "2022-02-16T19:14:47.672Z"
   },
   {
    "duration": 9,
    "start_time": "2022-02-16T19:14:47.679Z"
   },
   {
    "duration": 66,
    "start_time": "2022-02-16T19:14:47.690Z"
   },
   {
    "duration": 3,
    "start_time": "2022-02-16T19:14:47.759Z"
   },
   {
    "duration": 19,
    "start_time": "2022-02-16T19:14:47.764Z"
   },
   {
    "duration": 40,
    "start_time": "2022-02-16T19:14:47.785Z"
   },
   {
    "duration": 6,
    "start_time": "2022-02-16T19:14:47.827Z"
   },
   {
    "duration": 345,
    "start_time": "2022-02-16T19:14:47.835Z"
   },
   {
    "duration": 3,
    "start_time": "2022-02-16T19:14:48.182Z"
   },
   {
    "duration": 1188,
    "start_time": "2022-02-16T19:14:48.187Z"
   },
   {
    "duration": 413,
    "start_time": "2022-02-16T19:14:49.377Z"
   },
   {
    "duration": 752,
    "start_time": "2022-02-16T19:14:49.793Z"
   },
   {
    "duration": 525,
    "start_time": "2022-02-16T19:14:50.547Z"
   },
   {
    "duration": 1818,
    "start_time": "2022-02-16T19:14:51.074Z"
   },
   {
    "duration": 9180,
    "start_time": "2022-02-16T19:14:52.894Z"
   },
   {
    "duration": 132,
    "start_time": "2022-02-16T19:15:02.076Z"
   },
   {
    "duration": 196,
    "start_time": "2022-02-16T19:15:02.211Z"
   },
   {
    "duration": 315,
    "start_time": "2022-02-16T19:15:02.410Z"
   },
   {
    "duration": 30,
    "start_time": "2022-02-16T19:15:21.650Z"
   },
   {
    "duration": 1330,
    "start_time": "2022-02-16T19:28:03.394Z"
   },
   {
    "duration": 16,
    "start_time": "2022-02-16T19:28:04.727Z"
   },
   {
    "duration": 224,
    "start_time": "2022-02-16T19:28:04.746Z"
   },
   {
    "duration": 3,
    "start_time": "2022-02-16T19:28:04.972Z"
   },
   {
    "duration": 66,
    "start_time": "2022-02-16T19:28:04.977Z"
   },
   {
    "duration": 4,
    "start_time": "2022-02-16T19:28:05.045Z"
   },
   {
    "duration": 16,
    "start_time": "2022-02-16T19:28:05.050Z"
   },
   {
    "duration": 43,
    "start_time": "2022-02-16T19:28:05.069Z"
   },
   {
    "duration": 7,
    "start_time": "2022-02-16T19:28:05.114Z"
   },
   {
    "duration": 338,
    "start_time": "2022-02-16T19:28:05.123Z"
   },
   {
    "duration": 3,
    "start_time": "2022-02-16T19:28:05.463Z"
   },
   {
    "duration": 1284,
    "start_time": "2022-02-16T19:28:05.468Z"
   },
   {
    "duration": 439,
    "start_time": "2022-02-16T19:28:06.755Z"
   },
   {
    "duration": 377,
    "start_time": "2022-02-16T19:28:07.196Z"
   },
   {
    "duration": 911,
    "start_time": "2022-02-16T19:28:06.664Z"
   },
   {
    "duration": 896,
    "start_time": "2022-02-16T19:28:06.680Z"
   },
   {
    "duration": 890,
    "start_time": "2022-02-16T19:28:06.688Z"
   },
   {
    "duration": 889,
    "start_time": "2022-02-16T19:28:06.690Z"
   },
   {
    "duration": 888,
    "start_time": "2022-02-16T19:28:06.693Z"
   },
   {
    "duration": 886,
    "start_time": "2022-02-16T19:28:06.696Z"
   },
   {
    "duration": 85,
    "start_time": "2022-02-16T19:29:20.042Z"
   },
   {
    "duration": 96,
    "start_time": "2022-02-16T19:29:35.334Z"
   },
   {
    "duration": 1288,
    "start_time": "2022-02-16T19:29:47.318Z"
   },
   {
    "duration": 16,
    "start_time": "2022-02-16T19:29:48.608Z"
   },
   {
    "duration": 227,
    "start_time": "2022-02-16T19:29:48.627Z"
   },
   {
    "duration": 3,
    "start_time": "2022-02-16T19:29:48.857Z"
   },
   {
    "duration": 86,
    "start_time": "2022-02-16T19:29:48.862Z"
   },
   {
    "duration": 4,
    "start_time": "2022-02-16T19:29:48.950Z"
   },
   {
    "duration": 16,
    "start_time": "2022-02-16T19:29:48.956Z"
   },
   {
    "duration": 56,
    "start_time": "2022-02-16T19:29:48.976Z"
   },
   {
    "duration": 8,
    "start_time": "2022-02-16T19:29:49.034Z"
   },
   {
    "duration": 317,
    "start_time": "2022-02-16T19:29:49.044Z"
   },
   {
    "duration": 2,
    "start_time": "2022-02-16T19:29:49.364Z"
   },
   {
    "duration": 1272,
    "start_time": "2022-02-16T19:29:49.368Z"
   },
   {
    "duration": 423,
    "start_time": "2022-02-16T19:29:50.642Z"
   },
   {
    "duration": 410,
    "start_time": "2022-02-16T19:29:51.067Z"
   },
   {
    "duration": 913,
    "start_time": "2022-02-16T19:29:50.566Z"
   },
   {
    "duration": 908,
    "start_time": "2022-02-16T19:29:50.573Z"
   },
   {
    "duration": 905,
    "start_time": "2022-02-16T19:29:50.577Z"
   },
   {
    "duration": 904,
    "start_time": "2022-02-16T19:29:50.579Z"
   },
   {
    "duration": 902,
    "start_time": "2022-02-16T19:29:50.582Z"
   },
   {
    "duration": 901,
    "start_time": "2022-02-16T19:29:50.584Z"
   },
   {
    "duration": 84,
    "start_time": "2022-02-16T19:30:11.010Z"
   },
   {
    "duration": 1293,
    "start_time": "2022-02-16T19:30:16.518Z"
   },
   {
    "duration": 15,
    "start_time": "2022-02-16T19:30:17.813Z"
   },
   {
    "duration": 242,
    "start_time": "2022-02-16T19:30:17.833Z"
   },
   {
    "duration": 3,
    "start_time": "2022-02-16T19:30:18.077Z"
   },
   {
    "duration": 64,
    "start_time": "2022-02-16T19:30:18.082Z"
   },
   {
    "duration": 4,
    "start_time": "2022-02-16T19:30:18.148Z"
   },
   {
    "duration": 13,
    "start_time": "2022-02-16T19:30:18.155Z"
   },
   {
    "duration": 46,
    "start_time": "2022-02-16T19:30:18.171Z"
   },
   {
    "duration": 6,
    "start_time": "2022-02-16T19:30:18.219Z"
   },
   {
    "duration": 335,
    "start_time": "2022-02-16T19:30:18.227Z"
   },
   {
    "duration": 2,
    "start_time": "2022-02-16T19:30:18.564Z"
   },
   {
    "duration": 1118,
    "start_time": "2022-02-16T19:30:18.568Z"
   },
   {
    "duration": 420,
    "start_time": "2022-02-16T19:30:19.689Z"
   },
   {
    "duration": 82,
    "start_time": "2022-02-16T19:30:20.111Z"
   },
   {
    "duration": 104,
    "start_time": "2022-02-16T19:30:20.195Z"
   },
   {
    "duration": 2032,
    "start_time": "2022-02-16T19:30:20.301Z"
   },
   {
    "duration": 11399,
    "start_time": "2022-02-16T19:30:22.335Z"
   },
   {
    "duration": 77,
    "start_time": "2022-02-16T19:30:33.737Z"
   },
   {
    "duration": 120,
    "start_time": "2022-02-16T19:30:33.817Z"
   },
   {
    "duration": 388,
    "start_time": "2022-02-16T19:30:33.940Z"
   },
   {
    "duration": 92,
    "start_time": "2022-02-16T19:31:43.474Z"
   },
   {
    "duration": 98,
    "start_time": "2022-02-16T19:31:45.757Z"
   },
   {
    "duration": 2038,
    "start_time": "2022-02-16T19:31:46.953Z"
   },
   {
    "duration": 10062,
    "start_time": "2022-02-16T19:31:48.994Z"
   },
   {
    "duration": 56,
    "start_time": "2022-02-16T19:31:59.059Z"
   },
   {
    "duration": 208,
    "start_time": "2022-02-16T19:31:59.119Z"
   },
   {
    "duration": 1228,
    "start_time": "2022-02-16T19:32:21.089Z"
   },
   {
    "duration": 15,
    "start_time": "2022-02-16T19:32:22.319Z"
   },
   {
    "duration": 223,
    "start_time": "2022-02-16T19:32:22.337Z"
   },
   {
    "duration": 2,
    "start_time": "2022-02-16T19:32:22.563Z"
   },
   {
    "duration": 62,
    "start_time": "2022-02-16T19:32:22.567Z"
   },
   {
    "duration": 3,
    "start_time": "2022-02-16T19:32:22.631Z"
   },
   {
    "duration": 17,
    "start_time": "2022-02-16T19:32:22.636Z"
   },
   {
    "duration": 34,
    "start_time": "2022-02-16T19:32:22.656Z"
   },
   {
    "duration": 20,
    "start_time": "2022-02-16T19:32:22.693Z"
   },
   {
    "duration": 352,
    "start_time": "2022-02-16T19:32:22.715Z"
   },
   {
    "duration": 3,
    "start_time": "2022-02-16T19:32:23.069Z"
   },
   {
    "duration": 1242,
    "start_time": "2022-02-16T19:32:23.074Z"
   },
   {
    "duration": 377,
    "start_time": "2022-02-16T19:32:24.318Z"
   },
   {
    "duration": 84,
    "start_time": "2022-02-16T19:32:24.697Z"
   },
   {
    "duration": 106,
    "start_time": "2022-02-16T19:32:24.783Z"
   },
   {
    "duration": 1959,
    "start_time": "2022-02-16T19:32:24.891Z"
   },
   {
    "duration": 9186,
    "start_time": "2022-02-16T19:32:26.851Z"
   },
   {
    "duration": 76,
    "start_time": "2022-02-16T19:32:36.038Z"
   },
   {
    "duration": 105,
    "start_time": "2022-02-16T19:32:36.207Z"
   },
   {
    "duration": 297,
    "start_time": "2022-02-16T19:32:36.314Z"
   },
   {
    "duration": 304,
    "start_time": "2022-02-16T19:36:06.673Z"
   },
   {
    "duration": 128,
    "start_time": "2022-02-16T19:36:21.985Z"
   },
   {
    "duration": 1182,
    "start_time": "2022-02-16T19:38:22.327Z"
   },
   {
    "duration": 14,
    "start_time": "2022-02-16T19:38:23.511Z"
   },
   {
    "duration": 212,
    "start_time": "2022-02-16T19:38:23.528Z"
   },
   {
    "duration": 3,
    "start_time": "2022-02-16T19:38:23.743Z"
   },
   {
    "duration": 61,
    "start_time": "2022-02-16T19:38:23.747Z"
   },
   {
    "duration": 3,
    "start_time": "2022-02-16T19:38:23.810Z"
   },
   {
    "duration": 15,
    "start_time": "2022-02-16T19:38:23.815Z"
   },
   {
    "duration": 26,
    "start_time": "2022-02-16T19:38:23.833Z"
   },
   {
    "duration": 7,
    "start_time": "2022-02-16T19:38:23.861Z"
   },
   {
    "duration": 400,
    "start_time": "2022-02-16T19:38:23.870Z"
   },
   {
    "duration": 3,
    "start_time": "2022-02-16T19:38:24.272Z"
   },
   {
    "duration": 1167,
    "start_time": "2022-02-16T19:38:24.277Z"
   },
   {
    "duration": 418,
    "start_time": "2022-02-16T19:38:25.447Z"
   },
   {
    "duration": 91,
    "start_time": "2022-02-16T19:38:25.867Z"
   },
   {
    "duration": 103,
    "start_time": "2022-02-16T19:38:25.961Z"
   },
   {
    "duration": 1846,
    "start_time": "2022-02-16T19:38:26.067Z"
   },
   {
    "duration": 9112,
    "start_time": "2022-02-16T19:38:27.916Z"
   },
   {
    "duration": 84,
    "start_time": "2022-02-16T19:38:37.029Z"
   },
   {
    "duration": 115,
    "start_time": "2022-02-16T19:38:37.116Z"
   },
   {
    "duration": 289,
    "start_time": "2022-02-16T19:38:37.309Z"
   },
   {
    "duration": 197,
    "start_time": "2022-02-16T19:39:52.788Z"
   },
   {
    "duration": 186,
    "start_time": "2022-02-16T19:39:56.016Z"
   },
   {
    "duration": 45,
    "start_time": "2022-02-16T19:43:26.308Z"
   },
   {
    "duration": 23,
    "start_time": "2022-02-16T19:43:32.547Z"
   },
   {
    "duration": 210,
    "start_time": "2022-02-16T19:43:35.883Z"
   },
   {
    "duration": 239,
    "start_time": "2022-02-16T19:43:39.517Z"
   },
   {
    "duration": 1264,
    "start_time": "2022-02-16T19:44:12.669Z"
   },
   {
    "duration": 15,
    "start_time": "2022-02-16T19:44:13.935Z"
   },
   {
    "duration": 265,
    "start_time": "2022-02-16T19:44:13.953Z"
   },
   {
    "duration": 273,
    "start_time": "2022-02-16T19:44:14.221Z"
   },
   {
    "duration": 2,
    "start_time": "2022-02-16T19:44:14.497Z"
   },
   {
    "duration": 2,
    "start_time": "2022-02-16T19:44:14.508Z"
   },
   {
    "duration": 403,
    "start_time": "2022-02-16T19:44:14.512Z"
   },
   {
    "duration": 44,
    "start_time": "2022-02-16T19:44:14.918Z"
   },
   {
    "duration": 6,
    "start_time": "2022-02-16T19:44:14.964Z"
   },
   {
    "duration": 2345,
    "start_time": "2022-02-16T19:44:14.972Z"
   },
   {
    "duration": 2,
    "start_time": "2022-02-16T19:44:17.320Z"
   },
   {
    "duration": 10468,
    "start_time": "2022-02-16T19:44:17.325Z"
   },
   {
    "duration": 2325,
    "start_time": "2022-02-16T19:44:27.795Z"
   },
   {
    "duration": 1145,
    "start_time": "2022-02-16T19:44:30.122Z"
   },
   {
    "duration": 898,
    "start_time": "2022-02-16T19:44:31.269Z"
   },
   {
    "duration": 22447,
    "start_time": "2022-02-16T19:44:32.169Z"
   },
   {
    "duration": 84544,
    "start_time": "2022-02-16T19:44:54.619Z"
   },
   {
    "duration": 454,
    "start_time": "2022-02-16T19:46:19.165Z"
   },
   {
    "duration": 217,
    "start_time": "2022-02-16T19:46:19.707Z"
   },
   {
    "duration": 390,
    "start_time": "2022-02-16T19:46:19.926Z"
   },
   {
    "duration": 238,
    "start_time": "2022-02-16T19:46:20.318Z"
   },
   {
    "duration": 802,
    "start_time": "2022-02-16T19:51:10.247Z"
   },
   {
    "duration": 684,
    "start_time": "2022-02-16T19:52:08.474Z"
   },
   {
    "duration": 688,
    "start_time": "2022-02-16T19:53:31.587Z"
   },
   {
    "duration": 702,
    "start_time": "2022-02-16T19:54:14.810Z"
   },
   {
    "duration": 718,
    "start_time": "2022-02-16T19:56:52.698Z"
   },
   {
    "duration": 1204,
    "start_time": "2022-02-16T19:59:54.029Z"
   },
   {
    "duration": 23,
    "start_time": "2022-02-16T19:59:55.235Z"
   },
   {
    "duration": 204,
    "start_time": "2022-02-16T19:59:55.260Z"
   },
   {
    "duration": 27,
    "start_time": "2022-02-16T19:59:55.467Z"
   },
   {
    "duration": 26,
    "start_time": "2022-02-16T19:59:55.496Z"
   },
   {
    "duration": 18,
    "start_time": "2022-02-16T19:59:55.524Z"
   },
   {
    "duration": 33,
    "start_time": "2022-02-16T19:59:55.544Z"
   },
   {
    "duration": 38,
    "start_time": "2022-02-16T19:59:55.581Z"
   },
   {
    "duration": 16,
    "start_time": "2022-02-16T19:59:55.622Z"
   },
   {
    "duration": 403,
    "start_time": "2022-02-16T19:59:55.640Z"
   },
   {
    "duration": 3,
    "start_time": "2022-02-16T19:59:56.045Z"
   },
   {
    "duration": 1060,
    "start_time": "2022-02-16T19:59:56.050Z"
   },
   {
    "duration": 360,
    "start_time": "2022-02-16T19:59:57.112Z"
   },
   {
    "duration": 89,
    "start_time": "2022-02-16T19:59:57.474Z"
   },
   {
    "duration": 104,
    "start_time": "2022-02-16T19:59:57.566Z"
   },
   {
    "duration": 1643,
    "start_time": "2022-02-16T19:59:57.673Z"
   },
   {
    "duration": 8544,
    "start_time": "2022-02-16T19:59:59.318Z"
   },
   {
    "duration": 366,
    "start_time": "2022-02-16T20:00:07.863Z"
   },
   {
    "duration": 77,
    "start_time": "2022-02-16T20:00:08.231Z"
   },
   {
    "duration": 303,
    "start_time": "2022-02-16T20:00:08.311Z"
   },
   {
    "duration": 201,
    "start_time": "2022-02-16T20:00:08.616Z"
   },
   {
    "duration": 17,
    "start_time": "2022-02-16T20:17:37.159Z"
   },
   {
    "duration": 1197,
    "start_time": "2022-02-16T20:21:23.119Z"
   },
   {
    "duration": 17,
    "start_time": "2022-02-16T20:21:24.318Z"
   },
   {
    "duration": 240,
    "start_time": "2022-02-16T20:21:24.338Z"
   },
   {
    "duration": 40,
    "start_time": "2022-02-16T20:21:24.580Z"
   },
   {
    "duration": 3,
    "start_time": "2022-02-16T20:21:24.622Z"
   },
   {
    "duration": 13,
    "start_time": "2022-02-16T20:21:24.627Z"
   },
   {
    "duration": 26,
    "start_time": "2022-02-16T20:21:24.642Z"
   },
   {
    "duration": 45,
    "start_time": "2022-02-16T20:21:24.671Z"
   },
   {
    "duration": 7,
    "start_time": "2022-02-16T20:21:24.718Z"
   },
   {
    "duration": 327,
    "start_time": "2022-02-16T20:21:24.727Z"
   },
   {
    "duration": 2,
    "start_time": "2022-02-16T20:21:25.056Z"
   },
   {
    "duration": 1064,
    "start_time": "2022-02-16T20:21:25.061Z"
   },
   {
    "duration": 344,
    "start_time": "2022-02-16T20:21:26.128Z"
   },
   {
    "duration": 87,
    "start_time": "2022-02-16T20:21:26.474Z"
   },
   {
    "duration": 105,
    "start_time": "2022-02-16T20:21:26.563Z"
   },
   {
    "duration": 1768,
    "start_time": "2022-02-16T20:21:26.670Z"
   },
   {
    "duration": 8688,
    "start_time": "2022-02-16T20:21:28.440Z"
   },
   {
    "duration": 294,
    "start_time": "2022-02-16T20:21:37.130Z"
   },
   {
    "duration": 86,
    "start_time": "2022-02-16T20:21:37.426Z"
   },
   {
    "duration": 296,
    "start_time": "2022-02-16T20:21:37.515Z"
   },
   {
    "duration": 198,
    "start_time": "2022-02-16T20:21:37.813Z"
   },
   {
    "duration": 3,
    "start_time": "2022-02-16T20:22:26.983Z"
   },
   {
    "duration": 17,
    "start_time": "2022-02-16T20:22:29.191Z"
   },
   {
    "duration": 41,
    "start_time": "2022-02-16T20:22:34.395Z"
   },
   {
    "duration": 1251,
    "start_time": "2022-02-16T20:22:45.648Z"
   },
   {
    "duration": 18,
    "start_time": "2022-02-16T20:22:46.902Z"
   },
   {
    "duration": 217,
    "start_time": "2022-02-16T20:22:46.923Z"
   },
   {
    "duration": 28,
    "start_time": "2022-02-16T20:22:47.143Z"
   },
   {
    "duration": 3,
    "start_time": "2022-02-16T20:22:47.172Z"
   },
   {
    "duration": 6,
    "start_time": "2022-02-16T20:22:47.176Z"
   },
   {
    "duration": 36,
    "start_time": "2022-02-16T20:22:47.184Z"
   },
   {
    "duration": 36,
    "start_time": "2022-02-16T20:22:47.223Z"
   },
   {
    "duration": 6,
    "start_time": "2022-02-16T20:22:47.262Z"
   },
   {
    "duration": 372,
    "start_time": "2022-02-16T20:22:47.270Z"
   },
   {
    "duration": 2,
    "start_time": "2022-02-16T20:22:47.644Z"
   },
   {
    "duration": 1059,
    "start_time": "2022-02-16T20:22:47.648Z"
   },
   {
    "duration": 398,
    "start_time": "2022-02-16T20:22:48.709Z"
   },
   {
    "duration": 72,
    "start_time": "2022-02-16T20:22:49.109Z"
   },
   {
    "duration": 107,
    "start_time": "2022-02-16T20:22:49.183Z"
   },
   {
    "duration": 1633,
    "start_time": "2022-02-16T20:22:49.293Z"
   },
   {
    "duration": 8602,
    "start_time": "2022-02-16T20:22:50.929Z"
   },
   {
    "duration": 391,
    "start_time": "2022-02-16T20:22:59.533Z"
   },
   {
    "duration": 26,
    "start_time": "2022-02-16T20:22:59.926Z"
   },
   {
    "duration": 312,
    "start_time": "2022-02-16T20:23:00.009Z"
   },
   {
    "duration": 203,
    "start_time": "2022-02-16T20:23:00.323Z"
   },
   {
    "duration": 314,
    "start_time": "2022-02-16T20:31:26.415Z"
   },
   {
    "duration": 319,
    "start_time": "2022-02-16T20:32:06.363Z"
   },
   {
    "duration": 374,
    "start_time": "2022-02-16T20:37:33.154Z"
   },
   {
    "duration": 442,
    "start_time": "2022-02-16T20:37:51.658Z"
   },
   {
    "duration": 280,
    "start_time": "2022-02-16T20:40:58.146Z"
   },
   {
    "duration": 264,
    "start_time": "2022-02-16T20:41:09.290Z"
   },
   {
    "duration": 95,
    "start_time": "2022-02-16T20:41:46.747Z"
   },
   {
    "duration": 246,
    "start_time": "2022-02-16T20:41:51.802Z"
   },
   {
    "duration": 1632,
    "start_time": "2022-02-17T17:11:11.350Z"
   },
   {
    "duration": 22,
    "start_time": "2022-02-17T17:11:12.985Z"
   },
   {
    "duration": 436,
    "start_time": "2022-02-17T17:11:13.010Z"
   },
   {
    "duration": 41,
    "start_time": "2022-02-17T17:11:13.449Z"
   },
   {
    "duration": 4,
    "start_time": "2022-02-17T17:11:13.492Z"
   },
   {
    "duration": 29,
    "start_time": "2022-02-17T17:11:13.498Z"
   },
   {
    "duration": 27,
    "start_time": "2022-02-17T17:11:13.530Z"
   },
   {
    "duration": 78,
    "start_time": "2022-02-17T17:11:13.562Z"
   },
   {
    "duration": 7,
    "start_time": "2022-02-17T17:11:13.644Z"
   },
   {
    "duration": 27,
    "start_time": "2022-02-17T17:11:13.654Z"
   },
   {
    "duration": 426,
    "start_time": "2022-02-17T17:11:13.684Z"
   },
   {
    "duration": 3,
    "start_time": "2022-02-17T17:11:14.112Z"
   },
   {
    "duration": 2861,
    "start_time": "2022-02-17T17:11:14.118Z"
   },
   {
    "duration": 363,
    "start_time": "2022-02-17T17:11:16.619Z"
   },
   {
    "duration": 360,
    "start_time": "2022-02-17T17:11:16.623Z"
   },
   {
    "duration": 360,
    "start_time": "2022-02-17T17:11:16.625Z"
   },
   {
    "duration": 356,
    "start_time": "2022-02-17T17:11:16.631Z"
   },
   {
    "duration": 355,
    "start_time": "2022-02-17T17:11:16.634Z"
   },
   {
    "duration": 354,
    "start_time": "2022-02-17T17:11:16.637Z"
   },
   {
    "duration": 354,
    "start_time": "2022-02-17T17:11:16.639Z"
   },
   {
    "duration": 353,
    "start_time": "2022-02-17T17:11:16.642Z"
   },
   {
    "duration": 352,
    "start_time": "2022-02-17T17:11:16.644Z"
   },
   {
    "duration": 1601,
    "start_time": "2022-02-17T17:12:18.630Z"
   },
   {
    "duration": 19,
    "start_time": "2022-02-17T17:12:20.234Z"
   },
   {
    "duration": 327,
    "start_time": "2022-02-17T17:12:20.256Z"
   },
   {
    "duration": 50,
    "start_time": "2022-02-17T17:12:20.586Z"
   },
   {
    "duration": 3,
    "start_time": "2022-02-17T17:12:20.639Z"
   },
   {
    "duration": 6,
    "start_time": "2022-02-17T17:12:20.644Z"
   },
   {
    "duration": 21,
    "start_time": "2022-02-17T17:12:20.653Z"
   },
   {
    "duration": 90,
    "start_time": "2022-02-17T17:12:20.678Z"
   },
   {
    "duration": 9,
    "start_time": "2022-02-17T17:12:20.771Z"
   },
   {
    "duration": 9,
    "start_time": "2022-02-17T17:12:20.782Z"
   },
   {
    "duration": 413,
    "start_time": "2022-02-17T17:12:20.793Z"
   },
   {
    "duration": 4,
    "start_time": "2022-02-17T17:12:21.209Z"
   },
   {
    "duration": 2129,
    "start_time": "2022-02-17T17:12:21.227Z"
   },
   {
    "duration": 385,
    "start_time": "2022-02-17T17:12:22.973Z"
   },
   {
    "duration": 385,
    "start_time": "2022-02-17T17:12:22.975Z"
   },
   {
    "duration": 379,
    "start_time": "2022-02-17T17:12:22.982Z"
   },
   {
    "duration": 378,
    "start_time": "2022-02-17T17:12:22.985Z"
   },
   {
    "duration": 377,
    "start_time": "2022-02-17T17:12:22.988Z"
   },
   {
    "duration": 376,
    "start_time": "2022-02-17T17:12:22.991Z"
   },
   {
    "duration": 375,
    "start_time": "2022-02-17T17:12:22.993Z"
   },
   {
    "duration": 374,
    "start_time": "2022-02-17T17:12:22.996Z"
   },
   {
    "duration": 373,
    "start_time": "2022-02-17T17:12:22.998Z"
   },
   {
    "duration": 1614,
    "start_time": "2022-02-17T17:13:50.916Z"
   },
   {
    "duration": 21,
    "start_time": "2022-02-17T17:13:52.536Z"
   },
   {
    "duration": 351,
    "start_time": "2022-02-17T17:13:52.560Z"
   },
   {
    "duration": 48,
    "start_time": "2022-02-17T17:13:52.913Z"
   },
   {
    "duration": 3,
    "start_time": "2022-02-17T17:13:52.963Z"
   },
   {
    "duration": 6,
    "start_time": "2022-02-17T17:13:52.969Z"
   },
   {
    "duration": 50,
    "start_time": "2022-02-17T17:13:52.979Z"
   },
   {
    "duration": 50,
    "start_time": "2022-02-17T17:13:53.032Z"
   },
   {
    "duration": 8,
    "start_time": "2022-02-17T17:13:53.084Z"
   },
   {
    "duration": 34,
    "start_time": "2022-02-17T17:13:53.094Z"
   },
   {
    "duration": 376,
    "start_time": "2022-02-17T17:13:53.131Z"
   },
   {
    "duration": 3,
    "start_time": "2022-02-17T17:13:53.510Z"
   },
   {
    "duration": 1442,
    "start_time": "2022-02-17T17:13:53.527Z"
   },
   {
    "duration": 474,
    "start_time": "2022-02-17T17:13:54.972Z"
   },
   {
    "duration": 143,
    "start_time": "2022-02-17T17:13:55.449Z"
   },
   {
    "duration": 141,
    "start_time": "2022-02-17T17:13:55.595Z"
   },
   {
    "duration": 2391,
    "start_time": "2022-02-17T17:13:55.738Z"
   },
   {
    "duration": 12092,
    "start_time": "2022-02-17T17:13:58.131Z"
   },
   {
    "duration": 282,
    "start_time": "2022-02-17T17:14:10.227Z"
   },
   {
    "duration": 99,
    "start_time": "2022-02-17T17:14:10.527Z"
   },
   {
    "duration": 388,
    "start_time": "2022-02-17T17:14:10.631Z"
   },
   {
    "duration": 331,
    "start_time": "2022-02-17T17:14:11.030Z"
   },
   {
    "duration": 1593,
    "start_time": "2022-02-17T17:15:46.061Z"
   },
   {
    "duration": 1593,
    "start_time": "2022-02-17T17:16:10.125Z"
   },
   {
    "duration": 448,
    "start_time": "2022-02-17T17:19:35.277Z"
   },
   {
    "duration": 10,
    "start_time": "2022-02-17T17:20:09.533Z"
   },
   {
    "duration": 432,
    "start_time": "2022-02-17T17:20:10.603Z"
   },
   {
    "duration": 450,
    "start_time": "2022-02-17T17:20:43.034Z"
   },
   {
    "duration": 1435,
    "start_time": "2022-02-17T17:21:29.052Z"
   },
   {
    "duration": 439,
    "start_time": "2022-02-17T17:22:51.268Z"
   },
   {
    "duration": 98,
    "start_time": "2022-02-17T17:24:25.116Z"
   },
   {
    "duration": 123,
    "start_time": "2022-02-17T17:25:07.196Z"
   },
   {
    "duration": 2133,
    "start_time": "2022-02-17T17:29:28.357Z"
   },
   {
    "duration": 11714,
    "start_time": "2022-02-17T17:34:57.112Z"
   },
   {
    "duration": 117,
    "start_time": "2022-02-17T18:01:13.173Z"
   },
   {
    "duration": 490,
    "start_time": "2022-02-17T18:01:21.757Z"
   },
   {
    "duration": 1599,
    "start_time": "2022-02-17T18:03:37.624Z"
   },
   {
    "duration": 21,
    "start_time": "2022-02-17T18:03:39.226Z"
   },
   {
    "duration": 453,
    "start_time": "2022-02-17T18:03:39.250Z"
   },
   {
    "duration": 41,
    "start_time": "2022-02-17T18:03:39.706Z"
   },
   {
    "duration": 2,
    "start_time": "2022-02-17T18:03:39.750Z"
   },
   {
    "duration": 8,
    "start_time": "2022-02-17T18:03:39.755Z"
   },
   {
    "duration": 25,
    "start_time": "2022-02-17T18:03:39.766Z"
   },
   {
    "duration": 79,
    "start_time": "2022-02-17T18:03:39.795Z"
   },
   {
    "duration": 8,
    "start_time": "2022-02-17T18:03:39.877Z"
   },
   {
    "duration": 45,
    "start_time": "2022-02-17T18:03:39.887Z"
   },
   {
    "duration": 451,
    "start_time": "2022-02-17T18:03:39.935Z"
   },
   {
    "duration": 4,
    "start_time": "2022-02-17T18:03:40.389Z"
   },
   {
    "duration": 1390,
    "start_time": "2022-02-17T18:03:40.395Z"
   },
   {
    "duration": 566,
    "start_time": "2022-02-17T18:03:41.788Z"
   },
   {
    "duration": 108,
    "start_time": "2022-02-17T18:03:42.357Z"
   },
   {
    "duration": 132,
    "start_time": "2022-02-17T18:03:42.468Z"
   },
   {
    "duration": 2115,
    "start_time": "2022-02-17T18:03:42.603Z"
   },
   {
    "duration": 11033,
    "start_time": "2022-02-17T18:03:44.720Z"
   },
   {
    "duration": 595,
    "start_time": "2022-02-17T18:03:55.756Z"
   },
   {
    "duration": 101,
    "start_time": "2022-02-17T18:03:56.426Z"
   },
   {
    "duration": 395,
    "start_time": "2022-02-17T18:03:56.531Z"
   },
   {
    "duration": 299,
    "start_time": "2022-02-17T18:03:56.928Z"
   },
   {
    "duration": 734,
    "start_time": "2022-02-17T18:05:31.416Z"
   },
   {
    "duration": 536,
    "start_time": "2022-02-17T18:06:42.423Z"
   },
   {
    "duration": 2054,
    "start_time": "2022-02-17T18:09:05.933Z"
   },
   {
    "duration": 36,
    "start_time": "2022-02-17T18:09:07.990Z"
   },
   {
    "duration": 510,
    "start_time": "2022-02-17T18:09:08.030Z"
   },
   {
    "duration": 55,
    "start_time": "2022-02-17T18:09:08.544Z"
   },
   {
    "duration": 25,
    "start_time": "2022-02-17T18:09:08.602Z"
   },
   {
    "duration": 11,
    "start_time": "2022-02-17T18:09:08.630Z"
   },
   {
    "duration": 27,
    "start_time": "2022-02-17T18:09:08.644Z"
   },
   {
    "duration": 83,
    "start_time": "2022-02-17T18:09:08.676Z"
   },
   {
    "duration": 8,
    "start_time": "2022-02-17T18:09:08.762Z"
   },
   {
    "duration": 11,
    "start_time": "2022-02-17T18:09:08.773Z"
   },
   {
    "duration": 441,
    "start_time": "2022-02-17T18:09:08.787Z"
   },
   {
    "duration": 3,
    "start_time": "2022-02-17T18:09:09.231Z"
   },
   {
    "duration": 1452,
    "start_time": "2022-02-17T18:09:09.237Z"
   },
   {
    "duration": 471,
    "start_time": "2022-02-17T18:09:10.692Z"
   },
   {
    "duration": 119,
    "start_time": "2022-02-17T18:09:11.167Z"
   },
   {
    "duration": 141,
    "start_time": "2022-02-17T18:09:11.289Z"
   },
   {
    "duration": 2311,
    "start_time": "2022-02-17T18:09:11.433Z"
   },
   {
    "duration": 11441,
    "start_time": "2022-02-17T18:09:13.747Z"
   },
   {
    "duration": 566,
    "start_time": "2022-02-17T18:09:25.191Z"
   },
   {
    "duration": 77,
    "start_time": "2022-02-17T18:09:25.760Z"
   },
   {
    "duration": 413,
    "start_time": "2022-02-17T18:09:25.840Z"
   },
   {
    "duration": 312,
    "start_time": "2022-02-17T18:09:26.256Z"
   },
   {
    "duration": 53,
    "start_time": "2022-02-17T18:15:05.364Z"
   },
   {
    "duration": 810,
    "start_time": "2022-02-17T18:17:08.036Z"
   },
   {
    "duration": 287,
    "start_time": "2022-02-17T18:42:45.379Z"
   },
   {
    "duration": 350,
    "start_time": "2022-02-17T18:42:50.418Z"
   },
   {
    "duration": 11106,
    "start_time": "2022-02-17T18:46:49.065Z"
   },
   {
    "duration": 452,
    "start_time": "2022-02-17T19:03:50.285Z"
   },
   {
    "duration": 2148,
    "start_time": "2022-02-17T19:05:12.278Z"
   },
   {
    "duration": 1378,
    "start_time": "2022-02-17T19:05:34.465Z"
   },
   {
    "duration": 2013,
    "start_time": "2022-02-17T19:07:09.385Z"
   },
   {
    "duration": 1875,
    "start_time": "2022-02-17T19:07:36.164Z"
   },
   {
    "duration": 1932,
    "start_time": "2022-02-17T19:08:19.925Z"
   },
   {
    "duration": 425,
    "start_time": "2022-02-17T19:09:41.665Z"
   },
   {
    "duration": 1134,
    "start_time": "2022-02-17T19:11:03.481Z"
   },
   {
    "duration": 1403,
    "start_time": "2022-02-17T19:12:55.089Z"
   },
   {
    "duration": 1309,
    "start_time": "2022-02-17T19:13:36.140Z"
   },
   {
    "duration": 380,
    "start_time": "2022-02-17T19:18:00.964Z"
   },
   {
    "duration": 80,
    "start_time": "2022-02-17T19:24:48.662Z"
   },
   {
    "duration": 103,
    "start_time": "2022-02-17T19:25:05.195Z"
   },
   {
    "duration": 142,
    "start_time": "2022-02-17T19:26:24.214Z"
   },
   {
    "duration": 60,
    "start_time": "2022-02-17T19:27:11.958Z"
   },
   {
    "duration": 32,
    "start_time": "2022-02-17T20:29:47.225Z"
   },
   {
    "duration": 1611,
    "start_time": "2022-02-17T21:00:14.883Z"
   },
   {
    "duration": 30,
    "start_time": "2022-02-17T21:00:16.496Z"
   },
   {
    "duration": 346,
    "start_time": "2022-02-17T21:00:16.529Z"
   },
   {
    "duration": 57,
    "start_time": "2022-02-17T21:00:16.879Z"
   },
   {
    "duration": 3,
    "start_time": "2022-02-17T21:00:16.939Z"
   },
   {
    "duration": 36,
    "start_time": "2022-02-17T21:00:16.945Z"
   },
   {
    "duration": 4,
    "start_time": "2022-02-17T21:00:16.984Z"
   },
   {
    "duration": 49,
    "start_time": "2022-02-17T21:00:16.991Z"
   },
   {
    "duration": 87,
    "start_time": "2022-02-17T21:00:17.044Z"
   },
   {
    "duration": 8,
    "start_time": "2022-02-17T21:00:17.133Z"
   },
   {
    "duration": 18,
    "start_time": "2022-02-17T21:00:17.144Z"
   },
   {
    "duration": 456,
    "start_time": "2022-02-17T21:00:17.165Z"
   },
   {
    "duration": 1089,
    "start_time": "2022-02-17T21:00:17.627Z"
   },
   {
    "duration": 1381,
    "start_time": "2022-02-17T21:00:18.719Z"
   },
   {
    "duration": 407,
    "start_time": "2022-02-17T21:00:20.102Z"
   },
   {
    "duration": 83,
    "start_time": "2022-02-17T21:00:20.512Z"
   },
   {
    "duration": 96,
    "start_time": "2022-02-17T21:00:20.599Z"
   },
   {
    "duration": 2142,
    "start_time": "2022-02-17T21:00:20.698Z"
   },
   {
    "duration": 7802,
    "start_time": "2022-02-17T21:00:22.843Z"
   },
   {
    "duration": 596,
    "start_time": "2022-02-17T21:00:30.648Z"
   },
   {
    "duration": 317,
    "start_time": "2022-02-17T21:00:31.247Z"
   },
   {
    "duration": 363,
    "start_time": "2022-02-17T21:00:31.566Z"
   },
   {
    "duration": 1702,
    "start_time": "2022-02-17T21:02:22.209Z"
   },
   {
    "duration": 30,
    "start_time": "2022-02-17T21:02:23.914Z"
   },
   {
    "duration": 350,
    "start_time": "2022-02-17T21:02:23.948Z"
   },
   {
    "duration": 63,
    "start_time": "2022-02-17T21:02:24.302Z"
   },
   {
    "duration": 3,
    "start_time": "2022-02-17T21:02:24.369Z"
   },
   {
    "duration": 67,
    "start_time": "2022-02-17T21:02:24.374Z"
   },
   {
    "duration": 5,
    "start_time": "2022-02-17T21:02:24.444Z"
   },
   {
    "duration": 26,
    "start_time": "2022-02-17T21:02:24.455Z"
   },
   {
    "duration": 87,
    "start_time": "2022-02-17T21:02:24.484Z"
   },
   {
    "duration": 10,
    "start_time": "2022-02-17T21:02:24.574Z"
   },
   {
    "duration": 10,
    "start_time": "2022-02-17T21:02:24.587Z"
   },
   {
    "duration": 517,
    "start_time": "2022-02-17T21:02:24.628Z"
   },
   {
    "duration": 1124,
    "start_time": "2022-02-17T21:02:25.148Z"
   },
   {
    "duration": 1375,
    "start_time": "2022-02-17T21:02:26.275Z"
   },
   {
    "duration": 382,
    "start_time": "2022-02-17T21:02:27.653Z"
   },
   {
    "duration": 117,
    "start_time": "2022-02-17T21:02:28.037Z"
   },
   {
    "duration": 79,
    "start_time": "2022-02-17T21:02:28.156Z"
   },
   {
    "duration": 2107,
    "start_time": "2022-02-17T21:02:28.239Z"
   },
   {
    "duration": 7760,
    "start_time": "2022-02-17T21:02:30.349Z"
   },
   {
    "duration": 736,
    "start_time": "2022-02-17T21:02:38.112Z"
   },
   {
    "duration": 481,
    "start_time": "2022-02-17T21:02:38.852Z"
   },
   {
    "duration": 386,
    "start_time": "2022-02-17T21:02:39.336Z"
   },
   {
    "duration": 3,
    "start_time": "2022-02-17T21:09:40.588Z"
   },
   {
    "duration": 1646,
    "start_time": "2022-02-17T21:10:53.412Z"
   },
   {
    "duration": 21,
    "start_time": "2022-02-17T21:10:55.061Z"
   },
   {
    "duration": 358,
    "start_time": "2022-02-17T21:10:55.085Z"
   },
   {
    "duration": 41,
    "start_time": "2022-02-17T21:10:55.445Z"
   },
   {
    "duration": 4,
    "start_time": "2022-02-17T21:10:55.489Z"
   },
   {
    "duration": 64,
    "start_time": "2022-02-17T21:10:55.496Z"
   },
   {
    "duration": 4,
    "start_time": "2022-02-17T21:10:55.562Z"
   },
   {
    "duration": 27,
    "start_time": "2022-02-17T21:10:55.570Z"
   },
   {
    "duration": 82,
    "start_time": "2022-02-17T21:10:55.600Z"
   },
   {
    "duration": 8,
    "start_time": "2022-02-17T21:10:55.684Z"
   },
   {
    "duration": 32,
    "start_time": "2022-02-17T21:10:55.695Z"
   },
   {
    "duration": 401,
    "start_time": "2022-02-17T21:10:55.730Z"
   },
   {
    "duration": 1135,
    "start_time": "2022-02-17T21:10:56.134Z"
   },
   {
    "duration": 1354,
    "start_time": "2022-02-17T21:10:57.272Z"
   },
   {
    "duration": 397,
    "start_time": "2022-02-17T21:10:58.629Z"
   },
   {
    "duration": 79,
    "start_time": "2022-02-17T21:10:59.028Z"
   },
   {
    "duration": 73,
    "start_time": "2022-02-17T21:10:59.110Z"
   },
   {
    "duration": 2122,
    "start_time": "2022-02-17T21:10:59.186Z"
   },
   {
    "duration": 8377,
    "start_time": "2022-02-17T21:11:01.311Z"
   },
   {
    "duration": 449,
    "start_time": "2022-02-17T21:11:09.690Z"
   },
   {
    "duration": 319,
    "start_time": "2022-02-17T21:11:10.142Z"
   },
   {
    "duration": 344,
    "start_time": "2022-02-17T21:11:10.464Z"
   },
   {
    "duration": 1546,
    "start_time": "2022-02-17T21:18:11.378Z"
   },
   {
    "duration": 23,
    "start_time": "2022-02-17T21:18:12.927Z"
   },
   {
    "duration": 342,
    "start_time": "2022-02-17T21:18:12.953Z"
   },
   {
    "duration": 50,
    "start_time": "2022-02-17T21:18:13.298Z"
   },
   {
    "duration": 3,
    "start_time": "2022-02-17T21:18:13.351Z"
   },
   {
    "duration": 51,
    "start_time": "2022-02-17T21:18:13.357Z"
   },
   {
    "duration": 3,
    "start_time": "2022-02-17T21:18:13.427Z"
   },
   {
    "duration": 20,
    "start_time": "2022-02-17T21:18:13.436Z"
   },
   {
    "duration": 82,
    "start_time": "2022-02-17T21:18:13.459Z"
   },
   {
    "duration": 9,
    "start_time": "2022-02-17T21:18:13.543Z"
   },
   {
    "duration": 8,
    "start_time": "2022-02-17T21:18:13.554Z"
   },
   {
    "duration": 461,
    "start_time": "2022-02-17T21:18:13.565Z"
   },
   {
    "duration": 1159,
    "start_time": "2022-02-17T21:18:14.028Z"
   },
   {
    "duration": 1617,
    "start_time": "2022-02-17T21:18:15.190Z"
   },
   {
    "duration": 399,
    "start_time": "2022-02-17T21:18:16.810Z"
   },
   {
    "duration": 89,
    "start_time": "2022-02-17T21:18:17.212Z"
   },
   {
    "duration": 74,
    "start_time": "2022-02-17T21:18:17.304Z"
   },
   {
    "duration": 2173,
    "start_time": "2022-02-17T21:18:17.381Z"
   },
   {
    "duration": 7824,
    "start_time": "2022-02-17T21:18:19.556Z"
   },
   {
    "duration": 460,
    "start_time": "2022-02-17T21:18:27.383Z"
   },
   {
    "duration": 442,
    "start_time": "2022-02-17T21:18:27.846Z"
   },
   {
    "duration": 347,
    "start_time": "2022-02-17T21:18:28.291Z"
   },
   {
    "duration": 1212,
    "start_time": "2022-02-18T18:18:56.448Z"
   },
   {
    "duration": 51,
    "start_time": "2022-02-18T18:18:57.663Z"
   },
   {
    "duration": 15,
    "start_time": "2022-02-18T18:18:57.716Z"
   },
   {
    "duration": 216,
    "start_time": "2022-02-18T18:18:57.733Z"
   },
   {
    "duration": 26,
    "start_time": "2022-02-18T18:18:57.951Z"
   },
   {
    "duration": 13,
    "start_time": "2022-02-18T18:18:57.979Z"
   },
   {
    "duration": 40,
    "start_time": "2022-02-18T18:18:57.994Z"
   },
   {
    "duration": 3,
    "start_time": "2022-02-18T18:18:58.037Z"
   },
   {
    "duration": 34,
    "start_time": "2022-02-18T18:18:58.043Z"
   },
   {
    "duration": 49,
    "start_time": "2022-02-18T18:18:58.079Z"
   },
   {
    "duration": 6,
    "start_time": "2022-02-18T18:18:58.130Z"
   },
   {
    "duration": 28,
    "start_time": "2022-02-18T18:18:58.137Z"
   },
   {
    "duration": 387,
    "start_time": "2022-02-18T18:18:58.167Z"
   },
   {
    "duration": 867,
    "start_time": "2022-02-18T18:18:58.556Z"
   },
   {
    "duration": 1057,
    "start_time": "2022-02-18T18:18:59.425Z"
   },
   {
    "duration": 365,
    "start_time": "2022-02-18T18:19:00.485Z"
   },
   {
    "duration": 69,
    "start_time": "2022-02-18T18:19:00.852Z"
   },
   {
    "duration": 47,
    "start_time": "2022-02-18T18:19:00.924Z"
   },
   {
    "duration": 1700,
    "start_time": "2022-02-18T18:19:00.974Z"
   },
   {
    "duration": 5740,
    "start_time": "2022-02-18T18:19:02.676Z"
   },
   {
    "duration": 504,
    "start_time": "2022-02-18T18:19:08.419Z"
   },
   {
    "duration": 217,
    "start_time": "2022-02-18T18:19:08.925Z"
   },
   {
    "duration": 236,
    "start_time": "2022-02-18T18:19:09.145Z"
   },
   {
    "duration": 1272,
    "start_time": "2022-02-18T18:30:35.370Z"
   },
   {
    "duration": 47,
    "start_time": "2022-02-18T18:30:36.645Z"
   },
   {
    "duration": 21,
    "start_time": "2022-02-18T18:30:36.694Z"
   },
   {
    "duration": 220,
    "start_time": "2022-02-18T18:30:36.717Z"
   },
   {
    "duration": 27,
    "start_time": "2022-02-18T18:30:36.939Z"
   },
   {
    "duration": 2,
    "start_time": "2022-02-18T18:30:36.968Z"
   },
   {
    "duration": 46,
    "start_time": "2022-02-18T18:30:36.972Z"
   },
   {
    "duration": 3,
    "start_time": "2022-02-18T18:30:37.021Z"
   },
   {
    "duration": 23,
    "start_time": "2022-02-18T18:30:37.026Z"
   },
   {
    "duration": 37,
    "start_time": "2022-02-18T18:30:37.051Z"
   },
   {
    "duration": 7,
    "start_time": "2022-02-18T18:30:37.108Z"
   },
   {
    "duration": 7,
    "start_time": "2022-02-18T18:30:37.116Z"
   },
   {
    "duration": 335,
    "start_time": "2022-02-18T18:30:37.125Z"
   },
   {
    "duration": 875,
    "start_time": "2022-02-18T18:30:37.462Z"
   },
   {
    "duration": 1045,
    "start_time": "2022-02-18T18:30:38.338Z"
   },
   {
    "duration": 370,
    "start_time": "2022-02-18T18:30:39.386Z"
   },
   {
    "duration": 72,
    "start_time": "2022-02-18T18:30:39.758Z"
   },
   {
    "duration": 46,
    "start_time": "2022-02-18T18:30:39.832Z"
   },
   {
    "duration": 1734,
    "start_time": "2022-02-18T18:30:39.879Z"
   },
   {
    "duration": 6166,
    "start_time": "2022-02-18T18:30:41.615Z"
   },
   {
    "duration": 432,
    "start_time": "2022-02-18T18:30:47.783Z"
   },
   {
    "duration": 211,
    "start_time": "2022-02-18T18:30:48.217Z"
   },
   {
    "duration": 234,
    "start_time": "2022-02-18T18:30:48.431Z"
   },
   {
    "duration": 1245,
    "start_time": "2022-02-18T18:33:29.736Z"
   },
   {
    "duration": 51,
    "start_time": "2022-02-18T18:33:30.983Z"
   },
   {
    "duration": 16,
    "start_time": "2022-02-18T18:33:31.036Z"
   },
   {
    "duration": 310,
    "start_time": "2022-02-18T18:33:31.055Z"
   },
   {
    "duration": 40,
    "start_time": "2022-02-18T18:33:31.367Z"
   },
   {
    "duration": 2,
    "start_time": "2022-02-18T18:33:31.410Z"
   },
   {
    "duration": 36,
    "start_time": "2022-02-18T18:33:31.414Z"
   },
   {
    "duration": 3,
    "start_time": "2022-02-18T18:33:31.452Z"
   },
   {
    "duration": 29,
    "start_time": "2022-02-18T18:33:31.458Z"
   },
   {
    "duration": 477,
    "start_time": "2022-02-18T18:33:31.489Z"
   },
   {
    "duration": 1004,
    "start_time": "2022-02-18T18:33:30.964Z"
   },
   {
    "duration": 1000,
    "start_time": "2022-02-18T18:33:30.969Z"
   },
   {
    "duration": 997,
    "start_time": "2022-02-18T18:33:30.974Z"
   },
   {
    "duration": 990,
    "start_time": "2022-02-18T18:33:30.981Z"
   },
   {
    "duration": 989,
    "start_time": "2022-02-18T18:33:30.984Z"
   },
   {
    "duration": 986,
    "start_time": "2022-02-18T18:33:30.988Z"
   },
   {
    "duration": 979,
    "start_time": "2022-02-18T18:33:30.996Z"
   },
   {
    "duration": 978,
    "start_time": "2022-02-18T18:33:30.998Z"
   },
   {
    "duration": 976,
    "start_time": "2022-02-18T18:33:31.001Z"
   },
   {
    "duration": 973,
    "start_time": "2022-02-18T18:33:31.005Z"
   },
   {
    "duration": 967,
    "start_time": "2022-02-18T18:33:31.012Z"
   },
   {
    "duration": 966,
    "start_time": "2022-02-18T18:33:31.015Z"
   },
   {
    "duration": 964,
    "start_time": "2022-02-18T18:33:31.018Z"
   },
   {
    "duration": 1259,
    "start_time": "2022-02-18T18:35:31.656Z"
   },
   {
    "duration": 49,
    "start_time": "2022-02-18T18:35:32.917Z"
   },
   {
    "duration": 15,
    "start_time": "2022-02-18T18:35:32.969Z"
   },
   {
    "duration": 237,
    "start_time": "2022-02-18T18:35:32.986Z"
   },
   {
    "duration": 28,
    "start_time": "2022-02-18T18:35:33.225Z"
   },
   {
    "duration": 3,
    "start_time": "2022-02-18T18:35:33.256Z"
   },
   {
    "duration": 58,
    "start_time": "2022-02-18T18:35:33.262Z"
   },
   {
    "duration": 4,
    "start_time": "2022-02-18T18:35:33.323Z"
   },
   {
    "duration": 28,
    "start_time": "2022-02-18T18:35:33.330Z"
   },
   {
    "duration": 64,
    "start_time": "2022-02-18T18:35:33.361Z"
   },
   {
    "duration": 6,
    "start_time": "2022-02-18T18:35:33.428Z"
   },
   {
    "duration": 20,
    "start_time": "2022-02-18T18:35:33.436Z"
   },
   {
    "duration": 371,
    "start_time": "2022-02-18T18:35:33.459Z"
   },
   {
    "duration": 631,
    "start_time": "2022-02-18T18:35:33.831Z"
   },
   {
    "duration": 916,
    "start_time": "2022-02-18T18:35:34.464Z"
   },
   {
    "duration": 354,
    "start_time": "2022-02-18T18:35:35.382Z"
   },
   {
    "duration": 53,
    "start_time": "2022-02-18T18:35:35.738Z"
   },
   {
    "duration": 48,
    "start_time": "2022-02-18T18:35:35.794Z"
   },
   {
    "duration": 1213,
    "start_time": "2022-02-18T18:35:35.844Z"
   },
   {
    "duration": 5280,
    "start_time": "2022-02-18T18:35:37.060Z"
   },
   {
    "duration": 477,
    "start_time": "2022-02-18T18:35:42.342Z"
   },
   {
    "duration": 243,
    "start_time": "2022-02-18T18:35:42.821Z"
   },
   {
    "duration": 259,
    "start_time": "2022-02-18T18:35:43.068Z"
   },
   {
    "duration": 1303,
    "start_time": "2022-02-18T18:38:00.590Z"
   },
   {
    "duration": 50,
    "start_time": "2022-02-18T18:38:01.896Z"
   },
   {
    "duration": 17,
    "start_time": "2022-02-18T18:38:01.949Z"
   },
   {
    "duration": 295,
    "start_time": "2022-02-18T18:38:01.969Z"
   },
   {
    "duration": 60,
    "start_time": "2022-02-18T18:38:02.267Z"
   },
   {
    "duration": 4,
    "start_time": "2022-02-18T18:38:02.330Z"
   },
   {
    "duration": 89,
    "start_time": "2022-02-18T18:38:02.337Z"
   },
   {
    "duration": 5,
    "start_time": "2022-02-18T18:38:02.431Z"
   },
   {
    "duration": 28,
    "start_time": "2022-02-18T18:38:02.439Z"
   },
   {
    "duration": 68,
    "start_time": "2022-02-18T18:38:02.469Z"
   },
   {
    "duration": 6,
    "start_time": "2022-02-18T18:38:02.539Z"
   },
   {
    "duration": 49,
    "start_time": "2022-02-18T18:38:02.547Z"
   },
   {
    "duration": 372,
    "start_time": "2022-02-18T18:38:02.598Z"
   },
   {
    "duration": 934,
    "start_time": "2022-02-18T18:38:02.972Z"
   },
   {
    "duration": 1080,
    "start_time": "2022-02-18T18:38:03.909Z"
   },
   {
    "duration": 364,
    "start_time": "2022-02-18T18:38:04.991Z"
   },
   {
    "duration": 80,
    "start_time": "2022-02-18T18:38:05.357Z"
   },
   {
    "duration": 45,
    "start_time": "2022-02-18T18:38:05.439Z"
   },
   {
    "duration": 1724,
    "start_time": "2022-02-18T18:38:05.486Z"
   },
   {
    "duration": 6545,
    "start_time": "2022-02-18T18:38:07.212Z"
   },
   {
    "duration": 558,
    "start_time": "2022-02-18T18:38:13.760Z"
   },
   {
    "duration": 225,
    "start_time": "2022-02-18T18:38:14.321Z"
   },
   {
    "duration": 249,
    "start_time": "2022-02-18T18:38:14.549Z"
   },
   {
    "duration": 4,
    "start_time": "2022-02-18T19:03:59.639Z"
   },
   {
    "duration": 45,
    "start_time": "2022-02-18T19:04:01.175Z"
   },
   {
    "duration": 15,
    "start_time": "2022-02-18T19:04:06.379Z"
   },
   {
    "duration": 204,
    "start_time": "2022-02-18T19:04:10.222Z"
   },
   {
    "duration": 3,
    "start_time": "2022-02-18T19:04:19.366Z"
   },
   {
    "duration": 52,
    "start_time": "2022-02-18T19:04:25.302Z"
   },
   {
    "duration": 6,
    "start_time": "2022-02-18T19:05:17.207Z"
   },
   {
    "duration": 46,
    "start_time": "2022-02-18T19:05:17.858Z"
   },
   {
    "duration": 17,
    "start_time": "2022-02-18T19:05:20.006Z"
   },
   {
    "duration": 218,
    "start_time": "2022-02-18T19:05:22.206Z"
   },
   {
    "duration": 3,
    "start_time": "2022-02-18T19:05:25.482Z"
   },
   {
    "duration": 69,
    "start_time": "2022-02-18T19:05:29.167Z"
   },
   {
    "duration": 62,
    "start_time": "2022-02-18T19:06:14.358Z"
   },
   {
    "duration": 3,
    "start_time": "2022-02-18T19:07:15.686Z"
   },
   {
    "duration": 4,
    "start_time": "2022-02-18T19:20:17.561Z"
   },
   {
    "duration": 41,
    "start_time": "2022-02-18T19:20:18.256Z"
   },
   {
    "duration": 15,
    "start_time": "2022-02-18T19:20:20.608Z"
   },
   {
    "duration": 204,
    "start_time": "2022-02-18T19:20:24.112Z"
   },
   {
    "duration": 3,
    "start_time": "2022-02-18T19:20:28.568Z"
   },
   {
    "duration": 68,
    "start_time": "2022-02-18T19:20:32.712Z"
   },
   {
    "duration": 5,
    "start_time": "2022-02-18T19:23:07.276Z"
   },
   {
    "duration": 45,
    "start_time": "2022-02-18T19:23:07.992Z"
   },
   {
    "duration": 16,
    "start_time": "2022-02-18T19:23:10.436Z"
   },
   {
    "duration": 223,
    "start_time": "2022-02-18T19:23:11.880Z"
   },
   {
    "duration": 3,
    "start_time": "2022-02-18T19:23:16.104Z"
   },
   {
    "duration": 45,
    "start_time": "2022-02-18T19:23:19.920Z"
   },
   {
    "duration": 41,
    "start_time": "2022-02-18T19:24:09.828Z"
   },
   {
    "duration": 24,
    "start_time": "2022-02-18T19:24:13.752Z"
   },
   {
    "duration": 1261,
    "start_time": "2022-02-18T19:26:15.608Z"
   },
   {
    "duration": 46,
    "start_time": "2022-02-18T19:26:16.871Z"
   },
   {
    "duration": 16,
    "start_time": "2022-02-18T19:26:16.919Z"
   },
   {
    "duration": 217,
    "start_time": "2022-02-18T19:26:16.937Z"
   },
   {
    "duration": 2,
    "start_time": "2022-02-18T19:26:17.157Z"
   },
   {
    "duration": 51,
    "start_time": "2022-02-18T19:26:17.161Z"
   },
   {
    "duration": 23,
    "start_time": "2022-02-18T19:26:17.215Z"
   },
   {
    "duration": 3,
    "start_time": "2022-02-18T19:26:17.241Z"
   },
   {
    "duration": 17,
    "start_time": "2022-02-18T19:26:17.246Z"
   },
   {
    "duration": 68,
    "start_time": "2022-02-18T19:26:17.265Z"
   },
   {
    "duration": 6,
    "start_time": "2022-02-18T19:26:17.334Z"
   },
   {
    "duration": 7,
    "start_time": "2022-02-18T19:26:17.342Z"
   },
   {
    "duration": 395,
    "start_time": "2022-02-18T19:26:17.351Z"
   },
   {
    "duration": 991,
    "start_time": "2022-02-18T19:26:17.748Z"
   },
   {
    "duration": 1159,
    "start_time": "2022-02-18T19:26:18.741Z"
   },
   {
    "duration": 364,
    "start_time": "2022-02-18T19:26:19.902Z"
   },
   {
    "duration": 75,
    "start_time": "2022-02-18T19:26:20.269Z"
   },
   {
    "duration": 47,
    "start_time": "2022-02-18T19:26:20.346Z"
   },
   {
    "duration": 1898,
    "start_time": "2022-02-18T19:26:20.409Z"
   },
   {
    "duration": 6263,
    "start_time": "2022-02-18T19:26:22.309Z"
   },
   {
    "duration": 558,
    "start_time": "2022-02-18T19:26:28.573Z"
   },
   {
    "duration": 313,
    "start_time": "2022-02-18T19:26:29.133Z"
   },
   {
    "duration": 221,
    "start_time": "2022-02-18T19:26:29.449Z"
   },
   {
    "duration": 1209,
    "start_time": "2022-02-18T19:37:52.216Z"
   },
   {
    "duration": 47,
    "start_time": "2022-02-18T19:37:53.427Z"
   },
   {
    "duration": 15,
    "start_time": "2022-02-18T19:37:53.477Z"
   },
   {
    "duration": 213,
    "start_time": "2022-02-18T19:37:53.507Z"
   },
   {
    "duration": 28,
    "start_time": "2022-02-18T19:37:53.722Z"
   },
   {
    "duration": 3,
    "start_time": "2022-02-18T19:37:53.751Z"
   },
   {
    "duration": 35,
    "start_time": "2022-02-18T19:37:53.755Z"
   },
   {
    "duration": 3,
    "start_time": "2022-02-18T19:37:53.808Z"
   },
   {
    "duration": 18,
    "start_time": "2022-02-18T19:37:53.814Z"
   },
   {
    "duration": 36,
    "start_time": "2022-02-18T19:37:53.834Z"
   },
   {
    "duration": 5,
    "start_time": "2022-02-18T19:37:53.872Z"
   },
   {
    "duration": 40,
    "start_time": "2022-02-18T19:37:53.879Z"
   },
   {
    "duration": 338,
    "start_time": "2022-02-18T19:37:53.921Z"
   },
   {
    "duration": 878,
    "start_time": "2022-02-18T19:37:54.261Z"
   },
   {
    "duration": 1034,
    "start_time": "2022-02-18T19:37:55.141Z"
   },
   {
    "duration": 371,
    "start_time": "2022-02-18T19:37:56.177Z"
   },
   {
    "duration": 71,
    "start_time": "2022-02-18T19:37:56.550Z"
   },
   {
    "duration": 44,
    "start_time": "2022-02-18T19:37:56.623Z"
   },
   {
    "duration": 1655,
    "start_time": "2022-02-18T19:37:56.669Z"
   },
   {
    "duration": 5923,
    "start_time": "2022-02-18T19:37:58.326Z"
   },
   {
    "duration": 474,
    "start_time": "2022-02-18T19:38:04.251Z"
   },
   {
    "duration": 221,
    "start_time": "2022-02-18T19:38:04.727Z"
   },
   {
    "duration": 240,
    "start_time": "2022-02-18T19:38:04.951Z"
   }
  ],
  "kernelspec": {
   "display_name": "Python 3 (ipykernel)",
   "language": "python",
   "name": "python3"
  },
  "language_info": {
   "codemirror_mode": {
    "name": "ipython",
    "version": 3
   },
   "file_extension": ".py",
   "mimetype": "text/x-python",
   "name": "python",
   "nbconvert_exporter": "python",
   "pygments_lexer": "ipython3",
   "version": "3.9.5"
  },
  "toc": {
   "base_numbering": 1,
   "nav_menu": {},
   "number_sections": true,
   "sideBar": true,
   "skip_h1_title": true,
   "title_cell": "Содержание",
   "title_sidebar": "Contents",
   "toc_cell": true,
   "toc_position": {},
   "toc_section_display": true,
   "toc_window_display": false
  }
 },
 "nbformat": 4,
 "nbformat_minor": 2
}
