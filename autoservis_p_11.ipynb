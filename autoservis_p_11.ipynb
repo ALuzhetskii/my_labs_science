{
 "cells": [
  {
   "cell_type": "markdown",
   "metadata": {
    "id": "Kxm5c8HqrYs5"
   },
   "source": [
    "# Проект: Определение стоимости автомобилей"
   ]
  },
  {
   "cell_type": "markdown",
   "metadata": {
    "id": "qLkwa-cTrYs7"
   },
   "source": [
    "Сервис по продаже автомобилей с пробегом «Не бит, не крашен» разрабатывает приложение для привлечения новых клиентов. В нём можно быстро узнать рыночную стоимость своего автомобиля. В вашем распоряжении исторические данные: технические характеристики, комплектации и цены автомобилей. Вам нужно построить модель для определения стоимости. \n",
    "\n",
    "Заказчику важны:\n",
    "\n",
    "- качество предсказания;\n",
    "- скорость предсказания;\n",
    "- время обучения.\n",
    "\n",
    "Примечание:\n",
    "\n",
    "- Для оценки качества моделей применяйте метрику RMSE.\n",
    "- Самостоятельно освойте библиотеку LightGBM и её средствами постройте модели градиентного бустинга.\n",
    "- Время выполнения ячейки кода Jupyter Notebook можно получить специальной командой. Найдите её.\n",
    "- Поскольку модель градиентного бустинга может обучаться долго, измените у неё только два-три параметра.\n",
    "- Если перестанет работать Jupyter Notebook, удалите лишние переменные оператором del: del features_train"
   ]
  },
  {
   "cell_type": "markdown",
   "metadata": {
    "id": "CMY6l6MZrYs9"
   },
   "source": [
    "# Данные"
   ]
  },
  {
   "cell_type": "markdown",
   "metadata": {
    "id": "lznUdp7krYs9"
   },
   "source": [
    "Данные находятся в файле /datasets/autos.csv.\n",
    "\n",
    "Признаки:\n",
    "\n",
    "- DateCrawled — дата скачивания анкеты из базы\n",
    "- VehicleType — тип автомобильного кузова\n",
    "- RegistrationYear — год регистрации автомобиля\n",
    "- Gearbox — тип коробки передач\n",
    "- Power — мощность (л. с.)\n",
    "- Model — модель автомобиля\n",
    "- Kilometer — пробег (км)\n",
    "- RegistrationMonth — месяц регистрации автомобиля\n",
    "- FuelType — тип топлива\n",
    "- Brand — марка автомобиля\n",
    "- NotRepaired — была машина в ремонте или нет\n",
    "- DateCreated — дата создания анкеты\n",
    "- NumberOfPictures — количество фотографий автомобиля\n",
    "- PostalCode — почтовый индекс владельца анкеты (пользователя)\n",
    "- LastSeen — дата последней активности пользователя\n",
    "\n",
    "Целевой признак:\n",
    "\n",
    "- Price — цена (евро)"
   ]
  },
  {
   "cell_type": "markdown",
   "metadata": {
    "id": "PSTdENw5rYs-"
   },
   "source": [
    "# План работы"
   ]
  },
  {
   "cell_type": "markdown",
   "metadata": {
    "id": "YwKNDyXkrYs-"
   },
   "source": [
    "1. Загрузить данные и провести их подготовку.\n",
    "2. Обучить несколько моделей моделей с использованием различных наборов гиперпараметров.\n",
    "3. Провести анализ моделей и выбрать лучшую по результатам метрики RMSE и времени обучения.\n",
    "4. Сделать выводы по результатам сравнений."
   ]
  },
  {
   "cell_type": "markdown",
   "metadata": {
    "id": "qTzhJwq2rYs_"
   },
   "source": [
    "## Подготовка данных"
   ]
  },
  {
   "cell_type": "markdown",
   "metadata": {
    "id": "k6EKJOmirYs_"
   },
   "source": [
    "### Загрузка моделей и данных. Обзор данных."
   ]
  },
  {
   "cell_type": "code",
   "execution_count": 1,
   "metadata": {
    "colab": {
     "base_uri": "https://localhost:8080/"
    },
    "id": "Qfu9ouoerYs_",
    "outputId": "41696dd1-dfd5-436d-e5c3-e1c6ad526341"
   },
   "outputs": [],
   "source": [
    "import matplotlib.pyplot as plt\n",
    "import numpy as np\n",
    "import pandas as pd\n",
    "import warnings\n",
    "import time\n",
    "\n",
    "warnings.filterwarnings('ignore')\n",
    "\n",
    "from sklearn.model_selection import train_test_split\n",
    "from sklearn.preprocessing import StandardScaler, OrdinalEncoder\n",
    "from sklearn.metrics import mean_squared_error\n",
    "from sklearn.model_selection import cross_val_score, GridSearchCV\n",
    "from sklearn.pipeline import Pipeline\n",
    "\n",
    "# для загрузки файла из локального диска в гугл колаб\n",
    "#from google.colab import files     \n",
    "#import io\n",
    "\n",
    "# используемые алгоритмы для обучения моделей\n",
    "#! pip install catboost # для google colab\n",
    "\n",
    "from catboost import CatBoostRegressor\n",
    "from lightgbm import LGBMRegressor\n",
    "from sklearn.linear_model import LinearRegression\n",
    "from sklearn.tree import DecisionTreeRegressor\n",
    "\n",
    "# глобальные переменные\n",
    "RANDOM_INIT = 42 # единый параметр random_state     \n",
    "CV = 3           # количество folders при косс валидации"
   ]
  },
  {
   "cell_type": "markdown",
   "metadata": {
    "id": "nBlC2HqKrYtB"
   },
   "source": [
    "Выгружаем данные из таблицы и изучаем их. Сразу в коде предусматриваем несколько вариантов загрузки данных."
   ]
  },
  {
   "cell_type": "code",
   "execution_count": 2,
   "metadata": {
    "colab": {
     "base_uri": "https://localhost:8080/",
     "height": 73,
     "resources": {
      "http://localhost:8080/nbextensions/google.colab/files.js": {
       "data": "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",
       "headers": [
        [
         "content-type",
         "application/javascript"
        ]
       ],
       "ok": true,
       "status": 200,
       "status_text": ""
      }
     }
    },
    "id": "hCuZXVbfrYtB",
    "outputId": "edb03751-ccc6-4549-862f-f4ccacdff0b6"
   },
   "outputs": [],
   "source": [
    "# вариант для работы в колабе\n",
    "try:\n",
    "    data = pd.read_csv('/datasets/autos.csv')  # серверный путь для jupyter\n",
    "except:\n",
    "    #data = pd.read_csv('С://Users//HOMMANDER//Documents//autos.csv') # локальный путь для jupyter\n",
    "    \n",
    "    uploaded = files.upload() #шаг1  локальный путь для google colab должен быть подключен модуль files из библиотеки google.colab\n",
    "  #data = pd.read_csv(open('autos.csv','rb')) #шаг2 для google colab вариант 1  \n",
    "  #data = pd.read_csv('autos.csv') #шаг2 для google colab Вариант 2\n",
    "    \n",
    "    data = pd.read_csv(io.BytesIO(uploaded['autos.csv'])) #шаг2 для google colab Вариант 3 нужна библиотека io"
   ]
  },
  {
   "cell_type": "code",
   "execution_count": 3,
   "metadata": {
    "colab": {
     "base_uri": "https://localhost:8080/"
    },
    "id": "TB19kq_hrYtC",
    "outputId": "43259c5c-3fff-440b-deaa-6dc4530d0832"
   },
   "outputs": [
    {
     "name": "stdout",
     "output_type": "stream",
     "text": [
      "<class 'pandas.core.frame.DataFrame'>\n",
      "RangeIndex: 354369 entries, 0 to 354368\n",
      "Data columns (total 16 columns):\n",
      " #   Column             Non-Null Count   Dtype \n",
      "---  ------             --------------   ----- \n",
      " 0   DateCrawled        354369 non-null  object\n",
      " 1   Price              354369 non-null  int64 \n",
      " 2   VehicleType        316879 non-null  object\n",
      " 3   RegistrationYear   354369 non-null  int64 \n",
      " 4   Gearbox            334536 non-null  object\n",
      " 5   Power              354369 non-null  int64 \n",
      " 6   Model              334664 non-null  object\n",
      " 7   Kilometer          354369 non-null  int64 \n",
      " 8   RegistrationMonth  354369 non-null  int64 \n",
      " 9   FuelType           321474 non-null  object\n",
      " 10  Brand              354369 non-null  object\n",
      " 11  NotRepaired        283215 non-null  object\n",
      " 12  DateCreated        354369 non-null  object\n",
      " 13  NumberOfPictures   354369 non-null  int64 \n",
      " 14  PostalCode         354369 non-null  int64 \n",
      " 15  LastSeen           354369 non-null  object\n",
      "dtypes: int64(7), object(9)\n",
      "memory usage: 43.3+ MB\n"
     ]
    }
   ],
   "source": [
    "data.info()"
   ]
  },
  {
   "cell_type": "markdown",
   "metadata": {
    "id": "cWjpTYtprYtD"
   },
   "source": [
    "**Комментарий:**  Сразу исправляем заголовки для удобства работы. В данных есть пропуски, поэтому после исправления заголовков оцениваем количество пропусков."
   ]
  },
  {
   "cell_type": "code",
   "execution_count": 4,
   "metadata": {
    "id": "E8TtOfTkrYtE"
   },
   "outputs": [],
   "source": [
    "# Приводим в более рабочий вид наименования заголовков параметров\n",
    "data.columns.str.lower()\n",
    "data.columns = ['date_crawled', 'price', 'vehicle_type', 'registration_year', 'gearbox',\n",
    "       'power', 'model', 'kilometer', 'registration_month', 'fuel_type', 'brand',\n",
    "       'not_repaired', 'date_created', 'number_of_pictures', 'postal_code','last_seen']       "
   ]
  },
  {
   "cell_type": "code",
   "execution_count": 5,
   "metadata": {
    "colab": {
     "base_uri": "https://localhost:8080/"
    },
    "id": "QT8Sr_itrYtE",
    "outputId": "532f3a73-b37b-44d6-db78-6969d1a436c5"
   },
   "outputs": [
    {
     "name": "stdout",
     "output_type": "stream",
     "text": [
      "атрибут:          % пропусков:\n",
      "not_repaired          20.0\n",
      "vehicle_type          11.0\n",
      "fuel_type              9.0\n",
      "gearbox                6.0\n",
      "model                  6.0\n",
      "date_crawled           0.0\n",
      "price                  0.0\n",
      "registration_year      0.0\n",
      "power                  0.0\n",
      "kilometer              0.0\n",
      "registration_month     0.0\n",
      "brand                  0.0\n",
      "date_created           0.0\n",
      "number_of_pictures     0.0\n",
      "postal_code            0.0\n",
      "last_seen              0.0\n",
      "dtype: float64\n"
     ]
    }
   ],
   "source": [
    "# Считаем % пропусков в параметрах и сортируем по убыванию для нагладности\n",
    "print('атрибут:          % пропусков:')\n",
    "print(round(data.isna().mean().sort_values(ascending=False)*100,0)) "
   ]
  },
  {
   "cell_type": "markdown",
   "metadata": {
    "id": "zbHxiGAWrYtF"
   },
   "source": [
    "**Комментарий**: Колонки vehicle_type, gearbox, model, fuel_type, not_repaired  содержат большое количество пропусков. Это качественные параметры, изучим их содержимое:                                                "
   ]
  },
  {
   "cell_type": "code",
   "execution_count": 6,
   "metadata": {
    "colab": {
     "base_uri": "https://localhost:8080/"
    },
    "id": "IOe6AZThrYtF",
    "outputId": "99d0a06f-552b-4a9e-a19b-dff731a4e10d"
   },
   "outputs": [
    {
     "name": "stdout",
     "output_type": "stream",
     "text": [
      "Уникальные значения столбца vehicle_type\n",
      "[nan 'coupe' 'suv' 'small' 'sedan' 'convertible' 'bus' 'wagon' 'other']\n",
      "Уникальные значения столбца gearbox\n",
      "['manual' 'auto' nan]\n",
      "Уникальные значения столбца model\n",
      "['golf' nan 'grand' 'fabia' '3er' '2_reihe' 'other' 'c_max' '3_reihe'\n",
      " 'passat' 'navara' 'ka' 'polo' 'twingo' 'a_klasse' 'scirocco' '5er'\n",
      " 'meriva' 'arosa' 'c4' 'civic' 'transporter' 'punto' 'e_klasse' 'clio'\n",
      " 'kadett' 'kangoo' 'corsa' 'one' 'fortwo' '1er' 'b_klasse' 'signum'\n",
      " 'astra' 'a8' 'jetta' 'fiesta' 'c_klasse' 'micra' 'vito' 'sprinter' '156'\n",
      " 'escort' 'forester' 'xc_reihe' 'scenic' 'a4' 'a1' 'insignia' 'combo'\n",
      " 'focus' 'tt' 'a6' 'jazz' 'omega' 'slk' '7er' '80' '147' '100' 'z_reihe'\n",
      " 'sportage' 'sorento' 'v40' 'ibiza' 'mustang' 'eos' 'touran' 'getz' 'a3'\n",
      " 'almera' 'megane' 'lupo' 'r19' 'zafira' 'caddy' 'mondeo' 'cordoba' 'colt'\n",
      " 'impreza' 'vectra' 'berlingo' 'tiguan' 'i_reihe' 'espace' 'sharan'\n",
      " '6_reihe' 'panda' 'up' 'seicento' 'ceed' '5_reihe' 'yeti' 'octavia' 'mii'\n",
      " 'rx_reihe' '6er' 'modus' 'fox' 'matiz' 'beetle' 'c1' 'rio' 'touareg'\n",
      " 'logan' 'spider' 'cuore' 's_max' 'a2' 'galaxy' 'c3' 'viano' 's_klasse'\n",
      " '1_reihe' 'avensis' 'roomster' 'sl' 'kaefer' 'santa' 'cooper' 'leon'\n",
      " '4_reihe' 'a5' '500' 'laguna' 'ptcruiser' 'clk' 'primera' 'x_reihe'\n",
      " 'exeo' '159' 'transit' 'juke' 'qashqai' 'carisma' 'accord' 'corolla'\n",
      " 'lanos' 'phaeton' 'verso' 'swift' 'rav' 'picanto' 'boxster' 'kalos'\n",
      " 'superb' 'stilo' 'alhambra' 'mx_reihe' 'roadster' 'ypsilon' 'cayenne'\n",
      " 'galant' 'justy' '90' 'sirion' 'crossfire' 'agila' 'duster' 'cr_reihe'\n",
      " 'v50' 'c_reihe' 'v_klasse' 'm_klasse' 'yaris' 'c5' 'aygo' 'cc' 'carnival'\n",
      " 'fusion' '911' 'bora' 'forfour' 'm_reihe' 'cl' 'tigra' '300c' 'spark'\n",
      " 'v70' 'kuga' 'x_type' 'ducato' 's_type' 'x_trail' 'toledo' 'altea'\n",
      " 'voyager' 'calibra' 'bravo' 'antara' 'tucson' 'citigo' 'jimny' 'wrangler'\n",
      " 'lybra' 'q7' 'lancer' 'captiva' 'c2' 'discovery' 'freelander' 'sandero'\n",
      " 'note' '900' 'cherokee' 'clubman' 'samara' 'defender' '601' 'cx_reihe'\n",
      " 'legacy' 'pajero' 'auris' 'niva' 's60' 'nubira' 'vivaro' 'g_klasse'\n",
      " 'lodgy' '850' 'range_rover' 'q3' 'serie_2' 'glk' 'charade' 'croma'\n",
      " 'outlander' 'doblo' 'musa' 'move' '9000' 'v60' '145' 'aveo' '200' 'b_max'\n",
      " 'range_rover_sport' 'terios' 'rangerover' 'q5' 'range_rover_evoque'\n",
      " 'materia' 'delta' 'gl' 'kalina' 'amarok' 'elefantino' 'i3' 'kappa'\n",
      " 'serie_3' 'serie_1']\n",
      "Уникальные значения столбца fuel_type\n",
      "['petrol' 'gasoline' nan 'lpg' 'other' 'hybrid' 'cng' 'electric']\n",
      "Уникальные значения столбца not_repaired\n",
      "[nan 'yes' 'no']\n",
      "Уникальные значения столбца brand\n",
      "['volkswagen' 'audi' 'jeep' 'skoda' 'bmw' 'peugeot' 'ford' 'mazda'\n",
      " 'nissan' 'renault' 'mercedes_benz' 'opel' 'seat' 'citroen' 'honda' 'fiat'\n",
      " 'mini' 'smart' 'hyundai' 'sonstige_autos' 'alfa_romeo' 'subaru' 'volvo'\n",
      " 'mitsubishi' 'kia' 'suzuki' 'lancia' 'toyota' 'chevrolet' 'dacia'\n",
      " 'daihatsu' 'trabant' 'saab' 'chrysler' 'jaguar' 'daewoo' 'porsche'\n",
      " 'rover' 'land_rover' 'lada']\n"
     ]
    }
   ],
   "source": [
    "for column in ['vehicle_type', 'gearbox', 'model', 'fuel_type', 'not_repaired','brand']:\n",
    "    print('Уникальные значения столбца', column)\n",
    "    print(data[column].unique())    "
   ]
  },
  {
   "cell_type": "markdown",
   "metadata": {
    "id": "6G194fjSrYtG"
   },
   "source": [
    "**Краткий план действий:**"
   ]
  },
  {
   "cell_type": "markdown",
   "metadata": {
    "id": "aHwuM2ccrYtG"
   },
   "source": [
    "Заполнению пропусков:\n",
    "- предварительно все пропуски заполним словом 'unknown', что бы можно было сравнивать их.\n",
    "- vehicle_type пропуски можно заполнить по модели, предварительно составив словарь.\n",
    "- gearbox будем заполнять наиболее распространенным видом 'manual'\n",
    "- model способ не просматривается, оставим как 'unknown'\n",
    "- fuel_type заполняем по модели, предвариетльно составив словарь. \n",
    "- not_repaired будем заполнять 'yes' исходя из предположения о продаже не битой машины."
   ]
  },
  {
   "cell_type": "markdown",
   "metadata": {
    "id": "hjvwsJBarYtG"
   },
   "source": [
    "Значимость признаков:\n",
    "\n",
    "- *vehicle_type, gearbox, power, kilometer, fuel_type, brand, not_repaired, registration_year, model* - вляиют на стоимость автомобиля, так как определяют его вид, состояние, происхождение, возраст и ликвидность.\n",
    "\n",
    "- *date_crawled, number_of_pictures, last_seen, registration_month, date_created* - на цену не оказывают существенного влияния и для моделирования не требуются. Удаляем их из рабочего датафрейма, но оставим в исходном, предварительно переведя даты в числовой формат, если они понадобятся будет удобнее с ними работать.\n",
    "\n",
    "- *postal_code* - c одной стороны,важный параметр, так как почтовый индекс уникален для региона, а цена регионально-зависимый параметр. Но без указания страны происхождения, данный параметр уже не уникальный, а просто набор непонятных цифр. Поэтому от него также можно избавиться, или проверить качество с ним, и без него."
   ]
  },
  {
   "cell_type": "markdown",
   "metadata": {
    "id": "B4tYLF6vrYtH"
   },
   "source": [
    "Качество признаков:\n",
    "\n",
    "- кроме пропусков, других аномалий или синонимов в значениях качественных параметров нет, редактирование не требуется\n",
    "- не обязательно, но 'petrol' и 'gasoline' обозначают один вид топлива - английское и американское названия.\n",
    "- почему то отсутствует 'diesel', наверное он в группе 'other'"
   ]
  },
  {
   "cell_type": "markdown",
   "metadata": {
    "id": "aa6CFS4brYtH"
   },
   "source": [
    "Числовые признаки:\n",
    "\n",
    "- Та как их удобнее отрабатывать сразу, то рассмотрим их в разделе подготовки данных."
   ]
  },
  {
   "cell_type": "markdown",
   "metadata": {
    "id": "8gU85kejrYtI"
   },
   "source": [
    "### Подготовка данных"
   ]
  },
  {
   "cell_type": "code",
   "execution_count": 7,
   "metadata": {
    "id": "xzbdX4ZJrYtI"
   },
   "outputs": [],
   "source": [
    "# Переведем в числовой формат колонки с датами в исходнике\n",
    "data['date_crawled'] = pd.to_datetime(data['date_crawled'], format='%Y-%m-%d %H:%M:%S')\n",
    "data['date_created'] = pd.to_datetime(data['date_created'], format='%Y-%m-%d %H:%M:%S')\n",
    "data['last_seen'] = pd.to_datetime(data['last_seen'], format='%Y-%m-%d %H:%M:%S')"
   ]
  },
  {
   "cell_type": "code",
   "execution_count": 8,
   "metadata": {
    "id": "LexwRp_QrYtI"
   },
   "outputs": [],
   "source": [
    "# Удаление избыточной информации. \n",
    "# drop_list списко наименований \"не значимых\" признаков для их удаления\n",
    "drop_list = ['date_crawled','date_created','number_of_pictures','last_seen','registration_month', 'postal_code']\n",
    "\n",
    "#сменим рабочий датафрейм, предварительно удалив из исходного избыточную информацию\n",
    "df = data.drop(drop_list, axis=1)"
   ]
  },
  {
   "cell_type": "markdown",
   "metadata": {
    "id": "3MQ1PXCwrYtJ"
   },
   "source": [
    "**Удаление, замена пропусков:**"
   ]
  },
  {
   "cell_type": "code",
   "execution_count": 9,
   "metadata": {
    "id": "o4EOl6PVrYtJ"
   },
   "outputs": [],
   "source": [
    "# Пропуски есть только в категориальных параметрах, на первом этапе заменяем 'Nan' на 'unknown'\n",
    "# cat_features = ['vehicle_type', 'gearbox', 'model', 'fuel_type', 'brand', 'not_repaired']\n",
    "cat_features = list(df.select_dtypes(include='object').columns)\n",
    "\n",
    "df[cat_features] = df[cat_features].fillna('unknown')"
   ]
  },
  {
   "cell_type": "code",
   "execution_count": 10,
   "metadata": {
    "id": "7v8njEAvrYtJ"
   },
   "outputs": [],
   "source": [
    "# функция возвращает словарь из ключей и значений ключа\n",
    "# необходима для замен 'unknown' на значения из словаря по ключу\n",
    "def get_words(data, keys, values):\n",
    "    words = {}\n",
    "    for key in data[keys].unique():\n",
    "        if key != 'unknown':\n",
    "            indikator = 0\n",
    "            for value in data[data[keys] == key][values]:\n",
    "                if value != 'unknown':\n",
    "                    words[key] = value\n",
    "                    indikator +=1\n",
    "                    break\n",
    "            if indikator == 0:\n",
    "                words[key] = value\n",
    "        else:\n",
    "            words[key] = 'unknown'\n",
    "    return words\n",
    "\n",
    "#словари\n",
    "words_vehicle = get_words(df, 'model', 'vehicle_type') # модель автомобиля - тип кузова\n",
    "words_fuel = get_words(df, 'model','fuel_type')        # модель автомобиля - тип горючего (допущение)"
   ]
  },
  {
   "cell_type": "code",
   "execution_count": 11,
   "metadata": {
    "id": "ocvbbKkprYtK"
   },
   "outputs": [],
   "source": [
    "#заполняем пропуски ожидаемыми самыми распространенными значениями\n",
    "df[df['gearbox']=='unknown']['gearbox'] = 'manual'         # тип коробки передач ставим ручной (допущение)\n",
    "df[df['not_repaired']=='unknown']['not_repaired'] = 'yes'  # автомобиль не былв ремонте"
   ]
  },
  {
   "cell_type": "code",
   "execution_count": 12,
   "metadata": {
    "id": "o7MuFHy5rYtK"
   },
   "outputs": [],
   "source": [
    "# функция для изменений 'unknown' в датафрейме на данные из словаря\n",
    "def fill_unknown_from_dict(row, column, dic):\n",
    "    model = row['model']\n",
    "    if row[column] == 'unknown':\n",
    "        return dic.get(model)\n",
    "    return row[column]\n",
    "\n",
    "# заполняем пропуски значениями из словарей\n",
    "df['vehicle_type'] = df.apply(fill_unknown_from_dict, axis = 1, args=['vehicle_type', words_vehicle])\n",
    "df['fuel_type'] = df.apply(fill_unknown_from_dict, axis = 1, args=['fuel_type', words_fuel])"
   ]
  },
  {
   "cell_type": "markdown",
   "metadata": {
    "id": "TNcHQ1fCrYtL"
   },
   "source": [
    "**Удаление дубликатов:**"
   ]
  },
  {
   "cell_type": "code",
   "execution_count": 13,
   "metadata": {
    "colab": {
     "base_uri": "https://localhost:8080/"
    },
    "id": "_oVujbgPrYtL",
    "outputId": "5149918e-7194-4ea8-923d-cec448462be4"
   },
   "outputs": [
    {
     "name": "stdout",
     "output_type": "stream",
     "text": [
      "Количество строк - дубликатов =  47218\n"
     ]
    }
   ],
   "source": [
    "print('Количество строк - дубликатов = ',df.duplicated().sum())"
   ]
  },
  {
   "cell_type": "code",
   "execution_count": 14,
   "metadata": {
    "id": "EcZRD1CdrYtL"
   },
   "outputs": [],
   "source": [
    "# удаляем дубликаты\n",
    "df = df.drop_duplicates(ignore_index=True)"
   ]
  },
  {
   "cell_type": "markdown",
   "metadata": {
    "id": "gE1fCKKNrYtM"
   },
   "source": [
    "**Работа с числовыми категориями**"
   ]
  },
  {
   "cell_type": "markdown",
   "metadata": {
    "id": "Jz9hRur0rYtM"
   },
   "source": [
    "***Распределение значений цены автомобилей:***"
   ]
  },
  {
   "cell_type": "code",
   "execution_count": 15,
   "metadata": {
    "id": "u8vbVhxJrYtM"
   },
   "outputs": [],
   "source": [
    "# Так как приходится строить графики несколько раз, \n",
    "# выделим построение гистограммы, ящика с усами и статистику в отдельную функцию plot_3g()\n",
    "# column - рассматриваемая колонка - параметр (feature)\n",
    "# title - заголовок группы графиков\n",
    "def plot_3g(df, column, title):\n",
    "    f, axs = plt.subplots(1, 3, figsize=(18, 5))\n",
    "    plt.suptitle(title)\n",
    "    axs[0].hist(df[column], bins=50, rwidth=0.7)\n",
    "    axs[0].set_xlabel(column)\n",
    "    axs[0].set_ylabel('number of objects')\n",
    "    axs[1].boxplot(df[column])\n",
    "    axs[1].set_xlabel(column)\n",
    "    axs[1].xaxis.set_ticks([])\n",
    "    axs[1].grid()\n",
    "    axs[2].axes.yaxis.set_visible(False)\n",
    "    axs[2].xaxis.set_ticks([]) \n",
    "    axs[2].set_xlabel('describe')\n",
    "    for i in range(8):\n",
    "        axs[2].text(0.2,0.1+i/10,df[column].describe().index[i])\n",
    "        axs[2].text(0.6,0.1+i/10,str(round(df[column].describe().values[i],2)))"
   ]
  },
  {
   "cell_type": "code",
   "execution_count": 16,
   "metadata": {
    "colab": {
     "base_uri": "https://localhost:8080/",
     "height": 370
    },
    "id": "3L3jZhaZrYtN",
    "outputId": "695db4f8-7018-4a11-87ea-66d3729dad40"
   },
   "outputs": [
    {
     "data": {
      "image/png": "[encoded data removed]",
      "text/plain": [
       "<Figure size 1296x360 with 3 Axes>"
      ]
     },
     "metadata": {
      "needs_background": "light"
     },
     "output_type": "display_data"
    }
   ],
   "source": [
    "plot_3g(df,'price','car prices')"
   ]
  },
  {
   "cell_type": "code",
   "execution_count": 17,
   "metadata": {
    "colab": {
     "base_uri": "https://localhost:8080/"
    },
    "id": "K016kOv0rYtN",
    "outputId": "73530ca8-8e8b-4233-8f2d-3e5cab32f8ab"
   },
   "outputs": [
    {
     "name": "stdout",
     "output_type": "stream",
     "text": [
      "[  0   1   2   3   4   5   7   8   9  10  11  12  13  14  15  16  17  18\n",
      "  19  20  21  24  25  26  27  29  30  32  33  35  38  39  40  45  47  49\n",
      "  50  55  58  59  60  65  66  69  70  74  75  77  79  80  85  88  89  90\n",
      "  95  98  99 100 101 105 106 108 110 111 112 115 117 119 120 121 122 123\n",
      " 125 126 127 128 129 130 132 133 135 139 140 142 145 149 150 155 156 157\n",
      " 158 159 160 162 165 166 169 170 173 175 177 179 180 181 185 188 189 190\n",
      " 192 193 195 196 198 199 200 202 205 209 210 211 215 217 219 220 222 224\n",
      " 225 229 230 233 235 236 238 240 243 245 248 249 250 251 252 253 255 259\n",
      " 260 261 263 265 266 269 270 272 273 274 275 277 278 279 280 281 284 285\n",
      " 288 289 290 293 295 298 299 300 301 305 308 309 310 315 316 319 320 321\n",
      " 323 325 329 330 331 332 333 335 338 339 340 341 344 345 348 349 350 355\n",
      " 356 359 360 365 366 368 369 370 373 375 377 378 379 380 384 385 388 389\n",
      " 390 393 395 397 398 399 400 408 410 414 415 418 419 420 422 424 425 429\n",
      " 430 433 435 439 440 444 445 449 450 455 456 458 459 460 465 466 467 469\n",
      " 470 475 477 479 480 485 487 489 490 495 498 499]\n"
     ]
    }
   ],
   "source": [
    "print(np.sort(df[df['price']<500]['price'].unique()))"
   ]
  },
  {
   "cell_type": "markdown",
   "metadata": {
    "id": "HExzJwxArYtN"
   },
   "source": [
    "***Комментарий:*** Если опираться на интернет, то в Европе можно найти старый автомобиль за 250-300 евро, с учетом того, что утилизация стоит 100-200 евро, этому можно верить. Качество автомобиля за 250 евро, будет улилизационное, но не суть. Для нашего исследования важен тот факт, что реальная цена продажи не может быть ниже 250 евро. Что касается максимума, то здесь ограничений нет и 20000 евро не предел, и эти данные не будут являться выбросами, поэтому удалим из датафрейма только те объекты, на которые цена ниже 250 евро."
   ]
  },
  {
   "cell_type": "code",
   "execution_count": 18,
   "metadata": {
    "id": "9PlrtyRzrYtO"
   },
   "outputs": [],
   "source": [
    "# отрезаем нереальные цены. Всё что ниже 250 евро\n",
    "df = df[df['price'] > 250]"
   ]
  },
  {
   "cell_type": "markdown",
   "metadata": {
    "id": "y5MxifxErYtO"
   },
   "source": [
    "***Распределение значений года регистрации автомобилей:***"
   ]
  },
  {
   "cell_type": "code",
   "execution_count": 19,
   "metadata": {
    "colab": {
     "base_uri": "https://localhost:8080/"
    },
    "id": "ZGypYhiYrYtO",
    "outputId": "b0d7fea0-0ed4-4b77-e7b0-c9dd26ea50f3"
   },
   "outputs": [
    {
     "name": "stdout",
     "output_type": "stream",
     "text": [
      "[1000 1001 1039 1111 1234 1300 1400 1500 1600 1602 1800 1910 1923 1925\n",
      " 1927 1928 1929 1930 1931 1932 1933 1934 1935 1936 1937 1938 1940 1941\n",
      " 1942 1943 1944 1945 1946 1947 1948 1949 1950 1951 1952 1953 1954 1955\n",
      " 1956 1957 1958 1959 1960 1961 1962 1963 1964 1965 1966 1967 1968 1969\n",
      " 1970 1971 1972 1973 1974 1975 1976 1977 1978 1979 1980 1981 1982 1983\n",
      " 1984 1985 1986 1987 1988 1989 1990 1991 1992 1993 1994 1995 1996 1997\n",
      " 1998 1999 2000 2001 2002 2003 2004 2005 2006 2007 2008 2009 2010 2011\n",
      " 2012 2013 2014 2015 2016 2017 2018 2019 2066 2200 2290 2500 2800 2900\n",
      " 3000 3200 3700 3800 4000 4100 4500 4800 5000 5300 5555 5911 6000 7000\n",
      " 7100 7800 8200 8500 8888 9000 9450 9999]\n"
     ]
    }
   ],
   "source": [
    "print(np.sort(df['registration_year'].unique()))"
   ]
  },
  {
   "cell_type": "code",
   "execution_count": 20,
   "metadata": {
    "colab": {
     "base_uri": "https://localhost:8080/",
     "height": 34
    },
    "id": "LeAsoymVrYtP",
    "outputId": "2c0dcae8-edab-4818-9443-9e23a9ee26de"
   },
   "outputs": [
    {
     "data": {
      "text/plain": [
       "Timestamp('2016-04-07 00:00:00')"
      ]
     },
     "metadata": {},
     "output_type": "display_data"
    }
   ],
   "source": [
    "# Воспользуемся сохраненными исходниками. Определим верхнюю границу по датам создания анкет.\n",
    "display(data['date_created'].max())            "
   ]
  },
  {
   "cell_type": "markdown",
   "metadata": {
    "id": "qpbuJknprYtP"
   },
   "source": [
    "***Комментарий*** Очевидно, что год регистрации автомобиля не можетбыть позже даты создания анкеты в базе данных. В нашемслучае самый поздний год 2016, автомобили серийно появились в начале 20-го века, так что нижнюю границу определим в 1900 год. Остальное удалим и смотрим статистику значений даты на графиках."
   ]
  },
  {
   "cell_type": "code",
   "execution_count": 21,
   "metadata": {
    "id": "_QU-KIl6rYtP"
   },
   "outputs": [],
   "source": [
    "#registration_yearнижнюю границу выберем началом века\n",
    "df = df[(df['registration_year']>1900)&(df['registration_year']<2017)]"
   ]
  },
  {
   "cell_type": "code",
   "execution_count": 22,
   "metadata": {
    "colab": {
     "base_uri": "https://localhost:8080/",
     "height": 371
    },
    "id": "XedoQ-sWrYtQ",
    "outputId": "befb6ef1-292f-439c-d8c8-9471e623c477"
   },
   "outputs": [
    {
     "data": {
      "image/png": "[encoded data removed]",
      "text/plain": [
       "<Figure size 1296x360 with 3 Axes>"
      ]
     },
     "metadata": {
      "needs_background": "light"
     },
     "output_type": "display_data"
    }
   ],
   "source": [
    "plot_3g(df,'registration_year','egistration year')"
   ]
  },
  {
   "cell_type": "markdown",
   "metadata": {
    "id": "Vz_SW9hvrYtQ"
   },
   "source": [
    "***Комментарий*** Видно, что даты регистрации до 1960 года можно считать выбросами и удалить. И да, версия с минимальной ценой на уровне 250 евро подтверждается. Наверняка в 2016 году, автомобили с датой регистрации 1960 года стоят не больше утилизационной стоимости, если это не раритет."
   ]
  },
  {
   "cell_type": "code",
   "execution_count": 23,
   "metadata": {
    "id": "-dq86W8trYtQ"
   },
   "outputs": [],
   "source": [
    "# Удаляем объекты с датой регистрации до 1960 года\n",
    "df = df[df['registration_year']>1960]"
   ]
  },
  {
   "cell_type": "markdown",
   "metadata": {
    "id": "R2wS5If6rYtR"
   },
   "source": [
    "***Распределение значений мощности автомобилей:***"
   ]
  },
  {
   "cell_type": "code",
   "execution_count": 24,
   "metadata": {
    "colab": {
     "base_uri": "https://localhost:8080/",
     "height": 370
    },
    "id": "ZOR5r0ObrYtR",
    "outputId": "7a9810b3-f82f-4b3a-eaf2-6c93266a83a3",
    "scrolled": true
   },
   "outputs": [
    {
     "data": {
      "image/png": "[encoded data removed]",
      "text/plain": [
       "<Figure size 1296x360 with 3 Axes>"
      ]
     },
     "metadata": {
      "needs_background": "light"
     },
     "output_type": "display_data"
    }
   ],
   "source": [
    "plot_3g(df,'power','Car powers')"
   ]
  },
  {
   "cell_type": "markdown",
   "metadata": {
    "id": "yHIn0O3srYtR"
   },
   "source": [
    "***Комментарий*** Опираясь на источники в интернет, минимальную реальную мощность на серийные автомобили можно ограничить в 10 л.с. Максимальная 1500 л.с Все остальные значения на нашем графике будем считать аномалиями и выбросами, они нереальны."
   ]
  },
  {
   "cell_type": "code",
   "execution_count": 25,
   "metadata": {
    "id": "GVgbooJmrYtS"
   },
   "outputs": [],
   "source": [
    "df = df[(df['power']>9)&(df['power']<1501)]"
   ]
  },
  {
   "cell_type": "code",
   "execution_count": 26,
   "metadata": {
    "colab": {
     "base_uri": "https://localhost:8080/",
     "height": 370
    },
    "id": "DIWXOk0zrYtS",
    "outputId": "7f2490ec-48f9-4d4f-92aa-c74612ef3a2f",
    "scrolled": true
   },
   "outputs": [
    {
     "data": {
      "image/png": "[encoded data removed]",
      "text/plain": [
       "<Figure size 1296x360 with 3 Axes>"
      ]
     },
     "metadata": {
      "needs_background": "light"
     },
     "output_type": "display_data"
    }
   ],
   "source": [
    "plot_3g(df,'power','Car powers')"
   ]
  },
  {
   "cell_type": "markdown",
   "metadata": {
    "id": "DhJgb7bxrYtS"
   },
   "source": [
    "***Комментарий*** Глядя на графики, можно сделать вывод, что мощность выше 400 л.с можно также отнести к выбросам и удалить объекты с такими параметрами."
   ]
  },
  {
   "cell_type": "code",
   "execution_count": 27,
   "metadata": {
    "id": "RmFwqJ0vrYtS"
   },
   "outputs": [],
   "source": [
    "df = df[df['power']<400]"
   ]
  },
  {
   "cell_type": "code",
   "execution_count": 28,
   "metadata": {
    "colab": {
     "base_uri": "https://localhost:8080/"
    },
    "id": "_1bg5CRnrYtT",
    "outputId": "05687ecc-d3f4-4f02-f750-b9d269dde1cb"
   },
   "outputs": [
    {
     "name": "stdout",
     "output_type": "stream",
     "text": [
      "<class 'pandas.core.frame.DataFrame'>\n",
      "Int64Index: 248842 entries, 1 to 307150\n",
      "Data columns (total 10 columns):\n",
      " #   Column             Non-Null Count   Dtype \n",
      "---  ------             --------------   ----- \n",
      " 0   price              248842 non-null  int64 \n",
      " 1   vehicle_type       248842 non-null  object\n",
      " 2   registration_year  248842 non-null  int64 \n",
      " 3   gearbox            248842 non-null  object\n",
      " 4   power              248842 non-null  int64 \n",
      " 5   model              248842 non-null  object\n",
      " 6   kilometer          248842 non-null  int64 \n",
      " 7   fuel_type          248842 non-null  object\n",
      " 8   brand              248842 non-null  object\n",
      " 9   not_repaired       248842 non-null  object\n",
      "dtypes: int64(4), object(6)\n",
      "memory usage: 20.9+ MB\n"
     ]
    }
   ],
   "source": [
    "df.info()"
   ]
  },
  {
   "cell_type": "markdown",
   "metadata": {
    "id": "WtMUlUUIrYtT"
   },
   "source": [
    "***Оптимизация памяти***"
   ]
  },
  {
   "cell_type": "markdown",
   "metadata": {
    "id": "kO_eYA20rYtU"
   },
   "source": [
    " Уменьшим разрядность данных"
   ]
  },
  {
   "cell_type": "code",
   "execution_count": 29,
   "metadata": {
    "colab": {
     "base_uri": "https://localhost:8080/"
    },
    "id": "BNgoDt2erYtU",
    "outputId": "6abe68c5-1579-41cc-aa1f-18a313143cf9"
   },
   "outputs": [
    {
     "name": "stdout",
     "output_type": "stream",
     "text": [
      "<class 'pandas.core.frame.DataFrame'>\n",
      "Int64Index: 248842 entries, 1 to 307150\n",
      "Data columns (total 10 columns):\n",
      " #   Column             Non-Null Count   Dtype \n",
      "---  ------             --------------   ----- \n",
      " 0   price              248842 non-null  int16 \n",
      " 1   vehicle_type       248842 non-null  object\n",
      " 2   registration_year  248842 non-null  int16 \n",
      " 3   gearbox            248842 non-null  object\n",
      " 4   power              248842 non-null  int16 \n",
      " 5   model              248842 non-null  object\n",
      " 6   kilometer          248842 non-null  int32 \n",
      " 7   fuel_type          248842 non-null  object\n",
      " 8   brand              248842 non-null  object\n",
      " 9   not_repaired       248842 non-null  object\n",
      "dtypes: int16(3), int32(1), object(6)\n",
      "memory usage: 15.7+ MB\n"
     ]
    }
   ],
   "source": [
    "df['registration_year'] = pd.to_numeric(df['registration_year'], downcast='integer')\n",
    "df['power'] = pd.to_numeric(df['power'], downcast='integer')\n",
    "df['kilometer'] = pd.to_numeric(df['kilometer'], downcast='integer')\n",
    "df['price'] = pd.to_numeric(df['price'], downcast='integer')\n",
    "df.info()"
   ]
  },
  {
   "cell_type": "markdown",
   "metadata": {
    "id": "iGMgrESHrYtU"
   },
   "source": [
    "### Выводы\n",
    "Количество данных сократилось на 9 тыс строк (35%). Для моделирования оставили 10 параметров из 16-ти. Избавились от аномалий, пропусков и ненужного балласта. Объем занимаемой памяти также уменьшили на 25%. Данные готовы к работе. 249 тыс строк достаточно для выделения валидационной и тестовой выборок."
   ]
  },
  {
   "cell_type": "markdown",
   "metadata": {
    "id": "e5pprr0DrYtV"
   },
   "source": [
    "## Обучение моделей"
   ]
  },
  {
   "cell_type": "markdown",
   "metadata": {
    "id": "fFHFzqLNrYtV"
   },
   "source": [
    "Выберем следующие алгоритмы для обучения моделей:\n",
    "\n",
    "1. LinearRegression\n",
    "2. DecisionTreeRegressor\n",
    "3. LGBMRegressor\n",
    "4. CatBoostRegressor\n",
    "\n",
    "В качестве метрики для всех моделей будем использовать RMSE. Качество моделей будем проверять на кроссвалидации c едиными глобальными переменными, и в финале на выделенной тестовой выборке. Все результаты сведем в таблицу и используем для анализа.\n",
    "\n",
    "Время расчета считаем с помощью функции time() из библиотеки time языка python. Функция %%time для использования оказалась менее удобной, так как не позволяет занести полученный результат в переменную.\n",
    "\n",
    "Градиентные бустинги ресурсоемкие алгоритмы, поэтому для них будем подбирать по два сходных гиперпараметра из трёх значений. Кроссвалидацию ограничим тремя циклами."
   ]
  },
  {
   "cell_type": "markdown",
   "metadata": {},
   "source": [
    "***Кодирование категориальных данных*** Будем использовать для моделей LinearRegression и DecisionTreeRegressor, две другие модели с такими данными справятся самостоятельно. Для категорий с небольшим количеством уникальных значений используем метод OHE, для длинной категории 'models', в которой более 250 значений применяем OrdinalEncoder. "
   ]
  },
  {
   "cell_type": "code",
   "execution_count": 30,
   "metadata": {
    "id": "OceGMJP8rYtV"
   },
   "outputs": [],
   "source": [
    "# Кодируем категориальные параметры. Необходимо для всех моделей, кроме CatBoostRegressor и LGBMRegressor.\n",
    "# здесь используем OrdinalEncoder\n",
    "df_lr = df.copy()\n",
    "encoder = OrdinalEncoder()\n",
    "df_lr['model'] = encoder.fit_transform(df_lr[['model']])"
   ]
  },
  {
   "cell_type": "code",
   "execution_count": 31,
   "metadata": {},
   "outputs": [],
   "source": [
    "# здесь применяем OHE\n",
    "df_lr = pd.get_dummies(df_lr, drop_first=True)"
   ]
  },
  {
   "cell_type": "code",
   "execution_count": 32,
   "metadata": {
    "id": "FEOig3XorYtV"
   },
   "outputs": [],
   "source": [
    "# определим параметры и таргеты. Необходимо для всех моделей, кроме CatBoost\n",
    "features = df_lr.drop('price', axis=1)\n",
    "target = df_lr['price']"
   ]
  },
  {
   "cell_type": "code",
   "execution_count": 33,
   "metadata": {
    "id": "ngPWoCTFrYtW"
   },
   "outputs": [],
   "source": [
    "#Разбиваем на тренеровочный и тестовый наборы.Так как у нас везде кросс-валидация, выборка valid не нужна.\n",
    "features_train, features_test, target_train, target_test = train_test_split(features, target, test_size=0.25, random_state=RANDOM_INIT)"
   ]
  },
  {
   "cell_type": "markdown",
   "metadata": {
    "id": "lQy-7GvrrYtW"
   },
   "source": [
    "### LinearRegression"
   ]
  },
  {
   "cell_type": "markdown",
   "metadata": {
    "id": "d7aOwzOzrYtW"
   },
   "source": [
    "Рассмотрим линейную регрессию в вариантах:\n",
    "\n",
    "- c кроссвалидацией\n",
    "- c кроссвалидация на масштабированных данных\n",
    "- тестовых выборках с масштабированием и без"
   ]
  },
  {
   "cell_type": "code",
   "execution_count": 34,
   "metadata": {
    "id": "_7mQQRuErYtW"
   },
   "outputs": [],
   "source": [
    "#Готовим масштабированные данные\n",
    "scaler = StandardScaler()\n",
    "scaler.fit(features_train)\n",
    "features_train_scaled = scaler.transform(features_train)\n",
    "features_test_scaled = scaler.transform(features_test)"
   ]
  },
  {
   "cell_type": "code",
   "execution_count": 35,
   "metadata": {
    "id": "_K4WBno0rYtX"
   },
   "outputs": [],
   "source": [
    "#%%time - вариант 2 для расчета времени.\n",
    "# Считаем rmse кросс валидацией\n",
    "start_time = time.time()\n",
    "model = LinearRegression()\n",
    "\n",
    "# в переменной  rmse_lr_cv сохраняется среднее RMSE полученное по итогам кросс-валидации\n",
    "rmse_lr_cv = (cross_val_score(model, features_train, target_train, cv=CV, scoring='neg_mean_squared_error').mean() * -1) ** 0.5\n",
    "time_lr_cv = time.time() - start_time # время счета в секундах кода от start_time до текущей строки"
   ]
  },
  {
   "cell_type": "code",
   "execution_count": 36,
   "metadata": {
    "id": "d1koqGmyrYtX"
   },
   "outputs": [],
   "source": [
    "#%%time - вариант 2 для расчета времени.\n",
    "# Считаем rmse кросс валидацией с маштабированием\n",
    "start_time = time.time()\n",
    "model = LinearRegression()\n",
    "pipe = Pipeline([('scaler', StandardScaler()), ('model', model)])\n",
    "\n",
    "# в переменной  rmse_lr_cv_sc сохраняется среднее RMSE полученное по итогам кросс-валидации\n",
    "rmse_lr_cv_sc = (cross_val_score(pipe, features_train, target_train, cv=CV,scoring='neg_mean_squared_error').mean() * -1) ** 0.5\n",
    "time_lr_cv_sc = time.time() - start_time # время счета в секундах кода от start_time до текущей строки"
   ]
  },
  {
   "cell_type": "code",
   "execution_count": 37,
   "metadata": {
    "colab": {
     "base_uri": "https://localhost:8080/"
    },
    "id": "RDQ6K3JPrYtY",
    "outputId": "095b37c0-abad-443d-d318-92b5e4fcd5a8",
    "scrolled": true
   },
   "outputs": [
    {
     "name": "stdout",
     "output_type": "stream",
     "text": [
      "Промежуточные результаты LinearRegression: \n",
      "RMSE LinearRegression кроссвалидация:                    2798.5521738929137  время расчета сек: 5.630586385726929\n",
      "RMSE LinearRegression кроссвалидация с масштабированием: 2798.552173892921  время расчета сек: 6.235516786575317\n"
     ]
    }
   ],
   "source": [
    "print('Промежуточные результаты LinearRegression: ')\n",
    "print('RMSE LinearRegression кроссвалидация:                   ',rmse_lr_cv, ' время расчета сек:', time_lr_cv)\n",
    "print('RMSE LinearRegression кроссвалидация с масштабированием:',rmse_lr_cv_sc, ' время расчета сек:', time_lr_cv_sc)\n",
    "#print('RMSE LinearRegression на тесте:                         ',rmse_lr_test, ' время расчета сек:', time_lr_test)\n",
    "#print('RMSE LinearRegression на тесте с масштабированием:      ',rmse_lr_test_sc, ' время расчета сек:', time_lr_test_sc)"
   ]
  },
  {
   "cell_type": "markdown",
   "metadata": {
    "id": "ZoVEvTfkrYtY"
   },
   "source": [
    "**Комментарий** Нет особой разницы в результате после масштабирования. Поэтому в дальнейшем использовать этот метод не будем, так как другие алгоритмы еще менее чувствительны к этому критерию."
   ]
  },
  {
   "cell_type": "markdown",
   "metadata": {
    "id": "MujO_AfmrYtY"
   },
   "source": [
    "### DecisionTreeRegressor"
   ]
  },
  {
   "cell_type": "code",
   "execution_count": 38,
   "metadata": {
    "id": "duDOlEFPrYtY"
   },
   "outputs": [],
   "source": [
    "# с помощью GridSearch подбираем лучшую глубину дерева\n",
    "max_depth_list = list(range(2, 21))\n",
    "params = [{'criterion':['mse'], 'max_depth':max_depth_list, 'random_state':[RANDOM_INIT]}]"
   ]
  },
  {
   "cell_type": "code",
   "execution_count": 39,
   "metadata": {
    "id": "oGrc9LPBrYtZ"
   },
   "outputs": [],
   "source": [
    "#%%time\n",
    "start_time = time.time()\n",
    "model= DecisionTreeRegressor()\n",
    "clf = GridSearchCV(model, params, scoring='neg_mean_squared_error', cv=CV)\n",
    "clf = clf.fit(features_train, target_train)\n",
    "time_dtr_cv = time.time() - start_time # время счета в секундах кода от start_time до текущей строки"
   ]
  },
  {
   "cell_type": "code",
   "execution_count": 40,
   "metadata": {
    "id": "IYTNriBKrYtZ"
   },
   "outputs": [],
   "source": [
    "# Сохраняем расчитанные гиперпараметры в переменной  best_params\n",
    "best_params_dtr = clf.best_params_\n",
    "\n",
    "# в этой строке сохраняется среднее лучшее RMSE полученное по итогам кросс-валидации\n",
    "rmse_dtr_cv = (max(clf.cv_results_['mean_test_score'])*-1) ** 0.5"
   ]
  },
  {
   "cell_type": "code",
   "execution_count": 41,
   "metadata": {
    "colab": {
     "base_uri": "https://localhost:8080/"
    },
    "id": "pYm1WMfrrYtZ",
    "outputId": "5441ea14-bf53-47dc-bf25-5cf2ba262301"
   },
   "outputs": [
    {
     "name": "stdout",
     "output_type": "stream",
     "text": [
      "Промежуточные результаты DecisionTreeRegressor: \n",
      "Глубина дерева: 14\n",
      "RMSE DecisionTreeRegressor по итогам кросс валидации:  1930.9274880897435  время расчета сек: 48.218334674835205\n"
     ]
    }
   ],
   "source": [
    "print('Промежуточные результаты DecisionTreeRegressor: ')\n",
    "print('Глубина дерева:',best_params_dtr['max_depth'])\n",
    "print('RMSE DecisionTreeRegressor по итогам кросс валидации: ', rmse_dtr_cv, ' время расчета сек:',time_dtr_cv )"
   ]
  },
  {
   "cell_type": "markdown",
   "metadata": {
    "id": "Fv4unm0BrYta"
   },
   "source": [
    "### LGBMRegressor"
   ]
  },
  {
   "cell_type": "code",
   "execution_count": 42,
   "metadata": {
    "id": "L5Fq6reQrYta"
   },
   "outputs": [],
   "source": [
    "# чистим память от лишних переменных\n",
    "del features_train_scaled \n",
    "del features_test_scaled\n",
    "del df_lr\n",
    "del features \n",
    "del target\n",
    "df_lgbmr = df"
   ]
  },
  {
   "cell_type": "code",
   "execution_count": 43,
   "metadata": {},
   "outputs": [],
   "source": [
    "# Переводим категорийные параметры в тип данных 'category', что бы алгоритм мог с ними работать\n",
    "for column in cat_features:\n",
    "    df_lgbmr[column] = df_lgbmr[column].astype('category')"
   ]
  },
  {
   "cell_type": "code",
   "execution_count": 44,
   "metadata": {},
   "outputs": [],
   "source": [
    "# список наименований features\n",
    "X = ['vehicle_type', 'registration_year', 'gearbox', 'power', 'model', \n",
    "     'kilometer', 'fuel_type', 'brand', 'not_repaired']\n",
    "# наименование колонки, целевого параметра -  target\n",
    "y = ['price']"
   ]
  },
  {
   "cell_type": "code",
   "execution_count": 45,
   "metadata": {},
   "outputs": [],
   "source": [
    "# разделяем тестовую, валидационную и учебную выборки\n",
    "train_lgbmr, test_lgbmr = train_test_split(df_lgbmr,test_size=0.25,random_state=RANDOM_INIT)"
   ]
  },
  {
   "cell_type": "code",
   "execution_count": 46,
   "metadata": {
    "id": "9zTF48fArYta"
   },
   "outputs": [],
   "source": [
    "# C помощью GridSearch подберем learning_rate, остальные гиперпараметры зафиксируем.\n",
    "params = [{'num_leaves':[50, 100, 200], \n",
    "           'learning_rate':[0.1, 0.3, 0.5], \n",
    "           'random_state':[RANDOM_INIT]}] "
   ]
  },
  {
   "cell_type": "code",
   "execution_count": 47,
   "metadata": {
    "id": "9hnMEjyHrYta"
   },
   "outputs": [],
   "source": [
    "#%%time\n",
    "start_time = time.time()\n",
    "model = LGBMRegressor() \n",
    "clf = GridSearchCV(model, params, scoring='neg_mean_squared_error', cv=CV)\n",
    "clf = clf.fit(train_lgbmr[X], train_lgbmr[y])\n",
    "time_lgbmr_cv = time.time() - start_time # время счета в секундах кода от start_time до текущей строки"
   ]
  },
  {
   "cell_type": "code",
   "execution_count": 48,
   "metadata": {
    "id": "qmTdXVKMrYtb"
   },
   "outputs": [],
   "source": [
    "# best_params - сохраняем параметры, которые дают лучший результат и используем их при обучении на тестовой выборке\n",
    "best_params_lgbmr = clf.best_params_\n",
    "\n",
    "# при получении метрики, используем функцию max(), так как в cv_results_ скоры отрицательные, и после инверсии, это даст минимум\n",
    "# в этой строке сохраняется среднее лучшее RMSE полученное по итогам кросс-валидации\n",
    "rmse_lgbmr_cv = (max(clf.cv_results_['mean_test_score'])*-1) ** 0.5"
   ]
  },
  {
   "cell_type": "code",
   "execution_count": 49,
   "metadata": {
    "colab": {
     "base_uri": "https://localhost:8080/"
    },
    "id": "Epx_doi-rYtb",
    "outputId": "463a739a-a2a4-44e3-be60-aae4c0d832de"
   },
   "outputs": [
    {
     "name": "stdout",
     "output_type": "stream",
     "text": [
      "Промежуточные результаты LGBMRegressor:\n",
      "learning_rate: 0.1  num_leaves: 200\n",
      "RMSE LGBMRegressor cv      :  1575.3586763784924  время расчета сек: 358.0452160835266\n"
     ]
    }
   ],
   "source": [
    "print('Промежуточные результаты LGBMRegressor:')\n",
    "print('learning_rate:',best_params_lgbmr['learning_rate'], ' num_leaves:', best_params_lgbmr['num_leaves'])\n",
    "print('RMSE LGBMRegressor cv      : ', rmse_lgbmr_cv, ' время расчета сек:',time_lgbmr_cv )\n"
   ]
  },
  {
   "cell_type": "markdown",
   "metadata": {
    "id": "1_1StBBHrYtb"
   },
   "source": [
    "### CatBoostRegressor"
   ]
  },
  {
   "cell_type": "markdown",
   "metadata": {
    "id": "E9B1tNj_rYtc"
   },
   "source": [
    "**Комментарий** Так как этому алгоритму нет необходимости в кодировании категорий, для него отдельно готовим тестовую, валидационную и обучающую выборки. Используем метод Михайлова - не выделять отдельные датафреймы для параметров и таргетов, а использовал списки с наименованием \"фичей\" - X и таргет - y и уже их использовать в качестве параметров в датафреймах. Алгоритм ресурсоемкий, поэтому предварительно очистим память от не использующихся далее данных."
   ]
  },
  {
   "cell_type": "code",
   "execution_count": 50,
   "metadata": {
    "id": "ENrx_XCMrYtc"
   },
   "outputs": [],
   "source": [
    "# разделяем тестовую, валидационную и учебную выборки\n",
    "train, test = train_test_split(df,test_size=0.4,random_state=RANDOM_INIT)\n",
    "val, test = train_test_split(test,test_size=0.5,random_state=RANDOM_INIT)"
   ]
  },
  {
   "cell_type": "code",
   "execution_count": 51,
   "metadata": {
    "id": "RbB2OUURrYtd",
    "scrolled": true
   },
   "outputs": [],
   "source": [
    "# параметры для бустинга. В GridSearch подбираем learning_rate, можно подбирать больше параметров, не позволяет ресурс\n",
    "params = {'cat_features':[cat_features],\n",
    "          'random_state': [RANDOM_INIT],\n",
    "          'verbose':[0], \n",
    "          'learning_rate':[0.1, 0.3, 0.5],\n",
    "          'iterations':[50, 100, 200]}"
   ]
  },
  {
   "cell_type": "code",
   "execution_count": 52,
   "metadata": {
    "id": "uJz7tUoSrYtd"
   },
   "outputs": [],
   "source": [
    "#%%time\n",
    "start_time = time.time()\n",
    "model = CatBoostRegressor()\n",
    "clf = GridSearchCV(model, params, scoring='neg_mean_squared_error', cv = CV)\n",
    "clf = clf.fit(train[X],train[y], eval_set=(val[X],val[y]))\n",
    "time_cbr_cv = time.time() - start_time # время счета в секундах кода от start_time до текущей строки"
   ]
  },
  {
   "cell_type": "code",
   "execution_count": 53,
   "metadata": {
    "id": "TZJHeSbCrYtd"
   },
   "outputs": [],
   "source": [
    "# best_params - сохраняем параметры, которые дают лучший результат и используем их при обучении на тестовой выборке\n",
    "best_params_cbr = clf.best_params_\n",
    "\n",
    "# при получении метрики, используем функцию max(), так как в cv_results_ скоры отрицательные, и после инверсии, это даст минимум\n",
    "# в этой строке сохраняется среднее лучшее RMSE полученное по итогам кросс-валидации\n",
    "rmse_cbr_cv = (max(clf.cv_results_['mean_test_score'])*-1) ** 0.5"
   ]
  },
  {
   "cell_type": "code",
   "execution_count": 54,
   "metadata": {
    "colab": {
     "base_uri": "https://localhost:8080/"
    },
    "id": "ab_PbHNIrYte",
    "outputId": "ef396a41-210b-4fa0-eade-bb8cffe11092"
   },
   "outputs": [
    {
     "name": "stdout",
     "output_type": "stream",
     "text": [
      "Промежуточные результаты CatBoostRegressor: \n",
      "learning_rate:  0.3  iterations:  200\n",
      "RMSE CatBoostRegressor по итогам кросс валидации:  1658.0810518788799  время расчета сек: 725.818422794342\n"
     ]
    }
   ],
   "source": [
    "print('Промежуточные результаты CatBoostRegressor: ')\n",
    "print('learning_rate: ',best_params_cbr['learning_rate'],' iterations: ',best_params_cbr['iterations'])\n",
    "print('RMSE CatBoostRegressor по итогам кросс валидации: ', rmse_cbr_cv, ' время расчета сек:',time_cbr_cv )"
   ]
  },
  {
   "cell_type": "markdown",
   "metadata": {
    "id": "lKYdtqi_rYte"
   },
   "source": [
    "## Анализ моделей"
   ]
  },
  {
   "cell_type": "code",
   "execution_count": 55,
   "metadata": {
    "colab": {
     "base_uri": "https://localhost:8080/",
     "height": 206
    },
    "id": "NdshWbttrYte",
    "outputId": "9661f074-d4f8-4090-ea44-80de8afed608"
   },
   "outputs": [
    {
     "data": {
      "text/html": [
       "<div>\n",
       "<style scoped>\n",
       "    .dataframe tbody tr th:only-of-type {\n",
       "        vertical-align: middle;\n",
       "    }\n",
       "\n",
       "    .dataframe tbody tr th {\n",
       "        vertical-align: top;\n",
       "    }\n",
       "\n",
       "    .dataframe thead th {\n",
       "        text-align: right;\n",
       "    }\n",
       "</style>\n",
       "<table border=\"1\" class=\"dataframe\">\n",
       "  <thead>\n",
       "    <tr style=\"text-align: right;\">\n",
       "      <th></th>\n",
       "      <th>RMSE на кросс валидации</th>\n",
       "      <th>Время кросс валидации, sec</th>\n",
       "    </tr>\n",
       "  </thead>\n",
       "  <tbody>\n",
       "    <tr>\n",
       "      <th>LGBMRegressor</th>\n",
       "      <td>1575.358676</td>\n",
       "      <td>358.045216</td>\n",
       "    </tr>\n",
       "    <tr>\n",
       "      <th>CatBoostRegressor</th>\n",
       "      <td>1658.081052</td>\n",
       "      <td>725.818423</td>\n",
       "    </tr>\n",
       "    <tr>\n",
       "      <th>DecisionTreeRegressor</th>\n",
       "      <td>1930.927488</td>\n",
       "      <td>48.218335</td>\n",
       "    </tr>\n",
       "    <tr>\n",
       "      <th>LinearRegression</th>\n",
       "      <td>2798.552174</td>\n",
       "      <td>5.630586</td>\n",
       "    </tr>\n",
       "    <tr>\n",
       "      <th>LinearRegression_scaled</th>\n",
       "      <td>2798.552174</td>\n",
       "      <td>6.235517</td>\n",
       "    </tr>\n",
       "  </tbody>\n",
       "</table>\n",
       "</div>"
      ],
      "text/plain": [
       "                         RMSE на кросс валидации  Время кросс валидации, sec\n",
       "LGBMRegressor                        1575.358676                  358.045216\n",
       "CatBoostRegressor                    1658.081052                  725.818423\n",
       "DecisionTreeRegressor                1930.927488                   48.218335\n",
       "LinearRegression                     2798.552174                    5.630586\n",
       "LinearRegression_scaled              2798.552174                    6.235517"
      ]
     },
     "metadata": {},
     "output_type": "display_data"
    }
   ],
   "source": [
    "\n",
    "index = ['LinearRegression', 'LinearRegression_scaled', 'DecisionTreeRegressor', \n",
    "         'CatBoostRegressor','LGBMRegressor']\n",
    "\n",
    "data = {'RMSE на кросс валидации':[rmse_lr_cv, rmse_lr_cv_sc, rmse_dtr_cv, rmse_cbr_cv, rmse_lgbmr_cv],\n",
    "        'Время кросс валидации, sec':[time_lr_cv, time_lr_cv_sc, time_dtr_cv, time_cbr_cv, time_lgbmr_cv]}\n",
    "\n",
    "\n",
    "eda_models = pd.DataFrame(data=data, index=index)\n",
    "eda_models = eda_models.sort_values(by='RMSE на кросс валидации', ascending=True)\n",
    "\n",
    "display(eda_models)"
   ]
  },
  {
   "cell_type": "markdown",
   "metadata": {},
   "source": [
    "***Комменатрий*** Лучшая метрика RMSE получена методом LGBMRegression. Считаем результат на тестовых данных, с учетом лучших гиперпараметров, полученных с помощью GridSearchCV"
   ]
  },
  {
   "cell_type": "code",
   "execution_count": 56,
   "metadata": {},
   "outputs": [],
   "source": [
    "#%%time\n",
    "# Используя лучшие гиперпараметры считаем метрику на тесте\n",
    "start_time = time.time()\n",
    "model = LGBMRegressor(**best_params_lgbmr)\n",
    "model = model.fit(train_lgbmr[X],train_lgbmr[y])\n",
    "rmse_lgbmr_test = mean_squared_error(test_lgbmr[y], model.predict(test_lgbmr[X])) ** 0.5\n",
    "time_lgbmr_test = time.time() - start_time # время счета в секундах кода от start_time до текущей строки"
   ]
  },
  {
   "cell_type": "code",
   "execution_count": 57,
   "metadata": {},
   "outputs": [
    {
     "name": "stdout",
     "output_type": "stream",
     "text": [
      "Результаты LGBMRegressor:\n",
      "learning_rate: 0.1  num_leaves: 200\n",
      "RMSE LGBMRegressor cv      :  1575.3586763784924  время расчета сек: 358.0452160835266\n",
      "RMSE LGBMRegressor на тесте:  1585.0851051468837  время расчета сек: 21.595305919647217\n"
     ]
    }
   ],
   "source": [
    "print('Результаты LGBMRegressor:')\n",
    "print('learning_rate:',best_params_lgbmr['learning_rate'], ' num_leaves:', best_params_lgbmr['num_leaves'])\n",
    "print('RMSE LGBMRegressor cv      : ', rmse_lgbmr_cv, ' время расчета сек:',time_lgbmr_cv )\n",
    "print('RMSE LGBMRegressor на тесте: ', rmse_lgbmr_test, ' время расчета сек:',time_lgbmr_test)"
   ]
  },
  {
   "cell_type": "markdown",
   "metadata": {
    "id": "R3CPOCNJrYtf"
   },
   "source": [
    "### Выводы*\n",
    "\n",
    "1. LGBMRegressor лучший rmse при хорошей* скорости счета. Рекомедуется к использованию в данном проекте, на текущем техническом ресурсе, особенно эффективен на платформе google colab. Cкорость вычислений этого алгоритма в google colab выше в пять раз чем в jupyter на платформе яндекс.практикум. При этом скорость вычислений catboost от смены платформы не меняется . Итоговый результат RMSE на тестовой выборке = 1585, практически идентичен среднему кросс-валидационному. Эту модель можно рекомендовать для практического применения в данной задаче.\n",
    "\n",
    "2. CatBoostRegressor хорошая rmse, при этом ресурсоемкий алгоритм. \n",
    "\n",
    "3. DecisionTreeRegressor средний результат при высокой скорости счета. Итог: Можно использовать, когда необходимо получить быстрый результат, при этом точность не является ключевым критерием. Для быстрых решений.\n",
    "\n",
    "4. LinearRegression посредственный результат при любых настройках. Вердикт: Для расчета прогноза стоимости автомобиля не использовать.\n",
    "\n",
    "'*' Скорость вычислений аппаратно и платформо - зависимая вещь. Ресурсы выделяемые серверами для задач пользователей зависят от количества пользователей. Например, в выходой день скорость счета кроссвалидации catboost была в несколько раз выше чем в будний день. Скорость вычислений зависит от настроек гиперпараметров и сравнивать сложные алгоритмы дело неблагодарное, так как в рамках данного проекта все их возможности не были использованы. "
   ]
  },
  {
   "cell_type": "markdown",
   "metadata": {
    "id": "Fk1AXu46rYtf"
   },
   "source": [
    "## Выводы"
   ]
  },
  {
   "cell_type": "markdown",
   "metadata": {
    "id": "A4QCx2k1rYtf"
   },
   "source": [
    "Проведена предварительная подготовка данных.\n",
    "\n",
    "1. Удалены 6 параметров не участвующих в обучении моделей, так как не влияют на целевой параметр - цену автомобиля.\n",
    "2. Удалены дубликаты - 24тыс строк\n",
    "3. Произведена замена пропусков в колонках \n",
    "4. Удалены аномалии в числовых параметрах, определены границы реальных значений для цены автомобиля, мощности и года регистрации. Выбросы отфильтрованы.\n",
    "\n",
    "Проведено предварительно обучение моделей.\n",
    "1. Выбраны модели: LinearRegression, DecisionTreeRegressor, CatBoostRegressor, LGBMRegressor\n",
    "2. Проведено обучение с целью выявления оптимальных гиперпараметров. Для этого использовался метод GridSearchCV c метрикой RMSE \n",
    "3. Проведен замер времени выполнения процедур\n",
    "\n",
    "Проведен анализ результатов\n",
    "1. Проведено обучение моделей на оптимальных параметрах, расчитан прогноз результатов по тестовым выборкам, посчитаны средние метрики при кросс-валидации.\n",
    "RMSE.\n",
    "2. Проведен замер времени обучения и прогнозирования.\n",
    "3. Данные сведены в таблицу и сформированы следующие выводы: Кроме линейной регрессии, все методы можно использовать на практике. Наиболее применим метод градиентного бустинга с алгоритмом - LGBMRegressor. И хотя метод незначительно выиграл в точности методу catboost, он давал приемлемые сроки расчетов при  лучших rmse. Кроме того выяснилась сильная аппаратно-платформенная зависимость методов. LGBMRegressor можно еще ускорить, если считать модели на серверах google colab.\n",
    "\n",
    "\n"
   ]
  },
  {
   "cell_type": "markdown",
   "metadata": {
    "id": "r3X6pr2TrYtf"
   },
   "source": [
    "## Чек-лист проверки"
   ]
  },
  {
   "cell_type": "markdown",
   "metadata": {
    "id": "PfWCO0--rYtg"
   },
   "source": [
    "Поставьте 'x' в выполненных пунктах. Далее нажмите Shift+Enter."
   ]
  },
  {
   "cell_type": "markdown",
   "metadata": {
    "id": "KxtnFIQWrYtg"
   },
   "source": [
    "- [x]  Jupyter Notebook открыт\n",
    "- [x]  Весь код выполняется без ошибок\n",
    "- [x]  Ячейки с кодом расположены в порядке исполнения\n",
    "- [x]  Выполнена загрузка и подготовка данных\n",
    "- [x]  Выполнено обучение моделей\n",
    "- [x]  Есть анализ скорости работы и качества моделей"
   ]
  },
  {
   "cell_type": "code",
   "execution_count": null,
   "metadata": {
    "id": "1ex70QUMrYtg"
   },
   "outputs": [],
   "source": []
  }
 ],
 "metadata": {
  "ExecuteTimeLog": [
   {
    "duration": 2756,
    "start_time": "2022-04-05T08:35:43.917Z"
   },
   {
    "duration": 0,
    "start_time": "2022-04-05T08:35:46.675Z"
   },
   {
    "duration": 0,
    "start_time": "2022-04-05T08:35:46.677Z"
   },
   {
    "duration": 52,
    "start_time": "2022-04-05T08:39:16.776Z"
   },
   {
    "duration": 977,
    "start_time": "2022-04-05T08:39:17.608Z"
   },
   {
    "duration": 148,
    "start_time": "2022-04-05T08:39:18.672Z"
   },
   {
    "duration": 12,
    "start_time": "2022-04-05T09:09:39.550Z"
   },
   {
    "duration": 11,
    "start_time": "2022-04-05T09:09:49.314Z"
   },
   {
    "duration": 5,
    "start_time": "2022-04-05T09:10:50.893Z"
   },
   {
    "duration": 3,
    "start_time": "2022-04-05T09:12:45.601Z"
   },
   {
    "duration": 13,
    "start_time": "2022-04-05T09:12:59.437Z"
   },
   {
    "duration": 4,
    "start_time": "2022-04-05T09:15:08.103Z"
   },
   {
    "duration": 158,
    "start_time": "2022-04-05T09:18:14.779Z"
   },
   {
    "duration": 118,
    "start_time": "2022-04-05T09:18:29.051Z"
   },
   {
    "duration": 5,
    "start_time": "2022-04-05T09:28:02.498Z"
   },
   {
    "duration": 949,
    "start_time": "2022-04-05T09:28:03.415Z"
   },
   {
    "duration": 20,
    "start_time": "2022-04-05T09:28:04.846Z"
   },
   {
    "duration": 4,
    "start_time": "2022-04-05T09:28:09.327Z"
   },
   {
    "duration": 157,
    "start_time": "2022-04-05T09:28:10.518Z"
   },
   {
    "duration": 273,
    "start_time": "2022-04-05T09:28:12.342Z"
   },
   {
    "duration": 126,
    "start_time": "2022-04-05T09:28:16.958Z"
   },
   {
    "duration": 89,
    "start_time": "2022-04-05T09:28:31.367Z"
   },
   {
    "duration": 278,
    "start_time": "2022-04-05T09:33:52.771Z"
   },
   {
    "duration": 17,
    "start_time": "2022-04-05T09:35:33.119Z"
   },
   {
    "duration": 301,
    "start_time": "2022-04-05T09:35:40.368Z"
   },
   {
    "duration": 14,
    "start_time": "2022-04-05T09:40:09.532Z"
   },
   {
    "duration": 276,
    "start_time": "2022-04-05T09:48:31.812Z"
   },
   {
    "duration": 246,
    "start_time": "2022-04-05T09:49:48.522Z"
   },
   {
    "duration": 13,
    "start_time": "2022-04-05T09:50:48.483Z"
   },
   {
    "duration": 10,
    "start_time": "2022-04-05T09:50:55.127Z"
   },
   {
    "duration": 10,
    "start_time": "2022-04-05T09:51:06.472Z"
   },
   {
    "duration": 100,
    "start_time": "2022-04-05T09:52:18.119Z"
   },
   {
    "duration": 48,
    "start_time": "2022-04-05T09:52:38.054Z"
   },
   {
    "duration": 16,
    "start_time": "2022-04-05T09:54:14.926Z"
   },
   {
    "duration": 13,
    "start_time": "2022-04-05T09:55:02.238Z"
   },
   {
    "duration": 7,
    "start_time": "2022-04-05T09:57:09.462Z"
   },
   {
    "duration": 4,
    "start_time": "2022-04-05T10:00:56.630Z"
   },
   {
    "duration": 37,
    "start_time": "2022-04-05T10:01:10.534Z"
   },
   {
    "duration": 1999,
    "start_time": "2022-04-05T10:02:25.475Z"
   },
   {
    "duration": 783,
    "start_time": "2022-04-05T10:02:27.476Z"
   },
   {
    "duration": 15,
    "start_time": "2022-04-05T10:02:28.261Z"
   },
   {
    "duration": 4,
    "start_time": "2022-04-05T10:02:28.278Z"
   },
   {
    "duration": 158,
    "start_time": "2022-04-05T10:02:28.284Z"
   },
   {
    "duration": 303,
    "start_time": "2022-04-05T10:02:28.443Z"
   },
   {
    "duration": 129,
    "start_time": "2022-04-05T10:02:28.748Z"
   },
   {
    "duration": 264,
    "start_time": "2022-04-05T10:02:28.879Z"
   },
   {
    "duration": 303,
    "start_time": "2022-04-05T10:02:29.145Z"
   },
   {
    "duration": 13,
    "start_time": "2022-04-05T10:02:29.450Z"
   },
   {
    "duration": 39,
    "start_time": "2022-04-05T10:02:29.464Z"
   },
   {
    "duration": 354,
    "start_time": "2022-04-05T10:02:29.506Z"
   },
   {
    "duration": 3,
    "start_time": "2022-04-05T10:02:29.861Z"
   },
   {
    "duration": 6,
    "start_time": "2022-04-05T10:02:29.865Z"
   },
   {
    "duration": 393,
    "start_time": "2022-04-05T10:05:51.831Z"
   },
   {
    "duration": 598,
    "start_time": "2022-04-05T10:06:21.607Z"
   },
   {
    "duration": 393,
    "start_time": "2022-04-05T10:06:42.855Z"
   },
   {
    "duration": 538,
    "start_time": "2022-04-05T10:06:49.842Z"
   },
   {
    "duration": 12,
    "start_time": "2022-04-05T10:08:16.135Z"
   },
   {
    "duration": 93,
    "start_time": "2022-04-05T10:09:40.415Z"
   },
   {
    "duration": 50,
    "start_time": "2022-04-05T10:09:49.431Z"
   },
   {
    "duration": 2502,
    "start_time": "2022-04-05T17:23:35.101Z"
   },
   {
    "duration": 1590,
    "start_time": "2022-04-05T17:23:37.605Z"
   },
   {
    "duration": 17,
    "start_time": "2022-04-05T17:23:39.197Z"
   },
   {
    "duration": 4,
    "start_time": "2022-04-05T17:23:39.216Z"
   },
   {
    "duration": 145,
    "start_time": "2022-04-05T17:23:39.222Z"
   },
   {
    "duration": 301,
    "start_time": "2022-04-05T17:23:39.369Z"
   },
   {
    "duration": 148,
    "start_time": "2022-04-05T17:23:39.672Z"
   },
   {
    "duration": 292,
    "start_time": "2022-04-05T17:23:39.822Z"
   },
   {
    "duration": 328,
    "start_time": "2022-04-05T17:23:40.117Z"
   },
   {
    "duration": 13,
    "start_time": "2022-04-05T17:23:40.449Z"
   },
   {
    "duration": 33,
    "start_time": "2022-04-05T17:23:40.464Z"
   },
   {
    "duration": 309,
    "start_time": "2022-04-05T17:23:40.499Z"
   },
   {
    "duration": 454,
    "start_time": "2022-04-05T17:23:40.810Z"
   },
   {
    "duration": 13,
    "start_time": "2022-04-05T17:23:41.267Z"
   },
   {
    "duration": 117,
    "start_time": "2022-04-05T17:23:41.281Z"
   },
   {
    "duration": 40,
    "start_time": "2022-04-05T17:23:41.400Z"
   },
   {
    "duration": 22,
    "start_time": "2022-04-05T17:23:41.442Z"
   },
   {
    "duration": 18,
    "start_time": "2022-04-05T17:23:41.466Z"
   },
   {
    "duration": 2,
    "start_time": "2022-04-05T17:23:41.486Z"
   },
   {
    "duration": 5,
    "start_time": "2022-04-05T17:23:41.490Z"
   },
   {
    "duration": 5,
    "start_time": "2022-04-05T17:23:41.497Z"
   },
   {
    "duration": 6,
    "start_time": "2022-04-05T17:25:04.753Z"
   },
   {
    "duration": 21,
    "start_time": "2022-04-05T17:28:45.620Z"
   },
   {
    "duration": 115,
    "start_time": "2022-04-05T17:31:08.316Z"
   },
   {
    "duration": 1832,
    "start_time": "2022-04-05T17:37:39.311Z"
   },
   {
    "duration": 2,
    "start_time": "2022-04-05T17:43:09.600Z"
   },
   {
    "duration": 280,
    "start_time": "2022-04-05T17:44:16.438Z"
   },
   {
    "duration": 394,
    "start_time": "2022-04-05T17:45:53.702Z"
   },
   {
    "duration": 12,
    "start_time": "2022-04-05T17:47:47.954Z"
   },
   {
    "duration": 13,
    "start_time": "2022-04-05T17:48:26.421Z"
   },
   {
    "duration": 332,
    "start_time": "2022-04-05T17:49:17.649Z"
   },
   {
    "duration": 142,
    "start_time": "2022-04-05T17:51:22.237Z"
   },
   {
    "duration": 25,
    "start_time": "2022-04-05T17:51:36.816Z"
   },
   {
    "duration": 79,
    "start_time": "2022-04-05T17:57:51.755Z"
   },
   {
    "duration": 1456,
    "start_time": "2022-04-05T18:21:37.822Z"
   },
   {
    "duration": 825,
    "start_time": "2022-04-05T18:21:39.280Z"
   },
   {
    "duration": 26,
    "start_time": "2022-04-05T18:21:40.106Z"
   },
   {
    "duration": 4,
    "start_time": "2022-04-05T18:21:40.135Z"
   },
   {
    "duration": 148,
    "start_time": "2022-04-05T18:21:40.141Z"
   },
   {
    "duration": 299,
    "start_time": "2022-04-05T18:21:40.291Z"
   },
   {
    "duration": 45,
    "start_time": "2022-04-05T18:21:40.592Z"
   },
   {
    "duration": 125,
    "start_time": "2022-04-05T18:21:40.639Z"
   },
   {
    "duration": 1078,
    "start_time": "2022-04-05T18:21:40.766Z"
   },
   {
    "duration": 95,
    "start_time": "2022-04-05T18:21:41.847Z"
   },
   {
    "duration": 119,
    "start_time": "2022-04-05T18:21:41.944Z"
   },
   {
    "duration": 12,
    "start_time": "2022-04-05T18:21:42.064Z"
   },
   {
    "duration": 25,
    "start_time": "2022-04-05T18:21:42.078Z"
   },
   {
    "duration": 303,
    "start_time": "2022-04-05T18:21:42.105Z"
   },
   {
    "duration": 421,
    "start_time": "2022-04-05T18:21:42.410Z"
   },
   {
    "duration": 9,
    "start_time": "2022-04-05T18:21:42.833Z"
   },
   {
    "duration": 68,
    "start_time": "2022-04-05T18:21:42.844Z"
   },
   {
    "duration": 36,
    "start_time": "2022-04-05T18:21:42.913Z"
   },
   {
    "duration": 2,
    "start_time": "2022-04-05T18:21:42.951Z"
   },
   {
    "duration": 15,
    "start_time": "2022-04-05T18:21:42.955Z"
   },
   {
    "duration": 340,
    "start_time": "2022-04-05T18:21:42.972Z"
   },
   {
    "duration": 19,
    "start_time": "2022-04-05T18:21:43.314Z"
   },
   {
    "duration": 320,
    "start_time": "2022-04-05T18:21:43.334Z"
   },
   {
    "duration": 18,
    "start_time": "2022-04-05T18:21:43.655Z"
   },
   {
    "duration": 17,
    "start_time": "2022-04-05T18:21:43.675Z"
   },
   {
    "duration": 3,
    "start_time": "2022-04-05T18:21:43.693Z"
   },
   {
    "duration": 38,
    "start_time": "2022-04-05T18:21:43.698Z"
   },
   {
    "duration": 6,
    "start_time": "2022-04-05T18:21:43.739Z"
   },
   {
    "duration": 7,
    "start_time": "2022-04-05T18:21:43.746Z"
   },
   {
    "duration": 1443,
    "start_time": "2022-04-05T18:23:51.959Z"
   },
   {
    "duration": 842,
    "start_time": "2022-04-05T18:23:53.404Z"
   },
   {
    "duration": 17,
    "start_time": "2022-04-05T18:23:54.248Z"
   },
   {
    "duration": 5,
    "start_time": "2022-04-05T18:23:54.268Z"
   },
   {
    "duration": 160,
    "start_time": "2022-04-05T18:23:54.275Z"
   },
   {
    "duration": 311,
    "start_time": "2022-04-05T18:23:54.437Z"
   },
   {
    "duration": 32,
    "start_time": "2022-04-05T18:23:54.750Z"
   },
   {
    "duration": 157,
    "start_time": "2022-04-05T18:23:54.784Z"
   },
   {
    "duration": 208,
    "start_time": "2022-04-05T18:23:54.943Z"
   },
   {
    "duration": 214,
    "start_time": "2022-04-05T18:23:55.155Z"
   },
   {
    "duration": 996,
    "start_time": "2022-04-05T18:23:55.370Z"
   },
   {
    "duration": 19,
    "start_time": "2022-04-05T18:23:56.368Z"
   },
   {
    "duration": 14,
    "start_time": "2022-04-05T18:23:56.389Z"
   },
   {
    "duration": 307,
    "start_time": "2022-04-05T18:23:56.405Z"
   },
   {
    "duration": 411,
    "start_time": "2022-04-05T18:23:56.714Z"
   },
   {
    "duration": 9,
    "start_time": "2022-04-05T18:23:57.131Z"
   },
   {
    "duration": 67,
    "start_time": "2022-04-05T18:23:57.142Z"
   },
   {
    "duration": 32,
    "start_time": "2022-04-05T18:23:57.211Z"
   },
   {
    "duration": 2,
    "start_time": "2022-04-05T18:23:57.245Z"
   },
   {
    "duration": 14,
    "start_time": "2022-04-05T18:23:57.249Z"
   },
   {
    "duration": 333,
    "start_time": "2022-04-05T18:23:57.265Z"
   },
   {
    "duration": 9,
    "start_time": "2022-04-05T18:23:57.599Z"
   },
   {
    "duration": 315,
    "start_time": "2022-04-05T18:23:57.610Z"
   },
   {
    "duration": 16,
    "start_time": "2022-04-05T18:23:57.927Z"
   },
   {
    "duration": 16,
    "start_time": "2022-04-05T18:23:57.945Z"
   },
   {
    "duration": 3,
    "start_time": "2022-04-05T18:23:57.963Z"
   },
   {
    "duration": 16,
    "start_time": "2022-04-05T18:23:57.968Z"
   },
   {
    "duration": 4,
    "start_time": "2022-04-05T18:23:57.987Z"
   },
   {
    "duration": 5,
    "start_time": "2022-04-05T18:23:57.993Z"
   },
   {
    "duration": 1470,
    "start_time": "2022-04-05T18:38:17.225Z"
   },
   {
    "duration": 853,
    "start_time": "2022-04-05T18:38:18.697Z"
   },
   {
    "duration": 18,
    "start_time": "2022-04-05T18:38:19.552Z"
   },
   {
    "duration": 4,
    "start_time": "2022-04-05T18:38:19.572Z"
   },
   {
    "duration": 165,
    "start_time": "2022-04-05T18:38:19.578Z"
   },
   {
    "duration": 311,
    "start_time": "2022-04-05T18:38:19.745Z"
   },
   {
    "duration": 32,
    "start_time": "2022-04-05T18:38:20.058Z"
   },
   {
    "duration": 150,
    "start_time": "2022-04-05T18:38:20.092Z"
   },
   {
    "duration": 205,
    "start_time": "2022-04-05T18:38:20.244Z"
   },
   {
    "duration": 236,
    "start_time": "2022-04-05T18:38:20.452Z"
   },
   {
    "duration": 1010,
    "start_time": "2022-04-05T18:38:20.689Z"
   },
   {
    "duration": 18,
    "start_time": "2022-04-05T18:38:21.701Z"
   },
   {
    "duration": 23,
    "start_time": "2022-04-05T18:38:21.721Z"
   },
   {
    "duration": 285,
    "start_time": "2022-04-05T18:38:21.746Z"
   },
   {
    "duration": 433,
    "start_time": "2022-04-05T18:38:22.033Z"
   },
   {
    "duration": 9,
    "start_time": "2022-04-05T18:38:22.468Z"
   },
   {
    "duration": 81,
    "start_time": "2022-04-05T18:38:22.479Z"
   },
   {
    "duration": 15,
    "start_time": "2022-04-05T18:38:22.562Z"
   },
   {
    "duration": 2,
    "start_time": "2022-04-05T18:38:22.579Z"
   },
   {
    "duration": 18,
    "start_time": "2022-04-05T18:38:22.583Z"
   },
   {
    "duration": 344,
    "start_time": "2022-04-05T18:38:22.603Z"
   },
   {
    "duration": 10,
    "start_time": "2022-04-05T18:38:22.949Z"
   },
   {
    "duration": 313,
    "start_time": "2022-04-05T18:38:22.960Z"
   },
   {
    "duration": 15,
    "start_time": "2022-04-05T18:38:23.275Z"
   },
   {
    "duration": 17,
    "start_time": "2022-04-05T18:38:23.291Z"
   },
   {
    "duration": 22,
    "start_time": "2022-04-05T18:38:23.310Z"
   },
   {
    "duration": 16,
    "start_time": "2022-04-05T18:38:23.334Z"
   },
   {
    "duration": 9,
    "start_time": "2022-04-05T18:38:23.354Z"
   },
   {
    "duration": 12,
    "start_time": "2022-04-05T18:38:23.365Z"
   },
   {
    "duration": 124,
    "start_time": "2022-04-05T18:38:23.379Z"
   },
   {
    "duration": 432,
    "start_time": "2022-04-05T18:38:23.505Z"
   },
   {
    "duration": 95,
    "start_time": "2022-04-05T18:38:23.939Z"
   },
   {
    "duration": 1451,
    "start_time": "2022-04-05T18:39:57.890Z"
   },
   {
    "duration": 833,
    "start_time": "2022-04-05T18:39:59.343Z"
   },
   {
    "duration": 17,
    "start_time": "2022-04-05T18:40:00.178Z"
   },
   {
    "duration": 5,
    "start_time": "2022-04-05T18:40:00.197Z"
   },
   {
    "duration": 162,
    "start_time": "2022-04-05T18:40:00.203Z"
   },
   {
    "duration": 302,
    "start_time": "2022-04-05T18:40:00.366Z"
   },
   {
    "duration": 2,
    "start_time": "2022-04-05T18:40:00.670Z"
   },
   {
    "duration": 148,
    "start_time": "2022-04-05T18:40:00.674Z"
   },
   {
    "duration": 284,
    "start_time": "2022-04-05T18:40:00.823Z"
   },
   {
    "duration": 349,
    "start_time": "2022-04-05T18:40:01.110Z"
   },
   {
    "duration": 1116,
    "start_time": "2022-04-05T18:40:01.461Z"
   },
   {
    "duration": 20,
    "start_time": "2022-04-05T18:40:02.579Z"
   },
   {
    "duration": 32,
    "start_time": "2022-04-05T18:40:02.600Z"
   },
   {
    "duration": 293,
    "start_time": "2022-04-05T18:40:02.634Z"
   },
   {
    "duration": 464,
    "start_time": "2022-04-05T18:40:02.932Z"
   },
   {
    "duration": 11,
    "start_time": "2022-04-05T18:40:03.397Z"
   },
   {
    "duration": 94,
    "start_time": "2022-04-05T18:40:03.410Z"
   },
   {
    "duration": 30,
    "start_time": "2022-04-05T18:40:03.506Z"
   },
   {
    "duration": 2,
    "start_time": "2022-04-05T18:40:03.538Z"
   },
   {
    "duration": 19,
    "start_time": "2022-04-05T18:40:03.542Z"
   },
   {
    "duration": 338,
    "start_time": "2022-04-05T18:40:03.562Z"
   },
   {
    "duration": 10,
    "start_time": "2022-04-05T18:40:03.902Z"
   },
   {
    "duration": 327,
    "start_time": "2022-04-05T18:40:03.914Z"
   },
   {
    "duration": 17,
    "start_time": "2022-04-05T18:40:04.243Z"
   },
   {
    "duration": 20,
    "start_time": "2022-04-05T18:40:04.262Z"
   },
   {
    "duration": 3,
    "start_time": "2022-04-05T18:40:04.284Z"
   },
   {
    "duration": 43,
    "start_time": "2022-04-05T18:40:04.289Z"
   },
   {
    "duration": 12,
    "start_time": "2022-04-05T18:40:04.335Z"
   },
   {
    "duration": 9,
    "start_time": "2022-04-05T18:40:04.349Z"
   },
   {
    "duration": 821,
    "start_time": "2022-04-05T18:40:04.360Z"
   },
   {
    "duration": 0,
    "start_time": "2022-04-05T18:40:05.183Z"
   },
   {
    "duration": 0,
    "start_time": "2022-04-05T18:40:05.184Z"
   },
   {
    "duration": 1444,
    "start_time": "2022-04-05T18:44:15.046Z"
   },
   {
    "duration": 841,
    "start_time": "2022-04-05T18:44:16.492Z"
   },
   {
    "duration": 17,
    "start_time": "2022-04-05T18:44:17.335Z"
   },
   {
    "duration": 4,
    "start_time": "2022-04-05T18:44:17.354Z"
   },
   {
    "duration": 157,
    "start_time": "2022-04-05T18:44:17.360Z"
   },
   {
    "duration": 304,
    "start_time": "2022-04-05T18:44:17.519Z"
   },
   {
    "duration": 7,
    "start_time": "2022-04-05T18:44:17.825Z"
   },
   {
    "duration": 160,
    "start_time": "2022-04-05T18:44:17.834Z"
   },
   {
    "duration": 312,
    "start_time": "2022-04-05T18:44:17.996Z"
   },
   {
    "duration": 335,
    "start_time": "2022-04-05T18:44:18.312Z"
   },
   {
    "duration": 1074,
    "start_time": "2022-04-05T18:44:18.649Z"
   },
   {
    "duration": 19,
    "start_time": "2022-04-05T18:44:19.725Z"
   },
   {
    "duration": 17,
    "start_time": "2022-04-05T18:44:19.745Z"
   },
   {
    "duration": 301,
    "start_time": "2022-04-05T18:44:19.764Z"
   },
   {
    "duration": 457,
    "start_time": "2022-04-05T18:44:20.067Z"
   },
   {
    "duration": 14,
    "start_time": "2022-04-05T18:44:20.526Z"
   },
   {
    "duration": 97,
    "start_time": "2022-04-05T18:44:20.541Z"
   },
   {
    "duration": 21,
    "start_time": "2022-04-05T18:44:20.639Z"
   },
   {
    "duration": 3,
    "start_time": "2022-04-05T18:44:20.662Z"
   },
   {
    "duration": 28,
    "start_time": "2022-04-05T18:44:20.666Z"
   },
   {
    "duration": 359,
    "start_time": "2022-04-05T18:44:20.696Z"
   },
   {
    "duration": 11,
    "start_time": "2022-04-05T18:44:21.057Z"
   },
   {
    "duration": 334,
    "start_time": "2022-04-05T18:44:21.069Z"
   },
   {
    "duration": 15,
    "start_time": "2022-04-05T18:44:21.405Z"
   },
   {
    "duration": 25,
    "start_time": "2022-04-05T18:44:21.432Z"
   },
   {
    "duration": 4,
    "start_time": "2022-04-05T18:44:21.458Z"
   },
   {
    "duration": 33,
    "start_time": "2022-04-05T18:44:21.463Z"
   },
   {
    "duration": 15,
    "start_time": "2022-04-05T18:44:21.499Z"
   },
   {
    "duration": 9,
    "start_time": "2022-04-05T18:44:21.516Z"
   },
   {
    "duration": 89,
    "start_time": "2022-04-05T18:44:21.527Z"
   },
   {
    "duration": 260,
    "start_time": "2022-04-05T18:44:21.618Z"
   },
   {
    "duration": 0,
    "start_time": "2022-04-05T18:44:21.880Z"
   },
   {
    "duration": 1506,
    "start_time": "2022-04-06T17:01:01.738Z"
   },
   {
    "duration": 856,
    "start_time": "2022-04-06T17:01:03.718Z"
   },
   {
    "duration": 149,
    "start_time": "2022-04-06T17:01:05.331Z"
   },
   {
    "duration": 124,
    "start_time": "2022-04-06T17:01:12.034Z"
   },
   {
    "duration": 111,
    "start_time": "2022-04-06T17:02:05.302Z"
   },
   {
    "duration": 129,
    "start_time": "2022-04-06T17:02:13.646Z"
   },
   {
    "duration": 126,
    "start_time": "2022-04-06T17:03:01.734Z"
   },
   {
    "duration": 118,
    "start_time": "2022-04-06T17:03:32.570Z"
   },
   {
    "duration": 121,
    "start_time": "2022-04-06T17:03:40.362Z"
   },
   {
    "duration": 1359,
    "start_time": "2022-04-06T17:09:07.810Z"
   },
   {
    "duration": 87,
    "start_time": "2022-04-06T17:09:26.517Z"
   },
   {
    "duration": 3,
    "start_time": "2022-04-06T17:13:01.162Z"
   },
   {
    "duration": 796,
    "start_time": "2022-04-06T17:27:37.080Z"
   },
   {
    "duration": 145,
    "start_time": "2022-04-06T17:27:37.878Z"
   },
   {
    "duration": 4,
    "start_time": "2022-04-06T17:27:40.040Z"
   },
   {
    "duration": 15,
    "start_time": "2022-04-06T17:27:41.491Z"
   },
   {
    "duration": 26,
    "start_time": "2022-04-06T17:27:58.136Z"
   },
   {
    "duration": 79,
    "start_time": "2022-04-06T17:28:01.668Z"
   },
   {
    "duration": 756,
    "start_time": "2022-04-06T17:28:48.892Z"
   },
   {
    "duration": 132,
    "start_time": "2022-04-06T17:28:49.650Z"
   },
   {
    "duration": 4,
    "start_time": "2022-04-06T17:28:51.072Z"
   },
   {
    "duration": 3,
    "start_time": "2022-04-06T17:28:52.764Z"
   },
   {
    "duration": 115,
    "start_time": "2022-04-06T17:28:54.165Z"
   },
   {
    "duration": 14,
    "start_time": "2022-04-06T18:10:41.531Z"
   },
   {
    "duration": 29,
    "start_time": "2022-04-06T18:10:58.230Z"
   },
   {
    "duration": 4558,
    "start_time": "2022-04-06T18:11:24.239Z"
   },
   {
    "duration": 4884,
    "start_time": "2022-04-06T18:14:32.778Z"
   },
   {
    "duration": 745,
    "start_time": "2022-04-06T18:15:17.970Z"
   },
   {
    "duration": 140,
    "start_time": "2022-04-06T18:15:18.717Z"
   },
   {
    "duration": 4,
    "start_time": "2022-04-06T18:15:22.338Z"
   },
   {
    "duration": 36,
    "start_time": "2022-04-06T18:15:24.278Z"
   },
   {
    "duration": 80,
    "start_time": "2022-04-06T18:15:25.682Z"
   },
   {
    "duration": 88,
    "start_time": "2022-04-06T18:15:28.002Z"
   },
   {
    "duration": 143,
    "start_time": "2022-04-06T18:15:35.846Z"
   },
   {
    "duration": 4337,
    "start_time": "2022-04-06T18:15:51.722Z"
   },
   {
    "duration": 742,
    "start_time": "2022-04-06T18:21:32.857Z"
   },
   {
    "duration": 135,
    "start_time": "2022-04-06T18:21:33.809Z"
   },
   {
    "duration": 4,
    "start_time": "2022-04-06T18:21:35.181Z"
   },
   {
    "duration": 37,
    "start_time": "2022-04-06T18:21:36.181Z"
   },
   {
    "duration": 78,
    "start_time": "2022-04-06T18:21:37.353Z"
   },
   {
    "duration": 104,
    "start_time": "2022-04-06T18:21:39.297Z"
   },
   {
    "duration": 136,
    "start_time": "2022-04-06T18:21:41.373Z"
   },
   {
    "duration": 5513,
    "start_time": "2022-04-06T18:21:42.722Z"
   },
   {
    "duration": 8801,
    "start_time": "2022-04-06T18:24:13.413Z"
   },
   {
    "duration": 8487,
    "start_time": "2022-04-06T18:24:36.929Z"
   },
   {
    "duration": 1770,
    "start_time": "2022-04-06T18:48:15.052Z"
   },
   {
    "duration": 851,
    "start_time": "2022-04-06T18:48:16.824Z"
   },
   {
    "duration": 164,
    "start_time": "2022-04-06T18:48:17.678Z"
   },
   {
    "duration": 5,
    "start_time": "2022-04-06T18:48:22.915Z"
   },
   {
    "duration": 47,
    "start_time": "2022-04-06T18:48:25.700Z"
   },
   {
    "duration": 93,
    "start_time": "2022-04-06T18:48:27.484Z"
   },
   {
    "duration": 94,
    "start_time": "2022-04-06T18:48:30.296Z"
   },
   {
    "duration": 145,
    "start_time": "2022-04-06T18:48:33.700Z"
   },
   {
    "duration": 9324,
    "start_time": "2022-04-06T18:48:35.160Z"
   },
   {
    "duration": 140,
    "start_time": "2022-04-06T18:48:44.486Z"
   },
   {
    "duration": 3924,
    "start_time": "2022-04-06T18:55:08.844Z"
   },
   {
    "duration": 4405,
    "start_time": "2022-04-06T18:56:42.616Z"
   },
   {
    "duration": 4387,
    "start_time": "2022-04-06T18:58:21.583Z"
   },
   {
    "duration": 5,
    "start_time": "2022-04-06T19:00:05.258Z"
   },
   {
    "duration": 834,
    "start_time": "2022-04-06T19:00:07.139Z"
   },
   {
    "duration": 151,
    "start_time": "2022-04-06T19:00:07.975Z"
   },
   {
    "duration": 4,
    "start_time": "2022-04-06T19:00:09.879Z"
   },
   {
    "duration": 41,
    "start_time": "2022-04-06T19:00:11.191Z"
   },
   {
    "duration": 90,
    "start_time": "2022-04-06T19:00:12.503Z"
   },
   {
    "duration": 96,
    "start_time": "2022-04-06T19:00:16.351Z"
   },
   {
    "duration": 145,
    "start_time": "2022-04-06T19:00:16.714Z"
   },
   {
    "duration": 9645,
    "start_time": "2022-04-06T19:00:18.819Z"
   },
   {
    "duration": 5,
    "start_time": "2022-04-06T19:00:28.467Z"
   },
   {
    "duration": 8103,
    "start_time": "2022-04-06T19:00:45.823Z"
   },
   {
    "duration": 57,
    "start_time": "2022-04-06T19:05:37.978Z"
   },
   {
    "duration": 1718,
    "start_time": "2022-04-07T17:05:06.406Z"
   },
   {
    "duration": 793,
    "start_time": "2022-04-07T17:05:08.126Z"
   },
   {
    "duration": 141,
    "start_time": "2022-04-07T17:05:08.921Z"
   },
   {
    "duration": 4,
    "start_time": "2022-04-07T17:05:09.818Z"
   },
   {
    "duration": 45,
    "start_time": "2022-04-07T17:05:11.106Z"
   },
   {
    "duration": 89,
    "start_time": "2022-04-07T17:05:12.390Z"
   },
   {
    "duration": 88,
    "start_time": "2022-04-07T17:05:14.106Z"
   },
   {
    "duration": 132,
    "start_time": "2022-04-07T17:05:15.482Z"
   },
   {
    "duration": 9082,
    "start_time": "2022-04-07T17:05:16.002Z"
   },
   {
    "duration": 54,
    "start_time": "2022-04-07T17:05:25.086Z"
   },
   {
    "duration": 7488,
    "start_time": "2022-04-07T17:05:26.135Z"
   },
   {
    "duration": 3,
    "start_time": "2022-04-07T17:05:33.625Z"
   },
   {
    "duration": 204,
    "start_time": "2022-04-07T17:05:33.629Z"
   },
   {
    "duration": 185,
    "start_time": "2022-04-07T17:05:33.835Z"
   },
   {
    "duration": 926,
    "start_time": "2022-04-07T17:05:35.386Z"
   },
   {
    "duration": 218,
    "start_time": "2022-04-07T17:05:36.542Z"
   },
   {
    "duration": 214,
    "start_time": "2022-04-07T17:05:46.859Z"
   },
   {
    "duration": 96,
    "start_time": "2022-04-07T17:05:55.379Z"
   },
   {
    "duration": 16,
    "start_time": "2022-04-07T17:06:36.642Z"
   },
   {
    "duration": 21,
    "start_time": "2022-04-07T17:07:03.651Z"
   },
   {
    "duration": 15,
    "start_time": "2022-04-07T17:07:24.850Z"
   },
   {
    "duration": 14,
    "start_time": "2022-04-07T17:07:38.322Z"
   },
   {
    "duration": 16,
    "start_time": "2022-04-07T17:08:01.771Z"
   },
   {
    "duration": 16,
    "start_time": "2022-04-07T17:08:35.418Z"
   },
   {
    "duration": 345,
    "start_time": "2022-04-07T17:15:00.194Z"
   },
   {
    "duration": 436,
    "start_time": "2022-04-07T17:17:11.934Z"
   },
   {
    "duration": 556,
    "start_time": "2022-04-07T17:19:24.869Z"
   },
   {
    "duration": 232,
    "start_time": "2022-04-07T17:20:32.495Z"
   },
   {
    "duration": 606,
    "start_time": "2022-04-07T17:20:52.255Z"
   },
   {
    "duration": 584,
    "start_time": "2022-04-07T17:23:19.222Z"
   },
   {
    "duration": 599,
    "start_time": "2022-04-07T17:23:40.139Z"
   },
   {
    "duration": 582,
    "start_time": "2022-04-07T17:27:00.306Z"
   },
   {
    "duration": 594,
    "start_time": "2022-04-07T17:27:15.878Z"
   },
   {
    "duration": 658,
    "start_time": "2022-04-07T17:27:25.618Z"
   },
   {
    "duration": 622,
    "start_time": "2022-04-07T17:27:32.986Z"
   },
   {
    "duration": 574,
    "start_time": "2022-04-07T17:27:39.374Z"
   },
   {
    "duration": 491,
    "start_time": "2022-04-07T17:29:12.986Z"
   },
   {
    "duration": 479,
    "start_time": "2022-04-07T17:29:34.101Z"
   },
   {
    "duration": 531,
    "start_time": "2022-04-07T17:31:13.573Z"
   },
   {
    "duration": 565,
    "start_time": "2022-04-07T17:32:18.665Z"
   },
   {
    "duration": 465,
    "start_time": "2022-04-07T17:32:59.017Z"
   },
   {
    "duration": 473,
    "start_time": "2022-04-07T17:33:45.869Z"
   },
   {
    "duration": 439,
    "start_time": "2022-04-07T17:33:57.085Z"
   },
   {
    "duration": 473,
    "start_time": "2022-04-07T17:35:07.674Z"
   },
   {
    "duration": 594,
    "start_time": "2022-04-07T17:35:17.777Z"
   },
   {
    "duration": 442,
    "start_time": "2022-04-07T17:35:31.449Z"
   },
   {
    "duration": 432,
    "start_time": "2022-04-07T17:36:01.985Z"
   },
   {
    "duration": 445,
    "start_time": "2022-04-07T17:36:26.690Z"
   },
   {
    "duration": 423,
    "start_time": "2022-04-07T17:37:25.181Z"
   },
   {
    "duration": 461,
    "start_time": "2022-04-07T17:37:43.333Z"
   },
   {
    "duration": 17,
    "start_time": "2022-04-07T17:38:22.226Z"
   },
   {
    "duration": 11,
    "start_time": "2022-04-07T17:38:40.457Z"
   },
   {
    "duration": 575,
    "start_time": "2022-04-07T17:41:15.405Z"
   },
   {
    "duration": 509,
    "start_time": "2022-04-07T17:44:02.917Z"
   },
   {
    "duration": 4,
    "start_time": "2022-04-07T17:56:43.863Z"
   },
   {
    "duration": 752,
    "start_time": "2022-04-07T17:56:44.852Z"
   },
   {
    "duration": 137,
    "start_time": "2022-04-07T17:56:45.606Z"
   },
   {
    "duration": 3,
    "start_time": "2022-04-07T17:56:47.496Z"
   },
   {
    "duration": 37,
    "start_time": "2022-04-07T17:56:49.556Z"
   },
   {
    "duration": 85,
    "start_time": "2022-04-07T17:56:50.959Z"
   },
   {
    "duration": 83,
    "start_time": "2022-04-07T17:56:52.667Z"
   },
   {
    "duration": 134,
    "start_time": "2022-04-07T17:56:55.051Z"
   },
   {
    "duration": 6,
    "start_time": "2022-04-07T17:56:56.067Z"
   },
   {
    "duration": 9120,
    "start_time": "2022-04-07T17:57:35.003Z"
   },
   {
    "duration": 16628,
    "start_time": "2022-04-07T17:57:56.548Z"
   },
   {
    "duration": 1674,
    "start_time": "2022-04-10T16:56:25.906Z"
   },
   {
    "duration": 769,
    "start_time": "2022-04-10T16:56:27.959Z"
   },
   {
    "duration": 141,
    "start_time": "2022-04-10T16:56:29.142Z"
   },
   {
    "duration": 3,
    "start_time": "2022-04-10T16:56:31.166Z"
   },
   {
    "duration": 41,
    "start_time": "2022-04-10T16:56:32.446Z"
   },
   {
    "duration": 84,
    "start_time": "2022-04-10T16:56:34.394Z"
   },
   {
    "duration": 80,
    "start_time": "2022-04-10T16:59:32.058Z"
   },
   {
    "duration": 80,
    "start_time": "2022-04-10T17:00:06.802Z"
   },
   {
    "duration": 79,
    "start_time": "2022-04-10T17:00:24.774Z"
   },
   {
    "duration": 78,
    "start_time": "2022-04-10T17:00:45.646Z"
   },
   {
    "duration": 79,
    "start_time": "2022-04-10T17:01:12.862Z"
   },
   {
    "duration": 78,
    "start_time": "2022-04-10T17:02:00.041Z"
   },
   {
    "duration": 167,
    "start_time": "2022-04-10T17:04:23.265Z"
   },
   {
    "duration": 148,
    "start_time": "2022-04-10T17:04:31.233Z"
   },
   {
    "duration": 88,
    "start_time": "2022-04-10T17:26:13.840Z"
   },
   {
    "duration": 206,
    "start_time": "2022-04-10T17:26:15.268Z"
   },
   {
    "duration": 11079,
    "start_time": "2022-04-10T17:26:16.164Z"
   },
   {
    "duration": 52,
    "start_time": "2022-04-10T17:26:27.245Z"
   },
   {
    "duration": 7198,
    "start_time": "2022-04-10T17:26:28.548Z"
   },
   {
    "duration": 3,
    "start_time": "2022-04-10T17:26:37.359Z"
   },
   {
    "duration": 167,
    "start_time": "2022-04-10T17:26:38.284Z"
   },
   {
    "duration": 179,
    "start_time": "2022-04-10T17:26:39.272Z"
   },
   {
    "duration": 948,
    "start_time": "2022-04-10T17:26:40.176Z"
   },
   {
    "duration": 492,
    "start_time": "2022-04-10T17:26:41.164Z"
   },
   {
    "duration": 17,
    "start_time": "2022-04-10T17:26:43.532Z"
   },
   {
    "duration": 11,
    "start_time": "2022-04-10T17:26:44.328Z"
   },
   {
    "duration": 43,
    "start_time": "2022-04-10T17:26:45.116Z"
   },
   {
    "duration": 2,
    "start_time": "2022-04-10T17:26:45.840Z"
   },
   {
    "duration": 425,
    "start_time": "2022-04-10T17:26:46.583Z"
   },
   {
    "duration": 5,
    "start_time": "2022-04-10T17:26:47.760Z"
   },
   {
    "duration": 11,
    "start_time": "2022-04-10T17:26:48.863Z"
   },
   {
    "duration": 391,
    "start_time": "2022-04-10T17:26:50.547Z"
   },
   {
    "duration": 14,
    "start_time": "2022-04-10T17:27:28.371Z"
   },
   {
    "duration": 686,
    "start_time": "2022-04-10T17:33:35.319Z"
   },
   {
    "duration": 4,
    "start_time": "2022-04-10T17:34:20.039Z"
   },
   {
    "duration": 95,
    "start_time": "2022-04-10T17:35:23.999Z"
   },
   {
    "duration": 9,
    "start_time": "2022-04-10T17:35:58.271Z"
   },
   {
    "duration": 8,
    "start_time": "2022-04-10T17:36:35.683Z"
   },
   {
    "duration": 4,
    "start_time": "2022-04-10T17:36:46.779Z"
   },
   {
    "duration": 4,
    "start_time": "2022-04-10T17:48:04.771Z"
   },
   {
    "duration": 667,
    "start_time": "2022-04-10T17:48:05.923Z"
   },
   {
    "duration": 127,
    "start_time": "2022-04-10T17:48:06.592Z"
   },
   {
    "duration": 3,
    "start_time": "2022-04-10T17:48:07.675Z"
   },
   {
    "duration": 200,
    "start_time": "2022-04-10T17:48:08.335Z"
   },
   {
    "duration": 4,
    "start_time": "2022-04-10T17:48:15.319Z"
   },
   {
    "duration": 1451,
    "start_time": "2022-04-10T17:48:22.403Z"
   },
   {
    "duration": 719,
    "start_time": "2022-04-10T17:48:23.856Z"
   },
   {
    "duration": 150,
    "start_time": "2022-04-10T17:48:24.576Z"
   },
   {
    "duration": 3,
    "start_time": "2022-04-10T17:48:24.729Z"
   },
   {
    "duration": 271,
    "start_time": "2022-04-10T17:48:24.734Z"
   },
   {
    "duration": 24,
    "start_time": "2022-04-10T17:48:25.006Z"
   },
   {
    "duration": 91,
    "start_time": "2022-04-10T17:48:25.032Z"
   },
   {
    "duration": 91,
    "start_time": "2022-04-10T17:48:25.125Z"
   },
   {
    "duration": 139,
    "start_time": "2022-04-10T17:48:25.218Z"
   },
   {
    "duration": 11220,
    "start_time": "2022-04-10T17:48:25.361Z"
   },
   {
    "duration": 76,
    "start_time": "2022-04-10T17:48:36.583Z"
   },
   {
    "duration": 8324,
    "start_time": "2022-04-10T17:48:36.661Z"
   },
   {
    "duration": 171,
    "start_time": "2022-04-10T17:48:44.986Z"
   },
   {
    "duration": 181,
    "start_time": "2022-04-10T17:48:45.159Z"
   },
   {
    "duration": 893,
    "start_time": "2022-04-10T17:48:45.342Z"
   },
   {
    "duration": 457,
    "start_time": "2022-04-10T17:48:46.237Z"
   },
   {
    "duration": 18,
    "start_time": "2022-04-10T17:48:46.696Z"
   },
   {
    "duration": 12,
    "start_time": "2022-04-10T17:48:46.716Z"
   },
   {
    "duration": 69,
    "start_time": "2022-04-10T17:48:46.730Z"
   },
   {
    "duration": 6,
    "start_time": "2022-04-10T17:48:46.801Z"
   },
   {
    "duration": 11,
    "start_time": "2022-04-10T17:48:46.808Z"
   },
   {
    "duration": 2,
    "start_time": "2022-04-10T17:48:46.821Z"
   },
   {
    "duration": 447,
    "start_time": "2022-04-10T17:48:46.825Z"
   },
   {
    "duration": 6,
    "start_time": "2022-04-10T17:48:47.281Z"
   },
   {
    "duration": 13,
    "start_time": "2022-04-10T17:48:47.289Z"
   },
   {
    "duration": 485,
    "start_time": "2022-04-10T17:48:47.304Z"
   },
   {
    "duration": 16,
    "start_time": "2022-04-10T17:48:47.791Z"
   },
   {
    "duration": 3,
    "start_time": "2022-04-10T17:48:47.810Z"
   },
   {
    "duration": 8,
    "start_time": "2022-04-10T17:48:47.815Z"
   },
   {
    "duration": 5,
    "start_time": "2022-04-10T17:48:47.824Z"
   },
   {
    "duration": 7,
    "start_time": "2022-04-10T17:48:47.831Z"
   },
   {
    "duration": 50,
    "start_time": "2022-04-10T17:48:47.839Z"
   },
   {
    "duration": 193,
    "start_time": "2022-04-10T17:48:47.891Z"
   },
   {
    "duration": 4,
    "start_time": "2022-04-10T17:48:48.086Z"
   },
   {
    "duration": 155,
    "start_time": "2022-04-10T17:49:54.607Z"
   },
   {
    "duration": 173,
    "start_time": "2022-04-10T17:50:09.375Z"
   },
   {
    "duration": 8,
    "start_time": "2022-04-10T17:51:03.154Z"
   },
   {
    "duration": 10,
    "start_time": "2022-04-10T17:55:02.901Z"
   },
   {
    "duration": 477,
    "start_time": "2022-04-10T17:56:28.181Z"
   },
   {
    "duration": 11,
    "start_time": "2022-04-10T17:58:11.409Z"
   },
   {
    "duration": 367,
    "start_time": "2022-04-10T17:58:24.445Z"
   },
   {
    "duration": 12,
    "start_time": "2022-04-10T17:58:37.769Z"
   },
   {
    "duration": 366,
    "start_time": "2022-04-10T17:58:39.953Z"
   },
   {
    "duration": 1654,
    "start_time": "2022-04-10T17:59:07.332Z"
   },
   {
    "duration": 778,
    "start_time": "2022-04-10T17:59:08.987Z"
   },
   {
    "duration": 148,
    "start_time": "2022-04-10T17:59:09.767Z"
   },
   {
    "duration": 3,
    "start_time": "2022-04-10T17:59:09.917Z"
   },
   {
    "duration": 287,
    "start_time": "2022-04-10T17:59:09.922Z"
   },
   {
    "duration": 23,
    "start_time": "2022-04-10T17:59:10.211Z"
   },
   {
    "duration": 108,
    "start_time": "2022-04-10T17:59:10.236Z"
   },
   {
    "duration": 86,
    "start_time": "2022-04-10T17:59:10.345Z"
   },
   {
    "duration": 140,
    "start_time": "2022-04-10T17:59:10.433Z"
   },
   {
    "duration": 8314,
    "start_time": "2022-04-10T17:59:10.576Z"
   },
   {
    "duration": 45,
    "start_time": "2022-04-10T17:59:18.892Z"
   },
   {
    "duration": 8555,
    "start_time": "2022-04-10T17:59:18.939Z"
   },
   {
    "duration": 259,
    "start_time": "2022-04-10T17:59:27.496Z"
   },
   {
    "duration": 179,
    "start_time": "2022-04-10T17:59:27.756Z"
   },
   {
    "duration": 886,
    "start_time": "2022-04-10T17:59:27.936Z"
   },
   {
    "duration": 465,
    "start_time": "2022-04-10T17:59:28.823Z"
   },
   {
    "duration": 18,
    "start_time": "2022-04-10T17:59:29.289Z"
   },
   {
    "duration": 11,
    "start_time": "2022-04-10T17:59:29.308Z"
   },
   {
    "duration": 63,
    "start_time": "2022-04-10T17:59:29.321Z"
   },
   {
    "duration": 4,
    "start_time": "2022-04-10T17:59:29.386Z"
   },
   {
    "duration": 7,
    "start_time": "2022-04-10T17:59:29.392Z"
   },
   {
    "duration": 10,
    "start_time": "2022-04-10T17:59:29.401Z"
   },
   {
    "duration": 415,
    "start_time": "2022-04-10T17:59:29.412Z"
   },
   {
    "duration": 10,
    "start_time": "2022-04-10T17:59:29.829Z"
   },
   {
    "duration": 2,
    "start_time": "2022-04-10T17:59:29.841Z"
   },
   {
    "duration": 521,
    "start_time": "2022-04-10T17:59:29.845Z"
   },
   {
    "duration": 13,
    "start_time": "2022-04-10T17:59:30.368Z"
   },
   {
    "duration": 10,
    "start_time": "2022-04-10T17:59:30.384Z"
   },
   {
    "duration": 396,
    "start_time": "2022-04-10T17:59:30.395Z"
   },
   {
    "duration": 13,
    "start_time": "2022-04-10T17:59:30.792Z"
   },
   {
    "duration": 3,
    "start_time": "2022-04-10T17:59:30.807Z"
   },
   {
    "duration": 17,
    "start_time": "2022-04-10T17:59:30.811Z"
   },
   {
    "duration": 7,
    "start_time": "2022-04-10T17:59:30.829Z"
   },
   {
    "duration": 11,
    "start_time": "2022-04-10T17:59:30.837Z"
   },
   {
    "duration": 40,
    "start_time": "2022-04-10T17:59:30.850Z"
   },
   {
    "duration": 97,
    "start_time": "2022-04-10T17:59:30.892Z"
   },
   {
    "duration": 93,
    "start_time": "2022-04-10T17:59:30.990Z"
   },
   {
    "duration": 5,
    "start_time": "2022-04-10T18:43:33.502Z"
   },
   {
    "duration": 36,
    "start_time": "2022-04-10T19:13:40.600Z"
   },
   {
    "duration": 4,
    "start_time": "2022-04-10T19:13:47.337Z"
   },
   {
    "duration": 288,
    "start_time": "2022-04-10T19:15:10.925Z"
   },
   {
    "duration": 3,
    "start_time": "2022-04-10T19:15:37.896Z"
   },
   {
    "duration": 3,
    "start_time": "2022-04-10T19:15:39.245Z"
   },
   {
    "duration": 91,
    "start_time": "2022-04-10T19:15:40.397Z"
   },
   {
    "duration": 48,
    "start_time": "2022-04-10T19:16:02.693Z"
   },
   {
    "duration": 28,
    "start_time": "2022-04-10T19:16:04.669Z"
   },
   {
    "duration": 4,
    "start_time": "2022-04-10T19:18:49.208Z"
   },
   {
    "duration": 1586,
    "start_time": "2022-04-10T19:19:25.255Z"
   },
   {
    "duration": 767,
    "start_time": "2022-04-10T19:19:26.843Z"
   },
   {
    "duration": 148,
    "start_time": "2022-04-10T19:19:27.612Z"
   },
   {
    "duration": 4,
    "start_time": "2022-04-10T19:19:27.763Z"
   },
   {
    "duration": 292,
    "start_time": "2022-04-10T19:19:27.768Z"
   },
   {
    "duration": 35,
    "start_time": "2022-04-10T19:19:28.061Z"
   },
   {
    "duration": 90,
    "start_time": "2022-04-10T19:19:28.097Z"
   },
   {
    "duration": 82,
    "start_time": "2022-04-10T19:19:28.189Z"
   },
   {
    "duration": 154,
    "start_time": "2022-04-10T19:19:28.281Z"
   },
   {
    "duration": 8332,
    "start_time": "2022-04-10T19:19:28.438Z"
   },
   {
    "duration": 51,
    "start_time": "2022-04-10T19:19:36.772Z"
   },
   {
    "duration": 7291,
    "start_time": "2022-04-10T19:19:36.825Z"
   },
   {
    "duration": 175,
    "start_time": "2022-04-10T19:19:44.117Z"
   },
   {
    "duration": 183,
    "start_time": "2022-04-10T19:19:44.293Z"
   },
   {
    "duration": 474,
    "start_time": "2022-04-10T19:19:44.478Z"
   },
   {
    "duration": 13,
    "start_time": "2022-04-10T19:19:44.954Z"
   },
   {
    "duration": 19,
    "start_time": "2022-04-10T19:19:44.981Z"
   },
   {
    "duration": 57,
    "start_time": "2022-04-10T19:19:45.002Z"
   },
   {
    "duration": 23,
    "start_time": "2022-04-10T19:19:45.061Z"
   },
   {
    "duration": 9,
    "start_time": "2022-04-10T19:19:45.085Z"
   },
   {
    "duration": 17,
    "start_time": "2022-04-10T19:19:45.096Z"
   },
   {
    "duration": 412,
    "start_time": "2022-04-10T19:19:45.115Z"
   },
   {
    "duration": 17,
    "start_time": "2022-04-10T19:19:45.529Z"
   },
   {
    "duration": 3,
    "start_time": "2022-04-10T19:19:45.547Z"
   },
   {
    "duration": 509,
    "start_time": "2022-04-10T19:19:45.552Z"
   },
   {
    "duration": 18,
    "start_time": "2022-04-10T19:19:46.063Z"
   },
   {
    "duration": 18,
    "start_time": "2022-04-10T19:19:46.083Z"
   },
   {
    "duration": 413,
    "start_time": "2022-04-10T19:19:46.104Z"
   },
   {
    "duration": 63,
    "start_time": "2022-04-10T19:19:46.518Z"
   },
   {
    "duration": 104,
    "start_time": "2022-04-10T19:19:46.583Z"
   },
   {
    "duration": 0,
    "start_time": "2022-04-10T19:19:46.688Z"
   },
   {
    "duration": 0,
    "start_time": "2022-04-10T19:19:46.689Z"
   },
   {
    "duration": 0,
    "start_time": "2022-04-10T19:19:46.690Z"
   },
   {
    "duration": 0,
    "start_time": "2022-04-10T19:19:46.691Z"
   },
   {
    "duration": 0,
    "start_time": "2022-04-10T19:19:46.692Z"
   },
   {
    "duration": 0,
    "start_time": "2022-04-10T19:19:46.693Z"
   },
   {
    "duration": 0,
    "start_time": "2022-04-10T19:19:46.694Z"
   },
   {
    "duration": 0,
    "start_time": "2022-04-10T19:19:46.695Z"
   },
   {
    "duration": 0,
    "start_time": "2022-04-10T19:19:46.696Z"
   },
   {
    "duration": 0,
    "start_time": "2022-04-10T19:19:46.697Z"
   },
   {
    "duration": 0,
    "start_time": "2022-04-10T19:19:46.698Z"
   },
   {
    "duration": 0,
    "start_time": "2022-04-10T19:19:46.699Z"
   },
   {
    "duration": 0,
    "start_time": "2022-04-10T19:19:46.700Z"
   },
   {
    "duration": 3,
    "start_time": "2022-04-10T19:20:17.704Z"
   },
   {
    "duration": 58,
    "start_time": "2022-04-10T19:20:18.596Z"
   },
   {
    "duration": 11,
    "start_time": "2022-04-10T19:20:20.396Z"
   },
   {
    "duration": 2,
    "start_time": "2022-04-10T19:20:21.053Z"
   },
   {
    "duration": 3,
    "start_time": "2022-04-10T19:20:22.164Z"
   },
   {
    "duration": 621,
    "start_time": "2022-04-10T19:20:22.708Z"
   },
   {
    "duration": 39,
    "start_time": "2022-04-10T19:20:24.052Z"
   },
   {
    "duration": 61,
    "start_time": "2022-04-10T19:20:25.524Z"
   },
   {
    "duration": 4,
    "start_time": "2022-04-10T19:21:23.704Z"
   },
   {
    "duration": 2,
    "start_time": "2022-04-10T19:22:25.467Z"
   },
   {
    "duration": 441,
    "start_time": "2022-04-10T19:22:25.887Z"
   },
   {
    "duration": 9,
    "start_time": "2022-04-10T19:22:26.375Z"
   },
   {
    "duration": 28,
    "start_time": "2022-04-10T19:22:26.907Z"
   },
   {
    "duration": 47,
    "start_time": "2022-04-10T19:22:28.046Z"
   },
   {
    "duration": 3,
    "start_time": "2022-04-10T19:22:30.116Z"
   },
   {
    "duration": 4,
    "start_time": "2022-04-10T19:22:33.815Z"
   },
   {
    "duration": 3,
    "start_time": "2022-04-10T19:22:34.791Z"
   },
   {
    "duration": 2,
    "start_time": "2022-04-10T19:22:35.607Z"
   },
   {
    "duration": 3,
    "start_time": "2022-04-10T19:22:36.255Z"
   },
   {
    "duration": 26,
    "start_time": "2022-04-10T19:22:36.959Z"
   },
   {
    "duration": 1518,
    "start_time": "2022-04-11T11:01:54.315Z"
   },
   {
    "duration": 647,
    "start_time": "2022-04-11T11:01:55.834Z"
   },
   {
    "duration": 117,
    "start_time": "2022-04-11T11:01:56.482Z"
   },
   {
    "duration": 4,
    "start_time": "2022-04-11T11:01:56.601Z"
   },
   {
    "duration": 257,
    "start_time": "2022-04-11T11:01:56.606Z"
   },
   {
    "duration": 23,
    "start_time": "2022-04-11T11:01:56.865Z"
   },
   {
    "duration": 68,
    "start_time": "2022-04-11T11:01:56.889Z"
   },
   {
    "duration": 78,
    "start_time": "2022-04-11T11:01:56.970Z"
   },
   {
    "duration": 139,
    "start_time": "2022-04-11T11:01:57.049Z"
   },
   {
    "duration": 7951,
    "start_time": "2022-04-11T11:01:57.190Z"
   },
   {
    "duration": 53,
    "start_time": "2022-04-11T11:02:05.143Z"
   },
   {
    "duration": 7172,
    "start_time": "2022-04-11T11:02:05.198Z"
   },
   {
    "duration": 165,
    "start_time": "2022-04-11T11:02:12.372Z"
   },
   {
    "duration": 181,
    "start_time": "2022-04-11T11:02:12.539Z"
   },
   {
    "duration": 465,
    "start_time": "2022-04-11T11:02:12.722Z"
   },
   {
    "duration": 12,
    "start_time": "2022-04-11T11:02:13.189Z"
   },
   {
    "duration": 17,
    "start_time": "2022-04-11T11:02:13.202Z"
   },
   {
    "duration": 78,
    "start_time": "2022-04-11T11:02:13.221Z"
   },
   {
    "duration": 5,
    "start_time": "2022-04-11T11:02:13.300Z"
   },
   {
    "duration": 8,
    "start_time": "2022-04-11T11:02:13.306Z"
   },
   {
    "duration": 17,
    "start_time": "2022-04-11T11:02:13.315Z"
   },
   {
    "duration": 411,
    "start_time": "2022-04-11T11:02:13.334Z"
   },
   {
    "duration": 25,
    "start_time": "2022-04-11T11:02:13.746Z"
   },
   {
    "duration": 3,
    "start_time": "2022-04-11T11:02:13.772Z"
   },
   {
    "duration": 511,
    "start_time": "2022-04-11T11:02:13.776Z"
   },
   {
    "duration": 7,
    "start_time": "2022-04-11T11:02:14.288Z"
   },
   {
    "duration": 20,
    "start_time": "2022-04-11T11:02:14.297Z"
   },
   {
    "duration": 412,
    "start_time": "2022-04-11T11:02:14.320Z"
   },
   {
    "duration": 51,
    "start_time": "2022-04-11T11:02:14.734Z"
   },
   {
    "duration": 4,
    "start_time": "2022-04-11T11:02:14.787Z"
   },
   {
    "duration": 60,
    "start_time": "2022-04-11T11:02:14.792Z"
   },
   {
    "duration": 4,
    "start_time": "2022-04-11T11:02:14.853Z"
   },
   {
    "duration": 2,
    "start_time": "2022-04-11T11:02:14.871Z"
   },
   {
    "duration": 569,
    "start_time": "2022-04-11T11:02:14.875Z"
   },
   {
    "duration": 11,
    "start_time": "2022-04-11T11:02:15.445Z"
   },
   {
    "duration": 36,
    "start_time": "2022-04-11T11:02:15.458Z"
   },
   {
    "duration": 175,
    "start_time": "2022-04-11T11:02:15.496Z"
   },
   {
    "duration": 3,
    "start_time": "2022-04-11T11:02:15.673Z"
   },
   {
    "duration": 98,
    "start_time": "2022-04-11T11:02:15.678Z"
   },
   {
    "duration": 4,
    "start_time": "2022-04-11T11:02:15.778Z"
   },
   {
    "duration": 4,
    "start_time": "2022-04-11T11:02:15.783Z"
   },
   {
    "duration": 5,
    "start_time": "2022-04-11T11:02:15.789Z"
   },
   {
    "duration": 234,
    "start_time": "2022-04-11T11:02:15.795Z"
   },
   {
    "duration": 4,
    "start_time": "2022-04-11T11:04:58.678Z"
   },
   {
    "duration": 12,
    "start_time": "2022-04-11T11:05:23.266Z"
   },
   {
    "duration": 5,
    "start_time": "2022-04-11T11:06:15.139Z"
   },
   {
    "duration": 1300,
    "start_time": "2022-04-11T11:06:55.515Z"
   },
   {
    "duration": 637,
    "start_time": "2022-04-11T11:06:56.817Z"
   },
   {
    "duration": 116,
    "start_time": "2022-04-11T11:06:57.455Z"
   },
   {
    "duration": 3,
    "start_time": "2022-04-11T11:06:57.573Z"
   },
   {
    "duration": 248,
    "start_time": "2022-04-11T11:06:57.577Z"
   },
   {
    "duration": 23,
    "start_time": "2022-04-11T11:06:57.827Z"
   },
   {
    "duration": 72,
    "start_time": "2022-04-11T11:06:57.852Z"
   },
   {
    "duration": 83,
    "start_time": "2022-04-11T11:06:57.926Z"
   },
   {
    "duration": 128,
    "start_time": "2022-04-11T11:06:58.011Z"
   },
   {
    "duration": 7474,
    "start_time": "2022-04-11T11:06:58.142Z"
   },
   {
    "duration": 52,
    "start_time": "2022-04-11T11:07:05.618Z"
   },
   {
    "duration": 6914,
    "start_time": "2022-04-11T11:07:05.672Z"
   },
   {
    "duration": 160,
    "start_time": "2022-04-11T11:07:12.588Z"
   },
   {
    "duration": 176,
    "start_time": "2022-04-11T11:07:12.750Z"
   },
   {
    "duration": 441,
    "start_time": "2022-04-11T11:07:12.928Z"
   },
   {
    "duration": 12,
    "start_time": "2022-04-11T11:07:13.371Z"
   },
   {
    "duration": 18,
    "start_time": "2022-04-11T11:07:13.385Z"
   },
   {
    "duration": 71,
    "start_time": "2022-04-11T11:07:13.404Z"
   },
   {
    "duration": 5,
    "start_time": "2022-04-11T11:07:13.477Z"
   },
   {
    "duration": 8,
    "start_time": "2022-04-11T11:07:13.484Z"
   },
   {
    "duration": 18,
    "start_time": "2022-04-11T11:07:13.493Z"
   },
   {
    "duration": 407,
    "start_time": "2022-04-11T11:07:13.513Z"
   },
   {
    "duration": 16,
    "start_time": "2022-04-11T11:07:13.921Z"
   },
   {
    "duration": 2,
    "start_time": "2022-04-11T11:07:13.939Z"
   },
   {
    "duration": 501,
    "start_time": "2022-04-11T11:07:13.942Z"
   },
   {
    "duration": 5,
    "start_time": "2022-04-11T11:07:14.445Z"
   },
   {
    "duration": 28,
    "start_time": "2022-04-11T11:07:14.451Z"
   },
   {
    "duration": 399,
    "start_time": "2022-04-11T11:07:14.482Z"
   },
   {
    "duration": 43,
    "start_time": "2022-04-11T11:07:14.883Z"
   },
   {
    "duration": 3,
    "start_time": "2022-04-11T11:07:14.928Z"
   },
   {
    "duration": 74,
    "start_time": "2022-04-11T11:07:14.932Z"
   },
   {
    "duration": 3,
    "start_time": "2022-04-11T11:07:15.007Z"
   },
   {
    "duration": 20,
    "start_time": "2022-04-11T11:07:15.011Z"
   },
   {
    "duration": 534,
    "start_time": "2022-04-11T11:07:15.033Z"
   },
   {
    "duration": 11,
    "start_time": "2022-04-11T11:07:15.568Z"
   },
   {
    "duration": 30,
    "start_time": "2022-04-11T11:07:15.581Z"
   },
   {
    "duration": 72,
    "start_time": "2022-04-11T11:07:15.613Z"
   },
   {
    "duration": 86,
    "start_time": "2022-04-11T11:07:15.686Z"
   },
   {
    "duration": 2,
    "start_time": "2022-04-11T11:07:15.774Z"
   },
   {
    "duration": 2,
    "start_time": "2022-04-11T11:07:15.778Z"
   },
   {
    "duration": 13,
    "start_time": "2022-04-11T11:07:15.871Z"
   },
   {
    "duration": 135359,
    "start_time": "2022-04-11T11:07:15.886Z"
   },
   {
    "duration": 124,
    "start_time": "2022-04-11T11:20:32.346Z"
   },
   {
    "duration": 71,
    "start_time": "2022-04-11T11:20:50.102Z"
   },
   {
    "duration": 44,
    "start_time": "2022-04-11T11:23:58.250Z"
   },
   {
    "duration": 76,
    "start_time": "2022-04-11T11:25:31.994Z"
   },
   {
    "duration": 653,
    "start_time": "2022-04-11T11:37:38.905Z"
   },
   {
    "duration": 4,
    "start_time": "2022-04-11T11:53:41.168Z"
   },
   {
    "duration": 1964,
    "start_time": "2022-04-11T12:13:51.653Z"
   },
   {
    "duration": 934,
    "start_time": "2022-04-11T12:13:53.619Z"
   },
   {
    "duration": 151,
    "start_time": "2022-04-11T12:13:54.554Z"
   },
   {
    "duration": 4,
    "start_time": "2022-04-11T12:13:54.708Z"
   },
   {
    "duration": 280,
    "start_time": "2022-04-11T12:13:54.713Z"
   },
   {
    "duration": 28,
    "start_time": "2022-04-11T12:13:54.995Z"
   },
   {
    "duration": 140,
    "start_time": "2022-04-11T12:13:55.024Z"
   },
   {
    "duration": 84,
    "start_time": "2022-04-11T12:13:55.165Z"
   },
   {
    "duration": 150,
    "start_time": "2022-04-11T12:13:55.251Z"
   },
   {
    "duration": 9816,
    "start_time": "2022-04-11T12:13:55.404Z"
   },
   {
    "duration": 54,
    "start_time": "2022-04-11T12:14:05.222Z"
   },
   {
    "duration": 7850,
    "start_time": "2022-04-11T12:14:05.278Z"
   },
   {
    "duration": 167,
    "start_time": "2022-04-11T12:14:13.129Z"
   },
   {
    "duration": 184,
    "start_time": "2022-04-11T12:14:13.297Z"
   },
   {
    "duration": 477,
    "start_time": "2022-04-11T12:14:13.483Z"
   },
   {
    "duration": 17,
    "start_time": "2022-04-11T12:14:13.962Z"
   },
   {
    "duration": 18,
    "start_time": "2022-04-11T12:14:13.981Z"
   },
   {
    "duration": 72,
    "start_time": "2022-04-11T12:14:14.001Z"
   },
   {
    "duration": 4,
    "start_time": "2022-04-11T12:14:14.075Z"
   },
   {
    "duration": 10,
    "start_time": "2022-04-11T12:14:14.081Z"
   },
   {
    "duration": 19,
    "start_time": "2022-04-11T12:14:14.093Z"
   },
   {
    "duration": 457,
    "start_time": "2022-04-11T12:14:14.113Z"
   },
   {
    "duration": 16,
    "start_time": "2022-04-11T12:14:14.572Z"
   },
   {
    "duration": 2,
    "start_time": "2022-04-11T12:14:14.590Z"
   },
   {
    "duration": 527,
    "start_time": "2022-04-11T12:14:14.594Z"
   },
   {
    "duration": 7,
    "start_time": "2022-04-11T12:14:15.122Z"
   },
   {
    "duration": 19,
    "start_time": "2022-04-11T12:14:15.130Z"
   },
   {
    "duration": 419,
    "start_time": "2022-04-11T12:14:15.170Z"
   },
   {
    "duration": 49,
    "start_time": "2022-04-11T12:14:15.591Z"
   },
   {
    "duration": 3,
    "start_time": "2022-04-11T12:14:15.642Z"
   },
   {
    "duration": 75,
    "start_time": "2022-04-11T12:14:15.647Z"
   },
   {
    "duration": 3,
    "start_time": "2022-04-11T12:14:15.724Z"
   },
   {
    "duration": 6,
    "start_time": "2022-04-11T12:14:15.728Z"
   },
   {
    "duration": 6,
    "start_time": "2022-04-11T12:14:15.735Z"
   },
   {
    "duration": 4,
    "start_time": "2022-04-11T12:14:15.743Z"
   },
   {
    "duration": 612,
    "start_time": "2022-04-11T12:14:15.749Z"
   },
   {
    "duration": 16,
    "start_time": "2022-04-11T12:14:16.362Z"
   },
   {
    "duration": 98,
    "start_time": "2022-04-11T12:14:16.380Z"
   },
   {
    "duration": 192,
    "start_time": "2022-04-11T12:14:16.480Z"
   },
   {
    "duration": 143,
    "start_time": "2022-04-11T12:14:16.674Z"
   },
   {
    "duration": 0,
    "start_time": "2022-04-11T12:14:16.819Z"
   },
   {
    "duration": 0,
    "start_time": "2022-04-11T12:14:16.820Z"
   },
   {
    "duration": 0,
    "start_time": "2022-04-11T12:14:16.821Z"
   },
   {
    "duration": 0,
    "start_time": "2022-04-11T12:14:16.823Z"
   },
   {
    "duration": 83,
    "start_time": "2022-04-11T12:16:08.400Z"
   },
   {
    "duration": 307,
    "start_time": "2022-04-11T12:16:09.864Z"
   },
   {
    "duration": 256,
    "start_time": "2022-04-11T12:16:11.516Z"
   },
   {
    "duration": 248,
    "start_time": "2022-04-11T12:16:36.924Z"
   },
   {
    "duration": 178,
    "start_time": "2022-04-11T12:16:59.296Z"
   },
   {
    "duration": 54,
    "start_time": "2022-04-11T12:17:08.124Z"
   },
   {
    "duration": 170,
    "start_time": "2022-04-11T12:18:06.508Z"
   },
   {
    "duration": 227,
    "start_time": "2022-04-11T12:18:07.148Z"
   },
   {
    "duration": 5,
    "start_time": "2022-04-11T12:22:04.476Z"
   },
   {
    "duration": 2,
    "start_time": "2022-04-11T12:22:04.992Z"
   },
   {
    "duration": 649,
    "start_time": "2022-04-11T12:22:05.452Z"
   },
   {
    "duration": 13,
    "start_time": "2022-04-11T12:22:06.103Z"
   },
   {
    "duration": 88,
    "start_time": "2022-04-11T12:22:06.532Z"
   },
   {
    "duration": 164,
    "start_time": "2022-04-11T12:22:50.316Z"
   },
   {
    "duration": 67,
    "start_time": "2022-04-11T12:22:51.904Z"
   },
   {
    "duration": 9,
    "start_time": "2022-04-11T12:22:54.075Z"
   },
   {
    "duration": 48,
    "start_time": "2022-04-11T12:25:24.324Z"
   },
   {
    "duration": 188,
    "start_time": "2022-04-11T12:26:06.883Z"
   },
   {
    "duration": 267,
    "start_time": "2022-04-11T12:27:27.503Z"
   },
   {
    "duration": 195,
    "start_time": "2022-04-11T12:27:44.580Z"
   },
   {
    "duration": 10,
    "start_time": "2022-04-11T12:44:02.786Z"
   },
   {
    "duration": 4,
    "start_time": "2022-04-11T12:44:24.578Z"
   },
   {
    "duration": 846,
    "start_time": "2022-04-11T12:44:33.250Z"
   },
   {
    "duration": 973,
    "start_time": "2022-04-11T12:45:06.502Z"
   },
   {
    "duration": 813,
    "start_time": "2022-04-11T12:45:53.674Z"
   },
   {
    "duration": 3,
    "start_time": "2022-04-11T12:58:45.749Z"
   },
   {
    "duration": 1334,
    "start_time": "2022-04-11T12:58:57.316Z"
   },
   {
    "duration": 3,
    "start_time": "2022-04-11T12:59:47.492Z"
   },
   {
    "duration": 3,
    "start_time": "2022-04-11T13:00:48.433Z"
   },
   {
    "duration": 1083,
    "start_time": "2022-04-11T13:00:53.692Z"
   },
   {
    "duration": 999,
    "start_time": "2022-04-11T13:01:37.688Z"
   },
   {
    "duration": 77,
    "start_time": "2022-04-11T13:04:59.100Z"
   },
   {
    "duration": 1433,
    "start_time": "2022-04-11T13:05:01.440Z"
   },
   {
    "duration": 1314,
    "start_time": "2022-04-11T13:05:09.768Z"
   },
   {
    "duration": 1346,
    "start_time": "2022-04-11T13:05:53.124Z"
   },
   {
    "duration": 850,
    "start_time": "2022-04-11T13:07:15.948Z"
   },
   {
    "duration": 66,
    "start_time": "2022-04-11T13:07:19.208Z"
   },
   {
    "duration": 3,
    "start_time": "2022-04-11T13:07:20.796Z"
   },
   {
    "duration": 907,
    "start_time": "2022-04-11T13:08:08.964Z"
   },
   {
    "duration": 67,
    "start_time": "2022-04-11T13:08:12.008Z"
   },
   {
    "duration": 4,
    "start_time": "2022-04-11T13:08:31.783Z"
   },
   {
    "duration": 3,
    "start_time": "2022-04-11T13:09:07.396Z"
   },
   {
    "duration": 10,
    "start_time": "2022-04-11T13:17:34.380Z"
   },
   {
    "duration": 21,
    "start_time": "2022-04-11T13:18:14.192Z"
   },
   {
    "duration": 15,
    "start_time": "2022-04-11T13:18:44.792Z"
   },
   {
    "duration": 52694,
    "start_time": "2022-04-11T13:19:00.415Z"
   },
   {
    "duration": 4,
    "start_time": "2022-04-11T13:22:20.271Z"
   },
   {
    "duration": 52579,
    "start_time": "2022-04-11T13:28:59.007Z"
   },
   {
    "duration": 166,
    "start_time": "2022-04-11T13:31:05.314Z"
   },
   {
    "duration": 50128,
    "start_time": "2022-04-11T13:31:19.090Z"
   },
   {
    "duration": 5,
    "start_time": "2022-04-11T13:32:21.930Z"
   },
   {
    "duration": 2828,
    "start_time": "2022-04-11T13:33:00.102Z"
   },
   {
    "duration": 162,
    "start_time": "2022-04-11T13:33:14.162Z"
   },
   {
    "duration": 57,
    "start_time": "2022-04-11T13:33:22.803Z"
   },
   {
    "duration": 72,
    "start_time": "2022-04-11T13:33:57.603Z"
   },
   {
    "duration": 55,
    "start_time": "2022-04-11T13:34:45.938Z"
   },
   {
    "duration": 52,
    "start_time": "2022-04-11T13:37:05.926Z"
   },
   {
    "duration": 4,
    "start_time": "2022-04-11T13:38:14.562Z"
   },
   {
    "duration": 26351,
    "start_time": "2022-04-11T13:38:38.574Z"
   },
   {
    "duration": 137,
    "start_time": "2022-04-11T13:43:07.142Z"
   },
   {
    "duration": 137,
    "start_time": "2022-04-11T13:43:19.469Z"
   },
   {
    "duration": 26685,
    "start_time": "2022-04-11T13:44:10.213Z"
   },
   {
    "duration": 5,
    "start_time": "2022-04-11T13:44:43.677Z"
   },
   {
    "duration": 14278,
    "start_time": "2022-04-11T13:46:25.714Z"
   },
   {
    "duration": 26457,
    "start_time": "2022-04-11T13:46:46.285Z"
   },
   {
    "duration": 147,
    "start_time": "2022-04-11T13:48:20.109Z"
   },
   {
    "duration": 133,
    "start_time": "2022-04-11T13:48:28.805Z"
   },
   {
    "duration": 27191,
    "start_time": "2022-04-11T13:49:04.045Z"
   },
   {
    "duration": 386,
    "start_time": "2022-04-11T13:54:13.984Z"
   },
   {
    "duration": 4,
    "start_time": "2022-04-11T13:57:13.076Z"
   },
   {
    "duration": 359,
    "start_time": "2022-04-11T13:57:15.088Z"
   },
   {
    "duration": 354,
    "start_time": "2022-04-11T13:57:25.181Z"
   },
   {
    "duration": 25387,
    "start_time": "2022-04-11T14:01:34.388Z"
   },
   {
    "duration": 4,
    "start_time": "2022-04-11T14:02:05.120Z"
   },
   {
    "duration": 11,
    "start_time": "2022-04-11T14:02:05.953Z"
   },
   {
    "duration": 1443,
    "start_time": "2022-04-11T14:21:40.143Z"
   },
   {
    "duration": 718,
    "start_time": "2022-04-11T14:21:41.588Z"
   },
   {
    "duration": 129,
    "start_time": "2022-04-11T14:21:42.308Z"
   },
   {
    "duration": 4,
    "start_time": "2022-04-11T14:21:42.439Z"
   },
   {
    "duration": 275,
    "start_time": "2022-04-11T14:21:42.444Z"
   },
   {
    "duration": 25,
    "start_time": "2022-04-11T14:21:42.721Z"
   },
   {
    "duration": 78,
    "start_time": "2022-04-11T14:21:42.748Z"
   },
   {
    "duration": 84,
    "start_time": "2022-04-11T14:21:42.828Z"
   },
   {
    "duration": 143,
    "start_time": "2022-04-11T14:21:42.914Z"
   },
   {
    "duration": 8013,
    "start_time": "2022-04-11T14:21:43.059Z"
   },
   {
    "duration": 44,
    "start_time": "2022-04-11T14:21:51.073Z"
   },
   {
    "duration": 7205,
    "start_time": "2022-04-11T14:21:51.119Z"
   },
   {
    "duration": 167,
    "start_time": "2022-04-11T14:21:58.326Z"
   },
   {
    "duration": 183,
    "start_time": "2022-04-11T14:21:58.495Z"
   },
   {
    "duration": 470,
    "start_time": "2022-04-11T14:21:58.680Z"
   },
   {
    "duration": 23,
    "start_time": "2022-04-11T14:21:59.152Z"
   },
   {
    "duration": 20,
    "start_time": "2022-04-11T14:21:59.176Z"
   },
   {
    "duration": 73,
    "start_time": "2022-04-11T14:21:59.197Z"
   },
   {
    "duration": 5,
    "start_time": "2022-04-11T14:21:59.272Z"
   },
   {
    "duration": 11,
    "start_time": "2022-04-11T14:21:59.279Z"
   },
   {
    "duration": 17,
    "start_time": "2022-04-11T14:21:59.292Z"
   },
   {
    "duration": 419,
    "start_time": "2022-04-11T14:21:59.311Z"
   },
   {
    "duration": 16,
    "start_time": "2022-04-11T14:21:59.732Z"
   },
   {
    "duration": 2,
    "start_time": "2022-04-11T14:21:59.750Z"
   },
   {
    "duration": 547,
    "start_time": "2022-04-11T14:21:59.754Z"
   },
   {
    "duration": 5,
    "start_time": "2022-04-11T14:22:00.303Z"
   },
   {
    "duration": 23,
    "start_time": "2022-04-11T14:22:00.310Z"
   },
   {
    "duration": 663,
    "start_time": "2022-04-11T14:22:00.336Z"
   },
   {
    "duration": 47,
    "start_time": "2022-04-11T14:22:01.001Z"
   },
   {
    "duration": 3,
    "start_time": "2022-04-11T14:22:01.050Z"
   },
   {
    "duration": 64,
    "start_time": "2022-04-11T14:22:01.055Z"
   },
   {
    "duration": 3,
    "start_time": "2022-04-11T14:22:01.121Z"
   },
   {
    "duration": 10,
    "start_time": "2022-04-11T14:22:01.125Z"
   },
   {
    "duration": 38,
    "start_time": "2022-04-11T14:22:01.136Z"
   },
   {
    "duration": 9,
    "start_time": "2022-04-11T14:22:01.176Z"
   },
   {
    "duration": 771,
    "start_time": "2022-04-11T14:22:01.187Z"
   },
   {
    "duration": 17,
    "start_time": "2022-04-11T14:22:01.960Z"
   },
   {
    "duration": 118,
    "start_time": "2022-04-11T14:22:01.979Z"
   },
   {
    "duration": 874,
    "start_time": "2022-04-11T14:22:02.099Z"
   },
   {
    "duration": 122,
    "start_time": "2022-04-11T14:22:02.978Z"
   },
   {
    "duration": 71,
    "start_time": "2022-04-11T14:22:03.102Z"
   },
   {
    "duration": 1497,
    "start_time": "2022-04-11T14:22:03.175Z"
   },
   {
    "duration": 214,
    "start_time": "2022-04-11T14:22:04.674Z"
   },
   {
    "duration": 3,
    "start_time": "2022-04-11T14:22:04.971Z"
   },
   {
    "duration": 5,
    "start_time": "2022-04-11T14:22:04.975Z"
   },
   {
    "duration": 35349,
    "start_time": "2022-04-11T14:22:04.982Z"
   },
   {
    "duration": 4,
    "start_time": "2022-04-11T14:22:40.333Z"
   },
   {
    "duration": 538,
    "start_time": "2022-04-11T14:22:40.339Z"
   },
   {
    "duration": 3,
    "start_time": "2022-04-11T14:22:40.879Z"
   },
   {
    "duration": 3504,
    "start_time": "2022-04-11T14:22:40.883Z"
   },
   {
    "duration": 11,
    "start_time": "2022-04-11T14:22:44.388Z"
   },
   {
    "duration": 0,
    "start_time": "2022-04-11T14:22:44.401Z"
   },
   {
    "duration": 0,
    "start_time": "2022-04-11T14:22:44.403Z"
   },
   {
    "duration": 0,
    "start_time": "2022-04-11T14:22:44.404Z"
   },
   {
    "duration": 0,
    "start_time": "2022-04-11T14:22:44.406Z"
   },
   {
    "duration": 4,
    "start_time": "2022-04-11T14:24:26.199Z"
   },
   {
    "duration": 3237,
    "start_time": "2022-04-11T14:24:30.147Z"
   },
   {
    "duration": 3,
    "start_time": "2022-04-11T14:26:48.938Z"
   },
   {
    "duration": 4,
    "start_time": "2022-04-11T14:27:48.734Z"
   },
   {
    "duration": 3,
    "start_time": "2022-04-11T14:29:24.586Z"
   },
   {
    "duration": 3,
    "start_time": "2022-04-11T14:29:25.655Z"
   },
   {
    "duration": 3396,
    "start_time": "2022-04-11T14:29:27.478Z"
   },
   {
    "duration": 2,
    "start_time": "2022-04-11T14:29:49.407Z"
   },
   {
    "duration": 4,
    "start_time": "2022-04-11T14:29:51.615Z"
   },
   {
    "duration": 3386,
    "start_time": "2022-04-11T14:29:57.040Z"
   },
   {
    "duration": 1396,
    "start_time": "2022-04-11T14:35:09.306Z"
   },
   {
    "duration": 668,
    "start_time": "2022-04-11T14:35:10.704Z"
   },
   {
    "duration": 127,
    "start_time": "2022-04-11T14:35:11.374Z"
   },
   {
    "duration": 3,
    "start_time": "2022-04-11T14:35:11.503Z"
   },
   {
    "duration": 252,
    "start_time": "2022-04-11T14:35:11.507Z"
   },
   {
    "duration": 22,
    "start_time": "2022-04-11T14:35:11.760Z"
   },
   {
    "duration": 66,
    "start_time": "2022-04-11T14:35:11.784Z"
   },
   {
    "duration": 87,
    "start_time": "2022-04-11T14:35:11.851Z"
   },
   {
    "duration": 137,
    "start_time": "2022-04-11T14:35:11.940Z"
   },
   {
    "duration": 7965,
    "start_time": "2022-04-11T14:35:12.079Z"
   },
   {
    "duration": 51,
    "start_time": "2022-04-11T14:35:20.046Z"
   },
   {
    "duration": 7243,
    "start_time": "2022-04-11T14:35:20.099Z"
   },
   {
    "duration": 161,
    "start_time": "2022-04-11T14:35:27.343Z"
   },
   {
    "duration": 176,
    "start_time": "2022-04-11T14:35:27.506Z"
   },
   {
    "duration": 466,
    "start_time": "2022-04-11T14:35:27.683Z"
   },
   {
    "duration": 20,
    "start_time": "2022-04-11T14:35:28.151Z"
   },
   {
    "duration": 17,
    "start_time": "2022-04-11T14:35:28.173Z"
   },
   {
    "duration": 56,
    "start_time": "2022-04-11T14:35:28.192Z"
   },
   {
    "duration": 21,
    "start_time": "2022-04-11T14:35:28.250Z"
   },
   {
    "duration": 7,
    "start_time": "2022-04-11T14:35:28.272Z"
   },
   {
    "duration": 16,
    "start_time": "2022-04-11T14:35:28.281Z"
   },
   {
    "duration": 415,
    "start_time": "2022-04-11T14:35:28.299Z"
   },
   {
    "duration": 16,
    "start_time": "2022-04-11T14:35:28.716Z"
   },
   {
    "duration": 3,
    "start_time": "2022-04-11T14:35:28.733Z"
   },
   {
    "duration": 521,
    "start_time": "2022-04-11T14:35:28.737Z"
   },
   {
    "duration": 15,
    "start_time": "2022-04-11T14:35:29.260Z"
   },
   {
    "duration": 16,
    "start_time": "2022-04-11T14:35:29.277Z"
   },
   {
    "duration": 407,
    "start_time": "2022-04-11T14:35:29.298Z"
   },
   {
    "duration": 44,
    "start_time": "2022-04-11T14:35:29.707Z"
   },
   {
    "duration": 3,
    "start_time": "2022-04-11T14:35:29.753Z"
   },
   {
    "duration": 61,
    "start_time": "2022-04-11T14:35:29.758Z"
   },
   {
    "duration": 3,
    "start_time": "2022-04-11T14:35:29.820Z"
   },
   {
    "duration": 5,
    "start_time": "2022-04-11T14:35:29.824Z"
   },
   {
    "duration": 8,
    "start_time": "2022-04-11T14:35:29.831Z"
   },
   {
    "duration": 4,
    "start_time": "2022-04-11T14:35:29.840Z"
   },
   {
    "duration": 591,
    "start_time": "2022-04-11T14:35:29.846Z"
   },
   {
    "duration": 11,
    "start_time": "2022-04-11T14:35:30.439Z"
   },
   {
    "duration": 101,
    "start_time": "2022-04-11T14:35:30.452Z"
   },
   {
    "duration": 836,
    "start_time": "2022-04-11T14:35:30.555Z"
   },
   {
    "duration": 276,
    "start_time": "2022-04-11T14:35:31.394Z"
   },
   {
    "duration": 4,
    "start_time": "2022-04-11T14:35:31.672Z"
   },
   {
    "duration": 1023,
    "start_time": "2022-04-11T14:35:31.678Z"
   },
   {
    "duration": 183,
    "start_time": "2022-04-11T14:35:32.703Z"
   },
   {
    "duration": 83,
    "start_time": "2022-04-11T14:35:32.889Z"
   },
   {
    "duration": 112,
    "start_time": "2022-04-11T14:35:32.974Z"
   },
   {
    "duration": 26223,
    "start_time": "2022-04-11T14:35:33.087Z"
   },
   {
    "duration": 4,
    "start_time": "2022-04-11T14:35:59.312Z"
   },
   {
    "duration": 374,
    "start_time": "2022-04-11T14:35:59.318Z"
   },
   {
    "duration": 4,
    "start_time": "2022-04-11T14:35:59.694Z"
   },
   {
    "duration": 5,
    "start_time": "2022-04-11T14:35:59.699Z"
   },
   {
    "duration": 5,
    "start_time": "2022-04-11T14:35:59.706Z"
   },
   {
    "duration": 145079,
    "start_time": "2022-04-11T14:35:59.712Z"
   },
   {
    "duration": 150,
    "start_time": "2022-04-11T14:38:24.793Z"
   },
   {
    "duration": 0,
    "start_time": "2022-04-11T14:38:24.946Z"
   },
   {
    "duration": 0,
    "start_time": "2022-04-11T14:38:24.947Z"
   },
   {
    "duration": 0,
    "start_time": "2022-04-11T14:38:24.948Z"
   },
   {
    "duration": 0,
    "start_time": "2022-04-11T14:38:24.950Z"
   },
   {
    "duration": 3235,
    "start_time": "2022-04-11T14:39:19.757Z"
   },
   {
    "duration": 50,
    "start_time": "2022-04-11T14:40:32.493Z"
   },
   {
    "duration": 2,
    "start_time": "2022-04-11T14:40:34.402Z"
   },
   {
    "duration": 2,
    "start_time": "2022-04-11T14:40:34.674Z"
   },
   {
    "duration": 3378,
    "start_time": "2022-04-11T14:40:36.358Z"
   },
   {
    "duration": 3,
    "start_time": "2022-04-11T14:44:53.018Z"
   },
   {
    "duration": 157308,
    "start_time": "2022-04-11T14:44:54.117Z"
   },
   {
    "duration": 565,
    "start_time": "2022-04-11T14:47:51.129Z"
   },
   {
    "duration": 3,
    "start_time": "2022-04-11T14:48:29.921Z"
   },
   {
    "duration": 115,
    "start_time": "2022-04-11T14:48:38.293Z"
   },
   {
    "duration": 5,
    "start_time": "2022-04-11T14:51:11.373Z"
   },
   {
    "duration": 54214,
    "start_time": "2022-04-11T14:51:20.585Z"
   },
   {
    "duration": 3,
    "start_time": "2022-04-11T14:52:38.421Z"
   },
   {
    "duration": 546726,
    "start_time": "2022-04-11T14:52:39.653Z"
   },
   {
    "duration": 4,
    "start_time": "2022-04-11T15:04:09.060Z"
   },
   {
    "duration": 10415,
    "start_time": "2022-04-11T15:04:10.556Z"
   },
   {
    "duration": 3,
    "start_time": "2022-04-11T16:04:28.033Z"
   },
   {
    "duration": 1464,
    "start_time": "2022-04-11T16:39:12.471Z"
   },
   {
    "duration": 815,
    "start_time": "2022-04-11T16:39:13.937Z"
   },
   {
    "duration": 106,
    "start_time": "2022-04-11T16:39:14.754Z"
   },
   {
    "duration": 4,
    "start_time": "2022-04-11T16:39:14.862Z"
   },
   {
    "duration": 121,
    "start_time": "2022-04-11T16:39:14.867Z"
   },
   {
    "duration": 0,
    "start_time": "2022-04-11T16:39:14.992Z"
   },
   {
    "duration": 0,
    "start_time": "2022-04-11T16:39:14.993Z"
   },
   {
    "duration": 0,
    "start_time": "2022-04-11T16:39:14.995Z"
   },
   {
    "duration": 0,
    "start_time": "2022-04-11T16:39:14.996Z"
   },
   {
    "duration": 0,
    "start_time": "2022-04-11T16:39:14.997Z"
   },
   {
    "duration": 0,
    "start_time": "2022-04-11T16:39:14.999Z"
   },
   {
    "duration": 0,
    "start_time": "2022-04-11T16:39:15.007Z"
   },
   {
    "duration": 0,
    "start_time": "2022-04-11T16:39:15.024Z"
   },
   {
    "duration": 0,
    "start_time": "2022-04-11T16:39:15.025Z"
   },
   {
    "duration": 0,
    "start_time": "2022-04-11T16:39:15.026Z"
   },
   {
    "duration": 0,
    "start_time": "2022-04-11T16:39:15.028Z"
   },
   {
    "duration": 0,
    "start_time": "2022-04-11T16:39:15.029Z"
   },
   {
    "duration": 0,
    "start_time": "2022-04-11T16:39:15.030Z"
   },
   {
    "duration": 0,
    "start_time": "2022-04-11T16:39:15.032Z"
   },
   {
    "duration": 0,
    "start_time": "2022-04-11T16:39:15.033Z"
   },
   {
    "duration": 0,
    "start_time": "2022-04-11T16:39:15.034Z"
   },
   {
    "duration": 0,
    "start_time": "2022-04-11T16:39:15.036Z"
   },
   {
    "duration": 0,
    "start_time": "2022-04-11T16:39:15.037Z"
   },
   {
    "duration": 1,
    "start_time": "2022-04-11T16:39:15.038Z"
   },
   {
    "duration": 0,
    "start_time": "2022-04-11T16:39:15.040Z"
   },
   {
    "duration": 0,
    "start_time": "2022-04-11T16:39:15.042Z"
   },
   {
    "duration": 0,
    "start_time": "2022-04-11T16:39:15.043Z"
   },
   {
    "duration": 0,
    "start_time": "2022-04-11T16:39:15.044Z"
   },
   {
    "duration": 0,
    "start_time": "2022-04-11T16:39:15.046Z"
   },
   {
    "duration": 0,
    "start_time": "2022-04-11T16:39:15.047Z"
   },
   {
    "duration": 0,
    "start_time": "2022-04-11T16:39:15.048Z"
   },
   {
    "duration": 0,
    "start_time": "2022-04-11T16:39:15.049Z"
   },
   {
    "duration": 0,
    "start_time": "2022-04-11T16:39:15.050Z"
   },
   {
    "duration": 0,
    "start_time": "2022-04-11T16:39:15.051Z"
   },
   {
    "duration": 0,
    "start_time": "2022-04-11T16:39:15.052Z"
   },
   {
    "duration": 0,
    "start_time": "2022-04-11T16:39:15.053Z"
   },
   {
    "duration": 0,
    "start_time": "2022-04-11T16:39:15.054Z"
   },
   {
    "duration": 0,
    "start_time": "2022-04-11T16:39:15.055Z"
   },
   {
    "duration": 0,
    "start_time": "2022-04-11T16:39:15.056Z"
   },
   {
    "duration": 0,
    "start_time": "2022-04-11T16:39:15.057Z"
   },
   {
    "duration": 0,
    "start_time": "2022-04-11T16:39:15.058Z"
   },
   {
    "duration": 0,
    "start_time": "2022-04-11T16:39:15.059Z"
   },
   {
    "duration": 0,
    "start_time": "2022-04-11T16:39:15.060Z"
   },
   {
    "duration": 0,
    "start_time": "2022-04-11T16:39:15.060Z"
   },
   {
    "duration": 0,
    "start_time": "2022-04-11T16:39:15.124Z"
   },
   {
    "duration": 0,
    "start_time": "2022-04-11T16:39:15.126Z"
   },
   {
    "duration": 0,
    "start_time": "2022-04-11T16:39:15.126Z"
   },
   {
    "duration": 0,
    "start_time": "2022-04-11T16:39:15.127Z"
   },
   {
    "duration": 0,
    "start_time": "2022-04-11T16:39:15.129Z"
   },
   {
    "duration": 0,
    "start_time": "2022-04-11T16:39:15.129Z"
   },
   {
    "duration": 0,
    "start_time": "2022-04-11T16:39:15.130Z"
   },
   {
    "duration": 0,
    "start_time": "2022-04-11T16:39:15.131Z"
   },
   {
    "duration": 0,
    "start_time": "2022-04-11T16:39:15.133Z"
   },
   {
    "duration": 0,
    "start_time": "2022-04-11T16:39:15.135Z"
   },
   {
    "duration": 0,
    "start_time": "2022-04-11T16:39:15.136Z"
   },
   {
    "duration": 1,
    "start_time": "2022-04-11T16:39:15.137Z"
   },
   {
    "duration": 0,
    "start_time": "2022-04-11T16:39:15.139Z"
   },
   {
    "duration": 103,
    "start_time": "2022-04-11T16:39:58.771Z"
   },
   {
    "duration": 81,
    "start_time": "2022-04-11T16:40:37.911Z"
   },
   {
    "duration": 1725,
    "start_time": "2022-04-11T16:40:54.418Z"
   },
   {
    "duration": 793,
    "start_time": "2022-04-11T16:40:56.146Z"
   },
   {
    "duration": 139,
    "start_time": "2022-04-11T16:40:56.941Z"
   },
   {
    "duration": 3,
    "start_time": "2022-04-11T16:40:57.082Z"
   },
   {
    "duration": 128,
    "start_time": "2022-04-11T16:40:57.087Z"
   },
   {
    "duration": 110,
    "start_time": "2022-04-11T16:40:57.217Z"
   },
   {
    "duration": 274,
    "start_time": "2022-04-11T16:40:57.329Z"
   },
   {
    "duration": 34,
    "start_time": "2022-04-11T16:40:57.605Z"
   },
   {
    "duration": 158,
    "start_time": "2022-04-11T16:40:57.641Z"
   },
   {
    "duration": 8346,
    "start_time": "2022-04-11T16:40:57.802Z"
   },
   {
    "duration": 45,
    "start_time": "2022-04-11T16:41:06.150Z"
   },
   {
    "duration": 7629,
    "start_time": "2022-04-11T16:41:06.196Z"
   },
   {
    "duration": 177,
    "start_time": "2022-04-11T16:41:13.827Z"
   },
   {
    "duration": 208,
    "start_time": "2022-04-11T16:41:14.007Z"
   },
   {
    "duration": 568,
    "start_time": "2022-04-11T16:41:14.216Z"
   },
   {
    "duration": 15,
    "start_time": "2022-04-11T16:41:14.786Z"
   },
   {
    "duration": 24,
    "start_time": "2022-04-11T16:41:14.803Z"
   },
   {
    "duration": 62,
    "start_time": "2022-04-11T16:41:14.829Z"
   },
   {
    "duration": 31,
    "start_time": "2022-04-11T16:41:14.893Z"
   },
   {
    "duration": 10,
    "start_time": "2022-04-11T16:41:14.926Z"
   },
   {
    "duration": 20,
    "start_time": "2022-04-11T16:41:14.938Z"
   },
   {
    "duration": 452,
    "start_time": "2022-04-11T16:41:14.960Z"
   },
   {
    "duration": 27,
    "start_time": "2022-04-11T16:41:15.414Z"
   },
   {
    "duration": 2,
    "start_time": "2022-04-11T16:41:15.444Z"
   },
   {
    "duration": 546,
    "start_time": "2022-04-11T16:41:15.448Z"
   },
   {
    "duration": 8,
    "start_time": "2022-04-11T16:41:15.996Z"
   },
   {
    "duration": 34,
    "start_time": "2022-04-11T16:41:16.005Z"
   },
   {
    "duration": 484,
    "start_time": "2022-04-11T16:41:16.043Z"
   },
   {
    "duration": 63,
    "start_time": "2022-04-11T16:41:16.529Z"
   },
   {
    "duration": 3,
    "start_time": "2022-04-11T16:41:16.594Z"
   },
   {
    "duration": 28,
    "start_time": "2022-04-11T16:41:16.599Z"
   },
   {
    "duration": 691,
    "start_time": "2022-04-11T16:41:16.628Z"
   },
   {
    "duration": 13,
    "start_time": "2022-04-11T16:41:17.324Z"
   },
   {
    "duration": 56,
    "start_time": "2022-04-11T16:41:17.338Z"
   },
   {
    "duration": 59,
    "start_time": "2022-04-11T16:41:17.396Z"
   },
   {
    "duration": 875,
    "start_time": "2022-04-11T16:41:17.457Z"
   },
   {
    "duration": 190,
    "start_time": "2022-04-11T16:41:18.334Z"
   },
   {
    "duration": 1198,
    "start_time": "2022-04-11T16:41:18.526Z"
   },
   {
    "duration": 109,
    "start_time": "2022-04-11T16:41:19.725Z"
   },
   {
    "duration": 89,
    "start_time": "2022-04-11T16:41:19.836Z"
   },
   {
    "duration": 97,
    "start_time": "2022-04-11T16:41:19.927Z"
   },
   {
    "duration": 26165,
    "start_time": "2022-04-11T16:41:20.026Z"
   },
   {
    "duration": 4,
    "start_time": "2022-04-11T16:41:46.193Z"
   },
   {
    "duration": 397,
    "start_time": "2022-04-11T16:41:46.199Z"
   },
   {
    "duration": 69,
    "start_time": "2022-04-11T16:41:46.598Z"
   },
   {
    "duration": 3,
    "start_time": "2022-04-11T16:41:46.669Z"
   },
   {
    "duration": 5,
    "start_time": "2022-04-11T16:41:46.673Z"
   },
   {
    "duration": 232,
    "start_time": "2022-04-11T16:41:46.679Z"
   },
   {
    "duration": 3,
    "start_time": "2022-04-11T16:41:46.913Z"
   },
   {
    "duration": 103,
    "start_time": "2022-04-11T16:41:46.917Z"
   },
   {
    "duration": 2,
    "start_time": "2022-04-11T16:41:47.022Z"
   },
   {
    "duration": 10,
    "start_time": "2022-04-11T16:41:47.026Z"
   },
   {
    "duration": 5,
    "start_time": "2022-04-11T16:41:47.038Z"
   },
   {
    "duration": 118519,
    "start_time": "2022-04-11T16:41:47.045Z"
   },
   {
    "duration": 13,
    "start_time": "2022-04-11T16:43:45.566Z"
   },
   {
    "duration": 0,
    "start_time": "2022-04-11T16:43:45.581Z"
   },
   {
    "duration": 0,
    "start_time": "2022-04-11T16:43:45.583Z"
   },
   {
    "duration": 0,
    "start_time": "2022-04-11T16:43:45.585Z"
   },
   {
    "duration": 0,
    "start_time": "2022-04-11T16:43:45.586Z"
   },
   {
    "duration": 57,
    "start_time": "2022-04-11T16:43:50.134Z"
   },
   {
    "duration": 2,
    "start_time": "2022-04-11T16:43:51.167Z"
   },
   {
    "duration": 3,
    "start_time": "2022-04-11T16:43:52.022Z"
   },
   {
    "duration": 133,
    "start_time": "2022-04-11T16:43:56.362Z"
   },
   {
    "duration": 55,
    "start_time": "2022-04-11T16:44:17.190Z"
   },
   {
    "duration": 3,
    "start_time": "2022-04-11T16:44:17.738Z"
   },
   {
    "duration": 3,
    "start_time": "2022-04-11T16:44:18.606Z"
   },
   {
    "duration": 1062,
    "start_time": "2022-04-11T16:44:19.918Z"
   },
   {
    "duration": 93,
    "start_time": "2022-04-11T16:44:58.730Z"
   },
   {
    "duration": 4,
    "start_time": "2022-04-11T16:44:59.130Z"
   },
   {
    "duration": 4,
    "start_time": "2022-04-11T16:44:59.666Z"
   },
   {
    "duration": 293146,
    "start_time": "2022-04-11T16:45:00.663Z"
   },
   {
    "duration": 1497,
    "start_time": "2022-04-11T16:51:06.514Z"
   },
   {
    "duration": 745,
    "start_time": "2022-04-11T16:51:08.012Z"
   },
   {
    "duration": 109,
    "start_time": "2022-04-11T16:51:08.759Z"
   },
   {
    "duration": 4,
    "start_time": "2022-04-11T16:51:08.870Z"
   },
   {
    "duration": 121,
    "start_time": "2022-04-11T16:51:08.875Z"
   },
   {
    "duration": 79,
    "start_time": "2022-04-11T16:51:08.998Z"
   },
   {
    "duration": 281,
    "start_time": "2022-04-11T16:51:09.079Z"
   },
   {
    "duration": 27,
    "start_time": "2022-04-11T16:51:09.362Z"
   },
   {
    "duration": 144,
    "start_time": "2022-04-11T16:51:09.391Z"
   },
   {
    "duration": 7698,
    "start_time": "2022-04-11T16:51:09.538Z"
   },
   {
    "duration": 44,
    "start_time": "2022-04-11T16:51:17.237Z"
   },
   {
    "duration": 7085,
    "start_time": "2022-04-11T16:51:17.283Z"
   },
   {
    "duration": 172,
    "start_time": "2022-04-11T16:51:24.370Z"
   },
   {
    "duration": 182,
    "start_time": "2022-04-11T16:51:24.543Z"
   },
   {
    "duration": 467,
    "start_time": "2022-04-11T16:51:24.726Z"
   },
   {
    "duration": 12,
    "start_time": "2022-04-11T16:51:25.195Z"
   },
   {
    "duration": 31,
    "start_time": "2022-04-11T16:51:25.209Z"
   },
   {
    "duration": 59,
    "start_time": "2022-04-11T16:51:25.242Z"
   },
   {
    "duration": 23,
    "start_time": "2022-04-11T16:51:25.302Z"
   },
   {
    "duration": 14,
    "start_time": "2022-04-11T16:51:25.327Z"
   },
   {
    "duration": 17,
    "start_time": "2022-04-11T16:51:25.343Z"
   },
   {
    "duration": 410,
    "start_time": "2022-04-11T16:51:25.361Z"
   },
   {
    "duration": 16,
    "start_time": "2022-04-11T16:51:25.773Z"
   },
   {
    "duration": 2,
    "start_time": "2022-04-11T16:51:25.791Z"
   },
   {
    "duration": 525,
    "start_time": "2022-04-11T16:51:25.794Z"
   },
   {
    "duration": 5,
    "start_time": "2022-04-11T16:51:26.323Z"
   },
   {
    "duration": 29,
    "start_time": "2022-04-11T16:51:26.330Z"
   },
   {
    "duration": 403,
    "start_time": "2022-04-11T16:51:26.363Z"
   },
   {
    "duration": 58,
    "start_time": "2022-04-11T16:51:26.767Z"
   },
   {
    "duration": 4,
    "start_time": "2022-04-11T16:51:26.826Z"
   },
   {
    "duration": 7,
    "start_time": "2022-04-11T16:51:26.831Z"
   },
   {
    "duration": 619,
    "start_time": "2022-04-11T16:51:26.840Z"
   },
   {
    "duration": 11,
    "start_time": "2022-04-11T16:51:27.461Z"
   },
   {
    "duration": 72,
    "start_time": "2022-04-11T16:51:27.474Z"
   },
   {
    "duration": 33,
    "start_time": "2022-04-11T16:51:27.547Z"
   },
   {
    "duration": 946,
    "start_time": "2022-04-11T16:51:27.582Z"
   },
   {
    "duration": 199,
    "start_time": "2022-04-11T16:51:28.531Z"
   },
   {
    "duration": 992,
    "start_time": "2022-04-11T16:51:28.733Z"
   },
   {
    "duration": 119,
    "start_time": "2022-04-11T16:51:29.727Z"
   },
   {
    "duration": 77,
    "start_time": "2022-04-11T16:51:29.848Z"
   },
   {
    "duration": 9,
    "start_time": "2022-04-11T16:51:29.928Z"
   },
   {
    "duration": 28658,
    "start_time": "2022-04-11T16:51:30.024Z"
   },
   {
    "duration": 3,
    "start_time": "2022-04-11T16:51:58.684Z"
   },
   {
    "duration": 383,
    "start_time": "2022-04-11T16:51:58.689Z"
   },
   {
    "duration": 69,
    "start_time": "2022-04-11T16:51:59.073Z"
   },
   {
    "duration": 3,
    "start_time": "2022-04-11T16:51:59.144Z"
   },
   {
    "duration": 6,
    "start_time": "2022-04-11T16:51:59.148Z"
   },
   {
    "duration": 1137894,
    "start_time": "2022-04-11T16:51:59.156Z"
   },
   {
    "duration": 15,
    "start_time": "2022-04-11T17:10:57.053Z"
   },
   {
    "duration": 0,
    "start_time": "2022-04-11T17:10:57.070Z"
   },
   {
    "duration": 0,
    "start_time": "2022-04-11T17:10:57.071Z"
   },
   {
    "duration": 0,
    "start_time": "2022-04-11T17:10:57.072Z"
   },
   {
    "duration": 0,
    "start_time": "2022-04-11T17:10:57.073Z"
   },
   {
    "duration": 0,
    "start_time": "2022-04-11T17:10:57.074Z"
   },
   {
    "duration": 0,
    "start_time": "2022-04-11T17:10:57.075Z"
   },
   {
    "duration": 0,
    "start_time": "2022-04-11T17:10:57.076Z"
   },
   {
    "duration": 0,
    "start_time": "2022-04-11T17:10:57.077Z"
   },
   {
    "duration": 1474,
    "start_time": "2022-04-11T17:13:29.649Z"
   },
   {
    "duration": 723,
    "start_time": "2022-04-11T17:13:31.125Z"
   },
   {
    "duration": 115,
    "start_time": "2022-04-11T17:13:31.849Z"
   },
   {
    "duration": 4,
    "start_time": "2022-04-11T17:13:31.966Z"
   },
   {
    "duration": 121,
    "start_time": "2022-04-11T17:13:31.971Z"
   },
   {
    "duration": 84,
    "start_time": "2022-04-11T17:13:32.094Z"
   },
   {
    "duration": 284,
    "start_time": "2022-04-11T17:13:32.180Z"
   },
   {
    "duration": 27,
    "start_time": "2022-04-11T17:13:32.465Z"
   },
   {
    "duration": 263,
    "start_time": "2022-04-11T17:13:32.494Z"
   },
   {
    "duration": 7764,
    "start_time": "2022-04-11T17:13:32.760Z"
   },
   {
    "duration": 44,
    "start_time": "2022-04-11T17:13:40.526Z"
   },
   {
    "duration": 7152,
    "start_time": "2022-04-11T17:13:40.571Z"
   },
   {
    "duration": 166,
    "start_time": "2022-04-11T17:13:47.725Z"
   },
   {
    "duration": 181,
    "start_time": "2022-04-11T17:13:47.892Z"
   },
   {
    "duration": 476,
    "start_time": "2022-04-11T17:13:48.074Z"
   },
   {
    "duration": 13,
    "start_time": "2022-04-11T17:13:48.552Z"
   },
   {
    "duration": 18,
    "start_time": "2022-04-11T17:13:48.567Z"
   },
   {
    "duration": 87,
    "start_time": "2022-04-11T17:13:48.587Z"
   },
   {
    "duration": 5,
    "start_time": "2022-04-11T17:13:48.675Z"
   },
   {
    "duration": 9,
    "start_time": "2022-04-11T17:13:48.681Z"
   },
   {
    "duration": 39,
    "start_time": "2022-04-11T17:13:48.691Z"
   },
   {
    "duration": 395,
    "start_time": "2022-04-11T17:13:48.731Z"
   },
   {
    "duration": 18,
    "start_time": "2022-04-11T17:13:49.128Z"
   },
   {
    "duration": 3,
    "start_time": "2022-04-11T17:13:49.147Z"
   },
   {
    "duration": 550,
    "start_time": "2022-04-11T17:13:49.152Z"
   },
   {
    "duration": 7,
    "start_time": "2022-04-11T17:13:49.704Z"
   },
   {
    "duration": 18,
    "start_time": "2022-04-11T17:13:49.723Z"
   },
   {
    "duration": 407,
    "start_time": "2022-04-11T17:13:49.745Z"
   },
   {
    "duration": 46,
    "start_time": "2022-04-11T17:13:50.154Z"
   },
   {
    "duration": 3,
    "start_time": "2022-04-11T17:13:50.202Z"
   },
   {
    "duration": 6,
    "start_time": "2022-04-11T17:13:50.224Z"
   },
   {
    "duration": 635,
    "start_time": "2022-04-11T17:13:50.232Z"
   },
   {
    "duration": 13,
    "start_time": "2022-04-11T17:13:50.869Z"
   },
   {
    "duration": 71,
    "start_time": "2022-04-11T17:13:50.883Z"
   },
   {
    "duration": 36,
    "start_time": "2022-04-11T17:13:50.956Z"
   },
   {
    "duration": 630,
    "start_time": "2022-04-11T17:13:50.993Z"
   },
   {
    "duration": 200,
    "start_time": "2022-04-11T17:13:51.625Z"
   },
   {
    "duration": 697,
    "start_time": "2022-04-11T17:13:51.827Z"
   },
   {
    "duration": 198,
    "start_time": "2022-04-11T17:13:52.526Z"
   },
   {
    "duration": 4,
    "start_time": "2022-04-11T17:13:52.726Z"
   },
   {
    "duration": 97,
    "start_time": "2022-04-11T17:13:52.731Z"
   },
   {
    "duration": 13238,
    "start_time": "2022-04-11T17:13:52.830Z"
   },
   {
    "duration": 3,
    "start_time": "2022-04-11T17:14:06.070Z"
   },
   {
    "duration": 380,
    "start_time": "2022-04-11T17:14:06.075Z"
   },
   {
    "duration": 71,
    "start_time": "2022-04-11T17:14:06.457Z"
   },
   {
    "duration": 4,
    "start_time": "2022-04-11T17:14:06.529Z"
   },
   {
    "duration": 4,
    "start_time": "2022-04-11T17:14:06.535Z"
   },
   {
    "duration": 1179171,
    "start_time": "2022-04-11T17:14:06.541Z"
   },
   {
    "duration": 3,
    "start_time": "2022-04-11T17:33:45.714Z"
   },
   {
    "duration": 138629,
    "start_time": "2022-04-11T17:33:45.719Z"
   },
   {
    "duration": 2,
    "start_time": "2022-04-11T17:36:04.350Z"
   },
   {
    "duration": 10,
    "start_time": "2022-04-11T17:36:04.354Z"
   },
   {
    "duration": 6,
    "start_time": "2022-04-11T17:36:04.365Z"
   },
   {
    "duration": 866261,
    "start_time": "2022-04-11T17:36:04.373Z"
   },
   {
    "duration": 3,
    "start_time": "2022-04-11T17:50:30.636Z"
   },
   {
    "duration": 4,
    "start_time": "2022-04-11T17:50:30.724Z"
   },
   {
    "duration": 0,
    "start_time": "2022-04-11T17:50:30.729Z"
   },
   {
    "duration": 2813,
    "start_time": "2022-04-11T17:57:51.426Z"
   },
   {
    "duration": 1497,
    "start_time": "2022-04-11T18:38:56.485Z"
   },
   {
    "duration": 701,
    "start_time": "2022-04-11T18:38:57.984Z"
   },
   {
    "duration": 107,
    "start_time": "2022-04-11T18:38:58.686Z"
   },
   {
    "duration": 3,
    "start_time": "2022-04-11T18:38:58.795Z"
   },
   {
    "duration": 114,
    "start_time": "2022-04-11T18:38:58.799Z"
   },
   {
    "duration": 75,
    "start_time": "2022-04-11T18:38:58.915Z"
   },
   {
    "duration": 274,
    "start_time": "2022-04-11T18:38:58.992Z"
   },
   {
    "duration": 28,
    "start_time": "2022-04-11T18:38:59.268Z"
   },
   {
    "duration": 148,
    "start_time": "2022-04-11T18:38:59.298Z"
   },
   {
    "duration": 7578,
    "start_time": "2022-04-11T18:38:59.449Z"
   },
   {
    "duration": 42,
    "start_time": "2022-04-11T18:39:07.028Z"
   },
   {
    "duration": 7478,
    "start_time": "2022-04-11T18:39:07.071Z"
   },
   {
    "duration": 173,
    "start_time": "2022-04-11T18:39:14.551Z"
   },
   {
    "duration": 176,
    "start_time": "2022-04-11T18:39:14.725Z"
   },
   {
    "duration": 471,
    "start_time": "2022-04-11T18:39:14.902Z"
   },
   {
    "duration": 13,
    "start_time": "2022-04-11T18:39:15.375Z"
   },
   {
    "duration": 35,
    "start_time": "2022-04-11T18:39:15.389Z"
   },
   {
    "duration": 58,
    "start_time": "2022-04-11T18:39:15.425Z"
   },
   {
    "duration": 4,
    "start_time": "2022-04-11T18:39:15.485Z"
   },
   {
    "duration": 15,
    "start_time": "2022-04-11T18:39:15.491Z"
   },
   {
    "duration": 28,
    "start_time": "2022-04-11T18:39:15.508Z"
   },
   {
    "duration": 387,
    "start_time": "2022-04-11T18:39:15.538Z"
   },
   {
    "duration": 17,
    "start_time": "2022-04-11T18:39:15.927Z"
   },
   {
    "duration": 2,
    "start_time": "2022-04-11T18:39:15.946Z"
   },
   {
    "duration": 505,
    "start_time": "2022-04-11T18:39:15.949Z"
   },
   {
    "duration": 5,
    "start_time": "2022-04-11T18:39:16.456Z"
   },
   {
    "duration": 18,
    "start_time": "2022-04-11T18:39:16.463Z"
   },
   {
    "duration": 390,
    "start_time": "2022-04-11T18:39:16.485Z"
   },
   {
    "duration": 52,
    "start_time": "2022-04-11T18:39:16.877Z"
   },
   {
    "duration": 3,
    "start_time": "2022-04-11T18:39:16.930Z"
   },
   {
    "duration": 633,
    "start_time": "2022-04-11T18:39:16.935Z"
   },
   {
    "duration": 11,
    "start_time": "2022-04-11T18:39:17.570Z"
   },
   {
    "duration": 66,
    "start_time": "2022-04-11T18:39:17.583Z"
   },
   {
    "duration": 34,
    "start_time": "2022-04-11T18:39:17.650Z"
   },
   {
    "duration": 542,
    "start_time": "2022-04-11T18:39:17.685Z"
   },
   {
    "duration": 128,
    "start_time": "2022-04-11T18:39:18.229Z"
   },
   {
    "duration": 701,
    "start_time": "2022-04-11T18:39:18.424Z"
   },
   {
    "duration": 106,
    "start_time": "2022-04-11T18:39:19.127Z"
   },
   {
    "duration": 179,
    "start_time": "2022-04-11T18:39:19.324Z"
   },
   {
    "duration": 0,
    "start_time": "2022-04-11T18:39:19.504Z"
   },
   {
    "duration": 1,
    "start_time": "2022-04-11T18:39:19.505Z"
   },
   {
    "duration": 0,
    "start_time": "2022-04-11T18:39:19.507Z"
   },
   {
    "duration": 0,
    "start_time": "2022-04-11T18:39:19.508Z"
   },
   {
    "duration": 0,
    "start_time": "2022-04-11T18:39:19.509Z"
   },
   {
    "duration": 0,
    "start_time": "2022-04-11T18:39:19.510Z"
   },
   {
    "duration": 0,
    "start_time": "2022-04-11T18:39:19.524Z"
   },
   {
    "duration": 0,
    "start_time": "2022-04-11T18:39:19.525Z"
   },
   {
    "duration": 0,
    "start_time": "2022-04-11T18:39:19.526Z"
   },
   {
    "duration": 0,
    "start_time": "2022-04-11T18:39:19.528Z"
   },
   {
    "duration": 0,
    "start_time": "2022-04-11T18:39:19.529Z"
   },
   {
    "duration": 0,
    "start_time": "2022-04-11T18:39:19.530Z"
   },
   {
    "duration": 0,
    "start_time": "2022-04-11T18:39:19.532Z"
   },
   {
    "duration": 0,
    "start_time": "2022-04-11T18:39:19.533Z"
   },
   {
    "duration": 0,
    "start_time": "2022-04-11T18:39:19.535Z"
   },
   {
    "duration": 0,
    "start_time": "2022-04-11T18:39:19.536Z"
   },
   {
    "duration": 0,
    "start_time": "2022-04-11T18:39:19.538Z"
   },
   {
    "duration": 0,
    "start_time": "2022-04-11T18:39:19.539Z"
   },
   {
    "duration": 4,
    "start_time": "2022-04-11T18:47:08.429Z"
   },
   {
    "duration": 1510,
    "start_time": "2022-04-11T18:47:45.486Z"
   },
   {
    "duration": 705,
    "start_time": "2022-04-11T18:47:46.998Z"
   },
   {
    "duration": 98,
    "start_time": "2022-04-11T18:47:47.705Z"
   },
   {
    "duration": 3,
    "start_time": "2022-04-11T18:47:47.805Z"
   },
   {
    "duration": 123,
    "start_time": "2022-04-11T18:47:47.809Z"
   },
   {
    "duration": 80,
    "start_time": "2022-04-11T18:47:47.934Z"
   },
   {
    "duration": 255,
    "start_time": "2022-04-11T18:47:48.016Z"
   },
   {
    "duration": 25,
    "start_time": "2022-04-11T18:47:48.272Z"
   },
   {
    "duration": 145,
    "start_time": "2022-04-11T18:47:48.299Z"
   },
   {
    "duration": 7740,
    "start_time": "2022-04-11T18:47:48.447Z"
   },
   {
    "duration": 52,
    "start_time": "2022-04-11T18:47:56.189Z"
   },
   {
    "duration": 7145,
    "start_time": "2022-04-11T18:47:56.242Z"
   },
   {
    "duration": 168,
    "start_time": "2022-04-11T18:48:03.388Z"
   },
   {
    "duration": 177,
    "start_time": "2022-04-11T18:48:03.557Z"
   },
   {
    "duration": 469,
    "start_time": "2022-04-11T18:48:03.736Z"
   },
   {
    "duration": 22,
    "start_time": "2022-04-11T18:48:04.206Z"
   },
   {
    "duration": 19,
    "start_time": "2022-04-11T18:48:04.229Z"
   },
   {
    "duration": 58,
    "start_time": "2022-04-11T18:48:04.249Z"
   },
   {
    "duration": 17,
    "start_time": "2022-04-11T18:48:04.309Z"
   },
   {
    "duration": 8,
    "start_time": "2022-04-11T18:48:04.327Z"
   },
   {
    "duration": 18,
    "start_time": "2022-04-11T18:48:04.336Z"
   },
   {
    "duration": 401,
    "start_time": "2022-04-11T18:48:04.355Z"
   },
   {
    "duration": 16,
    "start_time": "2022-04-11T18:48:04.758Z"
   },
   {
    "duration": 2,
    "start_time": "2022-04-11T18:48:04.776Z"
   },
   {
    "duration": 503,
    "start_time": "2022-04-11T18:48:04.780Z"
   },
   {
    "duration": 5,
    "start_time": "2022-04-11T18:48:05.285Z"
   },
   {
    "duration": 16,
    "start_time": "2022-04-11T18:48:05.291Z"
   },
   {
    "duration": 378,
    "start_time": "2022-04-11T18:48:05.323Z"
   },
   {
    "duration": 47,
    "start_time": "2022-04-11T18:48:05.702Z"
   },
   {
    "duration": 3,
    "start_time": "2022-04-11T18:48:05.751Z"
   },
   {
    "duration": 581,
    "start_time": "2022-04-11T18:48:05.755Z"
   },
   {
    "duration": 12,
    "start_time": "2022-04-11T18:48:06.338Z"
   },
   {
    "duration": 55,
    "start_time": "2022-04-11T18:48:06.351Z"
   },
   {
    "duration": 32,
    "start_time": "2022-04-11T18:48:06.423Z"
   },
   {
    "duration": 377,
    "start_time": "2022-04-11T18:48:06.456Z"
   },
   {
    "duration": 196,
    "start_time": "2022-04-11T18:48:06.843Z"
   },
   {
    "duration": 609,
    "start_time": "2022-04-11T18:48:07.041Z"
   },
   {
    "duration": 200,
    "start_time": "2022-04-11T18:48:07.724Z"
   },
   {
    "duration": 3,
    "start_time": "2022-04-11T18:48:07.926Z"
   },
   {
    "duration": 97,
    "start_time": "2022-04-11T18:48:07.931Z"
   },
   {
    "duration": 12658,
    "start_time": "2022-04-11T18:48:08.030Z"
   },
   {
    "duration": 3,
    "start_time": "2022-04-11T18:48:20.690Z"
   },
   {
    "duration": 381,
    "start_time": "2022-04-11T18:48:20.695Z"
   },
   {
    "duration": 67,
    "start_time": "2022-04-11T18:48:21.077Z"
   },
   {
    "duration": 3,
    "start_time": "2022-04-11T18:48:21.145Z"
   },
   {
    "duration": 29,
    "start_time": "2022-04-11T18:48:21.149Z"
   },
   {
    "duration": 1040398,
    "start_time": "2022-04-11T18:48:21.179Z"
   },
   {
    "duration": 4,
    "start_time": "2022-04-11T19:05:41.578Z"
   },
   {
    "duration": 126211,
    "start_time": "2022-04-11T19:05:41.584Z"
   },
   {
    "duration": 2,
    "start_time": "2022-04-11T19:07:47.796Z"
   },
   {
    "duration": 6,
    "start_time": "2022-04-11T19:07:47.799Z"
   },
   {
    "duration": 6,
    "start_time": "2022-04-11T19:07:47.806Z"
   },
   {
    "duration": 30118,
    "start_time": "2022-04-11T19:07:47.813Z"
   },
   {
    "duration": 4,
    "start_time": "2022-04-11T19:08:17.933Z"
   },
   {
    "duration": 2796,
    "start_time": "2022-04-11T19:08:17.938Z"
   },
   {
    "duration": 2,
    "start_time": "2022-04-11T19:08:20.736Z"
   },
   {
    "duration": 161,
    "start_time": "2022-04-11T19:08:20.739Z"
   },
   {
    "duration": 9,
    "start_time": "2022-04-11T19:09:58.740Z"
   },
   {
    "duration": 3,
    "start_time": "2022-04-11T19:19:44.058Z"
   },
   {
    "duration": 2,
    "start_time": "2022-04-11T19:20:07.491Z"
   },
   {
    "duration": 137208,
    "start_time": "2022-04-11T19:20:08.919Z"
   },
   {
    "duration": 336,
    "start_time": "2022-04-11T19:22:44.053Z"
   },
   {
    "duration": 4,
    "start_time": "2022-04-11T19:23:16.333Z"
   },
   {
    "duration": 4,
    "start_time": "2022-04-11T19:27:26.317Z"
   },
   {
    "duration": 8,
    "start_time": "2022-04-11T19:28:30.077Z"
   },
   {
    "duration": 4,
    "start_time": "2022-04-11T19:28:41.064Z"
   },
   {
    "duration": 9,
    "start_time": "2022-04-11T19:35:07.835Z"
   },
   {
    "duration": 369,
    "start_time": "2022-04-11T19:38:46.539Z"
   },
   {
    "duration": 16,
    "start_time": "2022-04-11T19:41:43.443Z"
   },
   {
    "duration": 988,
    "start_time": "2022-04-11T19:42:11.305Z"
   },
   {
    "duration": 343,
    "start_time": "2022-04-11T19:44:13.559Z"
   },
   {
    "duration": 11,
    "start_time": "2022-04-11T19:48:42.011Z"
   },
   {
    "duration": 2869,
    "start_time": "2022-04-12T09:03:19.456Z"
   },
   {
    "duration": 1381,
    "start_time": "2022-04-12T09:03:29.778Z"
   },
   {
    "duration": 215,
    "start_time": "2022-04-12T09:03:31.162Z"
   },
   {
    "duration": 5,
    "start_time": "2022-04-12T09:03:32.228Z"
   },
   {
    "duration": 316,
    "start_time": "2022-04-12T09:03:32.780Z"
   },
   {
    "duration": 152,
    "start_time": "2022-04-12T09:03:36.933Z"
   },
   {
    "duration": 450,
    "start_time": "2022-04-12T09:03:41.547Z"
   },
   {
    "duration": 40,
    "start_time": "2022-04-12T09:03:42.527Z"
   },
   {
    "duration": 235,
    "start_time": "2022-04-12T09:03:44.763Z"
   },
   {
    "duration": 15800,
    "start_time": "2022-04-12T09:03:45.556Z"
   },
   {
    "duration": 91,
    "start_time": "2022-04-12T09:04:03.116Z"
   },
   {
    "duration": 14599,
    "start_time": "2022-04-12T09:04:05.111Z"
   },
   {
    "duration": 343,
    "start_time": "2022-04-12T09:04:39.581Z"
   },
   {
    "duration": 367,
    "start_time": "2022-04-12T09:04:40.859Z"
   },
   {
    "duration": 5,
    "start_time": "2022-04-12T09:04:43.039Z"
   },
   {
    "duration": 976,
    "start_time": "2022-04-12T09:04:44.209Z"
   },
   {
    "duration": 751,
    "start_time": "2022-04-12T09:06:21.800Z"
   },
   {
    "duration": 20,
    "start_time": "2022-04-12T09:07:20.839Z"
   },
   {
    "duration": 49,
    "start_time": "2022-04-12T09:07:21.559Z"
   },
   {
    "duration": 118,
    "start_time": "2022-04-12T09:07:22.215Z"
   },
   {
    "duration": 7,
    "start_time": "2022-04-12T09:07:23.207Z"
   },
   {
    "duration": 21,
    "start_time": "2022-04-12T09:07:23.985Z"
   },
   {
    "duration": 40,
    "start_time": "2022-04-12T09:07:25.380Z"
   },
   {
    "duration": 817,
    "start_time": "2022-04-12T09:07:26.452Z"
   },
   {
    "duration": 723,
    "start_time": "2022-04-12T09:07:29.768Z"
   },
   {
    "duration": 723,
    "start_time": "2022-04-12T09:07:53.913Z"
   },
   {
    "duration": 38,
    "start_time": "2022-04-12T09:07:56.242Z"
   },
   {
    "duration": 4,
    "start_time": "2022-04-12T09:07:57.392Z"
   },
   {
    "duration": 846,
    "start_time": "2022-04-12T09:08:06.840Z"
   },
   {
    "duration": 748,
    "start_time": "2022-04-12T09:09:17.619Z"
   },
   {
    "duration": 8,
    "start_time": "2022-04-12T09:10:06.623Z"
   },
   {
    "duration": 32,
    "start_time": "2022-04-12T09:10:07.447Z"
   },
   {
    "duration": 899,
    "start_time": "2022-04-12T09:10:08.540Z"
   },
   {
    "duration": 700,
    "start_time": "2022-04-12T09:10:10.856Z"
   },
   {
    "duration": 188,
    "start_time": "2022-04-12T09:11:02.227Z"
   },
   {
    "duration": 14,
    "start_time": "2022-04-12T09:11:08.147Z"
   },
   {
    "duration": 7,
    "start_time": "2022-04-12T09:12:11.585Z"
   },
   {
    "duration": 23,
    "start_time": "2022-04-12T09:12:32.272Z"
   },
   {
    "duration": 1485,
    "start_time": "2022-04-12T09:21:21.041Z"
   },
   {
    "duration": 292,
    "start_time": "2022-04-12T09:21:22.529Z"
   },
   {
    "duration": 6,
    "start_time": "2022-04-12T09:21:24.173Z"
   },
   {
    "duration": 182,
    "start_time": "2022-04-12T09:21:24.709Z"
   },
   {
    "duration": 144,
    "start_time": "2022-04-12T09:21:26.133Z"
   },
   {
    "duration": 411,
    "start_time": "2022-04-12T09:21:29.973Z"
   },
   {
    "duration": 43,
    "start_time": "2022-04-12T09:21:31.442Z"
   },
   {
    "duration": 206,
    "start_time": "2022-04-12T09:21:33.246Z"
   },
   {
    "duration": 16752,
    "start_time": "2022-04-12T09:21:34.570Z"
   },
   {
    "duration": 102,
    "start_time": "2022-04-12T09:21:51.324Z"
   },
   {
    "duration": 15098,
    "start_time": "2022-04-12T09:21:51.429Z"
   },
   {
    "duration": 342,
    "start_time": "2022-04-12T09:22:21.098Z"
   },
   {
    "duration": 352,
    "start_time": "2022-04-12T09:22:22.104Z"
   },
   {
    "duration": 10,
    "start_time": "2022-04-12T09:22:25.501Z"
   },
   {
    "duration": 835,
    "start_time": "2022-04-12T09:22:26.696Z"
   },
   {
    "duration": 8,
    "start_time": "2022-04-12T09:22:31.433Z"
   },
   {
    "duration": 15,
    "start_time": "2022-04-12T09:23:21.909Z"
   },
   {
    "duration": 167,
    "start_time": "2022-04-12T09:33:19.759Z"
   },
   {
    "duration": 7,
    "start_time": "2022-04-12T09:34:45.430Z"
   },
   {
    "duration": 13,
    "start_time": "2022-04-12T09:52:26.425Z"
   },
   {
    "duration": 7,
    "start_time": "2022-04-12T10:02:24.645Z"
   },
   {
    "duration": 1151,
    "start_time": "2022-04-12T10:02:24.654Z"
   },
   {
    "duration": 303,
    "start_time": "2022-04-12T10:02:25.811Z"
   },
   {
    "duration": 7,
    "start_time": "2022-04-12T10:02:26.117Z"
   },
   {
    "duration": 217,
    "start_time": "2022-04-12T10:02:26.128Z"
   },
   {
    "duration": 170,
    "start_time": "2022-04-12T10:02:26.347Z"
   },
   {
    "duration": 397,
    "start_time": "2022-04-12T10:02:26.519Z"
   },
   {
    "duration": 39,
    "start_time": "2022-04-12T10:02:26.918Z"
   },
   {
    "duration": 230,
    "start_time": "2022-04-12T10:02:26.959Z"
   },
   {
    "duration": 9163,
    "start_time": "2022-04-12T10:02:27.194Z"
   },
   {
    "duration": 0,
    "start_time": "2022-04-12T10:02:36.360Z"
   },
   {
    "duration": 0,
    "start_time": "2022-04-12T10:02:36.362Z"
   },
   {
    "duration": 0,
    "start_time": "2022-04-12T10:02:36.363Z"
   },
   {
    "duration": 0,
    "start_time": "2022-04-12T10:02:36.373Z"
   },
   {
    "duration": 0,
    "start_time": "2022-04-12T10:02:36.374Z"
   },
   {
    "duration": 0,
    "start_time": "2022-04-12T10:02:36.375Z"
   },
   {
    "duration": 0,
    "start_time": "2022-04-12T10:02:36.376Z"
   },
   {
    "duration": 0,
    "start_time": "2022-04-12T10:02:36.382Z"
   },
   {
    "duration": 0,
    "start_time": "2022-04-12T10:02:36.383Z"
   },
   {
    "duration": 0,
    "start_time": "2022-04-12T10:02:36.385Z"
   },
   {
    "duration": 0,
    "start_time": "2022-04-12T10:02:36.387Z"
   },
   {
    "duration": 0,
    "start_time": "2022-04-12T10:02:36.389Z"
   },
   {
    "duration": 0,
    "start_time": "2022-04-12T10:02:36.393Z"
   },
   {
    "duration": 0,
    "start_time": "2022-04-12T10:02:36.395Z"
   },
   {
    "duration": 0,
    "start_time": "2022-04-12T10:02:36.397Z"
   },
   {
    "duration": 0,
    "start_time": "2022-04-12T10:02:36.399Z"
   },
   {
    "duration": 8,
    "start_time": "2022-04-12T10:03:16.973Z"
   },
   {
    "duration": 1082,
    "start_time": "2022-04-12T10:03:16.984Z"
   },
   {
    "duration": 218,
    "start_time": "2022-04-12T10:03:18.069Z"
   },
   {
    "duration": 5,
    "start_time": "2022-04-12T10:03:18.290Z"
   },
   {
    "duration": 202,
    "start_time": "2022-04-12T10:03:18.299Z"
   },
   {
    "duration": 153,
    "start_time": "2022-04-12T10:03:18.503Z"
   },
   {
    "duration": 492,
    "start_time": "2022-04-12T10:03:18.658Z"
   },
   {
    "duration": 50,
    "start_time": "2022-04-12T10:03:19.153Z"
   },
   {
    "duration": 300,
    "start_time": "2022-04-12T10:03:19.209Z"
   },
   {
    "duration": 17196,
    "start_time": "2022-04-12T10:03:19.512Z"
   },
   {
    "duration": 81,
    "start_time": "2022-04-12T10:03:36.713Z"
   },
   {
    "duration": 17313,
    "start_time": "2022-04-12T10:03:36.798Z"
   },
   {
    "duration": 465,
    "start_time": "2022-04-12T10:03:54.114Z"
   },
   {
    "duration": 369,
    "start_time": "2022-04-12T10:03:54.581Z"
   },
   {
    "duration": 9,
    "start_time": "2022-04-12T10:03:54.953Z"
   },
   {
    "duration": 1185,
    "start_time": "2022-04-12T10:03:54.964Z"
   },
   {
    "duration": 36,
    "start_time": "2022-04-12T10:03:56.152Z"
   },
   {
    "duration": 48,
    "start_time": "2022-04-12T10:03:56.193Z"
   },
   {
    "duration": 10,
    "start_time": "2022-04-12T10:03:56.244Z"
   },
   {
    "duration": 63,
    "start_time": "2022-04-12T10:03:56.257Z"
   },
   {
    "duration": 58,
    "start_time": "2022-04-12T10:03:56.322Z"
   },
   {
    "duration": 775,
    "start_time": "2022-04-12T10:03:56.383Z"
   },
   {
    "duration": 54,
    "start_time": "2022-04-12T10:03:57.160Z"
   },
   {
    "duration": 848,
    "start_time": "2022-04-12T10:03:57.218Z"
   },
   {
    "duration": 42,
    "start_time": "2022-04-12T10:03:58.069Z"
   },
   {
    "duration": 1062,
    "start_time": "2022-04-12T10:03:58.114Z"
   },
   {
    "duration": 164,
    "start_time": "2022-04-12T10:03:59.186Z"
   },
   {
    "duration": 784,
    "start_time": "2022-04-12T10:07:50.668Z"
   },
   {
    "duration": 36,
    "start_time": "2022-04-12T10:07:53.532Z"
   },
   {
    "duration": 109,
    "start_time": "2022-04-12T10:08:06.044Z"
   },
   {
    "duration": 787,
    "start_time": "2022-04-12T10:12:09.168Z"
   },
   {
    "duration": 13,
    "start_time": "2022-04-12T10:13:02.025Z"
   },
   {
    "duration": 12,
    "start_time": "2022-04-12T10:55:35.498Z"
   },
   {
    "duration": 7,
    "start_time": "2022-04-12T11:05:07.855Z"
   },
   {
    "duration": 1070,
    "start_time": "2022-04-12T11:05:07.864Z"
   },
   {
    "duration": 187,
    "start_time": "2022-04-12T11:05:08.937Z"
   },
   {
    "duration": 5,
    "start_time": "2022-04-12T11:05:09.127Z"
   },
   {
    "duration": 194,
    "start_time": "2022-04-12T11:05:09.135Z"
   },
   {
    "duration": 150,
    "start_time": "2022-04-12T11:05:09.331Z"
   },
   {
    "duration": 353,
    "start_time": "2022-04-12T11:05:09.484Z"
   },
   {
    "duration": 48,
    "start_time": "2022-04-12T11:05:09.840Z"
   },
   {
    "duration": 201,
    "start_time": "2022-04-12T11:05:09.891Z"
   },
   {
    "duration": 15020,
    "start_time": "2022-04-12T11:05:10.095Z"
   },
   {
    "duration": 93,
    "start_time": "2022-04-12T11:05:25.121Z"
   },
   {
    "duration": 13531,
    "start_time": "2022-04-12T11:05:25.216Z"
   },
   {
    "duration": 269,
    "start_time": "2022-04-12T11:05:38.749Z"
   },
   {
    "duration": 284,
    "start_time": "2022-04-12T11:05:39.021Z"
   },
   {
    "duration": 9,
    "start_time": "2022-04-12T11:05:39.307Z"
   },
   {
    "duration": 762,
    "start_time": "2022-04-12T11:05:39.318Z"
   },
   {
    "duration": 15,
    "start_time": "2022-04-12T11:05:40.085Z"
   },
   {
    "duration": 36,
    "start_time": "2022-04-12T11:05:40.103Z"
   },
   {
    "duration": 33,
    "start_time": "2022-04-12T11:05:40.142Z"
   },
   {
    "duration": 15,
    "start_time": "2022-04-12T11:05:40.182Z"
   },
   {
    "duration": 37,
    "start_time": "2022-04-12T11:05:40.199Z"
   },
   {
    "duration": 727,
    "start_time": "2022-04-12T11:05:40.239Z"
   },
   {
    "duration": 41,
    "start_time": "2022-04-12T11:05:40.968Z"
   },
   {
    "duration": 880,
    "start_time": "2022-04-12T11:05:41.011Z"
   },
   {
    "duration": 35,
    "start_time": "2022-04-12T11:05:41.894Z"
   },
   {
    "duration": 1022,
    "start_time": "2022-04-12T11:05:41.932Z"
   },
   {
    "duration": 43,
    "start_time": "2022-04-12T11:05:42.956Z"
   },
   {
    "duration": 87,
    "start_time": "2022-04-12T11:05:43.002Z"
   },
   {
    "duration": 5,
    "start_time": "2022-04-12T11:05:43.094Z"
   },
   {
    "duration": 1519,
    "start_time": "2022-04-12T11:05:43.102Z"
   },
   {
    "duration": 16,
    "start_time": "2022-04-12T11:05:44.623Z"
   },
   {
    "duration": 79,
    "start_time": "2022-04-12T11:05:44.641Z"
   },
   {
    "duration": 60,
    "start_time": "2022-04-12T11:05:44.723Z"
   },
   {
    "duration": 518,
    "start_time": "2022-04-12T11:05:44.785Z"
   },
   {
    "duration": 675,
    "start_time": "2022-04-12T11:05:45.306Z"
   },
   {
    "duration": 191,
    "start_time": "2022-04-12T11:05:45.984Z"
   },
   {
    "duration": 196,
    "start_time": "2022-04-12T11:05:46.180Z"
   },
   {
    "duration": 99,
    "start_time": "2022-04-12T11:05:46.390Z"
   },
   {
    "duration": 0,
    "start_time": "2022-04-12T11:05:46.492Z"
   },
   {
    "duration": 0,
    "start_time": "2022-04-12T11:05:46.494Z"
   },
   {
    "duration": 0,
    "start_time": "2022-04-12T11:05:46.496Z"
   },
   {
    "duration": 0,
    "start_time": "2022-04-12T11:05:46.498Z"
   },
   {
    "duration": 0,
    "start_time": "2022-04-12T11:05:46.499Z"
   },
   {
    "duration": 6,
    "start_time": "2022-04-12T11:08:58.760Z"
   },
   {
    "duration": 4,
    "start_time": "2022-04-12T11:09:40.444Z"
   },
   {
    "duration": 15700,
    "start_time": "2022-04-12T11:09:41.544Z"
   },
   {
    "duration": 4,
    "start_time": "2022-04-12T11:09:57.247Z"
   },
   {
    "duration": 424,
    "start_time": "2022-04-12T11:09:57.254Z"
   },
   {
    "duration": 6,
    "start_time": "2022-04-12T11:09:57.682Z"
   },
   {
    "duration": 6,
    "start_time": "2022-04-12T11:11:35.228Z"
   },
   {
    "duration": 7,
    "start_time": "2022-04-12T11:12:40.648Z"
   },
   {
    "duration": 7,
    "start_time": "2022-04-12T11:13:53.100Z"
   },
   {
    "duration": 2148,
    "start_time": "2022-04-12T11:54:00.421Z"
   },
   {
    "duration": 1562,
    "start_time": "2022-04-12T11:54:02.573Z"
   },
   {
    "duration": 285,
    "start_time": "2022-04-12T11:54:04.138Z"
   },
   {
    "duration": 6,
    "start_time": "2022-04-12T11:54:04.425Z"
   },
   {
    "duration": 169,
    "start_time": "2022-04-12T11:54:04.451Z"
   },
   {
    "duration": 148,
    "start_time": "2022-04-12T11:54:04.622Z"
   },
   {
    "duration": 418,
    "start_time": "2022-04-12T11:54:04.773Z"
   },
   {
    "duration": 39,
    "start_time": "2022-04-12T11:54:05.193Z"
   },
   {
    "duration": 245,
    "start_time": "2022-04-12T11:54:05.235Z"
   },
   {
    "duration": 15968,
    "start_time": "2022-04-12T11:54:05.484Z"
   },
   {
    "duration": 118,
    "start_time": "2022-04-12T11:54:21.454Z"
   },
   {
    "duration": 20798,
    "start_time": "2022-04-12T11:54:21.575Z"
   },
   {
    "duration": 331,
    "start_time": "2022-04-12T11:54:42.375Z"
   },
   {
    "duration": 360,
    "start_time": "2022-04-12T11:54:42.709Z"
   },
   {
    "duration": 9,
    "start_time": "2022-04-12T11:54:43.071Z"
   },
   {
    "duration": 776,
    "start_time": "2022-04-12T11:54:43.082Z"
   },
   {
    "duration": 15,
    "start_time": "2022-04-12T11:54:43.861Z"
   },
   {
    "duration": 42,
    "start_time": "2022-04-12T11:54:43.878Z"
   },
   {
    "duration": 32,
    "start_time": "2022-04-12T11:54:43.922Z"
   },
   {
    "duration": 12,
    "start_time": "2022-04-12T11:54:43.956Z"
   },
   {
    "duration": 43,
    "start_time": "2022-04-12T11:54:43.970Z"
   },
   {
    "duration": 719,
    "start_time": "2022-04-12T11:54:44.015Z"
   },
   {
    "duration": 48,
    "start_time": "2022-04-12T11:54:44.736Z"
   },
   {
    "duration": 837,
    "start_time": "2022-04-12T11:54:44.786Z"
   },
   {
    "duration": 50,
    "start_time": "2022-04-12T11:54:45.626Z"
   },
   {
    "duration": 732,
    "start_time": "2022-04-12T11:54:45.679Z"
   },
   {
    "duration": 50,
    "start_time": "2022-04-12T11:54:46.413Z"
   },
   {
    "duration": 90,
    "start_time": "2022-04-12T11:54:46.470Z"
   },
   {
    "duration": 4,
    "start_time": "2022-04-12T11:54:46.563Z"
   },
   {
    "duration": 1072,
    "start_time": "2022-04-12T11:54:46.569Z"
   },
   {
    "duration": 21,
    "start_time": "2022-04-12T11:54:47.644Z"
   },
   {
    "duration": 93,
    "start_time": "2022-04-12T11:54:47.667Z"
   },
   {
    "duration": 58,
    "start_time": "2022-04-12T11:54:47.762Z"
   },
   {
    "duration": 536,
    "start_time": "2022-04-12T11:54:47.822Z"
   },
   {
    "duration": 691,
    "start_time": "2022-04-12T11:54:48.361Z"
   },
   {
    "duration": 197,
    "start_time": "2022-04-12T11:54:49.054Z"
   },
   {
    "duration": 98,
    "start_time": "2022-04-12T11:54:49.254Z"
   },
   {
    "duration": 98,
    "start_time": "2022-04-12T11:54:49.356Z"
   },
   {
    "duration": 7,
    "start_time": "2022-04-12T11:54:49.456Z"
   },
   {
    "duration": 16668,
    "start_time": "2022-04-12T11:54:49.466Z"
   },
   {
    "duration": 5,
    "start_time": "2022-04-12T11:55:06.136Z"
   },
   {
    "duration": 428,
    "start_time": "2022-04-12T11:55:06.151Z"
   },
   {
    "duration": 6,
    "start_time": "2022-04-12T11:55:06.582Z"
   },
   {
    "duration": 165,
    "start_time": "2022-04-12T11:55:06.590Z"
   },
   {
    "duration": 4,
    "start_time": "2022-04-12T11:55:06.757Z"
   },
   {
    "duration": 8,
    "start_time": "2022-04-12T11:55:06.763Z"
   },
   {
    "duration": 122,
    "start_time": "2022-04-12T11:55:06.773Z"
   },
   {
    "duration": 0,
    "start_time": "2022-04-12T11:55:06.898Z"
   },
   {
    "duration": 0,
    "start_time": "2022-04-12T11:55:06.899Z"
   },
   {
    "duration": 0,
    "start_time": "2022-04-12T11:55:06.901Z"
   },
   {
    "duration": 0,
    "start_time": "2022-04-12T11:55:06.903Z"
   },
   {
    "duration": 0,
    "start_time": "2022-04-12T11:55:06.904Z"
   },
   {
    "duration": 0,
    "start_time": "2022-04-12T11:55:06.906Z"
   },
   {
    "duration": 0,
    "start_time": "2022-04-12T11:55:06.907Z"
   },
   {
    "duration": 0,
    "start_time": "2022-04-12T11:55:06.909Z"
   },
   {
    "duration": 0,
    "start_time": "2022-04-12T11:55:06.911Z"
   },
   {
    "duration": 0,
    "start_time": "2022-04-12T11:55:06.912Z"
   },
   {
    "duration": 0,
    "start_time": "2022-04-12T11:55:06.914Z"
   },
   {
    "duration": 0,
    "start_time": "2022-04-12T11:55:06.915Z"
   },
   {
    "duration": 0,
    "start_time": "2022-04-12T11:55:06.917Z"
   },
   {
    "duration": 0,
    "start_time": "2022-04-12T11:55:06.918Z"
   },
   {
    "duration": 125,
    "start_time": "2022-04-12T12:07:50.655Z"
   },
   {
    "duration": 0,
    "start_time": "2022-04-12T12:07:50.783Z"
   },
   {
    "duration": 0,
    "start_time": "2022-04-12T12:07:50.784Z"
   },
   {
    "duration": 0,
    "start_time": "2022-04-12T12:07:50.785Z"
   },
   {
    "duration": 0,
    "start_time": "2022-04-12T12:07:50.787Z"
   },
   {
    "duration": 0,
    "start_time": "2022-04-12T12:07:50.788Z"
   },
   {
    "duration": 0,
    "start_time": "2022-04-12T12:07:50.790Z"
   },
   {
    "duration": 0,
    "start_time": "2022-04-12T12:07:50.791Z"
   },
   {
    "duration": 0,
    "start_time": "2022-04-12T12:07:50.792Z"
   },
   {
    "duration": 0,
    "start_time": "2022-04-12T12:07:50.793Z"
   },
   {
    "duration": 0,
    "start_time": "2022-04-12T12:07:50.794Z"
   },
   {
    "duration": 0,
    "start_time": "2022-04-12T12:07:50.796Z"
   },
   {
    "duration": 0,
    "start_time": "2022-04-12T12:07:50.797Z"
   },
   {
    "duration": 0,
    "start_time": "2022-04-12T12:07:50.798Z"
   },
   {
    "duration": 0,
    "start_time": "2022-04-12T12:07:50.799Z"
   },
   {
    "duration": 0,
    "start_time": "2022-04-12T12:07:50.801Z"
   },
   {
    "duration": 153,
    "start_time": "2022-04-12T12:08:29.978Z"
   },
   {
    "duration": 0,
    "start_time": "2022-04-12T12:08:30.134Z"
   },
   {
    "duration": 0,
    "start_time": "2022-04-12T12:08:30.135Z"
   },
   {
    "duration": 0,
    "start_time": "2022-04-12T12:08:30.137Z"
   },
   {
    "duration": 0,
    "start_time": "2022-04-12T12:08:30.138Z"
   },
   {
    "duration": 0,
    "start_time": "2022-04-12T12:08:30.140Z"
   },
   {
    "duration": 0,
    "start_time": "2022-04-12T12:08:30.142Z"
   },
   {
    "duration": 0,
    "start_time": "2022-04-12T12:08:30.143Z"
   },
   {
    "duration": 0,
    "start_time": "2022-04-12T12:08:30.145Z"
   },
   {
    "duration": 0,
    "start_time": "2022-04-12T12:08:30.146Z"
   },
   {
    "duration": 0,
    "start_time": "2022-04-12T12:08:30.147Z"
   },
   {
    "duration": 0,
    "start_time": "2022-04-12T12:08:30.148Z"
   },
   {
    "duration": 0,
    "start_time": "2022-04-12T12:08:30.150Z"
   },
   {
    "duration": 0,
    "start_time": "2022-04-12T12:08:30.151Z"
   },
   {
    "duration": 0,
    "start_time": "2022-04-12T12:08:30.153Z"
   },
   {
    "duration": 0,
    "start_time": "2022-04-12T12:08:30.154Z"
   },
   {
    "duration": 5,
    "start_time": "2022-04-12T12:09:03.310Z"
   },
   {
    "duration": 194,
    "start_time": "2022-04-12T12:09:03.323Z"
   },
   {
    "duration": 0,
    "start_time": "2022-04-12T12:09:03.520Z"
   },
   {
    "duration": 0,
    "start_time": "2022-04-12T12:09:03.522Z"
   },
   {
    "duration": 0,
    "start_time": "2022-04-12T12:09:03.525Z"
   },
   {
    "duration": 0,
    "start_time": "2022-04-12T12:09:03.526Z"
   },
   {
    "duration": 0,
    "start_time": "2022-04-12T12:09:03.528Z"
   },
   {
    "duration": 0,
    "start_time": "2022-04-12T12:09:03.530Z"
   },
   {
    "duration": 0,
    "start_time": "2022-04-12T12:09:03.531Z"
   },
   {
    "duration": 0,
    "start_time": "2022-04-12T12:09:03.552Z"
   },
   {
    "duration": 0,
    "start_time": "2022-04-12T12:09:03.553Z"
   },
   {
    "duration": 0,
    "start_time": "2022-04-12T12:09:03.555Z"
   },
   {
    "duration": 0,
    "start_time": "2022-04-12T12:09:03.556Z"
   },
   {
    "duration": 0,
    "start_time": "2022-04-12T12:09:03.558Z"
   },
   {
    "duration": 0,
    "start_time": "2022-04-12T12:09:03.560Z"
   },
   {
    "duration": 0,
    "start_time": "2022-04-12T12:09:03.561Z"
   },
   {
    "duration": 5,
    "start_time": "2022-04-12T12:10:06.722Z"
   },
   {
    "duration": 4,
    "start_time": "2022-04-12T12:10:06.732Z"
   },
   {
    "duration": 2589401,
    "start_time": "2022-04-12T12:10:06.738Z"
   },
   {
    "duration": 0,
    "start_time": "2022-04-12T12:53:16.142Z"
   },
   {
    "duration": 0,
    "start_time": "2022-04-12T12:53:16.144Z"
   },
   {
    "duration": 0,
    "start_time": "2022-04-12T12:53:16.145Z"
   },
   {
    "duration": 0,
    "start_time": "2022-04-12T12:53:16.147Z"
   },
   {
    "duration": 0,
    "start_time": "2022-04-12T12:53:16.148Z"
   },
   {
    "duration": 0,
    "start_time": "2022-04-12T12:53:16.149Z"
   },
   {
    "duration": 0,
    "start_time": "2022-04-12T12:53:16.151Z"
   },
   {
    "duration": 0,
    "start_time": "2022-04-12T12:53:16.152Z"
   },
   {
    "duration": 0,
    "start_time": "2022-04-12T12:53:16.154Z"
   },
   {
    "duration": 0,
    "start_time": "2022-04-12T12:53:16.155Z"
   },
   {
    "duration": 0,
    "start_time": "2022-04-12T12:53:16.156Z"
   },
   {
    "duration": 0,
    "start_time": "2022-04-12T12:53:16.158Z"
   },
   {
    "duration": 0,
    "start_time": "2022-04-12T12:53:16.160Z"
   },
   {
    "duration": 0,
    "start_time": "2022-04-12T12:53:16.161Z"
   },
   {
    "duration": 1980,
    "start_time": "2022-04-12T12:54:56.281Z"
   },
   {
    "duration": 1128,
    "start_time": "2022-04-12T12:54:58.264Z"
   },
   {
    "duration": 170,
    "start_time": "2022-04-12T12:54:59.395Z"
   },
   {
    "duration": 6,
    "start_time": "2022-04-12T12:54:59.567Z"
   },
   {
    "duration": 174,
    "start_time": "2022-04-12T12:54:59.575Z"
   },
   {
    "duration": 129,
    "start_time": "2022-04-12T12:54:59.751Z"
   },
   {
    "duration": 418,
    "start_time": "2022-04-12T12:54:59.882Z"
   },
   {
    "duration": 61,
    "start_time": "2022-04-12T12:55:00.302Z"
   },
   {
    "duration": 231,
    "start_time": "2022-04-12T12:55:00.366Z"
   },
   {
    "duration": 13138,
    "start_time": "2022-04-12T12:55:00.601Z"
   },
   {
    "duration": 77,
    "start_time": "2022-04-12T12:55:13.741Z"
   },
   {
    "duration": 13475,
    "start_time": "2022-04-12T12:55:13.820Z"
   },
   {
    "duration": 249,
    "start_time": "2022-04-12T12:55:27.298Z"
   },
   {
    "duration": 276,
    "start_time": "2022-04-12T12:55:27.552Z"
   },
   {
    "duration": 8,
    "start_time": "2022-04-12T12:55:27.830Z"
   },
   {
    "duration": 767,
    "start_time": "2022-04-12T12:55:27.852Z"
   },
   {
    "duration": 31,
    "start_time": "2022-04-12T12:55:28.622Z"
   },
   {
    "duration": 39,
    "start_time": "2022-04-12T12:55:28.655Z"
   },
   {
    "duration": 7,
    "start_time": "2022-04-12T12:55:28.697Z"
   },
   {
    "duration": 20,
    "start_time": "2022-04-12T12:55:28.706Z"
   },
   {
    "duration": 74,
    "start_time": "2022-04-12T12:55:28.728Z"
   },
   {
    "duration": 693,
    "start_time": "2022-04-12T12:55:28.804Z"
   },
   {
    "duration": 36,
    "start_time": "2022-04-12T12:55:29.499Z"
   },
   {
    "duration": 803,
    "start_time": "2022-04-12T12:55:29.552Z"
   },
   {
    "duration": 36,
    "start_time": "2022-04-12T12:55:30.357Z"
   },
   {
    "duration": 728,
    "start_time": "2022-04-12T12:55:30.395Z"
   },
   {
    "duration": 45,
    "start_time": "2022-04-12T12:55:31.126Z"
   },
   {
    "duration": 90,
    "start_time": "2022-04-12T12:55:31.177Z"
   },
   {
    "duration": 4,
    "start_time": "2022-04-12T12:55:31.269Z"
   },
   {
    "duration": 1121,
    "start_time": "2022-04-12T12:55:31.275Z"
   },
   {
    "duration": 16,
    "start_time": "2022-04-12T12:55:32.398Z"
   },
   {
    "duration": 90,
    "start_time": "2022-04-12T12:55:32.417Z"
   },
   {
    "duration": 59,
    "start_time": "2022-04-12T12:55:32.509Z"
   },
   {
    "duration": 511,
    "start_time": "2022-04-12T12:55:32.570Z"
   },
   {
    "duration": 669,
    "start_time": "2022-04-12T12:55:33.083Z"
   },
   {
    "duration": 133,
    "start_time": "2022-04-12T12:55:33.760Z"
   },
   {
    "duration": 126,
    "start_time": "2022-04-12T12:55:33.953Z"
   },
   {
    "duration": 78,
    "start_time": "2022-04-12T12:55:34.082Z"
   },
   {
    "duration": 5,
    "start_time": "2022-04-12T12:55:34.253Z"
   },
   {
    "duration": 14831,
    "start_time": "2022-04-12T12:55:34.259Z"
   },
   {
    "duration": 4,
    "start_time": "2022-04-12T12:55:49.092Z"
   },
   {
    "duration": 417,
    "start_time": "2022-04-12T12:55:49.099Z"
   },
   {
    "duration": 8,
    "start_time": "2022-04-12T12:55:49.518Z"
   },
   {
    "duration": 149,
    "start_time": "2022-04-12T12:55:49.528Z"
   },
   {
    "duration": 4,
    "start_time": "2022-04-12T12:55:49.679Z"
   },
   {
    "duration": 6,
    "start_time": "2022-04-12T12:55:49.685Z"
   },
   {
    "duration": 1781991,
    "start_time": "2022-04-12T12:55:49.693Z"
   },
   {
    "duration": 0,
    "start_time": "2022-04-12T13:25:31.687Z"
   },
   {
    "duration": 0,
    "start_time": "2022-04-12T13:25:31.689Z"
   },
   {
    "duration": 0,
    "start_time": "2022-04-12T13:25:31.690Z"
   },
   {
    "duration": 0,
    "start_time": "2022-04-12T13:25:31.692Z"
   },
   {
    "duration": 0,
    "start_time": "2022-04-12T13:25:31.694Z"
   },
   {
    "duration": 0,
    "start_time": "2022-04-12T13:25:31.695Z"
   },
   {
    "duration": 0,
    "start_time": "2022-04-12T13:25:31.697Z"
   },
   {
    "duration": 0,
    "start_time": "2022-04-12T13:25:31.699Z"
   },
   {
    "duration": 0,
    "start_time": "2022-04-12T13:25:31.701Z"
   },
   {
    "duration": 14,
    "start_time": "2022-04-12T13:25:34.031Z"
   },
   {
    "duration": 109,
    "start_time": "2022-04-12T13:25:46.567Z"
   },
   {
    "duration": 4,
    "start_time": "2022-04-12T13:31:33.016Z"
   },
   {
    "duration": 133,
    "start_time": "2022-04-12T13:31:33.156Z"
   },
   {
    "duration": 4,
    "start_time": "2022-04-12T13:31:33.323Z"
   },
   {
    "duration": 2115,
    "start_time": "2022-04-12T13:40:23.913Z"
   },
   {
    "duration": 1112,
    "start_time": "2022-04-12T13:40:26.030Z"
   },
   {
    "duration": 171,
    "start_time": "2022-04-12T13:40:27.144Z"
   },
   {
    "duration": 5,
    "start_time": "2022-04-12T13:40:27.319Z"
   },
   {
    "duration": 171,
    "start_time": "2022-04-12T13:40:27.351Z"
   },
   {
    "duration": 141,
    "start_time": "2022-04-12T13:40:27.524Z"
   },
   {
    "duration": 406,
    "start_time": "2022-04-12T13:40:27.667Z"
   },
   {
    "duration": 35,
    "start_time": "2022-04-12T13:40:28.075Z"
   },
   {
    "duration": 241,
    "start_time": "2022-04-12T13:40:28.113Z"
   },
   {
    "duration": 13174,
    "start_time": "2022-04-12T13:40:28.358Z"
   },
   {
    "duration": 79,
    "start_time": "2022-04-12T13:40:41.534Z"
   },
   {
    "duration": 14528,
    "start_time": "2022-04-12T13:40:41.616Z"
   },
   {
    "duration": 257,
    "start_time": "2022-04-12T13:40:56.146Z"
   },
   {
    "duration": 300,
    "start_time": "2022-04-12T13:40:56.405Z"
   },
   {
    "duration": 13,
    "start_time": "2022-04-12T13:40:56.707Z"
   },
   {
    "duration": 791,
    "start_time": "2022-04-12T13:40:56.722Z"
   },
   {
    "duration": 14,
    "start_time": "2022-04-12T13:40:57.515Z"
   },
   {
    "duration": 56,
    "start_time": "2022-04-12T13:40:57.532Z"
   },
   {
    "duration": 9,
    "start_time": "2022-04-12T13:40:57.590Z"
   },
   {
    "duration": 8,
    "start_time": "2022-04-12T13:40:57.602Z"
   },
   {
    "duration": 73,
    "start_time": "2022-04-12T13:40:57.613Z"
   },
   {
    "duration": 863,
    "start_time": "2022-04-12T13:40:57.689Z"
   },
   {
    "duration": 35,
    "start_time": "2022-04-12T13:40:58.554Z"
   },
   {
    "duration": 824,
    "start_time": "2022-04-12T13:40:58.591Z"
   },
   {
    "duration": 50,
    "start_time": "2022-04-12T13:40:59.417Z"
   },
   {
    "duration": 719,
    "start_time": "2022-04-12T13:40:59.469Z"
   },
   {
    "duration": 33,
    "start_time": "2022-04-12T13:41:00.190Z"
   },
   {
    "duration": 97,
    "start_time": "2022-04-12T13:41:00.230Z"
   },
   {
    "duration": 123,
    "start_time": "2022-04-12T13:41:00.330Z"
   },
   {
    "duration": 1097,
    "start_time": "2022-04-12T13:41:00.455Z"
   },
   {
    "duration": 17,
    "start_time": "2022-04-12T13:41:01.555Z"
   },
   {
    "duration": 80,
    "start_time": "2022-04-12T13:41:01.575Z"
   },
   {
    "duration": 50,
    "start_time": "2022-04-12T13:41:01.658Z"
   },
   {
    "duration": 467,
    "start_time": "2022-04-12T13:41:01.710Z"
   },
   {
    "duration": 645,
    "start_time": "2022-04-12T13:41:02.251Z"
   },
   {
    "duration": 191,
    "start_time": "2022-04-12T13:41:02.899Z"
   },
   {
    "duration": 263,
    "start_time": "2022-04-12T13:41:03.093Z"
   },
   {
    "duration": 97,
    "start_time": "2022-04-12T13:41:03.360Z"
   },
   {
    "duration": 8,
    "start_time": "2022-04-12T13:41:03.460Z"
   },
   {
    "duration": 15148,
    "start_time": "2022-04-12T13:41:03.470Z"
   },
   {
    "duration": 4,
    "start_time": "2022-04-12T13:41:18.620Z"
   },
   {
    "duration": 420,
    "start_time": "2022-04-12T13:41:18.626Z"
   },
   {
    "duration": 7,
    "start_time": "2022-04-12T13:41:19.048Z"
   },
   {
    "duration": 5,
    "start_time": "2022-04-12T13:41:19.057Z"
   },
   {
    "duration": 57495,
    "start_time": "2022-04-12T13:41:19.064Z"
   },
   {
    "duration": 3,
    "start_time": "2022-04-12T13:42:16.562Z"
   },
   {
    "duration": 4390,
    "start_time": "2022-04-12T13:42:16.567Z"
   },
   {
    "duration": 203,
    "start_time": "2022-04-12T13:42:20.959Z"
   },
   {
    "duration": 0,
    "start_time": "2022-04-12T13:42:21.164Z"
   },
   {
    "duration": 0,
    "start_time": "2022-04-12T13:42:21.165Z"
   },
   {
    "duration": 0,
    "start_time": "2022-04-12T13:42:21.167Z"
   },
   {
    "duration": 0,
    "start_time": "2022-04-12T13:42:21.168Z"
   },
   {
    "duration": 0,
    "start_time": "2022-04-12T13:42:21.169Z"
   },
   {
    "duration": 0,
    "start_time": "2022-04-12T13:42:21.170Z"
   },
   {
    "duration": 0,
    "start_time": "2022-04-12T13:42:21.172Z"
   },
   {
    "duration": 0,
    "start_time": "2022-04-12T13:42:21.173Z"
   },
   {
    "duration": 0,
    "start_time": "2022-04-12T13:42:21.174Z"
   },
   {
    "duration": 172,
    "start_time": "2022-04-12T13:44:43.281Z"
   },
   {
    "duration": 13,
    "start_time": "2022-04-12T13:45:21.789Z"
   },
   {
    "duration": 7,
    "start_time": "2022-04-12T13:45:38.273Z"
   },
   {
    "duration": 12,
    "start_time": "2022-04-12T13:45:58.617Z"
   },
   {
    "duration": 0,
    "start_time": "2022-04-12T13:45:58.631Z"
   },
   {
    "duration": 0,
    "start_time": "2022-04-12T13:45:58.632Z"
   },
   {
    "duration": 0,
    "start_time": "2022-04-12T13:45:58.633Z"
   },
   {
    "duration": 14,
    "start_time": "2022-04-12T13:45:58.661Z"
   },
   {
    "duration": 0,
    "start_time": "2022-04-12T13:45:58.677Z"
   },
   {
    "duration": 0,
    "start_time": "2022-04-12T13:45:58.679Z"
   },
   {
    "duration": 0,
    "start_time": "2022-04-12T13:45:58.681Z"
   },
   {
    "duration": 13,
    "start_time": "2022-04-12T13:45:58.696Z"
   },
   {
    "duration": 12,
    "start_time": "2022-04-12T13:48:26.821Z"
   },
   {
    "duration": 2157,
    "start_time": "2022-04-12T13:48:42.966Z"
   },
   {
    "duration": 1294,
    "start_time": "2022-04-12T13:48:45.127Z"
   },
   {
    "duration": 189,
    "start_time": "2022-04-12T13:48:46.423Z"
   },
   {
    "duration": 6,
    "start_time": "2022-04-12T13:48:46.614Z"
   },
   {
    "duration": 198,
    "start_time": "2022-04-12T13:48:46.623Z"
   },
   {
    "duration": 145,
    "start_time": "2022-04-12T13:48:46.823Z"
   },
   {
    "duration": 442,
    "start_time": "2022-04-12T13:48:46.971Z"
   },
   {
    "duration": 53,
    "start_time": "2022-04-12T13:48:47.416Z"
   },
   {
    "duration": 244,
    "start_time": "2022-04-12T13:48:47.471Z"
   },
   {
    "duration": 13910,
    "start_time": "2022-04-12T13:48:47.717Z"
   },
   {
    "duration": 87,
    "start_time": "2022-04-12T13:49:01.629Z"
   },
   {
    "duration": 15450,
    "start_time": "2022-04-12T13:49:01.718Z"
   },
   {
    "duration": 263,
    "start_time": "2022-04-12T13:49:17.170Z"
   },
   {
    "duration": 295,
    "start_time": "2022-04-12T13:49:17.438Z"
   },
   {
    "duration": 8,
    "start_time": "2022-04-12T13:49:17.735Z"
   },
   {
    "duration": 833,
    "start_time": "2022-04-12T13:49:17.753Z"
   },
   {
    "duration": 17,
    "start_time": "2022-04-12T13:49:18.589Z"
   },
   {
    "duration": 73,
    "start_time": "2022-04-12T13:49:18.608Z"
   },
   {
    "duration": 7,
    "start_time": "2022-04-12T13:49:18.683Z"
   },
   {
    "duration": 7,
    "start_time": "2022-04-12T13:49:18.692Z"
   },
   {
    "duration": 67,
    "start_time": "2022-04-12T13:49:18.701Z"
   },
   {
    "duration": 775,
    "start_time": "2022-04-12T13:49:18.770Z"
   },
   {
    "duration": 40,
    "start_time": "2022-04-12T13:49:19.551Z"
   },
   {
    "duration": 958,
    "start_time": "2022-04-12T13:49:19.594Z"
   },
   {
    "duration": 40,
    "start_time": "2022-04-12T13:49:20.555Z"
   },
   {
    "duration": 783,
    "start_time": "2022-04-12T13:49:20.597Z"
   },
   {
    "duration": 32,
    "start_time": "2022-04-12T13:49:21.382Z"
   },
   {
    "duration": 114,
    "start_time": "2022-04-12T13:49:21.416Z"
   },
   {
    "duration": 137,
    "start_time": "2022-04-12T13:49:21.532Z"
   },
   {
    "duration": 1501,
    "start_time": "2022-04-12T13:49:21.672Z"
   },
   {
    "duration": 17,
    "start_time": "2022-04-12T13:49:23.175Z"
   },
   {
    "duration": 84,
    "start_time": "2022-04-12T13:49:23.194Z"
   },
   {
    "duration": 46,
    "start_time": "2022-04-12T13:49:23.280Z"
   },
   {
    "duration": 528,
    "start_time": "2022-04-12T13:49:23.328Z"
   },
   {
    "duration": 534,
    "start_time": "2022-04-12T13:49:23.859Z"
   },
   {
    "duration": 192,
    "start_time": "2022-04-12T13:49:24.395Z"
   },
   {
    "duration": 138,
    "start_time": "2022-04-12T13:49:24.653Z"
   },
   {
    "duration": 84,
    "start_time": "2022-04-12T13:49:24.794Z"
   },
   {
    "duration": 101,
    "start_time": "2022-04-12T13:49:24.881Z"
   },
   {
    "duration": 16951,
    "start_time": "2022-04-12T13:49:24.985Z"
   },
   {
    "duration": 9,
    "start_time": "2022-04-12T13:49:41.943Z"
   },
   {
    "duration": 462,
    "start_time": "2022-04-12T13:49:41.955Z"
   },
   {
    "duration": 7,
    "start_time": "2022-04-12T13:49:42.420Z"
   },
   {
    "duration": 22,
    "start_time": "2022-04-12T13:49:42.430Z"
   },
   {
    "duration": 36472,
    "start_time": "2022-04-12T13:49:42.455Z"
   },
   {
    "duration": 0,
    "start_time": "2022-04-12T13:50:18.929Z"
   },
   {
    "duration": 0,
    "start_time": "2022-04-12T13:50:18.931Z"
   },
   {
    "duration": 0,
    "start_time": "2022-04-12T13:50:18.933Z"
   },
   {
    "duration": 0,
    "start_time": "2022-04-12T13:50:18.935Z"
   },
   {
    "duration": 0,
    "start_time": "2022-04-12T13:50:18.937Z"
   },
   {
    "duration": 0,
    "start_time": "2022-04-12T13:50:18.952Z"
   },
   {
    "duration": 1,
    "start_time": "2022-04-12T13:50:18.954Z"
   },
   {
    "duration": 0,
    "start_time": "2022-04-12T13:50:18.957Z"
   },
   {
    "duration": 0,
    "start_time": "2022-04-12T13:50:18.959Z"
   },
   {
    "duration": 0,
    "start_time": "2022-04-12T13:50:18.961Z"
   },
   {
    "duration": 0,
    "start_time": "2022-04-12T13:50:18.963Z"
   },
   {
    "duration": 1,
    "start_time": "2022-04-12T13:50:18.965Z"
   },
   {
    "duration": 1518,
    "start_time": "2022-04-12T16:14:48.431Z"
   },
   {
    "duration": 794,
    "start_time": "2022-04-12T16:14:49.951Z"
   },
   {
    "duration": 143,
    "start_time": "2022-04-12T16:14:50.747Z"
   },
   {
    "duration": 4,
    "start_time": "2022-04-12T16:14:52.799Z"
   },
   {
    "duration": 126,
    "start_time": "2022-04-12T16:14:53.502Z"
   },
   {
    "duration": 87,
    "start_time": "2022-04-12T16:14:55.254Z"
   },
   {
    "duration": 275,
    "start_time": "2022-04-12T16:15:01.103Z"
   },
   {
    "duration": 28,
    "start_time": "2022-04-12T16:15:01.963Z"
   },
   {
    "duration": 152,
    "start_time": "2022-04-12T16:15:04.062Z"
   },
   {
    "duration": 8651,
    "start_time": "2022-04-12T16:15:04.990Z"
   },
   {
    "duration": 52,
    "start_time": "2022-04-12T16:15:13.643Z"
   },
   {
    "duration": 7016,
    "start_time": "2022-04-12T16:15:13.697Z"
   },
   {
    "duration": 148,
    "start_time": "2022-04-12T16:15:20.715Z"
   },
   {
    "duration": 163,
    "start_time": "2022-04-12T16:15:20.873Z"
   },
   {
    "duration": 6,
    "start_time": "2022-04-12T16:15:31.390Z"
   },
   {
    "duration": 485,
    "start_time": "2022-04-12T16:15:34.046Z"
   },
   {
    "duration": 5,
    "start_time": "2022-04-12T16:15:40.662Z"
   },
   {
    "duration": 524,
    "start_time": "2022-04-12T16:15:41.198Z"
   },
   {
    "duration": 98,
    "start_time": "2022-04-12T16:15:53.374Z"
   },
   {
    "duration": 5,
    "start_time": "2022-04-12T16:15:56.494Z"
   },
   {
    "duration": 517,
    "start_time": "2022-04-12T16:15:56.950Z"
   },
   {
    "duration": 12,
    "start_time": "2022-04-12T16:16:06.999Z"
   },
   {
    "duration": 21,
    "start_time": "2022-04-12T16:16:08.398Z"
   },
   {
    "duration": 6,
    "start_time": "2022-04-12T16:16:10.214Z"
   },
   {
    "duration": 5,
    "start_time": "2022-04-12T16:16:10.767Z"
   },
   {
    "duration": 21,
    "start_time": "2022-04-12T16:16:12.238Z"
   },
   {
    "duration": 471,
    "start_time": "2022-04-12T16:16:12.815Z"
   },
   {
    "duration": 21,
    "start_time": "2022-04-12T16:16:18.342Z"
   },
   {
    "duration": 517,
    "start_time": "2022-04-12T16:16:19.784Z"
   },
   {
    "duration": 21,
    "start_time": "2022-04-12T16:16:23.138Z"
   },
   {
    "duration": 505,
    "start_time": "2022-04-12T16:16:24.294Z"
   },
   {
    "duration": 18,
    "start_time": "2022-04-12T16:16:39.118Z"
   },
   {
    "duration": 61,
    "start_time": "2022-04-12T16:16:40.603Z"
   },
   {
    "duration": 88,
    "start_time": "2022-04-12T16:17:50.730Z"
   },
   {
    "duration": 766,
    "start_time": "2022-04-12T16:18:20.842Z"
   },
   {
    "duration": 13,
    "start_time": "2022-04-12T16:18:22.339Z"
   },
   {
    "duration": 51,
    "start_time": "2022-04-12T16:18:23.594Z"
   },
   {
    "duration": 822,
    "start_time": "2022-04-12T16:20:35.234Z"
   },
   {
    "duration": 14,
    "start_time": "2022-04-12T16:20:36.065Z"
   },
   {
    "duration": 54,
    "start_time": "2022-04-12T16:20:37.021Z"
   },
   {
    "duration": 38,
    "start_time": "2022-04-12T16:20:39.138Z"
   },
   {
    "duration": 451,
    "start_time": "2022-04-12T16:20:41.122Z"
   },
   {
    "duration": 503,
    "start_time": "2022-04-12T16:21:03.471Z"
   },
   {
    "duration": 119,
    "start_time": "2022-04-12T16:21:05.354Z"
   },
   {
    "duration": 39,
    "start_time": "2022-04-12T16:21:11.134Z"
   },
   {
    "duration": 5,
    "start_time": "2022-04-12T16:21:13.470Z"
   },
   {
    "duration": 3,
    "start_time": "2022-04-12T16:21:20.439Z"
   },
   {
    "duration": 11346,
    "start_time": "2022-04-12T16:21:21.194Z"
   },
   {
    "duration": 3,
    "start_time": "2022-04-12T16:21:32.542Z"
   },
   {
    "duration": 333,
    "start_time": "2022-04-12T16:21:32.546Z"
   },
   {
    "duration": 5,
    "start_time": "2022-04-12T16:21:32.881Z"
   },
   {
    "duration": 10,
    "start_time": "2022-04-12T16:21:32.887Z"
   },
   {
    "duration": 0,
    "start_time": "2022-04-12T16:35:07.203Z"
   },
   {
    "duration": 0,
    "start_time": "2022-04-12T16:35:07.204Z"
   },
   {
    "duration": 0,
    "start_time": "2022-04-12T16:35:07.205Z"
   },
   {
    "duration": 0,
    "start_time": "2022-04-12T16:35:07.206Z"
   },
   {
    "duration": 1480,
    "start_time": "2022-04-12T19:49:39.360Z"
   },
   {
    "duration": 821,
    "start_time": "2022-04-12T19:49:40.842Z"
   },
   {
    "duration": 123,
    "start_time": "2022-04-12T19:49:41.665Z"
   },
   {
    "duration": 4,
    "start_time": "2022-04-12T19:49:41.790Z"
   },
   {
    "duration": 136,
    "start_time": "2022-04-12T19:49:41.795Z"
   },
   {
    "duration": 90,
    "start_time": "2022-04-12T19:49:41.932Z"
   },
   {
    "duration": 301,
    "start_time": "2022-04-12T19:49:42.024Z"
   },
   {
    "duration": 28,
    "start_time": "2022-04-12T19:49:42.327Z"
   },
   {
    "duration": 167,
    "start_time": "2022-04-12T19:49:42.357Z"
   },
   {
    "duration": 8428,
    "start_time": "2022-04-12T19:49:42.527Z"
   },
   {
    "duration": 54,
    "start_time": "2022-04-12T19:49:50.956Z"
   },
   {
    "duration": 6868,
    "start_time": "2022-04-12T19:49:51.011Z"
   },
   {
    "duration": 147,
    "start_time": "2022-04-12T19:49:57.880Z"
   },
   {
    "duration": 167,
    "start_time": "2022-04-12T19:49:58.029Z"
   },
   {
    "duration": 6,
    "start_time": "2022-04-12T19:49:58.198Z"
   },
   {
    "duration": 507,
    "start_time": "2022-04-12T19:49:58.206Z"
   },
   {
    "duration": 13,
    "start_time": "2022-04-12T19:49:58.715Z"
   },
   {
    "duration": 21,
    "start_time": "2022-04-12T19:49:58.730Z"
   },
   {
    "duration": 22,
    "start_time": "2022-04-12T19:49:58.753Z"
   },
   {
    "duration": 6,
    "start_time": "2022-04-12T19:49:58.776Z"
   },
   {
    "duration": 24,
    "start_time": "2022-04-12T19:49:58.783Z"
   },
   {
    "duration": 474,
    "start_time": "2022-04-12T19:49:58.809Z"
   },
   {
    "duration": 21,
    "start_time": "2022-04-12T19:49:59.284Z"
   },
   {
    "duration": 582,
    "start_time": "2022-04-12T19:49:59.306Z"
   },
   {
    "duration": 21,
    "start_time": "2022-04-12T19:49:59.889Z"
   },
   {
    "duration": 486,
    "start_time": "2022-04-12T19:49:59.911Z"
   },
   {
    "duration": 19,
    "start_time": "2022-04-12T19:50:00.399Z"
   },
   {
    "duration": 71,
    "start_time": "2022-04-12T19:50:00.422Z"
   },
   {
    "duration": 95,
    "start_time": "2022-04-12T19:50:00.495Z"
   },
   {
    "duration": 843,
    "start_time": "2022-04-12T19:50:00.591Z"
   },
   {
    "duration": 15,
    "start_time": "2022-04-12T19:50:01.436Z"
   },
   {
    "duration": 78,
    "start_time": "2022-04-12T19:50:01.453Z"
   },
   {
    "duration": 54,
    "start_time": "2022-04-12T19:50:01.532Z"
   },
   {
    "duration": 411,
    "start_time": "2022-04-12T19:50:01.588Z"
   },
   {
    "duration": 614,
    "start_time": "2022-04-12T19:50:02.002Z"
   },
   {
    "duration": 131,
    "start_time": "2022-04-12T19:50:02.676Z"
   },
   {
    "duration": 183,
    "start_time": "2022-04-12T19:50:02.809Z"
   },
   {
    "duration": 182,
    "start_time": "2022-04-12T19:50:02.994Z"
   },
   {
    "duration": 20,
    "start_time": "2022-04-12T19:50:03.178Z"
   },
   {
    "duration": 11542,
    "start_time": "2022-04-12T19:50:03.200Z"
   },
   {
    "duration": 3,
    "start_time": "2022-04-12T19:50:14.744Z"
   },
   {
    "duration": 336,
    "start_time": "2022-04-12T19:50:14.748Z"
   },
   {
    "duration": 4,
    "start_time": "2022-04-12T19:50:15.087Z"
   },
   {
    "duration": 9,
    "start_time": "2022-04-12T19:50:15.093Z"
   },
   {
    "duration": 5,
    "start_time": "2022-04-12T19:50:15.104Z"
   },
   {
    "duration": 151774,
    "start_time": "2022-04-12T19:50:15.111Z"
   },
   {
    "duration": 3,
    "start_time": "2022-04-12T19:52:46.887Z"
   },
   {
    "duration": 9504,
    "start_time": "2022-04-12T19:52:46.891Z"
   },
   {
    "duration": 4,
    "start_time": "2022-04-12T19:52:56.474Z"
   },
   {
    "duration": 64,
    "start_time": "2022-04-12T19:52:56.480Z"
   },
   {
    "duration": 3,
    "start_time": "2022-04-12T19:52:56.546Z"
   },
   {
    "duration": 7,
    "start_time": "2022-04-12T19:52:56.550Z"
   },
   {
    "duration": 313928,
    "start_time": "2022-04-12T19:52:56.573Z"
   },
   {
    "duration": 3,
    "start_time": "2022-04-12T19:58:10.503Z"
   },
   {
    "duration": 33013,
    "start_time": "2022-04-12T19:58:10.508Z"
   },
   {
    "duration": 5,
    "start_time": "2022-04-12T19:58:43.522Z"
   },
   {
    "duration": 18,
    "start_time": "2022-04-12T19:58:43.529Z"
   },
   {
    "duration": 58563,
    "start_time": "2022-04-13T18:47:33.034Z"
   },
   {
    "duration": 848,
    "start_time": "2022-04-13T18:48:31.599Z"
   },
   {
    "duration": 146,
    "start_time": "2022-04-13T18:48:32.449Z"
   },
   {
    "duration": 4,
    "start_time": "2022-04-13T18:48:32.597Z"
   },
   {
    "duration": 169,
    "start_time": "2022-04-13T18:48:32.603Z"
   },
   {
    "duration": 116,
    "start_time": "2022-04-13T18:48:32.774Z"
   },
   {
    "duration": 326,
    "start_time": "2022-04-13T18:48:32.892Z"
   },
   {
    "duration": 33,
    "start_time": "2022-04-13T18:48:33.219Z"
   },
   {
    "duration": 171,
    "start_time": "2022-04-13T18:48:33.254Z"
   },
   {
    "duration": 10735,
    "start_time": "2022-04-13T18:48:33.427Z"
   },
   {
    "duration": 47,
    "start_time": "2022-04-13T18:48:44.164Z"
   },
   {
    "duration": 8449,
    "start_time": "2022-04-13T18:48:44.222Z"
   },
   {
    "duration": 178,
    "start_time": "2022-04-13T18:48:52.672Z"
   },
   {
    "duration": 189,
    "start_time": "2022-04-13T18:48:52.852Z"
   },
   {
    "duration": 9,
    "start_time": "2022-04-13T18:48:53.043Z"
   },
   {
    "duration": 554,
    "start_time": "2022-04-13T18:48:53.054Z"
   },
   {
    "duration": 18,
    "start_time": "2022-04-13T18:48:53.610Z"
   },
   {
    "duration": 26,
    "start_time": "2022-04-13T18:48:53.630Z"
   },
   {
    "duration": 5,
    "start_time": "2022-04-13T18:48:53.658Z"
   },
   {
    "duration": 5,
    "start_time": "2022-04-13T18:48:53.665Z"
   },
   {
    "duration": 18,
    "start_time": "2022-04-13T18:48:53.673Z"
   },
   {
    "duration": 547,
    "start_time": "2022-04-13T18:48:53.693Z"
   },
   {
    "duration": 25,
    "start_time": "2022-04-13T18:48:54.244Z"
   },
   {
    "duration": 566,
    "start_time": "2022-04-13T18:48:54.271Z"
   },
   {
    "duration": 22,
    "start_time": "2022-04-13T18:48:54.839Z"
   },
   {
    "duration": 491,
    "start_time": "2022-04-13T18:48:54.863Z"
   },
   {
    "duration": 16,
    "start_time": "2022-04-13T18:48:55.358Z"
   },
   {
    "duration": 86,
    "start_time": "2022-04-13T18:48:55.378Z"
   },
   {
    "duration": 109,
    "start_time": "2022-04-13T18:48:55.466Z"
   },
   {
    "duration": 841,
    "start_time": "2022-04-13T18:48:55.577Z"
   },
   {
    "duration": 16,
    "start_time": "2022-04-13T18:48:56.421Z"
   },
   {
    "duration": 51,
    "start_time": "2022-04-13T18:48:56.441Z"
   },
   {
    "duration": 51,
    "start_time": "2022-04-13T18:48:56.494Z"
   },
   {
    "duration": 421,
    "start_time": "2022-04-13T18:48:56.547Z"
   },
   {
    "duration": 595,
    "start_time": "2022-04-13T18:48:56.971Z"
   },
   {
    "duration": 254,
    "start_time": "2022-04-13T18:48:57.568Z"
   },
   {
    "duration": 216,
    "start_time": "2022-04-13T18:48:57.824Z"
   },
   {
    "duration": 93,
    "start_time": "2022-04-13T18:48:58.042Z"
   },
   {
    "duration": 9,
    "start_time": "2022-04-13T18:48:58.143Z"
   },
   {
    "duration": 12939,
    "start_time": "2022-04-13T18:48:58.155Z"
   },
   {
    "duration": 3,
    "start_time": "2022-04-13T18:49:11.095Z"
   },
   {
    "duration": 389,
    "start_time": "2022-04-13T18:49:11.100Z"
   },
   {
    "duration": 4,
    "start_time": "2022-04-13T18:49:11.491Z"
   },
   {
    "duration": 4,
    "start_time": "2022-04-13T18:49:11.497Z"
   },
   {
    "duration": 26,
    "start_time": "2022-04-13T18:49:11.503Z"
   },
   {
    "duration": 4260872,
    "start_time": "2022-04-13T18:49:11.531Z"
   },
   {
    "duration": 0,
    "start_time": "2022-04-13T20:00:12.405Z"
   },
   {
    "duration": 0,
    "start_time": "2022-04-13T20:00:12.406Z"
   },
   {
    "duration": 0,
    "start_time": "2022-04-13T20:00:12.407Z"
   },
   {
    "duration": 0,
    "start_time": "2022-04-13T20:00:12.409Z"
   },
   {
    "duration": 0,
    "start_time": "2022-04-13T20:00:12.410Z"
   },
   {
    "duration": 0,
    "start_time": "2022-04-13T20:00:12.411Z"
   },
   {
    "duration": 0,
    "start_time": "2022-04-13T20:00:12.424Z"
   },
   {
    "duration": 0,
    "start_time": "2022-04-13T20:00:12.425Z"
   },
   {
    "duration": 0,
    "start_time": "2022-04-13T20:00:12.425Z"
   },
   {
    "duration": 0,
    "start_time": "2022-04-13T20:00:12.426Z"
   },
   {
    "duration": 0,
    "start_time": "2022-04-13T20:00:12.428Z"
   },
   {
    "duration": 0,
    "start_time": "2022-04-13T20:00:12.428Z"
   },
   {
    "duration": 92,
    "start_time": "2022-04-13T20:00:28.100Z"
   },
   {
    "duration": 4,
    "start_time": "2022-04-13T20:00:28.194Z"
   },
   {
    "duration": 20,
    "start_time": "2022-04-13T20:00:28.199Z"
   },
   {
    "duration": 446499,
    "start_time": "2022-04-13T20:00:28.221Z"
   },
   {
    "duration": 5,
    "start_time": "2022-04-13T20:07:54.722Z"
   },
   {
    "duration": 46262,
    "start_time": "2022-04-13T20:07:54.729Z"
   },
   {
    "duration": 5,
    "start_time": "2022-04-13T20:08:40.993Z"
   },
   {
    "duration": 11,
    "start_time": "2022-04-13T20:08:40.999Z"
   },
   {
    "duration": 189,
    "start_time": "2022-04-13T20:09:11.972Z"
   },
   {
    "duration": 202,
    "start_time": "2022-04-13T20:09:31.971Z"
   },
   {
    "duration": 30,
    "start_time": "2022-04-13T20:09:40.129Z"
   },
   {
    "duration": 2094,
    "start_time": "2022-04-14T18:07:19.521Z"
   },
   {
    "duration": 1071,
    "start_time": "2022-04-14T18:07:21.620Z"
   },
   {
    "duration": 171,
    "start_time": "2022-04-14T18:07:22.693Z"
   },
   {
    "duration": 5,
    "start_time": "2022-04-14T18:07:22.867Z"
   },
   {
    "duration": 162,
    "start_time": "2022-04-14T18:07:22.882Z"
   },
   {
    "duration": 161,
    "start_time": "2022-04-14T18:07:23.046Z"
   },
   {
    "duration": 388,
    "start_time": "2022-04-14T18:07:24.005Z"
   },
   {
    "duration": 35,
    "start_time": "2022-04-14T18:07:24.396Z"
   },
   {
    "duration": 210,
    "start_time": "2022-04-14T18:07:24.765Z"
   },
   {
    "duration": 12448,
    "start_time": "2022-04-14T18:07:25.269Z"
   },
   {
    "duration": 78,
    "start_time": "2022-04-14T18:07:37.719Z"
   },
   {
    "duration": 13458,
    "start_time": "2022-04-14T18:07:37.800Z"
   },
   {
    "duration": 250,
    "start_time": "2022-04-14T18:07:51.261Z"
   },
   {
    "duration": 302,
    "start_time": "2022-04-14T18:07:51.513Z"
   },
   {
    "duration": 8,
    "start_time": "2022-04-14T18:07:51.817Z"
   },
   {
    "duration": 794,
    "start_time": "2022-04-14T18:07:51.828Z"
   },
   {
    "duration": 14,
    "start_time": "2022-04-14T18:07:52.625Z"
   },
   {
    "duration": 61,
    "start_time": "2022-04-14T18:07:52.642Z"
   },
   {
    "duration": 9,
    "start_time": "2022-04-14T18:07:52.706Z"
   },
   {
    "duration": 7,
    "start_time": "2022-04-14T18:07:56.277Z"
   },
   {
    "duration": 42,
    "start_time": "2022-04-14T18:07:57.541Z"
   },
   {
    "duration": 810,
    "start_time": "2022-04-14T18:07:58.001Z"
   },
   {
    "duration": 35,
    "start_time": "2022-04-14T18:07:59.089Z"
   },
   {
    "duration": 904,
    "start_time": "2022-04-14T18:08:00.569Z"
   },
   {
    "duration": 35,
    "start_time": "2022-04-14T18:08:02.277Z"
   },
   {
    "duration": 715,
    "start_time": "2022-04-14T18:08:03.045Z"
   },
   {
    "duration": 33,
    "start_time": "2022-04-14T18:08:04.181Z"
   },
   {
    "duration": 77,
    "start_time": "2022-04-14T18:08:05.413Z"
   },
   {
    "duration": 101,
    "start_time": "2022-04-14T18:08:07.973Z"
   },
   {
    "duration": 169,
    "start_time": "2022-04-14T18:08:11.373Z"
   },
   {
    "duration": 31,
    "start_time": "2022-04-14T18:08:57.233Z"
   },
   {
    "duration": 30,
    "start_time": "2022-04-14T18:09:18.162Z"
   },
   {
    "duration": 26,
    "start_time": "2022-04-14T18:11:28.145Z"
   },
   {
    "duration": 28,
    "start_time": "2022-04-14T18:12:25.977Z"
   },
   {
    "duration": 38,
    "start_time": "2022-04-14T18:13:48.297Z"
   },
   {
    "duration": 7,
    "start_time": "2022-04-14T18:14:56.145Z"
   },
   {
    "duration": 4,
    "start_time": "2022-04-14T18:15:43.528Z"
   },
   {
    "duration": 333,
    "start_time": "2022-04-14T18:20:38.672Z"
   },
   {
    "duration": 21,
    "start_time": "2022-04-14T18:20:49.385Z"
   },
   {
    "duration": 149,
    "start_time": "2022-04-14T18:22:27.968Z"
   },
   {
    "duration": 22,
    "start_time": "2022-04-14T18:23:08.299Z"
   },
   {
    "duration": 17,
    "start_time": "2022-04-14T18:23:33.640Z"
   },
   {
    "duration": 17,
    "start_time": "2022-04-14T18:23:44.452Z"
   },
   {
    "duration": 177,
    "start_time": "2022-04-14T18:23:53.080Z"
   },
   {
    "duration": 136,
    "start_time": "2022-04-14T18:23:55.200Z"
   },
   {
    "duration": 186,
    "start_time": "2022-04-14T18:24:12.279Z"
   },
   {
    "duration": 134,
    "start_time": "2022-04-14T18:24:13.976Z"
   },
   {
    "duration": 204,
    "start_time": "2022-04-14T18:24:37.683Z"
   },
   {
    "duration": 140,
    "start_time": "2022-04-14T18:24:40.759Z"
   },
   {
    "duration": 191,
    "start_time": "2022-04-14T18:25:07.616Z"
   },
   {
    "duration": 142,
    "start_time": "2022-04-14T18:25:09.271Z"
   },
   {
    "duration": 179,
    "start_time": "2022-04-14T18:26:04.928Z"
   },
   {
    "duration": 121,
    "start_time": "2022-04-14T18:26:06.419Z"
   },
   {
    "duration": 56,
    "start_time": "2022-04-14T18:32:39.515Z"
   },
   {
    "duration": 15,
    "start_time": "2022-04-14T18:33:18.251Z"
   },
   {
    "duration": 58,
    "start_time": "2022-04-14T18:33:42.803Z"
   },
   {
    "duration": 72,
    "start_time": "2022-04-14T18:34:28.691Z"
   },
   {
    "duration": 51,
    "start_time": "2022-04-14T18:35:07.228Z"
   },
   {
    "duration": 125,
    "start_time": "2022-04-14T18:35:08.835Z"
   },
   {
    "duration": 51,
    "start_time": "2022-04-14T18:35:11.183Z"
   },
   {
    "duration": 24,
    "start_time": "2022-04-14T18:36:29.355Z"
   },
   {
    "duration": 18,
    "start_time": "2022-04-14T19:27:59.054Z"
   },
   {
    "duration": 44,
    "start_time": "2022-04-14T19:27:59.582Z"
   },
   {
    "duration": 170,
    "start_time": "2022-04-14T19:28:02.436Z"
   },
   {
    "duration": 1145,
    "start_time": "2022-04-14T19:28:03.650Z"
   },
   {
    "duration": 1713,
    "start_time": "2022-04-14T19:28:04.884Z"
   },
   {
    "duration": 3,
    "start_time": "2022-04-14T19:28:09.846Z"
   },
   {
    "duration": 4,
    "start_time": "2022-04-14T19:28:10.482Z"
   },
   {
    "duration": 7,
    "start_time": "2022-04-14T19:28:11.006Z"
   },
   {
    "duration": 8,
    "start_time": "2022-04-14T19:28:15.958Z"
   },
   {
    "duration": 28222,
    "start_time": "2022-04-14T19:28:16.527Z"
   },
   {
    "duration": 5,
    "start_time": "2022-04-14T19:28:44.752Z"
   },
   {
    "duration": 6,
    "start_time": "2022-04-14T19:28:44.760Z"
   },
   {
    "duration": 8,
    "start_time": "2022-04-14T19:28:44.783Z"
   },
   {
    "duration": 6,
    "start_time": "2022-04-14T19:28:48.907Z"
   },
   {
    "duration": 106,
    "start_time": "2022-04-14T19:28:49.695Z"
   },
   {
    "duration": 4,
    "start_time": "2022-04-14T19:28:50.526Z"
   },
   {
    "duration": 5,
    "start_time": "2022-04-14T19:28:52.186Z"
   },
   {
    "duration": 671,
    "start_time": "2022-04-14T19:28:53.914Z"
   },
   {
    "duration": 684,
    "start_time": "2022-04-14T19:29:59.566Z"
   },
   {
    "duration": 114,
    "start_time": "2022-04-14T19:39:12.829Z"
   },
   {
    "duration": 4,
    "start_time": "2022-04-14T19:39:13.381Z"
   },
   {
    "duration": 4,
    "start_time": "2022-04-14T19:39:13.949Z"
   },
   {
    "duration": 684,
    "start_time": "2022-04-14T19:39:14.989Z"
   },
   {
    "duration": 110,
    "start_time": "2022-04-14T19:40:22.521Z"
   },
   {
    "duration": 4,
    "start_time": "2022-04-14T19:40:22.709Z"
   },
   {
    "duration": 4,
    "start_time": "2022-04-14T19:40:22.938Z"
   },
   {
    "duration": 654,
    "start_time": "2022-04-14T19:40:23.229Z"
   },
   {
    "duration": 112,
    "start_time": "2022-04-14T19:57:58.836Z"
   },
   {
    "duration": 34,
    "start_time": "2022-04-14T19:58:40.508Z"
   },
   {
    "duration": 4,
    "start_time": "2022-04-14T19:59:16.983Z"
   },
   {
    "duration": 5,
    "start_time": "2022-04-14T19:59:21.295Z"
   },
   {
    "duration": 616,
    "start_time": "2022-04-14T19:59:29.084Z"
   },
   {
    "duration": 675,
    "start_time": "2022-04-14T20:00:06.748Z"
   },
   {
    "duration": 12,
    "start_time": "2022-04-14T20:00:27.307Z"
   },
   {
    "duration": 7,
    "start_time": "2022-04-14T20:00:34.807Z"
   },
   {
    "duration": 48,
    "start_time": "2022-04-14T20:00:35.692Z"
   },
   {
    "duration": 4,
    "start_time": "2022-04-14T20:00:36.352Z"
   },
   {
    "duration": 4,
    "start_time": "2022-04-14T20:00:36.976Z"
   },
   {
    "duration": 27715,
    "start_time": "2022-04-14T20:00:38.088Z"
   },
   {
    "duration": 1940,
    "start_time": "2022-04-14T20:33:11.395Z"
   },
   {
    "duration": 1015,
    "start_time": "2022-04-14T20:33:13.337Z"
   },
   {
    "duration": 167,
    "start_time": "2022-04-14T20:33:14.355Z"
   },
   {
    "duration": 5,
    "start_time": "2022-04-14T20:33:14.525Z"
   },
   {
    "duration": 178,
    "start_time": "2022-04-14T20:33:14.532Z"
   },
   {
    "duration": 153,
    "start_time": "2022-04-14T20:33:14.712Z"
   },
   {
    "duration": 363,
    "start_time": "2022-04-14T20:33:14.867Z"
   },
   {
    "duration": 34,
    "start_time": "2022-04-14T20:33:15.232Z"
   },
   {
    "duration": 231,
    "start_time": "2022-04-14T20:33:15.268Z"
   },
   {
    "duration": 11919,
    "start_time": "2022-04-14T20:33:15.503Z"
   },
   {
    "duration": 79,
    "start_time": "2022-04-14T20:33:27.424Z"
   },
   {
    "duration": 12580,
    "start_time": "2022-04-14T20:33:27.505Z"
   },
   {
    "duration": 251,
    "start_time": "2022-04-14T20:33:40.088Z"
   },
   {
    "duration": 263,
    "start_time": "2022-04-14T20:33:40.341Z"
   },
   {
    "duration": 8,
    "start_time": "2022-04-14T20:33:40.607Z"
   },
   {
    "duration": 767,
    "start_time": "2022-04-14T20:33:40.617Z"
   },
   {
    "duration": 14,
    "start_time": "2022-04-14T20:33:41.387Z"
   },
   {
    "duration": 37,
    "start_time": "2022-04-14T20:33:41.404Z"
   },
   {
    "duration": 40,
    "start_time": "2022-04-14T20:33:41.444Z"
   },
   {
    "duration": 7,
    "start_time": "2022-04-14T20:33:41.485Z"
   },
   {
    "duration": 35,
    "start_time": "2022-04-14T20:33:41.495Z"
   },
   {
    "duration": 742,
    "start_time": "2022-04-14T20:33:41.532Z"
   },
   {
    "duration": 39,
    "start_time": "2022-04-14T20:33:42.276Z"
   },
   {
    "duration": 819,
    "start_time": "2022-04-14T20:33:42.318Z"
   },
   {
    "duration": 46,
    "start_time": "2022-04-14T20:33:43.140Z"
   },
   {
    "duration": 720,
    "start_time": "2022-04-14T20:33:43.188Z"
   },
   {
    "duration": 32,
    "start_time": "2022-04-14T20:33:43.910Z"
   },
   {
    "duration": 94,
    "start_time": "2022-04-14T20:33:43.948Z"
   },
   {
    "duration": 129,
    "start_time": "2022-04-14T20:33:44.044Z"
   },
   {
    "duration": 9,
    "start_time": "2022-04-14T20:33:44.176Z"
   },
   {
    "duration": 117,
    "start_time": "2022-04-14T20:33:44.187Z"
   },
   {
    "duration": 187,
    "start_time": "2022-04-14T20:33:44.306Z"
   },
   {
    "duration": 27,
    "start_time": "2022-04-14T20:33:44.496Z"
   },
   {
    "duration": 102,
    "start_time": "2022-04-14T20:33:44.525Z"
   },
   {
    "duration": 441,
    "start_time": "2022-04-14T20:33:44.629Z"
   },
   {
    "duration": 5815,
    "start_time": "2022-04-14T20:33:45.073Z"
   },
   {
    "duration": 6691,
    "start_time": "2022-04-14T20:33:50.891Z"
   },
   {
    "duration": 4,
    "start_time": "2022-04-14T20:33:57.586Z"
   },
   {
    "duration": 3,
    "start_time": "2022-04-14T20:33:57.683Z"
   },
   {
    "duration": 9,
    "start_time": "2022-04-14T20:33:57.688Z"
   },
   {
    "duration": 7,
    "start_time": "2022-04-14T20:33:57.700Z"
   },
   {
    "duration": 34759,
    "start_time": "2022-04-14T20:33:57.709Z"
   },
   {
    "duration": 0,
    "start_time": "2022-04-14T20:34:32.472Z"
   },
   {
    "duration": 0,
    "start_time": "2022-04-14T20:34:32.481Z"
   },
   {
    "duration": 0,
    "start_time": "2022-04-14T20:34:32.483Z"
   },
   {
    "duration": 0,
    "start_time": "2022-04-14T20:34:32.486Z"
   },
   {
    "duration": 0,
    "start_time": "2022-04-14T20:34:32.488Z"
   },
   {
    "duration": 0,
    "start_time": "2022-04-14T20:34:32.490Z"
   },
   {
    "duration": 0,
    "start_time": "2022-04-14T20:34:32.493Z"
   },
   {
    "duration": 1,
    "start_time": "2022-04-14T20:34:32.495Z"
   },
   {
    "duration": 0,
    "start_time": "2022-04-14T20:34:32.498Z"
   },
   {
    "duration": 0,
    "start_time": "2022-04-14T20:34:32.500Z"
   },
   {
    "duration": 0,
    "start_time": "2022-04-14T20:34:32.503Z"
   },
   {
    "duration": 0,
    "start_time": "2022-04-14T20:34:32.505Z"
   },
   {
    "duration": 0,
    "start_time": "2022-04-14T20:34:32.507Z"
   },
   {
    "duration": 0,
    "start_time": "2022-04-14T20:34:32.510Z"
   },
   {
    "duration": 0,
    "start_time": "2022-04-14T20:34:32.511Z"
   },
   {
    "duration": 0,
    "start_time": "2022-04-14T20:34:32.514Z"
   },
   {
    "duration": 0,
    "start_time": "2022-04-14T20:34:32.516Z"
   },
   {
    "duration": 0,
    "start_time": "2022-04-14T20:34:32.518Z"
   },
   {
    "duration": 2308,
    "start_time": "2022-04-14T20:36:41.291Z"
   },
   {
    "duration": 1045,
    "start_time": "2022-04-14T20:36:43.602Z"
   },
   {
    "duration": 175,
    "start_time": "2022-04-14T20:36:44.649Z"
   },
   {
    "duration": 5,
    "start_time": "2022-04-14T20:36:44.827Z"
   },
   {
    "duration": 179,
    "start_time": "2022-04-14T20:36:44.835Z"
   },
   {
    "duration": 172,
    "start_time": "2022-04-14T20:36:45.017Z"
   },
   {
    "duration": 420,
    "start_time": "2022-04-14T20:36:45.191Z"
   },
   {
    "duration": 39,
    "start_time": "2022-04-14T20:36:45.613Z"
   },
   {
    "duration": 247,
    "start_time": "2022-04-14T20:36:45.655Z"
   },
   {
    "duration": 14399,
    "start_time": "2022-04-14T20:36:45.906Z"
   },
   {
    "duration": 90,
    "start_time": "2022-04-14T20:37:00.307Z"
   },
   {
    "duration": 15638,
    "start_time": "2022-04-14T20:37:00.400Z"
   },
   {
    "duration": 357,
    "start_time": "2022-04-14T20:37:16.041Z"
   },
   {
    "duration": 404,
    "start_time": "2022-04-14T20:37:16.400Z"
   },
   {
    "duration": 8,
    "start_time": "2022-04-14T20:37:16.806Z"
   },
   {
    "duration": 817,
    "start_time": "2022-04-14T20:37:16.816Z"
   },
   {
    "duration": 16,
    "start_time": "2022-04-14T20:37:17.636Z"
   },
   {
    "duration": 63,
    "start_time": "2022-04-14T20:37:17.655Z"
   },
   {
    "duration": 10,
    "start_time": "2022-04-14T20:37:17.720Z"
   },
   {
    "duration": 9,
    "start_time": "2022-04-14T20:37:17.732Z"
   },
   {
    "duration": 73,
    "start_time": "2022-04-14T20:37:17.743Z"
   },
   {
    "duration": 744,
    "start_time": "2022-04-14T20:37:17.818Z"
   },
   {
    "duration": 45,
    "start_time": "2022-04-14T20:37:18.565Z"
   },
   {
    "duration": 856,
    "start_time": "2022-04-14T20:37:18.612Z"
   },
   {
    "duration": 44,
    "start_time": "2022-04-14T20:37:19.471Z"
   },
   {
    "duration": 868,
    "start_time": "2022-04-14T20:37:19.518Z"
   },
   {
    "duration": 34,
    "start_time": "2022-04-14T20:37:20.389Z"
   },
   {
    "duration": 101,
    "start_time": "2022-04-14T20:37:20.430Z"
   },
   {
    "duration": 132,
    "start_time": "2022-04-14T20:37:20.533Z"
   },
   {
    "duration": 4,
    "start_time": "2022-04-14T20:37:20.668Z"
   },
   {
    "duration": 122,
    "start_time": "2022-04-14T20:37:20.683Z"
   },
   {
    "duration": 190,
    "start_time": "2022-04-14T20:37:20.808Z"
   },
   {
    "duration": 34,
    "start_time": "2022-04-14T20:37:21.001Z"
   },
   {
    "duration": 106,
    "start_time": "2022-04-14T20:37:21.037Z"
   },
   {
    "duration": 426,
    "start_time": "2022-04-14T20:37:21.145Z"
   },
   {
    "duration": 5912,
    "start_time": "2022-04-14T20:37:21.574Z"
   },
   {
    "duration": 7928,
    "start_time": "2022-04-14T20:37:27.489Z"
   },
   {
    "duration": 4,
    "start_time": "2022-04-14T20:37:35.484Z"
   },
   {
    "duration": 98,
    "start_time": "2022-04-14T20:37:35.492Z"
   },
   {
    "duration": 10,
    "start_time": "2022-04-14T20:37:35.593Z"
   },
   {
    "duration": 8,
    "start_time": "2022-04-14T20:37:35.606Z"
   },
   {
    "duration": 48412,
    "start_time": "2022-04-14T20:37:35.616Z"
   },
   {
    "duration": 5,
    "start_time": "2022-04-14T20:38:24.030Z"
   },
   {
    "duration": 188,
    "start_time": "2022-04-14T20:38:24.038Z"
   },
   {
    "duration": 0,
    "start_time": "2022-04-14T20:38:24.228Z"
   },
   {
    "duration": 0,
    "start_time": "2022-04-14T20:38:24.230Z"
   },
   {
    "duration": 0,
    "start_time": "2022-04-14T20:38:24.233Z"
   },
   {
    "duration": 0,
    "start_time": "2022-04-14T20:38:24.235Z"
   },
   {
    "duration": 0,
    "start_time": "2022-04-14T20:38:24.238Z"
   },
   {
    "duration": 0,
    "start_time": "2022-04-14T20:38:24.240Z"
   },
   {
    "duration": 0,
    "start_time": "2022-04-14T20:38:24.242Z"
   },
   {
    "duration": 0,
    "start_time": "2022-04-14T20:38:24.244Z"
   },
   {
    "duration": 0,
    "start_time": "2022-04-14T20:38:24.246Z"
   },
   {
    "duration": 0,
    "start_time": "2022-04-14T20:38:24.248Z"
   },
   {
    "duration": 0,
    "start_time": "2022-04-14T20:38:24.281Z"
   },
   {
    "duration": 0,
    "start_time": "2022-04-14T20:38:24.284Z"
   },
   {
    "duration": 0,
    "start_time": "2022-04-14T20:38:24.285Z"
   },
   {
    "duration": 0,
    "start_time": "2022-04-14T20:38:24.287Z"
   },
   {
    "duration": 0,
    "start_time": "2022-04-14T20:38:24.288Z"
   },
   {
    "duration": 0,
    "start_time": "2022-04-14T20:38:24.290Z"
   },
   {
    "duration": 2038,
    "start_time": "2022-04-14T20:40:07.632Z"
   },
   {
    "duration": 1035,
    "start_time": "2022-04-14T20:40:09.673Z"
   },
   {
    "duration": 179,
    "start_time": "2022-04-14T20:40:10.710Z"
   },
   {
    "duration": 5,
    "start_time": "2022-04-14T20:40:10.893Z"
   },
   {
    "duration": 181,
    "start_time": "2022-04-14T20:40:10.900Z"
   },
   {
    "duration": 160,
    "start_time": "2022-04-14T20:40:11.084Z"
   },
   {
    "duration": 401,
    "start_time": "2022-04-14T20:40:11.246Z"
   },
   {
    "duration": 46,
    "start_time": "2022-04-14T20:40:11.650Z"
   },
   {
    "duration": 229,
    "start_time": "2022-04-14T20:40:11.698Z"
   },
   {
    "duration": 12177,
    "start_time": "2022-04-14T20:40:11.931Z"
   },
   {
    "duration": 91,
    "start_time": "2022-04-14T20:40:24.110Z"
   },
   {
    "duration": 13907,
    "start_time": "2022-04-14T20:40:24.203Z"
   },
   {
    "duration": 225,
    "start_time": "2022-04-14T20:40:38.112Z"
   },
   {
    "duration": 269,
    "start_time": "2022-04-14T20:40:38.340Z"
   },
   {
    "duration": 8,
    "start_time": "2022-04-14T20:40:38.611Z"
   },
   {
    "duration": 892,
    "start_time": "2022-04-14T20:40:38.622Z"
   },
   {
    "duration": 16,
    "start_time": "2022-04-14T20:40:39.516Z"
   },
   {
    "duration": 57,
    "start_time": "2022-04-14T20:40:39.534Z"
   },
   {
    "duration": 8,
    "start_time": "2022-04-14T20:40:39.593Z"
   },
   {
    "duration": 7,
    "start_time": "2022-04-14T20:40:39.603Z"
   },
   {
    "duration": 39,
    "start_time": "2022-04-14T20:40:39.612Z"
   },
   {
    "duration": 752,
    "start_time": "2022-04-14T20:40:39.653Z"
   },
   {
    "duration": 34,
    "start_time": "2022-04-14T20:40:40.408Z"
   },
   {
    "duration": 814,
    "start_time": "2022-04-14T20:40:40.444Z"
   },
   {
    "duration": 47,
    "start_time": "2022-04-14T20:40:41.261Z"
   },
   {
    "duration": 735,
    "start_time": "2022-04-14T20:40:41.310Z"
   },
   {
    "duration": 46,
    "start_time": "2022-04-14T20:40:42.048Z"
   },
   {
    "duration": 84,
    "start_time": "2022-04-14T20:40:42.101Z"
   },
   {
    "duration": 121,
    "start_time": "2022-04-14T20:40:42.189Z"
   },
   {
    "duration": 4,
    "start_time": "2022-04-14T20:40:42.312Z"
   },
   {
    "duration": 128,
    "start_time": "2022-04-14T20:40:42.318Z"
   },
   {
    "duration": 180,
    "start_time": "2022-04-14T20:40:42.448Z"
   },
   {
    "duration": 36,
    "start_time": "2022-04-14T20:40:42.630Z"
   },
   {
    "duration": 115,
    "start_time": "2022-04-14T20:40:42.668Z"
   },
   {
    "duration": 437,
    "start_time": "2022-04-14T20:40:42.785Z"
   },
   {
    "duration": 7366,
    "start_time": "2022-04-14T20:40:43.224Z"
   },
   {
    "duration": 6986,
    "start_time": "2022-04-14T20:40:50.597Z"
   },
   {
    "duration": 3,
    "start_time": "2022-04-14T20:40:57.588Z"
   },
   {
    "duration": 4,
    "start_time": "2022-04-14T20:40:57.683Z"
   },
   {
    "duration": 8,
    "start_time": "2022-04-14T20:40:57.689Z"
   },
   {
    "duration": 6,
    "start_time": "2022-04-14T20:40:57.699Z"
   },
   {
    "duration": 49077,
    "start_time": "2022-04-14T20:40:57.708Z"
   },
   {
    "duration": 4,
    "start_time": "2022-04-14T20:41:46.787Z"
   },
   {
    "duration": 9,
    "start_time": "2022-04-14T20:41:46.793Z"
   },
   {
    "duration": 11,
    "start_time": "2022-04-14T20:41:46.804Z"
   },
   {
    "duration": 169,
    "start_time": "2022-04-14T20:41:46.817Z"
   },
   {
    "duration": 4,
    "start_time": "2022-04-14T20:41:46.988Z"
   },
   {
    "duration": 35,
    "start_time": "2022-04-14T20:41:46.994Z"
   },
   {
    "duration": 4,
    "start_time": "2022-04-14T20:41:47.031Z"
   },
   {
    "duration": 1612,
    "start_time": "2022-04-15T01:27:16.620Z"
   },
   {
    "duration": 723,
    "start_time": "2022-04-15T01:27:18.233Z"
   },
   {
    "duration": 125,
    "start_time": "2022-04-15T01:27:18.957Z"
   },
   {
    "duration": 4,
    "start_time": "2022-04-15T01:27:19.084Z"
   },
   {
    "duration": 120,
    "start_time": "2022-04-15T01:27:19.099Z"
   },
   {
    "duration": 110,
    "start_time": "2022-04-15T01:27:19.220Z"
   },
   {
    "duration": 233,
    "start_time": "2022-04-15T01:27:19.332Z"
   },
   {
    "duration": 23,
    "start_time": "2022-04-15T01:27:19.567Z"
   },
   {
    "duration": 152,
    "start_time": "2022-04-15T01:27:19.591Z"
   },
   {
    "duration": 8173,
    "start_time": "2022-04-15T01:27:19.745Z"
   },
   {
    "duration": 63,
    "start_time": "2022-04-15T01:27:27.919Z"
   },
   {
    "duration": 8504,
    "start_time": "2022-04-15T01:27:27.984Z"
   },
   {
    "duration": 145,
    "start_time": "2022-04-15T01:27:36.489Z"
   },
   {
    "duration": 158,
    "start_time": "2022-04-15T01:27:36.636Z"
   },
   {
    "duration": 6,
    "start_time": "2022-04-15T01:27:36.796Z"
   },
   {
    "duration": 474,
    "start_time": "2022-04-15T01:27:36.803Z"
   },
   {
    "duration": 10,
    "start_time": "2022-04-15T01:27:37.278Z"
   },
   {
    "duration": 28,
    "start_time": "2022-04-15T01:27:37.289Z"
   },
   {
    "duration": 5,
    "start_time": "2022-04-15T01:27:37.318Z"
   },
   {
    "duration": 20,
    "start_time": "2022-04-15T01:27:37.324Z"
   },
   {
    "duration": 26,
    "start_time": "2022-04-15T01:27:37.346Z"
   },
   {
    "duration": 422,
    "start_time": "2022-04-15T01:27:37.374Z"
   },
   {
    "duration": 18,
    "start_time": "2022-04-15T01:27:37.799Z"
   },
   {
    "duration": 508,
    "start_time": "2022-04-15T01:27:37.819Z"
   },
   {
    "duration": 19,
    "start_time": "2022-04-15T01:27:38.328Z"
   },
   {
    "duration": 430,
    "start_time": "2022-04-15T01:27:38.348Z"
   },
   {
    "duration": 29,
    "start_time": "2022-04-15T01:27:38.779Z"
   },
   {
    "duration": 58,
    "start_time": "2022-04-15T01:27:38.812Z"
   },
   {
    "duration": 92,
    "start_time": "2022-04-15T01:27:38.872Z"
   },
   {
    "duration": 4,
    "start_time": "2022-04-15T01:27:38.965Z"
   },
   {
    "duration": 79,
    "start_time": "2022-04-15T01:27:38.971Z"
   },
   {
    "duration": 110,
    "start_time": "2022-04-15T01:27:39.052Z"
   },
   {
    "duration": 23,
    "start_time": "2022-04-15T01:27:39.164Z"
   },
   {
    "duration": 61,
    "start_time": "2022-04-15T01:27:39.188Z"
   },
   {
    "duration": 317,
    "start_time": "2022-04-15T01:27:39.250Z"
   },
   {
    "duration": 4436,
    "start_time": "2022-04-15T01:27:39.568Z"
   },
   {
    "duration": 5215,
    "start_time": "2022-04-15T01:27:44.007Z"
   },
   {
    "duration": 4,
    "start_time": "2022-04-15T01:27:49.301Z"
   },
   {
    "duration": 106,
    "start_time": "2022-04-15T01:27:49.306Z"
   },
   {
    "duration": 6,
    "start_time": "2022-04-15T01:27:49.414Z"
   },
   {
    "duration": 9,
    "start_time": "2022-04-15T01:27:49.422Z"
   },
   {
    "duration": 38189,
    "start_time": "2022-04-15T01:27:49.432Z"
   },
   {
    "duration": 3,
    "start_time": "2022-04-15T01:28:27.623Z"
   },
   {
    "duration": 6,
    "start_time": "2022-04-15T01:28:27.627Z"
   },
   {
    "duration": 5,
    "start_time": "2022-04-15T01:28:27.634Z"
   },
   {
    "duration": 99,
    "start_time": "2022-04-15T01:28:27.640Z"
   },
   {
    "duration": 3,
    "start_time": "2022-04-15T01:28:27.741Z"
   },
   {
    "duration": 22,
    "start_time": "2022-04-15T01:28:27.745Z"
   },
   {
    "duration": 2,
    "start_time": "2022-04-15T01:28:27.769Z"
   },
   {
    "duration": 186931,
    "start_time": "2022-04-15T01:28:27.773Z"
   },
   {
    "duration": 3,
    "start_time": "2022-04-15T01:31:34.706Z"
   },
   {
    "duration": 12,
    "start_time": "2022-04-15T01:31:34.711Z"
   },
   {
    "duration": 76,
    "start_time": "2022-04-15T01:31:34.724Z"
   },
   {
    "duration": 3,
    "start_time": "2022-04-15T01:31:34.802Z"
   },
   {
    "duration": 19942,
    "start_time": "2022-04-15T01:31:34.806Z"
   },
   {
    "duration": 0,
    "start_time": "2022-04-15T01:31:54.750Z"
   },
   {
    "duration": 0,
    "start_time": "2022-04-15T01:31:54.752Z"
   },
   {
    "duration": 0,
    "start_time": "2022-04-15T01:31:54.753Z"
   },
   {
    "duration": 0,
    "start_time": "2022-04-15T01:31:54.754Z"
   },
   {
    "duration": 0,
    "start_time": "2022-04-15T01:31:54.755Z"
   },
   {
    "duration": 3,
    "start_time": "2022-04-15T01:35:26.351Z"
   },
   {
    "duration": 3,
    "start_time": "2022-04-15T01:36:29.887Z"
   },
   {
    "duration": 3,
    "start_time": "2022-04-15T01:36:30.495Z"
   },
   {
    "duration": 3,
    "start_time": "2022-04-15T01:36:31.223Z"
   },
   {
    "duration": 20593,
    "start_time": "2022-04-15T01:36:32.359Z"
   },
   {
    "duration": 1409,
    "start_time": "2022-04-15T01:38:29.034Z"
   },
   {
    "duration": 801,
    "start_time": "2022-04-15T01:38:30.445Z"
   },
   {
    "duration": 124,
    "start_time": "2022-04-15T01:38:31.248Z"
   },
   {
    "duration": 13,
    "start_time": "2022-04-15T01:38:31.374Z"
   },
   {
    "duration": 124,
    "start_time": "2022-04-15T01:38:31.389Z"
   },
   {
    "duration": 107,
    "start_time": "2022-04-15T01:38:31.514Z"
   },
   {
    "duration": 238,
    "start_time": "2022-04-15T01:38:31.623Z"
   },
   {
    "duration": 25,
    "start_time": "2022-04-15T01:38:31.863Z"
   },
   {
    "duration": 159,
    "start_time": "2022-04-15T01:38:31.889Z"
   },
   {
    "duration": 8070,
    "start_time": "2022-04-15T01:38:32.051Z"
   },
   {
    "duration": 46,
    "start_time": "2022-04-15T01:38:40.123Z"
   },
   {
    "duration": 7013,
    "start_time": "2022-04-15T01:38:40.171Z"
   },
   {
    "duration": 146,
    "start_time": "2022-04-15T01:38:47.185Z"
   },
   {
    "duration": 163,
    "start_time": "2022-04-15T01:38:47.333Z"
   },
   {
    "duration": 5,
    "start_time": "2022-04-15T01:38:47.498Z"
   },
   {
    "duration": 486,
    "start_time": "2022-04-15T01:38:47.504Z"
   },
   {
    "duration": 14,
    "start_time": "2022-04-15T01:38:47.992Z"
   },
   {
    "duration": 21,
    "start_time": "2022-04-15T01:38:48.007Z"
   },
   {
    "duration": 5,
    "start_time": "2022-04-15T01:38:48.030Z"
   },
   {
    "duration": 4,
    "start_time": "2022-04-15T01:38:48.037Z"
   },
   {
    "duration": 21,
    "start_time": "2022-04-15T01:38:48.042Z"
   },
   {
    "duration": 436,
    "start_time": "2022-04-15T01:38:48.064Z"
   },
   {
    "duration": 18,
    "start_time": "2022-04-15T01:38:48.501Z"
   },
   {
    "duration": 507,
    "start_time": "2022-04-15T01:38:48.521Z"
   },
   {
    "duration": 18,
    "start_time": "2022-04-15T01:38:49.030Z"
   },
   {
    "duration": 424,
    "start_time": "2022-04-15T01:38:49.049Z"
   },
   {
    "duration": 17,
    "start_time": "2022-04-15T01:38:49.474Z"
   },
   {
    "duration": 60,
    "start_time": "2022-04-15T01:38:49.503Z"
   },
   {
    "duration": 91,
    "start_time": "2022-04-15T01:38:49.564Z"
   },
   {
    "duration": 74,
    "start_time": "2022-04-15T01:38:49.656Z"
   },
   {
    "duration": 120,
    "start_time": "2022-04-15T01:38:49.731Z"
   },
   {
    "duration": 23,
    "start_time": "2022-04-15T01:38:49.852Z"
   },
   {
    "duration": 64,
    "start_time": "2022-04-15T01:38:49.877Z"
   },
   {
    "duration": 314,
    "start_time": "2022-04-15T01:38:49.943Z"
   },
   {
    "duration": 4245,
    "start_time": "2022-04-15T01:38:50.259Z"
   },
   {
    "duration": 5118,
    "start_time": "2022-04-15T01:38:54.508Z"
   },
   {
    "duration": 94,
    "start_time": "2022-04-15T01:38:59.705Z"
   },
   {
    "duration": 13,
    "start_time": "2022-04-15T01:38:59.802Z"
   },
   {
    "duration": 13,
    "start_time": "2022-04-15T01:38:59.816Z"
   },
   {
    "duration": 18,
    "start_time": "2022-04-15T01:38:59.830Z"
   },
   {
    "duration": 36149,
    "start_time": "2022-04-15T01:38:59.850Z"
   },
   {
    "duration": 3,
    "start_time": "2022-04-15T01:39:36.000Z"
   },
   {
    "duration": 6,
    "start_time": "2022-04-15T01:39:36.005Z"
   },
   {
    "duration": 6,
    "start_time": "2022-04-15T01:39:36.012Z"
   },
   {
    "duration": 107,
    "start_time": "2022-04-15T01:39:36.020Z"
   },
   {
    "duration": 3,
    "start_time": "2022-04-15T01:39:36.128Z"
   },
   {
    "duration": 21,
    "start_time": "2022-04-15T01:39:36.133Z"
   },
   {
    "duration": 4,
    "start_time": "2022-04-15T01:39:36.155Z"
   },
   {
    "duration": 189652,
    "start_time": "2022-04-15T01:39:36.160Z"
   },
   {
    "duration": 3,
    "start_time": "2022-04-15T01:42:45.814Z"
   },
   {
    "duration": 9,
    "start_time": "2022-04-15T01:42:45.818Z"
   },
   {
    "duration": 99,
    "start_time": "2022-04-15T01:42:45.829Z"
   },
   {
    "duration": 3,
    "start_time": "2022-04-15T01:42:45.929Z"
   },
   {
    "duration": 6,
    "start_time": "2022-04-15T01:42:45.933Z"
   },
   {
    "duration": 5,
    "start_time": "2022-04-15T01:42:45.940Z"
   },
   {
    "duration": 331561,
    "start_time": "2022-04-15T01:42:45.946Z"
   },
   {
    "duration": 3,
    "start_time": "2022-04-15T01:48:17.509Z"
   },
   {
    "duration": 7,
    "start_time": "2022-04-15T01:48:17.513Z"
   },
   {
    "duration": 162,
    "start_time": "2022-04-15T01:48:17.522Z"
   },
   {
    "duration": 0,
    "start_time": "2022-04-15T01:48:17.686Z"
   },
   {
    "duration": 0,
    "start_time": "2022-04-15T01:48:17.687Z"
   },
   {
    "duration": 161,
    "start_time": "2022-04-15T01:50:08.370Z"
   },
   {
    "duration": 14,
    "start_time": "2022-04-15T01:50:32.234Z"
   },
   {
    "duration": 101,
    "start_time": "2022-04-15T01:50:45.390Z"
   },
   {
    "duration": 15684,
    "start_time": "2022-04-15T01:51:07.630Z"
   },
   {
    "duration": 11729,
    "start_time": "2022-04-15T01:55:17.090Z"
   },
   {
    "duration": 5,
    "start_time": "2022-04-15T01:55:28.821Z"
   },
   {
    "duration": 1457,
    "start_time": "2022-04-15T02:02:41.868Z"
   },
   {
    "duration": 732,
    "start_time": "2022-04-15T02:02:43.327Z"
   },
   {
    "duration": 124,
    "start_time": "2022-04-15T02:02:44.060Z"
   },
   {
    "duration": 3,
    "start_time": "2022-04-15T02:02:44.186Z"
   },
   {
    "duration": 124,
    "start_time": "2022-04-15T02:02:44.200Z"
   },
   {
    "duration": 102,
    "start_time": "2022-04-15T02:02:44.325Z"
   },
   {
    "duration": 271,
    "start_time": "2022-04-15T02:02:44.429Z"
   },
   {
    "duration": 25,
    "start_time": "2022-04-15T02:02:44.702Z"
   },
   {
    "duration": 155,
    "start_time": "2022-04-15T02:02:44.729Z"
   },
   {
    "duration": 8113,
    "start_time": "2022-04-15T02:02:44.887Z"
   },
   {
    "duration": 47,
    "start_time": "2022-04-15T02:02:53.002Z"
   },
   {
    "duration": 7163,
    "start_time": "2022-04-15T02:02:53.051Z"
   },
   {
    "duration": 151,
    "start_time": "2022-04-15T02:03:00.216Z"
   },
   {
    "duration": 164,
    "start_time": "2022-04-15T02:03:00.369Z"
   },
   {
    "duration": 5,
    "start_time": "2022-04-15T02:03:00.535Z"
   },
   {
    "duration": 475,
    "start_time": "2022-04-15T02:03:00.542Z"
   },
   {
    "duration": 11,
    "start_time": "2022-04-15T02:03:01.019Z"
   },
   {
    "duration": 29,
    "start_time": "2022-04-15T02:03:01.031Z"
   },
   {
    "duration": 5,
    "start_time": "2022-04-15T02:03:01.062Z"
   },
   {
    "duration": 12,
    "start_time": "2022-04-15T02:03:01.069Z"
   },
   {
    "duration": 34,
    "start_time": "2022-04-15T02:03:01.082Z"
   },
   {
    "duration": 435,
    "start_time": "2022-04-15T02:03:01.118Z"
   },
   {
    "duration": 18,
    "start_time": "2022-04-15T02:03:01.555Z"
   },
   {
    "duration": 532,
    "start_time": "2022-04-15T02:03:01.575Z"
   },
   {
    "duration": 18,
    "start_time": "2022-04-15T02:03:02.109Z"
   },
   {
    "duration": 427,
    "start_time": "2022-04-15T02:03:02.129Z"
   },
   {
    "duration": 16,
    "start_time": "2022-04-15T02:03:02.558Z"
   },
   {
    "duration": 70,
    "start_time": "2022-04-15T02:03:02.578Z"
   },
   {
    "duration": 111,
    "start_time": "2022-04-15T02:03:02.649Z"
   },
   {
    "duration": 73,
    "start_time": "2022-04-15T02:03:02.761Z"
   },
   {
    "duration": 120,
    "start_time": "2022-04-15T02:03:02.835Z"
   },
   {
    "duration": 27,
    "start_time": "2022-04-15T02:03:02.957Z"
   },
   {
    "duration": 60,
    "start_time": "2022-04-15T02:03:02.986Z"
   },
   {
    "duration": 320,
    "start_time": "2022-04-15T02:03:03.047Z"
   },
   {
    "duration": 4337,
    "start_time": "2022-04-15T02:03:03.368Z"
   },
   {
    "duration": 5419,
    "start_time": "2022-04-15T02:03:07.708Z"
   },
   {
    "duration": 3,
    "start_time": "2022-04-15T02:03:13.201Z"
   },
   {
    "duration": 100,
    "start_time": "2022-04-15T02:03:13.206Z"
   },
   {
    "duration": 10,
    "start_time": "2022-04-15T02:03:13.307Z"
   },
   {
    "duration": 7,
    "start_time": "2022-04-15T02:03:13.318Z"
   },
   {
    "duration": 34612,
    "start_time": "2022-04-15T02:03:13.326Z"
   },
   {
    "duration": 3,
    "start_time": "2022-04-15T02:03:47.940Z"
   },
   {
    "duration": 6,
    "start_time": "2022-04-15T02:03:47.944Z"
   },
   {
    "duration": 7,
    "start_time": "2022-04-15T02:03:47.952Z"
   },
   {
    "duration": 117,
    "start_time": "2022-04-15T02:03:47.961Z"
   },
   {
    "duration": 3,
    "start_time": "2022-04-15T02:03:48.080Z"
   },
   {
    "duration": 31,
    "start_time": "2022-04-15T02:03:48.084Z"
   },
   {
    "duration": 3,
    "start_time": "2022-04-15T02:03:48.116Z"
   },
   {
    "duration": 185683,
    "start_time": "2022-04-15T02:03:48.120Z"
   },
   {
    "duration": 3,
    "start_time": "2022-04-15T02:06:53.804Z"
   },
   {
    "duration": 9,
    "start_time": "2022-04-15T02:06:53.809Z"
   },
   {
    "duration": 31,
    "start_time": "2022-04-15T02:06:53.819Z"
   },
   {
    "duration": 2,
    "start_time": "2022-04-15T02:06:53.852Z"
   },
   {
    "duration": 335188,
    "start_time": "2022-04-15T02:06:53.900Z"
   },
   {
    "duration": 3,
    "start_time": "2022-04-15T02:12:29.089Z"
   },
   {
    "duration": 10,
    "start_time": "2022-04-15T02:12:29.094Z"
   },
   {
    "duration": 13,
    "start_time": "2022-04-15T02:12:29.105Z"
   },
   {
    "duration": 11594,
    "start_time": "2022-04-15T02:12:29.120Z"
   },
   {
    "duration": 4,
    "start_time": "2022-04-15T02:12:40.716Z"
   },
   {
    "duration": 206,
    "start_time": "2022-04-15T07:12:06.192Z"
   },
   {
    "duration": 165,
    "start_time": "2022-04-15T07:12:36.673Z"
   },
   {
    "duration": 76,
    "start_time": "2022-04-15T09:32:41.757Z"
   },
   {
    "duration": 98,
    "start_time": "2022-04-16T09:23:58.010Z"
   },
   {
    "duration": 2162,
    "start_time": "2022-04-16T09:27:55.784Z"
   },
   {
    "duration": 2992,
    "start_time": "2022-04-16T09:27:57.949Z"
   },
   {
    "duration": 173,
    "start_time": "2022-04-16T09:28:00.943Z"
   },
   {
    "duration": 5,
    "start_time": "2022-04-16T09:28:01.119Z"
   },
   {
    "duration": 178,
    "start_time": "2022-04-16T09:28:01.127Z"
   },
   {
    "duration": 174,
    "start_time": "2022-04-16T09:28:01.308Z"
   },
   {
    "duration": 409,
    "start_time": "2022-04-16T09:28:01.484Z"
   },
   {
    "duration": 37,
    "start_time": "2022-04-16T09:28:01.895Z"
   },
   {
    "duration": 240,
    "start_time": "2022-04-16T09:28:01.934Z"
   },
   {
    "duration": 12653,
    "start_time": "2022-04-16T09:28:02.178Z"
   },
   {
    "duration": 78,
    "start_time": "2022-04-16T09:28:14.833Z"
   },
   {
    "duration": 13168,
    "start_time": "2022-04-16T09:28:14.914Z"
   },
   {
    "duration": 251,
    "start_time": "2022-04-16T09:28:28.084Z"
   },
   {
    "duration": 288,
    "start_time": "2022-04-16T09:28:28.338Z"
   },
   {
    "duration": 8,
    "start_time": "2022-04-16T09:28:28.629Z"
   },
   {
    "duration": 815,
    "start_time": "2022-04-16T09:28:28.640Z"
   },
   {
    "duration": 15,
    "start_time": "2022-04-16T09:28:29.457Z"
   },
   {
    "duration": 37,
    "start_time": "2022-04-16T09:28:29.475Z"
   },
   {
    "duration": 37,
    "start_time": "2022-04-16T09:28:29.515Z"
   },
   {
    "duration": 8,
    "start_time": "2022-04-16T09:28:29.554Z"
   },
   {
    "duration": 37,
    "start_time": "2022-04-16T09:28:29.564Z"
   },
   {
    "duration": 750,
    "start_time": "2022-04-16T09:28:29.604Z"
   },
   {
    "duration": 36,
    "start_time": "2022-04-16T09:28:30.356Z"
   },
   {
    "duration": 870,
    "start_time": "2022-04-16T09:28:30.394Z"
   },
   {
    "duration": 35,
    "start_time": "2022-04-16T09:28:31.266Z"
   },
   {
    "duration": 975,
    "start_time": "2022-04-16T09:28:31.303Z"
   },
   {
    "duration": 33,
    "start_time": "2022-04-16T09:28:32.280Z"
   },
   {
    "duration": 96,
    "start_time": "2022-04-16T09:28:32.318Z"
   },
   {
    "duration": 124,
    "start_time": "2022-04-16T09:28:32.416Z"
   },
   {
    "duration": 122,
    "start_time": "2022-04-16T09:28:32.543Z"
   },
   {
    "duration": 193,
    "start_time": "2022-04-16T09:28:32.667Z"
   },
   {
    "duration": 27,
    "start_time": "2022-04-16T09:28:32.862Z"
   },
   {
    "duration": 98,
    "start_time": "2022-04-16T09:28:32.891Z"
   },
   {
    "duration": 433,
    "start_time": "2022-04-16T09:28:32.991Z"
   },
   {
    "duration": 5635,
    "start_time": "2022-04-16T09:28:33.426Z"
   },
   {
    "duration": 6328,
    "start_time": "2022-04-16T09:28:39.064Z"
   },
   {
    "duration": 97,
    "start_time": "2022-04-16T09:28:45.455Z"
   },
   {
    "duration": 6,
    "start_time": "2022-04-16T09:28:45.555Z"
   },
   {
    "duration": 48229,
    "start_time": "2022-04-16T09:28:45.563Z"
   },
   {
    "duration": 6,
    "start_time": "2022-04-16T09:29:33.794Z"
   },
   {
    "duration": 8,
    "start_time": "2022-04-16T09:29:33.802Z"
   },
   {
    "duration": 20,
    "start_time": "2022-04-16T09:29:33.813Z"
   },
   {
    "duration": 192,
    "start_time": "2022-04-16T09:29:33.852Z"
   },
   {
    "duration": 5,
    "start_time": "2022-04-16T09:29:34.047Z"
   },
   {
    "duration": 41,
    "start_time": "2022-04-16T09:29:34.054Z"
   },
   {
    "duration": 4,
    "start_time": "2022-04-16T09:29:34.098Z"
   },
   {
    "duration": 358052,
    "start_time": "2022-04-16T09:29:34.104Z"
   },
   {
    "duration": 4,
    "start_time": "2022-04-16T09:35:32.159Z"
   },
   {
    "duration": 8,
    "start_time": "2022-04-16T09:35:32.165Z"
   },
   {
    "duration": 105,
    "start_time": "2022-04-16T09:35:32.175Z"
   },
   {
    "duration": 5,
    "start_time": "2022-04-16T09:35:32.282Z"
   },
   {
    "duration": 725828,
    "start_time": "2022-04-16T09:35:32.289Z"
   },
   {
    "duration": 5,
    "start_time": "2022-04-16T09:47:38.119Z"
   },
   {
    "duration": 13,
    "start_time": "2022-04-16T09:47:38.126Z"
   },
   {
    "duration": 22,
    "start_time": "2022-04-16T09:47:38.142Z"
   },
   {
    "duration": 21599,
    "start_time": "2022-04-16T09:47:38.167Z"
   },
   {
    "duration": 7,
    "start_time": "2022-04-16T09:47:59.768Z"
   }
  ],
  "colab": {
   "name": "project 11  (1).ipynb",
   "provenance": []
  },
  "kernelspec": {
   "display_name": "Python 3 (ipykernel)",
   "language": "python",
   "name": "python3"
  },
  "language_info": {
   "codemirror_mode": {
    "name": "ipython",
    "version": 3
   },
   "file_extension": ".py",
   "mimetype": "text/x-python",
   "name": "python",
   "nbconvert_exporter": "python",
   "pygments_lexer": "ipython3",
   "version": "3.9.5"
  },
  "toc": {
   "base_numbering": 1,
   "nav_menu": {},
   "number_sections": true,
   "sideBar": true,
   "skip_h1_title": true,
   "title_cell": "Table of Contents",
   "title_sidebar": "Contents",
   "toc_cell": false,
   "toc_position": {},
   "toc_section_display": true,
   "toc_window_display": false
  }
 },
 "nbformat": 4,
 "nbformat_minor": 1
}
